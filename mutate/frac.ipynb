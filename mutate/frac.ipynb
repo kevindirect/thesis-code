{
 "cells": [
  {
   "cell_type": "markdown",
   "metadata": {},
   "source": [
    "# frac\n",
    "fractional differentiation"
   ]
  },
  {
   "cell_type": "code",
   "execution_count": 3,
   "metadata": {},
   "outputs": [],
   "source": [
    "import sys\n",
    "import os\n",
    "from os import sep\n",
    "from os.path import dirname, realpath\n",
    "from pathlib import Path\n",
    "import logging\n",
    "logging.basicConfig(stream=sys.stdout, level=logging.DEBUG)\n",
    "\n",
    "def get_cwd(fname, subdir, crunch_dir=realpath(Path.home()) +sep +'crunch' +sep):\n",
    "    \"\"\"\n",
    "    Convenience function to make a directory string for the current file based on inputs.\n",
    "    Jupyter Notebook in Anaconda invokes the Python interpreter in Anaconda's subdirectory\n",
    "    which is why changing sys.argv[0] is necessary. In the future a better way to do this\n",
    "    should be preferred..\n",
    "    \"\"\"\n",
    "    return crunch_dir +subdir +fname\n",
    "    \n",
    "def fix_path(cwd):\n",
    "    \"\"\"\n",
    "    Convenience function to fix argv and python path so that jupyter notebook can run the same as\n",
    "    any script in crunch.\n",
    "    \"\"\"\n",
    "    sys.argv[0] = cwd\n",
    "    module_path = os.path.abspath(os.path.join('..'))\n",
    "    if module_path not in sys.path:\n",
    "        sys.path.append(module_path)\n",
    "\n",
    "fix_path(get_cwd('test.ipynb', 'recon' +sep))\n",
    "\n",
    "import numpy as np\n",
    "import pandas as pd\n",
    "import matplotlib.pyplot as plt\n",
    "from numba import jit, vectorize\n",
    "from dask import delayed, dataframe as dd\n",
    "\n",
    "from ipywidgets import interact, interactive, fixed\n",
    "from IPython.display import display\n",
    "\n",
    "pd.set_option(\"display.max_rows\", 100)\n",
    "pd.set_option('display.max_columns', 50)\n",
    "\n",
    "from common_util import query_df, search_df, chained_filter, list_get_dict, benchmark\n",
    "from data.data_api import DataAPI\n",
    "from data.access_util import df_getters as dg, col_subsetters as cs, col_subsetters2 as cs2\n",
    "from mutate.common import dum\n",
    "from mutate.fracdiff import *\n",
    "from mutate.runt_util import *"
   ]
  },
  {
   "cell_type": "markdown",
   "metadata": {},
   "source": [
    "### Load Data"
   ]
  },
  {
   "cell_type": "code",
   "execution_count": 2,
   "metadata": {},
   "outputs": [
    {
     "name": "stdout",
     "output_type": "stream",
     "text": [
      "INFO:root:data load : 92.5 seconds\n",
      "dow_jones_raw_0, sp_500_raw_1, nasdaq_100_raw_2, russell_2000_raw_3\n"
     ]
    }
   ],
   "source": [
    "logging.basicConfig(stream=sys.stdout, level=logging.INFO)\n",
    "\n",
    "search_terms = {\n",
    "    'stage': 'raw',\n",
    "    'raw_cat': 'us_equity_index'\n",
    "}\n",
    "date_range = {\n",
    "    'id': ('lt', 2018)\n",
    "}\n",
    "dfs = {}\n",
    "with benchmark('data load') as b:\n",
    "    for rec, df in DataAPI.generate(search_terms):\n",
    "        dfs[rec.name] = df.loc[search_df(df, date_range)]\n",
    "\n",
    "print(', '.join(dfs.keys()))"
   ]
  },
  {
   "cell_type": "code",
   "execution_count": 3,
   "metadata": {},
   "outputs": [],
   "source": [
    "df = dfs['sp_500_raw_1']"
   ]
  },
  {
   "cell_type": "code",
   "execution_count": 8,
   "metadata": {},
   "outputs": [],
   "source": [
    "pba_cols = chained_filter(df.columns, [cs['#pba']['ohlc']])\n",
    "vol_cols = chained_filter(df.columns, [cs['#vol']['ohlc']])\n",
    "trmi_v3_cols = chained_filter(df.columns, [cs['#trmi']['all']])\n",
    "pba_vol_df = df.loc[:, pba_cols + vol_cols]"
   ]
  },
  {
   "cell_type": "code",
   "execution_count": 9,
   "metadata": {},
   "outputs": [],
   "source": [
    "df_trmi = df[trmi_v3_cols]"
   ]
  },
  {
   "cell_type": "code",
   "execution_count": 11,
   "metadata": {},
   "outputs": [
    {
     "name": "stdout",
     "output_type": "stream",
     "text": [
      "etf_v2_buzz_N\n",
      "etf_v2_relativeBuzz_N\n",
      "etf_v2_sentiment_N\n",
      "etf_v2_optimism_N\n",
      "etf_v2_fear_N\n",
      "etf_v2_joy_N\n",
      "etf_v2_trust_N\n",
      "etf_v2_violence_N\n",
      "etf_v2_conflict_N\n",
      "etf_v2_gloom_N\n",
      "etf_v2_stress_N\n",
      "etf_v2_timeUrgency_N\n",
      "etf_v2_uncertainty_N\n",
      "etf_v2_emotionVsFact_N\n",
      "etf_v2_longShort_N\n",
      "etf_v2_longShortForecast_N\n",
      "etf_v2_priceDirection_N\n",
      "etf_v2_priceForecast_N\n",
      "etf_v2_volatility_N\n",
      "etf_v2_loveHate_N\n",
      "etf_v2_anger_N\n",
      "etf_v2_debtDefault_N\n",
      "etf_v2_innovation_N\n",
      "etf_v2_marketRisk_N\n",
      "etf_v2_analystRating_N\n",
      "etf_v2_dividends_N\n",
      "etf_v2_earningsForecast_N\n",
      "etf_v2_fundamentalStrength_N\n",
      "etf_v2_layoffs_N\n",
      "etf_v2_litigation_N\n",
      "etf_v2_managementChange_N\n",
      "etf_v2_managementTrust_N\n",
      "etf_v2_mergers_N\n",
      "etf_v2_buzz_S\n",
      "etf_v2_relativeBuzz_S\n",
      "etf_v2_sentiment_S\n",
      "etf_v2_optimism_S\n",
      "etf_v2_fear_S\n",
      "etf_v2_joy_S\n",
      "etf_v2_trust_S\n",
      "etf_v2_violence_S\n",
      "etf_v2_conflict_S\n",
      "etf_v2_gloom_S\n",
      "etf_v2_stress_S\n",
      "etf_v2_timeUrgency_S\n",
      "etf_v2_uncertainty_S\n",
      "etf_v2_emotionVsFact_S\n",
      "etf_v2_longShort_S\n",
      "etf_v2_longShortForecast_S\n",
      "etf_v2_priceDirection_S\n",
      "etf_v2_priceForecast_S\n",
      "etf_v2_volatility_S\n",
      "etf_v2_loveHate_S\n",
      "etf_v2_anger_S\n",
      "etf_v2_debtDefault_S\n",
      "etf_v2_innovation_S\n",
      "etf_v2_marketRisk_S\n",
      "etf_v2_analystRating_S\n",
      "etf_v2_dividends_S\n",
      "etf_v2_earningsForecast_S\n",
      "etf_v2_fundamentalStrength_S\n",
      "etf_v2_layoffs_S\n",
      "etf_v2_litigation_S\n",
      "etf_v2_managementChange_S\n",
      "etf_v2_managementTrust_S\n",
      "etf_v2_mergers_S\n",
      "etf_v2_buzz\n",
      "etf_v2_relativeBuzz\n",
      "etf_v2_sentiment\n",
      "etf_v2_optimism\n",
      "etf_v2_fear\n",
      "etf_v2_joy\n",
      "etf_v2_trust\n",
      "etf_v2_violence\n",
      "etf_v2_conflict\n",
      "etf_v2_gloom\n",
      "etf_v2_stress\n",
      "etf_v2_timeUrgency\n",
      "etf_v2_uncertainty\n",
      "etf_v2_emotionVsFact\n",
      "etf_v2_longShort\n",
      "etf_v2_longShortForecast\n",
      "etf_v2_priceDirection\n",
      "etf_v2_priceForecast\n",
      "etf_v2_volatility\n",
      "etf_v2_loveHate\n",
      "etf_v2_anger\n",
      "etf_v2_debtDefault\n",
      "etf_v2_innovation\n",
      "etf_v2_marketRisk\n",
      "etf_v2_analystRating\n",
      "etf_v2_dividends\n",
      "etf_v2_earningsForecast\n",
      "etf_v2_fundamentalStrength\n",
      "etf_v2_layoffs\n",
      "etf_v2_litigation\n",
      "etf_v2_managementChange\n",
      "etf_v2_managementTrust\n",
      "etf_v2_mergers\n",
      "mkt_v3_stockIndexBuzz_N\n",
      "mkt_v3_bondBuzz_N\n",
      "mkt_v3_ratesBuzz_N\n",
      "mkt_v3_stockIndexSentiment_N\n",
      "mkt_v3_stockIndexOptimism_N\n",
      "mkt_v3_stockIndexTrust_N\n",
      "mkt_v3_stockIndexFear_N\n",
      "mkt_v3_stockIndexStress_N\n",
      "mkt_v3_stockIndexSurprise_N\n",
      "mkt_v3_stockIndexUncertainty_N\n",
      "mkt_v3_stockIndexMarketRisk_N\n",
      "mkt_v3_stockIndexPriceDirection_N\n",
      "mkt_v3_stockIndexPriceForecast_N\n",
      "mkt_v3_stockIndexVolatility_N\n",
      "mkt_v3_bondSentiment_N\n",
      "mkt_v3_bondOptimism_N\n",
      "mkt_v3_bondTrust_N\n",
      "mkt_v3_bondFear_N\n",
      "mkt_v3_bondStress_N\n",
      "mkt_v3_bondSurprise_N\n",
      "mkt_v3_bondUncertainty_N\n",
      "mkt_v3_bondDefault_N\n",
      "mkt_v3_bondPriceDirection_N\n",
      "mkt_v3_bondPriceForecast_N\n",
      "mkt_v3_bondVolatility_N\n",
      "mkt_v3_centralBank_N\n",
      "mkt_v3_debtDefault_N\n",
      "mkt_v3_interestRates_N\n",
      "mkt_v3_interestRatesForecast_N\n",
      "mkt_v3_monetaryPolicyLooseVsTight_N\n",
      "mkt_v3_stockIndexBuzz_S\n",
      "mkt_v3_bondBuzz_S\n",
      "mkt_v3_ratesBuzz_S\n",
      "mkt_v3_stockIndexSentiment_S\n",
      "mkt_v3_stockIndexOptimism_S\n",
      "mkt_v3_stockIndexTrust_S\n",
      "mkt_v3_stockIndexFear_S\n",
      "mkt_v3_stockIndexStress_S\n",
      "mkt_v3_stockIndexSurprise_S\n",
      "mkt_v3_stockIndexUncertainty_S\n",
      "mkt_v3_stockIndexMarketRisk_S\n",
      "mkt_v3_stockIndexPriceDirection_S\n",
      "mkt_v3_stockIndexPriceForecast_S\n",
      "mkt_v3_stockIndexVolatility_S\n",
      "mkt_v3_bondSentiment_S\n",
      "mkt_v3_bondOptimism_S\n",
      "mkt_v3_bondTrust_S\n",
      "mkt_v3_bondFear_S\n",
      "mkt_v3_bondStress_S\n",
      "mkt_v3_bondSurprise_S\n",
      "mkt_v3_bondUncertainty_S\n",
      "mkt_v3_bondDefault_S\n",
      "mkt_v3_bondPriceDirection_S\n",
      "mkt_v3_bondPriceForecast_S\n",
      "mkt_v3_bondVolatility_S\n",
      "mkt_v3_centralBank_S\n",
      "mkt_v3_debtDefault_S\n",
      "mkt_v3_interestRates_S\n",
      "mkt_v3_interestRatesForecast_S\n",
      "mkt_v3_monetaryPolicyLooseVsTight_S\n",
      "mkt_v3_stockIndexBuzz\n",
      "mkt_v3_bondBuzz\n",
      "mkt_v3_ratesBuzz\n",
      "mkt_v3_stockIndexSentiment\n",
      "mkt_v3_stockIndexOptimism\n",
      "mkt_v3_stockIndexTrust\n",
      "mkt_v3_stockIndexFear\n",
      "mkt_v3_stockIndexStress\n",
      "mkt_v3_stockIndexSurprise\n",
      "mkt_v3_stockIndexUncertainty\n",
      "mkt_v3_stockIndexMarketRisk\n",
      "mkt_v3_stockIndexPriceDirection\n",
      "mkt_v3_stockIndexPriceForecast\n",
      "mkt_v3_stockIndexVolatility\n",
      "mkt_v3_bondSentiment\n",
      "mkt_v3_bondOptimism\n",
      "mkt_v3_bondTrust\n",
      "mkt_v3_bondFear\n",
      "mkt_v3_bondStress\n",
      "mkt_v3_bondSurprise\n",
      "mkt_v3_bondUncertainty\n",
      "mkt_v3_bondDefault\n",
      "mkt_v3_bondPriceDirection\n",
      "mkt_v3_bondPriceForecast\n",
      "mkt_v3_bondVolatility\n",
      "mkt_v3_centralBank\n",
      "mkt_v3_debtDefault\n",
      "mkt_v3_interestRates\n",
      "mkt_v3_interestRatesForecast\n",
      "mkt_v3_monetaryPolicyLooseVsTight\n",
      "etf_v3_buzz_N\n",
      "etf_v3_sentiment_N\n",
      "etf_v3_optimism_N\n",
      "etf_v3_joy_N\n",
      "etf_v3_loveHate_N\n",
      "etf_v3_trust_N\n",
      "etf_v3_anger_N\n",
      "etf_v3_conflict_N\n",
      "etf_v3_fear_N\n",
      "etf_v3_gloom_N\n",
      "etf_v3_stress_N\n",
      "etf_v3_surprise_N\n",
      "etf_v3_timeUrgency_N\n",
      "etf_v3_uncertainty_N\n",
      "etf_v3_violence_N\n",
      "etf_v3_emotionVsFact_N\n",
      "etf_v3_marketRisk_N\n",
      "etf_v3_longShort_N\n",
      "etf_v3_longShortForecast_N\n",
      "etf_v3_priceDirection_N\n",
      "etf_v3_priceForecast_N\n",
      "etf_v3_volatility_N\n",
      "etf_v3_analystRating_N\n",
      "etf_v3_debtDefault_N\n",
      "etf_v3_dividends_N\n",
      "etf_v3_innovation_N\n",
      "etf_v3_earningsForecast_N\n",
      "etf_v3_fundamentalStrength_N\n",
      "etf_v3_laborDispute_N\n",
      "etf_v3_layoffs_N\n",
      "etf_v3_litigation_N\n",
      "etf_v3_managementChange_N\n",
      "etf_v3_managementTrust_N\n",
      "etf_v3_mergers_N\n",
      "etf_v3_cyberCrime_N\n",
      "etf_v3_buzz_S\n",
      "etf_v3_sentiment_S\n",
      "etf_v3_optimism_S\n",
      "etf_v3_joy_S\n",
      "etf_v3_loveHate_S\n",
      "etf_v3_trust_S\n",
      "etf_v3_anger_S\n",
      "etf_v3_conflict_S\n",
      "etf_v3_fear_S\n",
      "etf_v3_gloom_S\n",
      "etf_v3_stress_S\n",
      "etf_v3_surprise_S\n",
      "etf_v3_timeUrgency_S\n",
      "etf_v3_uncertainty_S\n",
      "etf_v3_violence_S\n",
      "etf_v3_emotionVsFact_S\n",
      "etf_v3_marketRisk_S\n",
      "etf_v3_longShort_S\n",
      "etf_v3_longShortForecast_S\n",
      "etf_v3_priceDirection_S\n",
      "etf_v3_priceForecast_S\n",
      "etf_v3_volatility_S\n",
      "etf_v3_analystRating_S\n",
      "etf_v3_debtDefault_S\n",
      "etf_v3_dividends_S\n",
      "etf_v3_innovation_S\n",
      "etf_v3_earningsForecast_S\n",
      "etf_v3_fundamentalStrength_S\n",
      "etf_v3_laborDispute_S\n",
      "etf_v3_layoffs_S\n",
      "etf_v3_litigation_S\n",
      "etf_v3_managementChange_S\n",
      "etf_v3_managementTrust_S\n",
      "etf_v3_mergers_S\n",
      "etf_v3_cyberCrime_S\n",
      "etf_v3_buzz\n",
      "etf_v3_sentiment\n",
      "etf_v3_optimism\n",
      "etf_v3_joy\n",
      "etf_v3_loveHate\n",
      "etf_v3_trust\n",
      "etf_v3_anger\n",
      "etf_v3_conflict\n",
      "etf_v3_fear\n",
      "etf_v3_gloom\n",
      "etf_v3_stress\n",
      "etf_v3_surprise\n",
      "etf_v3_timeUrgency\n",
      "etf_v3_uncertainty\n",
      "etf_v3_violence\n",
      "etf_v3_emotionVsFact\n",
      "etf_v3_marketRisk\n",
      "etf_v3_longShort\n",
      "etf_v3_longShortForecast\n",
      "etf_v3_priceDirection\n",
      "etf_v3_priceForecast\n",
      "etf_v3_volatility\n",
      "etf_v3_analystRating\n",
      "etf_v3_debtDefault\n",
      "etf_v3_dividends\n",
      "etf_v3_innovation\n",
      "etf_v3_earningsForecast\n",
      "etf_v3_fundamentalStrength\n",
      "etf_v3_laborDispute\n",
      "etf_v3_layoffs\n",
      "etf_v3_litigation\n",
      "etf_v3_managementChange\n",
      "etf_v3_managementTrust\n",
      "etf_v3_mergers\n",
      "etf_v3_cyberCrime\n"
     ]
    }
   ],
   "source": [
    "for col in df_trmi.columns:\n",
    "    print(col)"
   ]
  },
  {
   "cell_type": "code",
   "execution_count": 28,
   "metadata": {},
   "outputs": [],
   "source": [
    "pba_close_d = pba_vol_df[['pba_close']].resample('B').last()\n",
    "si_buzz = df[['mkt_v3_stockIndexBuzz_N']].resample('BH')"
   ]
  },
  {
   "cell_type": "code",
   "execution_count": 18,
   "metadata": {},
   "outputs": [],
   "source": [
    "si_buzz = df[['mkt_v3_stockIndexBuzz_N']]"
   ]
  },
  {
   "cell_type": "code",
   "execution_count": 21,
   "metadata": {},
   "outputs": [
    {
     "name": "stderr",
     "output_type": "stream",
     "text": [
      "/home/kevin/crunch/recon/test.ipynb:1: SettingWithCopyWarning: \n",
      "A value is trying to be set on a copy of a slice from a DataFrame.\n",
      "Try using .loc[row_indexer,col_indexer] = value instead\n",
      "\n",
      "See the caveats in the documentation: http://pandas.pydata.org/pandas-docs/stable/indexing.html#indexing-view-versus-copy\n"
     ]
    }
   ],
   "source": [
    "si_buzz['diffed'] = si_buzz['mkt_v3_stockIndexBuzz_N'].diff(1)"
   ]
  },
  {
   "cell_type": "code",
   "execution_count": 23,
   "metadata": {},
   "outputs": [
    {
     "name": "stdout",
     "output_type": "stream",
     "text": [
      "INFO:root:finished computing weights\n",
      "DEBUG:root:[[1.]]\n"
     ]
    },
    {
     "ename": "KeyboardInterrupt",
     "evalue": "",
     "output_type": "error",
     "traceback": [
      "\u001b[0;31m---------------------------------------------------------------------------\u001b[0m",
      "\u001b[0;31mKeyError\u001b[0m                                  Traceback (most recent call last)",
      "\u001b[0;32mpandas/_libs/index.pyx\u001b[0m in \u001b[0;36mpandas._libs.index.DatetimeEngine.get_loc\u001b[0;34m()\u001b[0m\n",
      "\u001b[0;32mpandas/_libs/hashtable_class_helper.pxi\u001b[0m in \u001b[0;36mpandas._libs.hashtable.Int64HashTable.get_item\u001b[0;34m()\u001b[0m\n",
      "\u001b[0;32mpandas/_libs/hashtable_class_helper.pxi\u001b[0m in \u001b[0;36mpandas._libs.hashtable.Int64HashTable.get_item\u001b[0;34m()\u001b[0m\n",
      "\u001b[0;31mKeyError\u001b[0m: 1283684400000000000",
      "\nDuring handling of the above exception, another exception occurred:\n",
      "\u001b[0;31mKeyError\u001b[0m                                  Traceback (most recent call last)",
      "\u001b[0;32m/opt/anaconda/lib/python3.6/site-packages/pandas/core/series.py\u001b[0m in \u001b[0;36m_set_with_engine\u001b[0;34m(self, key, value)\u001b[0m\n\u001b[1;32m    799\u001b[0m         \u001b[0;32mtry\u001b[0m\u001b[0;34m:\u001b[0m\u001b[0;34m\u001b[0m\u001b[0m\n\u001b[0;32m--> 800\u001b[0;31m             \u001b[0mself\u001b[0m\u001b[0;34m.\u001b[0m\u001b[0mindex\u001b[0m\u001b[0;34m.\u001b[0m\u001b[0m_engine\u001b[0m\u001b[0;34m.\u001b[0m\u001b[0mset_value\u001b[0m\u001b[0;34m(\u001b[0m\u001b[0mvalues\u001b[0m\u001b[0;34m,\u001b[0m \u001b[0mkey\u001b[0m\u001b[0;34m,\u001b[0m \u001b[0mvalue\u001b[0m\u001b[0;34m)\u001b[0m\u001b[0;34m\u001b[0m\u001b[0m\n\u001b[0m\u001b[1;32m    801\u001b[0m             \u001b[0;32mreturn\u001b[0m\u001b[0;34m\u001b[0m\u001b[0m\n",
      "\u001b[0;32mpandas/_libs/index.pyx\u001b[0m in \u001b[0;36mpandas._libs.index.IndexEngine.set_value\u001b[0;34m()\u001b[0m\n",
      "\u001b[0;32mpandas/_libs/index.pyx\u001b[0m in \u001b[0;36mpandas._libs.index.IndexEngine.set_value\u001b[0;34m()\u001b[0m\n",
      "\u001b[0;32mpandas/_libs/index.pyx\u001b[0m in \u001b[0;36mpandas._libs.index.DatetimeEngine.get_loc\u001b[0;34m()\u001b[0m\n",
      "\u001b[0;31mKeyError\u001b[0m: Timestamp('2010-09-05 11:00:00+0000', tz='UTC', freq='H')",
      "\nDuring handling of the above exception, another exception occurred:\n",
      "\u001b[0;31mKeyboardInterrupt\u001b[0m                         Traceback (most recent call last)",
      "\u001b[0;32m<ipython-input-23-c712b7019552>\u001b[0m in \u001b[0;36m<module>\u001b[0;34m()\u001b[0m\n\u001b[0;32m----> 1\u001b[0;31m \u001b[0mplot_min_FFD_ser\u001b[0m\u001b[0;34m(\u001b[0m\u001b[0msi_buzz\u001b[0m\u001b[0;34m[\u001b[0m\u001b[0;34m[\u001b[0m\u001b[0;34m'mkt_v3_stockIndexBuzz_N'\u001b[0m\u001b[0;34m]\u001b[0m\u001b[0;34m]\u001b[0m\u001b[0;34m,\u001b[0m \u001b[0;34m'mkt_v3_stockIndexBuzz_N'\u001b[0m\u001b[0;34m,\u001b[0m \u001b[0mthresh\u001b[0m\u001b[0;34m=\u001b[0m\u001b[0;36m.01\u001b[0m\u001b[0;34m)\u001b[0m\u001b[0;34m\u001b[0m\u001b[0m\n\u001b[0m",
      "\u001b[0;32m~/crunch/mutate/fracdiff.py\u001b[0m in \u001b[0;36mplot_min_FFD_ser\u001b[0;34m(raw_df, ser_name, num_d, thresh)\u001b[0m\n\u001b[1;32m    203\u001b[0m \u001b[0;34m\u001b[0m\u001b[0m\n\u001b[1;32m    204\u001b[0m         \u001b[0;32mfor\u001b[0m \u001b[0md\u001b[0m \u001b[0;32min\u001b[0m \u001b[0mnp\u001b[0m\u001b[0;34m.\u001b[0m\u001b[0mlinspace\u001b[0m\u001b[0;34m(\u001b[0m\u001b[0;36m0\u001b[0m\u001b[0;34m,\u001b[0m \u001b[0;36m1\u001b[0m\u001b[0;34m,\u001b[0m \u001b[0mnum_d\u001b[0m\u001b[0;34m)\u001b[0m\u001b[0;34m:\u001b[0m\u001b[0;34m\u001b[0m\u001b[0m\n\u001b[0;32m--> 205\u001b[0;31m                 \u001b[0mdiff\u001b[0m \u001b[0;34m=\u001b[0m \u001b[0mfracDiff_FFD\u001b[0m\u001b[0;34m(\u001b[0m\u001b[0mraw_df\u001b[0m\u001b[0;34m[\u001b[0m\u001b[0;34m[\u001b[0m\u001b[0mser_name\u001b[0m\u001b[0;34m]\u001b[0m\u001b[0;34m]\u001b[0m\u001b[0;34m,\u001b[0m \u001b[0md\u001b[0m\u001b[0;34m,\u001b[0m \u001b[0mthresh\u001b[0m\u001b[0;34m=\u001b[0m\u001b[0mthresh\u001b[0m\u001b[0;34m)\u001b[0m\u001b[0;34m\u001b[0m\u001b[0m\n\u001b[0m\u001b[1;32m    206\u001b[0m                 \u001b[0mcorr\u001b[0m \u001b[0;34m=\u001b[0m \u001b[0mnp\u001b[0m\u001b[0;34m.\u001b[0m\u001b[0mcorrcoef\u001b[0m\u001b[0;34m(\u001b[0m\u001b[0mraw_df\u001b[0m\u001b[0;34m.\u001b[0m\u001b[0mloc\u001b[0m\u001b[0;34m[\u001b[0m\u001b[0mdiff\u001b[0m\u001b[0;34m.\u001b[0m\u001b[0mindex\u001b[0m\u001b[0;34m,\u001b[0m \u001b[0mser_name\u001b[0m\u001b[0;34m]\u001b[0m\u001b[0;34m,\u001b[0m \u001b[0mdiff\u001b[0m\u001b[0;34m[\u001b[0m\u001b[0mser_name\u001b[0m\u001b[0;34m]\u001b[0m\u001b[0;34m)\u001b[0m\u001b[0;34m[\u001b[0m\u001b[0;36m0\u001b[0m\u001b[0;34m,\u001b[0m \u001b[0;36m1\u001b[0m\u001b[0;34m]\u001b[0m\u001b[0;34m\u001b[0m\u001b[0m\n\u001b[1;32m    207\u001b[0m                 \u001b[0mdiff\u001b[0m \u001b[0;34m=\u001b[0m \u001b[0madfuller\u001b[0m\u001b[0;34m(\u001b[0m\u001b[0mdiff\u001b[0m\u001b[0;34m[\u001b[0m\u001b[0mser_name\u001b[0m\u001b[0;34m]\u001b[0m\u001b[0;34m,\u001b[0m \u001b[0mmaxlag\u001b[0m\u001b[0;34m=\u001b[0m\u001b[0;36m1\u001b[0m\u001b[0;34m,\u001b[0m \u001b[0mregression\u001b[0m\u001b[0;34m=\u001b[0m\u001b[0;34m'c'\u001b[0m\u001b[0;34m,\u001b[0m \u001b[0mautolag\u001b[0m\u001b[0;34m=\u001b[0m\u001b[0;32mNone\u001b[0m\u001b[0;34m)\u001b[0m\u001b[0;34m\u001b[0m\u001b[0m\n",
      "\u001b[0;32m~/crunch/mutate/fracdiff.py\u001b[0m in \u001b[0;36mfracDiff_FFD\u001b[0;34m(raw_df, d, thresh)\u001b[0m\n\u001b[1;32m    149\u001b[0m                                 \u001b[0;32mcontinue\u001b[0m \u001b[0;31m# Exclude NAs\u001b[0m\u001b[0;34m\u001b[0m\u001b[0m\n\u001b[1;32m    150\u001b[0m \u001b[0;34m\u001b[0m\u001b[0m\n\u001b[0;32m--> 151\u001b[0;31m                         \u001b[0mdf_\u001b[0m\u001b[0;34m[\u001b[0m\u001b[0mloc1\u001b[0m\u001b[0;34m]\u001b[0m \u001b[0;34m=\u001b[0m \u001b[0mnp\u001b[0m\u001b[0;34m.\u001b[0m\u001b[0mdot\u001b[0m\u001b[0;34m(\u001b[0m\u001b[0mw\u001b[0m\u001b[0;34m.\u001b[0m\u001b[0mT\u001b[0m\u001b[0;34m,\u001b[0m \u001b[0mseriesF\u001b[0m\u001b[0;34m.\u001b[0m\u001b[0mloc\u001b[0m\u001b[0;34m[\u001b[0m\u001b[0mloc0\u001b[0m\u001b[0;34m:\u001b[0m\u001b[0mloc1\u001b[0m\u001b[0;34m]\u001b[0m\u001b[0;34m)\u001b[0m\u001b[0;34m[\u001b[0m\u001b[0;36m0\u001b[0m\u001b[0;34m,\u001b[0m \u001b[0;36m0\u001b[0m\u001b[0;34m]\u001b[0m\u001b[0;34m\u001b[0m\u001b[0m\n\u001b[0m\u001b[1;32m    152\u001b[0m                 \u001b[0mdf\u001b[0m\u001b[0;34m[\u001b[0m\u001b[0mname\u001b[0m\u001b[0;34m]\u001b[0m \u001b[0;34m=\u001b[0m \u001b[0mdf_\u001b[0m\u001b[0;34m.\u001b[0m\u001b[0mcopy\u001b[0m\u001b[0;34m(\u001b[0m\u001b[0mdeep\u001b[0m\u001b[0;34m=\u001b[0m\u001b[0;32mTrue\u001b[0m\u001b[0;34m)\u001b[0m\u001b[0;34m\u001b[0m\u001b[0m\n\u001b[1;32m    153\u001b[0m         \u001b[0mdf\u001b[0m \u001b[0;34m=\u001b[0m \u001b[0mpd\u001b[0m\u001b[0;34m.\u001b[0m\u001b[0mconcat\u001b[0m\u001b[0;34m(\u001b[0m\u001b[0mdf\u001b[0m\u001b[0;34m,\u001b[0m \u001b[0maxis\u001b[0m\u001b[0;34m=\u001b[0m\u001b[0;36m1\u001b[0m\u001b[0;34m)\u001b[0m\u001b[0;34m\u001b[0m\u001b[0m\n",
      "\u001b[0;32m/opt/anaconda/lib/python3.6/site-packages/pandas/core/series.py\u001b[0m in \u001b[0;36m__setitem__\u001b[0;34m(self, key, value)\u001b[0m\n\u001b[1;32m    791\u001b[0m         \u001b[0;31m# do the setitem\u001b[0m\u001b[0;34m\u001b[0m\u001b[0;34m\u001b[0m\u001b[0m\n\u001b[1;32m    792\u001b[0m         \u001b[0mcacher_needs_updating\u001b[0m \u001b[0;34m=\u001b[0m \u001b[0mself\u001b[0m\u001b[0;34m.\u001b[0m\u001b[0m_check_is_chained_assignment_possible\u001b[0m\u001b[0;34m(\u001b[0m\u001b[0;34m)\u001b[0m\u001b[0;34m\u001b[0m\u001b[0m\n\u001b[0;32m--> 793\u001b[0;31m         \u001b[0msetitem\u001b[0m\u001b[0;34m(\u001b[0m\u001b[0mkey\u001b[0m\u001b[0;34m,\u001b[0m \u001b[0mvalue\u001b[0m\u001b[0;34m)\u001b[0m\u001b[0;34m\u001b[0m\u001b[0m\n\u001b[0m\u001b[1;32m    794\u001b[0m         \u001b[0;32mif\u001b[0m \u001b[0mcacher_needs_updating\u001b[0m\u001b[0;34m:\u001b[0m\u001b[0;34m\u001b[0m\u001b[0m\n\u001b[1;32m    795\u001b[0m             \u001b[0mself\u001b[0m\u001b[0;34m.\u001b[0m\u001b[0m_maybe_update_cacher\u001b[0m\u001b[0;34m(\u001b[0m\u001b[0;34m)\u001b[0m\u001b[0;34m\u001b[0m\u001b[0m\n",
      "\u001b[0;32m/opt/anaconda/lib/python3.6/site-packages/pandas/core/series.py\u001b[0m in \u001b[0;36msetitem\u001b[0;34m(key, value)\u001b[0m\n\u001b[1;32m    739\u001b[0m         \u001b[0;32mdef\u001b[0m \u001b[0msetitem\u001b[0m\u001b[0;34m(\u001b[0m\u001b[0mkey\u001b[0m\u001b[0;34m,\u001b[0m \u001b[0mvalue\u001b[0m\u001b[0;34m)\u001b[0m\u001b[0;34m:\u001b[0m\u001b[0;34m\u001b[0m\u001b[0m\n\u001b[1;32m    740\u001b[0m             \u001b[0;32mtry\u001b[0m\u001b[0;34m:\u001b[0m\u001b[0;34m\u001b[0m\u001b[0m\n\u001b[0;32m--> 741\u001b[0;31m                 \u001b[0mself\u001b[0m\u001b[0;34m.\u001b[0m\u001b[0m_set_with_engine\u001b[0m\u001b[0;34m(\u001b[0m\u001b[0mkey\u001b[0m\u001b[0;34m,\u001b[0m \u001b[0mvalue\u001b[0m\u001b[0;34m)\u001b[0m\u001b[0;34m\u001b[0m\u001b[0m\n\u001b[0m\u001b[1;32m    742\u001b[0m                 \u001b[0;32mreturn\u001b[0m\u001b[0;34m\u001b[0m\u001b[0m\n\u001b[1;32m    743\u001b[0m             \u001b[0;32mexcept\u001b[0m \u001b[0;34m(\u001b[0m\u001b[0mSettingWithCopyError\u001b[0m\u001b[0;34m)\u001b[0m\u001b[0;34m:\u001b[0m\u001b[0;34m\u001b[0m\u001b[0m\n",
      "\u001b[0;32m/opt/anaconda/lib/python3.6/site-packages/pandas/core/series.py\u001b[0m in \u001b[0;36m_set_with_engine\u001b[0;34m(self, key, value)\u001b[0m\n\u001b[1;32m    798\u001b[0m         \u001b[0mvalues\u001b[0m \u001b[0;34m=\u001b[0m \u001b[0mself\u001b[0m\u001b[0;34m.\u001b[0m\u001b[0m_values\u001b[0m\u001b[0;34m\u001b[0m\u001b[0m\n\u001b[1;32m    799\u001b[0m         \u001b[0;32mtry\u001b[0m\u001b[0;34m:\u001b[0m\u001b[0;34m\u001b[0m\u001b[0m\n\u001b[0;32m--> 800\u001b[0;31m             \u001b[0mself\u001b[0m\u001b[0;34m.\u001b[0m\u001b[0mindex\u001b[0m\u001b[0;34m.\u001b[0m\u001b[0m_engine\u001b[0m\u001b[0;34m.\u001b[0m\u001b[0mset_value\u001b[0m\u001b[0;34m(\u001b[0m\u001b[0mvalues\u001b[0m\u001b[0;34m,\u001b[0m \u001b[0mkey\u001b[0m\u001b[0;34m,\u001b[0m \u001b[0mvalue\u001b[0m\u001b[0;34m)\u001b[0m\u001b[0;34m\u001b[0m\u001b[0m\n\u001b[0m\u001b[1;32m    801\u001b[0m             \u001b[0;32mreturn\u001b[0m\u001b[0;34m\u001b[0m\u001b[0m\n\u001b[1;32m    802\u001b[0m         \u001b[0;32mexcept\u001b[0m \u001b[0mKeyError\u001b[0m\u001b[0;34m:\u001b[0m\u001b[0;34m\u001b[0m\u001b[0m\n",
      "\u001b[0;31mKeyboardInterrupt\u001b[0m: "
     ]
    }
   ],
   "source": [
    "plot_min_FFD_ser(si_buzz[['mkt_v3_stockIndexBuzz_N']], 'mkt_v3_stockIndexBuzz_N', thresh=.01)"
   ]
  },
  {
   "cell_type": "code",
   "execution_count": 12,
   "metadata": {},
   "outputs": [
    {
     "name": "stdout",
     "output_type": "stream",
     "text": [
      "INFO:root:finished computing weights\n",
      "DEBUG:root:[[1.]]\n",
      "INFO:root:finished computing weights\n",
      "DEBUG:root:[[ 1.     -0.1    -0.045  -0.0285]]\n",
      "INFO:root:finished computing weights\n",
      "DEBUG:root:[[ 1.    -0.2   -0.08  -0.048]]\n",
      "INFO:root:finished computing weights\n",
      "DEBUG:root:[[ 1.     -0.3    -0.105  -0.0595]]\n",
      "INFO:root:finished computing weights\n",
      "DEBUG:root:[[ 1.    -0.4   -0.12  -0.064]]\n",
      "INFO:root:finished computing weights\n",
      "DEBUG:root:[[ 1.     -0.5    -0.125  -0.0625]]\n",
      "INFO:root:finished computing weights\n",
      "DEBUG:root:[[ 1.    -0.6   -0.12  -0.056]]\n",
      "INFO:root:finished computing weights\n",
      "DEBUG:root:[[ 1.     -0.7    -0.105  -0.0455]]\n",
      "INFO:root:finished computing weights\n",
      "DEBUG:root:[[ 1.    -0.8   -0.08  -0.032]]\n",
      "INFO:root:finished computing weights\n",
      "DEBUG:root:[[ 1.     -0.9    -0.045  -0.0165]]\n",
      "INFO:root:finished computing weights\n",
      "DEBUG:root:[[ 1. -1.]]\n"
     ]
    },
    {
     "data": {
      "text/html": [
       "<div>\n",
       "<style scoped>\n",
       "    .dataframe tbody tr th:only-of-type {\n",
       "        vertical-align: middle;\n",
       "    }\n",
       "\n",
       "    .dataframe tbody tr th {\n",
       "        vertical-align: top;\n",
       "    }\n",
       "\n",
       "    .dataframe thead th {\n",
       "        text-align: right;\n",
       "    }\n",
       "</style>\n",
       "<table border=\"1\" class=\"dataframe\">\n",
       "  <thead>\n",
       "    <tr style=\"text-align: right;\">\n",
       "      <th></th>\n",
       "      <th>adf_stat</th>\n",
       "      <th>p_val</th>\n",
       "      <th>lags</th>\n",
       "      <th>n_obs</th>\n",
       "      <th>95%_conf</th>\n",
       "      <th>corr_coeff</th>\n",
       "    </tr>\n",
       "  </thead>\n",
       "  <tbody>\n",
       "    <tr>\n",
       "      <th>0.0</th>\n",
       "      <td>0.052069</td>\n",
       "      <td>9.626321e-01</td>\n",
       "      <td>1.0</td>\n",
       "      <td>39848.0</td>\n",
       "      <td>-2.861613</td>\n",
       "      <td>1.000000</td>\n",
       "    </tr>\n",
       "    <tr>\n",
       "      <th>0.1</th>\n",
       "      <td>-0.684123</td>\n",
       "      <td>8.508194e-01</td>\n",
       "      <td>1.0</td>\n",
       "      <td>39841.0</td>\n",
       "      <td>-2.861613</td>\n",
       "      <td>0.999976</td>\n",
       "    </tr>\n",
       "    <tr>\n",
       "      <th>0.2</th>\n",
       "      <td>-1.890615</td>\n",
       "      <td>3.364890e-01</td>\n",
       "      <td>1.0</td>\n",
       "      <td>39840.0</td>\n",
       "      <td>-2.861613</td>\n",
       "      <td>0.999806</td>\n",
       "    </tr>\n",
       "    <tr>\n",
       "      <th>0.3</th>\n",
       "      <td>-3.440507</td>\n",
       "      <td>9.653117e-03</td>\n",
       "      <td>1.0</td>\n",
       "      <td>39840.0</td>\n",
       "      <td>-2.861613</td>\n",
       "      <td>0.999288</td>\n",
       "    </tr>\n",
       "    <tr>\n",
       "      <th>0.4</th>\n",
       "      <td>-5.271619</td>\n",
       "      <td>6.267651e-06</td>\n",
       "      <td>1.0</td>\n",
       "      <td>39840.0</td>\n",
       "      <td>-2.861613</td>\n",
       "      <td>0.998226</td>\n",
       "    </tr>\n",
       "    <tr>\n",
       "      <th>0.5</th>\n",
       "      <td>-7.812242</td>\n",
       "      <td>7.019505e-12</td>\n",
       "      <td>1.0</td>\n",
       "      <td>39840.0</td>\n",
       "      <td>-2.861613</td>\n",
       "      <td>0.995917</td>\n",
       "    </tr>\n",
       "    <tr>\n",
       "      <th>0.6</th>\n",
       "      <td>-11.554980</td>\n",
       "      <td>3.376052e-21</td>\n",
       "      <td>1.0</td>\n",
       "      <td>39840.0</td>\n",
       "      <td>-2.861613</td>\n",
       "      <td>0.990746</td>\n",
       "    </tr>\n",
       "    <tr>\n",
       "      <th>0.7</th>\n",
       "      <td>-15.728324</td>\n",
       "      <td>1.298596e-28</td>\n",
       "      <td>1.0</td>\n",
       "      <td>39842.0</td>\n",
       "      <td>-2.861613</td>\n",
       "      <td>0.982652</td>\n",
       "    </tr>\n",
       "    <tr>\n",
       "      <th>0.8</th>\n",
       "      <td>-24.854994</td>\n",
       "      <td>0.000000e+00</td>\n",
       "      <td>1.0</td>\n",
       "      <td>39843.0</td>\n",
       "      <td>-2.861613</td>\n",
       "      <td>0.956347</td>\n",
       "    </tr>\n",
       "    <tr>\n",
       "      <th>0.9</th>\n",
       "      <td>-37.657513</td>\n",
       "      <td>0.000000e+00</td>\n",
       "      <td>1.0</td>\n",
       "      <td>39845.0</td>\n",
       "      <td>-2.861613</td>\n",
       "      <td>0.903403</td>\n",
       "    </tr>\n",
       "    <tr>\n",
       "      <th>1.0</th>\n",
       "      <td>-179.260627</td>\n",
       "      <td>0.000000e+00</td>\n",
       "      <td>1.0</td>\n",
       "      <td>39847.0</td>\n",
       "      <td>-2.861613</td>\n",
       "      <td>0.014827</td>\n",
       "    </tr>\n",
       "  </tbody>\n",
       "</table>\n",
       "</div>"
      ],
      "text/plain": [
       "       adf_stat         p_val  lags    n_obs  95%_conf  corr_coeff\n",
       "0.0    0.052069  9.626321e-01   1.0  39848.0 -2.861613    1.000000\n",
       "0.1   -0.684123  8.508194e-01   1.0  39841.0 -2.861613    0.999976\n",
       "0.2   -1.890615  3.364890e-01   1.0  39840.0 -2.861613    0.999806\n",
       "0.3   -3.440507  9.653117e-03   1.0  39840.0 -2.861613    0.999288\n",
       "0.4   -5.271619  6.267651e-06   1.0  39840.0 -2.861613    0.998226\n",
       "0.5   -7.812242  7.019505e-12   1.0  39840.0 -2.861613    0.995917\n",
       "0.6  -11.554980  3.376052e-21   1.0  39840.0 -2.861613    0.990746\n",
       "0.7  -15.728324  1.298596e-28   1.0  39842.0 -2.861613    0.982652\n",
       "0.8  -24.854994  0.000000e+00   1.0  39843.0 -2.861613    0.956347\n",
       "0.9  -37.657513  0.000000e+00   1.0  39845.0 -2.861613    0.903403\n",
       "1.0 -179.260627  0.000000e+00   1.0  39847.0 -2.861613    0.014827"
      ]
     },
     "execution_count": 12,
     "metadata": {},
     "output_type": "execute_result"
    },
    {
     "data": {
      "image/png": "[encoded data removed]",
      "text/plain": [
       "<matplotlib.figure.Figure at 0x7f6660b91438>"
      ]
     },
     "metadata": {},
     "output_type": "display_data"
    }
   ],
   "source": [
    "plot_min_FFD_ser(pba_vol_df[['pba_close']], 'pba_close', thresh=.01)"
   ]
  },
  {
   "cell_type": "markdown",
   "metadata": {},
   "source": [
    "### Hist trading hours per day"
   ]
  },
  {
   "cell_type": "code",
   "execution_count": 59,
   "metadata": {},
   "outputs": [
    {
     "data": {
      "text/plain": [
       "array([[<matplotlib.axes._subplots.AxesSubplot object at 0x7f5a7f1aa940>]],\n",
       "      dtype=object)"
      ]
     },
     "execution_count": 59,
     "metadata": {},
     "output_type": "execute_result"
    },
    {
     "data": {
      "image/png": "[encoded data removed]",
      "text/plain": [
       "<matplotlib.figure.Figure at 0x7f5a7f1bbc50>"
      ]
     },
     "metadata": {},
     "output_type": "display_data"
    }
   ],
   "source": [
    "def agg_func(ser):\n",
    "    nona = ser.dropna()\n",
    "    if (not nona.empty):\n",
    "        cnt = nona.count()\n",
    "        return cnt\n",
    "    return None\n",
    "\n",
    "no_half_days = day_group[['pba_avgPrice']].apply(agg_func)\n",
    "no_half_days.hist()"
   ]
  },
  {
   "cell_type": "markdown",
   "metadata": {},
   "source": [
    "### "
   ]
  },
  {
   "cell_type": "code",
   "execution_count": 60,
   "metadata": {},
   "outputs": [
    {
     "data": {
      "text/plain": [
       "array([[<matplotlib.axes._subplots.AxesSubplot object at 0x7f5a7f2953c8>]],\n",
       "      dtype=object)"
      ]
     },
     "execution_count": 60,
     "metadata": {},
     "output_type": "execute_result"
    },
    {
     "data": {
      "image/png": "[encoded data removed]",
      "text/plain": [
       "<matplotlib.figure.Figure at 0x7f5a7f8797f0>"
      ]
     },
     "metadata": {},
     "output_type": "display_data"
    }
   ],
   "source": [
    "def agg_func(ser):\n",
    "    nona = ser.dropna()\n",
    "    if (not nona.empty):\n",
    "        cnt = nona.count()\n",
    "        return cnt\n",
    "    return None\n",
    "\n",
    "no_half_days_vol = day_group[['vol_avgPrice']].apply(agg_func)\n",
    "no_half_days_vol.hist()"
   ]
  },
  {
   "cell_type": "code",
   "execution_count": 71,
   "metadata": {},
   "outputs": [],
   "source": [
    "def hourly_count(ser):\n",
    "    day_group = ser.groupby(pd.Grouper(freq='B'))\n",
    "    return day_group.count()"
   ]
  },
  {
   "cell_type": "code",
   "execution_count": 82,
   "metadata": {},
   "outputs": [
    {
     "name": "stdout",
     "output_type": "stream",
     "text": [
      "dow_jones_raw_0\n"
     ]
    },
    {
     "data": {
      "image/png": "[encoded data removed]",
      "text/plain": [
       "<matplotlib.figure.Figure at 0x7f5a7a04e198>"
      ]
     },
     "metadata": {},
     "output_type": "display_data"
    },
    {
     "data": {
      "image/png": "[encoded data removed]",
      "text/plain": [
       "<matplotlib.figure.Figure at 0x7f5a7a197908>"
      ]
     },
     "metadata": {},
     "output_type": "display_data"
    },
    {
     "name": "stdout",
     "output_type": "stream",
     "text": [
      "sp_500_raw_1\n"
     ]
    },
    {
     "data": {
      "image/png": "[encoded data removed]",
      "text/plain": [
       "<matplotlib.figure.Figure at 0x7f5a2825fa58>"
      ]
     },
     "metadata": {},
     "output_type": "display_data"
    },
    {
     "data": {
      "image/png": "[encoded data removed]",
      "text/plain": [
       "<matplotlib.figure.Figure at 0x7f5a7a326fd0>"
      ]
     },
     "metadata": {},
     "output_type": "display_data"
    },
    {
     "name": "stdout",
     "output_type": "stream",
     "text": [
      "nasdaq_100_raw_2\n"
     ]
    },
    {
     "data": {
      "image/png": "[encoded data removed]",
      "text/plain": [
       "<matplotlib.figure.Figure at 0x7f5a2a369898>"
      ]
     },
     "metadata": {},
     "output_type": "display_data"
    },
    {
     "data": {
      "image/png": "[encoded data removed]",
      "text/plain": [
       "<matplotlib.figure.Figure at 0x7f5a7a38d240>"
      ]
     },
     "metadata": {},
     "output_type": "display_data"
    },
    {
     "name": "stdout",
     "output_type": "stream",
     "text": [
      "russell_2000_raw_3\n"
     ]
    },
    {
     "data": {
      "image/png": "[encoded data removed]",
      "text/plain": [
       "<matplotlib.figure.Figure at 0x7f5a7a222f98>"
      ]
     },
     "metadata": {},
     "output_type": "display_data"
    },
    {
     "data": {
      "image/png": "[encoded data removed]",
      "text/plain": [
       "<matplotlib.figure.Figure at 0x7f5a7a250b00>"
      ]
     },
     "metadata": {},
     "output_type": "display_data"
    }
   ],
   "source": [
    "aspect = 'close'\n",
    "for df_name, df in dfs.items():\n",
    "    pba_cols = chained_filter(df.columns, [cs['#pba']['ohlc']])\n",
    "    vol_cols = chained_filter(df.columns, [cs['#vol']['ohlc']])\n",
    "    pba_vol_df = df.loc[:, pba_cols + vol_cols]\n",
    "    print(df_name)\n",
    "    \n",
    "    plt.title('pba_' +aspect)\n",
    "    hourly_count(pba_vol_df['pba_avgPrice']).hist()\n",
    "    plt.show()\n",
    "    \n",
    "    plt.title('vol_' +aspect)\n",
    "    hourly_count(pba_vol_df['vol_avgPrice']).hist()\n",
    "    plt.show()\n",
    "#     plt.title(df_name)\n",
    "#     splt.show()\n",
    "    \n",
    "    "
   ]
  },
  {
   "cell_type": "code",
   "execution_count": null,
   "metadata": {},
   "outputs": [],
   "source": []
  },
  {
   "cell_type": "markdown",
   "metadata": {},
   "source": [
    "## Test Fracdiff runt transform"
   ]
  },
  {
   "cell_type": "code",
   "execution_count": 12,
   "metadata": {},
   "outputs": [],
   "source": [
    "logging.basicConfig(stream=sys.stdout, level=logging.DEBUG)"
   ]
  },
  {
   "cell_type": "code",
   "execution_count": 4,
   "metadata": {},
   "outputs": [],
   "source": [
    "dr = ['srf', 'dr']\n",
    "dr_dg, dr_cs = list_get_dict(dg, dr), list_get_dict(cs2, dr)\n",
    "dr_paths, dr_recs, dr_dfs = DataAPI.load_from_dg(dr_dg, dr_cs)"
   ]
  },
  {
   "cell_type": "code",
   "execution_count": 14,
   "metadata": {},
   "outputs": [],
   "source": [
    "variants = {\n",
    "    \"d\": [0.1, 0.2, 0.3, 0.4, 0.5, 0.6, 0.7, 0.8, 0.9, 1.0, 1.5, 2.0],\n",
    "    \"size\": [None],\n",
    "    \"thresh\": [1e-4, 1e-3, 1e-2, 1e-1],\n",
    "    \"method\": [\"FFD\"]\n",
    "}\n",
    "if (meta['var_fmt'] == 'grid'):\n",
    "    var_names, param_combos = list(var.keys()), list(product(*var.values()))\n",
    "    variants = [{var_names[idx]: param_value for idx, param_value in enumerate(combo)} for combo in param_combos]"
   ]
  },
  {
   "cell_type": "code",
   "execution_count": 11,
   "metadata": {},
   "outputs": [],
   "source": [
    "ser_fn = fracdiff\n",
    "rtype_fn = apply_rt_df"
   ]
  },
  {
   "cell_type": "code",
   "execution_count": 15,
   "metadata": {},
   "outputs": [
    {
     "ename": "TypeError",
     "evalue": "dict object argument after ** must be a mapping, not str",
     "output_type": "error",
     "traceback": [
      "\u001b[0;31m---------------------------------------------------------------------------\u001b[0m",
      "\u001b[0;31mTypeError\u001b[0m                                 Traceback (most recent call last)",
      "\u001b[0;32m<ipython-input-15-3bdb14e42b49>\u001b[0m in \u001b[0;36m<module>\u001b[0;34m()\u001b[0m\n\u001b[1;32m      3\u001b[0m \u001b[0;34m\u001b[0m\u001b[0m\n\u001b[1;32m      4\u001b[0m     \u001b[0;32mfor\u001b[0m \u001b[0mvariant\u001b[0m \u001b[0;32min\u001b[0m \u001b[0mvariants\u001b[0m\u001b[0;34m:\u001b[0m\u001b[0;34m\u001b[0m\u001b[0m\n\u001b[0;32m----> 5\u001b[0;31m         \u001b[0mrunted_df\u001b[0m \u001b[0;34m=\u001b[0m \u001b[0mrtype_fn\u001b[0m\u001b[0;34m(\u001b[0m\u001b[0msrc_df\u001b[0m\u001b[0;34m,\u001b[0m \u001b[0mser_fn\u001b[0m\u001b[0;34m(\u001b[0m\u001b[0;34m**\u001b[0m\u001b[0mvariant\u001b[0m\u001b[0;34m)\u001b[0m\u001b[0;34m,\u001b[0m \u001b[0;32mNone\u001b[0m\u001b[0;34m)\u001b[0m\u001b[0;34m\u001b[0m\u001b[0m\n\u001b[0m\u001b[1;32m      6\u001b[0m         \u001b[0mdesc_sfx\u001b[0m \u001b[0;34m=\u001b[0m \u001b[0mmeta\u001b[0m\u001b[0;34m[\u001b[0m\u001b[0;34m'rec_fmt'\u001b[0m\u001b[0;34m]\u001b[0m\u001b[0;34m.\u001b[0m\u001b[0mformat\u001b[0m\u001b[0;34m(\u001b[0m\u001b[0;34m**\u001b[0m\u001b[0mvariant\u001b[0m\u001b[0;34m)\u001b[0m\u001b[0;34m\u001b[0m\u001b[0m\n\u001b[1;32m      7\u001b[0m         \u001b[0mdesc_pfx\u001b[0m \u001b[0;34m=\u001b[0m \u001b[0mget_desc_pfx\u001b[0m\u001b[0;34m(\u001b[0m\u001b[0mkey_chain\u001b[0m\u001b[0;34m,\u001b[0m \u001b[0msrc_rec\u001b[0m\u001b[0;34m)\u001b[0m\u001b[0;34m\u001b[0m\u001b[0m\n",
      "\u001b[0;31mTypeError\u001b[0m: dict object argument after ** must be a mapping, not str"
     ]
    }
   ],
   "source": [
    "for key_chain in dr_paths:\n",
    "    src_df = list_get_dict(dr_dfs, key_chain).dropna(axis=0, how='all')\n",
    "\n",
    "    for variant in variants:\n",
    "        runted_df = rtype_fn(src_df, ser_fn(**variant), None)\n",
    "        desc_sfx = meta['rec_fmt'].format(**variant)\n",
    "        desc_pfx = get_desc_pfx(key_chain, src_rec)\n",
    "        desc = '_'.join([desc_pfx, desc_sfx])\n",
    "\n",
    "        if (meta['mtype_from']=='name'):       mutate_type = meta['name']\n",
    "        elif (meta['mtype_from']=='rec_fmt'):  mutate_type = desc_sfx\n",
    "\n",
    "        assert(not is_empty_df(runted_df))\n",
    "        entry = make_runt_entry(desc, res_freq, mutate_type, src_rec)\n",
    "        logging.info('dumping ' +desc +'...')\n",
    "        logging.debug('post_transform: ' +str(runted_df))\n",
    "    break"
   ]
  },
  {
   "cell_type": "code",
   "execution_count": null,
   "metadata": {},
   "outputs": [],
   "source": []
  }
 ],
 "metadata": {
  "kernelspec": {
   "display_name": "Python 3",
   "language": "python",
   "name": "python3"
  },
  "language_info": {
   "codemirror_mode": {
    "name": "ipython",
    "version": 3
   },
   "file_extension": ".py",
   "mimetype": "text/x-python",
   "name": "python",
   "nbconvert_exporter": "python",
   "pygments_lexer": "ipython3",
   "version": "3.6.5"
  }
 },
 "nbformat": 4,
 "nbformat_minor": 2
}
