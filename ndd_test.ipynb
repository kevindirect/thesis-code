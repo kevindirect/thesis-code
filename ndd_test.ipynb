{
 "cells": [
  {
   "cell_type": "markdown",
   "metadata": {},
   "source": [
    "# Template"
   ]
  },
  {
   "cell_type": "code",
   "execution_count": 1,
   "metadata": {},
   "outputs": [
    {
     "name": "stderr",
     "output_type": "stream",
     "text": [
      "WARNING:root:script location: /home/kevin/crunch/crunch/nb.ipynb\n",
      "WARNING:root:using project dir: /home/kevin/crunch/\n"
     ]
    }
   ],
   "source": [
    "import sys\n",
    "import os\n",
    "from os import sep\n",
    "from os.path import dirname, realpath\n",
    "from pathlib import Path\n",
    "import logging\n",
    "\n",
    "def get_cwd(fname, subdir, crunch_dir=realpath(Path.home()) +sep +'crunch' +sep):\n",
    "    \"\"\"\n",
    "    Convenience function to make a directory string for the current file based on inputs.\n",
    "    Jupyter Notebook in Anaconda invokes the Python interpreter in Anaconda's subdirectory\n",
    "    which is why changing sys.argv[0] is necessary. In the future a better way to do this\n",
    "    should be preferred..\n",
    "    \"\"\"\n",
    "    return crunch_dir +subdir +fname\n",
    "    \n",
    "def fix_path(cwd):\n",
    "    \"\"\"\n",
    "    Convenience function to fix argv and python path so that jupyter notebook can run the same as\n",
    "    any script in crunch.\n",
    "    \"\"\"\n",
    "    sys.argv[0] = cwd\n",
    "    module_path = os.path.abspath(os.path.join('..'))\n",
    "    if module_path not in sys.path:\n",
    "        sys.path.append(module_path)\n",
    "\n",
    "fname = 'nb.ipynb'   # FILL\n",
    "dir_name = 'crunch'   # FILL\n",
    "fix_path(get_cwd(fname, dir_name +sep))\n",
    "\n",
    "import numpy as np\n",
    "import pandas as pd\n",
    "import matplotlib.pyplot as plt\n",
    "\n",
    "from ipywidgets import interact, interactive, fixed\n",
    "from IPython.display import display\n",
    "\n",
    "pd.set_option(\"display.max_rows\", 100)\n",
    "pd.set_option('display.max_columns', 50)\n",
    "\n",
    "from common_util import RECON_DIR, load_json, set_loglevel, benchmark, NestedDefaultDict"
   ]
  },
  {
   "cell_type": "code",
   "execution_count": 2,
   "metadata": {},
   "outputs": [],
   "source": [
    "set_loglevel('info')"
   ]
  },
  {
   "cell_type": "code",
   "execution_count": 7,
   "metadata": {},
   "outputs": [
    {
     "data": {
      "text/plain": [
       "array([[0.1],\n",
       "       [0.2],\n",
       "       [0.3]])"
      ]
     },
     "execution_count": 7,
     "metadata": {},
     "output_type": "execute_result"
    }
   ],
   "source": [
    "arr.reshape((3,1))"
   ]
  },
  {
   "cell_type": "code",
   "execution_count": 3,
   "metadata": {},
   "outputs": [],
   "source": [
    "ndd = NestedDefaultDict()\n",
    "ndd2 = NestedDefaultDict()"
   ]
  },
  {
   "cell_type": "code",
   "execution_count": 4,
   "metadata": {},
   "outputs": [],
   "source": [
    "ndd[['a', 'a', 'a']] = 'aaa'\n",
    "ndd[['a', 'a', 'b']] = 'aab'\n",
    "ndd[['a', 'b', 'b']] = 'abb'\n",
    "ndd[['b', 'b', 'b']] = 'bbb'\n",
    "ndd[['a', 'a']] = 'aa'\n",
    "ndd[['a', 'b']] = 'ab'\n",
    "ndd[['b', 'b']] = 'bb'\n",
    "ndd[['a']] = 'a'\n",
    "ndd[['b']] = 'b'\n",
    "ndd[['a', 'a', 'a', 'a']] = 'aaaa'\n",
    "ndd[['a', 'a', 'a', 'b']] = 'aaab'\n",
    "ndd[['a', 'a', 'b', 'b']] = 'aabb'\n",
    "ndd[['a', 'b', 'b', 'b']] = 'abbb'\n",
    "ndd[['b', 'b', 'b', 'b']] = 'bbbb'"
   ]
  },
  {
   "cell_type": "code",
   "execution_count": 5,
   "metadata": {},
   "outputs": [],
   "source": [
    "ndd2[['c', 'c', 'c']] = 'ccc'\n",
    "ndd2[['c', 'c', 'd']] = 'ccd'\n",
    "ndd2[['c', 'd', 'd']] = 'cdd'\n",
    "ndd2[['d', 'd', 'd']] = 'ddd'\n",
    "ndd2[['c', 'c']] = 'cc'\n",
    "ndd2[['c', 'd']] = 'cd'\n",
    "ndd2[['d', 'd']] = 'dd'\n",
    "ndd2[['c']] = 'c'\n",
    "ndd2[['d']] = 'd'\n",
    "ndd2[['c', 'c', 'c', 'c']] = 'cccc'\n",
    "ndd2[['c', 'c', 'c', 'd']] = 'cccd'\n",
    "ndd2[['c', 'c', 'd', 'd']] = 'ccdd'\n",
    "ndd2[['c', 'd', 'd', 'd']] = 'cddd'\n",
    "ndd2[['d', 'd', 'd', 'd']] = 'dddd'"
   ]
  },
  {
   "cell_type": "code",
   "execution_count": 6,
   "metadata": {},
   "outputs": [
    {
     "name": "stdout",
     "output_type": "stream",
     "text": [
      "{\n",
      "    \"c\": {\n",
      "        \".\": \"c\",\n",
      "        \"c\": {\n",
      "            \".\": \"cc\",\n",
      "            \"c\": {\n",
      "                \".\": \"ccc\",\n",
      "                \"c\": {\n",
      "                    \".\": \"cccc\"\n",
      "                },\n",
      "                \"d\": {\n",
      "                    \".\": \"cccd\"\n",
      "                }\n",
      "            },\n",
      "            \"d\": {\n",
      "                \".\": \"ccd\",\n",
      "                \"d\": {\n",
      "                    \".\": \"ccdd\"\n",
      "                }\n",
      "            }\n",
      "        },\n",
      "        \"d\": {\n",
      "            \".\": \"cd\",\n",
      "            \"d\": {\n",
      "                \".\": \"cdd\",\n",
      "                \"d\": {\n",
      "                    \".\": \"cddd\"\n",
      "                }\n",
      "            }\n",
      "        }\n",
      "    },\n",
      "    \"d\": {\n",
      "        \".\": \"d\",\n",
      "        \"d\": {\n",
      "            \".\": \"dd\",\n",
      "            \"d\": {\n",
      "                \".\": \"ddd\",\n",
      "                \"d\": {\n",
      "                    \".\": \"dddd\"\n",
      "                }\n",
      "            }\n",
      "        }\n",
      "    }\n",
      "}\n"
     ]
    }
   ],
   "source": [
    "print(str(ndd2))"
   ]
  },
  {
   "cell_type": "code",
   "execution_count": 7,
   "metadata": {},
   "outputs": [],
   "source": [
    "ndd[['a']] = ndd2"
   ]
  },
  {
   "cell_type": "code",
   "execution_count": 8,
   "metadata": {},
   "outputs": [],
   "source": [
    "ndd[['f']] = NestedDefaultDict()"
   ]
  },
  {
   "cell_type": "code",
   "execution_count": 9,
   "metadata": {},
   "outputs": [
    {
     "data": {
      "text/plain": [
       "18"
      ]
     },
     "execution_count": 9,
     "metadata": {},
     "output_type": "execute_result"
    }
   ],
   "source": [
    "len(ndd)"
   ]
  },
  {
   "cell_type": "code",
   "execution_count": 10,
   "metadata": {},
   "outputs": [
    {
     "data": {
      "text/plain": [
       "[['b', 'b', 'b'], ['b', 'b'], ['b'], ['b', 'b', 'b', 'b'], ['a', 'c'], ['a', 'c', 'c'], ['a', 'c', 'c', 'c'], ['a', 'c', 'c', 'c', 'c'], ['a', 'c', 'c', 'c', 'd'], ['a', 'c', 'c', 'd'], ['a', 'c', 'c', 'd', 'd'], ['a', 'c', 'd'], ['a', 'c', 'd', 'd'], ['a', 'c', 'd', 'd', 'd'], ['a', 'd'], ['a', 'd', 'd'], ['a', 'd', 'd', 'd'], ['a', 'd', 'd', 'd', 'd']], defaultdict(<function NestedDefaultDict.__init__.<locals>.<lambda> at 0x7f58f20838c8>, {'a': defaultdict(<function NestedDefaultDict.__init__.<locals>.<lambda> at 0x7f58f2083488>, {'c': defaultdict(<function NestedDefaultDict.__init__.<locals>.<lambda> at 0x7f58f2083488>, {'c': defaultdict(<function NestedDefaultDict.__init__.<locals>.<lambda> at 0x7f58f2083488>, {'c': defaultdict(<function NestedDefaultDict.__init__.<locals>.<lambda> at 0x7f58f2083488>, {'.': 'ccc', 'c': defaultdict(<function NestedDefaultDict.__init__.<locals>.<lambda> at 0x7f58f2083488>, {'.': 'cccc'}), 'd': defaultdict(<function NestedDefaultDict.__init__.<locals>.<lambda> at 0x7f58f2083488>, {'.': 'cccd'})}), 'd': defaultdict(<function NestedDefaultDict.__init__.<locals>.<lambda> at 0x7f58f2083488>, {'.': 'ccd', 'd': defaultdict(<function NestedDefaultDict.__init__.<locals>.<lambda> at 0x7f58f2083488>, {'.': 'ccdd'})}), '.': 'cc'}), 'd': defaultdict(<function NestedDefaultDict.__init__.<locals>.<lambda> at 0x7f58f2083488>, {'d': defaultdict(<function NestedDefaultDict.__init__.<locals>.<lambda> at 0x7f58f2083488>, {'.': 'cdd', 'd': defaultdict(<function NestedDefaultDict.__init__.<locals>.<lambda> at 0x7f58f2083488>, {'.': 'cddd'})}), '.': 'cd'}), '.': 'c'}), 'd': defaultdict(<function NestedDefaultDict.__init__.<locals>.<lambda> at 0x7f58f2083488>, {'d': defaultdict(<function NestedDefaultDict.__init__.<locals>.<lambda> at 0x7f58f2083488>, {'d': defaultdict(<function NestedDefaultDict.__init__.<locals>.<lambda> at 0x7f58f2083488>, {'.': 'ddd', 'd': defaultdict(<function NestedDefaultDict.__init__.<locals>.<lambda> at 0x7f58f2083488>, {'.': 'dddd'})}), '.': 'dd'}), '.': 'd'})}), 'b': defaultdict(<function NestedDefaultDict.__init__.<locals>.<lambda> at 0x7f58f20838c8>, {'b': defaultdict(<function NestedDefaultDict.__init__.<locals>.<lambda> at 0x7f58f20838c8>, {'b': defaultdict(<function NestedDefaultDict.__init__.<locals>.<lambda> at 0x7f58f20838c8>, {'.': 'bbb', 'b': defaultdict(<function NestedDefaultDict.__init__.<locals>.<lambda> at 0x7f58f20838c8>, {'.': 'bbbb'})}), '.': 'bb'}), '.': 'b'}), 'f': defaultdict(<function NestedDefaultDict.__init__.<locals>.<lambda> at 0x7f58f2083ae8>, {})})"
      ]
     },
     "execution_count": 10,
     "metadata": {},
     "output_type": "execute_result"
    }
   ],
   "source": [
    "ndd"
   ]
  },
  {
   "cell_type": "code",
   "execution_count": 11,
   "metadata": {},
   "outputs": [
    {
     "name": "stdout",
     "output_type": "stream",
     "text": [
      "['c'] c\n",
      "['c', 'c'] cc\n",
      "['c', 'c', 'c'] ccc\n",
      "['c', 'c', 'c', 'c'] cccc\n",
      "['c', 'c', 'c', 'd'] cccd\n",
      "['c', 'c', 'd'] ccd\n",
      "['c', 'c', 'd', 'd'] ccdd\n",
      "['c', 'd'] cd\n",
      "['c', 'd', 'd'] cdd\n",
      "['c', 'd', 'd', 'd'] cddd\n",
      "['d'] d\n",
      "['d', 'd'] dd\n",
      "['d', 'd', 'd'] ddd\n",
      "['d', 'd', 'd', 'd'] dddd\n"
     ]
    }
   ],
   "source": [
    "for k, v in ndd2.items():\n",
    "    print(k, v)"
   ]
  },
  {
   "cell_type": "code",
   "execution_count": 12,
   "metadata": {},
   "outputs": [
    {
     "name": "stdout",
     "output_type": "stream",
     "text": [
      "['a', 'c'] c\n",
      "['a', 'c', 'c'] cc\n",
      "['a', 'c', 'c', 'c'] ccc\n",
      "['a', 'c', 'c', 'c', 'c'] cccc\n",
      "['a', 'c', 'c', 'c', 'd'] cccd\n",
      "['a', 'c', 'c', 'd'] ccd\n",
      "['a', 'c', 'c', 'd', 'd'] ccdd\n",
      "['a', 'c', 'd'] cd\n",
      "['a', 'c', 'd', 'd'] cdd\n",
      "['a', 'c', 'd', 'd', 'd'] cddd\n",
      "['a', 'd'] d\n",
      "['a', 'd', 'd'] dd\n",
      "['a', 'd', 'd', 'd'] ddd\n",
      "['a', 'd', 'd', 'd', 'd'] dddd\n",
      "['b'] b\n",
      "['b', 'b'] bb\n",
      "['b', 'b', 'b'] bbb\n",
      "['b', 'b', 'b', 'b'] bbbb\n"
     ]
    }
   ],
   "source": [
    "for k, v in ndd.items():\n",
    "    print(k, v)"
   ]
  },
  {
   "cell_type": "code",
   "execution_count": 13,
   "metadata": {},
   "outputs": [
    {
     "ename": "ValueError",
     "evalue": "Cannot use '.' in a valid keychain, this string is reserved",
     "output_type": "error",
     "traceback": [
      "\u001b[0;31m---------------------------------------------------------------------------\u001b[0m",
      "\u001b[0;31mValueError\u001b[0m                                Traceback (most recent call last)",
      "\u001b[0;32m<ipython-input-13-05da5d0eb2ef>\u001b[0m in \u001b[0;36m<module>\u001b[0;34m()\u001b[0m\n\u001b[0;32m----> 1\u001b[0;31m \u001b[0mndd\u001b[0m\u001b[0;34m[\u001b[0m\u001b[0;34m[\u001b[0m\u001b[0;34m'.'\u001b[0m\u001b[0;34m]\u001b[0m\u001b[0;34m]\u001b[0m \u001b[0;34m=\u001b[0m \u001b[0;36m1\u001b[0m\u001b[0;34m\u001b[0m\u001b[0m\n\u001b[0m",
      "\u001b[0;32m~/crunch/common_util.py\u001b[0m in \u001b[0;36m__setitem__\u001b[0;34m(self, key, value)\u001b[0m\n\u001b[1;32m    265\u001b[0m \t\t\"\"\"\n\u001b[1;32m    266\u001b[0m                 \u001b[0;32mif\u001b[0m \u001b[0;34m(\u001b[0m\u001b[0mNestedDefaultDict\u001b[0m\u001b[0;34m.\u001b[0m\u001b[0mKEY_END\u001b[0m \u001b[0;32min\u001b[0m \u001b[0mkey\u001b[0m\u001b[0;34m)\u001b[0m\u001b[0;34m:\u001b[0m\u001b[0;34m\u001b[0m\u001b[0m\n\u001b[0;32m--> 267\u001b[0;31m                         \u001b[0;32mraise\u001b[0m \u001b[0mValueError\u001b[0m\u001b[0;34m(\u001b[0m\u001b[0;34m\"Cannot use \\'{}\\' in a valid keychain, this string is reserved\"\u001b[0m\u001b[0;34m.\u001b[0m\u001b[0mformat\u001b[0m\u001b[0;34m(\u001b[0m\u001b[0mNestedDefaultDict\u001b[0m\u001b[0;34m.\u001b[0m\u001b[0mKEY_END\u001b[0m\u001b[0;34m)\u001b[0m\u001b[0;34m)\u001b[0m\u001b[0;34m\u001b[0m\u001b[0m\n\u001b[0m\u001b[1;32m    268\u001b[0m \u001b[0;34m\u001b[0m\u001b[0m\n\u001b[1;32m    269\u001b[0m                 \u001b[0;32mif\u001b[0m \u001b[0;34m(\u001b[0m\u001b[0misinstance\u001b[0m\u001b[0;34m(\u001b[0m\u001b[0mvalue\u001b[0m\u001b[0;34m,\u001b[0m \u001b[0mNestedDefaultDict\u001b[0m\u001b[0;34m)\u001b[0m \u001b[0;32mor\u001b[0m \u001b[0misinstance\u001b[0m\u001b[0;34m(\u001b[0m\u001b[0mvalue\u001b[0m\u001b[0;34m,\u001b[0m \u001b[0mdefaultdict\u001b[0m\u001b[0;34m)\u001b[0m\u001b[0;34m)\u001b[0m\u001b[0;34m:\u001b[0m\u001b[0;34m\u001b[0m\u001b[0m\n",
      "\u001b[0;31mValueError\u001b[0m: Cannot use '.' in a valid keychain, this string is reserved"
     ]
    }
   ],
   "source": [
    "ndd[['.']] = 1"
   ]
  },
  {
   "cell_type": "code",
   "execution_count": null,
   "metadata": {},
   "outputs": [],
   "source": []
  },
  {
   "cell_type": "code",
   "execution_count": null,
   "metadata": {},
   "outputs": [],
   "source": []
  }
 ],
 "metadata": {
  "kernelspec": {
   "display_name": "Python 3",
   "language": "python",
   "name": "python3"
  },
  "language_info": {
   "codemirror_mode": {
    "name": "ipython",
    "version": 3
   },
   "file_extension": ".py",
   "mimetype": "text/x-python",
   "name": "python",
   "nbconvert_exporter": "python",
   "pygments_lexer": "ipython3",
   "version": "3.6.7"
  }
 },
 "nbformat": 4,
 "nbformat_minor": 2
}
