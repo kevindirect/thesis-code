{
 "cells": [
  {
   "cell_type": "markdown",
   "metadata": {},
   "source": [
    "# nb-model_xg-model-ae"
   ]
  },
  {
   "cell_type": "code",
   "execution_count": 1,
   "metadata": {},
   "outputs": [
    {
     "name": "stderr",
     "output_type": "stream",
     "text": [
      "CRITICAL:root:script location: /home/kev/crunch/model/nb-model_xg-model-ae.ipynb\n",
      "CRITICAL:root:using project dir: /home/kev/crunch/\n"
     ]
    }
   ],
   "source": [
    "import sys\n",
    "import os\n",
    "from os import sep\n",
    "from os.path import dirname, realpath\n",
    "from pathlib import Path\n",
    "from collections import OrderedDict\n",
    "from functools import partial, reduce\n",
    "import logging\n",
    "\n",
    "def get_cwd(fname, subdir, crunch_dir=realpath(Path.home()) +sep +'crunch' +sep):\n",
    "    \"\"\"\n",
    "    Convenience function to make a directory string for the current file based on inputs.\n",
    "    Jupyter Notebook in Anaconda invokes the Python interpreter in Anaconda's subdirectory\n",
    "    which is why changing sys.argv[0] is necessary. In the future a better way to do this\n",
    "    should be preferred..\n",
    "    \"\"\"\n",
    "    return crunch_dir +subdir +fname\n",
    "\n",
    "def fix_path(cwd):\n",
    "    \"\"\"\n",
    "    Convenience function to fix argv and python path so that jupyter notebook can run the same as\n",
    "    any script in crunch.\n",
    "    \"\"\"\n",
    "    sys.argv[0] = cwd\n",
    "    module_path = os.path.abspath(os.path.join('..'))\n",
    "    if module_path not in sys.path:\n",
    "        sys.path.append(module_path)\n",
    "\n",
    "fname = 'nb-model_xg-model-ae.ipynb'\n",
    "dir_name = 'model'\n",
    "fix_path(get_cwd(fname, dir_name +sep))\n",
    "\n",
    "import numpy as np\n",
    "import pandas as pd\n",
    "#import matplotlib.pyplot as plt\n",
    "from dask import delayed, compute\n",
    "from torch.utils.data import TensorDataset, DataLoader\n",
    "from torch.utils.data.dataset import Dataset as TorchDataset\n",
    "import torch\n",
    "import torch.nn as nn\n",
    "import torch.nn.functional as F\n",
    "from torch.nn.utils import weight_norm\n",
    "import torchfunc\n",
    "from torchmeta.utils.data import BatchMetaDataLoader\n",
    "import pytorch_lightning as pl\n",
    "from pytorch_lightning.callbacks import EarlyStopping\n",
    "\n",
    "from ipywidgets import interact, interactive, fixed\n",
    "from IPython.display import display\n",
    "\n",
    "pd.set_option(\"display.max_rows\", 100)\n",
    "pd.set_option(\"display.max_columns\", 50)\n",
    "\n",
    "from common_util import MODEL_DIR, RECON_DIR, JSON_SFX_LEN, DT_CAL_DAILY_FREQ, pd_to_np, pairwise, df_midx_restack, compose, is_type, df_rows_in_year, list_all_eq, remove_dups_list, NestedDefaultDict, set_loglevel, search_df, chained_filter, get_variants, load_df, dump_df, load_json, gb_transpose, pd_common_index_rows, filter_cols_below, inner_join, outer_join, ser_shift, list_get_dict, window_iter, benchmark\n",
    "from common_util import pd_rows_key_in, df_add_midx_level, df_del_midx_level, pd_split_ternary_to_binary, np_value_counts, isnt, window_iter, all_eq, np_assert_identical_len_dim, pd_idx_rename, midx_get_level, pd_rows, midx_intersect, pd_get_midx_level, pd_common_idx_rows, midx_split, pd_midx_to_arr, window_iter, np_at_least_nd, np_is_ndim, identity_fn\n",
    "from model.common import DATASET_DIR, XG_PROCESS_DIR, XG_DATA_DIR, XG_DIR, PYTORCH_MODELS_DIR, TEST_RATIO, VAL_RATIO, EXPECTED_NUM_HOURS, default_dataset\n",
    "from model.common import PYTORCH_ACT_MAPPING, PYTORCH_OPT_MAPPING, PYTORCH_SCH_MAPPING, PYTORCH_LOSS_MAPPING\n",
    "from model.xg_util import xgload, get_xg_feature_dfs, get_xg_label_target_dfs\n",
    "from model.preproc_util import temporal_preproc_3d, stride_preproc_3d\n",
    "from model.train_util import pd_to_np_tvt, batchify\n",
    "from model.pl_generic import GenericModel\n",
    "from model.model_util import OutputLinear\n",
    "logging.basicConfig(stream=sys.stdout, level=logging.DEBUG)"
   ]
  },
  {
   "cell_type": "markdown",
   "metadata": {},
   "source": [
    "Prune the xg data down to the data of interest to use in further experiments."
   ]
  },
  {
   "cell_type": "markdown",
   "metadata": {},
   "source": [
    "## Load Data"
   ]
  },
  {
   "cell_type": "code",
   "execution_count": 2,
   "metadata": {},
   "outputs": [],
   "source": [
    "assets = ['sp_500', 'russell_2000', 'nasdaq_100', 'dow_jones']\n",
    "chosen_asset = assets[0]"
   ]
  },
  {
   "cell_type": "code",
   "execution_count": 3,
   "metadata": {},
   "outputs": [
    {
     "name": "stderr",
     "output_type": "stream",
     "text": [
      "INFO:root:pba_hlh_hlogret_hdzn_hdgau(8)_hret_hspread\n",
      "INFO:root:pba_hoc_hlogret_hdzn_hdgau(8)_hret_hspread\n",
      "INFO:root:pba_hohlca_hdzn_hdgau(8)\n",
      "INFO:root:pba_hlh_hlogret_hdmx_hret_hspread\n",
      "INFO:root:pba_hoc_hlogret_hdmx_hret_hspread\n",
      "INFO:root:pba_hohlca_hdmx\n",
      "INFO:root:pba_hlh_hlogret_hdod_hret_hspread\n",
      "INFO:root:pba_hoc_hlogret_hdod_hret_hspread\n",
      "INFO:root:pba_hohlca_hdod\n",
      "INFO:root:pba_hlh_hlogret_hdpt_hret_hspread\n",
      "INFO:root:pba_hoc_hlogret_hdpt_hret_hspread\n",
      "INFO:root:pba_hohlca_hdpt\n",
      "INFO:root:pba_hlh_hlogret_hdmx_hduni(8)_hret_hspread\n",
      "INFO:root:pba_hoc_hlogret_hdmx_hduni(8)_hret_hspread\n",
      "INFO:root:pba_hohlca_hdmx_hduni(8)\n",
      "INFO:root:pba_hlh_hlogret_hdzn_hret_hspread\n",
      "INFO:root:pba_hoc_hlogret_hdzn_hret_hspread\n",
      "INFO:root:pba_hohlca_hdzn\n",
      "INFO:root:pba_hohlca\n",
      "INFO:root:vol_hlh_hlogret_hdzn_hdgau(8)_hret_hspread\n",
      "INFO:root:vol_hoc_hlogret_hdzn_hdgau(8)_hret_hspread\n",
      "INFO:root:vol_hohlca_hdzn_hdgau(8)\n",
      "INFO:root:vol_hlh_hlogret_hdmx_hret_hspread\n",
      "INFO:root:vol_hoc_hlogret_hdmx_hret_hspread\n",
      "INFO:root:vol_hohlca_hdmx\n",
      "INFO:root:vol_hlh_hlogret_hdod_hret_hspread\n",
      "INFO:root:vol_hoc_hlogret_hdod_hret_hspread\n",
      "INFO:root:vol_hohlca_hdod\n",
      "INFO:root:vol_hlh_hlogret_hdpt_hret_hspread\n",
      "INFO:root:vol_hoc_hlogret_hdpt_hret_hspread\n",
      "INFO:root:vol_hohlca_hdpt\n",
      "INFO:root:vol_hlh_hlogret_hdmx_hduni(8)_hret_hspread\n",
      "INFO:root:vol_hoc_hlogret_hdmx_hduni(8)_hret_hspread\n",
      "INFO:root:vol_hohlca_hdmx_hduni(8)\n",
      "INFO:root:vol_hlh_hlogret_hdzn_hret_hspread\n",
      "INFO:root:vol_hoc_hlogret_hdzn_hret_hspread\n",
      "INFO:root:vol_hohlca_hdzn\n",
      "INFO:root:vol_hohlca\n",
      "INFO:root:trmi3_etf3_news_buzz_hohlca_hdzn_hdgau(8)_mkt3_bondBuzz_ratesBuzz_stockIndexBuzz\n",
      "INFO:root:trmi3_etf3_social_buzz_hohlca_hdzn_hdgau(8)_mkt3_bondBuzz_ratesBuzz_stockIndexBuzz\n",
      "INFO:root:trmi3_etf3_news_buzz_hohlca_hdmx_mkt3_bondBuzz_ratesBuzz_stockIndexBuzz\n",
      "INFO:root:trmi3_etf3_social_buzz_hohlca_hdmx_mkt3_bondBuzz_ratesBuzz_stockIndexBuzz\n",
      "INFO:root:trmi3_etf3_news_buzz_hohlca_hdod_mkt3_bondBuzz_ratesBuzz_stockIndexBuzz\n",
      "INFO:root:trmi3_etf3_social_buzz_hohlca_hdod_mkt3_bondBuzz_ratesBuzz_stockIndexBuzz\n",
      "INFO:root:trmi3_etf3_news_buzz_hohlca_hdpt_mkt3_bondBuzz_ratesBuzz_stockIndexBuzz\n",
      "INFO:root:trmi3_etf3_social_buzz_hohlca_hdpt_mkt3_bondBuzz_ratesBuzz_stockIndexBuzz\n",
      "INFO:root:trmi3_etf3_news_buzz_hohlca_hdmx_hduni(8)_mkt3_bondBuzz_ratesBuzz_stockIndexBuzz\n",
      "INFO:root:trmi3_etf3_social_buzz_hohlca_hdmx_hduni(8)_mkt3_bondBuzz_ratesBuzz_stockIndexBuzz\n",
      "INFO:root:trmi3_etf3_news_buzz_hohlca_hdzn_mkt3_bondBuzz_ratesBuzz_stockIndexBuzz\n",
      "INFO:root:trmi3_etf3_social_buzz_hohlca_hdzn_mkt3_bondBuzz_ratesBuzz_stockIndexBuzz\n",
      "INFO:root:trmi3_etf3_news_buzz_hohlca_mkt3_bondBuzz_ratesBuzz_stockIndexBuzz\n",
      "INFO:root:trmi3_etf3_social_buzz_hohlca_mkt3_bondBuzz_ratesBuzz_stockIndexBuzz\n",
      "INFO:root:pba_dohlca_ddiff(1)\n",
      "INFO:root:pba_hlh_hdxret_ddir\n",
      "INFO:root:pba_hoc_hdxret_ddir\n",
      "INFO:root:pba_hlh_hdxret1(1.000000%)_ddir1_hdxret1(2.000000%)_hdxret1(3.000000%)_hdxret1(4.000000%)_hdxret1(5.000000%)_hdxret1(6.000000%)_hdxret1(7.000000%)_hdxret1(8.000000%)\n",
      "INFO:root:pba_hoc_hdxret1(1.000000%)_ddir1_hdxret1(2.000000%)_hdxret1(3.000000%)_hdxret1(4.000000%)_hdxret1(5.000000%)_hdxret1(6.000000%)_hdxret1(7.000000%)_hdxret1(8.000000%)\n",
      "INFO:root:pba_hlh_hdxret1(0.062500%)_ddir1_hdxret1(0.125000%)_hdxret1(0.250000%)_hdxret1(0.500000%)_hdxret1(1.000000%)_hdxret1(2.000000%)_hdxret1(4.000000%)_hdxret1(8.000000%)\n",
      "INFO:root:pba_hoc_hdxret1(0.062500%)_ddir1_hdxret1(0.125000%)_hdxret1(0.250000%)_hdxret1(0.500000%)_hdxret1(1.000000%)_hdxret1(2.000000%)_hdxret1(4.000000%)_hdxret1(8.000000%)\n",
      "INFO:root:pba_hlh_hdxret2(0.5*avg,1)_ddir2_hdxret2(1*avg,1)_hdxret2(2*avg,1)\n",
      "INFO:root:pba_hoc_hdxret2(0.5*avg,1)_ddir2_hdxret2(1*avg,1)_hdxret2(2*avg,1)\n",
      "INFO:root:pba_hlh_hdxret2(0.5*mad,1)_ddir2_hdxret2(1*mad,1)_hdxret2(2*mad,1)\n",
      "INFO:root:pba_hoc_hdxret2(0.5*mad,1)_ddir2_hdxret2(1*mad,1)_hdxret2(2*mad,1)\n",
      "INFO:root:pba_hlh_hdxret2(0.5*max,1)_ddir2_hdxret2(1*max,1)_hdxret2(2*max,1)\n",
      "INFO:root:pba_hoc_hdxret2(0.5*max,1)_ddir2_hdxret2(1*max,1)_hdxret2(2*max,1)\n",
      "INFO:root:pba_hlh_hdxret2(0.5*min,1)_ddir2_hdxret2(1*min,1)_hdxret2(2*min,1)\n",
      "INFO:root:pba_hoc_hdxret2(0.5*min,1)_ddir2_hdxret2(1*min,1)_hdxret2(2*min,1)\n",
      "INFO:root:pba_hlh_hdxret2(0.5*std,1)_ddir2_hdxret2(1*std,1)_hdxret2(2*std,1)\n",
      "INFO:root:pba_hoc_hdxret2(0.5*std,1)_ddir2_hdxret2(1*std,1)_hdxret2(2*std,1)\n",
      "INFO:root:pba_dohlca_dffd(0.200000,0.010000)_dffd(0.400000,0.010000)_dffd(0.600000,0.010000)_dffd(0.800000,0.010000)\n",
      "INFO:root:pba_dlh_dlogret\n",
      "INFO:root:pba_doc_dlogret\n",
      "INFO:root:pba_dohlca\n",
      "INFO:root:pba_hlh_hdxret_dret\n",
      "INFO:root:pba_hoc_hdxret_dret\n",
      "INFO:root:pba_hlh_hdxret1(1.000000%)_dret1_hdxret1(2.000000%)_hdxret1(3.000000%)_hdxret1(4.000000%)_hdxret1(5.000000%)_hdxret1(6.000000%)_hdxret1(7.000000%)_hdxret1(8.000000%)\n",
      "INFO:root:pba_hoc_hdxret1(1.000000%)_dret1_hdxret1(2.000000%)_hdxret1(3.000000%)_hdxret1(4.000000%)_hdxret1(5.000000%)_hdxret1(6.000000%)_hdxret1(7.000000%)_hdxret1(8.000000%)\n",
      "INFO:root:pba_hlh_hdxret1(0.062500%)_dret1_hdxret1(0.125000%)_hdxret1(0.250000%)_hdxret1(0.500000%)_hdxret1(1.000000%)_hdxret1(2.000000%)_hdxret1(4.000000%)_hdxret1(8.000000%)\n",
      "INFO:root:pba_hoc_hdxret1(0.062500%)_dret1_hdxret1(0.125000%)_hdxret1(0.250000%)_hdxret1(0.500000%)_hdxret1(1.000000%)_hdxret1(2.000000%)_hdxret1(4.000000%)_hdxret1(8.000000%)\n",
      "INFO:root:pba_hlh_hdxret2(0.5*avg,1)_dret2_hdxret2(1*avg,1)_hdxret2(2*avg,1)\n",
      "INFO:root:pba_hoc_hdxret2(0.5*avg,1)_dret2_hdxret2(1*avg,1)_hdxret2(2*avg,1)\n",
      "INFO:root:pba_hlh_hdxret2(0.5*mad,1)_dret2_hdxret2(1*mad,1)_hdxret2(2*mad,1)\n",
      "INFO:root:pba_hoc_hdxret2(0.5*mad,1)_dret2_hdxret2(1*mad,1)_hdxret2(2*mad,1)\n",
      "INFO:root:pba_hlh_hdxret2(0.5*max,1)_dret2_hdxret2(1*max,1)_hdxret2(2*max,1)\n",
      "INFO:root:pba_hoc_hdxret2(0.5*max,1)_dret2_hdxret2(1*max,1)_hdxret2(2*max,1)\n",
      "INFO:root:pba_hlh_hdxret2(0.5*min,1)_dret2_hdxret2(1*min,1)_hdxret2(2*min,1)\n",
      "INFO:root:pba_hoc_hdxret2(0.5*min,1)_dret2_hdxret2(1*min,1)_hdxret2(2*min,1)\n",
      "INFO:root:pba_hlh_hdxret2(0.5*std,1)_dret2_hdxret2(1*std,1)_hdxret2(2*std,1)\n",
      "INFO:root:pba_hoc_hdxret2(0.5*std,1)_dret2_hdxret2(1*std,1)_hdxret2(2*std,1)\n",
      "INFO:root:pba_dohlca_dwrmx(-1)_dwrmx(20)_dwrmx(240)_dwrmx(5)\n",
      "INFO:root:pba_dohlca_dwrod(-1)_dwrod(20)_dwrod(240)_dwrod(5)\n",
      "INFO:root:pba_dohlca_dwrpt(-1)_dwrpt(20)_dwrpt(240)_dwrpt(5)\n",
      "INFO:root:pba_dohlca_dwrzn(-1)_dwrzn(20)_dwrzn(240)_dwrzn(5)\n",
      "INFO:root:pba_hlh_hdxcret1(1.000000%)_dxfbcret1_hdxcret1(2.000000%)_hdxcret1(3.000000%)_hdxcret1(4.000000%)_hdxcret1(5.000000%)_hdxcret1(6.000000%)_hdxcret1(7.000000%)_hdxcret1(8.000000%)\n",
      "INFO:root:pba_hoc_hdxcret1(1.000000%)_dxfbcret1_hdxcret1(2.000000%)_hdxcret1(3.000000%)_hdxcret1(4.000000%)_hdxcret1(5.000000%)_hdxcret1(6.000000%)_hdxcret1(7.000000%)_hdxcret1(8.000000%)\n",
      "INFO:root:pba_hlh_hdxcret1(0.062500%)_dxfbcret1_hdxcret1(0.125000%)_hdxcret1(0.250000%)_hdxcret1(0.500000%)_hdxcret1(1.000000%)_hdxcret1(2.000000%)_hdxcret1(4.000000%)_hdxcret1(8.000000%)\n",
      "INFO:root:pba_hoc_hdxcret1(0.062500%)_dxfbcret1_hdxcret1(0.125000%)_hdxcret1(0.250000%)_hdxcret1(0.500000%)_hdxcret1(1.000000%)_hdxcret1(2.000000%)_hdxcret1(4.000000%)_hdxcret1(8.000000%)\n",
      "INFO:root:pba_hlh_hdxcret2(0.5*avg,1)_dxfbcret2_hdxcret2(1*avg,1)_hdxcret2(2*avg,1)\n",
      "INFO:root:pba_hoc_hdxcret2(0.5*avg,1)_dxfbcret2_hdxcret2(1*avg,1)_hdxcret2(2*avg,1)\n",
      "INFO:root:pba_hlh_hdxcret2(0.5*mad,1)_dxfbcret2_hdxcret2(1*mad,1)_hdxcret2(2*mad,1)\n",
      "INFO:root:pba_hoc_hdxcret2(0.5*mad,1)_dxfbcret2_hdxcret2(1*mad,1)_hdxcret2(2*mad,1)\n",
      "INFO:root:pba_hlh_hdxcret2(0.5*max,1)_dxfbcret2_hdxcret2(1*max,1)_hdxcret2(2*max,1)\n",
      "INFO:root:pba_hoc_hdxcret2(0.5*max,1)_dxfbcret2_hdxcret2(1*max,1)_hdxcret2(2*max,1)\n",
      "INFO:root:pba_hlh_hdxcret2(0.5*min,1)_dxfbcret2_hdxcret2(1*min,1)_hdxcret2(2*min,1)\n",
      "INFO:root:pba_hoc_hdxcret2(0.5*min,1)_dxfbcret2_hdxcret2(1*min,1)_hdxcret2(2*min,1)\n",
      "INFO:root:pba_hlh_hdxcret2(0.5*std,1)_dxfbcret2_hdxcret2(1*std,1)_hdxcret2(2*std,1)\n",
      "INFO:root:pba_hoc_hdxcret2(0.5*std,1)_dxfbcret2_hdxcret2(1*std,1)_hdxcret2(2*std,1)\n",
      "INFO:root:pba_hlh_hdxcret1(1.000000%)_dxfbdir1_hdxcret1(2.000000%)_hdxcret1(3.000000%)_hdxcret1(4.000000%)_hdxcret1(5.000000%)_hdxcret1(6.000000%)_hdxcret1(7.000000%)_hdxcret1(8.000000%)\n",
      "INFO:root:pba_hoc_hdxcret1(1.000000%)_dxfbdir1_hdxcret1(2.000000%)_hdxcret1(3.000000%)_hdxcret1(4.000000%)_hdxcret1(5.000000%)_hdxcret1(6.000000%)_hdxcret1(7.000000%)_hdxcret1(8.000000%)\n"
     ]
    },
    {
     "name": "stderr",
     "output_type": "stream",
     "text": [
      "INFO:root:pba_hlh_hdxcret1(0.062500%)_dxfbdir1_hdxcret1(0.125000%)_hdxcret1(0.250000%)_hdxcret1(0.500000%)_hdxcret1(1.000000%)_hdxcret1(2.000000%)_hdxcret1(4.000000%)_hdxcret1(8.000000%)\n",
      "INFO:root:pba_hoc_hdxcret1(0.062500%)_dxfbdir1_hdxcret1(0.125000%)_hdxcret1(0.250000%)_hdxcret1(0.500000%)_hdxcret1(1.000000%)_hdxcret1(2.000000%)_hdxcret1(4.000000%)_hdxcret1(8.000000%)\n",
      "INFO:root:pba_hlh_hdxcret2(0.5*avg,1)_dxfbdir2_hdxcret2(1*avg,1)_hdxcret2(2*avg,1)\n",
      "INFO:root:pba_hoc_hdxcret2(0.5*avg,1)_dxfbdir2_hdxcret2(1*avg,1)_hdxcret2(2*avg,1)\n",
      "INFO:root:pba_hlh_hdxcret2(0.5*mad,1)_dxfbdir2_hdxcret2(1*mad,1)_hdxcret2(2*mad,1)\n",
      "INFO:root:pba_hoc_hdxcret2(0.5*mad,1)_dxfbdir2_hdxcret2(1*mad,1)_hdxcret2(2*mad,1)\n",
      "INFO:root:pba_hlh_hdxcret2(0.5*max,1)_dxfbdir2_hdxcret2(1*max,1)_hdxcret2(2*max,1)\n",
      "INFO:root:pba_hoc_hdxcret2(0.5*max,1)_dxfbdir2_hdxcret2(1*max,1)_hdxcret2(2*max,1)\n",
      "INFO:root:pba_hlh_hdxcret2(0.5*min,1)_dxfbdir2_hdxcret2(1*min,1)_hdxcret2(2*min,1)\n",
      "INFO:root:pba_hoc_hdxcret2(0.5*min,1)_dxfbdir2_hdxcret2(1*min,1)_hdxcret2(2*min,1)\n",
      "INFO:root:pba_hlh_hdxcret2(0.5*std,1)_dxfbdir2_hdxcret2(1*std,1)_hdxcret2(2*std,1)\n",
      "INFO:root:pba_hoc_hdxcret2(0.5*std,1)_dxfbdir2_hdxcret2(1*std,1)_hdxcret2(2*std,1)\n",
      "INFO:root:pba_hlh_hdxcret1(1.000000%)_dxfbval1_hdxcret1(2.000000%)_hdxcret1(3.000000%)_hdxcret1(4.000000%)_hdxcret1(5.000000%)_hdxcret1(6.000000%)_hdxcret1(7.000000%)_hdxcret1(8.000000%)\n",
      "INFO:root:pba_hoc_hdxcret1(1.000000%)_dxfbval1_hdxcret1(2.000000%)_hdxcret1(3.000000%)_hdxcret1(4.000000%)_hdxcret1(5.000000%)_hdxcret1(6.000000%)_hdxcret1(7.000000%)_hdxcret1(8.000000%)\n",
      "INFO:root:pba_hlh_hdxcret1(0.062500%)_dxfbval1_hdxcret1(0.125000%)_hdxcret1(0.250000%)_hdxcret1(0.500000%)_hdxcret1(1.000000%)_hdxcret1(2.000000%)_hdxcret1(4.000000%)_hdxcret1(8.000000%)\n",
      "INFO:root:pba_hoc_hdxcret1(0.062500%)_dxfbval1_hdxcret1(0.125000%)_hdxcret1(0.250000%)_hdxcret1(0.500000%)_hdxcret1(1.000000%)_hdxcret1(2.000000%)_hdxcret1(4.000000%)_hdxcret1(8.000000%)\n",
      "INFO:root:pba_hlh_hdxcret2(0.5*avg,1)_dxfbval2_hdxcret2(1*avg,1)_hdxcret2(2*avg,1)\n",
      "INFO:root:pba_hoc_hdxcret2(0.5*avg,1)_dxfbval2_hdxcret2(1*avg,1)_hdxcret2(2*avg,1)\n",
      "INFO:root:pba_hlh_hdxcret2(0.5*mad,1)_dxfbval2_hdxcret2(1*mad,1)_hdxcret2(2*mad,1)\n",
      "INFO:root:pba_hoc_hdxcret2(0.5*mad,1)_dxfbval2_hdxcret2(1*mad,1)_hdxcret2(2*mad,1)\n",
      "INFO:root:pba_hlh_hdxcret2(0.5*max,1)_dxfbval2_hdxcret2(1*max,1)_hdxcret2(2*max,1)\n",
      "INFO:root:pba_hoc_hdxcret2(0.5*max,1)_dxfbval2_hdxcret2(1*max,1)_hdxcret2(2*max,1)\n",
      "INFO:root:pba_hlh_hdxcret2(0.5*min,1)_dxfbval2_hdxcret2(1*min,1)_hdxcret2(2*min,1)\n",
      "INFO:root:pba_hoc_hdxcret2(0.5*min,1)_dxfbval2_hdxcret2(1*min,1)_hdxcret2(2*min,1)\n",
      "INFO:root:pba_hlh_hdxcret2(0.5*std,1)_dxfbval2_hdxcret2(1*std,1)_hdxcret2(2*std,1)\n",
      "INFO:root:pba_hoc_hdxcret2(0.5*std,1)_dxfbval2_hdxcret2(1*std,1)_hdxcret2(2*std,1)\n",
      "INFO:root:vol_dohlca_ddiff(1)\n",
      "INFO:root:vol_hlh_hdxret_ddir\n",
      "INFO:root:vol_hoc_hdxret_ddir\n",
      "INFO:root:vol_hlh_hdxret1(1.000000%)_ddir1_hdxret1(2.000000%)_hdxret1(3.000000%)_hdxret1(4.000000%)_hdxret1(5.000000%)_hdxret1(6.000000%)_hdxret1(7.000000%)_hdxret1(8.000000%)\n",
      "INFO:root:vol_hoc_hdxret1(1.000000%)_ddir1_hdxret1(2.000000%)_hdxret1(3.000000%)_hdxret1(4.000000%)_hdxret1(5.000000%)_hdxret1(6.000000%)_hdxret1(7.000000%)_hdxret1(8.000000%)\n",
      "INFO:root:vol_hlh_hdxret1(0.062500%)_ddir1_hdxret1(0.125000%)_hdxret1(0.250000%)_hdxret1(0.500000%)_hdxret1(1.000000%)_hdxret1(2.000000%)_hdxret1(4.000000%)_hdxret1(8.000000%)\n",
      "INFO:root:vol_hoc_hdxret1(0.062500%)_ddir1_hdxret1(0.125000%)_hdxret1(0.250000%)_hdxret1(0.500000%)_hdxret1(1.000000%)_hdxret1(2.000000%)_hdxret1(4.000000%)_hdxret1(8.000000%)\n",
      "INFO:root:vol_hlh_hdxret2(0.5*avg,1)_ddir2_hdxret2(1*avg,1)_hdxret2(2*avg,1)\n",
      "INFO:root:vol_hoc_hdxret2(0.5*avg,1)_ddir2_hdxret2(1*avg,1)_hdxret2(2*avg,1)\n",
      "INFO:root:vol_hlh_hdxret2(0.5*mad,1)_ddir2_hdxret2(1*mad,1)_hdxret2(2*mad,1)\n",
      "INFO:root:vol_hoc_hdxret2(0.5*mad,1)_ddir2_hdxret2(1*mad,1)_hdxret2(2*mad,1)\n",
      "INFO:root:vol_hlh_hdxret2(0.5*max,1)_ddir2_hdxret2(1*max,1)_hdxret2(2*max,1)\n",
      "INFO:root:vol_hoc_hdxret2(0.5*max,1)_ddir2_hdxret2(1*max,1)_hdxret2(2*max,1)\n",
      "INFO:root:vol_hlh_hdxret2(0.5*min,1)_ddir2_hdxret2(1*min,1)_hdxret2(2*min,1)\n",
      "INFO:root:vol_hoc_hdxret2(0.5*min,1)_ddir2_hdxret2(1*min,1)_hdxret2(2*min,1)\n",
      "INFO:root:vol_hlh_hdxret2(0.5*std,1)_ddir2_hdxret2(1*std,1)_hdxret2(2*std,1)\n",
      "INFO:root:vol_hoc_hdxret2(0.5*std,1)_ddir2_hdxret2(1*std,1)_hdxret2(2*std,1)\n",
      "INFO:root:vol_dohlca_dffd(0.200000,0.010000)_dffd(0.400000,0.010000)_dffd(0.600000,0.010000)_dffd(0.800000,0.010000)\n",
      "INFO:root:vol_dlh_dlogret\n",
      "INFO:root:vol_doc_dlogret\n",
      "INFO:root:vol_dohlca\n",
      "INFO:root:vol_hlh_hdxret_dret\n",
      "INFO:root:vol_hoc_hdxret_dret\n",
      "INFO:root:vol_hlh_hdxret1(1.000000%)_dret1_hdxret1(2.000000%)_hdxret1(3.000000%)_hdxret1(4.000000%)_hdxret1(5.000000%)_hdxret1(6.000000%)_hdxret1(7.000000%)_hdxret1(8.000000%)\n",
      "INFO:root:vol_hoc_hdxret1(1.000000%)_dret1_hdxret1(2.000000%)_hdxret1(3.000000%)_hdxret1(4.000000%)_hdxret1(5.000000%)_hdxret1(6.000000%)_hdxret1(7.000000%)_hdxret1(8.000000%)\n",
      "INFO:root:vol_hlh_hdxret1(0.062500%)_dret1_hdxret1(0.125000%)_hdxret1(0.250000%)_hdxret1(0.500000%)_hdxret1(1.000000%)_hdxret1(2.000000%)_hdxret1(4.000000%)_hdxret1(8.000000%)\n",
      "INFO:root:vol_hoc_hdxret1(0.062500%)_dret1_hdxret1(0.125000%)_hdxret1(0.250000%)_hdxret1(0.500000%)_hdxret1(1.000000%)_hdxret1(2.000000%)_hdxret1(4.000000%)_hdxret1(8.000000%)\n",
      "INFO:root:vol_hlh_hdxret2(0.5*avg,1)_dret2_hdxret2(1*avg,1)_hdxret2(2*avg,1)\n",
      "INFO:root:vol_hoc_hdxret2(0.5*avg,1)_dret2_hdxret2(1*avg,1)_hdxret2(2*avg,1)\n",
      "INFO:root:vol_hlh_hdxret2(0.5*mad,1)_dret2_hdxret2(1*mad,1)_hdxret2(2*mad,1)\n",
      "INFO:root:vol_hoc_hdxret2(0.5*mad,1)_dret2_hdxret2(1*mad,1)_hdxret2(2*mad,1)\n",
      "INFO:root:vol_hlh_hdxret2(0.5*max,1)_dret2_hdxret2(1*max,1)_hdxret2(2*max,1)\n",
      "INFO:root:vol_hoc_hdxret2(0.5*max,1)_dret2_hdxret2(1*max,1)_hdxret2(2*max,1)\n",
      "INFO:root:vol_hlh_hdxret2(0.5*min,1)_dret2_hdxret2(1*min,1)_hdxret2(2*min,1)\n",
      "INFO:root:vol_hoc_hdxret2(0.5*min,1)_dret2_hdxret2(1*min,1)_hdxret2(2*min,1)\n",
      "INFO:root:vol_hlh_hdxret2(0.5*std,1)_dret2_hdxret2(1*std,1)_hdxret2(2*std,1)\n",
      "INFO:root:vol_hoc_hdxret2(0.5*std,1)_dret2_hdxret2(1*std,1)_hdxret2(2*std,1)\n",
      "INFO:root:vol_dohlca_dwrmx(-1)_dwrmx(20)_dwrmx(240)_dwrmx(5)\n",
      "INFO:root:vol_dohlca_dwrod(-1)_dwrod(20)_dwrod(240)_dwrod(5)\n",
      "INFO:root:vol_dohlca_dwrpt(-1)_dwrpt(20)_dwrpt(240)_dwrpt(5)\n",
      "INFO:root:vol_dohlca_dwrzn(-1)_dwrzn(20)_dwrzn(240)_dwrzn(5)\n",
      "INFO:root:vol_hlh_hdxcret1(1.000000%)_dxfbcret1_hdxcret1(2.000000%)_hdxcret1(3.000000%)_hdxcret1(4.000000%)_hdxcret1(5.000000%)_hdxcret1(6.000000%)_hdxcret1(7.000000%)_hdxcret1(8.000000%)\n",
      "INFO:root:vol_hoc_hdxcret1(1.000000%)_dxfbcret1_hdxcret1(2.000000%)_hdxcret1(3.000000%)_hdxcret1(4.000000%)_hdxcret1(5.000000%)_hdxcret1(6.000000%)_hdxcret1(7.000000%)_hdxcret1(8.000000%)\n",
      "INFO:root:vol_hlh_hdxcret1(0.062500%)_dxfbcret1_hdxcret1(0.125000%)_hdxcret1(0.250000%)_hdxcret1(0.500000%)_hdxcret1(1.000000%)_hdxcret1(2.000000%)_hdxcret1(4.000000%)_hdxcret1(8.000000%)\n",
      "INFO:root:vol_hoc_hdxcret1(0.062500%)_dxfbcret1_hdxcret1(0.125000%)_hdxcret1(0.250000%)_hdxcret1(0.500000%)_hdxcret1(1.000000%)_hdxcret1(2.000000%)_hdxcret1(4.000000%)_hdxcret1(8.000000%)\n",
      "INFO:root:vol_hlh_hdxcret2(0.5*avg,1)_dxfbcret2_hdxcret2(1*avg,1)_hdxcret2(2*avg,1)\n",
      "INFO:root:vol_hoc_hdxcret2(0.5*avg,1)_dxfbcret2_hdxcret2(1*avg,1)_hdxcret2(2*avg,1)\n",
      "INFO:root:vol_hlh_hdxcret2(0.5*mad,1)_dxfbcret2_hdxcret2(1*mad,1)_hdxcret2(2*mad,1)\n",
      "INFO:root:vol_hoc_hdxcret2(0.5*mad,1)_dxfbcret2_hdxcret2(1*mad,1)_hdxcret2(2*mad,1)\n",
      "INFO:root:vol_hlh_hdxcret2(0.5*max,1)_dxfbcret2_hdxcret2(1*max,1)_hdxcret2(2*max,1)\n",
      "INFO:root:vol_hoc_hdxcret2(0.5*max,1)_dxfbcret2_hdxcret2(1*max,1)_hdxcret2(2*max,1)\n",
      "INFO:root:vol_hlh_hdxcret2(0.5*min,1)_dxfbcret2_hdxcret2(1*min,1)_hdxcret2(2*min,1)\n",
      "INFO:root:vol_hoc_hdxcret2(0.5*min,1)_dxfbcret2_hdxcret2(1*min,1)_hdxcret2(2*min,1)\n",
      "INFO:root:vol_hlh_hdxcret2(0.5*std,1)_dxfbcret2_hdxcret2(1*std,1)_hdxcret2(2*std,1)\n",
      "INFO:root:vol_hoc_hdxcret2(0.5*std,1)_dxfbcret2_hdxcret2(1*std,1)_hdxcret2(2*std,1)\n",
      "INFO:root:vol_hlh_hdxcret1(1.000000%)_dxfbdir1_hdxcret1(2.000000%)_hdxcret1(3.000000%)_hdxcret1(4.000000%)_hdxcret1(5.000000%)_hdxcret1(6.000000%)_hdxcret1(7.000000%)_hdxcret1(8.000000%)\n",
      "INFO:root:vol_hoc_hdxcret1(1.000000%)_dxfbdir1_hdxcret1(2.000000%)_hdxcret1(3.000000%)_hdxcret1(4.000000%)_hdxcret1(5.000000%)_hdxcret1(6.000000%)_hdxcret1(7.000000%)_hdxcret1(8.000000%)\n"
     ]
    },
    {
     "name": "stderr",
     "output_type": "stream",
     "text": [
      "INFO:root:vol_hlh_hdxcret1(0.062500%)_dxfbdir1_hdxcret1(0.125000%)_hdxcret1(0.250000%)_hdxcret1(0.500000%)_hdxcret1(1.000000%)_hdxcret1(2.000000%)_hdxcret1(4.000000%)_hdxcret1(8.000000%)\n",
      "INFO:root:vol_hoc_hdxcret1(0.062500%)_dxfbdir1_hdxcret1(0.125000%)_hdxcret1(0.250000%)_hdxcret1(0.500000%)_hdxcret1(1.000000%)_hdxcret1(2.000000%)_hdxcret1(4.000000%)_hdxcret1(8.000000%)\n",
      "INFO:root:vol_hlh_hdxcret2(0.5*avg,1)_dxfbdir2_hdxcret2(1*avg,1)_hdxcret2(2*avg,1)\n",
      "INFO:root:vol_hoc_hdxcret2(0.5*avg,1)_dxfbdir2_hdxcret2(1*avg,1)_hdxcret2(2*avg,1)\n",
      "INFO:root:vol_hlh_hdxcret2(0.5*mad,1)_dxfbdir2_hdxcret2(1*mad,1)_hdxcret2(2*mad,1)\n",
      "INFO:root:vol_hoc_hdxcret2(0.5*mad,1)_dxfbdir2_hdxcret2(1*mad,1)_hdxcret2(2*mad,1)\n",
      "INFO:root:vol_hlh_hdxcret2(0.5*max,1)_dxfbdir2_hdxcret2(1*max,1)_hdxcret2(2*max,1)\n",
      "INFO:root:vol_hoc_hdxcret2(0.5*max,1)_dxfbdir2_hdxcret2(1*max,1)_hdxcret2(2*max,1)\n",
      "INFO:root:vol_hlh_hdxcret2(0.5*min,1)_dxfbdir2_hdxcret2(1*min,1)_hdxcret2(2*min,1)\n",
      "INFO:root:vol_hoc_hdxcret2(0.5*min,1)_dxfbdir2_hdxcret2(1*min,1)_hdxcret2(2*min,1)\n",
      "INFO:root:vol_hlh_hdxcret2(0.5*std,1)_dxfbdir2_hdxcret2(1*std,1)_hdxcret2(2*std,1)\n",
      "INFO:root:vol_hoc_hdxcret2(0.5*std,1)_dxfbdir2_hdxcret2(1*std,1)_hdxcret2(2*std,1)\n",
      "INFO:root:vol_hlh_hdxcret1(1.000000%)_dxfbval1_hdxcret1(2.000000%)_hdxcret1(3.000000%)_hdxcret1(4.000000%)_hdxcret1(5.000000%)_hdxcret1(6.000000%)_hdxcret1(7.000000%)_hdxcret1(8.000000%)\n",
      "INFO:root:vol_hoc_hdxcret1(1.000000%)_dxfbval1_hdxcret1(2.000000%)_hdxcret1(3.000000%)_hdxcret1(4.000000%)_hdxcret1(5.000000%)_hdxcret1(6.000000%)_hdxcret1(7.000000%)_hdxcret1(8.000000%)\n",
      "INFO:root:vol_hlh_hdxcret1(0.062500%)_dxfbval1_hdxcret1(0.125000%)_hdxcret1(0.250000%)_hdxcret1(0.500000%)_hdxcret1(1.000000%)_hdxcret1(2.000000%)_hdxcret1(4.000000%)_hdxcret1(8.000000%)\n",
      "INFO:root:vol_hoc_hdxcret1(0.062500%)_dxfbval1_hdxcret1(0.125000%)_hdxcret1(0.250000%)_hdxcret1(0.500000%)_hdxcret1(1.000000%)_hdxcret1(2.000000%)_hdxcret1(4.000000%)_hdxcret1(8.000000%)\n",
      "INFO:root:vol_hlh_hdxcret2(0.5*avg,1)_dxfbval2_hdxcret2(1*avg,1)_hdxcret2(2*avg,1)\n",
      "INFO:root:vol_hoc_hdxcret2(0.5*avg,1)_dxfbval2_hdxcret2(1*avg,1)_hdxcret2(2*avg,1)\n",
      "INFO:root:vol_hlh_hdxcret2(0.5*mad,1)_dxfbval2_hdxcret2(1*mad,1)_hdxcret2(2*mad,1)\n",
      "INFO:root:vol_hoc_hdxcret2(0.5*mad,1)_dxfbval2_hdxcret2(1*mad,1)_hdxcret2(2*mad,1)\n",
      "INFO:root:vol_hlh_hdxcret2(0.5*max,1)_dxfbval2_hdxcret2(1*max,1)_hdxcret2(2*max,1)\n",
      "INFO:root:vol_hoc_hdxcret2(0.5*max,1)_dxfbval2_hdxcret2(1*max,1)_hdxcret2(2*max,1)\n",
      "INFO:root:vol_hlh_hdxcret2(0.5*min,1)_dxfbval2_hdxcret2(1*min,1)_hdxcret2(2*min,1)\n",
      "INFO:root:vol_hoc_hdxcret2(0.5*min,1)_dxfbval2_hdxcret2(1*min,1)_hdxcret2(2*min,1)\n",
      "INFO:root:vol_hlh_hdxcret2(0.5*std,1)_dxfbval2_hdxcret2(1*std,1)_hdxcret2(2*std,1)\n",
      "INFO:root:vol_hoc_hdxcret2(0.5*std,1)_dxfbval2_hdxcret2(1*std,1)_hdxcret2(2*std,1)\n",
      "INFO:root:trmi3_etf3_news_buzz_dohlca_ddiff(1)_mkt3_bondBuzz_ratesBuzz_stockIndexBuzz\n",
      "INFO:root:trmi3_etf3_social_buzz_dohlca_ddiff(1)_mkt3_bondBuzz_ratesBuzz_stockIndexBuzz\n",
      "INFO:root:trmi3_etf3_news_buzz_dohlca_dffd(0.200000,0.010000)_dffd(0.400000,0.010000)_dffd(0.600000,0.010000)_dffd(0.800000,0.010000)_mkt3_bondBuzz_ratesBuzz_stockIndexBuzz\n",
      "INFO:root:trmi3_etf3_social_buzz_dohlca_dffd(0.200000,0.010000)_dffd(0.400000,0.010000)_dffd(0.600000,0.010000)_dffd(0.800000,0.010000)_mkt3_bondBuzz_ratesBuzz_stockIndexBuzz\n",
      "INFO:root:trmi3_etf3_news_buzz_dohlca_mkt3_bondBuzz_ratesBuzz_stockIndexBuzz\n",
      "INFO:root:trmi3_etf3_social_buzz_dohlca_mkt3_bondBuzz_ratesBuzz_stockIndexBuzz\n",
      "INFO:root:trmi3_etf3_news_buzz_dohlca_dwrmx(-1)_dwrmx(20)_dwrmx(240)_dwrmx(5)_mkt3_bondBuzz_ratesBuzz_stockIndexBuzz\n",
      "INFO:root:trmi3_etf3_social_buzz_dohlca_dwrmx(-1)_dwrmx(20)_dwrmx(240)_dwrmx(5)_mkt3_bondBuzz_ratesBuzz_stockIndexBuzz\n",
      "INFO:root:trmi3_etf3_news_buzz_dohlca_dwrod(-1)_dwrod(20)_dwrod(240)_dwrod(5)_mkt3_bondBuzz_ratesBuzz_stockIndexBuzz\n",
      "INFO:root:trmi3_etf3_social_buzz_dohlca_dwrod(-1)_dwrod(20)_dwrod(240)_dwrod(5)_mkt3_bondBuzz_ratesBuzz_stockIndexBuzz\n",
      "INFO:root:trmi3_etf3_news_buzz_dohlca_dwrpt(-1)_dwrpt(20)_dwrpt(240)_dwrpt(5)_mkt3_bondBuzz_ratesBuzz_stockIndexBuzz\n",
      "INFO:root:trmi3_etf3_social_buzz_dohlca_dwrpt(-1)_dwrpt(20)_dwrpt(240)_dwrpt(5)_mkt3_bondBuzz_ratesBuzz_stockIndexBuzz\n",
      "INFO:root:trmi3_etf3_news_buzz_dohlca_dwrzn(-1)_dwrzn(20)_dwrzn(240)_dwrzn(5)_mkt3_bondBuzz_ratesBuzz_stockIndexBuzz\n",
      "INFO:root:trmi3_etf3_social_buzz_dohlca_dwrzn(-1)_dwrzn(20)_dwrzn(240)_dwrzn(5)_mkt3_bondBuzz_ratesBuzz_stockIndexBuzz\n",
      "INFO:root:trmi3_etf3_news_forecast_dc_fundamental_sentiment_mkt3_bank_bond_stock\n",
      "INFO:root:trmi3_etf3_social_forecast_dc_fundamental_sentiment_mkt3_bank_bond_stock\n",
      "INFO:root:trmi3_etf3_news_forecast_dc_ddiff(1)_fundamental_sentiment_mkt3_bank_bond_stock\n",
      "INFO:root:trmi3_etf3_social_forecast_dc_ddiff(1)_fundamental_sentiment_mkt3_bank_bond_stock\n",
      "INFO:root:trmi3_etf3_news_forecast_dc_dffd(0.200000,0.010000)_dffd(0.400000,0.010000)_dffd(0.600000,0.010000)_dffd(0.800000,0.010000)_fundamental_sentiment_mkt3_bank_bond_stock\n",
      "INFO:root:trmi3_etf3_social_forecast_dc_dffd(0.200000,0.010000)_dffd(0.400000,0.010000)_dffd(0.600000,0.010000)_dffd(0.800000,0.010000)_fundamental_sentiment_mkt3_bank_bond_stock\n",
      "INFO:root:trmi3_etf3_news_forecast_dc_ddiff(1)_dwrxmx(-1)_fundamental_sentiment_mkt3_bank_bond_stock\n",
      "INFO:root:trmi3_etf3_social_forecast_dc_ddiff(1)_dwrxmx(-1)_fundamental_sentiment_mkt3_bank_bond_stock\n",
      "INFO:root:trmi3_etf3_news_forecast_dc_dffd(0.200000,0.010000)_dwrxmx(-1)_dffd(0.400000,0.010000)_dffd(0.600000,0.010000)_dffd(0.800000,0.010000)_fundamental_sentiment_mkt3_bank_bond_stock\n",
      "INFO:root:trmi3_etf3_social_forecast_dc_dffd(0.200000,0.010000)_dwrxmx(-1)_dffd(0.400000,0.010000)_dffd(0.600000,0.010000)_dffd(0.800000,0.010000)_fundamental_sentiment_mkt3_bank_bond_stock\n"
     ]
    }
   ],
   "source": [
    "fd = get_xg_feature_dfs(chosen_asset)\n",
    "ld, td = get_xg_label_target_dfs(chosen_asset)"
   ]
  },
  {
   "cell_type": "code",
   "execution_count": 4,
   "metadata": {},
   "outputs": [],
   "source": [
    "d_all_common = ['dwrmx', 'dwrod', 'dwrpt', 'dwrzn', 'dffd']\n",
    "d_extra = ['dlogret', 'dohlca', 'ddiff', 'dc', 'dwrxmx']"
   ]
  },
  {
   "cell_type": "code",
   "execution_count": 5,
   "metadata": {},
   "outputs": [],
   "source": [
    "h_all_common = ['hdmx', 'hdod', 'hdpt', 'hdzn']\n",
    "h_extra = ['hdgau', 'hduni', 'hohlca']"
   ]
  },
  {
   "cell_type": "markdown",
   "metadata": {},
   "source": [
    "Test axefiles per asset and source (4 * 4 * 5 + 4 * 3 * 4 = ~128 tests) , what model to use?\n",
    "* TCN\n",
    "* XGBOOST\n",
    "* RF"
   ]
  },
  {
   "cell_type": "markdown",
   "metadata": {},
   "source": [
    "OR I just make a best guess on the best features. I record the tensor dimensions (allow easy modification) and get going on the meat of this stuff. I can start with only h/d pba, play with that until it's working well then iteratively add other sources.\n",
    "\n",
    "I start with one asset, move to others after the first asset's model works.\n",
    "\n",
    "I know roughly what features to use. I need to now determine the model design."
   ]
  },
  {
   "cell_type": "code",
   "execution_count": 6,
   "metadata": {},
   "outputs": [
    {
     "data": {
      "text/plain": [
       "(['hdmx', 'hdod', 'hdpt', 'hdzn'],\n",
       " ['dwrmx', 'dwrod', 'dwrpt', 'dwrzn', 'dffd'])"
      ]
     },
     "execution_count": 6,
     "metadata": {},
     "output_type": "execute_result"
    }
   ],
   "source": [
    "h_all_common, d_all_common"
   ]
  },
  {
   "cell_type": "markdown",
   "metadata": {},
   "source": [
    "## Select Data"
   ]
  },
  {
   "cell_type": "markdown",
   "metadata": {},
   "source": [
    "### Choose Features and Join"
   ]
  },
  {
   "cell_type": "code",
   "execution_count": 7,
   "metadata": {},
   "outputs": [
    {
     "name": "stdout",
     "output_type": "stream",
     "text": [
      "h\n",
      "\tpba\n",
      "\t\thdgau\n",
      "\t\t\tpba_hlh_hlogret_hdzn_hdgau(8)_hret_hspread\n",
      "\t\t\tpba_hoc_hlogret_hdzn_hdgau(8)_hret_hspread\n",
      "\t\t\tpba_hohlca_hdzn_hdgau(8)\n",
      "\t\thdmx\n",
      "\t\t\tpba_hlh_hlogret_hdmx_hret_hspread\n",
      "\t\t\tpba_hoc_hlogret_hdmx_hret_hspread\n",
      "\t\t\tpba_hohlca_hdmx\n",
      "\t\thdod\n",
      "\t\t\tpba_hlh_hlogret_hdod_hret_hspread\n",
      "\t\t\tpba_hoc_hlogret_hdod_hret_hspread\n",
      "\t\t\tpba_hohlca_hdod\n",
      "\t\thdpt\n",
      "\t\t\tpba_hlh_hlogret_hdpt_hret_hspread\n",
      "\t\t\tpba_hoc_hlogret_hdpt_hret_hspread\n",
      "\t\t\tpba_hohlca_hdpt\n",
      "\t\thduni\n",
      "\t\t\tpba_hlh_hlogret_hdmx_hduni(8)_hret_hspread\n",
      "\t\t\tpba_hoc_hlogret_hdmx_hduni(8)_hret_hspread\n",
      "\t\t\tpba_hohlca_hdmx_hduni(8)\n",
      "\t\thdzn\n",
      "\t\t\tpba_hlh_hlogret_hdzn_hret_hspread\n",
      "\t\t\tpba_hoc_hlogret_hdzn_hret_hspread\n",
      "\t\t\tpba_hohlca_hdzn\n",
      "\t\thohlca\n",
      "\t\t\tpba_hohlca\n",
      "\tvol\n",
      "\t\thdgau\n",
      "\t\t\tvol_hlh_hlogret_hdzn_hdgau(8)_hret_hspread\n",
      "\t\t\tvol_hoc_hlogret_hdzn_hdgau(8)_hret_hspread\n",
      "\t\t\tvol_hohlca_hdzn_hdgau(8)\n",
      "\t\thdmx\n",
      "\t\t\tvol_hlh_hlogret_hdmx_hret_hspread\n",
      "\t\t\tvol_hoc_hlogret_hdmx_hret_hspread\n",
      "\t\t\tvol_hohlca_hdmx\n",
      "\t\thdod\n",
      "\t\t\tvol_hlh_hlogret_hdod_hret_hspread\n",
      "\t\t\tvol_hoc_hlogret_hdod_hret_hspread\n",
      "\t\t\tvol_hohlca_hdod\n",
      "\t\thdpt\n",
      "\t\t\tvol_hlh_hlogret_hdpt_hret_hspread\n",
      "\t\t\tvol_hoc_hlogret_hdpt_hret_hspread\n",
      "\t\t\tvol_hohlca_hdpt\n",
      "\t\thduni\n",
      "\t\t\tvol_hlh_hlogret_hdmx_hduni(8)_hret_hspread\n",
      "\t\t\tvol_hoc_hlogret_hdmx_hduni(8)_hret_hspread\n",
      "\t\t\tvol_hohlca_hdmx_hduni(8)\n",
      "\t\thdzn\n",
      "\t\t\tvol_hlh_hlogret_hdzn_hret_hspread\n",
      "\t\t\tvol_hoc_hlogret_hdzn_hret_hspread\n",
      "\t\t\tvol_hohlca_hdzn\n",
      "\t\thohlca\n",
      "\t\t\tvol_hohlca\n",
      "\tbuzz\n",
      "\t\thdgau\n",
      "\t\t\ttrmi3_etf3_news_buzz_hohlca_hdzn_hdgau(8)_mkt3_bondBuzz_ratesBuzz_stockIndexBuzz\n",
      "\t\t\ttrmi3_etf3_social_buzz_hohlca_hdzn_hdgau(8)_mkt3_bondBuzz_ratesBuzz_stockIndexBuzz\n",
      "\t\thdmx\n",
      "\t\t\ttrmi3_etf3_news_buzz_hohlca_hdmx_mkt3_bondBuzz_ratesBuzz_stockIndexBuzz\n",
      "\t\t\ttrmi3_etf3_social_buzz_hohlca_hdmx_mkt3_bondBuzz_ratesBuzz_stockIndexBuzz\n",
      "\t\thdod\n",
      "\t\t\ttrmi3_etf3_news_buzz_hohlca_hdod_mkt3_bondBuzz_ratesBuzz_stockIndexBuzz\n",
      "\t\t\ttrmi3_etf3_social_buzz_hohlca_hdod_mkt3_bondBuzz_ratesBuzz_stockIndexBuzz\n",
      "\t\thdpt\n",
      "\t\t\ttrmi3_etf3_news_buzz_hohlca_hdpt_mkt3_bondBuzz_ratesBuzz_stockIndexBuzz\n",
      "\t\t\ttrmi3_etf3_social_buzz_hohlca_hdpt_mkt3_bondBuzz_ratesBuzz_stockIndexBuzz\n",
      "\t\thduni\n",
      "\t\t\ttrmi3_etf3_news_buzz_hohlca_hdmx_hduni(8)_mkt3_bondBuzz_ratesBuzz_stockIndexBuzz\n",
      "\t\t\ttrmi3_etf3_social_buzz_hohlca_hdmx_hduni(8)_mkt3_bondBuzz_ratesBuzz_stockIndexBuzz\n",
      "\t\thdzn\n",
      "\t\t\ttrmi3_etf3_news_buzz_hohlca_hdzn_mkt3_bondBuzz_ratesBuzz_stockIndexBuzz\n",
      "\t\t\ttrmi3_etf3_social_buzz_hohlca_hdzn_mkt3_bondBuzz_ratesBuzz_stockIndexBuzz\n",
      "\t\thohlca\n",
      "\t\t\ttrmi3_etf3_news_buzz_hohlca_mkt3_bondBuzz_ratesBuzz_stockIndexBuzz\n",
      "\t\t\ttrmi3_etf3_social_buzz_hohlca_mkt3_bondBuzz_ratesBuzz_stockIndexBuzz\n",
      "\tnonbuzz\n",
      "d\n",
      "\tpba\n",
      "\t\tddiff\n",
      "\t\t\tpba_dohlca_ddiff(1)\n",
      "\t\tddir\n",
      "\t\t\tpba_hlh_hdxret_ddir\n",
      "\t\t\tpba_hoc_hdxret_ddir\n",
      "\t\tddir1\n",
      "\t\t\tpba_hlh_hdxret1(1.000000%)_ddir1_hdxret1(2.000000%)_hdxret1(3.000000%)_hdxret1(4.000000%)_hdxret1(5.000000%)_hdxret1(6.000000%)_hdxret1(7.000000%)_hdxret1(8.000000%)\n",
      "\t\t\tpba_hoc_hdxret1(1.000000%)_ddir1_hdxret1(2.000000%)_hdxret1(3.000000%)_hdxret1(4.000000%)_hdxret1(5.000000%)_hdxret1(6.000000%)_hdxret1(7.000000%)_hdxret1(8.000000%)\n",
      "\t\t\tpba_hlh_hdxret1(0.062500%)_ddir1_hdxret1(0.125000%)_hdxret1(0.250000%)_hdxret1(0.500000%)_hdxret1(1.000000%)_hdxret1(2.000000%)_hdxret1(4.000000%)_hdxret1(8.000000%)\n",
      "\t\t\tpba_hoc_hdxret1(0.062500%)_ddir1_hdxret1(0.125000%)_hdxret1(0.250000%)_hdxret1(0.500000%)_hdxret1(1.000000%)_hdxret1(2.000000%)_hdxret1(4.000000%)_hdxret1(8.000000%)\n",
      "\t\tddir2\n",
      "\t\t\tpba_hlh_hdxret2(0.5*avg,1)_ddir2_hdxret2(1*avg,1)_hdxret2(2*avg,1)\n",
      "\t\t\tpba_hoc_hdxret2(0.5*avg,1)_ddir2_hdxret2(1*avg,1)_hdxret2(2*avg,1)\n",
      "\t\t\tpba_hlh_hdxret2(0.5*mad,1)_ddir2_hdxret2(1*mad,1)_hdxret2(2*mad,1)\n",
      "\t\t\tpba_hoc_hdxret2(0.5*mad,1)_ddir2_hdxret2(1*mad,1)_hdxret2(2*mad,1)\n",
      "\t\t\tpba_hlh_hdxret2(0.5*max,1)_ddir2_hdxret2(1*max,1)_hdxret2(2*max,1)\n",
      "\t\t\tpba_hoc_hdxret2(0.5*max,1)_ddir2_hdxret2(1*max,1)_hdxret2(2*max,1)\n",
      "\t\t\tpba_hlh_hdxret2(0.5*min,1)_ddir2_hdxret2(1*min,1)_hdxret2(2*min,1)\n",
      "\t\t\tpba_hoc_hdxret2(0.5*min,1)_ddir2_hdxret2(1*min,1)_hdxret2(2*min,1)\n",
      "\t\t\tpba_hlh_hdxret2(0.5*std,1)_ddir2_hdxret2(1*std,1)_hdxret2(2*std,1)\n",
      "\t\t\tpba_hoc_hdxret2(0.5*std,1)_ddir2_hdxret2(1*std,1)_hdxret2(2*std,1)\n",
      "\t\tdffd\n",
      "\t\t\tpba_dohlca_dffd(0.200000,0.010000)_dffd(0.400000,0.010000)_dffd(0.600000,0.010000)_dffd(0.800000,0.010000)\n",
      "\t\tdlogret\n",
      "\t\t\tpba_dlh_dlogret\n",
      "\t\t\tpba_doc_dlogret\n",
      "\t\tdohlca\n",
      "\t\t\tpba_dohlca\n",
      "\t\tdret\n",
      "\t\t\tpba_hlh_hdxret_dret\n",
      "\t\t\tpba_hoc_hdxret_dret\n",
      "\t\tdret1\n",
      "\t\t\tpba_hlh_hdxret1(1.000000%)_dret1_hdxret1(2.000000%)_hdxret1(3.000000%)_hdxret1(4.000000%)_hdxret1(5.000000%)_hdxret1(6.000000%)_hdxret1(7.000000%)_hdxret1(8.000000%)\n",
      "\t\t\tpba_hoc_hdxret1(1.000000%)_dret1_hdxret1(2.000000%)_hdxret1(3.000000%)_hdxret1(4.000000%)_hdxret1(5.000000%)_hdxret1(6.000000%)_hdxret1(7.000000%)_hdxret1(8.000000%)\n",
      "\t\t\tpba_hlh_hdxret1(0.062500%)_dret1_hdxret1(0.125000%)_hdxret1(0.250000%)_hdxret1(0.500000%)_hdxret1(1.000000%)_hdxret1(2.000000%)_hdxret1(4.000000%)_hdxret1(8.000000%)\n",
      "\t\t\tpba_hoc_hdxret1(0.062500%)_dret1_hdxret1(0.125000%)_hdxret1(0.250000%)_hdxret1(0.500000%)_hdxret1(1.000000%)_hdxret1(2.000000%)_hdxret1(4.000000%)_hdxret1(8.000000%)\n",
      "\t\tdret2\n",
      "\t\t\tpba_hlh_hdxret2(0.5*avg,1)_dret2_hdxret2(1*avg,1)_hdxret2(2*avg,1)\n",
      "\t\t\tpba_hoc_hdxret2(0.5*avg,1)_dret2_hdxret2(1*avg,1)_hdxret2(2*avg,1)\n",
      "\t\t\tpba_hlh_hdxret2(0.5*mad,1)_dret2_hdxret2(1*mad,1)_hdxret2(2*mad,1)\n",
      "\t\t\tpba_hoc_hdxret2(0.5*mad,1)_dret2_hdxret2(1*mad,1)_hdxret2(2*mad,1)\n",
      "\t\t\tpba_hlh_hdxret2(0.5*max,1)_dret2_hdxret2(1*max,1)_hdxret2(2*max,1)\n",
      "\t\t\tpba_hoc_hdxret2(0.5*max,1)_dret2_hdxret2(1*max,1)_hdxret2(2*max,1)\n",
      "\t\t\tpba_hlh_hdxret2(0.5*min,1)_dret2_hdxret2(1*min,1)_hdxret2(2*min,1)\n",
      "\t\t\tpba_hoc_hdxret2(0.5*min,1)_dret2_hdxret2(1*min,1)_hdxret2(2*min,1)\n",
      "\t\t\tpba_hlh_hdxret2(0.5*std,1)_dret2_hdxret2(1*std,1)_hdxret2(2*std,1)\n",
      "\t\t\tpba_hoc_hdxret2(0.5*std,1)_dret2_hdxret2(1*std,1)_hdxret2(2*std,1)\n",
      "\t\tdwrmx\n",
      "\t\t\tpba_dohlca_dwrmx(-1)_dwrmx(20)_dwrmx(240)_dwrmx(5)\n",
      "\t\tdwrod\n",
      "\t\t\tpba_dohlca_dwrod(-1)_dwrod(20)_dwrod(240)_dwrod(5)\n",
      "\t\tdwrpt\n",
      "\t\t\tpba_dohlca_dwrpt(-1)_dwrpt(20)_dwrpt(240)_dwrpt(5)\n",
      "\t\tdwrzn\n",
      "\t\t\tpba_dohlca_dwrzn(-1)_dwrzn(20)_dwrzn(240)_dwrzn(5)\n",
      "\t\tdxfbcret1\n",
      "\t\t\tpba_hlh_hdxcret1(1.000000%)_dxfbcret1_hdxcret1(2.000000%)_hdxcret1(3.000000%)_hdxcret1(4.000000%)_hdxcret1(5.000000%)_hdxcret1(6.000000%)_hdxcret1(7.000000%)_hdxcret1(8.000000%)\n",
      "\t\t\tpba_hoc_hdxcret1(1.000000%)_dxfbcret1_hdxcret1(2.000000%)_hdxcret1(3.000000%)_hdxcret1(4.000000%)_hdxcret1(5.000000%)_hdxcret1(6.000000%)_hdxcret1(7.000000%)_hdxcret1(8.000000%)\n",
      "\t\t\tpba_hlh_hdxcret1(0.062500%)_dxfbcret1_hdxcret1(0.125000%)_hdxcret1(0.250000%)_hdxcret1(0.500000%)_hdxcret1(1.000000%)_hdxcret1(2.000000%)_hdxcret1(4.000000%)_hdxcret1(8.000000%)\n",
      "\t\t\tpba_hoc_hdxcret1(0.062500%)_dxfbcret1_hdxcret1(0.125000%)_hdxcret1(0.250000%)_hdxcret1(0.500000%)_hdxcret1(1.000000%)_hdxcret1(2.000000%)_hdxcret1(4.000000%)_hdxcret1(8.000000%)\n",
      "\t\tdxfbcret2\n",
      "\t\t\tpba_hlh_hdxcret2(0.5*avg,1)_dxfbcret2_hdxcret2(1*avg,1)_hdxcret2(2*avg,1)\n",
      "\t\t\tpba_hoc_hdxcret2(0.5*avg,1)_dxfbcret2_hdxcret2(1*avg,1)_hdxcret2(2*avg,1)\n",
      "\t\t\tpba_hlh_hdxcret2(0.5*mad,1)_dxfbcret2_hdxcret2(1*mad,1)_hdxcret2(2*mad,1)\n",
      "\t\t\tpba_hoc_hdxcret2(0.5*mad,1)_dxfbcret2_hdxcret2(1*mad,1)_hdxcret2(2*mad,1)\n",
      "\t\t\tpba_hlh_hdxcret2(0.5*max,1)_dxfbcret2_hdxcret2(1*max,1)_hdxcret2(2*max,1)\n",
      "\t\t\tpba_hoc_hdxcret2(0.5*max,1)_dxfbcret2_hdxcret2(1*max,1)_hdxcret2(2*max,1)\n",
      "\t\t\tpba_hlh_hdxcret2(0.5*min,1)_dxfbcret2_hdxcret2(1*min,1)_hdxcret2(2*min,1)\n",
      "\t\t\tpba_hoc_hdxcret2(0.5*min,1)_dxfbcret2_hdxcret2(1*min,1)_hdxcret2(2*min,1)\n",
      "\t\t\tpba_hlh_hdxcret2(0.5*std,1)_dxfbcret2_hdxcret2(1*std,1)_hdxcret2(2*std,1)\n",
      "\t\t\tpba_hoc_hdxcret2(0.5*std,1)_dxfbcret2_hdxcret2(1*std,1)_hdxcret2(2*std,1)\n",
      "\t\tdxfbdir1\n",
      "\t\t\tpba_hlh_hdxcret1(1.000000%)_dxfbdir1_hdxcret1(2.000000%)_hdxcret1(3.000000%)_hdxcret1(4.000000%)_hdxcret1(5.000000%)_hdxcret1(6.000000%)_hdxcret1(7.000000%)_hdxcret1(8.000000%)\n",
      "\t\t\tpba_hoc_hdxcret1(1.000000%)_dxfbdir1_hdxcret1(2.000000%)_hdxcret1(3.000000%)_hdxcret1(4.000000%)_hdxcret1(5.000000%)_hdxcret1(6.000000%)_hdxcret1(7.000000%)_hdxcret1(8.000000%)\n",
      "\t\t\tpba_hlh_hdxcret1(0.062500%)_dxfbdir1_hdxcret1(0.125000%)_hdxcret1(0.250000%)_hdxcret1(0.500000%)_hdxcret1(1.000000%)_hdxcret1(2.000000%)_hdxcret1(4.000000%)_hdxcret1(8.000000%)\n",
      "\t\t\tpba_hoc_hdxcret1(0.062500%)_dxfbdir1_hdxcret1(0.125000%)_hdxcret1(0.250000%)_hdxcret1(0.500000%)_hdxcret1(1.000000%)_hdxcret1(2.000000%)_hdxcret1(4.000000%)_hdxcret1(8.000000%)\n",
      "\t\tdxfbdir2\n",
      "\t\t\tpba_hlh_hdxcret2(0.5*avg,1)_dxfbdir2_hdxcret2(1*avg,1)_hdxcret2(2*avg,1)\n",
      "\t\t\tpba_hoc_hdxcret2(0.5*avg,1)_dxfbdir2_hdxcret2(1*avg,1)_hdxcret2(2*avg,1)\n",
      "\t\t\tpba_hlh_hdxcret2(0.5*mad,1)_dxfbdir2_hdxcret2(1*mad,1)_hdxcret2(2*mad,1)\n",
      "\t\t\tpba_hoc_hdxcret2(0.5*mad,1)_dxfbdir2_hdxcret2(1*mad,1)_hdxcret2(2*mad,1)\n",
      "\t\t\tpba_hlh_hdxcret2(0.5*max,1)_dxfbdir2_hdxcret2(1*max,1)_hdxcret2(2*max,1)\n",
      "\t\t\tpba_hoc_hdxcret2(0.5*max,1)_dxfbdir2_hdxcret2(1*max,1)_hdxcret2(2*max,1)\n",
      "\t\t\tpba_hlh_hdxcret2(0.5*min,1)_dxfbdir2_hdxcret2(1*min,1)_hdxcret2(2*min,1)\n",
      "\t\t\tpba_hoc_hdxcret2(0.5*min,1)_dxfbdir2_hdxcret2(1*min,1)_hdxcret2(2*min,1)\n",
      "\t\t\tpba_hlh_hdxcret2(0.5*std,1)_dxfbdir2_hdxcret2(1*std,1)_hdxcret2(2*std,1)\n",
      "\t\t\tpba_hoc_hdxcret2(0.5*std,1)_dxfbdir2_hdxcret2(1*std,1)_hdxcret2(2*std,1)\n",
      "\t\tdxfbval1\n",
      "\t\t\tpba_hlh_hdxcret1(1.000000%)_dxfbval1_hdxcret1(2.000000%)_hdxcret1(3.000000%)_hdxcret1(4.000000%)_hdxcret1(5.000000%)_hdxcret1(6.000000%)_hdxcret1(7.000000%)_hdxcret1(8.000000%)\n",
      "\t\t\tpba_hoc_hdxcret1(1.000000%)_dxfbval1_hdxcret1(2.000000%)_hdxcret1(3.000000%)_hdxcret1(4.000000%)_hdxcret1(5.000000%)_hdxcret1(6.000000%)_hdxcret1(7.000000%)_hdxcret1(8.000000%)\n",
      "\t\t\tpba_hlh_hdxcret1(0.062500%)_dxfbval1_hdxcret1(0.125000%)_hdxcret1(0.250000%)_hdxcret1(0.500000%)_hdxcret1(1.000000%)_hdxcret1(2.000000%)_hdxcret1(4.000000%)_hdxcret1(8.000000%)\n",
      "\t\t\tpba_hoc_hdxcret1(0.062500%)_dxfbval1_hdxcret1(0.125000%)_hdxcret1(0.250000%)_hdxcret1(0.500000%)_hdxcret1(1.000000%)_hdxcret1(2.000000%)_hdxcret1(4.000000%)_hdxcret1(8.000000%)\n",
      "\t\tdxfbval2\n",
      "\t\t\tpba_hlh_hdxcret2(0.5*avg,1)_dxfbval2_hdxcret2(1*avg,1)_hdxcret2(2*avg,1)\n",
      "\t\t\tpba_hoc_hdxcret2(0.5*avg,1)_dxfbval2_hdxcret2(1*avg,1)_hdxcret2(2*avg,1)\n",
      "\t\t\tpba_hlh_hdxcret2(0.5*mad,1)_dxfbval2_hdxcret2(1*mad,1)_hdxcret2(2*mad,1)\n",
      "\t\t\tpba_hoc_hdxcret2(0.5*mad,1)_dxfbval2_hdxcret2(1*mad,1)_hdxcret2(2*mad,1)\n",
      "\t\t\tpba_hlh_hdxcret2(0.5*max,1)_dxfbval2_hdxcret2(1*max,1)_hdxcret2(2*max,1)\n",
      "\t\t\tpba_hoc_hdxcret2(0.5*max,1)_dxfbval2_hdxcret2(1*max,1)_hdxcret2(2*max,1)\n",
      "\t\t\tpba_hlh_hdxcret2(0.5*min,1)_dxfbval2_hdxcret2(1*min,1)_hdxcret2(2*min,1)\n",
      "\t\t\tpba_hoc_hdxcret2(0.5*min,1)_dxfbval2_hdxcret2(1*min,1)_hdxcret2(2*min,1)\n",
      "\t\t\tpba_hlh_hdxcret2(0.5*std,1)_dxfbval2_hdxcret2(1*std,1)_hdxcret2(2*std,1)\n",
      "\t\t\tpba_hoc_hdxcret2(0.5*std,1)_dxfbval2_hdxcret2(1*std,1)_hdxcret2(2*std,1)\n",
      "\tvol\n",
      "\t\tddiff\n",
      "\t\t\tvol_dohlca_ddiff(1)\n",
      "\t\tddir\n",
      "\t\t\tvol_hlh_hdxret_ddir\n",
      "\t\t\tvol_hoc_hdxret_ddir\n",
      "\t\tddir1\n",
      "\t\t\tvol_hlh_hdxret1(1.000000%)_ddir1_hdxret1(2.000000%)_hdxret1(3.000000%)_hdxret1(4.000000%)_hdxret1(5.000000%)_hdxret1(6.000000%)_hdxret1(7.000000%)_hdxret1(8.000000%)\n",
      "\t\t\tvol_hoc_hdxret1(1.000000%)_ddir1_hdxret1(2.000000%)_hdxret1(3.000000%)_hdxret1(4.000000%)_hdxret1(5.000000%)_hdxret1(6.000000%)_hdxret1(7.000000%)_hdxret1(8.000000%)\n",
      "\t\t\tvol_hlh_hdxret1(0.062500%)_ddir1_hdxret1(0.125000%)_hdxret1(0.250000%)_hdxret1(0.500000%)_hdxret1(1.000000%)_hdxret1(2.000000%)_hdxret1(4.000000%)_hdxret1(8.000000%)\n",
      "\t\t\tvol_hoc_hdxret1(0.062500%)_ddir1_hdxret1(0.125000%)_hdxret1(0.250000%)_hdxret1(0.500000%)_hdxret1(1.000000%)_hdxret1(2.000000%)_hdxret1(4.000000%)_hdxret1(8.000000%)\n",
      "\t\tddir2\n",
      "\t\t\tvol_hlh_hdxret2(0.5*avg,1)_ddir2_hdxret2(1*avg,1)_hdxret2(2*avg,1)\n",
      "\t\t\tvol_hoc_hdxret2(0.5*avg,1)_ddir2_hdxret2(1*avg,1)_hdxret2(2*avg,1)\n",
      "\t\t\tvol_hlh_hdxret2(0.5*mad,1)_ddir2_hdxret2(1*mad,1)_hdxret2(2*mad,1)\n",
      "\t\t\tvol_hoc_hdxret2(0.5*mad,1)_ddir2_hdxret2(1*mad,1)_hdxret2(2*mad,1)\n",
      "\t\t\tvol_hlh_hdxret2(0.5*max,1)_ddir2_hdxret2(1*max,1)_hdxret2(2*max,1)\n",
      "\t\t\tvol_hoc_hdxret2(0.5*max,1)_ddir2_hdxret2(1*max,1)_hdxret2(2*max,1)\n",
      "\t\t\tvol_hlh_hdxret2(0.5*min,1)_ddir2_hdxret2(1*min,1)_hdxret2(2*min,1)\n",
      "\t\t\tvol_hoc_hdxret2(0.5*min,1)_ddir2_hdxret2(1*min,1)_hdxret2(2*min,1)\n",
      "\t\t\tvol_hlh_hdxret2(0.5*std,1)_ddir2_hdxret2(1*std,1)_hdxret2(2*std,1)\n",
      "\t\t\tvol_hoc_hdxret2(0.5*std,1)_ddir2_hdxret2(1*std,1)_hdxret2(2*std,1)\n",
      "\t\tdffd\n",
      "\t\t\tvol_dohlca_dffd(0.200000,0.010000)_dffd(0.400000,0.010000)_dffd(0.600000,0.010000)_dffd(0.800000,0.010000)\n",
      "\t\tdlogret\n",
      "\t\t\tvol_dlh_dlogret\n",
      "\t\t\tvol_doc_dlogret\n",
      "\t\tdohlca\n",
      "\t\t\tvol_dohlca\n",
      "\t\tdret\n",
      "\t\t\tvol_hlh_hdxret_dret\n",
      "\t\t\tvol_hoc_hdxret_dret\n",
      "\t\tdret1\n",
      "\t\t\tvol_hlh_hdxret1(1.000000%)_dret1_hdxret1(2.000000%)_hdxret1(3.000000%)_hdxret1(4.000000%)_hdxret1(5.000000%)_hdxret1(6.000000%)_hdxret1(7.000000%)_hdxret1(8.000000%)\n",
      "\t\t\tvol_hoc_hdxret1(1.000000%)_dret1_hdxret1(2.000000%)_hdxret1(3.000000%)_hdxret1(4.000000%)_hdxret1(5.000000%)_hdxret1(6.000000%)_hdxret1(7.000000%)_hdxret1(8.000000%)\n",
      "\t\t\tvol_hlh_hdxret1(0.062500%)_dret1_hdxret1(0.125000%)_hdxret1(0.250000%)_hdxret1(0.500000%)_hdxret1(1.000000%)_hdxret1(2.000000%)_hdxret1(4.000000%)_hdxret1(8.000000%)\n",
      "\t\t\tvol_hoc_hdxret1(0.062500%)_dret1_hdxret1(0.125000%)_hdxret1(0.250000%)_hdxret1(0.500000%)_hdxret1(1.000000%)_hdxret1(2.000000%)_hdxret1(4.000000%)_hdxret1(8.000000%)\n",
      "\t\tdret2\n",
      "\t\t\tvol_hlh_hdxret2(0.5*avg,1)_dret2_hdxret2(1*avg,1)_hdxret2(2*avg,1)\n",
      "\t\t\tvol_hoc_hdxret2(0.5*avg,1)_dret2_hdxret2(1*avg,1)_hdxret2(2*avg,1)\n",
      "\t\t\tvol_hlh_hdxret2(0.5*mad,1)_dret2_hdxret2(1*mad,1)_hdxret2(2*mad,1)\n",
      "\t\t\tvol_hoc_hdxret2(0.5*mad,1)_dret2_hdxret2(1*mad,1)_hdxret2(2*mad,1)\n",
      "\t\t\tvol_hlh_hdxret2(0.5*max,1)_dret2_hdxret2(1*max,1)_hdxret2(2*max,1)\n",
      "\t\t\tvol_hoc_hdxret2(0.5*max,1)_dret2_hdxret2(1*max,1)_hdxret2(2*max,1)\n",
      "\t\t\tvol_hlh_hdxret2(0.5*min,1)_dret2_hdxret2(1*min,1)_hdxret2(2*min,1)\n",
      "\t\t\tvol_hoc_hdxret2(0.5*min,1)_dret2_hdxret2(1*min,1)_hdxret2(2*min,1)\n",
      "\t\t\tvol_hlh_hdxret2(0.5*std,1)_dret2_hdxret2(1*std,1)_hdxret2(2*std,1)\n",
      "\t\t\tvol_hoc_hdxret2(0.5*std,1)_dret2_hdxret2(1*std,1)_hdxret2(2*std,1)\n",
      "\t\tdwrmx\n",
      "\t\t\tvol_dohlca_dwrmx(-1)_dwrmx(20)_dwrmx(240)_dwrmx(5)\n",
      "\t\tdwrod\n",
      "\t\t\tvol_dohlca_dwrod(-1)_dwrod(20)_dwrod(240)_dwrod(5)\n",
      "\t\tdwrpt\n",
      "\t\t\tvol_dohlca_dwrpt(-1)_dwrpt(20)_dwrpt(240)_dwrpt(5)\n",
      "\t\tdwrzn\n",
      "\t\t\tvol_dohlca_dwrzn(-1)_dwrzn(20)_dwrzn(240)_dwrzn(5)\n",
      "\t\tdxfbcret1\n",
      "\t\t\tvol_hlh_hdxcret1(1.000000%)_dxfbcret1_hdxcret1(2.000000%)_hdxcret1(3.000000%)_hdxcret1(4.000000%)_hdxcret1(5.000000%)_hdxcret1(6.000000%)_hdxcret1(7.000000%)_hdxcret1(8.000000%)\n",
      "\t\t\tvol_hoc_hdxcret1(1.000000%)_dxfbcret1_hdxcret1(2.000000%)_hdxcret1(3.000000%)_hdxcret1(4.000000%)_hdxcret1(5.000000%)_hdxcret1(6.000000%)_hdxcret1(7.000000%)_hdxcret1(8.000000%)\n",
      "\t\t\tvol_hlh_hdxcret1(0.062500%)_dxfbcret1_hdxcret1(0.125000%)_hdxcret1(0.250000%)_hdxcret1(0.500000%)_hdxcret1(1.000000%)_hdxcret1(2.000000%)_hdxcret1(4.000000%)_hdxcret1(8.000000%)\n",
      "\t\t\tvol_hoc_hdxcret1(0.062500%)_dxfbcret1_hdxcret1(0.125000%)_hdxcret1(0.250000%)_hdxcret1(0.500000%)_hdxcret1(1.000000%)_hdxcret1(2.000000%)_hdxcret1(4.000000%)_hdxcret1(8.000000%)\n",
      "\t\tdxfbcret2\n",
      "\t\t\tvol_hlh_hdxcret2(0.5*avg,1)_dxfbcret2_hdxcret2(1*avg,1)_hdxcret2(2*avg,1)\n",
      "\t\t\tvol_hoc_hdxcret2(0.5*avg,1)_dxfbcret2_hdxcret2(1*avg,1)_hdxcret2(2*avg,1)\n",
      "\t\t\tvol_hlh_hdxcret2(0.5*mad,1)_dxfbcret2_hdxcret2(1*mad,1)_hdxcret2(2*mad,1)\n",
      "\t\t\tvol_hoc_hdxcret2(0.5*mad,1)_dxfbcret2_hdxcret2(1*mad,1)_hdxcret2(2*mad,1)\n",
      "\t\t\tvol_hlh_hdxcret2(0.5*max,1)_dxfbcret2_hdxcret2(1*max,1)_hdxcret2(2*max,1)\n",
      "\t\t\tvol_hoc_hdxcret2(0.5*max,1)_dxfbcret2_hdxcret2(1*max,1)_hdxcret2(2*max,1)\n",
      "\t\t\tvol_hlh_hdxcret2(0.5*min,1)_dxfbcret2_hdxcret2(1*min,1)_hdxcret2(2*min,1)\n",
      "\t\t\tvol_hoc_hdxcret2(0.5*min,1)_dxfbcret2_hdxcret2(1*min,1)_hdxcret2(2*min,1)\n",
      "\t\t\tvol_hlh_hdxcret2(0.5*std,1)_dxfbcret2_hdxcret2(1*std,1)_hdxcret2(2*std,1)\n",
      "\t\t\tvol_hoc_hdxcret2(0.5*std,1)_dxfbcret2_hdxcret2(1*std,1)_hdxcret2(2*std,1)\n",
      "\t\tdxfbdir1\n",
      "\t\t\tvol_hlh_hdxcret1(1.000000%)_dxfbdir1_hdxcret1(2.000000%)_hdxcret1(3.000000%)_hdxcret1(4.000000%)_hdxcret1(5.000000%)_hdxcret1(6.000000%)_hdxcret1(7.000000%)_hdxcret1(8.000000%)\n",
      "\t\t\tvol_hoc_hdxcret1(1.000000%)_dxfbdir1_hdxcret1(2.000000%)_hdxcret1(3.000000%)_hdxcret1(4.000000%)_hdxcret1(5.000000%)_hdxcret1(6.000000%)_hdxcret1(7.000000%)_hdxcret1(8.000000%)\n",
      "\t\t\tvol_hlh_hdxcret1(0.062500%)_dxfbdir1_hdxcret1(0.125000%)_hdxcret1(0.250000%)_hdxcret1(0.500000%)_hdxcret1(1.000000%)_hdxcret1(2.000000%)_hdxcret1(4.000000%)_hdxcret1(8.000000%)\n",
      "\t\t\tvol_hoc_hdxcret1(0.062500%)_dxfbdir1_hdxcret1(0.125000%)_hdxcret1(0.250000%)_hdxcret1(0.500000%)_hdxcret1(1.000000%)_hdxcret1(2.000000%)_hdxcret1(4.000000%)_hdxcret1(8.000000%)\n",
      "\t\tdxfbdir2\n",
      "\t\t\tvol_hlh_hdxcret2(0.5*avg,1)_dxfbdir2_hdxcret2(1*avg,1)_hdxcret2(2*avg,1)\n",
      "\t\t\tvol_hoc_hdxcret2(0.5*avg,1)_dxfbdir2_hdxcret2(1*avg,1)_hdxcret2(2*avg,1)\n",
      "\t\t\tvol_hlh_hdxcret2(0.5*mad,1)_dxfbdir2_hdxcret2(1*mad,1)_hdxcret2(2*mad,1)\n",
      "\t\t\tvol_hoc_hdxcret2(0.5*mad,1)_dxfbdir2_hdxcret2(1*mad,1)_hdxcret2(2*mad,1)\n",
      "\t\t\tvol_hlh_hdxcret2(0.5*max,1)_dxfbdir2_hdxcret2(1*max,1)_hdxcret2(2*max,1)\n",
      "\t\t\tvol_hoc_hdxcret2(0.5*max,1)_dxfbdir2_hdxcret2(1*max,1)_hdxcret2(2*max,1)\n",
      "\t\t\tvol_hlh_hdxcret2(0.5*min,1)_dxfbdir2_hdxcret2(1*min,1)_hdxcret2(2*min,1)\n",
      "\t\t\tvol_hoc_hdxcret2(0.5*min,1)_dxfbdir2_hdxcret2(1*min,1)_hdxcret2(2*min,1)\n",
      "\t\t\tvol_hlh_hdxcret2(0.5*std,1)_dxfbdir2_hdxcret2(1*std,1)_hdxcret2(2*std,1)\n",
      "\t\t\tvol_hoc_hdxcret2(0.5*std,1)_dxfbdir2_hdxcret2(1*std,1)_hdxcret2(2*std,1)\n",
      "\t\tdxfbval1\n",
      "\t\t\tvol_hlh_hdxcret1(1.000000%)_dxfbval1_hdxcret1(2.000000%)_hdxcret1(3.000000%)_hdxcret1(4.000000%)_hdxcret1(5.000000%)_hdxcret1(6.000000%)_hdxcret1(7.000000%)_hdxcret1(8.000000%)\n",
      "\t\t\tvol_hoc_hdxcret1(1.000000%)_dxfbval1_hdxcret1(2.000000%)_hdxcret1(3.000000%)_hdxcret1(4.000000%)_hdxcret1(5.000000%)_hdxcret1(6.000000%)_hdxcret1(7.000000%)_hdxcret1(8.000000%)\n",
      "\t\t\tvol_hlh_hdxcret1(0.062500%)_dxfbval1_hdxcret1(0.125000%)_hdxcret1(0.250000%)_hdxcret1(0.500000%)_hdxcret1(1.000000%)_hdxcret1(2.000000%)_hdxcret1(4.000000%)_hdxcret1(8.000000%)\n",
      "\t\t\tvol_hoc_hdxcret1(0.062500%)_dxfbval1_hdxcret1(0.125000%)_hdxcret1(0.250000%)_hdxcret1(0.500000%)_hdxcret1(1.000000%)_hdxcret1(2.000000%)_hdxcret1(4.000000%)_hdxcret1(8.000000%)\n",
      "\t\tdxfbval2\n",
      "\t\t\tvol_hlh_hdxcret2(0.5*avg,1)_dxfbval2_hdxcret2(1*avg,1)_hdxcret2(2*avg,1)\n",
      "\t\t\tvol_hoc_hdxcret2(0.5*avg,1)_dxfbval2_hdxcret2(1*avg,1)_hdxcret2(2*avg,1)\n",
      "\t\t\tvol_hlh_hdxcret2(0.5*mad,1)_dxfbval2_hdxcret2(1*mad,1)_hdxcret2(2*mad,1)\n",
      "\t\t\tvol_hoc_hdxcret2(0.5*mad,1)_dxfbval2_hdxcret2(1*mad,1)_hdxcret2(2*mad,1)\n",
      "\t\t\tvol_hlh_hdxcret2(0.5*max,1)_dxfbval2_hdxcret2(1*max,1)_hdxcret2(2*max,1)\n",
      "\t\t\tvol_hoc_hdxcret2(0.5*max,1)_dxfbval2_hdxcret2(1*max,1)_hdxcret2(2*max,1)\n",
      "\t\t\tvol_hlh_hdxcret2(0.5*min,1)_dxfbval2_hdxcret2(1*min,1)_hdxcret2(2*min,1)\n",
      "\t\t\tvol_hoc_hdxcret2(0.5*min,1)_dxfbval2_hdxcret2(1*min,1)_hdxcret2(2*min,1)\n",
      "\t\t\tvol_hlh_hdxcret2(0.5*std,1)_dxfbval2_hdxcret2(1*std,1)_hdxcret2(2*std,1)\n",
      "\t\t\tvol_hoc_hdxcret2(0.5*std,1)_dxfbval2_hdxcret2(1*std,1)_hdxcret2(2*std,1)\n",
      "\tbuzz\n",
      "\t\tddiff\n",
      "\t\t\ttrmi3_etf3_news_buzz_dohlca_ddiff(1)_mkt3_bondBuzz_ratesBuzz_stockIndexBuzz\n",
      "\t\t\ttrmi3_etf3_social_buzz_dohlca_ddiff(1)_mkt3_bondBuzz_ratesBuzz_stockIndexBuzz\n",
      "\t\tdffd\n",
      "\t\t\ttrmi3_etf3_news_buzz_dohlca_dffd(0.200000,0.010000)_dffd(0.400000,0.010000)_dffd(0.600000,0.010000)_dffd(0.800000,0.010000)_mkt3_bondBuzz_ratesBuzz_stockIndexBuzz\n",
      "\t\t\ttrmi3_etf3_social_buzz_dohlca_dffd(0.200000,0.010000)_dffd(0.400000,0.010000)_dffd(0.600000,0.010000)_dffd(0.800000,0.010000)_mkt3_bondBuzz_ratesBuzz_stockIndexBuzz\n",
      "\t\tdohlca\n",
      "\t\t\ttrmi3_etf3_news_buzz_dohlca_mkt3_bondBuzz_ratesBuzz_stockIndexBuzz\n",
      "\t\t\ttrmi3_etf3_social_buzz_dohlca_mkt3_bondBuzz_ratesBuzz_stockIndexBuzz\n",
      "\t\tdwrmx\n",
      "\t\t\ttrmi3_etf3_news_buzz_dohlca_dwrmx(-1)_dwrmx(20)_dwrmx(240)_dwrmx(5)_mkt3_bondBuzz_ratesBuzz_stockIndexBuzz\n",
      "\t\t\ttrmi3_etf3_social_buzz_dohlca_dwrmx(-1)_dwrmx(20)_dwrmx(240)_dwrmx(5)_mkt3_bondBuzz_ratesBuzz_stockIndexBuzz\n",
      "\t\tdwrod\n",
      "\t\t\ttrmi3_etf3_news_buzz_dohlca_dwrod(-1)_dwrod(20)_dwrod(240)_dwrod(5)_mkt3_bondBuzz_ratesBuzz_stockIndexBuzz\n",
      "\t\t\ttrmi3_etf3_social_buzz_dohlca_dwrod(-1)_dwrod(20)_dwrod(240)_dwrod(5)_mkt3_bondBuzz_ratesBuzz_stockIndexBuzz\n",
      "\t\tdwrpt\n",
      "\t\t\ttrmi3_etf3_news_buzz_dohlca_dwrpt(-1)_dwrpt(20)_dwrpt(240)_dwrpt(5)_mkt3_bondBuzz_ratesBuzz_stockIndexBuzz\n",
      "\t\t\ttrmi3_etf3_social_buzz_dohlca_dwrpt(-1)_dwrpt(20)_dwrpt(240)_dwrpt(5)_mkt3_bondBuzz_ratesBuzz_stockIndexBuzz\n",
      "\t\tdwrzn\n",
      "\t\t\ttrmi3_etf3_news_buzz_dohlca_dwrzn(-1)_dwrzn(20)_dwrzn(240)_dwrzn(5)_mkt3_bondBuzz_ratesBuzz_stockIndexBuzz\n",
      "\t\t\ttrmi3_etf3_social_buzz_dohlca_dwrzn(-1)_dwrzn(20)_dwrzn(240)_dwrzn(5)_mkt3_bondBuzz_ratesBuzz_stockIndexBuzz\n",
      "\tnonbuzz\n",
      "\t\tdc\n",
      "\t\t\ttrmi3_etf3_news_forecast_dc_fundamental_sentiment_mkt3_bank_bond_stock\n",
      "\t\t\ttrmi3_etf3_social_forecast_dc_fundamental_sentiment_mkt3_bank_bond_stock\n",
      "\t\tddiff\n",
      "\t\t\ttrmi3_etf3_news_forecast_dc_ddiff(1)_fundamental_sentiment_mkt3_bank_bond_stock\n",
      "\t\t\ttrmi3_etf3_social_forecast_dc_ddiff(1)_fundamental_sentiment_mkt3_bank_bond_stock\n",
      "\t\tdffd\n",
      "\t\t\ttrmi3_etf3_news_forecast_dc_dffd(0.200000,0.010000)_dffd(0.400000,0.010000)_dffd(0.600000,0.010000)_dffd(0.800000,0.010000)_fundamental_sentiment_mkt3_bank_bond_stock\n",
      "\t\t\ttrmi3_etf3_social_forecast_dc_dffd(0.200000,0.010000)_dffd(0.400000,0.010000)_dffd(0.600000,0.010000)_dffd(0.800000,0.010000)_fundamental_sentiment_mkt3_bank_bond_stock\n",
      "\t\tdwrxmx\n",
      "\t\t\ttrmi3_etf3_news_forecast_dc_ddiff(1)_dwrxmx(-1)_fundamental_sentiment_mkt3_bank_bond_stock\n",
      "\t\t\ttrmi3_etf3_social_forecast_dc_ddiff(1)_dwrxmx(-1)_fundamental_sentiment_mkt3_bank_bond_stock\n",
      "\t\t\ttrmi3_etf3_news_forecast_dc_dffd(0.200000,0.010000)_dwrxmx(-1)_dffd(0.400000,0.010000)_dffd(0.600000,0.010000)_dffd(0.800000,0.010000)_fundamental_sentiment_mkt3_bank_bond_stock\n",
      "\t\t\ttrmi3_etf3_social_forecast_dc_dffd(0.200000,0.010000)_dwrxmx(-1)_dffd(0.400000,0.010000)_dffd(0.600000,0.010000)_dffd(0.800000,0.010000)_fundamental_sentiment_mkt3_bank_bond_stock\n"
     ]
    }
   ],
   "source": [
    "for k0, v0 in fd.items():\n",
    "    print(k0)\n",
    "    for k1,v1 in fd[k0].items():\n",
    "        print('\\t' +k1)\n",
    "        for k2, v2 in fd[k0][k1].items():\n",
    "            print('\\t\\t' +k2)\n",
    "            for k3, v3 in fd[k0][k1][k2].items():\n",
    "                print('\\t\\t\\t' +k3)"
   ]
  },
  {
   "cell_type": "code",
   "execution_count": 8,
   "metadata": {},
   "outputs": [],
   "source": [
    "#for ser_name in chosen_f.index.unique(level='id1'):\n",
    "#    print('\\t' +ser_name)\n",
    "#    ser_subset_df = chosen_f.xs(ser_name, level=1, drop_level=False)\n",
    "#    ser_subset_df.index = ser_subset_df.index.remove_unused_levels()\n",
    "#    display(pd_to_np(ser_subset_df))\n",
    "#    ser_subset_df.isnan()\n",
    "#    np.isnan(ser_subset_df.values).any()"
   ]
  },
  {
   "cell_type": "code",
   "execution_count": 9,
   "metadata": {},
   "outputs": [],
   "source": [
    "from xg_util import get_hardcoded_daily_dfs, get_hardcoded_hourly_dfs"
   ]
  },
  {
   "cell_type": "code",
   "execution_count": 10,
   "metadata": {},
   "outputs": [],
   "source": [
    "def df_filter_by_keywords(fdf, keywords):\n",
    "\tcols = [col for col in fdf.index.levels[1] if (any(keyword in col for keyword in keywords))]\n",
    "\treturn pd_rows_key_in(fdf, 'id1', cols)\n",
    "\n",
    "def get_hardcoded_daily_dfs(fd, src):\n",
    "\t\"\"\"\n",
    "\tReturn hardcoded daily freq feature dfs to use in experiments.\n",
    "\t\"\"\"\n",
    "\tfeature_dfs = []\n",
    "\n",
    "\t#if (src in ('pba', 'vol')):\n",
    "\t#\tfeature_dfs.append(fd['d'][src]['dlogret']['{src}_dlh_dlogret'.format(src=src)])\n",
    "\n",
    "\tif (src in ('pba', 'vol', 'buzz')):\n",
    "\t\tfor axe in ('dwrmx', 'dwrod', 'dwrpt', 'dwrzn', 'dffd'):\n",
    "\t\t#for axe in ('dwrmx', 'dwrod', 'dwrpt', 'dwrzn'):\n",
    "\t\t\tfor fdf in fd['d'][src][axe].values():\n",
    "\t\t\t\t#feature_dfs.append(df_filter_by_keywords(fdf, ('avgPrice', 'high', 'low')))\n",
    "\t\t\t\t#feature_dfs.append(df_filter_by_keywords(fdf, ('avgPrice', 'high', 'low', 'close')))\n",
    "\t\t\t\tfeature_dfs.append(fdf)\n",
    "\t\t\t\t#feature_dfs.append(df_filter_by_keywords(df_filter_by_keywords(fdf, ('avgPrice', 'high', 'low')), ('(5)', '(20)',)))\n",
    "\n",
    "\tif (src in ('nonbuzz',)):\n",
    "\t\tfor axe in ('dffd', 'dwrxmx'):\n",
    "\t\t\tfor fdf in fd['d'][src][axe].values():\n",
    "\t\t\t\tfeature_dfs.append(fdf)\n",
    "\n",
    "\t#return pd.concat(feature_dfs).sort_index(axis=0)\n",
    "\treturn pd.concat(feature_dfs)\n",
    "\n",
    "def get_hardcoded_hourly_dfs(fd, src):\n",
    "\t\"\"\"\n",
    "\tReturn hardcoded hourly freq feature dfs to use in experiments.\n",
    "\t\"\"\"\n",
    "\tfeature_dfs = []\n",
    "\n",
    "\tif (src in ('pba', 'vol', 'buzz')):\n",
    "\t\tfor axe in ('hdmx', 'hdod', 'hdpt', 'hdzn', 'hdgau', 'hduni'):\n",
    "\t\t\tif (src in ('buzz', 'nonbuzz')):\n",
    "\t\t\t\tfor fdf in fd['h'][src][axe].values():\n",
    "\t\t\t\t\tfeature_dfs.append(df_filter_by_keywords(fdf, ('open',)))\n",
    "\t\t\telse:\n",
    "\t\t\t\tfor fdf in fd['h'][src][axe].values():\n",
    "\t\t\t\t\t#feature_dfs.append(df_filter_by_keywords(fdf, ('avgPrice', 'high', 'low', 'close')))\n",
    "\t\t\t\t\tfeature_dfs.append(fdf)\n",
    "\n",
    "\treturn pd.concat(feature_dfs)"
   ]
  },
  {
   "cell_type": "code",
   "execution_count": 11,
   "metadata": {},
   "outputs": [],
   "source": [
    "d_pba = get_hardcoded_daily_dfs(fd, 'pba')\n",
    "d_vol = get_hardcoded_daily_dfs(fd, 'vol')\n",
    "d_buzz = get_hardcoded_daily_dfs(fd, 'buzz')\n",
    "d_nonbuzz = get_hardcoded_daily_dfs(fd, 'buzz')\n",
    "h_pba = get_hardcoded_hourly_dfs(fd, 'pba')\n",
    "h_vol = get_hardcoded_hourly_dfs(fd, 'vol')\n",
    "h_buzz = get_hardcoded_hourly_dfs(fd, 'buzz')"
   ]
  },
  {
   "cell_type": "code",
   "execution_count": 12,
   "metadata": {},
   "outputs": [],
   "source": [
    "# Returns (AR)\n",
    "chosen_f = fd['d']['pba']['dret']['pba_hlh_hdxret_dret']\n",
    "chosen_f = fd['d']['pba']['dret']['pba_hoc_hdxret_dret']\n",
    "#chosen_f = fd['d']['pba']['ddir']['pba_hoc_hdxret_ddir']"
   ]
  },
  {
   "cell_type": "code",
   "execution_count": 13,
   "metadata": {},
   "outputs": [],
   "source": [
    "# Daily Features\n",
    "chosen_f = d_pba\n",
    "chosen_f = fd['d']['pba']['ddir']['pba_hoc_hdxret_ddir']"
   ]
  },
  {
   "cell_type": "code",
   "execution_count": 14,
   "metadata": {},
   "outputs": [],
   "source": [
    "# Hourly Features\n",
    "chosen_f = h_pba\n",
    "chosen_f = fd['h']['pba']['hdmx']['pba_hohlca_hdmx']"
   ]
  },
  {
   "cell_type": "code",
   "execution_count": 13,
   "metadata": {},
   "outputs": [],
   "source": [
    "# Random 'Features':\n",
    "rand_f = pd.DataFrame(np.random.rand(len(chosen_f)), index=chosen_f.index).rename({chosen_f.index.levels[1][0]: 'rand'})"
   ]
  },
  {
   "cell_type": "code",
   "execution_count": 13,
   "metadata": {},
   "outputs": [
    {
     "ename": "NameError",
     "evalue": "name 'rand_f' is not defined",
     "output_type": "error",
     "traceback": [
      "\u001b[0;31m---------------------------------------------------------------------------\u001b[0m",
      "\u001b[0;31mNameError\u001b[0m                                 Traceback (most recent call last)",
      "\u001b[0;32m<ipython-input-13-b18c95f0c73f>\u001b[0m in \u001b[0;36m<module>\u001b[0;34m\u001b[0m\n\u001b[0;32m----> 1\u001b[0;31m \u001b[0mchosen_f\u001b[0m \u001b[0;34m=\u001b[0m \u001b[0mrand_f\u001b[0m\u001b[0;34m\u001b[0m\u001b[0;34m\u001b[0m\u001b[0m\n\u001b[0m",
      "\u001b[0;31mNameError\u001b[0m: name 'rand_f' is not defined"
     ]
    }
   ],
   "source": [
    "chosen_f = rand_f"
   ]
  },
  {
   "cell_type": "markdown",
   "metadata": {},
   "source": [
    "### Choose Labels/Targets and Process"
   ]
  },
  {
   "cell_type": "code",
   "execution_count": 15,
   "metadata": {},
   "outputs": [],
   "source": [
    "# predict ddir(t)\n",
    "chosen_l = pd_split_ternary_to_binary(ld['hoc']['pba']['ddir'].replace(to_replace=-1, value=0))\n",
    "chosen_t = pd_split_ternary_to_binary(td['hoc']['pba']['dret'])"
   ]
  },
  {
   "cell_type": "code",
   "execution_count": 17,
   "metadata": {},
   "outputs": [],
   "source": [
    "# predict thresholded direction: ddir1(t)\n",
    "chosen_l_len = len(ld['hoc']['pba']['ddir1_log'].columns)\n",
    "chosen_l = pd_split_ternary_to_binary(ld['hoc']['pba']['ddir1_log'])\n",
    "chosen_l = chosen_l.sum(level=0)#+len(chosen_l.columns)\n",
    "chosen_l = (chosen_l[chosen_l!=0] + chosen_l_len).fillna(0).astype(int)\n",
    "chosen_l = df_add_midx_level(chosen_l, 'pba_hoc_hdxret1_ddir1', loc=1, name='id1')\n",
    "\n",
    "chosen_t = pd_split_ternary_to_binary(td['hoc']['pba']['dret1_log']).abs().max(level=0)\n",
    "chosen_t = df_add_midx_level(chosen_t, 'pba_hoc_hdxret1_dret1', loc=1, name='id1')\n",
    "#chosen_l = chosen_l.sum(level=0)#+len(chosen_l.columns)\n",
    "#chosen_l"
   ]
  },
  {
   "cell_type": "code",
   "execution_count": 15,
   "metadata": {},
   "outputs": [],
   "source": [
    "# 'Predict' the present ddir(t-1)\n",
    "chosen_l = pd_split_ternary_to_binary(df_del_midx_level(fd['d']['pba']['ddir']['pba_hoc_hdxret_ddir'].rename(columns={-1:'pba_hoc_hdxret_ddir'}), loc=1).replace(to_replace=-1, value=0).astype(int))\n",
    "chosen_t = pd_split_ternary_to_binary(df_del_midx_level(fd['d']['pba']['dret']['pba_hoc_hdxret_dret'].rename(columns={-1:'pba_hoc_hdxret_dret'}), loc=1))"
   ]
  },
  {
   "cell_type": "markdown",
   "metadata": {},
   "source": [
    "### Get Common Indexed Rows (Intersect First Level of MultiIndex)"
   ]
  },
  {
   "cell_type": "code",
   "execution_count": 16,
   "metadata": {},
   "outputs": [],
   "source": [
    "year_interval = ('2009', '2018')\n",
    "common_idx = midx_intersect(pd_get_midx_level(chosen_f), pd_get_midx_level(chosen_l), pd_get_midx_level(chosen_t))\n",
    "common_idx = common_idx[(common_idx > year_interval[0]) & (common_idx < year_interval[1])]\n",
    "feature_df, label_df, target_df = map(compose(partial(pd_rows, idx=common_idx), df_midx_restack), [chosen_f, chosen_l, chosen_t])\n",
    "assert(all(feature_df.index.levels[0]==label_df.index.levels[0]))\n",
    "assert(all(feature_df.index.levels[0]==target_df.index.levels[0]))"
   ]
  },
  {
   "cell_type": "code",
   "execution_count": 19,
   "metadata": {},
   "outputs": [
    {
     "data": {
      "text/html": [
       "<div>\n",
       "<style scoped>\n",
       "    .dataframe tbody tr th:only-of-type {\n",
       "        vertical-align: middle;\n",
       "    }\n",
       "\n",
       "    .dataframe tbody tr th {\n",
       "        vertical-align: top;\n",
       "    }\n",
       "\n",
       "    .dataframe thead th {\n",
       "        text-align: right;\n",
       "    }\n",
       "</style>\n",
       "<table border=\"1\" class=\"dataframe\">\n",
       "  <thead>\n",
       "    <tr style=\"text-align: right;\">\n",
       "      <th></th>\n",
       "      <th></th>\n",
       "      <th>9</th>\n",
       "      <th>10</th>\n",
       "      <th>11</th>\n",
       "      <th>12</th>\n",
       "      <th>13</th>\n",
       "      <th>14</th>\n",
       "      <th>15</th>\n",
       "      <th>16</th>\n",
       "    </tr>\n",
       "    <tr>\n",
       "      <th>id0</th>\n",
       "      <th>id1</th>\n",
       "      <th></th>\n",
       "      <th></th>\n",
       "      <th></th>\n",
       "      <th></th>\n",
       "      <th></th>\n",
       "      <th></th>\n",
       "      <th></th>\n",
       "      <th></th>\n",
       "    </tr>\n",
       "  </thead>\n",
       "  <tbody>\n",
       "    <tr>\n",
       "      <th rowspan=\"5\" valign=\"top\">2009-01-02</th>\n",
       "      <th>pba_open_pba_hohlca_hdmx</th>\n",
       "      <td>-0.854887</td>\n",
       "      <td>-1.000000</td>\n",
       "      <td>0.006382</td>\n",
       "      <td>0.079610</td>\n",
       "      <td>0.261673</td>\n",
       "      <td>0.565334</td>\n",
       "      <td>0.846154</td>\n",
       "      <td>1.000000</td>\n",
       "    </tr>\n",
       "    <tr>\n",
       "      <th>pba_high_pba_hohlca_hdmx</th>\n",
       "      <td>-1.000000</td>\n",
       "      <td>-0.330963</td>\n",
       "      <td>-0.113402</td>\n",
       "      <td>0.058656</td>\n",
       "      <td>0.360114</td>\n",
       "      <td>0.596161</td>\n",
       "      <td>1.000000</td>\n",
       "      <td>0.791681</td>\n",
       "    </tr>\n",
       "    <tr>\n",
       "      <th>pba_low_pba_hohlca_hdmx</th>\n",
       "      <td>-1.000000</td>\n",
       "      <td>-0.948160</td>\n",
       "      <td>-0.062400</td>\n",
       "      <td>0.088000</td>\n",
       "      <td>0.295360</td>\n",
       "      <td>0.470080</td>\n",
       "      <td>0.853440</td>\n",
       "      <td>1.000000</td>\n",
       "    </tr>\n",
       "    <tr>\n",
       "      <th>pba_close_pba_hohlca_hdmx</th>\n",
       "      <td>-1.000000</td>\n",
       "      <td>-0.058166</td>\n",
       "      <td>0.020046</td>\n",
       "      <td>0.192902</td>\n",
       "      <td>0.493920</td>\n",
       "      <td>0.772593</td>\n",
       "      <td>0.912586</td>\n",
       "      <td>1.000000</td>\n",
       "    </tr>\n",
       "    <tr>\n",
       "      <th>pba_avgPrice_pba_hohlca_hdmx</th>\n",
       "      <td>-1.000000</td>\n",
       "      <td>-0.688267</td>\n",
       "      <td>-0.093641</td>\n",
       "      <td>0.065233</td>\n",
       "      <td>0.360852</td>\n",
       "      <td>0.580325</td>\n",
       "      <td>0.951078</td>\n",
       "      <td>1.000000</td>\n",
       "    </tr>\n",
       "    <tr>\n",
       "      <th>...</th>\n",
       "      <th>...</th>\n",
       "      <td>...</td>\n",
       "      <td>...</td>\n",
       "      <td>...</td>\n",
       "      <td>...</td>\n",
       "      <td>...</td>\n",
       "      <td>...</td>\n",
       "      <td>...</td>\n",
       "      <td>...</td>\n",
       "    </tr>\n",
       "    <tr>\n",
       "      <th rowspan=\"5\" valign=\"top\">2017-12-29</th>\n",
       "      <th>pba_open_pba_hohlca_hdmx</th>\n",
       "      <td>1.000000</td>\n",
       "      <td>0.816224</td>\n",
       "      <td>0.422828</td>\n",
       "      <td>0.507538</td>\n",
       "      <td>0.306533</td>\n",
       "      <td>0.007897</td>\n",
       "      <td>0.138550</td>\n",
       "      <td>-1.000000</td>\n",
       "    </tr>\n",
       "    <tr>\n",
       "      <th>pba_high_pba_hohlca_hdmx</th>\n",
       "      <td>1.000000</td>\n",
       "      <td>0.475309</td>\n",
       "      <td>0.314815</td>\n",
       "      <td>0.285185</td>\n",
       "      <td>0.124691</td>\n",
       "      <td>-0.077778</td>\n",
       "      <td>0.227160</td>\n",
       "      <td>-1.000000</td>\n",
       "    </tr>\n",
       "    <tr>\n",
       "      <th>pba_low_pba_hohlca_hdmx</th>\n",
       "      <td>1.000000</td>\n",
       "      <td>0.472727</td>\n",
       "      <td>0.460606</td>\n",
       "      <td>0.566667</td>\n",
       "      <td>0.175758</td>\n",
       "      <td>0.263636</td>\n",
       "      <td>-0.886364</td>\n",
       "      <td>-1.000000</td>\n",
       "    </tr>\n",
       "    <tr>\n",
       "      <th>pba_close_pba_hohlca_hdmx</th>\n",
       "      <td>1.000000</td>\n",
       "      <td>0.617978</td>\n",
       "      <td>0.702247</td>\n",
       "      <td>0.507022</td>\n",
       "      <td>0.210674</td>\n",
       "      <td>0.341292</td>\n",
       "      <td>-0.786517</td>\n",
       "      <td>-1.000000</td>\n",
       "    </tr>\n",
       "    <tr>\n",
       "      <th>pba_avgPrice_pba_hohlca_hdmx</th>\n",
       "      <td>1.000000</td>\n",
       "      <td>0.680039</td>\n",
       "      <td>0.451699</td>\n",
       "      <td>0.539091</td>\n",
       "      <td>0.321021</td>\n",
       "      <td>0.193217</td>\n",
       "      <td>0.165438</td>\n",
       "      <td>-1.000000</td>\n",
       "    </tr>\n",
       "  </tbody>\n",
       "</table>\n",
       "<p>11325 rows × 8 columns</p>\n",
       "</div>"
      ],
      "text/plain": [
       "                                               9         10        11  \\\n",
       "id0        id1                                                          \n",
       "2009-01-02 pba_open_pba_hohlca_hdmx     -0.854887 -1.000000  0.006382   \n",
       "           pba_high_pba_hohlca_hdmx     -1.000000 -0.330963 -0.113402   \n",
       "           pba_low_pba_hohlca_hdmx      -1.000000 -0.948160 -0.062400   \n",
       "           pba_close_pba_hohlca_hdmx    -1.000000 -0.058166  0.020046   \n",
       "           pba_avgPrice_pba_hohlca_hdmx -1.000000 -0.688267 -0.093641   \n",
       "...                                           ...       ...       ...   \n",
       "2017-12-29 pba_open_pba_hohlca_hdmx      1.000000  0.816224  0.422828   \n",
       "           pba_high_pba_hohlca_hdmx      1.000000  0.475309  0.314815   \n",
       "           pba_low_pba_hohlca_hdmx       1.000000  0.472727  0.460606   \n",
       "           pba_close_pba_hohlca_hdmx     1.000000  0.617978  0.702247   \n",
       "           pba_avgPrice_pba_hohlca_hdmx  1.000000  0.680039  0.451699   \n",
       "\n",
       "                                               12        13        14  \\\n",
       "id0        id1                                                          \n",
       "2009-01-02 pba_open_pba_hohlca_hdmx      0.079610  0.261673  0.565334   \n",
       "           pba_high_pba_hohlca_hdmx      0.058656  0.360114  0.596161   \n",
       "           pba_low_pba_hohlca_hdmx       0.088000  0.295360  0.470080   \n",
       "           pba_close_pba_hohlca_hdmx     0.192902  0.493920  0.772593   \n",
       "           pba_avgPrice_pba_hohlca_hdmx  0.065233  0.360852  0.580325   \n",
       "...                                           ...       ...       ...   \n",
       "2017-12-29 pba_open_pba_hohlca_hdmx      0.507538  0.306533  0.007897   \n",
       "           pba_high_pba_hohlca_hdmx      0.285185  0.124691 -0.077778   \n",
       "           pba_low_pba_hohlca_hdmx       0.566667  0.175758  0.263636   \n",
       "           pba_close_pba_hohlca_hdmx     0.507022  0.210674  0.341292   \n",
       "           pba_avgPrice_pba_hohlca_hdmx  0.539091  0.321021  0.193217   \n",
       "\n",
       "                                               15        16  \n",
       "id0        id1                                               \n",
       "2009-01-02 pba_open_pba_hohlca_hdmx      0.846154  1.000000  \n",
       "           pba_high_pba_hohlca_hdmx      1.000000  0.791681  \n",
       "           pba_low_pba_hohlca_hdmx       0.853440  1.000000  \n",
       "           pba_close_pba_hohlca_hdmx     0.912586  1.000000  \n",
       "           pba_avgPrice_pba_hohlca_hdmx  0.951078  1.000000  \n",
       "...                                           ...       ...  \n",
       "2017-12-29 pba_open_pba_hohlca_hdmx      0.138550 -1.000000  \n",
       "           pba_high_pba_hohlca_hdmx      0.227160 -1.000000  \n",
       "           pba_low_pba_hohlca_hdmx      -0.886364 -1.000000  \n",
       "           pba_close_pba_hohlca_hdmx    -0.786517 -1.000000  \n",
       "           pba_avgPrice_pba_hohlca_hdmx  0.165438 -1.000000  \n",
       "\n",
       "[11325 rows x 8 columns]"
      ]
     },
     "execution_count": 19,
     "metadata": {},
     "output_type": "execute_result"
    }
   ],
   "source": [
    "feature_df"
   ]
  },
  {
   "cell_type": "markdown",
   "metadata": {},
   "source": [
    "## PL Model"
   ]
  },
  {
   "cell_type": "code",
   "execution_count": 20,
   "metadata": {},
   "outputs": [],
   "source": [
    "from model_util import init_layer, assert_has_shape_attr"
   ]
  },
  {
   "cell_type": "code",
   "execution_count": 21,
   "metadata": {},
   "outputs": [],
   "source": [
    "from model.model_util import TemporalConvNet, ResidualBlock, AE"
   ]
  },
  {
   "cell_type": "code",
   "execution_count": 169,
   "metadata": {},
   "outputs": [],
   "source": [
    "class AE(nn.Module):\n",
    "\n",
    "\tdef __init__(self, in_shape, out_shapes=[128, 64, 32, 16], act='relu', init_method='xavier_normal'):\n",
    "\t\tsuper(AE, self).__init__()\n",
    "\t\tencoder_layers = []\n",
    "\t\tin_ae = np.product(in_shape)\n",
    "\t\tin_layer_shape = in_ae\n",
    "\t\tfor i, out_layer_shape in enumerate(out_shapes):\n",
    "\t\t\tencoder_layers.append(('ff_{i}'.format(i=i), init_layer(nn.Linear(in_layer_shape, out_layer_shape), act='linear', init_method=init_method)))\n",
    "\t\t\tencoder_layers.append(('af_{i}'.format(i=i), PYTORCH_ACT_MAPPING.get(act)()))\n",
    "\t\t\tin_layer_shape = out_layer_shape\n",
    "\n",
    "\t\tdecoder_layers = []\n",
    "\t\tin_layer_shape = in_shape\n",
    "\t\tfor i, (in_layer_shape, out_layer_shape) in enumerate(pairwise(reversed(out_shapes))):\n",
    "\t\t\tdecoder_layers.append(('ff_{i}'.format(i=i), init_layer(nn.Linear(in_layer_shape, out_layer_shape), act='linear', init_method=init_method)))\n",
    "\t\t\tdecoder_layers.append(('af_{i}'.format(i=i), PYTORCH_ACT_MAPPING.get(act)()))\n",
    "\t\tdecoder_layers.append(('ff_{i}'.format(i=len(out_shapes)-1), init_layer(nn.Linear(out_shapes[0], in_ae), act='linear', init_method=init_method)))\n",
    "\t\tdecoder_layers.append(('af_{i}'.format(i=len(out_shapes)-1), PYTORCH_ACT_MAPPING.get(act)()))\n",
    "\n",
    "\t\tself.encoder = nn.Sequential(OrderedDict(encoder_layers))\n",
    "\t\tself.decoder = nn.Sequential(OrderedDict(decoder_layers))\n",
    "\n",
    "\tdef forward(self, x):\n",
    "\t\treturn self.decoder(self.encoder(x))"
   ]
  },
  {
   "cell_type": "code",
   "execution_count": 173,
   "metadata": {},
   "outputs": [],
   "source": [
    "ae_t_params = {\n",
    "\t'window_size': 20,\n",
    "\t'feat_dim': 2,\n",
    "\t'feat_shuffle': False,\n",
    "\t'epochs': 200,\n",
    "\t'batch_size': 64*2,\n",
    "\t'loss': 'mse',\n",
    "\t'opt': {\n",
    "\t\t'name': 'adam',\n",
    "\t\t'kwargs': {\n",
    "\t\t\t'lr': .001\n",
    "\t\t}\n",
    "\t},\n",
    "\t'sch': {\n",
    "\t}\n",
    "}\n",
    "ae_m_params = {\n",
    "\t'out_shapes': [128, 64, 32, 16],\n",
    "\t'act': 'relu',\n",
    "\t'init_method': 'normal'\n",
    "}\n",
    "\n",
    "ae_mdl = GenericModel(AE, ae_m_params, ae_t_params, (feature_df,))"
   ]
  },
  {
   "cell_type": "code",
   "execution_count": 174,
   "metadata": {},
   "outputs": [
    {
     "name": "stderr",
     "output_type": "stream",
     "text": [
      "INFO:lightning:GPU available: True, used: True\n",
      "INFO:lightning:CUDA_VISIBLE_DEVICES: [0]\n",
      "INFO:lightning:Using 16bit precision.\n"
     ]
    }
   ],
   "source": [
    "trainer = pl.Trainer(max_epochs=ae_t_params['epochs'], auto_lr_find=False, gpus=1, amp_level='O1', precision=16)"
   ]
  },
  {
   "cell_type": "code",
   "execution_count": 175,
   "metadata": {},
   "outputs": [
    {
     "name": "stderr",
     "output_type": "stream",
     "text": [
      "INFO:lightning:\n",
      "   | Name               | Type       | Params\n",
      "----------------------------------------------\n",
      "0  | loss               | MSELoss    | 0     \n",
      "1  | model              | AE         | 227 K \n",
      "2  | model.encoder      | Sequential | 113 K \n",
      "3  | model.encoder.ff_0 | Linear     | 102 K \n",
      "4  | model.encoder.af_0 | ReLU       | 0     \n",
      "5  | model.encoder.ff_1 | Linear     | 8 K   \n",
      "6  | model.encoder.af_1 | ReLU       | 0     \n",
      "7  | model.encoder.ff_2 | Linear     | 2 K   \n",
      "8  | model.encoder.af_2 | ReLU       | 0     \n",
      "9  | model.encoder.ff_3 | Linear     | 528   \n",
      "10 | model.encoder.af_3 | ReLU       | 0     \n",
      "11 | model.decoder      | Sequential | 114 K \n",
      "12 | model.decoder.ff_0 | Linear     | 544   \n",
      "13 | model.decoder.af_0 | ReLU       | 0     \n",
      "14 | model.decoder.ff_1 | Linear     | 2 K   \n",
      "15 | model.decoder.af_1 | ReLU       | 0     \n",
      "16 | model.decoder.ff_2 | Linear     | 8 K   \n",
      "17 | model.decoder.af_2 | ReLU       | 0     \n",
      "18 | model.decoder.ff_3 | Linear     | 103 K \n",
      "19 | model.decoder.af_3 | ReLU       | 0     \n"
     ]
    },
    {
     "name": "stdout",
     "output_type": "stream",
     "text": [
      "Selected optimization level O1:  Insert automatic casts around Pytorch functions and Tensor methods.\n",
      "\n",
      "Defaults for this optimization level are:\n",
      "enabled                : True\n",
      "opt_level              : O1\n",
      "cast_model_type        : None\n",
      "patch_torch_functions  : True\n",
      "keep_batchnorm_fp32    : None\n",
      "master_weights         : None\n",
      "loss_scale             : dynamic\n",
      "Processing user overrides (additional kwargs that are not None)...\n",
      "After processing overrides, optimization options are:\n",
      "enabled                : True\n",
      "opt_level              : O1\n",
      "cast_model_type        : None\n",
      "patch_torch_functions  : True\n",
      "keep_batchnorm_fp32    : None\n",
      "master_weights         : None\n",
      "loss_scale             : dynamic\n"
     ]
    },
    {
     "data": {
      "application/vnd.jupyter.widget-view+json": {
       "model_id": "80c86bcc9e864d61ac692b549c43d2f6",
       "version_major": 2,
       "version_minor": 0
      },
      "text/plain": [
       "HBox(children=(FloatProgress(value=1.0, bar_style='info', description='Validation sanity check', layout=Layout…"
      ]
     },
     "metadata": {},
     "output_type": "display_data"
    },
    {
     "ename": "RuntimeError",
     "evalue": "The size of tensor a (800) must match the size of tensor b (128) at non-singleton dimension 1",
     "output_type": "error",
     "traceback": [
      "\u001b[0;31m---------------------------------------------------------------------------\u001b[0m",
      "\u001b[0;31mRuntimeError\u001b[0m                              Traceback (most recent call last)",
      "\u001b[0;32m<ipython-input-175-d391fd927a00>\u001b[0m in \u001b[0;36m<module>\u001b[0;34m\u001b[0m\n\u001b[0;32m----> 1\u001b[0;31m \u001b[0mtrainer\u001b[0m\u001b[0;34m.\u001b[0m\u001b[0mfit\u001b[0m\u001b[0;34m(\u001b[0m\u001b[0mae_mdl\u001b[0m\u001b[0;34m)\u001b[0m\u001b[0;34m\u001b[0m\u001b[0;34m\u001b[0m\u001b[0m\n\u001b[0m",
      "\u001b[0;32m~/miniconda3/lib/python3.7/site-packages/pytorch_lightning/trainer/trainer.py\u001b[0m in \u001b[0;36mfit\u001b[0;34m(self, model, train_dataloader, val_dataloaders)\u001b[0m\n\u001b[1;32m    763\u001b[0m \u001b[0;34m\u001b[0m\u001b[0m\n\u001b[1;32m    764\u001b[0m         \u001b[0;32melif\u001b[0m \u001b[0mself\u001b[0m\u001b[0;34m.\u001b[0m\u001b[0msingle_gpu\u001b[0m\u001b[0;34m:\u001b[0m\u001b[0;34m\u001b[0m\u001b[0;34m\u001b[0m\u001b[0m\n\u001b[0;32m--> 765\u001b[0;31m             \u001b[0mself\u001b[0m\u001b[0;34m.\u001b[0m\u001b[0msingle_gpu_train\u001b[0m\u001b[0;34m(\u001b[0m\u001b[0mmodel\u001b[0m\u001b[0;34m)\u001b[0m\u001b[0;34m\u001b[0m\u001b[0;34m\u001b[0m\u001b[0m\n\u001b[0m\u001b[1;32m    766\u001b[0m \u001b[0;34m\u001b[0m\u001b[0m\n\u001b[1;32m    767\u001b[0m         \u001b[0;32melif\u001b[0m \u001b[0mself\u001b[0m\u001b[0;34m.\u001b[0m\u001b[0muse_tpu\u001b[0m\u001b[0;34m:\u001b[0m  \u001b[0;31m# pragma: no-cover\u001b[0m\u001b[0;34m\u001b[0m\u001b[0;34m\u001b[0m\u001b[0m\n",
      "\u001b[0;32m~/miniconda3/lib/python3.7/site-packages/pytorch_lightning/trainer/distrib_parts.py\u001b[0m in \u001b[0;36msingle_gpu_train\u001b[0;34m(self, model)\u001b[0m\n\u001b[1;32m    490\u001b[0m             \u001b[0mself\u001b[0m\u001b[0;34m.\u001b[0m\u001b[0moptimizers\u001b[0m \u001b[0;34m=\u001b[0m \u001b[0moptimizers\u001b[0m\u001b[0;34m\u001b[0m\u001b[0;34m\u001b[0m\u001b[0m\n\u001b[1;32m    491\u001b[0m \u001b[0;34m\u001b[0m\u001b[0m\n\u001b[0;32m--> 492\u001b[0;31m         \u001b[0mself\u001b[0m\u001b[0;34m.\u001b[0m\u001b[0mrun_pretrain_routine\u001b[0m\u001b[0;34m(\u001b[0m\u001b[0mmodel\u001b[0m\u001b[0;34m)\u001b[0m\u001b[0;34m\u001b[0m\u001b[0;34m\u001b[0m\u001b[0m\n\u001b[0m\u001b[1;32m    493\u001b[0m \u001b[0;34m\u001b[0m\u001b[0m\n\u001b[1;32m    494\u001b[0m     \u001b[0;32mdef\u001b[0m \u001b[0mtpu_train\u001b[0m\u001b[0;34m(\u001b[0m\u001b[0mself\u001b[0m\u001b[0;34m,\u001b[0m \u001b[0mtpu_core_idx\u001b[0m\u001b[0;34m,\u001b[0m \u001b[0mmodel\u001b[0m\u001b[0;34m)\u001b[0m\u001b[0;34m:\u001b[0m\u001b[0;34m\u001b[0m\u001b[0;34m\u001b[0m\u001b[0m\n",
      "\u001b[0;32m~/miniconda3/lib/python3.7/site-packages/pytorch_lightning/trainer/trainer.py\u001b[0m in \u001b[0;36mrun_pretrain_routine\u001b[0;34m(self, model)\u001b[0m\n\u001b[1;32m    897\u001b[0m                                           \u001b[0mself\u001b[0m\u001b[0;34m.\u001b[0m\u001b[0mval_dataloaders\u001b[0m\u001b[0;34m,\u001b[0m\u001b[0;34m\u001b[0m\u001b[0;34m\u001b[0m\u001b[0m\n\u001b[1;32m    898\u001b[0m                                           \u001b[0mself\u001b[0m\u001b[0;34m.\u001b[0m\u001b[0mnum_sanity_val_steps\u001b[0m\u001b[0;34m,\u001b[0m\u001b[0;34m\u001b[0m\u001b[0;34m\u001b[0m\u001b[0m\n\u001b[0;32m--> 899\u001b[0;31m                                           False)\n\u001b[0m\u001b[1;32m    900\u001b[0m             \u001b[0m_\u001b[0m\u001b[0;34m,\u001b[0m \u001b[0m_\u001b[0m\u001b[0;34m,\u001b[0m \u001b[0m_\u001b[0m\u001b[0;34m,\u001b[0m \u001b[0mcallback_metrics\u001b[0m\u001b[0;34m,\u001b[0m \u001b[0m_\u001b[0m \u001b[0;34m=\u001b[0m \u001b[0mself\u001b[0m\u001b[0;34m.\u001b[0m\u001b[0mprocess_output\u001b[0m\u001b[0;34m(\u001b[0m\u001b[0meval_results\u001b[0m\u001b[0;34m)\u001b[0m\u001b[0;34m\u001b[0m\u001b[0;34m\u001b[0m\u001b[0m\n\u001b[1;32m    901\u001b[0m \u001b[0;34m\u001b[0m\u001b[0m\n",
      "\u001b[0;32m~/miniconda3/lib/python3.7/site-packages/pytorch_lightning/trainer/evaluation_loop.py\u001b[0m in \u001b[0;36m_evaluate\u001b[0;34m(self, model, dataloaders, max_batches, test_mode)\u001b[0m\n\u001b[1;32m    276\u001b[0m                         \u001b[0moutput\u001b[0m \u001b[0;34m=\u001b[0m \u001b[0mself\u001b[0m\u001b[0;34m.\u001b[0m\u001b[0mevaluation_forward\u001b[0m\u001b[0;34m(\u001b[0m\u001b[0mmodel\u001b[0m\u001b[0;34m,\u001b[0m \u001b[0mbatch\u001b[0m\u001b[0;34m,\u001b[0m \u001b[0mbatch_idx\u001b[0m\u001b[0;34m,\u001b[0m \u001b[0mdataloader_idx\u001b[0m\u001b[0;34m,\u001b[0m \u001b[0mtest_mode\u001b[0m\u001b[0;34m)\u001b[0m\u001b[0;34m\u001b[0m\u001b[0;34m\u001b[0m\u001b[0m\n\u001b[1;32m    277\u001b[0m                 \u001b[0;32melse\u001b[0m\u001b[0;34m:\u001b[0m\u001b[0;34m\u001b[0m\u001b[0;34m\u001b[0m\u001b[0m\n\u001b[0;32m--> 278\u001b[0;31m                     \u001b[0moutput\u001b[0m \u001b[0;34m=\u001b[0m \u001b[0mself\u001b[0m\u001b[0;34m.\u001b[0m\u001b[0mevaluation_forward\u001b[0m\u001b[0;34m(\u001b[0m\u001b[0mmodel\u001b[0m\u001b[0;34m,\u001b[0m \u001b[0mbatch\u001b[0m\u001b[0;34m,\u001b[0m \u001b[0mbatch_idx\u001b[0m\u001b[0;34m,\u001b[0m \u001b[0mdataloader_idx\u001b[0m\u001b[0;34m,\u001b[0m \u001b[0mtest_mode\u001b[0m\u001b[0;34m)\u001b[0m\u001b[0;34m\u001b[0m\u001b[0;34m\u001b[0m\u001b[0m\n\u001b[0m\u001b[1;32m    279\u001b[0m \u001b[0;34m\u001b[0m\u001b[0m\n\u001b[1;32m    280\u001b[0m                 \u001b[0;31m# on dp / ddp2 might still want to do something with the batch parts\u001b[0m\u001b[0;34m\u001b[0m\u001b[0;34m\u001b[0m\u001b[0;34m\u001b[0m\u001b[0m\n",
      "\u001b[0;32m~/miniconda3/lib/python3.7/site-packages/pytorch_lightning/trainer/evaluation_loop.py\u001b[0m in \u001b[0;36mevaluation_forward\u001b[0;34m(self, model, batch, batch_idx, dataloader_idx, test_mode)\u001b[0m\n\u001b[1;32m    445\u001b[0m             \u001b[0moutput\u001b[0m \u001b[0;34m=\u001b[0m \u001b[0mmodel\u001b[0m\u001b[0;34m.\u001b[0m\u001b[0mtest_step\u001b[0m\u001b[0;34m(\u001b[0m\u001b[0;34m*\u001b[0m\u001b[0margs\u001b[0m\u001b[0;34m)\u001b[0m\u001b[0;34m\u001b[0m\u001b[0;34m\u001b[0m\u001b[0m\n\u001b[1;32m    446\u001b[0m         \u001b[0;32melse\u001b[0m\u001b[0;34m:\u001b[0m\u001b[0;34m\u001b[0m\u001b[0;34m\u001b[0m\u001b[0m\n\u001b[0;32m--> 447\u001b[0;31m             \u001b[0moutput\u001b[0m \u001b[0;34m=\u001b[0m \u001b[0mmodel\u001b[0m\u001b[0;34m.\u001b[0m\u001b[0mvalidation_step\u001b[0m\u001b[0;34m(\u001b[0m\u001b[0;34m*\u001b[0m\u001b[0margs\u001b[0m\u001b[0;34m)\u001b[0m\u001b[0;34m\u001b[0m\u001b[0;34m\u001b[0m\u001b[0m\n\u001b[0m\u001b[1;32m    448\u001b[0m \u001b[0;34m\u001b[0m\u001b[0m\n\u001b[1;32m    449\u001b[0m         \u001b[0;32mreturn\u001b[0m \u001b[0moutput\u001b[0m\u001b[0;34m\u001b[0m\u001b[0;34m\u001b[0m\u001b[0m\n",
      "\u001b[0;32m~/crunch/model/pl_generic.py\u001b[0m in \u001b[0;36mvalidation_step\u001b[0;34m(self, batch, batch_idx)\u001b[0m\n\u001b[1;32m    110\u001b[0m                 \u001b[0mloss_val\u001b[0m \u001b[0;34m=\u001b[0m \u001b[0mself\u001b[0m\u001b[0;34m.\u001b[0m\u001b[0mloss\u001b[0m\u001b[0;34m(\u001b[0m\u001b[0my_hat\u001b[0m\u001b[0;34m,\u001b[0m \u001b[0my\u001b[0m\u001b[0;34m)\u001b[0m\u001b[0;34m\u001b[0m\u001b[0;34m\u001b[0m\u001b[0m\n\u001b[1;32m    111\u001b[0m \u001b[0;34m\u001b[0m\u001b[0m\n\u001b[0;32m--> 112\u001b[0;31m                 \u001b[0;31m# acc\u001b[0m\u001b[0;34m\u001b[0m\u001b[0;34m\u001b[0m\u001b[0;34m\u001b[0m\u001b[0m\n\u001b[0m\u001b[1;32m    113\u001b[0m                 \u001b[0mlabels_hat\u001b[0m \u001b[0;34m=\u001b[0m \u001b[0mtorch\u001b[0m\u001b[0;34m.\u001b[0m\u001b[0margmax\u001b[0m\u001b[0;34m(\u001b[0m\u001b[0my_hat\u001b[0m\u001b[0;34m,\u001b[0m \u001b[0mdim\u001b[0m\u001b[0;34m=\u001b[0m\u001b[0;36m1\u001b[0m\u001b[0;34m)\u001b[0m\u001b[0;34m\u001b[0m\u001b[0;34m\u001b[0m\u001b[0m\n\u001b[1;32m    114\u001b[0m                 \u001b[0mval_acc\u001b[0m \u001b[0;34m=\u001b[0m \u001b[0mtorch\u001b[0m\u001b[0;34m.\u001b[0m\u001b[0msum\u001b[0m\u001b[0;34m(\u001b[0m\u001b[0my\u001b[0m \u001b[0;34m==\u001b[0m \u001b[0mlabels_hat\u001b[0m\u001b[0;34m)\u001b[0m\u001b[0;34m.\u001b[0m\u001b[0mitem\u001b[0m\u001b[0;34m(\u001b[0m\u001b[0;34m)\u001b[0m \u001b[0;34m/\u001b[0m \u001b[0;34m(\u001b[0m\u001b[0mlen\u001b[0m\u001b[0;34m(\u001b[0m\u001b[0my\u001b[0m\u001b[0;34m)\u001b[0m \u001b[0;34m*\u001b[0m \u001b[0;36m1.0\u001b[0m\u001b[0;34m)\u001b[0m\u001b[0;34m\u001b[0m\u001b[0;34m\u001b[0m\u001b[0m\n",
      "\u001b[0;32m~/miniconda3/lib/python3.7/site-packages/apex/amp/wrap.py\u001b[0m in \u001b[0;36mwrapper\u001b[0;34m(*args, **kwargs)\u001b[0m\n\u001b[1;32m     51\u001b[0m \u001b[0;34m\u001b[0m\u001b[0m\n\u001b[1;32m     52\u001b[0m         \u001b[0;32mif\u001b[0m \u001b[0mlen\u001b[0m\u001b[0;34m(\u001b[0m\u001b[0mtypes\u001b[0m\u001b[0;34m)\u001b[0m \u001b[0;34m<=\u001b[0m \u001b[0;36m1\u001b[0m\u001b[0;34m:\u001b[0m\u001b[0;34m\u001b[0m\u001b[0;34m\u001b[0m\u001b[0m\n\u001b[0;32m---> 53\u001b[0;31m             \u001b[0;32mreturn\u001b[0m \u001b[0morig_fn\u001b[0m\u001b[0;34m(\u001b[0m\u001b[0;34m*\u001b[0m\u001b[0margs\u001b[0m\u001b[0;34m,\u001b[0m \u001b[0;34m**\u001b[0m\u001b[0mkwargs\u001b[0m\u001b[0;34m)\u001b[0m\u001b[0;34m\u001b[0m\u001b[0;34m\u001b[0m\u001b[0m\n\u001b[0m\u001b[1;32m     54\u001b[0m         \u001b[0;32melif\u001b[0m \u001b[0mlen\u001b[0m\u001b[0;34m(\u001b[0m\u001b[0mtypes\u001b[0m\u001b[0;34m)\u001b[0m \u001b[0;34m==\u001b[0m \u001b[0;36m2\u001b[0m \u001b[0;32mand\u001b[0m \u001b[0mtypes\u001b[0m \u001b[0;34m==\u001b[0m \u001b[0mset\u001b[0m\u001b[0;34m(\u001b[0m\u001b[0;34m[\u001b[0m\u001b[0;34m'HalfTensor'\u001b[0m\u001b[0;34m,\u001b[0m \u001b[0;34m'FloatTensor'\u001b[0m\u001b[0;34m]\u001b[0m\u001b[0;34m)\u001b[0m\u001b[0;34m:\u001b[0m\u001b[0;34m\u001b[0m\u001b[0;34m\u001b[0m\u001b[0m\n\u001b[1;32m     55\u001b[0m             new_args = utils.casted_args(cast_fn,\n",
      "\u001b[0;32m~/miniconda3/lib/python3.7/site-packages/apex/amp/wrap.py\u001b[0m in \u001b[0;36mwrapper\u001b[0;34m(*args, **kwargs)\u001b[0m\n\u001b[1;32m     51\u001b[0m \u001b[0;34m\u001b[0m\u001b[0m\n\u001b[1;32m     52\u001b[0m         \u001b[0;32mif\u001b[0m \u001b[0mlen\u001b[0m\u001b[0;34m(\u001b[0m\u001b[0mtypes\u001b[0m\u001b[0;34m)\u001b[0m \u001b[0;34m<=\u001b[0m \u001b[0;36m1\u001b[0m\u001b[0;34m:\u001b[0m\u001b[0;34m\u001b[0m\u001b[0;34m\u001b[0m\u001b[0m\n\u001b[0;32m---> 53\u001b[0;31m             \u001b[0;32mreturn\u001b[0m \u001b[0morig_fn\u001b[0m\u001b[0;34m(\u001b[0m\u001b[0;34m*\u001b[0m\u001b[0margs\u001b[0m\u001b[0;34m,\u001b[0m \u001b[0;34m**\u001b[0m\u001b[0mkwargs\u001b[0m\u001b[0;34m)\u001b[0m\u001b[0;34m\u001b[0m\u001b[0;34m\u001b[0m\u001b[0m\n\u001b[0m\u001b[1;32m     54\u001b[0m         \u001b[0;32melif\u001b[0m \u001b[0mlen\u001b[0m\u001b[0;34m(\u001b[0m\u001b[0mtypes\u001b[0m\u001b[0;34m)\u001b[0m \u001b[0;34m==\u001b[0m \u001b[0;36m2\u001b[0m \u001b[0;32mand\u001b[0m \u001b[0mtypes\u001b[0m \u001b[0;34m==\u001b[0m \u001b[0mset\u001b[0m\u001b[0;34m(\u001b[0m\u001b[0;34m[\u001b[0m\u001b[0;34m'HalfTensor'\u001b[0m\u001b[0;34m,\u001b[0m \u001b[0;34m'FloatTensor'\u001b[0m\u001b[0;34m]\u001b[0m\u001b[0;34m)\u001b[0m\u001b[0;34m:\u001b[0m\u001b[0;34m\u001b[0m\u001b[0;34m\u001b[0m\u001b[0m\n\u001b[1;32m     55\u001b[0m             new_args = utils.casted_args(cast_fn,\n",
      "\u001b[0;32m~/miniconda3/lib/python3.7/site-packages/apex/amp/wrap.py\u001b[0m in \u001b[0;36mwrapper\u001b[0;34m(*args, **kwargs)\u001b[0m\n\u001b[1;32m     51\u001b[0m \u001b[0;34m\u001b[0m\u001b[0m\n\u001b[1;32m     52\u001b[0m         \u001b[0;32mif\u001b[0m \u001b[0mlen\u001b[0m\u001b[0;34m(\u001b[0m\u001b[0mtypes\u001b[0m\u001b[0;34m)\u001b[0m \u001b[0;34m<=\u001b[0m \u001b[0;36m1\u001b[0m\u001b[0;34m:\u001b[0m\u001b[0;34m\u001b[0m\u001b[0;34m\u001b[0m\u001b[0m\n\u001b[0;32m---> 53\u001b[0;31m             \u001b[0;32mreturn\u001b[0m \u001b[0morig_fn\u001b[0m\u001b[0;34m(\u001b[0m\u001b[0;34m*\u001b[0m\u001b[0margs\u001b[0m\u001b[0;34m,\u001b[0m \u001b[0;34m**\u001b[0m\u001b[0mkwargs\u001b[0m\u001b[0;34m)\u001b[0m\u001b[0;34m\u001b[0m\u001b[0;34m\u001b[0m\u001b[0m\n\u001b[0m\u001b[1;32m     54\u001b[0m         \u001b[0;32melif\u001b[0m \u001b[0mlen\u001b[0m\u001b[0;34m(\u001b[0m\u001b[0mtypes\u001b[0m\u001b[0;34m)\u001b[0m \u001b[0;34m==\u001b[0m \u001b[0;36m2\u001b[0m \u001b[0;32mand\u001b[0m \u001b[0mtypes\u001b[0m \u001b[0;34m==\u001b[0m \u001b[0mset\u001b[0m\u001b[0;34m(\u001b[0m\u001b[0;34m[\u001b[0m\u001b[0;34m'HalfTensor'\u001b[0m\u001b[0;34m,\u001b[0m \u001b[0;34m'FloatTensor'\u001b[0m\u001b[0;34m]\u001b[0m\u001b[0;34m)\u001b[0m\u001b[0;34m:\u001b[0m\u001b[0;34m\u001b[0m\u001b[0;34m\u001b[0m\u001b[0m\n\u001b[1;32m     55\u001b[0m             new_args = utils.casted_args(cast_fn,\n",
      "\u001b[0;32m~/miniconda3/lib/python3.7/site-packages/apex/amp/wrap.py\u001b[0m in \u001b[0;36mwrapper\u001b[0;34m(*args, **kwargs)\u001b[0m\n\u001b[1;32m     51\u001b[0m \u001b[0;34m\u001b[0m\u001b[0m\n\u001b[1;32m     52\u001b[0m         \u001b[0;32mif\u001b[0m \u001b[0mlen\u001b[0m\u001b[0;34m(\u001b[0m\u001b[0mtypes\u001b[0m\u001b[0;34m)\u001b[0m \u001b[0;34m<=\u001b[0m \u001b[0;36m1\u001b[0m\u001b[0;34m:\u001b[0m\u001b[0;34m\u001b[0m\u001b[0;34m\u001b[0m\u001b[0m\n\u001b[0;32m---> 53\u001b[0;31m             \u001b[0;32mreturn\u001b[0m \u001b[0morig_fn\u001b[0m\u001b[0;34m(\u001b[0m\u001b[0;34m*\u001b[0m\u001b[0margs\u001b[0m\u001b[0;34m,\u001b[0m \u001b[0;34m**\u001b[0m\u001b[0mkwargs\u001b[0m\u001b[0;34m)\u001b[0m\u001b[0;34m\u001b[0m\u001b[0;34m\u001b[0m\u001b[0m\n\u001b[0m\u001b[1;32m     54\u001b[0m         \u001b[0;32melif\u001b[0m \u001b[0mlen\u001b[0m\u001b[0;34m(\u001b[0m\u001b[0mtypes\u001b[0m\u001b[0;34m)\u001b[0m \u001b[0;34m==\u001b[0m \u001b[0;36m2\u001b[0m \u001b[0;32mand\u001b[0m \u001b[0mtypes\u001b[0m \u001b[0;34m==\u001b[0m \u001b[0mset\u001b[0m\u001b[0;34m(\u001b[0m\u001b[0;34m[\u001b[0m\u001b[0;34m'HalfTensor'\u001b[0m\u001b[0;34m,\u001b[0m \u001b[0;34m'FloatTensor'\u001b[0m\u001b[0;34m]\u001b[0m\u001b[0;34m)\u001b[0m\u001b[0;34m:\u001b[0m\u001b[0;34m\u001b[0m\u001b[0;34m\u001b[0m\u001b[0m\n\u001b[1;32m     55\u001b[0m             new_args = utils.casted_args(cast_fn,\n",
      "\u001b[0;32m~/miniconda3/lib/python3.7/site-packages/apex/amp/wrap.py\u001b[0m in \u001b[0;36mwrapper\u001b[0;34m(*args, **kwargs)\u001b[0m\n\u001b[1;32m     51\u001b[0m \u001b[0;34m\u001b[0m\u001b[0m\n\u001b[1;32m     52\u001b[0m         \u001b[0;32mif\u001b[0m \u001b[0mlen\u001b[0m\u001b[0;34m(\u001b[0m\u001b[0mtypes\u001b[0m\u001b[0;34m)\u001b[0m \u001b[0;34m<=\u001b[0m \u001b[0;36m1\u001b[0m\u001b[0;34m:\u001b[0m\u001b[0;34m\u001b[0m\u001b[0;34m\u001b[0m\u001b[0m\n\u001b[0;32m---> 53\u001b[0;31m             \u001b[0;32mreturn\u001b[0m \u001b[0morig_fn\u001b[0m\u001b[0;34m(\u001b[0m\u001b[0;34m*\u001b[0m\u001b[0margs\u001b[0m\u001b[0;34m,\u001b[0m \u001b[0;34m**\u001b[0m\u001b[0mkwargs\u001b[0m\u001b[0;34m)\u001b[0m\u001b[0;34m\u001b[0m\u001b[0;34m\u001b[0m\u001b[0m\n\u001b[0m\u001b[1;32m     54\u001b[0m         \u001b[0;32melif\u001b[0m \u001b[0mlen\u001b[0m\u001b[0;34m(\u001b[0m\u001b[0mtypes\u001b[0m\u001b[0;34m)\u001b[0m \u001b[0;34m==\u001b[0m \u001b[0;36m2\u001b[0m \u001b[0;32mand\u001b[0m \u001b[0mtypes\u001b[0m \u001b[0;34m==\u001b[0m \u001b[0mset\u001b[0m\u001b[0;34m(\u001b[0m\u001b[0;34m[\u001b[0m\u001b[0;34m'HalfTensor'\u001b[0m\u001b[0;34m,\u001b[0m \u001b[0;34m'FloatTensor'\u001b[0m\u001b[0;34m]\u001b[0m\u001b[0;34m)\u001b[0m\u001b[0;34m:\u001b[0m\u001b[0;34m\u001b[0m\u001b[0;34m\u001b[0m\u001b[0m\n\u001b[1;32m     55\u001b[0m             new_args = utils.casted_args(cast_fn,\n",
      "\u001b[0;32m~/miniconda3/lib/python3.7/site-packages/apex/amp/wrap.py\u001b[0m in \u001b[0;36mwrapper\u001b[0;34m(*args, **kwargs)\u001b[0m\n\u001b[1;32m     51\u001b[0m \u001b[0;34m\u001b[0m\u001b[0m\n\u001b[1;32m     52\u001b[0m         \u001b[0;32mif\u001b[0m \u001b[0mlen\u001b[0m\u001b[0;34m(\u001b[0m\u001b[0mtypes\u001b[0m\u001b[0;34m)\u001b[0m \u001b[0;34m<=\u001b[0m \u001b[0;36m1\u001b[0m\u001b[0;34m:\u001b[0m\u001b[0;34m\u001b[0m\u001b[0;34m\u001b[0m\u001b[0m\n\u001b[0;32m---> 53\u001b[0;31m             \u001b[0;32mreturn\u001b[0m \u001b[0morig_fn\u001b[0m\u001b[0;34m(\u001b[0m\u001b[0;34m*\u001b[0m\u001b[0margs\u001b[0m\u001b[0;34m,\u001b[0m \u001b[0;34m**\u001b[0m\u001b[0mkwargs\u001b[0m\u001b[0;34m)\u001b[0m\u001b[0;34m\u001b[0m\u001b[0;34m\u001b[0m\u001b[0m\n\u001b[0m\u001b[1;32m     54\u001b[0m         \u001b[0;32melif\u001b[0m \u001b[0mlen\u001b[0m\u001b[0;34m(\u001b[0m\u001b[0mtypes\u001b[0m\u001b[0;34m)\u001b[0m \u001b[0;34m==\u001b[0m \u001b[0;36m2\u001b[0m \u001b[0;32mand\u001b[0m \u001b[0mtypes\u001b[0m \u001b[0;34m==\u001b[0m \u001b[0mset\u001b[0m\u001b[0;34m(\u001b[0m\u001b[0;34m[\u001b[0m\u001b[0;34m'HalfTensor'\u001b[0m\u001b[0;34m,\u001b[0m \u001b[0;34m'FloatTensor'\u001b[0m\u001b[0;34m]\u001b[0m\u001b[0;34m)\u001b[0m\u001b[0;34m:\u001b[0m\u001b[0;34m\u001b[0m\u001b[0;34m\u001b[0m\u001b[0m\n\u001b[1;32m     55\u001b[0m             new_args = utils.casted_args(cast_fn,\n",
      "\u001b[0;32m~/miniconda3/lib/python3.7/site-packages/apex/amp/wrap.py\u001b[0m in \u001b[0;36mwrapper\u001b[0;34m(*args, **kwargs)\u001b[0m\n\u001b[1;32m     51\u001b[0m \u001b[0;34m\u001b[0m\u001b[0m\n\u001b[1;32m     52\u001b[0m         \u001b[0;32mif\u001b[0m \u001b[0mlen\u001b[0m\u001b[0;34m(\u001b[0m\u001b[0mtypes\u001b[0m\u001b[0;34m)\u001b[0m \u001b[0;34m<=\u001b[0m \u001b[0;36m1\u001b[0m\u001b[0;34m:\u001b[0m\u001b[0;34m\u001b[0m\u001b[0;34m\u001b[0m\u001b[0m\n\u001b[0;32m---> 53\u001b[0;31m             \u001b[0;32mreturn\u001b[0m \u001b[0morig_fn\u001b[0m\u001b[0;34m(\u001b[0m\u001b[0;34m*\u001b[0m\u001b[0margs\u001b[0m\u001b[0;34m,\u001b[0m \u001b[0;34m**\u001b[0m\u001b[0mkwargs\u001b[0m\u001b[0;34m)\u001b[0m\u001b[0;34m\u001b[0m\u001b[0;34m\u001b[0m\u001b[0m\n\u001b[0m\u001b[1;32m     54\u001b[0m         \u001b[0;32melif\u001b[0m \u001b[0mlen\u001b[0m\u001b[0;34m(\u001b[0m\u001b[0mtypes\u001b[0m\u001b[0;34m)\u001b[0m \u001b[0;34m==\u001b[0m \u001b[0;36m2\u001b[0m \u001b[0;32mand\u001b[0m \u001b[0mtypes\u001b[0m \u001b[0;34m==\u001b[0m \u001b[0mset\u001b[0m\u001b[0;34m(\u001b[0m\u001b[0;34m[\u001b[0m\u001b[0;34m'HalfTensor'\u001b[0m\u001b[0;34m,\u001b[0m \u001b[0;34m'FloatTensor'\u001b[0m\u001b[0;34m]\u001b[0m\u001b[0;34m)\u001b[0m\u001b[0;34m:\u001b[0m\u001b[0;34m\u001b[0m\u001b[0;34m\u001b[0m\u001b[0m\n\u001b[1;32m     55\u001b[0m             new_args = utils.casted_args(cast_fn,\n",
      "\u001b[0;32m~/miniconda3/lib/python3.7/site-packages/apex/amp/wrap.py\u001b[0m in \u001b[0;36mwrapper\u001b[0;34m(*args, **kwargs)\u001b[0m\n\u001b[1;32m     51\u001b[0m \u001b[0;34m\u001b[0m\u001b[0m\n\u001b[1;32m     52\u001b[0m         \u001b[0;32mif\u001b[0m \u001b[0mlen\u001b[0m\u001b[0;34m(\u001b[0m\u001b[0mtypes\u001b[0m\u001b[0;34m)\u001b[0m \u001b[0;34m<=\u001b[0m \u001b[0;36m1\u001b[0m\u001b[0;34m:\u001b[0m\u001b[0;34m\u001b[0m\u001b[0;34m\u001b[0m\u001b[0m\n\u001b[0;32m---> 53\u001b[0;31m             \u001b[0;32mreturn\u001b[0m \u001b[0morig_fn\u001b[0m\u001b[0;34m(\u001b[0m\u001b[0;34m*\u001b[0m\u001b[0margs\u001b[0m\u001b[0;34m,\u001b[0m \u001b[0;34m**\u001b[0m\u001b[0mkwargs\u001b[0m\u001b[0;34m)\u001b[0m\u001b[0;34m\u001b[0m\u001b[0;34m\u001b[0m\u001b[0m\n\u001b[0m\u001b[1;32m     54\u001b[0m         \u001b[0;32melif\u001b[0m \u001b[0mlen\u001b[0m\u001b[0;34m(\u001b[0m\u001b[0mtypes\u001b[0m\u001b[0;34m)\u001b[0m \u001b[0;34m==\u001b[0m \u001b[0;36m2\u001b[0m \u001b[0;32mand\u001b[0m \u001b[0mtypes\u001b[0m \u001b[0;34m==\u001b[0m \u001b[0mset\u001b[0m\u001b[0;34m(\u001b[0m\u001b[0;34m[\u001b[0m\u001b[0;34m'HalfTensor'\u001b[0m\u001b[0;34m,\u001b[0m \u001b[0;34m'FloatTensor'\u001b[0m\u001b[0;34m]\u001b[0m\u001b[0;34m)\u001b[0m\u001b[0;34m:\u001b[0m\u001b[0;34m\u001b[0m\u001b[0;34m\u001b[0m\u001b[0m\n\u001b[1;32m     55\u001b[0m             new_args = utils.casted_args(cast_fn,\n",
      "\u001b[0;32m~/miniconda3/lib/python3.7/site-packages/apex/amp/wrap.py\u001b[0m in \u001b[0;36mwrapper\u001b[0;34m(*args, **kwargs)\u001b[0m\n\u001b[1;32m     51\u001b[0m \u001b[0;34m\u001b[0m\u001b[0m\n\u001b[1;32m     52\u001b[0m         \u001b[0;32mif\u001b[0m \u001b[0mlen\u001b[0m\u001b[0;34m(\u001b[0m\u001b[0mtypes\u001b[0m\u001b[0;34m)\u001b[0m \u001b[0;34m<=\u001b[0m \u001b[0;36m1\u001b[0m\u001b[0;34m:\u001b[0m\u001b[0;34m\u001b[0m\u001b[0;34m\u001b[0m\u001b[0m\n\u001b[0;32m---> 53\u001b[0;31m             \u001b[0;32mreturn\u001b[0m \u001b[0morig_fn\u001b[0m\u001b[0;34m(\u001b[0m\u001b[0;34m*\u001b[0m\u001b[0margs\u001b[0m\u001b[0;34m,\u001b[0m \u001b[0;34m**\u001b[0m\u001b[0mkwargs\u001b[0m\u001b[0;34m)\u001b[0m\u001b[0;34m\u001b[0m\u001b[0;34m\u001b[0m\u001b[0m\n\u001b[0m\u001b[1;32m     54\u001b[0m         \u001b[0;32melif\u001b[0m \u001b[0mlen\u001b[0m\u001b[0;34m(\u001b[0m\u001b[0mtypes\u001b[0m\u001b[0;34m)\u001b[0m \u001b[0;34m==\u001b[0m \u001b[0;36m2\u001b[0m \u001b[0;32mand\u001b[0m \u001b[0mtypes\u001b[0m \u001b[0;34m==\u001b[0m \u001b[0mset\u001b[0m\u001b[0;34m(\u001b[0m\u001b[0;34m[\u001b[0m\u001b[0;34m'HalfTensor'\u001b[0m\u001b[0;34m,\u001b[0m \u001b[0;34m'FloatTensor'\u001b[0m\u001b[0;34m]\u001b[0m\u001b[0;34m)\u001b[0m\u001b[0;34m:\u001b[0m\u001b[0;34m\u001b[0m\u001b[0;34m\u001b[0m\u001b[0m\n\u001b[1;32m     55\u001b[0m             new_args = utils.casted_args(cast_fn,\n",
      "\u001b[0;32m~/miniconda3/lib/python3.7/site-packages/apex/amp/wrap.py\u001b[0m in \u001b[0;36mwrapper\u001b[0;34m(*args, **kwargs)\u001b[0m\n\u001b[1;32m     51\u001b[0m \u001b[0;34m\u001b[0m\u001b[0m\n\u001b[1;32m     52\u001b[0m         \u001b[0;32mif\u001b[0m \u001b[0mlen\u001b[0m\u001b[0;34m(\u001b[0m\u001b[0mtypes\u001b[0m\u001b[0;34m)\u001b[0m \u001b[0;34m<=\u001b[0m \u001b[0;36m1\u001b[0m\u001b[0;34m:\u001b[0m\u001b[0;34m\u001b[0m\u001b[0;34m\u001b[0m\u001b[0m\n\u001b[0;32m---> 53\u001b[0;31m             \u001b[0;32mreturn\u001b[0m \u001b[0morig_fn\u001b[0m\u001b[0;34m(\u001b[0m\u001b[0;34m*\u001b[0m\u001b[0margs\u001b[0m\u001b[0;34m,\u001b[0m \u001b[0;34m**\u001b[0m\u001b[0mkwargs\u001b[0m\u001b[0;34m)\u001b[0m\u001b[0;34m\u001b[0m\u001b[0;34m\u001b[0m\u001b[0m\n\u001b[0m\u001b[1;32m     54\u001b[0m         \u001b[0;32melif\u001b[0m \u001b[0mlen\u001b[0m\u001b[0;34m(\u001b[0m\u001b[0mtypes\u001b[0m\u001b[0;34m)\u001b[0m \u001b[0;34m==\u001b[0m \u001b[0;36m2\u001b[0m \u001b[0;32mand\u001b[0m \u001b[0mtypes\u001b[0m \u001b[0;34m==\u001b[0m \u001b[0mset\u001b[0m\u001b[0;34m(\u001b[0m\u001b[0;34m[\u001b[0m\u001b[0;34m'HalfTensor'\u001b[0m\u001b[0;34m,\u001b[0m \u001b[0;34m'FloatTensor'\u001b[0m\u001b[0;34m]\u001b[0m\u001b[0;34m)\u001b[0m\u001b[0;34m:\u001b[0m\u001b[0;34m\u001b[0m\u001b[0;34m\u001b[0m\u001b[0m\n\u001b[1;32m     55\u001b[0m             new_args = utils.casted_args(cast_fn,\n",
      "\u001b[0;32m~/miniconda3/lib/python3.7/site-packages/apex/amp/wrap.py\u001b[0m in \u001b[0;36mwrapper\u001b[0;34m(*args, **kwargs)\u001b[0m\n\u001b[1;32m     51\u001b[0m \u001b[0;34m\u001b[0m\u001b[0m\n\u001b[1;32m     52\u001b[0m         \u001b[0;32mif\u001b[0m \u001b[0mlen\u001b[0m\u001b[0;34m(\u001b[0m\u001b[0mtypes\u001b[0m\u001b[0;34m)\u001b[0m \u001b[0;34m<=\u001b[0m \u001b[0;36m1\u001b[0m\u001b[0;34m:\u001b[0m\u001b[0;34m\u001b[0m\u001b[0;34m\u001b[0m\u001b[0m\n\u001b[0;32m---> 53\u001b[0;31m             \u001b[0;32mreturn\u001b[0m \u001b[0morig_fn\u001b[0m\u001b[0;34m(\u001b[0m\u001b[0;34m*\u001b[0m\u001b[0margs\u001b[0m\u001b[0;34m,\u001b[0m \u001b[0;34m**\u001b[0m\u001b[0mkwargs\u001b[0m\u001b[0;34m)\u001b[0m\u001b[0;34m\u001b[0m\u001b[0;34m\u001b[0m\u001b[0m\n\u001b[0m\u001b[1;32m     54\u001b[0m         \u001b[0;32melif\u001b[0m \u001b[0mlen\u001b[0m\u001b[0;34m(\u001b[0m\u001b[0mtypes\u001b[0m\u001b[0;34m)\u001b[0m \u001b[0;34m==\u001b[0m \u001b[0;36m2\u001b[0m \u001b[0;32mand\u001b[0m \u001b[0mtypes\u001b[0m \u001b[0;34m==\u001b[0m \u001b[0mset\u001b[0m\u001b[0;34m(\u001b[0m\u001b[0;34m[\u001b[0m\u001b[0;34m'HalfTensor'\u001b[0m\u001b[0;34m,\u001b[0m \u001b[0;34m'FloatTensor'\u001b[0m\u001b[0;34m]\u001b[0m\u001b[0;34m)\u001b[0m\u001b[0;34m:\u001b[0m\u001b[0;34m\u001b[0m\u001b[0;34m\u001b[0m\u001b[0m\n\u001b[1;32m     55\u001b[0m             new_args = utils.casted_args(cast_fn,\n",
      "\u001b[0;32m~/miniconda3/lib/python3.7/site-packages/apex/amp/wrap.py\u001b[0m in \u001b[0;36mwrapper\u001b[0;34m(*args, **kwargs)\u001b[0m\n\u001b[1;32m     51\u001b[0m \u001b[0;34m\u001b[0m\u001b[0m\n\u001b[1;32m     52\u001b[0m         \u001b[0;32mif\u001b[0m \u001b[0mlen\u001b[0m\u001b[0;34m(\u001b[0m\u001b[0mtypes\u001b[0m\u001b[0;34m)\u001b[0m \u001b[0;34m<=\u001b[0m \u001b[0;36m1\u001b[0m\u001b[0;34m:\u001b[0m\u001b[0;34m\u001b[0m\u001b[0;34m\u001b[0m\u001b[0m\n\u001b[0;32m---> 53\u001b[0;31m             \u001b[0;32mreturn\u001b[0m \u001b[0morig_fn\u001b[0m\u001b[0;34m(\u001b[0m\u001b[0;34m*\u001b[0m\u001b[0margs\u001b[0m\u001b[0;34m,\u001b[0m \u001b[0;34m**\u001b[0m\u001b[0mkwargs\u001b[0m\u001b[0;34m)\u001b[0m\u001b[0;34m\u001b[0m\u001b[0;34m\u001b[0m\u001b[0m\n\u001b[0m\u001b[1;32m     54\u001b[0m         \u001b[0;32melif\u001b[0m \u001b[0mlen\u001b[0m\u001b[0;34m(\u001b[0m\u001b[0mtypes\u001b[0m\u001b[0;34m)\u001b[0m \u001b[0;34m==\u001b[0m \u001b[0;36m2\u001b[0m \u001b[0;32mand\u001b[0m \u001b[0mtypes\u001b[0m \u001b[0;34m==\u001b[0m \u001b[0mset\u001b[0m\u001b[0;34m(\u001b[0m\u001b[0;34m[\u001b[0m\u001b[0;34m'HalfTensor'\u001b[0m\u001b[0;34m,\u001b[0m \u001b[0;34m'FloatTensor'\u001b[0m\u001b[0;34m]\u001b[0m\u001b[0;34m)\u001b[0m\u001b[0;34m:\u001b[0m\u001b[0;34m\u001b[0m\u001b[0;34m\u001b[0m\u001b[0m\n\u001b[1;32m     55\u001b[0m             new_args = utils.casted_args(cast_fn,\n",
      "\u001b[0;32m~/miniconda3/lib/python3.7/site-packages/apex/amp/wrap.py\u001b[0m in \u001b[0;36mwrapper\u001b[0;34m(*args, **kwargs)\u001b[0m\n\u001b[1;32m     51\u001b[0m \u001b[0;34m\u001b[0m\u001b[0m\n\u001b[1;32m     52\u001b[0m         \u001b[0;32mif\u001b[0m \u001b[0mlen\u001b[0m\u001b[0;34m(\u001b[0m\u001b[0mtypes\u001b[0m\u001b[0;34m)\u001b[0m \u001b[0;34m<=\u001b[0m \u001b[0;36m1\u001b[0m\u001b[0;34m:\u001b[0m\u001b[0;34m\u001b[0m\u001b[0;34m\u001b[0m\u001b[0m\n\u001b[0;32m---> 53\u001b[0;31m             \u001b[0;32mreturn\u001b[0m \u001b[0morig_fn\u001b[0m\u001b[0;34m(\u001b[0m\u001b[0;34m*\u001b[0m\u001b[0margs\u001b[0m\u001b[0;34m,\u001b[0m \u001b[0;34m**\u001b[0m\u001b[0mkwargs\u001b[0m\u001b[0;34m)\u001b[0m\u001b[0;34m\u001b[0m\u001b[0;34m\u001b[0m\u001b[0m\n\u001b[0m\u001b[1;32m     54\u001b[0m         \u001b[0;32melif\u001b[0m \u001b[0mlen\u001b[0m\u001b[0;34m(\u001b[0m\u001b[0mtypes\u001b[0m\u001b[0;34m)\u001b[0m \u001b[0;34m==\u001b[0m \u001b[0;36m2\u001b[0m \u001b[0;32mand\u001b[0m \u001b[0mtypes\u001b[0m \u001b[0;34m==\u001b[0m \u001b[0mset\u001b[0m\u001b[0;34m(\u001b[0m\u001b[0;34m[\u001b[0m\u001b[0;34m'HalfTensor'\u001b[0m\u001b[0;34m,\u001b[0m \u001b[0;34m'FloatTensor'\u001b[0m\u001b[0;34m]\u001b[0m\u001b[0;34m)\u001b[0m\u001b[0;34m:\u001b[0m\u001b[0;34m\u001b[0m\u001b[0;34m\u001b[0m\u001b[0m\n\u001b[1;32m     55\u001b[0m             new_args = utils.casted_args(cast_fn,\n",
      "\u001b[0;32m~/miniconda3/lib/python3.7/site-packages/apex/amp/wrap.py\u001b[0m in \u001b[0;36mwrapper\u001b[0;34m(*args, **kwargs)\u001b[0m\n\u001b[1;32m     51\u001b[0m \u001b[0;34m\u001b[0m\u001b[0m\n\u001b[1;32m     52\u001b[0m         \u001b[0;32mif\u001b[0m \u001b[0mlen\u001b[0m\u001b[0;34m(\u001b[0m\u001b[0mtypes\u001b[0m\u001b[0;34m)\u001b[0m \u001b[0;34m<=\u001b[0m \u001b[0;36m1\u001b[0m\u001b[0;34m:\u001b[0m\u001b[0;34m\u001b[0m\u001b[0;34m\u001b[0m\u001b[0m\n\u001b[0;32m---> 53\u001b[0;31m             \u001b[0;32mreturn\u001b[0m \u001b[0morig_fn\u001b[0m\u001b[0;34m(\u001b[0m\u001b[0;34m*\u001b[0m\u001b[0margs\u001b[0m\u001b[0;34m,\u001b[0m \u001b[0;34m**\u001b[0m\u001b[0mkwargs\u001b[0m\u001b[0;34m)\u001b[0m\u001b[0;34m\u001b[0m\u001b[0;34m\u001b[0m\u001b[0m\n\u001b[0m\u001b[1;32m     54\u001b[0m         \u001b[0;32melif\u001b[0m \u001b[0mlen\u001b[0m\u001b[0;34m(\u001b[0m\u001b[0mtypes\u001b[0m\u001b[0;34m)\u001b[0m \u001b[0;34m==\u001b[0m \u001b[0;36m2\u001b[0m \u001b[0;32mand\u001b[0m \u001b[0mtypes\u001b[0m \u001b[0;34m==\u001b[0m \u001b[0mset\u001b[0m\u001b[0;34m(\u001b[0m\u001b[0;34m[\u001b[0m\u001b[0;34m'HalfTensor'\u001b[0m\u001b[0;34m,\u001b[0m \u001b[0;34m'FloatTensor'\u001b[0m\u001b[0;34m]\u001b[0m\u001b[0;34m)\u001b[0m\u001b[0;34m:\u001b[0m\u001b[0;34m\u001b[0m\u001b[0;34m\u001b[0m\u001b[0m\n\u001b[1;32m     55\u001b[0m             new_args = utils.casted_args(cast_fn,\n",
      "\u001b[0;32m~/miniconda3/lib/python3.7/site-packages/apex/amp/wrap.py\u001b[0m in \u001b[0;36mwrapper\u001b[0;34m(*args, **kwargs)\u001b[0m\n\u001b[1;32m     51\u001b[0m \u001b[0;34m\u001b[0m\u001b[0m\n\u001b[1;32m     52\u001b[0m         \u001b[0;32mif\u001b[0m \u001b[0mlen\u001b[0m\u001b[0;34m(\u001b[0m\u001b[0mtypes\u001b[0m\u001b[0;34m)\u001b[0m \u001b[0;34m<=\u001b[0m \u001b[0;36m1\u001b[0m\u001b[0;34m:\u001b[0m\u001b[0;34m\u001b[0m\u001b[0;34m\u001b[0m\u001b[0m\n\u001b[0;32m---> 53\u001b[0;31m             \u001b[0;32mreturn\u001b[0m \u001b[0morig_fn\u001b[0m\u001b[0;34m(\u001b[0m\u001b[0;34m*\u001b[0m\u001b[0margs\u001b[0m\u001b[0;34m,\u001b[0m \u001b[0;34m**\u001b[0m\u001b[0mkwargs\u001b[0m\u001b[0;34m)\u001b[0m\u001b[0;34m\u001b[0m\u001b[0;34m\u001b[0m\u001b[0m\n\u001b[0m\u001b[1;32m     54\u001b[0m         \u001b[0;32melif\u001b[0m \u001b[0mlen\u001b[0m\u001b[0;34m(\u001b[0m\u001b[0mtypes\u001b[0m\u001b[0;34m)\u001b[0m \u001b[0;34m==\u001b[0m \u001b[0;36m2\u001b[0m \u001b[0;32mand\u001b[0m \u001b[0mtypes\u001b[0m \u001b[0;34m==\u001b[0m \u001b[0mset\u001b[0m\u001b[0;34m(\u001b[0m\u001b[0;34m[\u001b[0m\u001b[0;34m'HalfTensor'\u001b[0m\u001b[0;34m,\u001b[0m \u001b[0;34m'FloatTensor'\u001b[0m\u001b[0;34m]\u001b[0m\u001b[0;34m)\u001b[0m\u001b[0;34m:\u001b[0m\u001b[0;34m\u001b[0m\u001b[0;34m\u001b[0m\u001b[0m\n\u001b[1;32m     55\u001b[0m             new_args = utils.casted_args(cast_fn,\n",
      "\u001b[0;32m~/miniconda3/lib/python3.7/site-packages/apex/amp/wrap.py\u001b[0m in \u001b[0;36mwrapper\u001b[0;34m(*args, **kwargs)\u001b[0m\n\u001b[1;32m     51\u001b[0m \u001b[0;34m\u001b[0m\u001b[0m\n\u001b[1;32m     52\u001b[0m         \u001b[0;32mif\u001b[0m \u001b[0mlen\u001b[0m\u001b[0;34m(\u001b[0m\u001b[0mtypes\u001b[0m\u001b[0;34m)\u001b[0m \u001b[0;34m<=\u001b[0m \u001b[0;36m1\u001b[0m\u001b[0;34m:\u001b[0m\u001b[0;34m\u001b[0m\u001b[0;34m\u001b[0m\u001b[0m\n\u001b[0;32m---> 53\u001b[0;31m             \u001b[0;32mreturn\u001b[0m \u001b[0morig_fn\u001b[0m\u001b[0;34m(\u001b[0m\u001b[0;34m*\u001b[0m\u001b[0margs\u001b[0m\u001b[0;34m,\u001b[0m \u001b[0;34m**\u001b[0m\u001b[0mkwargs\u001b[0m\u001b[0;34m)\u001b[0m\u001b[0;34m\u001b[0m\u001b[0;34m\u001b[0m\u001b[0m\n\u001b[0m\u001b[1;32m     54\u001b[0m         \u001b[0;32melif\u001b[0m \u001b[0mlen\u001b[0m\u001b[0;34m(\u001b[0m\u001b[0mtypes\u001b[0m\u001b[0;34m)\u001b[0m \u001b[0;34m==\u001b[0m \u001b[0;36m2\u001b[0m \u001b[0;32mand\u001b[0m \u001b[0mtypes\u001b[0m \u001b[0;34m==\u001b[0m \u001b[0mset\u001b[0m\u001b[0;34m(\u001b[0m\u001b[0;34m[\u001b[0m\u001b[0;34m'HalfTensor'\u001b[0m\u001b[0;34m,\u001b[0m \u001b[0;34m'FloatTensor'\u001b[0m\u001b[0;34m]\u001b[0m\u001b[0;34m)\u001b[0m\u001b[0;34m:\u001b[0m\u001b[0;34m\u001b[0m\u001b[0;34m\u001b[0m\u001b[0m\n\u001b[1;32m     55\u001b[0m             new_args = utils.casted_args(cast_fn,\n",
      "\u001b[0;32m~/miniconda3/lib/python3.7/site-packages/apex/amp/wrap.py\u001b[0m in \u001b[0;36mwrapper\u001b[0;34m(*args, **kwargs)\u001b[0m\n\u001b[1;32m     51\u001b[0m \u001b[0;34m\u001b[0m\u001b[0m\n\u001b[1;32m     52\u001b[0m         \u001b[0;32mif\u001b[0m \u001b[0mlen\u001b[0m\u001b[0;34m(\u001b[0m\u001b[0mtypes\u001b[0m\u001b[0;34m)\u001b[0m \u001b[0;34m<=\u001b[0m \u001b[0;36m1\u001b[0m\u001b[0;34m:\u001b[0m\u001b[0;34m\u001b[0m\u001b[0;34m\u001b[0m\u001b[0m\n\u001b[0;32m---> 53\u001b[0;31m             \u001b[0;32mreturn\u001b[0m \u001b[0morig_fn\u001b[0m\u001b[0;34m(\u001b[0m\u001b[0;34m*\u001b[0m\u001b[0margs\u001b[0m\u001b[0;34m,\u001b[0m \u001b[0;34m**\u001b[0m\u001b[0mkwargs\u001b[0m\u001b[0;34m)\u001b[0m\u001b[0;34m\u001b[0m\u001b[0;34m\u001b[0m\u001b[0m\n\u001b[0m\u001b[1;32m     54\u001b[0m         \u001b[0;32melif\u001b[0m \u001b[0mlen\u001b[0m\u001b[0;34m(\u001b[0m\u001b[0mtypes\u001b[0m\u001b[0;34m)\u001b[0m \u001b[0;34m==\u001b[0m \u001b[0;36m2\u001b[0m \u001b[0;32mand\u001b[0m \u001b[0mtypes\u001b[0m \u001b[0;34m==\u001b[0m \u001b[0mset\u001b[0m\u001b[0;34m(\u001b[0m\u001b[0;34m[\u001b[0m\u001b[0;34m'HalfTensor'\u001b[0m\u001b[0;34m,\u001b[0m \u001b[0;34m'FloatTensor'\u001b[0m\u001b[0;34m]\u001b[0m\u001b[0;34m)\u001b[0m\u001b[0;34m:\u001b[0m\u001b[0;34m\u001b[0m\u001b[0;34m\u001b[0m\u001b[0m\n\u001b[1;32m     55\u001b[0m             new_args = utils.casted_args(cast_fn,\n",
      "\u001b[0;32m~/miniconda3/lib/python3.7/site-packages/apex/amp/wrap.py\u001b[0m in \u001b[0;36mwrapper\u001b[0;34m(*args, **kwargs)\u001b[0m\n\u001b[1;32m     51\u001b[0m \u001b[0;34m\u001b[0m\u001b[0m\n\u001b[1;32m     52\u001b[0m         \u001b[0;32mif\u001b[0m \u001b[0mlen\u001b[0m\u001b[0;34m(\u001b[0m\u001b[0mtypes\u001b[0m\u001b[0;34m)\u001b[0m \u001b[0;34m<=\u001b[0m \u001b[0;36m1\u001b[0m\u001b[0;34m:\u001b[0m\u001b[0;34m\u001b[0m\u001b[0;34m\u001b[0m\u001b[0m\n\u001b[0;32m---> 53\u001b[0;31m             \u001b[0;32mreturn\u001b[0m \u001b[0morig_fn\u001b[0m\u001b[0;34m(\u001b[0m\u001b[0;34m*\u001b[0m\u001b[0margs\u001b[0m\u001b[0;34m,\u001b[0m \u001b[0;34m**\u001b[0m\u001b[0mkwargs\u001b[0m\u001b[0;34m)\u001b[0m\u001b[0;34m\u001b[0m\u001b[0;34m\u001b[0m\u001b[0m\n\u001b[0m\u001b[1;32m     54\u001b[0m         \u001b[0;32melif\u001b[0m \u001b[0mlen\u001b[0m\u001b[0;34m(\u001b[0m\u001b[0mtypes\u001b[0m\u001b[0;34m)\u001b[0m \u001b[0;34m==\u001b[0m \u001b[0;36m2\u001b[0m \u001b[0;32mand\u001b[0m \u001b[0mtypes\u001b[0m \u001b[0;34m==\u001b[0m \u001b[0mset\u001b[0m\u001b[0;34m(\u001b[0m\u001b[0;34m[\u001b[0m\u001b[0;34m'HalfTensor'\u001b[0m\u001b[0;34m,\u001b[0m \u001b[0;34m'FloatTensor'\u001b[0m\u001b[0;34m]\u001b[0m\u001b[0;34m)\u001b[0m\u001b[0;34m:\u001b[0m\u001b[0;34m\u001b[0m\u001b[0;34m\u001b[0m\u001b[0m\n\u001b[1;32m     55\u001b[0m             new_args = utils.casted_args(cast_fn,\n",
      "\u001b[0;32m~/miniconda3/lib/python3.7/site-packages/apex/amp/wrap.py\u001b[0m in \u001b[0;36mwrapper\u001b[0;34m(*args, **kwargs)\u001b[0m\n\u001b[1;32m     51\u001b[0m \u001b[0;34m\u001b[0m\u001b[0m\n\u001b[1;32m     52\u001b[0m         \u001b[0;32mif\u001b[0m \u001b[0mlen\u001b[0m\u001b[0;34m(\u001b[0m\u001b[0mtypes\u001b[0m\u001b[0;34m)\u001b[0m \u001b[0;34m<=\u001b[0m \u001b[0;36m1\u001b[0m\u001b[0;34m:\u001b[0m\u001b[0;34m\u001b[0m\u001b[0;34m\u001b[0m\u001b[0m\n\u001b[0;32m---> 53\u001b[0;31m             \u001b[0;32mreturn\u001b[0m \u001b[0morig_fn\u001b[0m\u001b[0;34m(\u001b[0m\u001b[0;34m*\u001b[0m\u001b[0margs\u001b[0m\u001b[0;34m,\u001b[0m \u001b[0;34m**\u001b[0m\u001b[0mkwargs\u001b[0m\u001b[0;34m)\u001b[0m\u001b[0;34m\u001b[0m\u001b[0;34m\u001b[0m\u001b[0m\n\u001b[0m\u001b[1;32m     54\u001b[0m         \u001b[0;32melif\u001b[0m \u001b[0mlen\u001b[0m\u001b[0;34m(\u001b[0m\u001b[0mtypes\u001b[0m\u001b[0;34m)\u001b[0m \u001b[0;34m==\u001b[0m \u001b[0;36m2\u001b[0m \u001b[0;32mand\u001b[0m \u001b[0mtypes\u001b[0m \u001b[0;34m==\u001b[0m \u001b[0mset\u001b[0m\u001b[0;34m(\u001b[0m\u001b[0;34m[\u001b[0m\u001b[0;34m'HalfTensor'\u001b[0m\u001b[0;34m,\u001b[0m \u001b[0;34m'FloatTensor'\u001b[0m\u001b[0;34m]\u001b[0m\u001b[0;34m)\u001b[0m\u001b[0;34m:\u001b[0m\u001b[0;34m\u001b[0m\u001b[0;34m\u001b[0m\u001b[0m\n\u001b[1;32m     55\u001b[0m             new_args = utils.casted_args(cast_fn,\n",
      "\u001b[0;32m~/miniconda3/lib/python3.7/site-packages/apex/amp/wrap.py\u001b[0m in \u001b[0;36mwrapper\u001b[0;34m(*args, **kwargs)\u001b[0m\n\u001b[1;32m     51\u001b[0m \u001b[0;34m\u001b[0m\u001b[0m\n\u001b[1;32m     52\u001b[0m         \u001b[0;32mif\u001b[0m \u001b[0mlen\u001b[0m\u001b[0;34m(\u001b[0m\u001b[0mtypes\u001b[0m\u001b[0;34m)\u001b[0m \u001b[0;34m<=\u001b[0m \u001b[0;36m1\u001b[0m\u001b[0;34m:\u001b[0m\u001b[0;34m\u001b[0m\u001b[0;34m\u001b[0m\u001b[0m\n\u001b[0;32m---> 53\u001b[0;31m             \u001b[0;32mreturn\u001b[0m \u001b[0morig_fn\u001b[0m\u001b[0;34m(\u001b[0m\u001b[0;34m*\u001b[0m\u001b[0margs\u001b[0m\u001b[0;34m,\u001b[0m \u001b[0;34m**\u001b[0m\u001b[0mkwargs\u001b[0m\u001b[0;34m)\u001b[0m\u001b[0;34m\u001b[0m\u001b[0;34m\u001b[0m\u001b[0m\n\u001b[0m\u001b[1;32m     54\u001b[0m         \u001b[0;32melif\u001b[0m \u001b[0mlen\u001b[0m\u001b[0;34m(\u001b[0m\u001b[0mtypes\u001b[0m\u001b[0;34m)\u001b[0m \u001b[0;34m==\u001b[0m \u001b[0;36m2\u001b[0m \u001b[0;32mand\u001b[0m \u001b[0mtypes\u001b[0m \u001b[0;34m==\u001b[0m \u001b[0mset\u001b[0m\u001b[0;34m(\u001b[0m\u001b[0;34m[\u001b[0m\u001b[0;34m'HalfTensor'\u001b[0m\u001b[0;34m,\u001b[0m \u001b[0;34m'FloatTensor'\u001b[0m\u001b[0;34m]\u001b[0m\u001b[0;34m)\u001b[0m\u001b[0;34m:\u001b[0m\u001b[0;34m\u001b[0m\u001b[0;34m\u001b[0m\u001b[0m\n\u001b[1;32m     55\u001b[0m             new_args = utils.casted_args(cast_fn,\n",
      "\u001b[0;32m~/miniconda3/lib/python3.7/site-packages/apex/amp/wrap.py\u001b[0m in \u001b[0;36mwrapper\u001b[0;34m(*args, **kwargs)\u001b[0m\n\u001b[1;32m     51\u001b[0m \u001b[0;34m\u001b[0m\u001b[0m\n\u001b[1;32m     52\u001b[0m         \u001b[0;32mif\u001b[0m \u001b[0mlen\u001b[0m\u001b[0;34m(\u001b[0m\u001b[0mtypes\u001b[0m\u001b[0;34m)\u001b[0m \u001b[0;34m<=\u001b[0m \u001b[0;36m1\u001b[0m\u001b[0;34m:\u001b[0m\u001b[0;34m\u001b[0m\u001b[0;34m\u001b[0m\u001b[0m\n\u001b[0;32m---> 53\u001b[0;31m             \u001b[0;32mreturn\u001b[0m \u001b[0morig_fn\u001b[0m\u001b[0;34m(\u001b[0m\u001b[0;34m*\u001b[0m\u001b[0margs\u001b[0m\u001b[0;34m,\u001b[0m \u001b[0;34m**\u001b[0m\u001b[0mkwargs\u001b[0m\u001b[0;34m)\u001b[0m\u001b[0;34m\u001b[0m\u001b[0;34m\u001b[0m\u001b[0m\n\u001b[0m\u001b[1;32m     54\u001b[0m         \u001b[0;32melif\u001b[0m \u001b[0mlen\u001b[0m\u001b[0;34m(\u001b[0m\u001b[0mtypes\u001b[0m\u001b[0;34m)\u001b[0m \u001b[0;34m==\u001b[0m \u001b[0;36m2\u001b[0m \u001b[0;32mand\u001b[0m \u001b[0mtypes\u001b[0m \u001b[0;34m==\u001b[0m \u001b[0mset\u001b[0m\u001b[0;34m(\u001b[0m\u001b[0;34m[\u001b[0m\u001b[0;34m'HalfTensor'\u001b[0m\u001b[0;34m,\u001b[0m \u001b[0;34m'FloatTensor'\u001b[0m\u001b[0;34m]\u001b[0m\u001b[0;34m)\u001b[0m\u001b[0;34m:\u001b[0m\u001b[0;34m\u001b[0m\u001b[0;34m\u001b[0m\u001b[0m\n\u001b[1;32m     55\u001b[0m             new_args = utils.casted_args(cast_fn,\n",
      "\u001b[0;32m~/miniconda3/lib/python3.7/site-packages/apex/amp/wrap.py\u001b[0m in \u001b[0;36mwrapper\u001b[0;34m(*args, **kwargs)\u001b[0m\n\u001b[1;32m     51\u001b[0m \u001b[0;34m\u001b[0m\u001b[0m\n\u001b[1;32m     52\u001b[0m         \u001b[0;32mif\u001b[0m \u001b[0mlen\u001b[0m\u001b[0;34m(\u001b[0m\u001b[0mtypes\u001b[0m\u001b[0;34m)\u001b[0m \u001b[0;34m<=\u001b[0m \u001b[0;36m1\u001b[0m\u001b[0;34m:\u001b[0m\u001b[0;34m\u001b[0m\u001b[0;34m\u001b[0m\u001b[0m\n\u001b[0;32m---> 53\u001b[0;31m             \u001b[0;32mreturn\u001b[0m \u001b[0morig_fn\u001b[0m\u001b[0;34m(\u001b[0m\u001b[0;34m*\u001b[0m\u001b[0margs\u001b[0m\u001b[0;34m,\u001b[0m \u001b[0;34m**\u001b[0m\u001b[0mkwargs\u001b[0m\u001b[0;34m)\u001b[0m\u001b[0;34m\u001b[0m\u001b[0;34m\u001b[0m\u001b[0m\n\u001b[0m\u001b[1;32m     54\u001b[0m         \u001b[0;32melif\u001b[0m \u001b[0mlen\u001b[0m\u001b[0;34m(\u001b[0m\u001b[0mtypes\u001b[0m\u001b[0;34m)\u001b[0m \u001b[0;34m==\u001b[0m \u001b[0;36m2\u001b[0m \u001b[0;32mand\u001b[0m \u001b[0mtypes\u001b[0m \u001b[0;34m==\u001b[0m \u001b[0mset\u001b[0m\u001b[0;34m(\u001b[0m\u001b[0;34m[\u001b[0m\u001b[0;34m'HalfTensor'\u001b[0m\u001b[0;34m,\u001b[0m \u001b[0;34m'FloatTensor'\u001b[0m\u001b[0;34m]\u001b[0m\u001b[0;34m)\u001b[0m\u001b[0;34m:\u001b[0m\u001b[0;34m\u001b[0m\u001b[0;34m\u001b[0m\u001b[0m\n\u001b[1;32m     55\u001b[0m             new_args = utils.casted_args(cast_fn,\n",
      "\u001b[0;32m~/miniconda3/lib/python3.7/site-packages/apex/amp/wrap.py\u001b[0m in \u001b[0;36mwrapper\u001b[0;34m(*args, **kwargs)\u001b[0m\n\u001b[1;32m     51\u001b[0m \u001b[0;34m\u001b[0m\u001b[0m\n\u001b[1;32m     52\u001b[0m         \u001b[0;32mif\u001b[0m \u001b[0mlen\u001b[0m\u001b[0;34m(\u001b[0m\u001b[0mtypes\u001b[0m\u001b[0;34m)\u001b[0m \u001b[0;34m<=\u001b[0m \u001b[0;36m1\u001b[0m\u001b[0;34m:\u001b[0m\u001b[0;34m\u001b[0m\u001b[0;34m\u001b[0m\u001b[0m\n\u001b[0;32m---> 53\u001b[0;31m             \u001b[0;32mreturn\u001b[0m \u001b[0morig_fn\u001b[0m\u001b[0;34m(\u001b[0m\u001b[0;34m*\u001b[0m\u001b[0margs\u001b[0m\u001b[0;34m,\u001b[0m \u001b[0;34m**\u001b[0m\u001b[0mkwargs\u001b[0m\u001b[0;34m)\u001b[0m\u001b[0;34m\u001b[0m\u001b[0;34m\u001b[0m\u001b[0m\n\u001b[0m\u001b[1;32m     54\u001b[0m         \u001b[0;32melif\u001b[0m \u001b[0mlen\u001b[0m\u001b[0;34m(\u001b[0m\u001b[0mtypes\u001b[0m\u001b[0;34m)\u001b[0m \u001b[0;34m==\u001b[0m \u001b[0;36m2\u001b[0m \u001b[0;32mand\u001b[0m \u001b[0mtypes\u001b[0m \u001b[0;34m==\u001b[0m \u001b[0mset\u001b[0m\u001b[0;34m(\u001b[0m\u001b[0;34m[\u001b[0m\u001b[0;34m'HalfTensor'\u001b[0m\u001b[0;34m,\u001b[0m \u001b[0;34m'FloatTensor'\u001b[0m\u001b[0;34m]\u001b[0m\u001b[0;34m)\u001b[0m\u001b[0;34m:\u001b[0m\u001b[0;34m\u001b[0m\u001b[0;34m\u001b[0m\u001b[0m\n\u001b[1;32m     55\u001b[0m             new_args = utils.casted_args(cast_fn,\n",
      "\u001b[0;32m~/miniconda3/lib/python3.7/site-packages/apex/amp/wrap.py\u001b[0m in \u001b[0;36mwrapper\u001b[0;34m(*args, **kwargs)\u001b[0m\n\u001b[1;32m     51\u001b[0m \u001b[0;34m\u001b[0m\u001b[0m\n\u001b[1;32m     52\u001b[0m         \u001b[0;32mif\u001b[0m \u001b[0mlen\u001b[0m\u001b[0;34m(\u001b[0m\u001b[0mtypes\u001b[0m\u001b[0;34m)\u001b[0m \u001b[0;34m<=\u001b[0m \u001b[0;36m1\u001b[0m\u001b[0;34m:\u001b[0m\u001b[0;34m\u001b[0m\u001b[0;34m\u001b[0m\u001b[0m\n\u001b[0;32m---> 53\u001b[0;31m             \u001b[0;32mreturn\u001b[0m \u001b[0morig_fn\u001b[0m\u001b[0;34m(\u001b[0m\u001b[0;34m*\u001b[0m\u001b[0margs\u001b[0m\u001b[0;34m,\u001b[0m \u001b[0;34m**\u001b[0m\u001b[0mkwargs\u001b[0m\u001b[0;34m)\u001b[0m\u001b[0;34m\u001b[0m\u001b[0;34m\u001b[0m\u001b[0m\n\u001b[0m\u001b[1;32m     54\u001b[0m         \u001b[0;32melif\u001b[0m \u001b[0mlen\u001b[0m\u001b[0;34m(\u001b[0m\u001b[0mtypes\u001b[0m\u001b[0;34m)\u001b[0m \u001b[0;34m==\u001b[0m \u001b[0;36m2\u001b[0m \u001b[0;32mand\u001b[0m \u001b[0mtypes\u001b[0m \u001b[0;34m==\u001b[0m \u001b[0mset\u001b[0m\u001b[0;34m(\u001b[0m\u001b[0;34m[\u001b[0m\u001b[0;34m'HalfTensor'\u001b[0m\u001b[0;34m,\u001b[0m \u001b[0;34m'FloatTensor'\u001b[0m\u001b[0;34m]\u001b[0m\u001b[0;34m)\u001b[0m\u001b[0;34m:\u001b[0m\u001b[0;34m\u001b[0m\u001b[0;34m\u001b[0m\u001b[0m\n\u001b[1;32m     55\u001b[0m             new_args = utils.casted_args(cast_fn,\n",
      "\u001b[0;32m~/miniconda3/lib/python3.7/site-packages/apex/amp/wrap.py\u001b[0m in \u001b[0;36mwrapper\u001b[0;34m(*args, **kwargs)\u001b[0m\n\u001b[1;32m     51\u001b[0m \u001b[0;34m\u001b[0m\u001b[0m\n\u001b[1;32m     52\u001b[0m         \u001b[0;32mif\u001b[0m \u001b[0mlen\u001b[0m\u001b[0;34m(\u001b[0m\u001b[0mtypes\u001b[0m\u001b[0;34m)\u001b[0m \u001b[0;34m<=\u001b[0m \u001b[0;36m1\u001b[0m\u001b[0;34m:\u001b[0m\u001b[0;34m\u001b[0m\u001b[0;34m\u001b[0m\u001b[0m\n\u001b[0;32m---> 53\u001b[0;31m             \u001b[0;32mreturn\u001b[0m \u001b[0morig_fn\u001b[0m\u001b[0;34m(\u001b[0m\u001b[0;34m*\u001b[0m\u001b[0margs\u001b[0m\u001b[0;34m,\u001b[0m \u001b[0;34m**\u001b[0m\u001b[0mkwargs\u001b[0m\u001b[0;34m)\u001b[0m\u001b[0;34m\u001b[0m\u001b[0;34m\u001b[0m\u001b[0m\n\u001b[0m\u001b[1;32m     54\u001b[0m         \u001b[0;32melif\u001b[0m \u001b[0mlen\u001b[0m\u001b[0;34m(\u001b[0m\u001b[0mtypes\u001b[0m\u001b[0;34m)\u001b[0m \u001b[0;34m==\u001b[0m \u001b[0;36m2\u001b[0m \u001b[0;32mand\u001b[0m \u001b[0mtypes\u001b[0m \u001b[0;34m==\u001b[0m \u001b[0mset\u001b[0m\u001b[0;34m(\u001b[0m\u001b[0;34m[\u001b[0m\u001b[0;34m'HalfTensor'\u001b[0m\u001b[0;34m,\u001b[0m \u001b[0;34m'FloatTensor'\u001b[0m\u001b[0;34m]\u001b[0m\u001b[0;34m)\u001b[0m\u001b[0;34m:\u001b[0m\u001b[0;34m\u001b[0m\u001b[0;34m\u001b[0m\u001b[0m\n\u001b[1;32m     55\u001b[0m             new_args = utils.casted_args(cast_fn,\n",
      "\u001b[0;32m~/miniconda3/lib/python3.7/site-packages/apex/amp/wrap.py\u001b[0m in \u001b[0;36mwrapper\u001b[0;34m(*args, **kwargs)\u001b[0m\n\u001b[1;32m     51\u001b[0m \u001b[0;34m\u001b[0m\u001b[0m\n\u001b[1;32m     52\u001b[0m         \u001b[0;32mif\u001b[0m \u001b[0mlen\u001b[0m\u001b[0;34m(\u001b[0m\u001b[0mtypes\u001b[0m\u001b[0;34m)\u001b[0m \u001b[0;34m<=\u001b[0m \u001b[0;36m1\u001b[0m\u001b[0;34m:\u001b[0m\u001b[0;34m\u001b[0m\u001b[0;34m\u001b[0m\u001b[0m\n\u001b[0;32m---> 53\u001b[0;31m             \u001b[0;32mreturn\u001b[0m \u001b[0morig_fn\u001b[0m\u001b[0;34m(\u001b[0m\u001b[0;34m*\u001b[0m\u001b[0margs\u001b[0m\u001b[0;34m,\u001b[0m \u001b[0;34m**\u001b[0m\u001b[0mkwargs\u001b[0m\u001b[0;34m)\u001b[0m\u001b[0;34m\u001b[0m\u001b[0;34m\u001b[0m\u001b[0m\n\u001b[0m\u001b[1;32m     54\u001b[0m         \u001b[0;32melif\u001b[0m \u001b[0mlen\u001b[0m\u001b[0;34m(\u001b[0m\u001b[0mtypes\u001b[0m\u001b[0;34m)\u001b[0m \u001b[0;34m==\u001b[0m \u001b[0;36m2\u001b[0m \u001b[0;32mand\u001b[0m \u001b[0mtypes\u001b[0m \u001b[0;34m==\u001b[0m \u001b[0mset\u001b[0m\u001b[0;34m(\u001b[0m\u001b[0;34m[\u001b[0m\u001b[0;34m'HalfTensor'\u001b[0m\u001b[0;34m,\u001b[0m \u001b[0;34m'FloatTensor'\u001b[0m\u001b[0;34m]\u001b[0m\u001b[0;34m)\u001b[0m\u001b[0;34m:\u001b[0m\u001b[0;34m\u001b[0m\u001b[0;34m\u001b[0m\u001b[0m\n\u001b[1;32m     55\u001b[0m             new_args = utils.casted_args(cast_fn,\n",
      "\u001b[0;32m~/miniconda3/lib/python3.7/site-packages/apex/amp/wrap.py\u001b[0m in \u001b[0;36mwrapper\u001b[0;34m(*args, **kwargs)\u001b[0m\n\u001b[1;32m     51\u001b[0m \u001b[0;34m\u001b[0m\u001b[0m\n\u001b[1;32m     52\u001b[0m         \u001b[0;32mif\u001b[0m \u001b[0mlen\u001b[0m\u001b[0;34m(\u001b[0m\u001b[0mtypes\u001b[0m\u001b[0;34m)\u001b[0m \u001b[0;34m<=\u001b[0m \u001b[0;36m1\u001b[0m\u001b[0;34m:\u001b[0m\u001b[0;34m\u001b[0m\u001b[0;34m\u001b[0m\u001b[0m\n\u001b[0;32m---> 53\u001b[0;31m             \u001b[0;32mreturn\u001b[0m \u001b[0morig_fn\u001b[0m\u001b[0;34m(\u001b[0m\u001b[0;34m*\u001b[0m\u001b[0margs\u001b[0m\u001b[0;34m,\u001b[0m \u001b[0;34m**\u001b[0m\u001b[0mkwargs\u001b[0m\u001b[0;34m)\u001b[0m\u001b[0;34m\u001b[0m\u001b[0;34m\u001b[0m\u001b[0m\n\u001b[0m\u001b[1;32m     54\u001b[0m         \u001b[0;32melif\u001b[0m \u001b[0mlen\u001b[0m\u001b[0;34m(\u001b[0m\u001b[0mtypes\u001b[0m\u001b[0;34m)\u001b[0m \u001b[0;34m==\u001b[0m \u001b[0;36m2\u001b[0m \u001b[0;32mand\u001b[0m \u001b[0mtypes\u001b[0m \u001b[0;34m==\u001b[0m \u001b[0mset\u001b[0m\u001b[0;34m(\u001b[0m\u001b[0;34m[\u001b[0m\u001b[0;34m'HalfTensor'\u001b[0m\u001b[0;34m,\u001b[0m \u001b[0;34m'FloatTensor'\u001b[0m\u001b[0;34m]\u001b[0m\u001b[0;34m)\u001b[0m\u001b[0;34m:\u001b[0m\u001b[0;34m\u001b[0m\u001b[0;34m\u001b[0m\u001b[0m\n\u001b[1;32m     55\u001b[0m             new_args = utils.casted_args(cast_fn,\n",
      "\u001b[0;32m~/miniconda3/lib/python3.7/site-packages/apex/amp/wrap.py\u001b[0m in \u001b[0;36mwrapper\u001b[0;34m(*args, **kwargs)\u001b[0m\n\u001b[1;32m     51\u001b[0m \u001b[0;34m\u001b[0m\u001b[0m\n\u001b[1;32m     52\u001b[0m         \u001b[0;32mif\u001b[0m \u001b[0mlen\u001b[0m\u001b[0;34m(\u001b[0m\u001b[0mtypes\u001b[0m\u001b[0;34m)\u001b[0m \u001b[0;34m<=\u001b[0m \u001b[0;36m1\u001b[0m\u001b[0;34m:\u001b[0m\u001b[0;34m\u001b[0m\u001b[0;34m\u001b[0m\u001b[0m\n\u001b[0;32m---> 53\u001b[0;31m             \u001b[0;32mreturn\u001b[0m \u001b[0morig_fn\u001b[0m\u001b[0;34m(\u001b[0m\u001b[0;34m*\u001b[0m\u001b[0margs\u001b[0m\u001b[0;34m,\u001b[0m \u001b[0;34m**\u001b[0m\u001b[0mkwargs\u001b[0m\u001b[0;34m)\u001b[0m\u001b[0;34m\u001b[0m\u001b[0;34m\u001b[0m\u001b[0m\n\u001b[0m\u001b[1;32m     54\u001b[0m         \u001b[0;32melif\u001b[0m \u001b[0mlen\u001b[0m\u001b[0;34m(\u001b[0m\u001b[0mtypes\u001b[0m\u001b[0;34m)\u001b[0m \u001b[0;34m==\u001b[0m \u001b[0;36m2\u001b[0m \u001b[0;32mand\u001b[0m \u001b[0mtypes\u001b[0m \u001b[0;34m==\u001b[0m \u001b[0mset\u001b[0m\u001b[0;34m(\u001b[0m\u001b[0;34m[\u001b[0m\u001b[0;34m'HalfTensor'\u001b[0m\u001b[0;34m,\u001b[0m \u001b[0;34m'FloatTensor'\u001b[0m\u001b[0;34m]\u001b[0m\u001b[0;34m)\u001b[0m\u001b[0;34m:\u001b[0m\u001b[0;34m\u001b[0m\u001b[0;34m\u001b[0m\u001b[0m\n\u001b[1;32m     55\u001b[0m             new_args = utils.casted_args(cast_fn,\n",
      "\u001b[0;32m~/miniconda3/lib/python3.7/site-packages/apex/amp/wrap.py\u001b[0m in \u001b[0;36mwrapper\u001b[0;34m(*args, **kwargs)\u001b[0m\n\u001b[1;32m     51\u001b[0m \u001b[0;34m\u001b[0m\u001b[0m\n\u001b[1;32m     52\u001b[0m         \u001b[0;32mif\u001b[0m \u001b[0mlen\u001b[0m\u001b[0;34m(\u001b[0m\u001b[0mtypes\u001b[0m\u001b[0;34m)\u001b[0m \u001b[0;34m<=\u001b[0m \u001b[0;36m1\u001b[0m\u001b[0;34m:\u001b[0m\u001b[0;34m\u001b[0m\u001b[0;34m\u001b[0m\u001b[0m\n\u001b[0;32m---> 53\u001b[0;31m             \u001b[0;32mreturn\u001b[0m \u001b[0morig_fn\u001b[0m\u001b[0;34m(\u001b[0m\u001b[0;34m*\u001b[0m\u001b[0margs\u001b[0m\u001b[0;34m,\u001b[0m \u001b[0;34m**\u001b[0m\u001b[0mkwargs\u001b[0m\u001b[0;34m)\u001b[0m\u001b[0;34m\u001b[0m\u001b[0;34m\u001b[0m\u001b[0m\n\u001b[0m\u001b[1;32m     54\u001b[0m         \u001b[0;32melif\u001b[0m \u001b[0mlen\u001b[0m\u001b[0;34m(\u001b[0m\u001b[0mtypes\u001b[0m\u001b[0;34m)\u001b[0m \u001b[0;34m==\u001b[0m \u001b[0;36m2\u001b[0m \u001b[0;32mand\u001b[0m \u001b[0mtypes\u001b[0m \u001b[0;34m==\u001b[0m \u001b[0mset\u001b[0m\u001b[0;34m(\u001b[0m\u001b[0;34m[\u001b[0m\u001b[0;34m'HalfTensor'\u001b[0m\u001b[0;34m,\u001b[0m \u001b[0;34m'FloatTensor'\u001b[0m\u001b[0;34m]\u001b[0m\u001b[0;34m)\u001b[0m\u001b[0;34m:\u001b[0m\u001b[0;34m\u001b[0m\u001b[0;34m\u001b[0m\u001b[0m\n\u001b[1;32m     55\u001b[0m             new_args = utils.casted_args(cast_fn,\n",
      "\u001b[0;32m~/miniconda3/lib/python3.7/site-packages/torch/tensor.py\u001b[0m in \u001b[0;36mwrapped\u001b[0;34m(*args, **kwargs)\u001b[0m\n\u001b[1;32m     26\u001b[0m     \u001b[0;32mdef\u001b[0m \u001b[0mwrapped\u001b[0m\u001b[0;34m(\u001b[0m\u001b[0;34m*\u001b[0m\u001b[0margs\u001b[0m\u001b[0;34m,\u001b[0m \u001b[0;34m**\u001b[0m\u001b[0mkwargs\u001b[0m\u001b[0;34m)\u001b[0m\u001b[0;34m:\u001b[0m\u001b[0;34m\u001b[0m\u001b[0;34m\u001b[0m\u001b[0m\n\u001b[1;32m     27\u001b[0m         \u001b[0;32mtry\u001b[0m\u001b[0;34m:\u001b[0m\u001b[0;34m\u001b[0m\u001b[0;34m\u001b[0m\u001b[0m\n\u001b[0;32m---> 28\u001b[0;31m             \u001b[0;32mreturn\u001b[0m \u001b[0mf\u001b[0m\u001b[0;34m(\u001b[0m\u001b[0;34m*\u001b[0m\u001b[0margs\u001b[0m\u001b[0;34m,\u001b[0m \u001b[0;34m**\u001b[0m\u001b[0mkwargs\u001b[0m\u001b[0;34m)\u001b[0m\u001b[0;34m\u001b[0m\u001b[0;34m\u001b[0m\u001b[0m\n\u001b[0m\u001b[1;32m     29\u001b[0m         \u001b[0;32mexcept\u001b[0m \u001b[0mTypeError\u001b[0m\u001b[0;34m:\u001b[0m\u001b[0;34m\u001b[0m\u001b[0;34m\u001b[0m\u001b[0m\n\u001b[1;32m     30\u001b[0m             \u001b[0;32mreturn\u001b[0m \u001b[0mNotImplemented\u001b[0m\u001b[0;34m\u001b[0m\u001b[0;34m\u001b[0m\u001b[0m\n",
      "\u001b[0;31mRuntimeError\u001b[0m: The size of tensor a (800) must match the size of tensor b (128) at non-singleton dimension 1"
     ]
    }
   ],
   "source": [
    "trainer.fit(ae_mdl)"
   ]
  },
  {
   "cell_type": "code",
   "execution_count": 53,
   "metadata": {},
   "outputs": [],
   "source": [
    "class FFNet(nn.Module):\n",
    "\t\"\"\"\n",
    "\t\"\"\"\n",
    "\tdef __init__(self, in_shape, block_sizes=[[20]], block_act='elu', out_act='relu', global_dropout=.2, no_dropout=[0],\n",
    "                block_init='normal', out_init='normal', out_shapes=[2]):\n",
    "\t\t\"\"\"\n",
    "\t\tArgs:\n",
    "\t\t\tin_shape (tuple): shape of the network's input tensor, expects a shape (in_channels, in_width)\n",
    "\t\t\tblock_sizes (list * list): FF layer sizes in each block, or individual channel sizes per block in sequence\n",
    "\t\t\tblock_act (str): activation function of each layer in each block\n",
    "\t\t\tout_act (str): output activation of each block\n",
    "\t\t\tglobal_dropout (float): dropout probability of an element to be zeroed for any layer not in no_dropout\n",
    "\t\t\tno_dropout (list): list of global layer indices to disable dropout on\n",
    "\t\t\tblock_init (str): \n",
    "\t\t\tout_init (str): \n",
    "\t\t\tout_shapes (list): \n",
    "\t\t\"\"\"\n",
    "\t\tsuper(FFNet, self).__init__()\n",
    "\t\tself.in_shape = block_in_shape = (in_shape[0]*in_shape[1], )\n",
    "\t\tblocks = []\n",
    "\t\ti = 0\n",
    "\n",
    "\t\tfor b in range(len(block_sizes)):\n",
    "\t\t\tblock_channel_list = block_sizes[b]\n",
    "\t\t\tlayer_in_shape = block_in_shape\n",
    "\t\t\tlayers = []\n",
    "\n",
    "\t\t\tfor l, layer_out_shape in enumerate(block_channel_list):\n",
    "\t\t\t\tlayer_out_shape = (layer_out_shape,)\n",
    "\t\t\t\tlayers.append(('ff_{b}_{l}'.format(b=b, l=l, i=i), init_layer(nn.Linear(layer_in_shape[0], layer_out_shape[0], bias=True), act=block_act, init_method=block_init)))\n",
    "\t\t\t\tlayers.append(('af_{b}_{l}'.format(b=b, l=l, i=i), PYTORCH_ACT_MAPPING.get(block_act)()))\n",
    "\t\t\t\tif (i not in no_dropout):\n",
    "\t\t\t\t\tlayers.append(('do_{b}_{l}'.format(b=b, l=l, i=i), nn.Dropout(global_dropout)))\n",
    "\t\t\t\tlayer_in_shape = layer_out_shape\n",
    "\t\t\t\ti += 1\n",
    "\t\t\tblock_out_shape = layer_out_shape\n",
    "\t\t\tnet = nn.Sequential(OrderedDict(layers))\n",
    "\t\t\tnet.in_shape, net.out_shape = block_in_shape, block_out_shape\n",
    "\t\t\tblocks.append(('rb_{b}'.format(b=b), ResidualBlock(net, out_act, downsample_type='linear', init_method=out_init)))\n",
    "\t\t\tblock_in_shape = block_out_shape\n",
    "\t\tself.out_shape = block_out_shape\n",
    "\t\tself.ffnet = nn.Sequential(OrderedDict(blocks))\n",
    "\n",
    "\tdef forward(self, x):\n",
    "\t\treturn self.ffnet(x)"
   ]
  },
  {
   "cell_type": "code",
   "execution_count": 170,
   "metadata": {},
   "outputs": [],
   "source": [
    "class RNNet(nn.Module):\n",
    "\t\"\"\"\n",
    "\t\"\"\"\n",
    "\tdef __init__(self, in_shape, rnn_type='gru', block_sizes=[20, 2], block_act='elu', out_act='relu', global_dropout=.2,\n",
    "                block_init='normal', out_init='normal', out_shapes=[2]):\n",
    "\t\t\"\"\"\n",
    "\t\tArgs:\n",
    "\t\t\tin_shape (tuple): shape of the network's input tensor, expects a shape (in_channels, in_width)\n",
    "\t\t\trnn_type ('gru'|'lstm'):\n",
    "\t\t\tblock_sizes (list * list): \n",
    "\t\t\tblock_act (str): activation function of each layer in each block\n",
    "\t\t\tout_act (str): output activation of each block\n",
    "\t\t\tglobal_dropout (float): dropout probability of an element to be zeroed for any layer not in no_dropout\n",
    "\t\t\tno_dropout (list): list of global layer indices to disable dropout on\n",
    "\t\t\tblock_init (str): \n",
    "\t\t\tout_init (str): \n",
    "\t\t\tout_shapes (list): \n",
    "\t\t\"\"\"\n",
    "\t\tsuper(RNNet, self).__init__()\n",
    "\t\tself.in_shape = (np.product(in_shape), )\n",
    "\t\tself.out_shape = (block_sizes[0], )\n",
    "\t\tlayer_in_shape = self.in_shape[0]\n",
    "\t\tlayer_out_shape = self.out_shape[0]\n",
    "\t\tif (rnn_type == 'gru'):\n",
    "\t\t\trnn_fn = nn.GRU\n",
    "\t\telif (rnn_type == 'lstm'):\n",
    "\t\t\trnn_fn = nn.LSTM\n",
    "\n",
    "\t\tself.rnnet = rnn_fn(layer_in_shape, block_sizes[0], block_sizes[1], bias=True, batch_first=True, dropout=global_dropout)\n",
    "\t\tself.rnnet.in_shape = (layer_in_shape, )\n",
    "\t\tself.rnnet.out_shape = (layer_out_shape, )\n",
    "\n",
    "# \t\tfor b in range(len(block_sizes)):\n",
    "# \t\t\tblock_channel_list = block_sizes[b]\n",
    "# \t\t\tlayer_in_shape = block_in_shape\n",
    "# \t\t\tlayers = []\n",
    "\n",
    "# \t\t\tfor l, layer_out_shape in enumerate(block_channel_list):\n",
    "# \t\t\t\tlayer_out_shape = (layer_out_shape,)\n",
    "# \t\t\t\t#layers.append(('{r}_{b}_{l}'.format(r=rnn_type, b=b, l=l, i=i), init_layer(rnn_fn(layer_in_shape[0], layer_out_shape[0], 1, bias=True, dropout=global_dropout), act=block_act, init_method=block_init)))\n",
    "# \t\t\t\tlayers.append(('{r}_{b}_{l}'.format(r=rnn_type, b=b, l=l, i=i), rnn_fn(layer_in_shape[0], layer_out_shape[0], 1, bias=True, batch_first=False, dropout=global_dropout)))\n",
    "# \t\t\t\t#layers.append(('af_{b}_{l}'.format(b=b, l=l, i=i), PYTORCH_ACT_MAPPING.get(block_act)()))\n",
    "# \t\t\t\tlayer_in_shape = layer_out_shape\n",
    "# \t\t\t\ti += 1\n",
    "# \t\t\tblock_out_shape = layer_out_shape\n",
    "# \t\t\tnet = nn.Sequential(OrderedDict(layers))\n",
    "# \t\t\tnet.in_shape, net.out_shape = block_in_shape, block_out_shape\n",
    "# \t\t\tblocks.append(('b_{b}'.format(b=b), net))\n",
    "# \t\t\t#blocks.append(('rb_{b}'.format(b=b), ResidualBlock(net, out_act, downsample_type='linear', init_method=out_init)))\n",
    "# \t\t\tblock_in_shape = block_out_shape\n",
    "# \t\tself.out_shape = block_out_shape\n",
    "# \t\tself.rnnet = nn.Sequential(OrderedDict(blocks))\n",
    "\t\tself.h0 = torch.randn(block_sizes[-1], 3, block_sizes[0])\n",
    "\t\tself.c0 = torch.randn(2, 3, 20)\n",
    "\n",
    "\tdef forward(self, x):\n",
    "\t\tout, hn = self.rnnet(x, self.h0)\n",
    "\n",
    "\t\treturn out"
   ]
  },
  {
   "cell_type": "code",
   "execution_count": 54,
   "metadata": {},
   "outputs": [],
   "source": [
    "t_params = {\n",
    "\t'window_size': 20,\n",
    "\t'feat_dim': 3,\n",
    "\t'feat_shuffle': False,    \n",
    "\t'epochs': 200,\n",
    "\t'batch_size': 64*2,\n",
    "\t'loss': 'ce',\n",
    "\t'opt': {\n",
    "\t\t'name': 'adam',\n",
    "\t\t'kwargs': {\n",
    "\t\t\t'lr': .001\n",
    "\t\t}\n",
    "\t},\n",
    "\t'sch': {\n",
    "\t}\n",
    "}\n",
    "\n",
    "ffn_t_params = {\n",
    "\t'window_size': 20,\n",
    "\t'feat_dim': 2,\n",
    "\t'feat_shuffle': False,\n",
    "\t'epochs': 200,\n",
    "\t'batch_size': 64*2,\n",
    "\t'loss': 'ce',\n",
    "\t'opt': {\n",
    "\t\t'name': 'adam',\n",
    "\t\t'kwargs': {\n",
    "\t\t\t'lr': .001\n",
    "\t\t}\n",
    "\t},\n",
    "\t'sch': {\n",
    "\t}\n",
    "}"
   ]
  },
  {
   "cell_type": "code",
   "execution_count": 55,
   "metadata": {},
   "outputs": [],
   "source": [
    "ffn_m_params = {\n",
    "\t'block_sizes': [[200, 200, 200, 200, 200, 200, 200, 200, 200, 200]],\n",
    "\t'block_act': 'relu',\n",
    "\t'out_act': 'gelu',\n",
    "\t'global_dropout': 0,\n",
    "\t'no_dropout': [0],\n",
    "\t'block_init': 'normal',\n",
    "\t'out_init': 'normal',\n",
    "\t'out_shapes': [2]#len(chosen_l.columns)*len(chosen_l.index.levels[1])], # directions * slots per direction\n",
    "}\n",
    "\n",
    "rnn_m_params = {\n",
    "\t'rnn_type': 'gru',\n",
    "\t'block_sizes': [20, 2],\n",
    "\t'block_act': 'relu',\n",
    "\t'out_act': 'relu',\n",
    "\t'global_dropout': 0,\n",
    "\t'block_init': 'normal',\n",
    "\t'out_init': 'normal',\n",
    "\t'out_shapes': [2]#len(chosen_l.columns)*len(chosen_l.index.levels[1])], # directions * slots per direction\n",
    "}\n",
    "\n",
    "tcn_m_params = {\n",
    "\t'pad_type': 'same',    \n",
    "\t'num_blocks': 1,\n",
    "\t#'block_channels': [[80, 80, 80]],\n",
    "\t'block_channels': [[70, 70, 70]],\n",
    "\t#'block_channels': [[70]],\n",
    "\t#'block_channels': [[80, 80, 80]],\n",
    "\t#'block_channels': [[80, 70, 60]],\n",
    "\t#'block_channels': [[70, 60, 50]],\n",
    "\t'block_act': 'relu',\n",
    "\t'out_act': 'relu',\n",
    "\t'block_init': 'kaiming_normal',\n",
    "\t'out_init': 'kaiming_normal',\n",
    "\t'kernel_sizes': [7],\n",
    "\t'dilation_index': 'global',\n",
    "\t'global_dropout': 0,\n",
    "\t'no_dropout': [0],\n",
    "\t'out_shapes': [2] # directions * slots per direction\n",
    "}"
   ]
  },
  {
   "cell_type": "code",
   "execution_count": 47,
   "metadata": {},
   "outputs": [
    {
     "data": {
      "text/plain": [
       "GenericModel(\n",
       "  (loss): CrossEntropyLoss()\n",
       "  (model): OutputLinear(\n",
       "    (emb): TemporalConvNet(\n",
       "      (convnet): Sequential(\n",
       "        (rb_0): ResidualBlock(\n",
       "          (net): Sequential(\n",
       "            (tl_0_0): TemporalLayer1d(\n",
       "              (layer): Sequential(\n",
       "                (0): Conv1d(5, 70, kernel_size=(7,), stride=(1,), padding=(3,))\n",
       "                (1): ReLU()\n",
       "                (2): Dropout(p=0, inplace=False)\n",
       "              )\n",
       "            )\n",
       "            (tl_0_1): TemporalLayer1d(\n",
       "              (layer): Sequential(\n",
       "                (0): Conv1d(70, 70, kernel_size=(7,), stride=(1,), padding=(6,), dilation=(2,))\n",
       "                (1): ReLU()\n",
       "                (2): Dropout(p=0, inplace=False)\n",
       "              )\n",
       "            )\n",
       "            (tl_0_2): TemporalLayer1d(\n",
       "              (layer): Sequential(\n",
       "                (0): Conv1d(70, 70, kernel_size=(7,), stride=(1,), padding=(12,), dilation=(4,))\n",
       "                (1): ReLU()\n",
       "                (2): Dropout(p=0, inplace=False)\n",
       "              )\n",
       "            )\n",
       "          )\n",
       "          (out_act): ReLU()\n",
       "          (downsample): Conv1d(5, 70, kernel_size=(1,), stride=(1,))\n",
       "        )\n",
       "      )\n",
       "    )\n",
       "    (out): Sequential(\n",
       "      (0): Linear(in_features=70, out_features=2, bias=True)\n",
       "    )\n",
       "  )\n",
       ")"
      ]
     },
     "metadata": {},
     "output_type": "display_data"
    }
   ],
   "source": [
    "mdl = GenericModel(TemporalConvNet, tcn_m_params, t_params, (feature_df, label_df, target_df))\n",
    "display(mdl)"
   ]
  },
  {
   "cell_type": "code",
   "execution_count": 48,
   "metadata": {},
   "outputs": [],
   "source": [
    "#mdl = GenericModel(RNNet, rnn_m_params, t_params, (feature_df, label_df, target_df))\n",
    "#display(mdl)"
   ]
  },
  {
   "cell_type": "code",
   "execution_count": 56,
   "metadata": {},
   "outputs": [],
   "source": [
    "mdl = GenericModel(FFNet, ffn_m_params, ffn_t_params, (feature_df, label_df, target_df))"
   ]
  },
  {
   "cell_type": "code",
   "execution_count": 57,
   "metadata": {},
   "outputs": [
    {
     "name": "stderr",
     "output_type": "stream",
     "text": [
      "INFO:lightning:GPU available: True, used: True\n",
      "INFO:lightning:CUDA_VISIBLE_DEVICES: [0]\n",
      "INFO:lightning:Using 16bit precision.\n"
     ]
    }
   ],
   "source": [
    "escb = EarlyStopping(monitor='val_loss', min_delta=0.00, patience=30, verbose=False, mode='min')\n",
    "trainer = pl.Trainer(max_epochs=t_params['epochs'], auto_lr_find=False, gpus=1, amp_level='O1', precision=16)"
   ]
  },
  {
   "cell_type": "code",
   "execution_count": 58,
   "metadata": {},
   "outputs": [
    {
     "name": "stderr",
     "output_type": "stream",
     "text": [
      "INFO:lightning:\n",
      "   | Name                            | Type             | Params\n",
      "-----------------------------------------------------------------\n",
      "0  | loss                            | CrossEntropyLoss | 0     \n",
      "1  | model                           | OutputLinear     | 682 K \n",
      "2  | model.emb                       | FFNet            | 682 K \n",
      "3  | model.emb.ffnet                 | Sequential       | 682 K \n",
      "4  | model.emb.ffnet.rb_0            | ResidualBlock    | 682 K \n",
      "5  | model.emb.ffnet.rb_0.net        | Sequential       | 522 K \n",
      "6  | model.emb.ffnet.rb_0.net.ff_0_0 | Linear           | 160 K \n",
      "7  | model.emb.ffnet.rb_0.net.af_0_0 | ReLU             | 0     \n",
      "8  | model.emb.ffnet.rb_0.net.ff_0_1 | Linear           | 40 K  \n",
      "9  | model.emb.ffnet.rb_0.net.af_0_1 | ReLU             | 0     \n",
      "10 | model.emb.ffnet.rb_0.net.do_0_1 | Dropout          | 0     \n",
      "11 | model.emb.ffnet.rb_0.net.ff_0_2 | Linear           | 40 K  \n",
      "12 | model.emb.ffnet.rb_0.net.af_0_2 | ReLU             | 0     \n",
      "13 | model.emb.ffnet.rb_0.net.do_0_2 | Dropout          | 0     \n",
      "14 | model.emb.ffnet.rb_0.net.ff_0_3 | Linear           | 40 K  \n",
      "15 | model.emb.ffnet.rb_0.net.af_0_3 | ReLU             | 0     \n",
      "16 | model.emb.ffnet.rb_0.net.do_0_3 | Dropout          | 0     \n",
      "17 | model.emb.ffnet.rb_0.net.ff_0_4 | Linear           | 40 K  \n",
      "18 | model.emb.ffnet.rb_0.net.af_0_4 | ReLU             | 0     \n",
      "19 | model.emb.ffnet.rb_0.net.do_0_4 | Dropout          | 0     \n",
      "20 | model.emb.ffnet.rb_0.net.ff_0_5 | Linear           | 40 K  \n",
      "21 | model.emb.ffnet.rb_0.net.af_0_5 | ReLU             | 0     \n",
      "22 | model.emb.ffnet.rb_0.net.do_0_5 | Dropout          | 0     \n",
      "23 | model.emb.ffnet.rb_0.net.ff_0_6 | Linear           | 40 K  \n",
      "24 | model.emb.ffnet.rb_0.net.af_0_6 | ReLU             | 0     \n",
      "25 | model.emb.ffnet.rb_0.net.do_0_6 | Dropout          | 0     \n",
      "26 | model.emb.ffnet.rb_0.net.ff_0_7 | Linear           | 40 K  \n",
      "27 | model.emb.ffnet.rb_0.net.af_0_7 | ReLU             | 0     \n",
      "28 | model.emb.ffnet.rb_0.net.do_0_7 | Dropout          | 0     \n",
      "29 | model.emb.ffnet.rb_0.net.ff_0_8 | Linear           | 40 K  \n",
      "30 | model.emb.ffnet.rb_0.net.af_0_8 | ReLU             | 0     \n",
      "31 | model.emb.ffnet.rb_0.net.do_0_8 | Dropout          | 0     \n",
      "32 | model.emb.ffnet.rb_0.net.ff_0_9 | Linear           | 40 K  \n",
      "33 | model.emb.ffnet.rb_0.net.af_0_9 | ReLU             | 0     \n",
      "34 | model.emb.ffnet.rb_0.net.do_0_9 | Dropout          | 0     \n",
      "35 | model.emb.ffnet.rb_0.out_act    | GELU             | 0     \n",
      "36 | model.emb.ffnet.rb_0.downsample | Linear           | 160 K \n",
      "37 | model.out                       | Sequential       | 402   \n",
      "38 | model.out.0                     | Linear           | 402   \n"
     ]
    },
    {
     "name": "stdout",
     "output_type": "stream",
     "text": [
      "Selected optimization level O1:  Insert automatic casts around Pytorch functions and Tensor methods.\n",
      "\n",
      "Defaults for this optimization level are:\n",
      "enabled                : True\n",
      "opt_level              : O1\n",
      "cast_model_type        : None\n",
      "patch_torch_functions  : True\n",
      "keep_batchnorm_fp32    : None\n",
      "master_weights         : None\n",
      "loss_scale             : dynamic\n",
      "Processing user overrides (additional kwargs that are not None)...\n",
      "After processing overrides, optimization options are:\n",
      "enabled                : True\n",
      "opt_level              : O1\n",
      "cast_model_type        : None\n",
      "patch_torch_functions  : True\n",
      "keep_batchnorm_fp32    : None\n",
      "master_weights         : None\n",
      "loss_scale             : dynamic\n"
     ]
    },
    {
     "data": {
      "application/vnd.jupyter.widget-view+json": {
       "model_id": "0ee0cbd831c2433eb640418d4e9ff2ae",
       "version_major": 2,
       "version_minor": 0
      },
      "text/plain": [
       "HBox(children=(FloatProgress(value=1.0, bar_style='info', description='Validation sanity check', layout=Layout…"
      ]
     },
     "metadata": {},
     "output_type": "display_data"
    },
    {
     "data": {
      "application/vnd.jupyter.widget-view+json": {
       "model_id": "78dee0bf034c46b7b9f71533ebd77978",
       "version_major": 2,
       "version_minor": 0
      },
      "text/plain": [
       "HBox(children=(FloatProgress(value=1.0, bar_style='info', description='Training', layout=Layout(flex='2'), max…"
      ]
     },
     "metadata": {},
     "output_type": "display_data"
    },
    {
     "data": {
      "application/vnd.jupyter.widget-view+json": {
       "model_id": "",
       "version_major": 2,
       "version_minor": 0
      },
      "text/plain": [
       "HBox(children=(FloatProgress(value=1.0, bar_style='info', description='Validating', layout=Layout(flex='2'), m…"
      ]
     },
     "metadata": {},
     "output_type": "display_data"
    },
    {
     "data": {
      "application/vnd.jupyter.widget-view+json": {
       "model_id": "",
       "version_major": 2,
       "version_minor": 0
      },
      "text/plain": [
       "HBox(children=(FloatProgress(value=1.0, bar_style='info', description='Validating', layout=Layout(flex='2'), m…"
      ]
     },
     "metadata": {},
     "output_type": "display_data"
    },
    {
     "data": {
      "application/vnd.jupyter.widget-view+json": {
       "model_id": "",
       "version_major": 2,
       "version_minor": 0
      },
      "text/plain": [
       "HBox(children=(FloatProgress(value=1.0, bar_style='info', description='Validating', layout=Layout(flex='2'), m…"
      ]
     },
     "metadata": {},
     "output_type": "display_data"
    },
    {
     "data": {
      "application/vnd.jupyter.widget-view+json": {
       "model_id": "",
       "version_major": 2,
       "version_minor": 0
      },
      "text/plain": [
       "HBox(children=(FloatProgress(value=1.0, bar_style='info', description='Validating', layout=Layout(flex='2'), m…"
      ]
     },
     "metadata": {},
     "output_type": "display_data"
    },
    {
     "data": {
      "application/vnd.jupyter.widget-view+json": {
       "model_id": "",
       "version_major": 2,
       "version_minor": 0
      },
      "text/plain": [
       "HBox(children=(FloatProgress(value=1.0, bar_style='info', description='Validating', layout=Layout(flex='2'), m…"
      ]
     },
     "metadata": {},
     "output_type": "display_data"
    },
    {
     "data": {
      "application/vnd.jupyter.widget-view+json": {
       "model_id": "",
       "version_major": 2,
       "version_minor": 0
      },
      "text/plain": [
       "HBox(children=(FloatProgress(value=1.0, bar_style='info', description='Validating', layout=Layout(flex='2'), m…"
      ]
     },
     "metadata": {},
     "output_type": "display_data"
    },
    {
     "data": {
      "application/vnd.jupyter.widget-view+json": {
       "model_id": "",
       "version_major": 2,
       "version_minor": 0
      },
      "text/plain": [
       "HBox(children=(FloatProgress(value=1.0, bar_style='info', description='Validating', layout=Layout(flex='2'), m…"
      ]
     },
     "metadata": {},
     "output_type": "display_data"
    },
    {
     "data": {
      "application/vnd.jupyter.widget-view+json": {
       "model_id": "",
       "version_major": 2,
       "version_minor": 0
      },
      "text/plain": [
       "HBox(children=(FloatProgress(value=1.0, bar_style='info', description='Validating', layout=Layout(flex='2'), m…"
      ]
     },
     "metadata": {},
     "output_type": "display_data"
    },
    {
     "data": {
      "application/vnd.jupyter.widget-view+json": {
       "model_id": "",
       "version_major": 2,
       "version_minor": 0
      },
      "text/plain": [
       "HBox(children=(FloatProgress(value=1.0, bar_style='info', description='Validating', layout=Layout(flex='2'), m…"
      ]
     },
     "metadata": {},
     "output_type": "display_data"
    },
    {
     "data": {
      "application/vnd.jupyter.widget-view+json": {
       "model_id": "",
       "version_major": 2,
       "version_minor": 0
      },
      "text/plain": [
       "HBox(children=(FloatProgress(value=1.0, bar_style='info', description='Validating', layout=Layout(flex='2'), m…"
      ]
     },
     "metadata": {},
     "output_type": "display_data"
    },
    {
     "data": {
      "application/vnd.jupyter.widget-view+json": {
       "model_id": "",
       "version_major": 2,
       "version_minor": 0
      },
      "text/plain": [
       "HBox(children=(FloatProgress(value=1.0, bar_style='info', description='Validating', layout=Layout(flex='2'), m…"
      ]
     },
     "metadata": {},
     "output_type": "display_data"
    },
    {
     "data": {
      "application/vnd.jupyter.widget-view+json": {
       "model_id": "",
       "version_major": 2,
       "version_minor": 0
      },
      "text/plain": [
       "HBox(children=(FloatProgress(value=1.0, bar_style='info', description='Validating', layout=Layout(flex='2'), m…"
      ]
     },
     "metadata": {},
     "output_type": "display_data"
    },
    {
     "data": {
      "application/vnd.jupyter.widget-view+json": {
       "model_id": "",
       "version_major": 2,
       "version_minor": 0
      },
      "text/plain": [
       "HBox(children=(FloatProgress(value=1.0, bar_style='info', description='Validating', layout=Layout(flex='2'), m…"
      ]
     },
     "metadata": {},
     "output_type": "display_data"
    },
    {
     "data": {
      "application/vnd.jupyter.widget-view+json": {
       "model_id": "",
       "version_major": 2,
       "version_minor": 0
      },
      "text/plain": [
       "HBox(children=(FloatProgress(value=1.0, bar_style='info', description='Validating', layout=Layout(flex='2'), m…"
      ]
     },
     "metadata": {},
     "output_type": "display_data"
    },
    {
     "data": {
      "application/vnd.jupyter.widget-view+json": {
       "model_id": "",
       "version_major": 2,
       "version_minor": 0
      },
      "text/plain": [
       "HBox(children=(FloatProgress(value=1.0, bar_style='info', description='Validating', layout=Layout(flex='2'), m…"
      ]
     },
     "metadata": {},
     "output_type": "display_data"
    },
    {
     "data": {
      "application/vnd.jupyter.widget-view+json": {
       "model_id": "",
       "version_major": 2,
       "version_minor": 0
      },
      "text/plain": [
       "HBox(children=(FloatProgress(value=1.0, bar_style='info', description='Validating', layout=Layout(flex='2'), m…"
      ]
     },
     "metadata": {},
     "output_type": "display_data"
    },
    {
     "data": {
      "application/vnd.jupyter.widget-view+json": {
       "model_id": "",
       "version_major": 2,
       "version_minor": 0
      },
      "text/plain": [
       "HBox(children=(FloatProgress(value=1.0, bar_style='info', description='Validating', layout=Layout(flex='2'), m…"
      ]
     },
     "metadata": {},
     "output_type": "display_data"
    },
    {
     "data": {
      "application/vnd.jupyter.widget-view+json": {
       "model_id": "",
       "version_major": 2,
       "version_minor": 0
      },
      "text/plain": [
       "HBox(children=(FloatProgress(value=1.0, bar_style='info', description='Validating', layout=Layout(flex='2'), m…"
      ]
     },
     "metadata": {},
     "output_type": "display_data"
    },
    {
     "data": {
      "application/vnd.jupyter.widget-view+json": {
       "model_id": "",
       "version_major": 2,
       "version_minor": 0
      },
      "text/plain": [
       "HBox(children=(FloatProgress(value=1.0, bar_style='info', description='Validating', layout=Layout(flex='2'), m…"
      ]
     },
     "metadata": {},
     "output_type": "display_data"
    },
    {
     "data": {
      "application/vnd.jupyter.widget-view+json": {
       "model_id": "",
       "version_major": 2,
       "version_minor": 0
      },
      "text/plain": [
       "HBox(children=(FloatProgress(value=1.0, bar_style='info', description='Validating', layout=Layout(flex='2'), m…"
      ]
     },
     "metadata": {},
     "output_type": "display_data"
    },
    {
     "data": {
      "application/vnd.jupyter.widget-view+json": {
       "model_id": "",
       "version_major": 2,
       "version_minor": 0
      },
      "text/plain": [
       "HBox(children=(FloatProgress(value=1.0, bar_style='info', description='Validating', layout=Layout(flex='2'), m…"
      ]
     },
     "metadata": {},
     "output_type": "display_data"
    },
    {
     "data": {
      "application/vnd.jupyter.widget-view+json": {
       "model_id": "",
       "version_major": 2,
       "version_minor": 0
      },
      "text/plain": [
       "HBox(children=(FloatProgress(value=1.0, bar_style='info', description='Validating', layout=Layout(flex='2'), m…"
      ]
     },
     "metadata": {},
     "output_type": "display_data"
    },
    {
     "data": {
      "application/vnd.jupyter.widget-view+json": {
       "model_id": "",
       "version_major": 2,
       "version_minor": 0
      },
      "text/plain": [
       "HBox(children=(FloatProgress(value=1.0, bar_style='info', description='Validating', layout=Layout(flex='2'), m…"
      ]
     },
     "metadata": {},
     "output_type": "display_data"
    },
    {
     "data": {
      "application/vnd.jupyter.widget-view+json": {
       "model_id": "",
       "version_major": 2,
       "version_minor": 0
      },
      "text/plain": [
       "HBox(children=(FloatProgress(value=1.0, bar_style='info', description='Validating', layout=Layout(flex='2'), m…"
      ]
     },
     "metadata": {},
     "output_type": "display_data"
    },
    {
     "data": {
      "application/vnd.jupyter.widget-view+json": {
       "model_id": "",
       "version_major": 2,
       "version_minor": 0
      },
      "text/plain": [
       "HBox(children=(FloatProgress(value=1.0, bar_style='info', description='Validating', layout=Layout(flex='2'), m…"
      ]
     },
     "metadata": {},
     "output_type": "display_data"
    },
    {
     "data": {
      "application/vnd.jupyter.widget-view+json": {
       "model_id": "",
       "version_major": 2,
       "version_minor": 0
      },
      "text/plain": [
       "HBox(children=(FloatProgress(value=1.0, bar_style='info', description='Validating', layout=Layout(flex='2'), m…"
      ]
     },
     "metadata": {},
     "output_type": "display_data"
    },
    {
     "data": {
      "application/vnd.jupyter.widget-view+json": {
       "model_id": "",
       "version_major": 2,
       "version_minor": 0
      },
      "text/plain": [
       "HBox(children=(FloatProgress(value=1.0, bar_style='info', description='Validating', layout=Layout(flex='2'), m…"
      ]
     },
     "metadata": {},
     "output_type": "display_data"
    },
    {
     "data": {
      "application/vnd.jupyter.widget-view+json": {
       "model_id": "",
       "version_major": 2,
       "version_minor": 0
      },
      "text/plain": [
       "HBox(children=(FloatProgress(value=1.0, bar_style='info', description='Validating', layout=Layout(flex='2'), m…"
      ]
     },
     "metadata": {},
     "output_type": "display_data"
    },
    {
     "name": "stderr",
     "output_type": "stream",
     "text": [
      "INFO:lightning:Detected KeyboardInterrupt, attempting graceful shutdown...\n"
     ]
    },
    {
     "name": "stdout",
     "output_type": "stream",
     "text": [
      "\n"
     ]
    },
    {
     "data": {
      "text/plain": [
       "1"
      ]
     },
     "execution_count": 58,
     "metadata": {},
     "output_type": "execute_result"
    }
   ],
   "source": [
    "trainer.fit(mdl)"
   ]
  },
  {
   "cell_type": "code",
   "execution_count": 216,
   "metadata": {},
   "outputs": [
    {
     "ename": "NameError",
     "evalue": "name 'feature_df' is not defined",
     "output_type": "error",
     "traceback": [
      "\u001b[0;31m---------------------------------------------------------------------------\u001b[0m",
      "\u001b[0;31mNameError\u001b[0m                                 Traceback (most recent call last)",
      "\u001b[0;32m<ipython-input-216-9785f52d85af>\u001b[0m in \u001b[0;36m<module>\u001b[0;34m\u001b[0m\n\u001b[0;32m----> 1\u001b[0;31m \u001b[0mfeature_df\u001b[0m\u001b[0;34m\u001b[0m\u001b[0;34m\u001b[0m\u001b[0m\n\u001b[0m",
      "\u001b[0;31mNameError\u001b[0m: name 'feature_df' is not defined"
     ]
    }
   ],
   "source": [
    "feature_df"
   ]
  },
  {
   "cell_type": "code",
   "execution_count": null,
   "metadata": {},
   "outputs": [],
   "source": []
  },
  {
   "cell_type": "code",
   "execution_count": null,
   "metadata": {},
   "outputs": [],
   "source": []
  },
  {
   "cell_type": "code",
   "execution_count": 24,
   "metadata": {},
   "outputs": [
    {
     "ename": "NameError",
     "evalue": "name 'TCNModel' is not defined",
     "output_type": "error",
     "traceback": [
      "\u001b[0;31m---------------------------------------------------------------------------\u001b[0m",
      "\u001b[0;31mNameError\u001b[0m                                 Traceback (most recent call last)",
      "\u001b[0;32m<ipython-input-24-a0829fc46be0>\u001b[0m in \u001b[0;36m<module>\u001b[0;34m\u001b[0m\n\u001b[1;32m      1\u001b[0m \u001b[0;32mfor\u001b[0m \u001b[0mi\u001b[0m \u001b[0;32min\u001b[0m \u001b[0mrange\u001b[0m\u001b[0;34m(\u001b[0m\u001b[0;36m5\u001b[0m\u001b[0;34m)\u001b[0m\u001b[0;34m:\u001b[0m\u001b[0;34m\u001b[0m\u001b[0;34m\u001b[0m\u001b[0m\n\u001b[0;32m----> 2\u001b[0;31m     \u001b[0mmdl\u001b[0m \u001b[0;34m=\u001b[0m \u001b[0mTCNModel\u001b[0m\u001b[0;34m(\u001b[0m\u001b[0mm_params\u001b[0m\u001b[0;34m,\u001b[0m \u001b[0mt_params\u001b[0m\u001b[0;34m,\u001b[0m \u001b[0;34m(\u001b[0m\u001b[0mfeature_df\u001b[0m\u001b[0;34m,\u001b[0m \u001b[0mlabel_df\u001b[0m\u001b[0;34m,\u001b[0m \u001b[0mtarget_df\u001b[0m\u001b[0;34m)\u001b[0m\u001b[0;34m)\u001b[0m\u001b[0;34m\u001b[0m\u001b[0;34m\u001b[0m\u001b[0m\n\u001b[0m\u001b[1;32m      3\u001b[0m     \u001b[0mtrainer\u001b[0m \u001b[0;34m=\u001b[0m \u001b[0mpl\u001b[0m\u001b[0;34m.\u001b[0m\u001b[0mTrainer\u001b[0m\u001b[0;34m(\u001b[0m\u001b[0mmax_nb_epochs\u001b[0m\u001b[0;34m=\u001b[0m\u001b[0mt_params\u001b[0m\u001b[0;34m[\u001b[0m\u001b[0;34m'epochs'\u001b[0m\u001b[0;34m]\u001b[0m\u001b[0;34m,\u001b[0m \u001b[0mgpus\u001b[0m\u001b[0;34m=\u001b[0m\u001b[0;36m1\u001b[0m\u001b[0;34m,\u001b[0m \u001b[0mamp_level\u001b[0m\u001b[0;34m=\u001b[0m\u001b[0;34m'O1'\u001b[0m\u001b[0;34m,\u001b[0m \u001b[0muse_amp\u001b[0m\u001b[0;34m=\u001b[0m\u001b[0;32mTrue\u001b[0m\u001b[0;34m)\u001b[0m\u001b[0;34m\u001b[0m\u001b[0;34m\u001b[0m\u001b[0m\n\u001b[1;32m      4\u001b[0m     \u001b[0mtrainer\u001b[0m\u001b[0;34m.\u001b[0m\u001b[0mfit\u001b[0m\u001b[0;34m(\u001b[0m\u001b[0mmdl\u001b[0m\u001b[0;34m)\u001b[0m\u001b[0;34m\u001b[0m\u001b[0;34m\u001b[0m\u001b[0m\n",
      "\u001b[0;31mNameError\u001b[0m: name 'TCNModel' is not defined"
     ]
    }
   ],
   "source": [
    "for i in range(5):\n",
    "    mdl = TCNModel(m_params, t_params, (feature_df, label_df, target_df))\n",
    "    trainer = pl.Trainer(max_nb_epochs=t_params['epochs'], gpus=1, amp_level='O1', use_amp=True)\n",
    "    trainer.fit(mdl)"
   ]
  },
  {
   "cell_type": "markdown",
   "metadata": {},
   "source": [
    "## Debug Data (Runtime Transforms)"
   ]
  },
  {
   "cell_type": "markdown",
   "metadata": {},
   "source": [
    "### Split into Train/Val/Test and Convert to Numpy Tensor"
   ]
  },
  {
   "cell_type": "code",
   "execution_count": 32,
   "metadata": {
    "scrolled": true
   },
   "outputs": [],
   "source": [
    "train_np, val_np, test_np = zip(*map(pd_to_np_tvt, (feature_df, label_df, target_df)))\n",
    "shapes = np.asarray(tuple(map(lambda tvt: tuple(map(np.shape, tvt)), (train_np, val_np, test_np))))\n",
    "assert all(np.array_equal(a[:, 1:], b[:, 1:]) for a, b in pairwise(shapes)), 'feature, label, target shapes must be identical across splits'\n",
    "assert all(len(np.unique(mat.T[0, :]))==1 for mat in shapes), 'first dimension (N) must be identical length in each split for all (feature, label, and target) tensors'"
   ]
  },
  {
   "cell_type": "markdown",
   "metadata": {},
   "source": [
    "### Runtime Preproc"
   ]
  },
  {
   "cell_type": "code",
   "execution_count": 33,
   "metadata": {},
   "outputs": [],
   "source": [
    "params = {\n",
    "    'loss': 'ce',\n",
    "    'batch_size': 1,\n",
    "    'window_size': 20,\n",
    "}"
   ]
  },
  {
   "cell_type": "code",
   "execution_count": 34,
   "metadata": {},
   "outputs": [],
   "source": [
    "def __preproc__(data, m_params, overlap=True):\n",
    "    x, y, z = temporal_preproc_3d(data, window_size=m_params['window_size'], apply_idx=[0]) if (overlap) else stride_preproc_3d(data, window_size=m_params['window_size'])\n",
    "    if (m_params['loss'] in ('bce', 'bcel', 'ce', 'nll')):\n",
    "        y_new = np.sum(y, axis=(1, 2), keepdims=False)\t\t# Sum label matrices to scalar values\n",
    "        if (y.shape[1] > 1):\n",
    "            y_new += y.shape[1]\t\t\t\t\t\t\t\t# Shift to range [0, C-1]\n",
    "        if (m_params['loss'] in ('bce', 'bcel')):\n",
    "            y_new = np.expand_dims(y_new, axis=-1)\n",
    "        y = y_new\n",
    "    return (x, y, z)\n",
    "\n",
    "#@pl.data_loader\n",
    "def train_dataloader(t_params, flt):\n",
    "    logging.info('train_dataloader called')\n",
    "    return batchify(t_params, __preproc__(flt), False)\n",
    "\n",
    "#@pl.data_loader\n",
    "def val_dataloader(t_params, flt):\n",
    "    logging.info('val_dataloader called')\n",
    "    return batchify(t_params, __preproc__(flt), False)\n",
    "\n",
    "#@pl.data_loader\n",
    "def test_dataloader(t_params, flt):\n",
    "    logging.info('test_dataloader called')\n",
    "    return batchify(t_params, __preproc__(flt), False)"
   ]
  },
  {
   "cell_type": "markdown",
   "metadata": {},
   "source": [
    "### Overlapping Episodes:"
   ]
  },
  {
   "cell_type": "code",
   "execution_count": 35,
   "metadata": {},
   "outputs": [
    {
     "name": "stdout",
     "output_type": "stream",
     "text": [
      "((1359, 4, 1), (1359, 1, 2), (1359, 1, 2))\n",
      "((1340, 4, 20), (1340,), (1340, 1, 2))\n",
      "(array([0., 1.]), array([593, 747]))\n"
     ]
    }
   ],
   "source": [
    "train_ol_np = __preproc__(train_np, params)\n",
    "val_ol_np = __preproc__(val_np, params)\n",
    "test_ol_np = __preproc__(test_np, params)\n",
    "print(tuple(map(lambda tvt: tuple(map(np.shape, tvt)), (train_np, val_np, test_np)))[0])\n",
    "print(tuple(map(np.shape, train_ol_np)))\n",
    "print(np_value_counts(train_ol_np[1]))"
   ]
  },
  {
   "cell_type": "markdown",
   "metadata": {},
   "source": [
    "### Non-Overlapping Episodes:"
   ]
  },
  {
   "cell_type": "code",
   "execution_count": 612,
   "metadata": {},
   "outputs": [
    {
     "name": "stdout",
     "output_type": "stream",
     "text": [
      "((1359, 3, 8), (1359, 1, 2), (1359, 1, 2))\n",
      "((67, 3, 20, 8), (67, 2), (67, 1, 20, 2))\n"
     ]
    }
   ],
   "source": [
    "train_nol_np = __preproc__(train_np, params, False)\n",
    "val_nol_np = __preproc__(val_np, params, False)\n",
    "test_nol_np = __preproc__(test_np, params, False)\n",
    "print(tuple(map(lambda tvt: tuple(map(np.shape, tvt)), (train_np, val_np, test_np)))[0])\n",
    "print(tuple(map(np.shape, train_nol_np)))"
   ]
  },
  {
   "cell_type": "code",
   "execution_count": 613,
   "metadata": {},
   "outputs": [],
   "source": [
    "def batchify(params, data, shuffle_batches=False):\n",
    "\t\"\"\"\n",
    "\tReturn a torch.DataLoader made from a tuple of numpy arrays.\n",
    "\n",
    "\tArgs:\n",
    "\t\tparams (dict): model parameters dictionary\n",
    "\t\tdata (tuple): tuple of numpy arrays, features are the first element\n",
    "\t\tshuffle_batches (bool): whether or not to shuffle the batches\n",
    "\n",
    "\tReturns:\n",
    "\t\ttorch.DataLoader\n",
    "\t\"\"\"\n",
    "\tf = torch.tensor(data[0], dtype=torch.float32, requires_grad=True)\n",
    "\tif (params['loss'] in ('bce', 'bcel', 'mae', 'mse')):\n",
    "\t\tl = [torch.tensor(d, dtype=torch.float32, requires_grad=False) for d in data[1:]]\n",
    "\telif (params['loss'] in ('ce', 'nll')):\n",
    "\t\tl = [torch.tensor(d, dtype=torch.int64, requires_grad=False).squeeze() for d in data[1:]]\n",
    "\tds = TensorDataset(f, *l)\n",
    "\tdl = DataLoader(ds, batch_size=params['batch_size'], shuffle=shuffle_batches)\n",
    "\treturn ds"
   ]
  },
  {
   "cell_type": "markdown",
   "metadata": {},
   "source": [
    "## Sklearn Tests"
   ]
  },
  {
   "cell_type": "code",
   "execution_count": 614,
   "metadata": {},
   "outputs": [],
   "source": [
    "from sklearn.linear_model import LinearRegression, LogisticRegression, SGDClassifier, ElasticNet\n",
    "from sklearn.tree import DecisionTreeClassifier\n",
    "from sklearn.experimental import enable_hist_gradient_boosting\n",
    "from sklearn.ensemble import BaggingClassifier, RandomForestClassifier, GradientBoostingClassifier, HistGradientBoostingClassifier, StackingClassifier"
   ]
  },
  {
   "cell_type": "code",
   "execution_count": 615,
   "metadata": {},
   "outputs": [],
   "source": [
    "x_train, y_train, z_train = train_ol_np\n",
    "x_val, y_val, z_val = val_ol_np\n",
    "x_test, y_test, z_test = test_ol_np"
   ]
  },
  {
   "cell_type": "code",
   "execution_count": 616,
   "metadata": {},
   "outputs": [],
   "source": [
    "def np_collapse_last_two_dim(arr):\n",
    "    return arr.reshape(arr.shape[0], arr.shape[1]*arr.shape[2])"
   ]
  },
  {
   "cell_type": "code",
   "execution_count": 617,
   "metadata": {},
   "outputs": [
    {
     "ename": "ValueError",
     "evalue": "cannot reshape array of size 643200 into shape (1340,800)",
     "output_type": "error",
     "traceback": [
      "\u001b[0;31m---------------------------------------------------------------------------\u001b[0m",
      "\u001b[0;31mValueError\u001b[0m                                Traceback (most recent call last)",
      "\u001b[0;32m<ipython-input-617-d8c81c85bfcc>\u001b[0m in \u001b[0;36m<module>\u001b[0;34m\u001b[0m\n\u001b[0;32m----> 1\u001b[0;31m \u001b[0mx_train\u001b[0m\u001b[0;34m.\u001b[0m\u001b[0mreshape\u001b[0m\u001b[0;34m(\u001b[0m\u001b[0;36m1340\u001b[0m\u001b[0;34m,\u001b[0m \u001b[0;36m800\u001b[0m\u001b[0;34m)\u001b[0m\u001b[0;34m\u001b[0m\u001b[0;34m\u001b[0m\u001b[0m\n\u001b[0m",
      "\u001b[0;31mValueError\u001b[0m: cannot reshape array of size 643200 into shape (1340,800)"
     ]
    }
   ],
   "source": [
    "x_train.reshape(1340, 800)"
   ]
  },
  {
   "cell_type": "code",
   "execution_count": 618,
   "metadata": {},
   "outputs": [],
   "source": [
    "x_train_new = np_collapse_last_two_dim(x_train)\n",
    "x_val_new = np_collapse_last_two_dim(x_val)\n",
    "x_test_new = np_collapse_last_two_dim(x_test)"
   ]
  },
  {
   "cell_type": "code",
   "execution_count": 619,
   "metadata": {},
   "outputs": [
    {
     "name": "stdout",
     "output_type": "stream",
     "text": [
      "base : 0.5092165898617511\n",
      "score: 0.5092165898617511\n",
      "diff : 0.000000%\n"
     ]
    }
   ],
   "source": [
    "# Logistic Regression\n",
    "clf = LogisticRegression(C=10**-2, l1_ratio=.9, penalty='elasticnet', random_state=0, solver='saga').fit(x_train_new, y_train)\n",
    "sc = clf.score(x_val_new, y_val)\n",
    "print('base :', y_val.mean())\n",
    "print('score:', sc)\n",
    "print('diff : {:%}'.format((sc-y_val.mean())))"
   ]
  },
  {
   "cell_type": "code",
   "execution_count": 620,
   "metadata": {},
   "outputs": [
    {
     "name": "stdout",
     "output_type": "stream",
     "text": [
      "base : 0.5092165898617511\n",
      "score: 0.5069124423963134\n",
      "diff : -0.230415%\n"
     ]
    }
   ],
   "source": [
    "# SGDClassifier\n",
    "clf = SGDClassifier(alpha=10**-2, l1_ratio=.8, loss='log', penalty='elasticnet', random_state=0).fit(x_train_new, y_train)\n",
    "sc = clf.score(x_val_new, y_val)\n",
    "print('base :', y_val.mean())\n",
    "print('score:', sc)\n",
    "print('diff : {:%}'.format((sc-y_val.mean())))"
   ]
  },
  {
   "cell_type": "code",
   "execution_count": 621,
   "metadata": {},
   "outputs": [
    {
     "name": "stdout",
     "output_type": "stream",
     "text": [
      "base : 0.5092165898617511\n",
      "score: 0.5230414746543779\n",
      "diff : 1.382488%\n"
     ]
    }
   ],
   "source": [
    "# SGDClassifier\n",
    "clf = SGDClassifier(alpha=10**-5, l1_ratio=.1, loss='modified_huber', max_iter=1000, penalty='elasticnet', random_state=0).fit(x_train_new, y_train)\n",
    "sc = clf.score(x_val_new, y_val)\n",
    "print('base :', y_val.mean())\n",
    "print('score:', sc)\n",
    "print('diff : {:%}'.format((sc-y_val.mean())))"
   ]
  },
  {
   "cell_type": "code",
   "execution_count": 622,
   "metadata": {},
   "outputs": [
    {
     "name": "stdout",
     "output_type": "stream",
     "text": [
      "base : 0.5092165898617511\n",
      "score: 0.5069124423963134\n",
      "diff : -0.230415%\n"
     ]
    }
   ],
   "source": [
    "# RandomForestClassifier\n",
    "clf = RandomForestClassifier(n_estimators=100, criterion='gini', bootstrap=True, max_depth=4, min_impurity_decrease=0, random_state=0).fit(x_train_new, y_train)\n",
    "sc = clf.score(x_val_new, y_val)\n",
    "print('base :', y_val.mean())\n",
    "print('score:', sc)\n",
    "print('diff : {:%}'.format((sc-y_val.mean())))"
   ]
  },
  {
   "cell_type": "code",
   "execution_count": 635,
   "metadata": {},
   "outputs": [
    {
     "name": "stdout",
     "output_type": "stream",
     "text": [
      "base : 0.5092165898617511\n",
      "score: 0.4769585253456221\n",
      "diff : -3.225806%\n"
     ]
    }
   ],
   "source": [
    "# RandomForestClassifier\n",
    "clf = RandomForestClassifier(n_estimators=100, criterion='entropy', bootstrap=True, max_depth=None,\n",
    "                             min_impurity_decrease=0, random_state=0).fit(x_train_new, y_train)\n",
    "sc = clf.score(x_val_new, y_val)\n",
    "print('base :', y_val.mean())\n",
    "print('score:', sc)\n",
    "print('diff : {:%}'.format((sc-y_val.mean())))"
   ]
  },
  {
   "cell_type": "code",
   "execution_count": 624,
   "metadata": {},
   "outputs": [
    {
     "name": "stdout",
     "output_type": "stream",
     "text": [
      "base : 0.5092165898617511\n",
      "score: 0.4930875576036866\n",
      "diff : -1.612903%\n"
     ]
    }
   ],
   "source": [
    "# RandomForestClassifier\n",
    "clf = RandomForestClassifier(n_estimators=7, class_weight='balanced_subsample', criterion='entropy',\n",
    "                             bootstrap=True, max_depth=3, min_impurity_decrease=0, random_state=0).fit(x_train_new, y_train)\n",
    "sc = clf.score(x_val_new, y_val)\n",
    "print('base :', y_val.mean())\n",
    "print('score:', sc)\n",
    "print('diff : {:%}'.format((sc-y_val.mean())))"
   ]
  },
  {
   "cell_type": "code",
   "execution_count": 625,
   "metadata": {},
   "outputs": [
    {
     "name": "stdout",
     "output_type": "stream",
     "text": [
      "base : 0.5092165898617511\n",
      "score: 0.49078341013824883\n",
      "diff : -1.843318%\n"
     ]
    }
   ],
   "source": [
    "# RandomForestClassifier\n",
    "clf = RandomForestClassifier(n_estimators=1000, class_weight='balanced_subsample', criterion='entropy',\n",
    "                             bootstrap=True, max_depth=4, min_impurity_decrease=0, random_state=0).fit(x_train_new, y_train)\n",
    "sc = clf.score(x_val_new, y_val)\n",
    "print('base :', y_val.mean())\n",
    "print('score:', sc)\n",
    "print('diff : {:%}'.format((sc-y_val.mean())))"
   ]
  },
  {
   "cell_type": "code",
   "execution_count": 626,
   "metadata": {},
   "outputs": [
    {
     "name": "stdout",
     "output_type": "stream",
     "text": [
      "base : 0.5092165898617511\n",
      "score: 0.4861751152073733\n",
      "diff : -2.304147%\n"
     ]
    }
   ],
   "source": [
    "# GradientBoostingClassifier\n",
    "clf = GradientBoostingClassifier(loss='deviance', learning_rate=0.1, n_estimators=100, subsample=1.0,\n",
    "                                 criterion='friedman_mse', min_samples_split=2, min_samples_leaf=1,\n",
    "                                 min_weight_fraction_leaf=0.0, max_depth=3, min_impurity_decrease=0.0, random_state=0).fit(x_train_new, y_train)\n",
    "sc = clf.score(x_val_new, y_val)\n",
    "print('base :', y_val.mean())\n",
    "print('score:', sc)\n",
    "print('diff : {:%}'.format((sc-y_val.mean())))"
   ]
  },
  {
   "cell_type": "code",
   "execution_count": 627,
   "metadata": {},
   "outputs": [
    {
     "name": "stdout",
     "output_type": "stream",
     "text": [
      "base : 0.5092165898617511\n",
      "score: 0.4861751152073733\n",
      "diff : -2.304147%\n"
     ]
    }
   ],
   "source": [
    "# GradientBoostingClassifier\n",
    "clf = GradientBoostingClassifier(loss='exponential', learning_rate=0.1, n_estimators=100, subsample=1.0,\n",
    "                                 criterion='friedman_mse', min_samples_split=2, min_samples_leaf=1,\n",
    "                                 min_weight_fraction_leaf=0.0, max_depth=3, min_impurity_decrease=0.0, random_state=0).fit(x_train_new, y_train)\n",
    "sc = clf.score(x_val_new, y_val)\n",
    "print('base :', y_val.mean())\n",
    "print('score:', sc)\n",
    "print('diff : {:%}'.format((sc-y_val.mean())))"
   ]
  },
  {
   "cell_type": "code",
   "execution_count": 628,
   "metadata": {},
   "outputs": [
    {
     "name": "stdout",
     "output_type": "stream",
     "text": [
      "base : 0.5092165898617511\n",
      "score: 0.46543778801843316\n",
      "diff : -4.377880%\n"
     ]
    }
   ],
   "source": [
    "# HistGradientBoostingClassifier\n",
    "clf = HistGradientBoostingClassifier(loss='auto', learning_rate=0.1, max_iter=100, max_leaf_nodes=31,\n",
    "                                     max_depth=4, min_samples_leaf=20, l2_regularization=0.0, max_bins=255, random_state=0).fit(x_train_new, y_train)\n",
    "sc = clf.score(x_val_new, y_val)\n",
    "print('base :', y_val.mean())\n",
    "print('score:', sc)\n",
    "print('diff : {:%}'.format((sc-y_val.mean())))"
   ]
  },
  {
   "cell_type": "code",
   "execution_count": 629,
   "metadata": {},
   "outputs": [
    {
     "name": "stdout",
     "output_type": "stream",
     "text": [
      "base : 0.5092165898617511\n",
      "score: 0.532258064516129\n",
      "diff : 2.304147%\n"
     ]
    }
   ],
   "source": [
    "# RF Alt 1\n",
    "clf1 = DecisionTreeClassifier(criterion='entropy', max_depth=3, max_features='auto', class_weight='balanced')\n",
    "clf = BaggingClassifier(base_estimator=clf1, bootstrap=True, bootstrap_features=False, n_estimators=100, random_state=0).fit(x_train_new, y_train)\n",
    "sc = clf.score(x_val_new, y_val)\n",
    "print('base :', y_val.mean())\n",
    "print('score:', sc)\n",
    "print('diff : {:%}'.format((sc-y_val.mean())))"
   ]
  },
  {
   "cell_type": "code",
   "execution_count": 630,
   "metadata": {},
   "outputs": [
    {
     "name": "stdout",
     "output_type": "stream",
     "text": [
      "base : 0.5092165898617511\n",
      "score: 0.5069124423963134\n",
      "diff : -0.230415%\n"
     ]
    }
   ],
   "source": [
    "# RF Alt 2\n",
    "clf = RandomForestClassifier(n_estimators=1, class_weight='balanced_subsample', criterion='entropy',\n",
    "                             bootstrap=False, max_depth=3, min_impurity_decrease=0, random_state=0)\n",
    "clf = BaggingClassifier(base_estimator=clf1, bootstrap=True, bootstrap_features=False, n_estimators=1000, random_state=0).fit(x_train_new, y_train)\n",
    "sc = clf.score(x_val_new, y_val)\n",
    "print('base :', y_val.mean())\n",
    "print('score:', sc)\n",
    "print('diff : {:%}'.format((sc-y_val.mean())))"
   ]
  },
  {
   "cell_type": "code",
   "execution_count": 598,
   "metadata": {},
   "outputs": [
    {
     "name": "stdout",
     "output_type": "stream",
     "text": [
      "[ 2.76497696 -2.99539171 -3.4562212   2.07373272  1.38248848 -1.61290323\n",
      " -0.92165899  0.46082949 -1.84331797 -3.68663594]\n",
      "-0.783410138248844\n"
     ]
    }
   ],
   "source": [
    "random_states = range(10)\n",
    "results = np.zeros(len(random_states))\n",
    "y_mean = y_val.mean()\n",
    "for r in random_states:\n",
    "        # RandomForestClassifier\n",
    "    clf = RandomForestClassifier(n_estimators=100, class_weight=None, criterion='entropy',\n",
    "                                 bootstrap=True, max_depth=None, min_impurity_decrease=0, random_state=r).fit(x_train_new, y_train)\n",
    "    sc = clf.score(x_val_new, y_val)\n",
    "    diff = sc-y_mean\n",
    "    results[r] = diff*100\n",
    "    #print('base :', y_val.mean())\n",
    "    #print('score:', sc)\n",
    "    #print('diff : {:%}'.format((sc-y_val.mean())))\n",
    "print(results)\n",
    "print(results.mean())"
   ]
  },
  {
   "cell_type": "code",
   "execution_count": null,
   "metadata": {},
   "outputs": [],
   "source": []
  },
  {
   "cell_type": "code",
   "execution_count": null,
   "metadata": {},
   "outputs": [],
   "source": []
  },
  {
   "cell_type": "code",
   "execution_count": null,
   "metadata": {},
   "outputs": [],
   "source": []
  },
  {
   "cell_type": "code",
   "execution_count": null,
   "metadata": {},
   "outputs": [],
   "source": []
  },
  {
   "cell_type": "code",
   "execution_count": 67,
   "metadata": {
    "scrolled": true
   },
   "outputs": [
    {
     "name": "stdout",
     "output_type": "stream",
     "text": [
      "15 5.0\n",
      "(160, 5)\n",
      "(15, 5)\n",
      "(145, 5)\n"
     ]
    }
   ],
   "source": [
    "# Few Shot Tests\n",
    "# XXX - Need to update for code changes\n",
    "tr_split = .75\n",
    "w = params['window_size']\n",
    "tr, ts = int(tr_split*w), (1-tr_split)*w\n",
    "print(tr, ts)\n",
    "\n",
    "scs = []\n",
    "for x, y, z in zip(*train_nol_np):\n",
    "    x, y = x.T, y\n",
    "    print(x.shape)\n",
    "    print(x[0:tr].shape)\n",
    "    print(x[tr:].shape)\n",
    "    break\n",
    "    clf = LogisticRegression(C=10**-2, l1_ratio=.9, penalty='elasticnet', random_state=0, solver='saga').fit(x[0:tr], y[0:tr].squeeze())\n",
    "    #clf = LinearRegression().fit(x[0:tr], y[0:tr].squeeze())\n",
    "    #yh = clf.predict(x[tr:])\n",
    "    #|yp = clf.predict_proba(x[tr:])\n",
    "    sc = clf.score(x[tr:], y[tr:].squeeze())\n",
    "    scs.append(sc)\n",
    "    #print(sc)\n",
    "    #print(x)\n",
    "    #print(y.squeeze())\n",
    "    #print(z.T)"
   ]
  },
  {
   "cell_type": "code",
   "execution_count": 68,
   "metadata": {},
   "outputs": [
    {
     "name": "stderr",
     "output_type": "stream",
     "text": [
      "/home/kev/crunch/model/nb-model_xg-model-data-fi.ipynb:1: RuntimeWarning: Mean of empty slice.\n",
      "  {\n",
      "/home/kev/miniconda3/lib/python3.7/site-packages/numpy/core/_methods.py:161: RuntimeWarning: invalid value encountered in double_scalars\n",
      "  ret = ret.dtype.type(ret / rcount)\n"
     ]
    },
    {
     "ename": "NameError",
     "evalue": "name 'train_nol' is not defined",
     "output_type": "error",
     "traceback": [
      "\u001b[0;31m---------------------------------------------------------------------------\u001b[0m",
      "\u001b[0;31mNameError\u001b[0m                                 Traceback (most recent call last)",
      "\u001b[0;32m<ipython-input-68-cc6bfa8d2685>\u001b[0m in \u001b[0;36m<module>\u001b[0;34m\u001b[0m\n\u001b[0;32m----> 1\u001b[0;31m \u001b[0;34m(\u001b[0m\u001b[0mnp\u001b[0m\u001b[0;34m.\u001b[0m\u001b[0marray\u001b[0m\u001b[0;34m(\u001b[0m\u001b[0mscs\u001b[0m\u001b[0;34m)\u001b[0m\u001b[0;34m.\u001b[0m\u001b[0mmean\u001b[0m\u001b[0;34m(\u001b[0m\u001b[0;34m)\u001b[0m\u001b[0;34m-\u001b[0m\u001b[0mtrain_nol\u001b[0m\u001b[0;34m[\u001b[0m\u001b[0;36m1\u001b[0m\u001b[0;34m]\u001b[0m\u001b[0;34m.\u001b[0m\u001b[0msqueeze\u001b[0m\u001b[0;34m(\u001b[0m\u001b[0;34m)\u001b[0m\u001b[0;34m.\u001b[0m\u001b[0mmean\u001b[0m\u001b[0;34m(\u001b[0m\u001b[0;34m)\u001b[0m\u001b[0;34m)\u001b[0m\u001b[0;34m*\u001b[0m\u001b[0;36m100\u001b[0m\u001b[0;34m\u001b[0m\u001b[0;34m\u001b[0m\u001b[0m\n\u001b[0m",
      "\u001b[0;31mNameError\u001b[0m: name 'train_nol' is not defined"
     ]
    }
   ],
   "source": [
    "(np.array(scs).mean()-train_nol[1].squeeze().mean())*100"
   ]
  },
  {
   "cell_type": "code",
   "execution_count": null,
   "metadata": {},
   "outputs": [],
   "source": []
  }
 ],
 "metadata": {
  "kernelspec": {
   "display_name": "Python 3",
   "language": "python",
   "name": "python3"
  },
  "language_info": {
   "codemirror_mode": {
    "name": "ipython",
    "version": 3
   },
   "file_extension": ".py",
   "mimetype": "text/x-python",
   "name": "python",
   "nbconvert_exporter": "python",
   "pygments_lexer": "ipython3",
   "version": "3.7.4"
  }
 },
 "nbformat": 4,
 "nbformat_minor": 2
}
