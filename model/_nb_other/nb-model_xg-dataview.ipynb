{
 "cells": [
  {
   "cell_type": "markdown",
   "metadata": {},
   "source": [
    "# nb-model_xg-dataview"
   ]
  },
  {
   "cell_type": "code",
   "execution_count": 1,
   "metadata": {},
   "outputs": [
    {
     "name": "stderr",
     "output_type": "stream",
     "text": [
      "CRITICAL:root:script location: /home/kev/crunch/model/nb-model_xg0.ipynb\n",
      "CRITICAL:root:using project dir: /home/kev/crunch/\n"
     ]
    }
   ],
   "source": [
    "import sys\n",
    "import os\n",
    "from os import sep\n",
    "from os.path import dirname, realpath\n",
    "from pathlib import Path\n",
    "from functools import partial, reduce\n",
    "import logging\n",
    "\n",
    "def get_cwd(fname, subdir, crunch_dir=realpath(Path.home()) +sep +'crunch' +sep):\n",
    "    \"\"\"\n",
    "    Convenience function to make a directory string for the current file based on inputs.\n",
    "    Jupyter Notebook in Anaconda invokes the Python interpreter in Anaconda's subdirectory\n",
    "    which is why changing sys.argv[0] is necessary. In the future a better way to do this\n",
    "    should be preferred..\n",
    "    \"\"\"\n",
    "    return crunch_dir +subdir +fname\n",
    "\n",
    "def fix_path(cwd):\n",
    "    \"\"\"\n",
    "    Convenience function to fix argv and python path so that jupyter notebook can run the same as\n",
    "    any script in crunch.\n",
    "    \"\"\"\n",
    "    sys.argv[0] = cwd\n",
    "    module_path = os.path.abspath(os.path.join('..'))\n",
    "    if module_path not in sys.path:\n",
    "        sys.path.append(module_path)\n",
    "\n",
    "fname = 'nb-model_xg0.ipynb'   # FILL\n",
    "dir_name = 'model'             # FILL\n",
    "fix_path(get_cwd(fname, dir_name +sep))\n",
    "\n",
    "import numpy as np\n",
    "import pandas as pd\n",
    "#import matplotlib.pyplot as plt\n",
    "from dask import delayed, compute\n",
    "from torch.utils.data import TensorDataset, DataLoader\n",
    "import torch\n",
    "\n",
    "from ipywidgets import interact, interactive, fixed\n",
    "from IPython.display import display\n",
    "\n",
    "pd.set_option(\"display.max_rows\", 100)\n",
    "pd.set_option('display.max_columns', 50)\n",
    "\n",
    "from common_util import RECON_DIR, JSON_SFX_LEN, DT_CAL_DAILY_FREQ, is_type, pd_common_idx_rows, remove_dups_list, NestedDefaultDict, set_loglevel, search_df, chained_filter, get_variants, load_df, dump_df, load_json, gb_transpose, pd_common_index_rows, filter_cols_below, inner_join, outer_join, ser_shift, list_get_dict, window_iter, benchmark\n",
    "from common_util import midx_get_level, pd_rows, midx_intersect, pd_common_idx_rows, midx_split, pd_midx_to_arr, window_iter, np_is_ndim, identity_fn\n",
    "from model.common import DATASET_DIR, XG_PROCESS_DIR, XG_DATA_DIR, XG_DIR, EXPECTED_NUM_HOURS, default_dataset\n",
    "from model.xg_util import xgload\n",
    "from recon.dataset_util import GEN_GROUP_CONSTRAINTS, gen_group\n",
    "logging.basicConfig(stream=sys.stdout, level=logging.DEBUG)"
   ]
  },
  {
   "cell_type": "markdown",
   "metadata": {},
   "source": [
    "## Load Data"
   ]
  },
  {
   "cell_type": "code",
   "execution_count": 2,
   "metadata": {},
   "outputs": [],
   "source": [
    "assets = ['sp_500', 'russell_2000', 'nasdaq_100', 'dow_jones']"
   ]
  },
  {
   "cell_type": "code",
   "execution_count": 3,
   "metadata": {},
   "outputs": [],
   "source": [
    "f = xgload(XG_DATA_DIR +'features' +sep)\n",
    "l = xgload(XG_DATA_DIR +'labels' +sep)\n",
    "t = xgload(XG_DATA_DIR +'targets' +sep)"
   ]
  },
  {
   "cell_type": "code",
   "execution_count": 4,
   "metadata": {},
   "outputs": [
    {
     "name": "stdout",
     "output_type": "stream",
     "text": [
      "num f: 2520\n",
      "num l: 912\n",
      "num t: 1360\n"
     ]
    }
   ],
   "source": [
    "print('num f: {}'.format(len(list(f))))\n",
    "print('num l: {}'.format(len(list(l))))\n",
    "print('num t: {}'.format(len(list(t))))"
   ]
  },
  {
   "cell_type": "markdown",
   "metadata": {},
   "source": [
    "### ddir / dret"
   ]
  },
  {
   "cell_type": "code",
   "execution_count": 5,
   "metadata": {},
   "outputs": [],
   "source": [
    "ddir_pba_hoc = {a: list(l.childkeys([a, 'ddir', 'ddir', 'pba_hoc_hdxret_ddir'])) for a in assets}\n",
    "ddir_vol_hoc = {a: list(l.childkeys([a, 'ddir', 'ddir', 'vol_hoc_hdxret_ddir'])) for a in assets}"
   ]
  },
  {
   "cell_type": "code",
   "execution_count": 6,
   "metadata": {},
   "outputs": [],
   "source": [
    "dret_pba_hoc = {a: list(t.childkeys([a, 'dret', 'dret', 'pba_hoc_hdxret_dret'])) for a in assets}\n",
    "dret_vol_hoc = {a: list(t.childkeys([a, 'dret', 'dret', 'vol_hoc_hdxret_dret'])) for a in assets}"
   ]
  },
  {
   "cell_type": "markdown",
   "metadata": {},
   "source": [
    "### ddir1 / dret1"
   ]
  },
  {
   "cell_type": "code",
   "execution_count": 7,
   "metadata": {},
   "outputs": [],
   "source": [
    "ddir1_pba_hoc_lin = {a: list(l.childkeys([a, 'ddir1', 'ddir1_lin', 'pba_hoc_hdxret1_ddir1'])) for a in assets}\n",
    "ddir1_pba_hoc_log = {a: list(l.childkeys([a, 'ddir1', 'ddir1_log', 'pba_hoc_hdxret1_ddir1'])) for a in assets}\n",
    "ddir1_vol_hoc_lin = {a: list(l.childkeys([a, 'ddir1', 'ddir1_lin', 'vol_hoc_hdxret1_ddir1'])) for a in assets}\n",
    "ddir1_vol_hoc_log = {a: list(l.childkeys([a, 'ddir1', 'ddir1_log', 'vol_hoc_hdxret1_ddir1'])) for a in assets}"
   ]
  },
  {
   "cell_type": "code",
   "execution_count": 8,
   "metadata": {},
   "outputs": [],
   "source": [
    "dret1_pba_hoc_lin = {a: list(t.childkeys([a, 'dret1', 'dret1_lin', 'pba_hoc_hdxret1_dret1'])) for a in assets}\n",
    "dret1_pba_hoc_log = {a: list(t.childkeys([a, 'dret1', 'dret1_log', 'pba_hoc_hdxret1_dret1'])) for a in assets}\n",
    "dret1_vol_hoc_lin = {a: list(t.childkeys([a, 'dret1', 'dret1_lin', 'vol_hoc_hdxret1_dret1'])) for a in assets}\n",
    "dret1_vol_hoc_log = {a: list(t.childkeys([a, 'dret1', 'dret1_log', 'vol_hoc_hdxret1_dret1'])) for a in assets}"
   ]
  },
  {
   "cell_type": "markdown",
   "metadata": {},
   "source": [
    "## Play"
   ]
  },
  {
   "cell_type": "code",
   "execution_count": 24,
   "metadata": {},
   "outputs": [],
   "source": [
    "hdod = {a: list(f.childkeys([a, 'hduni'])) for a in assets}"
   ]
  },
  {
   "cell_type": "code",
   "execution_count": 53,
   "metadata": {},
   "outputs": [
    {
     "name": "stdout",
     "output_type": "stream",
     "text": [
      "88\n",
      "['pba_hlh_hlogret_hdmx_hduni(2)', 'pba_hlh_hlogret_hdmx_hduni(3)', 'pba_hlh_hlogret_hdmx_hduni(4)', 'pba_hlh_hlogret_hdmx_hduni(8)', 'pba_hlh_hret_hdmx_hduni(2)', 'pba_hlh_hret_hdmx_hduni(3)', 'pba_hlh_hret_hdmx_hduni(4)', 'pba_hlh_hret_hdmx_hduni(8)', 'pba_hlh_hspread_hdmx_hduni(2)', 'pba_hlh_hspread_hdmx_hduni(3)', 'pba_hlh_hspread_hdmx_hduni(4)', 'pba_hlh_hspread_hdmx_hduni(8)', 'pba_hoc_hlogret_hdmx_hduni(2)', 'pba_hoc_hlogret_hdmx_hduni(3)', 'pba_hoc_hlogret_hdmx_hduni(4)', 'pba_hoc_hlogret_hdmx_hduni(8)', 'pba_hoc_hret_hdmx_hduni(2)', 'pba_hoc_hret_hdmx_hduni(3)', 'pba_hoc_hret_hdmx_hduni(4)', 'pba_hoc_hret_hdmx_hduni(8)', 'pba_hoc_hspread_hdmx_hduni(2)', 'pba_hoc_hspread_hdmx_hduni(3)', 'pba_hoc_hspread_hdmx_hduni(4)', 'pba_hoc_hspread_hdmx_hduni(8)', 'pba_hohlca_hdmx_hduni(2)', 'pba_hohlca_hdmx_hduni(3)', 'pba_hohlca_hdmx_hduni(4)', 'pba_hohlca_hdmx_hduni(8)', 'vol_hlh_hlogret_hdmx_hduni(2)', 'vol_hlh_hlogret_hdmx_hduni(3)', 'vol_hlh_hlogret_hdmx_hduni(4)', 'vol_hlh_hlogret_hdmx_hduni(8)', 'vol_hlh_hret_hdmx_hduni(2)', 'vol_hlh_hret_hdmx_hduni(3)', 'vol_hlh_hret_hdmx_hduni(4)', 'vol_hlh_hret_hdmx_hduni(8)', 'vol_hlh_hspread_hdmx_hduni(2)', 'vol_hlh_hspread_hdmx_hduni(3)', 'vol_hlh_hspread_hdmx_hduni(4)', 'vol_hlh_hspread_hdmx_hduni(8)', 'vol_hoc_hlogret_hdmx_hduni(2)', 'vol_hoc_hlogret_hdmx_hduni(3)', 'vol_hoc_hlogret_hdmx_hduni(4)', 'vol_hoc_hlogret_hdmx_hduni(8)', 'vol_hoc_hret_hdmx_hduni(2)', 'vol_hoc_hret_hdmx_hduni(3)', 'vol_hoc_hret_hdmx_hduni(4)', 'vol_hoc_hret_hdmx_hduni(8)', 'vol_hoc_hspread_hdmx_hduni(2)', 'vol_hoc_hspread_hdmx_hduni(3)', 'vol_hoc_hspread_hdmx_hduni(4)', 'vol_hoc_hspread_hdmx_hduni(8)', 'vol_hohlca_hdmx_hduni(2)', 'vol_hohlca_hdmx_hduni(3)', 'vol_hohlca_hdmx_hduni(4)', 'vol_hohlca_hdmx_hduni(8)', 'trmi3_etf3_news_buzz_hohlca_hdmx_hduni(2)', 'trmi3_etf3_news_buzz_hohlca_hdmx_hduni(3)', 'trmi3_etf3_news_buzz_hohlca_hdmx_hduni(4)', 'trmi3_etf3_news_buzz_hohlca_hdmx_hduni(8)', 'trmi3_mkt3_news_bondBuzz_hohlca_hdmx_hduni(2)', 'trmi3_mkt3_news_bondBuzz_hohlca_hdmx_hduni(3)', 'trmi3_mkt3_news_bondBuzz_hohlca_hdmx_hduni(4)', 'trmi3_mkt3_news_bondBuzz_hohlca_hdmx_hduni(8)', 'trmi3_mkt3_news_ratesBuzz_hohlca_hdmx_hduni(2)', 'trmi3_mkt3_news_ratesBuzz_hohlca_hdmx_hduni(3)', 'trmi3_mkt3_news_ratesBuzz_hohlca_hdmx_hduni(4)', 'trmi3_mkt3_news_ratesBuzz_hohlca_hdmx_hduni(8)', 'trmi3_mkt3_news_stockIndexBuzz_hohlca_hdmx_hduni(2)', 'trmi3_mkt3_news_stockIndexBuzz_hohlca_hdmx_hduni(3)', 'trmi3_mkt3_news_stockIndexBuzz_hohlca_hdmx_hduni(4)', 'trmi3_mkt3_news_stockIndexBuzz_hohlca_hdmx_hduni(8)', 'trmi3_etf3_social_buzz_hohlca_hdmx_hduni(2)', 'trmi3_etf3_social_buzz_hohlca_hdmx_hduni(3)', 'trmi3_etf3_social_buzz_hohlca_hdmx_hduni(4)', 'trmi3_etf3_social_buzz_hohlca_hdmx_hduni(8)', 'trmi3_mkt3_social_bondBuzz_hohlca_hdmx_hduni(2)', 'trmi3_mkt3_social_bondBuzz_hohlca_hdmx_hduni(3)', 'trmi3_mkt3_social_bondBuzz_hohlca_hdmx_hduni(4)', 'trmi3_mkt3_social_bondBuzz_hohlca_hdmx_hduni(8)', 'trmi3_mkt3_social_ratesBuzz_hohlca_hdmx_hduni(2)', 'trmi3_mkt3_social_ratesBuzz_hohlca_hdmx_hduni(3)', 'trmi3_mkt3_social_ratesBuzz_hohlca_hdmx_hduni(4)', 'trmi3_mkt3_social_ratesBuzz_hohlca_hdmx_hduni(8)', 'trmi3_mkt3_social_stockIndexBuzz_hohlca_hdmx_hduni(2)', 'trmi3_mkt3_social_stockIndexBuzz_hohlca_hdmx_hduni(3)', 'trmi3_mkt3_social_stockIndexBuzz_hohlca_hdmx_hduni(4)', 'trmi3_mkt3_social_stockIndexBuzz_hohlca_hdmx_hduni(8)']\n"
     ]
    }
   ],
   "source": [
    "chosen_asset = 'sp_500'\n",
    "chosen_data = hdod[chosen_asset]\n",
    "print(len(chosen_data))\n",
    "print([cho[-1] for cho in chosen_data])\n",
    "ddf = f[chosen_data[28]]"
   ]
  },
  {
   "cell_type": "code",
   "execution_count": 46,
   "metadata": {},
   "outputs": [
    {
     "data": {
      "text/html": [
       "<div>\n",
       "<style scoped>\n",
       "    .dataframe tbody tr th:only-of-type {\n",
       "        vertical-align: middle;\n",
       "    }\n",
       "\n",
       "    .dataframe tbody tr th {\n",
       "        vertical-align: top;\n",
       "    }\n",
       "\n",
       "    .dataframe thead th {\n",
       "        text-align: right;\n",
       "    }\n",
       "</style>\n",
       "<table border=\"1\" class=\"dataframe\">\n",
       "  <thead>\n",
       "    <tr style=\"text-align: right;\">\n",
       "      <th></th>\n",
       "      <th></th>\n",
       "      <th>8</th>\n",
       "      <th>9</th>\n",
       "      <th>10</th>\n",
       "      <th>11</th>\n",
       "      <th>12</th>\n",
       "      <th>13</th>\n",
       "      <th>14</th>\n",
       "      <th>15</th>\n",
       "    </tr>\n",
       "    <tr>\n",
       "      <th>id0</th>\n",
       "      <th>id1</th>\n",
       "      <th></th>\n",
       "      <th></th>\n",
       "      <th></th>\n",
       "      <th></th>\n",
       "      <th></th>\n",
       "      <th></th>\n",
       "      <th></th>\n",
       "      <th></th>\n",
       "    </tr>\n",
       "  </thead>\n",
       "  <tbody>\n",
       "    <tr>\n",
       "      <td>2009-01-02</td>\n",
       "      <td>vol_lh</td>\n",
       "      <td>1</td>\n",
       "      <td>2</td>\n",
       "      <td>1</td>\n",
       "      <td>1</td>\n",
       "      <td>1</td>\n",
       "      <td>1</td>\n",
       "      <td>2</td>\n",
       "      <td>1</td>\n",
       "    </tr>\n",
       "    <tr>\n",
       "      <td>2009-01-05</td>\n",
       "      <td>vol_lh</td>\n",
       "      <td>1</td>\n",
       "      <td>2</td>\n",
       "      <td>1</td>\n",
       "      <td>1</td>\n",
       "      <td>1</td>\n",
       "      <td>2</td>\n",
       "      <td>1</td>\n",
       "      <td>1</td>\n",
       "    </tr>\n",
       "    <tr>\n",
       "      <td>2009-01-06</td>\n",
       "      <td>vol_lh</td>\n",
       "      <td>1</td>\n",
       "      <td>2</td>\n",
       "      <td>1</td>\n",
       "      <td>1</td>\n",
       "      <td>1</td>\n",
       "      <td>2</td>\n",
       "      <td>2</td>\n",
       "      <td>1</td>\n",
       "    </tr>\n",
       "    <tr>\n",
       "      <td>2009-01-07</td>\n",
       "      <td>vol_lh</td>\n",
       "      <td>2</td>\n",
       "      <td>1</td>\n",
       "      <td>1</td>\n",
       "      <td>1</td>\n",
       "      <td>1</td>\n",
       "      <td>2</td>\n",
       "      <td>1</td>\n",
       "      <td>1</td>\n",
       "    </tr>\n",
       "    <tr>\n",
       "      <td>2009-01-08</td>\n",
       "      <td>vol_lh</td>\n",
       "      <td>2</td>\n",
       "      <td>2</td>\n",
       "      <td>2</td>\n",
       "      <td>1</td>\n",
       "      <td>1</td>\n",
       "      <td>2</td>\n",
       "      <td>2</td>\n",
       "      <td>1</td>\n",
       "    </tr>\n",
       "    <tr>\n",
       "      <td>...</td>\n",
       "      <td>...</td>\n",
       "      <td>...</td>\n",
       "      <td>...</td>\n",
       "      <td>...</td>\n",
       "      <td>...</td>\n",
       "      <td>...</td>\n",
       "      <td>...</td>\n",
       "      <td>...</td>\n",
       "      <td>...</td>\n",
       "    </tr>\n",
       "    <tr>\n",
       "      <td>2017-12-22</td>\n",
       "      <td>vol_lh</td>\n",
       "      <td>1</td>\n",
       "      <td>1</td>\n",
       "      <td>2</td>\n",
       "      <td>1</td>\n",
       "      <td>1</td>\n",
       "      <td>1</td>\n",
       "      <td>2</td>\n",
       "      <td>1</td>\n",
       "    </tr>\n",
       "    <tr>\n",
       "      <td>2017-12-26</td>\n",
       "      <td>vol_lh</td>\n",
       "      <td>2</td>\n",
       "      <td>2</td>\n",
       "      <td>1</td>\n",
       "      <td>1</td>\n",
       "      <td>1</td>\n",
       "      <td>1</td>\n",
       "      <td>1</td>\n",
       "      <td>1</td>\n",
       "    </tr>\n",
       "    <tr>\n",
       "      <td>2017-12-27</td>\n",
       "      <td>vol_lh</td>\n",
       "      <td>2</td>\n",
       "      <td>2</td>\n",
       "      <td>2</td>\n",
       "      <td>2</td>\n",
       "      <td>1</td>\n",
       "      <td>2</td>\n",
       "      <td>1</td>\n",
       "      <td>1</td>\n",
       "    </tr>\n",
       "    <tr>\n",
       "      <td>2017-12-28</td>\n",
       "      <td>vol_lh</td>\n",
       "      <td>2</td>\n",
       "      <td>1</td>\n",
       "      <td>2</td>\n",
       "      <td>1</td>\n",
       "      <td>1</td>\n",
       "      <td>1</td>\n",
       "      <td>1</td>\n",
       "      <td>1</td>\n",
       "    </tr>\n",
       "    <tr>\n",
       "      <td>2017-12-29</td>\n",
       "      <td>vol_lh</td>\n",
       "      <td>1</td>\n",
       "      <td>1</td>\n",
       "      <td>1</td>\n",
       "      <td>1</td>\n",
       "      <td>1</td>\n",
       "      <td>1</td>\n",
       "      <td>2</td>\n",
       "      <td>2</td>\n",
       "    </tr>\n",
       "  </tbody>\n",
       "</table>\n",
       "<p>2263 rows × 8 columns</p>\n",
       "</div>"
      ],
      "text/plain": [
       "                  8  9  10 11 12 13 14 15\n",
       "id0        id1                           \n",
       "2009-01-02 vol_lh  1  2  1  1  1  1  2  1\n",
       "2009-01-05 vol_lh  1  2  1  1  1  2  1  1\n",
       "2009-01-06 vol_lh  1  2  1  1  1  2  2  1\n",
       "2009-01-07 vol_lh  2  1  1  1  1  2  1  1\n",
       "2009-01-08 vol_lh  2  2  2  1  1  2  2  1\n",
       "...               .. .. .. .. .. .. .. ..\n",
       "2017-12-22 vol_lh  1  1  2  1  1  1  2  1\n",
       "2017-12-26 vol_lh  2  2  1  1  1  1  1  1\n",
       "2017-12-27 vol_lh  2  2  2  2  1  2  1  1\n",
       "2017-12-28 vol_lh  2  1  2  1  1  1  1  1\n",
       "2017-12-29 vol_lh  1  1  1  1  1  1  2  2\n",
       "\n",
       "[2263 rows x 8 columns]"
      ]
     },
     "execution_count": 46,
     "metadata": {},
     "output_type": "execute_result"
    }
   ],
   "source": [
    "ddf"
   ]
  },
  {
   "cell_type": "code",
   "execution_count": 165,
   "metadata": {},
   "outputs": [],
   "source": [
    "def pd_name_range(pd_obj):\n",
    "    return pd.DataFrame({col: {'min': pd_obj.loc[:, col].min(), 'max': pd_obj.loc[:, col].max()} for col in pd_obj}).T"
   ]
  },
  {
   "cell_type": "code",
   "execution_count": 188,
   "metadata": {},
   "outputs": [],
   "source": [
    "chosen_asset = 'sp_500'\n",
    "ddf = f[dc[chosen_asset][1]]"
   ]
  },
  {
   "cell_type": "code",
   "execution_count": 190,
   "metadata": {},
   "outputs": [
    {
     "name": "stdout",
     "output_type": "stream",
     "text": [
      "['sp_500', 'dc', 'dc_trmi3_news', 'trmi3_etf3_news_forecast_dc', 'trmi3_etf3_news_forecast_dc']\n",
      "6  /  11\n",
      "['sp_500', 'dc', 'dc_trmi3_news', 'trmi3_etf3_news_fundamental_dc', 'trmi3_etf3_news_fundamental_dc']\n",
      "6  /  11\n",
      "['sp_500', 'dc', 'dc_trmi3_news', 'trmi3_etf3_news_sentiment_dc', 'trmi3_etf3_news_sentiment_dc']\n",
      "4  /  11\n",
      "['sp_500', 'dc', 'dc_trmi3_news', 'trmi3_mkt3_news_bank_dc', 'trmi3_mkt3_news_bank_dc']\n",
      "3  /  5\n",
      "['sp_500', 'dc', 'dc_trmi3_news', 'trmi3_mkt3_news_bond_dc', 'trmi3_mkt3_news_bond_dc']\n",
      "9  /  11\n",
      "['sp_500', 'dc', 'dc_trmi3_news', 'trmi3_mkt3_news_stock_dc', 'trmi3_mkt3_news_stock_dc']\n",
      "10  /  11\n",
      "['sp_500', 'dc', 'dc_trmi3_social', 'trmi3_etf3_social_forecast_dc', 'trmi3_etf3_social_forecast_dc']\n",
      "6  /  11\n",
      "['sp_500', 'dc', 'dc_trmi3_social', 'trmi3_etf3_social_fundamental_dc', 'trmi3_etf3_social_fundamental_dc']\n",
      "6  /  11\n",
      "['sp_500', 'dc', 'dc_trmi3_social', 'trmi3_etf3_social_sentiment_dc', 'trmi3_etf3_social_sentiment_dc']\n",
      "5  /  11\n",
      "['sp_500', 'dc', 'dc_trmi3_social', 'trmi3_mkt3_social_bank_dc', 'trmi3_mkt3_social_bank_dc']\n",
      "2  /  4\n",
      "['sp_500', 'dc', 'dc_trmi3_social', 'trmi3_mkt3_social_bond_dc', 'trmi3_mkt3_social_bond_dc']\n",
      "9  /  10\n",
      "['sp_500', 'dc', 'dc_trmi3_social', 'trmi3_mkt3_social_stock_dc', 'trmi3_mkt3_social_stock_dc']\n",
      "9  /  11\n"
     ]
    }
   ],
   "source": [
    "for dkey in dc[chosen_asset]:\n",
    "    print(dkey)\n",
    "    mmx = pd_name_range(f[dkey])\n",
    "    \n",
    "    print(len(mmx[mmx['min'] < 0]), ' / ', len(mmx))"
   ]
  },
  {
   "cell_type": "code",
   "execution_count": 191,
   "metadata": {},
   "outputs": [],
   "source": [
    "RETURN_FN_MAPPING = {\n",
    "\t\"spread\": (lambda ser: ser.diff(1)),\n",
    "\t\"ret\": (lambda ser: ser.pct_change()),\n",
    "\t\"logret\": (lambda ser: np.log(1+ser.pct_change()))\n",
    "}\n",
    "def single_returnify(ret_type, thresh=None, clip=False):\n",
    "\t\"\"\"\n",
    "\tSpread, regular return, or log return.\n",
    "\t\"\"\"\n",
    "\tret_fn = RETURN_FN_MAPPING.get(ret_type)\n",
    "\n",
    "\tdef fn(ser):\n",
    "\t\tret = ret_fn(ser)\n",
    "\t\tif (thresh is not None):\n",
    "\t\t\tret = ser_range_center_clip(ret, thresh, inner=SIDEWAYS, outer=clip, inclusive=False)\n",
    "\t\treturn ret\n",
    "\treturn fn"
   ]
  },
  {
   "cell_type": "code",
   "execution_count": 192,
   "metadata": {},
   "outputs": [],
   "source": [
    "RANK_FN_MAPPING = {\n",
    "\t\"zn\": (lambda ser: (ser.iloc[-1]-ser.mean()) / ser.std()),\n",
    "\t\"mx\": (lambda ser: 2 * ((ser.iloc[-1]-ser.min()) / (ser.max()-ser.min())) - 1),\n",
    "\t\"od\": (lambda ser, normalize=True: ser.rank(numeric_only=True, ascending=True, pct=normalize).iloc[-1]),\n",
    "\t\"pt\": (lambda ser: (ser.iloc[-1]-ser.min()) / (ser.max()-ser.min()))\n",
    "}\n",
    "\n",
    "def window_rank(rank_type, num_periods):\n",
    "\trank_fn = RANK_FN_MAPPING.get(rank_type)\n",
    "\n",
    "\tdef fn(ser):\n",
    "\t\tif (num_periods==-1):\n",
    "\t\t\twin = ser.dropna().expanding(min_periods=1)\n",
    "\t\telse:\n",
    "\t\t\twin = ser.dropna().rolling(window=num_periods, min_periods=1)\n",
    "\t\treturn win.apply(rank_fn, raw=False)\n",
    "\n",
    "\treturn fn\n",
    "\n",
    "zn = window_rank('zn', -1)\n",
    "mx = window_rank('mx', -1)\n",
    "od = window_rank('od', -1)\n",
    "pt = window_rank('pt', -1)"
   ]
  },
  {
   "cell_type": "code",
   "execution_count": 241,
   "metadata": {},
   "outputs": [],
   "source": [
    "num_df=0\n",
    "num_col=4\n",
    "s = ddf.iloc[:, num_col]\n",
    "rk = window_rank('zn', -1)\n",
    "r = single_returnify('spread')"
   ]
  },
  {
   "cell_type": "code",
   "execution_count": 242,
   "metadata": {},
   "outputs": [
    {
     "data": {
      "text/plain": [
       "<matplotlib.axes._subplots.AxesSubplot at 0x7fbfc7889bd0>"
      ]
     },
     "metadata": {},
     "output_type": "display_data"
    },
    {
     "data": {
      "image/png": "[encoded data removed]",
      "text/plain": [
       "<Figure size 432x288 with 1 Axes>"
      ]
     },
     "metadata": {
      "needs_background": "light"
     },
     "output_type": "display_data"
    }
   ],
   "source": [
    "display(s.plot())"
   ]
  },
  {
   "cell_type": "code",
   "execution_count": 243,
   "metadata": {},
   "outputs": [
    {
     "data": {
      "text/plain": [
       "<matplotlib.axes._subplots.AxesSubplot at 0x7fbfc899d610>"
      ]
     },
     "metadata": {},
     "output_type": "display_data"
    },
    {
     "data": {
      "image/png": "[encoded data removed]",
      "text/plain": [
       "<Figure size 432x288 with 1 Axes>"
      ]
     },
     "metadata": {
      "needs_background": "light"
     },
     "output_type": "display_data"
    }
   ],
   "source": [
    "display(r(s).plot())"
   ]
  },
  {
   "cell_type": "code",
   "execution_count": 244,
   "metadata": {},
   "outputs": [
    {
     "data": {
      "text/plain": [
       "<matplotlib.axes._subplots.AxesSubplot at 0x7fbfc7a56910>"
      ]
     },
     "metadata": {},
     "output_type": "display_data"
    },
    {
     "data": {
      "image/png": "[encoded data removed]",
      "text/plain": [
       "<Figure size 432x288 with 1 Axes>"
      ]
     },
     "metadata": {
      "needs_background": "light"
     },
     "output_type": "display_data"
    }
   ],
   "source": [
    "display(rk(s).plot())"
   ]
  },
  {
   "cell_type": "code",
   "execution_count": 245,
   "metadata": {},
   "outputs": [
    {
     "data": {
      "text/plain": [
       "<matplotlib.axes._subplots.AxesSubplot at 0x7fbfc7b6a310>"
      ]
     },
     "metadata": {},
     "output_type": "display_data"
    },
    {
     "data": {
      "image/png": "[encoded data removed]",
      "text/plain": [
       "<Figure size 432x288 with 1 Axes>"
      ]
     },
     "metadata": {
      "needs_background": "light"
     },
     "output_type": "display_data"
    }
   ],
   "source": [
    "display(rk(r(s)).plot())"
   ]
  },
  {
   "cell_type": "code",
   "execution_count": null,
   "metadata": {},
   "outputs": [],
   "source": []
  },
  {
   "cell_type": "code",
   "execution_count": null,
   "metadata": {},
   "outputs": [],
   "source": []
  }
 ],
 "metadata": {
  "kernelspec": {
   "display_name": "Python 3",
   "language": "python",
   "name": "python3"
  },
  "language_info": {
   "codemirror_mode": {
    "name": "ipython",
    "version": 3
   },
   "file_extension": ".py",
   "mimetype": "text/x-python",
   "name": "python",
   "nbconvert_exporter": "python",
   "pygments_lexer": "ipython3",
   "version": "3.7.4"
  }
 },
 "nbformat": 4,
 "nbformat_minor": 2
}
