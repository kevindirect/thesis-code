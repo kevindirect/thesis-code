{
 "cells": [
  {
   "cell_type": "markdown",
   "metadata": {},
   "source": [
    "# nb-model"
   ]
  },
  {
   "cell_type": "code",
   "execution_count": 1,
   "metadata": {},
   "outputs": [
    {
     "name": "stderr",
     "output_type": "stream",
     "text": [
      "CRITICAL:root:script location: /home/kev/crunch/model/nb-model_xg0.ipynb\n",
      "CRITICAL:root:using project dir: /home/kev/crunch/\n"
     ]
    }
   ],
   "source": [
    "import sys\n",
    "import os\n",
    "from os import sep\n",
    "from os.path import dirname, realpath\n",
    "from pathlib import Path\n",
    "from functools import partial, reduce\n",
    "import logging\n",
    "\n",
    "def get_cwd(fname, subdir, crunch_dir=realpath(Path.home()) +sep +'crunch' +sep):\n",
    "    \"\"\"\n",
    "    Convenience function to make a directory string for the current file based on inputs.\n",
    "    Jupyter Notebook in Anaconda invokes the Python interpreter in Anaconda's subdirectory\n",
    "    which is why changing sys.argv[0] is necessary. In the future a better way to do this\n",
    "    should be preferred..\n",
    "    \"\"\"\n",
    "    return crunch_dir +subdir +fname\n",
    "\n",
    "def fix_path(cwd):\n",
    "    \"\"\"\n",
    "    Convenience function to fix argv and python path so that jupyter notebook can run the same as\n",
    "    any script in crunch.\n",
    "    \"\"\"\n",
    "    sys.argv[0] = cwd\n",
    "    module_path = os.path.abspath(os.path.join('..'))\n",
    "    if module_path not in sys.path:\n",
    "        sys.path.append(module_path)\n",
    "\n",
    "fname = 'nb-model_xg0.ipynb'   # FILL\n",
    "dir_name = 'model'             # FILL\n",
    "fix_path(get_cwd(fname, dir_name +sep))\n",
    "\n",
    "import numpy as np\n",
    "import pandas as pd\n",
    "#import matplotlib.pyplot as plt\n",
    "from dask import delayed, compute\n",
    "from torch.utils.data import TensorDataset, DataLoader\n",
    "import torch\n",
    "\n",
    "from ipywidgets import interact, interactive, fixed\n",
    "from IPython.display import display\n",
    "\n",
    "pd.set_option(\"display.max_rows\", 100)\n",
    "pd.set_option('display.max_columns', 50)\n",
    "\n",
    "from common_util import RECON_DIR, JSON_SFX_LEN, DT_CAL_DAILY_FREQ, is_type, pd_common_idx_rows, remove_dups_list, set_loglevel, search_df, chained_filter, get_variants, dump_df, load_json, gb_transpose, pd_common_index_rows, filter_cols_below, inner_join, outer_join, ser_shift, list_get_dict, window_iter, benchmark\n",
    "from common_util import midx_get_level, pd_rows, midx_intersect, pd_common_idx_rows, midx_split, pd_midx_to_arr, window_iter, np_is_ndim, identity_fn\n",
    "from model.common import DATASET_DIR, XG_PROCESS_DIR, XG_DATA_DIR, XG_DIR, EXPECTED_NUM_HOURS, default_dataset\n",
    "from model.dataprep_util import align_first_last_cols, prune_nulls\n",
    "from model.datagen_util import xgdg, process_group\n",
    "from data.data_api import DataAPI\n",
    "from recon.dataset_util import prep_dataset, gen_group\n",
    "from model.dataprep_util import COMMON_PREP_MAPPING, DATA_PREP_MAPPING\n",
    "#from recon.split_util import get_train_test_split, gen_time_series_split, index_three_split, pd_binary_clip\n",
    "DataAPI.__init__()\n",
    "logging.basicConfig(stream=sys.stdout, level=logging.DEBUG)"
   ]
  },
  {
   "cell_type": "markdown",
   "metadata": {},
   "source": [
    "## Load"
   ]
  },
  {
   "cell_type": "code",
   "execution_count": 9,
   "metadata": {},
   "outputs": [],
   "source": [
    "xg_fname = 'dohlca.json'\n",
    "xg_kc = ['sp_500', 'dohlca', 'dohlca_pba_vol', 'pba_dohlca', 'pba_dohlca']"
   ]
  },
  {
   "cell_type": "code",
   "execution_count": 14,
   "metadata": {},
   "outputs": [],
   "source": [
    "xg_fname = 'ddiff.json'\n",
    "xg_kc = ['sp_500', 'ddiff', 'ddiff_pba_vol', 'pba_dohlca_ddiff', 'pba_dohlca_ddiff(1)']"
   ]
  },
  {
   "cell_type": "code",
   "execution_count": 15,
   "metadata": {},
   "outputs": [
    {
     "name": "stderr",
     "output_type": "stream",
     "text": [
      "/home/kev/miniconda3/lib/python3.7/site-packages/pyarrow/pandas_compat.py:708: FutureWarning: .labels was deprecated in version 0.24.0. Use .codes instead.\n",
      "  labels = getattr(columns, 'labels', None) or [\n",
      "/home/kev/miniconda3/lib/python3.7/site-packages/pyarrow/pandas_compat.py:735: FutureWarning: the 'labels' keyword is deprecated, use 'codes' instead\n",
      "  return pd.MultiIndex(levels=new_levels, labels=labels, names=columns.names)\n",
      "/home/kev/miniconda3/lib/python3.7/site-packages/pyarrow/pandas_compat.py:752: FutureWarning: .labels was deprecated in version 0.24.0. Use .codes instead.\n",
      "  labels, = index.labels\n"
     ]
    }
   ],
   "source": [
    "for parent_path, dirs, files in os.walk(XG_PROCESS_DIR, topdown=False):\n",
    "    if (xg_fname in files):\n",
    "        xg_dict = load_json(xg_fname, dir_path=parent_path)\n",
    "        dataset_dict = load_json(xg_dict['dataset'], dir_path=parent_path) if (is_type(xg_dict['dataset'], str)) else xg_dict['dataset']\n",
    "        dataset = prep_dataset(dataset_dict, assets=None)\n",
    "        ex = dataset['features']['dfs'][xg_kc].compute()\n",
    "        break"
   ]
  },
  {
   "cell_type": "markdown",
   "metadata": {},
   "source": [
    "## Test FN"
   ]
  },
  {
   "cell_type": "code",
   "execution_count": 16,
   "metadata": {},
   "outputs": [],
   "source": [
    "from common_util import pd_dti_idx_date_only, pd_idx_rename, is_ser, dcompose, compose, pd_idx_to_midx"
   ]
  },
  {
   "cell_type": "code",
   "execution_count": 17,
   "metadata": {},
   "outputs": [],
   "source": [
    "def prep_stack_data(feature_df, delayed=False):\n",
    "\t\"\"\"\n",
    "\tConverts a single indexed daily DataFrame into a MultiIndexed daily DataFrame.\n",
    "\n",
    "\tArgs:\n",
    "\t\tfeature_df (pd.DataFrame): Daily DataFrame\n",
    "\t\trow_masks_df (pd.DataFrame): DataFrame of row masks / time mask\n",
    "\t\tdelayed (boolean): Whether or not to create a delayed function composition\n",
    "\n",
    "\tReturns:\n",
    "\t\tpd.DataFrame or dask Delayed object\n",
    "\t\"\"\"\n",
    "\tpreproc = (\n",
    "\t\t\t\tpd_dti_idx_date_only,\t\t# Removes the time component of the DatetimeIndex index\n",
    "\t\t\t\tpartial(pd_idx_to_midx, col_name=-1)\n",
    "\t\t\t)\n",
    "\tprep_fn = dcompose(*preproc) if (delayed) else compose(*preproc)\n",
    "\treturn prep_fn(feature_df)"
   ]
  },
  {
   "cell_type": "code",
   "execution_count": 18,
   "metadata": {},
   "outputs": [
    {
     "data": {
      "text/html": [
       "<div>\n",
       "<style scoped>\n",
       "    .dataframe tbody tr th:only-of-type {\n",
       "        vertical-align: middle;\n",
       "    }\n",
       "\n",
       "    .dataframe tbody tr th {\n",
       "        vertical-align: top;\n",
       "    }\n",
       "\n",
       "    .dataframe thead th {\n",
       "        text-align: right;\n",
       "    }\n",
       "</style>\n",
       "<table border=\"1\" class=\"dataframe\">\n",
       "  <thead>\n",
       "    <tr style=\"text-align: right;\">\n",
       "      <th></th>\n",
       "      <th></th>\n",
       "      <th>-1</th>\n",
       "    </tr>\n",
       "    <tr>\n",
       "      <th>id0</th>\n",
       "      <th>id1</th>\n",
       "      <th></th>\n",
       "    </tr>\n",
       "  </thead>\n",
       "  <tbody>\n",
       "    <tr>\n",
       "      <td rowspan=\"5\" valign=\"top\">2009-01-05</td>\n",
       "      <td>pba_open</td>\n",
       "      <td>26.180000</td>\n",
       "    </tr>\n",
       "    <tr>\n",
       "      <td>pba_high</td>\n",
       "      <td>1.900000</td>\n",
       "    </tr>\n",
       "    <tr>\n",
       "      <td>pba_low</td>\n",
       "      <td>20.180000</td>\n",
       "    </tr>\n",
       "    <tr>\n",
       "      <td>pba_close</td>\n",
       "      <td>-4.350000</td>\n",
       "    </tr>\n",
       "    <tr>\n",
       "      <td>pba_avgPrice</td>\n",
       "      <td>8.173325</td>\n",
       "    </tr>\n",
       "    <tr>\n",
       "      <td>...</td>\n",
       "      <td>...</td>\n",
       "      <td>...</td>\n",
       "    </tr>\n",
       "    <tr>\n",
       "      <td rowspan=\"5\" valign=\"top\">2017-12-29</td>\n",
       "      <td>pba_open</td>\n",
       "      <td>3.050000</td>\n",
       "    </tr>\n",
       "    <tr>\n",
       "      <td>pba_high</td>\n",
       "      <td>4.460000</td>\n",
       "    </tr>\n",
       "    <tr>\n",
       "      <td>pba_low</td>\n",
       "      <td>-9.080000</td>\n",
       "    </tr>\n",
       "    <tr>\n",
       "      <td>pba_close</td>\n",
       "      <td>-13.930000</td>\n",
       "    </tr>\n",
       "    <tr>\n",
       "      <td>pba_avgPrice</td>\n",
       "      <td>-1.129550</td>\n",
       "    </tr>\n",
       "  </tbody>\n",
       "</table>\n",
       "<p>11320 rows × 1 columns</p>\n",
       "</div>"
      ],
      "text/plain": [
       "                                -1\n",
       "id0        id1                    \n",
       "2009-01-05 pba_open      26.180000\n",
       "           pba_high       1.900000\n",
       "           pba_low       20.180000\n",
       "           pba_close     -4.350000\n",
       "           pba_avgPrice   8.173325\n",
       "...                            ...\n",
       "2017-12-29 pba_open       3.050000\n",
       "           pba_high       4.460000\n",
       "           pba_low       -9.080000\n",
       "           pba_close    -13.930000\n",
       "           pba_avgPrice  -1.129550\n",
       "\n",
       "[11320 rows x 1 columns]"
      ]
     },
     "execution_count": 18,
     "metadata": {},
     "output_type": "execute_result"
    }
   ],
   "source": [
    "prep_stack_data(ex)"
   ]
  }
 ],
 "metadata": {
  "kernelspec": {
   "display_name": "Python 3",
   "language": "python",
   "name": "python3"
  },
  "language_info": {
   "codemirror_mode": {
    "name": "ipython",
    "version": 3
   },
   "file_extension": ".py",
   "mimetype": "text/x-python",
   "name": "python",
   "nbconvert_exporter": "python",
   "pygments_lexer": "ipython3",
   "version": "3.7.4"
  }
 },
 "nbformat": 4,
 "nbformat_minor": 2
}
