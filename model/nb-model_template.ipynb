{
 "cells": [
  {
   "cell_type": "markdown",
   "metadata": {},
   "source": [
    "# nb-model_template"
   ]
  },
  {
   "cell_type": "code",
   "execution_count": 4,
   "metadata": {},
   "outputs": [
    {
     "name": "stderr",
     "output_type": "stream",
     "text": [
      "CRITICAL:root:script location: /home/kev/crunch/model/nb-model_template.ipynb\n",
      "CRITICAL:root:using project dir: /home/kev/crunch/\n",
      "Using TensorFlow backend.\n",
      "WARNING: Logging before flag parsing goes to stderr.\n",
      "W0916 19:17:28.712528 139779581159232 deprecation_wrapper.py:119] From /home/kev/crunch/model/common.py:19: The name tf.train.RMSPropOptimizer is deprecated. Please use tf.compat.v1.train.RMSPropOptimizer instead.\n",
      "\n",
      "W0916 19:17:28.713118 139779581159232 deprecation_wrapper.py:119] From /home/kev/crunch/model/common.py:19: The name tf.train.AdamOptimizer is deprecated. Please use tf.compat.v1.train.AdamOptimizer instead.\n",
      "\n"
     ]
    }
   ],
   "source": [
    "import sys\n",
    "import os\n",
    "from os import sep\n",
    "from os.path import dirname, realpath\n",
    "from pathlib import Path\n",
    "from functools import partial, reduce\n",
    "import logging\n",
    "\n",
    "def get_cwd(fname, subdir, crunch_dir=realpath(Path.home()) +sep +'crunch' +sep):\n",
    "    \"\"\"\n",
    "    Convenience function to make a directory string for the current file based on inputs.\n",
    "    Jupyter Notebook in Anaconda invokes the Python interpreter in Anaconda's subdirectory\n",
    "    which is why changing sys.argv[0] is necessary. In the future a better way to do this\n",
    "    should be preferred..\n",
    "    \"\"\"\n",
    "    return crunch_dir +subdir +fname\n",
    "\n",
    "def fix_path(cwd):\n",
    "    \"\"\"\n",
    "    Convenience function to fix argv and python path so that jupyter notebook can run the same as\n",
    "    any script in crunch.\n",
    "    \"\"\"\n",
    "    sys.argv[0] = cwd\n",
    "    module_path = os.path.abspath(os.path.join('..'))\n",
    "    if module_path not in sys.path:\n",
    "        sys.path.append(module_path)\n",
    "\n",
    "fname = 'nb-model_template.ipynb'   # FILL\n",
    "dir_name = 'model'                  # FILL\n",
    "fix_path(get_cwd(fname, dir_name +sep))\n",
    "\n",
    "import numpy as np\n",
    "import pandas as pd\n",
    "#import matplotlib.pyplot as plt\n",
    "from dask import delayed, compute\n",
    "from torch.utils.data import TensorDataset, DataLoader\n",
    "import torch\n",
    "\n",
    "from ipywidgets import interact, interactive, fixed\n",
    "from IPython.display import display\n",
    "\n",
    "pd.set_option(\"display.max_rows\", 100)\n",
    "pd.set_option('display.max_columns', 50)\n",
    "\n",
    "from common_util import RECON_DIR, JSON_SFX_LEN, DT_CAL_DAILY_FREQ, is_type, pd_common_idx_rows, remove_dups_list, set_loglevel, search_df, chained_filter, get_variants, dump_df, load_json, gb_transpose, pd_common_index_rows, filter_cols_below, inner_join, outer_join, ser_shift, list_get_dict, window_iter, benchmark\n",
    "from common_util import midx_get_level, midx_intersect, pd_common_idx_rows, midx_split, pd_midx_to_arr, window_iter, np_is_ndim\n",
    "from model.common import DATASET_DIR, XG_DIR, EXPECTED_NUM_HOURS, default_dataset\n",
    "from model.dataprep_util import align_first_last_cols, prune_nulls\n",
    "from model.datagen_util import xgdg\n",
    "from data.data_api import DataAPI\n",
    "from recon.dataset_util import prep_dataset, gen_group\n",
    "#from recon.split_util import get_train_test_split, gen_time_series_split, index_three_split, pd_binary_clip\n",
    "DataAPI.__init__()\n",
    "logging.basicConfig(stream=sys.stdout, level=logging.DEBUG)"
   ]
  },
  {
   "cell_type": "markdown",
   "metadata": {},
   "source": [
    "## Util functions:"
   ]
  },
  {
   "cell_type": "code",
   "execution_count": 10,
   "metadata": {},
   "outputs": [],
   "source": [
    "def debug_xg(xg_fname, assets=None):\n",
    "    \"\"\"\n",
    "    Display processed data of an experiment group.\n",
    "    \"\"\"\n",
    "    for i, (paths, recs, dfs) in enumerate(xgdg(xg_fname, delayed=True, assets=assets, filters_map=None)):\n",
    "        fpath, lpath, tpath = paths\n",
    "        frec, lrec, trec = recs\n",
    "        logging.info('(X, y, z) -> ({fdesc}[:], {ldesc}[:], {tdesc}[:])'.format(fdesc=frec.desc, ldesc=lrec.desc, tdesc=trec.desc))\n",
    "        with benchmark('time to load data') as b:\n",
    "            f, l, t = dfs.compute()\n",
    "\n",
    "        val_ratio = .2\n",
    "        test_ratio = .2\n",
    "        train_ratio = 1-(val_ratio+test_ratio)\n",
    "        f_train_idx, f_val_idx, f_test_idx = midx_split(f.index, train_ratio, val_ratio, test_ratio)\n",
    "        l_train_idx, l_val_idx, l_test_idx = midx_split(l.index, train_ratio, val_ratio, test_ratio)\n",
    "        t_train_idx, t_val_idx, t_test_idx = midx_split(t.index, train_ratio, val_ratio, test_ratio)\n",
    "\n",
    "        f_train_pd, f_val_pd, f_test_pd = f.loc[f_train_idx], f.loc[f_val_idx], f.loc[f_test_idx]\n",
    "        l_train_pd, l_val_pd, l_test_pd = l.loc[l_train_idx], l.loc[l_val_idx], l.loc[l_test_idx]\n",
    "        t_train_pd, t_val_pd, t_test_pd = t.loc[t_train_idx], t.loc[t_val_idx], t.loc[t_test_idx]\n",
    "\n",
    "        if (is_type(f.index, pd.core.index.MultiIndex)):\n",
    "            f_train_np, f_val_np, f_test_np = map(pd_midx_to_arr, [f_train_pd.stack(), f_val_pd.stack(), f_test_pd.stack()])\n",
    "        else:\n",
    "            f_train_np, f_val_np, f_test_np = f_train_pd.values, f_val_pd.values, f_test_pd.values\n",
    "        l_train_np, l_val_np, l_test_np = l_train_pd.values, l_val_pd.values, l_test_pd.values\n",
    "        t_train_np, t_val_np, t_test_np = t_train_pd.values, t_val_pd.values, t_test_pd.values\n",
    "        \n",
    "        display (i)\n",
    "        display('f.shape: {}, l.shape:{}, t.shape:{}'.format(f_train_np.shape, l_train_np.shape, t_train_np.shape))\n",
    "        display('f:', f_train_np)"
   ]
  },
  {
   "cell_type": "code",
   "execution_count": 11,
   "metadata": {},
   "outputs": [
    {
     "name": "stderr",
     "output_type": "stream",
     "text": [
      "/home/kev/miniconda3/lib/python3.7/site-packages/pyarrow/pandas_compat.py:708: FutureWarning: .labels was deprecated in version 0.24.0. Use .codes instead.\n",
      "  labels = getattr(columns, 'labels', None) or [\n",
      "/home/kev/miniconda3/lib/python3.7/site-packages/pyarrow/pandas_compat.py:735: FutureWarning: the 'labels' keyword is deprecated, use 'codes' instead\n",
      "  return pd.MultiIndex(levels=new_levels, labels=labels, names=columns.names)\n",
      "/home/kev/miniconda3/lib/python3.7/site-packages/pyarrow/pandas_compat.py:752: FutureWarning: .labels was deprecated in version 0.24.0. Use .codes instead.\n",
      "  labels, = index.labels\n",
      "E0916 20:00:23.870556 139779581159232 common_util.py:2089] CRITICAL - time to load data: now\n"
     ]
    },
    {
     "data": {
      "text/plain": [
       "0"
      ]
     },
     "metadata": {},
     "output_type": "display_data"
    },
    {
     "data": {
      "text/plain": [
       "'f.shape: (1358, 5), l.shape:(1358,), t.shape:(1358,)'"
      ]
     },
     "metadata": {},
     "output_type": "display_data"
    },
    {
     "data": {
      "text/plain": [
       "'f:'"
      ]
     },
     "metadata": {},
     "output_type": "display_data"
    },
    {
     "data": {
      "text/plain": [
       "array([[ 902.99     ,  934.73     ,  899.35     ,  931.8      ,\n",
       "         919.8747875],\n",
       "       [ 929.17     ,  936.63     ,  919.53     ,  927.45     ,\n",
       "         928.0481125],\n",
       "       [ 931.17     ,  943.85     ,  927.28     ,  934.7      ,\n",
       "         934.7745   ],\n",
       "       ...,\n",
       "       [1888.19     , 1896.33     , 1885.39     , 1892.49     ,\n",
       "        1893.2469375],\n",
       "       [1893.32     , 1901.26     , 1893.32     , 1900.53     ,\n",
       "        1898.6895125],\n",
       "       [1902.01     , 1912.28     , 1902.01     , 1911.91     ,\n",
       "        1909.92945  ]])"
      ]
     },
     "metadata": {},
     "output_type": "display_data"
    },
    {
     "name": "stderr",
     "output_type": "stream",
     "text": [
      "E0916 20:00:23.909759 139779581159232 common_util.py:2089] CRITICAL - time to load data: now\n"
     ]
    },
    {
     "data": {
      "text/plain": [
       "1"
      ]
     },
     "metadata": {},
     "output_type": "display_data"
    },
    {
     "data": {
      "text/plain": [
       "'f.shape: (1358, 5), l.shape:(1358,), t.shape:(1358,)'"
      ]
     },
     "metadata": {},
     "output_type": "display_data"
    },
    {
     "data": {
      "text/plain": [
       "'f:'"
      ]
     },
     "metadata": {},
     "output_type": "display_data"
    },
    {
     "data": {
      "text/plain": [
       "array([[ 902.99     ,  934.73     ,  899.35     ,  931.8      ,\n",
       "         919.8747875],\n",
       "       [ 929.17     ,  936.63     ,  919.53     ,  927.45     ,\n",
       "         928.0481125],\n",
       "       [ 931.17     ,  943.85     ,  927.28     ,  934.7      ,\n",
       "         934.7745   ],\n",
       "       ...,\n",
       "       [1888.19     , 1896.33     , 1885.39     , 1892.49     ,\n",
       "        1893.2469375],\n",
       "       [1893.32     , 1901.26     , 1893.32     , 1900.53     ,\n",
       "        1898.6895125],\n",
       "       [1902.01     , 1912.28     , 1902.01     , 1911.91     ,\n",
       "        1909.92945  ]])"
      ]
     },
     "metadata": {},
     "output_type": "display_data"
    },
    {
     "name": "stderr",
     "output_type": "stream",
     "text": [
      "E0916 20:00:23.945448 139779581159232 common_util.py:2089] CRITICAL - time to load data: now\n"
     ]
    },
    {
     "data": {
      "text/plain": [
       "2"
      ]
     },
     "metadata": {},
     "output_type": "display_data"
    },
    {
     "data": {
      "text/plain": [
       "'f.shape: (1358, 5), l.shape:(1358,), t.shape:(1358,)'"
      ]
     },
     "metadata": {},
     "output_type": "display_data"
    },
    {
     "data": {
      "text/plain": [
       "'f:'"
      ]
     },
     "metadata": {},
     "output_type": "display_data"
    },
    {
     "data": {
      "text/plain": [
       "array([[ 902.99     ,  934.73     ,  899.35     ,  931.8      ,\n",
       "         919.8747875],\n",
       "       [ 929.17     ,  936.63     ,  919.53     ,  927.45     ,\n",
       "         928.0481125],\n",
       "       [ 931.17     ,  943.85     ,  927.28     ,  934.7      ,\n",
       "         934.7745   ],\n",
       "       ...,\n",
       "       [1888.19     , 1896.33     , 1885.39     , 1892.49     ,\n",
       "        1893.2469375],\n",
       "       [1893.32     , 1901.26     , 1893.32     , 1900.53     ,\n",
       "        1898.6895125],\n",
       "       [1902.01     , 1912.28     , 1902.01     , 1911.91     ,\n",
       "        1909.92945  ]])"
      ]
     },
     "metadata": {},
     "output_type": "display_data"
    },
    {
     "name": "stderr",
     "output_type": "stream",
     "text": [
      "E0916 20:00:23.987150 139779581159232 common_util.py:2089] CRITICAL - time to load data: now\n"
     ]
    },
    {
     "data": {
      "text/plain": [
       "3"
      ]
     },
     "metadata": {},
     "output_type": "display_data"
    },
    {
     "data": {
      "text/plain": [
       "'f.shape: (1358, 5), l.shape:(1358,), t.shape:(1358,)'"
      ]
     },
     "metadata": {},
     "output_type": "display_data"
    },
    {
     "data": {
      "text/plain": [
       "'f:'"
      ]
     },
     "metadata": {},
     "output_type": "display_data"
    },
    {
     "data": {
      "text/plain": [
       "array([[ 902.99     ,  934.73     ,  899.35     ,  931.8      ,\n",
       "         919.8747875],\n",
       "       [ 929.17     ,  936.63     ,  919.53     ,  927.45     ,\n",
       "         928.0481125],\n",
       "       [ 931.17     ,  943.85     ,  927.28     ,  934.7      ,\n",
       "         934.7745   ],\n",
       "       ...,\n",
       "       [1888.19     , 1896.33     , 1885.39     , 1892.49     ,\n",
       "        1893.2469375],\n",
       "       [1893.32     , 1901.26     , 1893.32     , 1900.53     ,\n",
       "        1898.6895125],\n",
       "       [1902.01     , 1912.28     , 1902.01     , 1911.91     ,\n",
       "        1909.92945  ]])"
      ]
     },
     "metadata": {},
     "output_type": "display_data"
    },
    {
     "name": "stderr",
     "output_type": "stream",
     "text": [
      "E0916 20:00:24.024776 139779581159232 common_util.py:2089] CRITICAL - time to load data: now\n"
     ]
    },
    {
     "data": {
      "text/plain": [
       "4"
      ]
     },
     "metadata": {},
     "output_type": "display_data"
    },
    {
     "data": {
      "text/plain": [
       "'f.shape: (1358, 5), l.shape:(1358,), t.shape:(1358,)'"
      ]
     },
     "metadata": {},
     "output_type": "display_data"
    },
    {
     "data": {
      "text/plain": [
       "'f:'"
      ]
     },
     "metadata": {},
     "output_type": "display_data"
    },
    {
     "data": {
      "text/plain": [
       "array([[39.58     , 39.82     , 36.88     , 39.19     , 38.054225 ],\n",
       "       [39.24     , 40.22     , 38.3      , 39.08     , 39.116175 ],\n",
       "       [38.06     , 39.33     , 37.34     , 38.56     , 38.4035875],\n",
       "       ...,\n",
       "       [11.93     , 12.09     , 11.68     , 12.03     , 11.844175 ],\n",
       "       [11.96     , 11.97     , 11.36     , 11.36     , 11.5871   ],\n",
       "       [11.69     , 11.84     , 11.5      , 11.51     , 11.627125 ]])"
      ]
     },
     "metadata": {},
     "output_type": "display_data"
    },
    {
     "name": "stderr",
     "output_type": "stream",
     "text": [
      "E0916 20:00:24.064764 139779581159232 common_util.py:2089] CRITICAL - time to load data: now\n"
     ]
    },
    {
     "data": {
      "text/plain": [
       "5"
      ]
     },
     "metadata": {},
     "output_type": "display_data"
    },
    {
     "data": {
      "text/plain": [
       "'f.shape: (1358, 5), l.shape:(1358,), t.shape:(1358,)'"
      ]
     },
     "metadata": {},
     "output_type": "display_data"
    },
    {
     "data": {
      "text/plain": [
       "'f:'"
      ]
     },
     "metadata": {},
     "output_type": "display_data"
    },
    {
     "data": {
      "text/plain": [
       "array([[39.58     , 39.82     , 36.88     , 39.19     , 38.054225 ],\n",
       "       [39.24     , 40.22     , 38.3      , 39.08     , 39.116175 ],\n",
       "       [38.06     , 39.33     , 37.34     , 38.56     , 38.4035875],\n",
       "       ...,\n",
       "       [11.93     , 12.09     , 11.68     , 12.03     , 11.844175 ],\n",
       "       [11.96     , 11.97     , 11.36     , 11.36     , 11.5871   ],\n",
       "       [11.69     , 11.84     , 11.5      , 11.51     , 11.627125 ]])"
      ]
     },
     "metadata": {},
     "output_type": "display_data"
    },
    {
     "name": "stderr",
     "output_type": "stream",
     "text": [
      "E0916 20:00:24.103831 139779581159232 common_util.py:2089] CRITICAL - time to load data: now\n"
     ]
    },
    {
     "data": {
      "text/plain": [
       "6"
      ]
     },
     "metadata": {},
     "output_type": "display_data"
    },
    {
     "data": {
      "text/plain": [
       "'f.shape: (1358, 5), l.shape:(1358,), t.shape:(1358,)'"
      ]
     },
     "metadata": {},
     "output_type": "display_data"
    },
    {
     "data": {
      "text/plain": [
       "'f:'"
      ]
     },
     "metadata": {},
     "output_type": "display_data"
    },
    {
     "data": {
      "text/plain": [
       "array([[39.58     , 39.82     , 36.88     , 39.19     , 38.054225 ],\n",
       "       [39.24     , 40.22     , 38.3      , 39.08     , 39.116175 ],\n",
       "       [38.06     , 39.33     , 37.34     , 38.56     , 38.4035875],\n",
       "       ...,\n",
       "       [11.93     , 12.09     , 11.68     , 12.03     , 11.844175 ],\n",
       "       [11.96     , 11.97     , 11.36     , 11.36     , 11.5871   ],\n",
       "       [11.69     , 11.84     , 11.5      , 11.51     , 11.627125 ]])"
      ]
     },
     "metadata": {},
     "output_type": "display_data"
    },
    {
     "name": "stderr",
     "output_type": "stream",
     "text": [
      "E0916 20:00:24.138414 139779581159232 common_util.py:2089] CRITICAL - time to load data: now\n"
     ]
    },
    {
     "data": {
      "text/plain": [
       "7"
      ]
     },
     "metadata": {},
     "output_type": "display_data"
    },
    {
     "data": {
      "text/plain": [
       "'f.shape: (1358, 5), l.shape:(1358,), t.shape:(1358,)'"
      ]
     },
     "metadata": {},
     "output_type": "display_data"
    },
    {
     "data": {
      "text/plain": [
       "'f:'"
      ]
     },
     "metadata": {},
     "output_type": "display_data"
    },
    {
     "data": {
      "text/plain": [
       "array([[39.58     , 39.82     , 36.88     , 39.19     , 38.054225 ],\n",
       "       [39.24     , 40.22     , 38.3      , 39.08     , 39.116175 ],\n",
       "       [38.06     , 39.33     , 37.34     , 38.56     , 38.4035875],\n",
       "       ...,\n",
       "       [11.93     , 12.09     , 11.68     , 12.03     , 11.844175 ],\n",
       "       [11.96     , 11.97     , 11.36     , 11.36     , 11.5871   ],\n",
       "       [11.69     , 11.84     , 11.5      , 11.51     , 11.627125 ]])"
      ]
     },
     "metadata": {},
     "output_type": "display_data"
    },
    {
     "name": "stderr",
     "output_type": "stream",
     "text": [
      "E0916 20:00:24.169864 139779581159232 common_util.py:2089] CRITICAL - time to load data: now\n"
     ]
    },
    {
     "data": {
      "text/plain": [
       "8"
      ]
     },
     "metadata": {},
     "output_type": "display_data"
    },
    {
     "data": {
      "text/plain": [
       "'f.shape: (1358, 5), l.shape:(1358,), t.shape:(1358,)'"
      ]
     },
     "metadata": {},
     "output_type": "display_data"
    },
    {
     "data": {
      "text/plain": [
       "'f:'"
      ]
     },
     "metadata": {},
     "output_type": "display_data"
    },
    {
     "data": {
      "text/plain": [
       "array([[ 36828.7       ,  63420.7       ,  36828.7       ,\n",
       "         63420.7       ,  48454.16666667],\n",
       "       [ 31826.4       ,  96613.6       ,  31826.4       ,\n",
       "         96613.6       ,  64301.03333333],\n",
       "       [130119.6       , 130119.6       , 123524.2       ,\n",
       "        126852.6       , 126132.86666667],\n",
       "       ...,\n",
       "       [270887.1       , 270887.1       , 251627.6       ,\n",
       "        255129.8       , 258412.1       ],\n",
       "       [236790.9       , 236790.9       , 194949.        ,\n",
       "        194949.        , 218447.32222222],\n",
       "       [109138.8       , 192726.2       , 109138.8       ,\n",
       "        192726.2       , 154209.02222222]])"
      ]
     },
     "metadata": {},
     "output_type": "display_data"
    },
    {
     "name": "stderr",
     "output_type": "stream",
     "text": [
      "E0916 20:00:24.202757 139779581159232 common_util.py:2089] CRITICAL - time to load data: now\n"
     ]
    },
    {
     "data": {
      "text/plain": [
       "9"
      ]
     },
     "metadata": {},
     "output_type": "display_data"
    },
    {
     "data": {
      "text/plain": [
       "'f.shape: (1358, 5), l.shape:(1358,), t.shape:(1358,)'"
      ]
     },
     "metadata": {},
     "output_type": "display_data"
    },
    {
     "data": {
      "text/plain": [
       "'f:'"
      ]
     },
     "metadata": {},
     "output_type": "display_data"
    },
    {
     "data": {
      "text/plain": [
       "array([[ 36828.7       ,  63420.7       ,  36828.7       ,\n",
       "         63420.7       ,  48454.16666667],\n",
       "       [ 31826.4       ,  96613.6       ,  31826.4       ,\n",
       "         96613.6       ,  64301.03333333],\n",
       "       [130119.6       , 130119.6       , 123524.2       ,\n",
       "        126852.6       , 126132.86666667],\n",
       "       ...,\n",
       "       [270887.1       , 270887.1       , 251627.6       ,\n",
       "        255129.8       , 258412.1       ],\n",
       "       [236790.9       , 236790.9       , 194949.        ,\n",
       "        194949.        , 218447.32222222],\n",
       "       [109138.8       , 192726.2       , 109138.8       ,\n",
       "        192726.2       , 154209.02222222]])"
      ]
     },
     "metadata": {},
     "output_type": "display_data"
    },
    {
     "name": "stderr",
     "output_type": "stream",
     "text": [
      "E0916 20:00:24.238744 139779581159232 common_util.py:2089] CRITICAL - time to load data: now\n"
     ]
    },
    {
     "data": {
      "text/plain": [
       "10"
      ]
     },
     "metadata": {},
     "output_type": "display_data"
    },
    {
     "data": {
      "text/plain": [
       "'f.shape: (1358, 5), l.shape:(1358,), t.shape:(1358,)'"
      ]
     },
     "metadata": {},
     "output_type": "display_data"
    },
    {
     "data": {
      "text/plain": [
       "'f:'"
      ]
     },
     "metadata": {},
     "output_type": "display_data"
    },
    {
     "data": {
      "text/plain": [
       "array([[ 36828.7       ,  63420.7       ,  36828.7       ,\n",
       "         63420.7       ,  48454.16666667],\n",
       "       [ 31826.4       ,  96613.6       ,  31826.4       ,\n",
       "         96613.6       ,  64301.03333333],\n",
       "       [130119.6       , 130119.6       , 123524.2       ,\n",
       "        126852.6       , 126132.86666667],\n",
       "       ...,\n",
       "       [270887.1       , 270887.1       , 251627.6       ,\n",
       "        255129.8       , 258412.1       ],\n",
       "       [236790.9       , 236790.9       , 194949.        ,\n",
       "        194949.        , 218447.32222222],\n",
       "       [109138.8       , 192726.2       , 109138.8       ,\n",
       "        192726.2       , 154209.02222222]])"
      ]
     },
     "metadata": {},
     "output_type": "display_data"
    },
    {
     "name": "stderr",
     "output_type": "stream",
     "text": [
      "E0916 20:00:24.274346 139779581159232 common_util.py:2089] CRITICAL - time to load data: now\n"
     ]
    },
    {
     "data": {
      "text/plain": [
       "11"
      ]
     },
     "metadata": {},
     "output_type": "display_data"
    },
    {
     "data": {
      "text/plain": [
       "'f.shape: (1358, 5), l.shape:(1358,), t.shape:(1358,)'"
      ]
     },
     "metadata": {},
     "output_type": "display_data"
    },
    {
     "data": {
      "text/plain": [
       "'f:'"
      ]
     },
     "metadata": {},
     "output_type": "display_data"
    },
    {
     "data": {
      "text/plain": [
       "array([[ 36828.7       ,  63420.7       ,  36828.7       ,\n",
       "         63420.7       ,  48454.16666667],\n",
       "       [ 31826.4       ,  96613.6       ,  31826.4       ,\n",
       "         96613.6       ,  64301.03333333],\n",
       "       [130119.6       , 130119.6       , 123524.2       ,\n",
       "        126852.6       , 126132.86666667],\n",
       "       ...,\n",
       "       [270887.1       , 270887.1       , 251627.6       ,\n",
       "        255129.8       , 258412.1       ],\n",
       "       [236790.9       , 236790.9       , 194949.        ,\n",
       "        194949.        , 218447.32222222],\n",
       "       [109138.8       , 192726.2       , 109138.8       ,\n",
       "        192726.2       , 154209.02222222]])"
      ]
     },
     "metadata": {},
     "output_type": "display_data"
    },
    {
     "name": "stderr",
     "output_type": "stream",
     "text": [
      "E0916 20:00:24.307050 139779581159232 common_util.py:2089] CRITICAL - time to load data: now\n"
     ]
    },
    {
     "data": {
      "text/plain": [
       "12"
      ]
     },
     "metadata": {},
     "output_type": "display_data"
    },
    {
     "data": {
      "text/plain": [
       "'f.shape: (1358, 5), l.shape:(1358,), t.shape:(1358,)'"
      ]
     },
     "metadata": {},
     "output_type": "display_data"
    },
    {
     "data": {
      "text/plain": [
       "'f:'"
      ]
     },
     "metadata": {},
     "output_type": "display_data"
    },
    {
     "data": {
      "text/plain": [
       "array([[1643.9       , 3888.1       , 1643.9       , 3888.1       ,\n",
       "        2763.44444444],\n",
       "       [1890.9       , 4532.8       , 1890.9       , 4532.8       ,\n",
       "        3028.6       ],\n",
       "       [6733.        , 7128.        , 6612.4       , 6739.6       ,\n",
       "        6803.13333333],\n",
       "       ...,\n",
       "       [5922.2       , 6829.8       , 5922.2       , 6829.8       ,\n",
       "        6365.9       ],\n",
       "       [6382.9       , 6382.9       , 5045.4       , 5045.4       ,\n",
       "        5899.55555556],\n",
       "       [1241.5       , 3331.        , 1241.5       , 3331.        ,\n",
       "        2236.34444444]])"
      ]
     },
     "metadata": {},
     "output_type": "display_data"
    },
    {
     "name": "stderr",
     "output_type": "stream",
     "text": [
      "E0916 20:00:24.340414 139779581159232 common_util.py:2089] CRITICAL - time to load data: now\n"
     ]
    },
    {
     "data": {
      "text/plain": [
       "13"
      ]
     },
     "metadata": {},
     "output_type": "display_data"
    },
    {
     "data": {
      "text/plain": [
       "'f.shape: (1358, 5), l.shape:(1358,), t.shape:(1358,)'"
      ]
     },
     "metadata": {},
     "output_type": "display_data"
    },
    {
     "data": {
      "text/plain": [
       "'f:'"
      ]
     },
     "metadata": {},
     "output_type": "display_data"
    },
    {
     "data": {
      "text/plain": [
       "array([[1643.9       , 3888.1       , 1643.9       , 3888.1       ,\n",
       "        2763.44444444],\n",
       "       [1890.9       , 4532.8       , 1890.9       , 4532.8       ,\n",
       "        3028.6       ],\n",
       "       [6733.        , 7128.        , 6612.4       , 6739.6       ,\n",
       "        6803.13333333],\n",
       "       ...,\n",
       "       [5922.2       , 6829.8       , 5922.2       , 6829.8       ,\n",
       "        6365.9       ],\n",
       "       [6382.9       , 6382.9       , 5045.4       , 5045.4       ,\n",
       "        5899.55555556],\n",
       "       [1241.5       , 3331.        , 1241.5       , 3331.        ,\n",
       "        2236.34444444]])"
      ]
     },
     "metadata": {},
     "output_type": "display_data"
    },
    {
     "name": "stderr",
     "output_type": "stream",
     "text": [
      "E0916 20:00:24.373430 139779581159232 common_util.py:2089] CRITICAL - time to load data: now\n"
     ]
    },
    {
     "data": {
      "text/plain": [
       "14"
      ]
     },
     "metadata": {},
     "output_type": "display_data"
    },
    {
     "data": {
      "text/plain": [
       "'f.shape: (1358, 5), l.shape:(1358,), t.shape:(1358,)'"
      ]
     },
     "metadata": {},
     "output_type": "display_data"
    },
    {
     "data": {
      "text/plain": [
       "'f:'"
      ]
     },
     "metadata": {},
     "output_type": "display_data"
    },
    {
     "data": {
      "text/plain": [
       "array([[1643.9       , 3888.1       , 1643.9       , 3888.1       ,\n",
       "        2763.44444444],\n",
       "       [1890.9       , 4532.8       , 1890.9       , 4532.8       ,\n",
       "        3028.6       ],\n",
       "       [6733.        , 7128.        , 6612.4       , 6739.6       ,\n",
       "        6803.13333333],\n",
       "       ...,\n",
       "       [5922.2       , 6829.8       , 5922.2       , 6829.8       ,\n",
       "        6365.9       ],\n",
       "       [6382.9       , 6382.9       , 5045.4       , 5045.4       ,\n",
       "        5899.55555556],\n",
       "       [1241.5       , 3331.        , 1241.5       , 3331.        ,\n",
       "        2236.34444444]])"
      ]
     },
     "metadata": {},
     "output_type": "display_data"
    },
    {
     "name": "stderr",
     "output_type": "stream",
     "text": [
      "E0916 20:00:24.406672 139779581159232 common_util.py:2089] CRITICAL - time to load data: now\n"
     ]
    },
    {
     "data": {
      "text/plain": [
       "15"
      ]
     },
     "metadata": {},
     "output_type": "display_data"
    },
    {
     "data": {
      "text/plain": [
       "'f.shape: (1358, 5), l.shape:(1358,), t.shape:(1358,)'"
      ]
     },
     "metadata": {},
     "output_type": "display_data"
    },
    {
     "data": {
      "text/plain": [
       "'f:'"
      ]
     },
     "metadata": {},
     "output_type": "display_data"
    },
    {
     "data": {
      "text/plain": [
       "array([[1643.9       , 3888.1       , 1643.9       , 3888.1       ,\n",
       "        2763.44444444],\n",
       "       [1890.9       , 4532.8       , 1890.9       , 4532.8       ,\n",
       "        3028.6       ],\n",
       "       [6733.        , 7128.        , 6612.4       , 6739.6       ,\n",
       "        6803.13333333],\n",
       "       ...,\n",
       "       [5922.2       , 6829.8       , 5922.2       , 6829.8       ,\n",
       "        6365.9       ],\n",
       "       [6382.9       , 6382.9       , 5045.4       , 5045.4       ,\n",
       "        5899.55555556],\n",
       "       [1241.5       , 3331.        , 1241.5       , 3331.        ,\n",
       "        2236.34444444]])"
      ]
     },
     "metadata": {},
     "output_type": "display_data"
    },
    {
     "name": "stderr",
     "output_type": "stream",
     "text": [
      "E0916 20:00:24.438761 139779581159232 common_util.py:2089] CRITICAL - time to load data: now\n"
     ]
    },
    {
     "data": {
      "text/plain": [
       "16"
      ]
     },
     "metadata": {},
     "output_type": "display_data"
    },
    {
     "data": {
      "text/plain": [
       "'f.shape: (1358, 5), l.shape:(1358,), t.shape:(1358,)'"
      ]
     },
     "metadata": {},
     "output_type": "display_data"
    },
    {
     "data": {
      "text/plain": [
       "'f:'"
      ]
     },
     "metadata": {},
     "output_type": "display_data"
    },
    {
     "data": {
      "text/plain": [
       "array([[  753.5       ,  1438.5       ,   753.5       ,  1438.5       ,\n",
       "         1086.27777778],\n",
       "       [ 1831.        ,  3118.5       ,  1831.        ,  3118.5       ,\n",
       "         2563.05555556],\n",
       "       [ 2873.5       ,  3127.5       ,  2532.        ,  3127.5       ,\n",
       "         2804.27777778],\n",
       "       ...,\n",
       "       [10536.        , 10536.        ,  6644.5       ,  6644.5       ,\n",
       "         8859.94444444],\n",
       "       [ 3355.5       ,  3355.5       ,  2535.5       ,  2535.5       ,\n",
       "         3064.61111111],\n",
       "       [  908.5       ,  1653.        ,   908.5       ,  1653.        ,\n",
       "         1228.        ]])"
      ]
     },
     "metadata": {},
     "output_type": "display_data"
    },
    {
     "name": "stderr",
     "output_type": "stream",
     "text": [
      "E0916 20:00:24.481171 139779581159232 common_util.py:2089] CRITICAL - time to load data: now\n"
     ]
    },
    {
     "data": {
      "text/plain": [
       "17"
      ]
     },
     "metadata": {},
     "output_type": "display_data"
    },
    {
     "data": {
      "text/plain": [
       "'f.shape: (1358, 5), l.shape:(1358,), t.shape:(1358,)'"
      ]
     },
     "metadata": {},
     "output_type": "display_data"
    },
    {
     "data": {
      "text/plain": [
       "'f:'"
      ]
     },
     "metadata": {},
     "output_type": "display_data"
    },
    {
     "data": {
      "text/plain": [
       "array([[  753.5       ,  1438.5       ,   753.5       ,  1438.5       ,\n",
       "         1086.27777778],\n",
       "       [ 1831.        ,  3118.5       ,  1831.        ,  3118.5       ,\n",
       "         2563.05555556],\n",
       "       [ 2873.5       ,  3127.5       ,  2532.        ,  3127.5       ,\n",
       "         2804.27777778],\n",
       "       ...,\n",
       "       [10536.        , 10536.        ,  6644.5       ,  6644.5       ,\n",
       "         8859.94444444],\n",
       "       [ 3355.5       ,  3355.5       ,  2535.5       ,  2535.5       ,\n",
       "         3064.61111111],\n",
       "       [  908.5       ,  1653.        ,   908.5       ,  1653.        ,\n",
       "         1228.        ]])"
      ]
     },
     "metadata": {},
     "output_type": "display_data"
    },
    {
     "name": "stderr",
     "output_type": "stream",
     "text": [
      "E0916 20:00:24.525109 139779581159232 common_util.py:2089] CRITICAL - time to load data: now\n"
     ]
    },
    {
     "data": {
      "text/plain": [
       "18"
      ]
     },
     "metadata": {},
     "output_type": "display_data"
    },
    {
     "data": {
      "text/plain": [
       "'f.shape: (1358, 5), l.shape:(1358,), t.shape:(1358,)'"
      ]
     },
     "metadata": {},
     "output_type": "display_data"
    },
    {
     "data": {
      "text/plain": [
       "'f:'"
      ]
     },
     "metadata": {},
     "output_type": "display_data"
    },
    {
     "data": {
      "text/plain": [
       "array([[  753.5       ,  1438.5       ,   753.5       ,  1438.5       ,\n",
       "         1086.27777778],\n",
       "       [ 1831.        ,  3118.5       ,  1831.        ,  3118.5       ,\n",
       "         2563.05555556],\n",
       "       [ 2873.5       ,  3127.5       ,  2532.        ,  3127.5       ,\n",
       "         2804.27777778],\n",
       "       ...,\n",
       "       [10536.        , 10536.        ,  6644.5       ,  6644.5       ,\n",
       "         8859.94444444],\n",
       "       [ 3355.5       ,  3355.5       ,  2535.5       ,  2535.5       ,\n",
       "         3064.61111111],\n",
       "       [  908.5       ,  1653.        ,   908.5       ,  1653.        ,\n",
       "         1228.        ]])"
      ]
     },
     "metadata": {},
     "output_type": "display_data"
    },
    {
     "name": "stderr",
     "output_type": "stream",
     "text": [
      "E0916 20:00:24.570456 139779581159232 common_util.py:2089] CRITICAL - time to load data: now\n"
     ]
    },
    {
     "data": {
      "text/plain": [
       "19"
      ]
     },
     "metadata": {},
     "output_type": "display_data"
    },
    {
     "data": {
      "text/plain": [
       "'f.shape: (1358, 5), l.shape:(1358,), t.shape:(1358,)'"
      ]
     },
     "metadata": {},
     "output_type": "display_data"
    },
    {
     "data": {
      "text/plain": [
       "'f:'"
      ]
     },
     "metadata": {},
     "output_type": "display_data"
    },
    {
     "data": {
      "text/plain": [
       "array([[  753.5       ,  1438.5       ,   753.5       ,  1438.5       ,\n",
       "         1086.27777778],\n",
       "       [ 1831.        ,  3118.5       ,  1831.        ,  3118.5       ,\n",
       "         2563.05555556],\n",
       "       [ 2873.5       ,  3127.5       ,  2532.        ,  3127.5       ,\n",
       "         2804.27777778],\n",
       "       ...,\n",
       "       [10536.        , 10536.        ,  6644.5       ,  6644.5       ,\n",
       "         8859.94444444],\n",
       "       [ 3355.5       ,  3355.5       ,  2535.5       ,  2535.5       ,\n",
       "         3064.61111111],\n",
       "       [  908.5       ,  1653.        ,   908.5       ,  1653.        ,\n",
       "         1228.        ]])"
      ]
     },
     "metadata": {},
     "output_type": "display_data"
    },
    {
     "name": "stderr",
     "output_type": "stream",
     "text": [
      "E0916 20:00:24.615042 139779581159232 common_util.py:2089] CRITICAL - time to load data: now\n"
     ]
    },
    {
     "data": {
      "text/plain": [
       "20"
      ]
     },
     "metadata": {},
     "output_type": "display_data"
    },
    {
     "data": {
      "text/plain": [
       "'f.shape: (1358, 5), l.shape:(1358,), t.shape:(1358,)'"
      ]
     },
     "metadata": {},
     "output_type": "display_data"
    },
    {
     "data": {
      "text/plain": [
       "'f:'"
      ]
     },
     "metadata": {},
     "output_type": "display_data"
    },
    {
     "data": {
      "text/plain": [
       "array([[2868.4       , 7877.        , 2868.4       , 7877.        ,\n",
       "        5152.74444444],\n",
       "       [4000.7       , 8370.9       , 4000.7       , 8370.9       ,\n",
       "        6031.42222222],\n",
       "       [8320.6       , 8320.6       , 6878.3       , 6878.3       ,\n",
       "        7633.57777778],\n",
       "       ...,\n",
       "       [7282.1       , 7640.8       , 7282.1       , 7397.        ,\n",
       "        7473.8       ],\n",
       "       [6806.6       , 6876.9       , 6278.1       , 6365.2       ,\n",
       "        6618.37777778],\n",
       "       [1515.6       , 5083.5       , 1515.6       , 5083.5       ,\n",
       "        3331.84444444]])"
      ]
     },
     "metadata": {},
     "output_type": "display_data"
    },
    {
     "name": "stderr",
     "output_type": "stream",
     "text": [
      "E0916 20:00:24.655169 139779581159232 common_util.py:2089] CRITICAL - time to load data: now\n"
     ]
    },
    {
     "data": {
      "text/plain": [
       "21"
      ]
     },
     "metadata": {},
     "output_type": "display_data"
    },
    {
     "data": {
      "text/plain": [
       "'f.shape: (1358, 5), l.shape:(1358,), t.shape:(1358,)'"
      ]
     },
     "metadata": {},
     "output_type": "display_data"
    },
    {
     "data": {
      "text/plain": [
       "'f:'"
      ]
     },
     "metadata": {},
     "output_type": "display_data"
    },
    {
     "data": {
      "text/plain": [
       "array([[2868.4       , 7877.        , 2868.4       , 7877.        ,\n",
       "        5152.74444444],\n",
       "       [4000.7       , 8370.9       , 4000.7       , 8370.9       ,\n",
       "        6031.42222222],\n",
       "       [8320.6       , 8320.6       , 6878.3       , 6878.3       ,\n",
       "        7633.57777778],\n",
       "       ...,\n",
       "       [7282.1       , 7640.8       , 7282.1       , 7397.        ,\n",
       "        7473.8       ],\n",
       "       [6806.6       , 6876.9       , 6278.1       , 6365.2       ,\n",
       "        6618.37777778],\n",
       "       [1515.6       , 5083.5       , 1515.6       , 5083.5       ,\n",
       "        3331.84444444]])"
      ]
     },
     "metadata": {},
     "output_type": "display_data"
    },
    {
     "name": "stderr",
     "output_type": "stream",
     "text": [
      "E0916 20:00:24.689778 139779581159232 common_util.py:2089] CRITICAL - time to load data: now\n"
     ]
    },
    {
     "data": {
      "text/plain": [
       "22"
      ]
     },
     "metadata": {},
     "output_type": "display_data"
    },
    {
     "data": {
      "text/plain": [
       "'f.shape: (1358, 5), l.shape:(1358,), t.shape:(1358,)'"
      ]
     },
     "metadata": {},
     "output_type": "display_data"
    },
    {
     "data": {
      "text/plain": [
       "'f:'"
      ]
     },
     "metadata": {},
     "output_type": "display_data"
    },
    {
     "data": {
      "text/plain": [
       "array([[2868.4       , 7877.        , 2868.4       , 7877.        ,\n",
       "        5152.74444444],\n",
       "       [4000.7       , 8370.9       , 4000.7       , 8370.9       ,\n",
       "        6031.42222222],\n",
       "       [8320.6       , 8320.6       , 6878.3       , 6878.3       ,\n",
       "        7633.57777778],\n",
       "       ...,\n",
       "       [7282.1       , 7640.8       , 7282.1       , 7397.        ,\n",
       "        7473.8       ],\n",
       "       [6806.6       , 6876.9       , 6278.1       , 6365.2       ,\n",
       "        6618.37777778],\n",
       "       [1515.6       , 5083.5       , 1515.6       , 5083.5       ,\n",
       "        3331.84444444]])"
      ]
     },
     "metadata": {},
     "output_type": "display_data"
    },
    {
     "name": "stderr",
     "output_type": "stream",
     "text": [
      "E0916 20:00:24.723070 139779581159232 common_util.py:2089] CRITICAL - time to load data: now\n"
     ]
    },
    {
     "data": {
      "text/plain": [
       "23"
      ]
     },
     "metadata": {},
     "output_type": "display_data"
    },
    {
     "data": {
      "text/plain": [
       "'f.shape: (1358, 5), l.shape:(1358,), t.shape:(1358,)'"
      ]
     },
     "metadata": {},
     "output_type": "display_data"
    },
    {
     "data": {
      "text/plain": [
       "'f:'"
      ]
     },
     "metadata": {},
     "output_type": "display_data"
    },
    {
     "data": {
      "text/plain": [
       "array([[2868.4       , 7877.        , 2868.4       , 7877.        ,\n",
       "        5152.74444444],\n",
       "       [4000.7       , 8370.9       , 4000.7       , 8370.9       ,\n",
       "        6031.42222222],\n",
       "       [8320.6       , 8320.6       , 6878.3       , 6878.3       ,\n",
       "        7633.57777778],\n",
       "       ...,\n",
       "       [7282.1       , 7640.8       , 7282.1       , 7397.        ,\n",
       "        7473.8       ],\n",
       "       [6806.6       , 6876.9       , 6278.1       , 6365.2       ,\n",
       "        6618.37777778],\n",
       "       [1515.6       , 5083.5       , 1515.6       , 5083.5       ,\n",
       "        3331.84444444]])"
      ]
     },
     "metadata": {},
     "output_type": "display_data"
    },
    {
     "name": "stderr",
     "output_type": "stream",
     "text": [
      "E0916 20:00:24.808615 139779581159232 common_util.py:2089] CRITICAL - time to load data: now\n"
     ]
    },
    {
     "data": {
      "text/plain": [
       "24"
      ]
     },
     "metadata": {},
     "output_type": "display_data"
    },
    {
     "data": {
      "text/plain": [
       "'f.shape: (1358, 5), l.shape:(1358,), t.shape:(1358,)'"
      ]
     },
     "metadata": {},
     "output_type": "display_data"
    },
    {
     "data": {
      "text/plain": [
       "'f:'"
      ]
     },
     "metadata": {},
     "output_type": "display_data"
    },
    {
     "data": {
      "text/plain": [
       "array([[ 37199.8       ,  68609.9       ,  37199.8       ,\n",
       "         68609.9       ,  51299.16666667],\n",
       "       [ 52081.5       ,  70766.8       ,  52081.5       ,\n",
       "         70766.8       ,  61893.22222222],\n",
       "       [ 65532.1       ,  72883.6       ,  65531.5       ,\n",
       "         72883.6       ,  68597.01111111],\n",
       "       ...,\n",
       "       [137805.6       , 138244.5       , 133221.2       ,\n",
       "        138244.5       , 136185.4       ],\n",
       "       [131591.6       , 131591.6       , 114123.5       ,\n",
       "        114123.5       , 122806.07777778],\n",
       "       [ 56714.3       , 106264.6       ,  56714.3       ,\n",
       "        106264.6       ,  80202.81111111]])"
      ]
     },
     "metadata": {},
     "output_type": "display_data"
    },
    {
     "name": "stderr",
     "output_type": "stream",
     "text": [
      "E0916 20:00:24.841027 139779581159232 common_util.py:2089] CRITICAL - time to load data: now\n"
     ]
    },
    {
     "data": {
      "text/plain": [
       "25"
      ]
     },
     "metadata": {},
     "output_type": "display_data"
    },
    {
     "data": {
      "text/plain": [
       "'f.shape: (1358, 5), l.shape:(1358,), t.shape:(1358,)'"
      ]
     },
     "metadata": {},
     "output_type": "display_data"
    },
    {
     "data": {
      "text/plain": [
       "'f:'"
      ]
     },
     "metadata": {},
     "output_type": "display_data"
    },
    {
     "data": {
      "text/plain": [
       "array([[ 37199.8       ,  68609.9       ,  37199.8       ,\n",
       "         68609.9       ,  51299.16666667],\n",
       "       [ 52081.5       ,  70766.8       ,  52081.5       ,\n",
       "         70766.8       ,  61893.22222222],\n",
       "       [ 65532.1       ,  72883.6       ,  65531.5       ,\n",
       "         72883.6       ,  68597.01111111],\n",
       "       ...,\n",
       "       [137805.6       , 138244.5       , 133221.2       ,\n",
       "        138244.5       , 136185.4       ],\n",
       "       [131591.6       , 131591.6       , 114123.5       ,\n",
       "        114123.5       , 122806.07777778],\n",
       "       [ 56714.3       , 106264.6       ,  56714.3       ,\n",
       "        106264.6       ,  80202.81111111]])"
      ]
     },
     "metadata": {},
     "output_type": "display_data"
    },
    {
     "name": "stderr",
     "output_type": "stream",
     "text": [
      "E0916 20:00:24.873808 139779581159232 common_util.py:2089] CRITICAL - time to load data: now\n"
     ]
    },
    {
     "data": {
      "text/plain": [
       "26"
      ]
     },
     "metadata": {},
     "output_type": "display_data"
    },
    {
     "data": {
      "text/plain": [
       "'f.shape: (1358, 5), l.shape:(1358,), t.shape:(1358,)'"
      ]
     },
     "metadata": {},
     "output_type": "display_data"
    },
    {
     "data": {
      "text/plain": [
       "'f:'"
      ]
     },
     "metadata": {},
     "output_type": "display_data"
    },
    {
     "data": {
      "text/plain": [
       "array([[ 37199.8       ,  68609.9       ,  37199.8       ,\n",
       "         68609.9       ,  51299.16666667],\n",
       "       [ 52081.5       ,  70766.8       ,  52081.5       ,\n",
       "         70766.8       ,  61893.22222222],\n",
       "       [ 65532.1       ,  72883.6       ,  65531.5       ,\n",
       "         72883.6       ,  68597.01111111],\n",
       "       ...,\n",
       "       [137805.6       , 138244.5       , 133221.2       ,\n",
       "        138244.5       , 136185.4       ],\n",
       "       [131591.6       , 131591.6       , 114123.5       ,\n",
       "        114123.5       , 122806.07777778],\n",
       "       [ 56714.3       , 106264.6       ,  56714.3       ,\n",
       "        106264.6       ,  80202.81111111]])"
      ]
     },
     "metadata": {},
     "output_type": "display_data"
    },
    {
     "name": "stderr",
     "output_type": "stream",
     "text": [
      "E0916 20:00:24.905594 139779581159232 common_util.py:2089] CRITICAL - time to load data: now\n"
     ]
    },
    {
     "data": {
      "text/plain": [
       "27"
      ]
     },
     "metadata": {},
     "output_type": "display_data"
    },
    {
     "data": {
      "text/plain": [
       "'f.shape: (1358, 5), l.shape:(1358,), t.shape:(1358,)'"
      ]
     },
     "metadata": {},
     "output_type": "display_data"
    },
    {
     "data": {
      "text/plain": [
       "'f:'"
      ]
     },
     "metadata": {},
     "output_type": "display_data"
    },
    {
     "data": {
      "text/plain": [
       "array([[ 37199.8       ,  68609.9       ,  37199.8       ,\n",
       "         68609.9       ,  51299.16666667],\n",
       "       [ 52081.5       ,  70766.8       ,  52081.5       ,\n",
       "         70766.8       ,  61893.22222222],\n",
       "       [ 65532.1       ,  72883.6       ,  65531.5       ,\n",
       "         72883.6       ,  68597.01111111],\n",
       "       ...,\n",
       "       [137805.6       , 138244.5       , 133221.2       ,\n",
       "        138244.5       , 136185.4       ],\n",
       "       [131591.6       , 131591.6       , 114123.5       ,\n",
       "        114123.5       , 122806.07777778],\n",
       "       [ 56714.3       , 106264.6       ,  56714.3       ,\n",
       "        106264.6       ,  80202.81111111]])"
      ]
     },
     "metadata": {},
     "output_type": "display_data"
    },
    {
     "name": "stderr",
     "output_type": "stream",
     "text": [
      "E0916 20:00:24.939907 139779581159232 common_util.py:2089] CRITICAL - time to load data: now\n"
     ]
    },
    {
     "data": {
      "text/plain": [
       "28"
      ]
     },
     "metadata": {},
     "output_type": "display_data"
    },
    {
     "data": {
      "text/plain": [
       "'f.shape: (1358, 5), l.shape:(1358,), t.shape:(1358,)'"
      ]
     },
     "metadata": {},
     "output_type": "display_data"
    },
    {
     "data": {
      "text/plain": [
       "'f:'"
      ]
     },
     "metadata": {},
     "output_type": "display_data"
    },
    {
     "data": {
      "text/plain": [
       "array([[ 300.2       ,  353.7       ,  288.2       ,  353.7       ,\n",
       "         312.25555556],\n",
       "       [ 340.5       ,  760.5       ,  340.5       ,  760.5       ,\n",
       "         550.        ],\n",
       "       [ 820.5       ,  820.5       ,  555.7       ,  555.7       ,\n",
       "         689.58888889],\n",
       "       ...,\n",
       "       [1147.5       , 1427.2       , 1142.3       , 1291.2       ,\n",
       "        1267.46666667],\n",
       "       [1470.8       , 1470.8       , 1102.6       , 1183.3       ,\n",
       "        1263.5       ],\n",
       "       [ 691.4       ,  899.8       ,  691.4       ,  899.8       ,\n",
       "         833.72222222]])"
      ]
     },
     "metadata": {},
     "output_type": "display_data"
    },
    {
     "name": "stderr",
     "output_type": "stream",
     "text": [
      "E0916 20:00:24.972163 139779581159232 common_util.py:2089] CRITICAL - time to load data: now\n"
     ]
    },
    {
     "data": {
      "text/plain": [
       "29"
      ]
     },
     "metadata": {},
     "output_type": "display_data"
    },
    {
     "data": {
      "text/plain": [
       "'f.shape: (1358, 5), l.shape:(1358,), t.shape:(1358,)'"
      ]
     },
     "metadata": {},
     "output_type": "display_data"
    },
    {
     "data": {
      "text/plain": [
       "'f:'"
      ]
     },
     "metadata": {},
     "output_type": "display_data"
    },
    {
     "data": {
      "text/plain": [
       "array([[ 300.2       ,  353.7       ,  288.2       ,  353.7       ,\n",
       "         312.25555556],\n",
       "       [ 340.5       ,  760.5       ,  340.5       ,  760.5       ,\n",
       "         550.        ],\n",
       "       [ 820.5       ,  820.5       ,  555.7       ,  555.7       ,\n",
       "         689.58888889],\n",
       "       ...,\n",
       "       [1147.5       , 1427.2       , 1142.3       , 1291.2       ,\n",
       "        1267.46666667],\n",
       "       [1470.8       , 1470.8       , 1102.6       , 1183.3       ,\n",
       "        1263.5       ],\n",
       "       [ 691.4       ,  899.8       ,  691.4       ,  899.8       ,\n",
       "         833.72222222]])"
      ]
     },
     "metadata": {},
     "output_type": "display_data"
    },
    {
     "name": "stderr",
     "output_type": "stream",
     "text": [
      "E0916 20:00:25.004990 139779581159232 common_util.py:2089] CRITICAL - time to load data: now\n"
     ]
    },
    {
     "data": {
      "text/plain": [
       "30"
      ]
     },
     "metadata": {},
     "output_type": "display_data"
    },
    {
     "data": {
      "text/plain": [
       "'f.shape: (1358, 5), l.shape:(1358,), t.shape:(1358,)'"
      ]
     },
     "metadata": {},
     "output_type": "display_data"
    },
    {
     "data": {
      "text/plain": [
       "'f:'"
      ]
     },
     "metadata": {},
     "output_type": "display_data"
    },
    {
     "data": {
      "text/plain": [
       "array([[ 300.2       ,  353.7       ,  288.2       ,  353.7       ,\n",
       "         312.25555556],\n",
       "       [ 340.5       ,  760.5       ,  340.5       ,  760.5       ,\n",
       "         550.        ],\n",
       "       [ 820.5       ,  820.5       ,  555.7       ,  555.7       ,\n",
       "         689.58888889],\n",
       "       ...,\n",
       "       [1147.5       , 1427.2       , 1142.3       , 1291.2       ,\n",
       "        1267.46666667],\n",
       "       [1470.8       , 1470.8       , 1102.6       , 1183.3       ,\n",
       "        1263.5       ],\n",
       "       [ 691.4       ,  899.8       ,  691.4       ,  899.8       ,\n",
       "         833.72222222]])"
      ]
     },
     "metadata": {},
     "output_type": "display_data"
    },
    {
     "name": "stderr",
     "output_type": "stream",
     "text": [
      "E0916 20:00:25.038588 139779581159232 common_util.py:2089] CRITICAL - time to load data: now\n"
     ]
    },
    {
     "data": {
      "text/plain": [
       "31"
      ]
     },
     "metadata": {},
     "output_type": "display_data"
    },
    {
     "data": {
      "text/plain": [
       "'f.shape: (1358, 5), l.shape:(1358,), t.shape:(1358,)'"
      ]
     },
     "metadata": {},
     "output_type": "display_data"
    },
    {
     "data": {
      "text/plain": [
       "'f:'"
      ]
     },
     "metadata": {},
     "output_type": "display_data"
    },
    {
     "data": {
      "text/plain": [
       "array([[ 300.2       ,  353.7       ,  288.2       ,  353.7       ,\n",
       "         312.25555556],\n",
       "       [ 340.5       ,  760.5       ,  340.5       ,  760.5       ,\n",
       "         550.        ],\n",
       "       [ 820.5       ,  820.5       ,  555.7       ,  555.7       ,\n",
       "         689.58888889],\n",
       "       ...,\n",
       "       [1147.5       , 1427.2       , 1142.3       , 1291.2       ,\n",
       "        1267.46666667],\n",
       "       [1470.8       , 1470.8       , 1102.6       , 1183.3       ,\n",
       "        1263.5       ],\n",
       "       [ 691.4       ,  899.8       ,  691.4       ,  899.8       ,\n",
       "         833.72222222]])"
      ]
     },
     "metadata": {},
     "output_type": "display_data"
    },
    {
     "name": "stderr",
     "output_type": "stream",
     "text": [
      "E0916 20:00:25.071712 139779581159232 common_util.py:2089] CRITICAL - time to load data: now\n"
     ]
    },
    {
     "data": {
      "text/plain": [
       "32"
      ]
     },
     "metadata": {},
     "output_type": "display_data"
    },
    {
     "data": {
      "text/plain": [
       "'f.shape: (1358, 5), l.shape:(1358,), t.shape:(1358,)'"
      ]
     },
     "metadata": {},
     "output_type": "display_data"
    },
    {
     "data": {
      "text/plain": [
       "'f:'"
      ]
     },
     "metadata": {},
     "output_type": "display_data"
    },
    {
     "data": {
      "text/plain": [
       "array([[ 225.5       ,  294.        ,  219.5       ,  294.        ,\n",
       "         244.88888889],\n",
       "       [ 393.5       ,  535.5       ,  393.5       ,  535.5       ,\n",
       "         475.88888889],\n",
       "       [ 479.        ,  566.5       ,  442.5       ,  566.5       ,\n",
       "         486.77777778],\n",
       "       ...,\n",
       "       [2580.        , 2580.        , 1450.        , 1450.        ,\n",
       "        2168.55555556],\n",
       "       [1117.5       , 1117.5       ,  777.5       ,  778.5       ,\n",
       "         884.05555556],\n",
       "       [ 459.5       ,  951.5       ,  459.5       ,  951.5       ,\n",
       "         669.5       ]])"
      ]
     },
     "metadata": {},
     "output_type": "display_data"
    },
    {
     "name": "stderr",
     "output_type": "stream",
     "text": [
      "E0916 20:00:25.108439 139779581159232 common_util.py:2089] CRITICAL - time to load data: now\n"
     ]
    },
    {
     "data": {
      "text/plain": [
       "33"
      ]
     },
     "metadata": {},
     "output_type": "display_data"
    },
    {
     "data": {
      "text/plain": [
       "'f.shape: (1358, 5), l.shape:(1358,), t.shape:(1358,)'"
      ]
     },
     "metadata": {},
     "output_type": "display_data"
    },
    {
     "data": {
      "text/plain": [
       "'f:'"
      ]
     },
     "metadata": {},
     "output_type": "display_data"
    },
    {
     "data": {
      "text/plain": [
       "array([[ 225.5       ,  294.        ,  219.5       ,  294.        ,\n",
       "         244.88888889],\n",
       "       [ 393.5       ,  535.5       ,  393.5       ,  535.5       ,\n",
       "         475.88888889],\n",
       "       [ 479.        ,  566.5       ,  442.5       ,  566.5       ,\n",
       "         486.77777778],\n",
       "       ...,\n",
       "       [2580.        , 2580.        , 1450.        , 1450.        ,\n",
       "        2168.55555556],\n",
       "       [1117.5       , 1117.5       ,  777.5       ,  778.5       ,\n",
       "         884.05555556],\n",
       "       [ 459.5       ,  951.5       ,  459.5       ,  951.5       ,\n",
       "         669.5       ]])"
      ]
     },
     "metadata": {},
     "output_type": "display_data"
    },
    {
     "name": "stderr",
     "output_type": "stream",
     "text": [
      "E0916 20:00:25.145490 139779581159232 common_util.py:2089] CRITICAL - time to load data: now\n"
     ]
    },
    {
     "data": {
      "text/plain": [
       "34"
      ]
     },
     "metadata": {},
     "output_type": "display_data"
    },
    {
     "data": {
      "text/plain": [
       "'f.shape: (1358, 5), l.shape:(1358,), t.shape:(1358,)'"
      ]
     },
     "metadata": {},
     "output_type": "display_data"
    },
    {
     "data": {
      "text/plain": [
       "'f:'"
      ]
     },
     "metadata": {},
     "output_type": "display_data"
    },
    {
     "data": {
      "text/plain": [
       "array([[ 225.5       ,  294.        ,  219.5       ,  294.        ,\n",
       "         244.88888889],\n",
       "       [ 393.5       ,  535.5       ,  393.5       ,  535.5       ,\n",
       "         475.88888889],\n",
       "       [ 479.        ,  566.5       ,  442.5       ,  566.5       ,\n",
       "         486.77777778],\n",
       "       ...,\n",
       "       [2580.        , 2580.        , 1450.        , 1450.        ,\n",
       "        2168.55555556],\n",
       "       [1117.5       , 1117.5       ,  777.5       ,  778.5       ,\n",
       "         884.05555556],\n",
       "       [ 459.5       ,  951.5       ,  459.5       ,  951.5       ,\n",
       "         669.5       ]])"
      ]
     },
     "metadata": {},
     "output_type": "display_data"
    },
    {
     "name": "stderr",
     "output_type": "stream",
     "text": [
      "E0916 20:00:25.181784 139779581159232 common_util.py:2089] CRITICAL - time to load data: now\n"
     ]
    },
    {
     "data": {
      "text/plain": [
       "35"
      ]
     },
     "metadata": {},
     "output_type": "display_data"
    },
    {
     "data": {
      "text/plain": [
       "'f.shape: (1358, 5), l.shape:(1358,), t.shape:(1358,)'"
      ]
     },
     "metadata": {},
     "output_type": "display_data"
    },
    {
     "data": {
      "text/plain": [
       "'f:'"
      ]
     },
     "metadata": {},
     "output_type": "display_data"
    },
    {
     "data": {
      "text/plain": [
       "array([[ 225.5       ,  294.        ,  219.5       ,  294.        ,\n",
       "         244.88888889],\n",
       "       [ 393.5       ,  535.5       ,  393.5       ,  535.5       ,\n",
       "         475.88888889],\n",
       "       [ 479.        ,  566.5       ,  442.5       ,  566.5       ,\n",
       "         486.77777778],\n",
       "       ...,\n",
       "       [2580.        , 2580.        , 1450.        , 1450.        ,\n",
       "        2168.55555556],\n",
       "       [1117.5       , 1117.5       ,  777.5       ,  778.5       ,\n",
       "         884.05555556],\n",
       "       [ 459.5       ,  951.5       ,  459.5       ,  951.5       ,\n",
       "         669.5       ]])"
      ]
     },
     "metadata": {},
     "output_type": "display_data"
    },
    {
     "name": "stderr",
     "output_type": "stream",
     "text": [
      "E0916 20:00:25.215501 139779581159232 common_util.py:2089] CRITICAL - time to load data: now\n"
     ]
    },
    {
     "data": {
      "text/plain": [
       "36"
      ]
     },
     "metadata": {},
     "output_type": "display_data"
    },
    {
     "data": {
      "text/plain": [
       "'f.shape: (1358, 5), l.shape:(1358,), t.shape:(1358,)'"
      ]
     },
     "metadata": {},
     "output_type": "display_data"
    },
    {
     "data": {
      "text/plain": [
       "'f:'"
      ]
     },
     "metadata": {},
     "output_type": "display_data"
    },
    {
     "data": {
      "text/plain": [
       "array([[ 716.1       , 1529.6       ,  714.6       , 1529.6       ,\n",
       "        1003.46666667],\n",
       "       [ 817.3       , 1356.        ,  817.3       , 1356.        ,\n",
       "        1085.41111111],\n",
       "       [1404.8       , 1530.5       , 1383.1       , 1498.        ,\n",
       "        1448.17777778],\n",
       "       ...,\n",
       "       [2457.5       , 2612.5       , 1946.1       , 1946.1       ,\n",
       "        2283.72222222],\n",
       "       [2066.7       , 2379.2       , 1844.1       , 2379.2       ,\n",
       "        2172.45555556],\n",
       "       [ 853.3       , 1736.2       ,  853.3       , 1736.2       ,\n",
       "        1349.5       ]])"
      ]
     },
     "metadata": {},
     "output_type": "display_data"
    },
    {
     "name": "stderr",
     "output_type": "stream",
     "text": [
      "E0916 20:00:25.250930 139779581159232 common_util.py:2089] CRITICAL - time to load data: now\n"
     ]
    },
    {
     "data": {
      "text/plain": [
       "37"
      ]
     },
     "metadata": {},
     "output_type": "display_data"
    },
    {
     "data": {
      "text/plain": [
       "'f.shape: (1358, 5), l.shape:(1358,), t.shape:(1358,)'"
      ]
     },
     "metadata": {},
     "output_type": "display_data"
    },
    {
     "data": {
      "text/plain": [
       "'f:'"
      ]
     },
     "metadata": {},
     "output_type": "display_data"
    },
    {
     "data": {
      "text/plain": [
       "array([[ 716.1       , 1529.6       ,  714.6       , 1529.6       ,\n",
       "        1003.46666667],\n",
       "       [ 817.3       , 1356.        ,  817.3       , 1356.        ,\n",
       "        1085.41111111],\n",
       "       [1404.8       , 1530.5       , 1383.1       , 1498.        ,\n",
       "        1448.17777778],\n",
       "       ...,\n",
       "       [2457.5       , 2612.5       , 1946.1       , 1946.1       ,\n",
       "        2283.72222222],\n",
       "       [2066.7       , 2379.2       , 1844.1       , 2379.2       ,\n",
       "        2172.45555556],\n",
       "       [ 853.3       , 1736.2       ,  853.3       , 1736.2       ,\n",
       "        1349.5       ]])"
      ]
     },
     "metadata": {},
     "output_type": "display_data"
    },
    {
     "name": "stderr",
     "output_type": "stream",
     "text": [
      "E0916 20:00:25.283755 139779581159232 common_util.py:2089] CRITICAL - time to load data: now\n"
     ]
    },
    {
     "data": {
      "text/plain": [
       "38"
      ]
     },
     "metadata": {},
     "output_type": "display_data"
    },
    {
     "data": {
      "text/plain": [
       "'f.shape: (1358, 5), l.shape:(1358,), t.shape:(1358,)'"
      ]
     },
     "metadata": {},
     "output_type": "display_data"
    },
    {
     "data": {
      "text/plain": [
       "'f:'"
      ]
     },
     "metadata": {},
     "output_type": "display_data"
    },
    {
     "data": {
      "text/plain": [
       "array([[ 716.1       , 1529.6       ,  714.6       , 1529.6       ,\n",
       "        1003.46666667],\n",
       "       [ 817.3       , 1356.        ,  817.3       , 1356.        ,\n",
       "        1085.41111111],\n",
       "       [1404.8       , 1530.5       , 1383.1       , 1498.        ,\n",
       "        1448.17777778],\n",
       "       ...,\n",
       "       [2457.5       , 2612.5       , 1946.1       , 1946.1       ,\n",
       "        2283.72222222],\n",
       "       [2066.7       , 2379.2       , 1844.1       , 2379.2       ,\n",
       "        2172.45555556],\n",
       "       [ 853.3       , 1736.2       ,  853.3       , 1736.2       ,\n",
       "        1349.5       ]])"
      ]
     },
     "metadata": {},
     "output_type": "display_data"
    },
    {
     "name": "stderr",
     "output_type": "stream",
     "text": [
      "E0916 20:00:25.316282 139779581159232 common_util.py:2089] CRITICAL - time to load data: now\n"
     ]
    },
    {
     "data": {
      "text/plain": [
       "39"
      ]
     },
     "metadata": {},
     "output_type": "display_data"
    },
    {
     "data": {
      "text/plain": [
       "'f.shape: (1358, 5), l.shape:(1358,), t.shape:(1358,)'"
      ]
     },
     "metadata": {},
     "output_type": "display_data"
    },
    {
     "data": {
      "text/plain": [
       "'f:'"
      ]
     },
     "metadata": {},
     "output_type": "display_data"
    },
    {
     "data": {
      "text/plain": [
       "array([[ 716.1       , 1529.6       ,  714.6       , 1529.6       ,\n",
       "        1003.46666667],\n",
       "       [ 817.3       , 1356.        ,  817.3       , 1356.        ,\n",
       "        1085.41111111],\n",
       "       [1404.8       , 1530.5       , 1383.1       , 1498.        ,\n",
       "        1448.17777778],\n",
       "       ...,\n",
       "       [2457.5       , 2612.5       , 1946.1       , 1946.1       ,\n",
       "        2283.72222222],\n",
       "       [2066.7       , 2379.2       , 1844.1       , 2379.2       ,\n",
       "        2172.45555556],\n",
       "       [ 853.3       , 1736.2       ,  853.3       , 1736.2       ,\n",
       "        1349.5       ]])"
      ]
     },
     "metadata": {},
     "output_type": "display_data"
    }
   ],
   "source": [
    "debug_xg('xg0.json', assets='sp_500')"
   ]
  },
  {
   "cell_type": "code",
   "execution_count": null,
   "metadata": {},
   "outputs": [],
   "source": []
  },
  {
   "cell_type": "code",
   "execution_count": null,
   "metadata": {},
   "outputs": [],
   "source": []
  }
 ],
 "metadata": {
  "kernelspec": {
   "display_name": "Python 3",
   "language": "python",
   "name": "python3"
  },
  "language_info": {
   "codemirror_mode": {
    "name": "ipython",
    "version": 3
   },
   "file_extension": ".py",
   "mimetype": "text/x-python",
   "name": "python",
   "nbconvert_exporter": "python",
   "pygments_lexer": "ipython3",
   "version": "3.7.3"
  }
 },
 "nbformat": 4,
 "nbformat_minor": 2
}
