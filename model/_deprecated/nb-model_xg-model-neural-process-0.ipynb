{
 "cells": [
  {
   "cell_type": "markdown",
   "metadata": {},
   "source": [
    "# nb-model_xg-model-neural-process-0"
   ]
  },
  {
   "cell_type": "code",
   "execution_count": 1,
   "metadata": {},
   "outputs": [
    {
     "name": "stderr",
     "output_type": "stream",
     "text": [
      "CRITICAL:root:script location: /home/kev/crunch/model/nb-model_xg-model-fr-model.ipynb\n",
      "CRITICAL:root:using project dir: /home/kev/crunch/\n"
     ]
    }
   ],
   "source": [
    "import sys\n",
    "import os\n",
    "from os import sep\n",
    "from os.path import dirname, realpath\n",
    "from pathlib import Path\n",
    "from collections import OrderedDict\n",
    "from functools import partial, reduce\n",
    "import logging\n",
    "\n",
    "def get_cwd(fname, subdir, crunch_dir=realpath(Path.home()) +sep +'crunch' +sep):\n",
    "    \"\"\"\n",
    "    Convenience function to make a directory string for the current file based on inputs.\n",
    "    Jupyter Notebook in Anaconda invokes the Python interpreter in Anaconda's subdirectory\n",
    "    which is why changing sys.argv[0] is necessary. In the future a better way to do this\n",
    "    should be preferred..\n",
    "    \"\"\"\n",
    "    return crunch_dir +subdir +fname\n",
    "\n",
    "def fix_path(cwd):\n",
    "    \"\"\"\n",
    "    Convenience function to fix argv and python path so that jupyter notebook can run the same as\n",
    "    any script in crunch.\n",
    "    \"\"\"\n",
    "    sys.argv[0] = cwd\n",
    "    module_path = os.path.abspath(os.path.join('..'))\n",
    "    if module_path not in sys.path:\n",
    "        sys.path.append(module_path)\n",
    "\n",
    "fname = 'nb-model_xg-model-neural-process.ipynb'\n",
    "dir_name = 'model'\n",
    "fix_path(get_cwd(fname, dir_name +sep))\n",
    "\n",
    "import numpy as np\n",
    "import pandas as pd\n",
    "#import matplotlib.pyplot as plt\n",
    "from dask import delayed, compute\n",
    "from torch.utils.data import TensorDataset, DataLoader\n",
    "from torch.utils.data.dataset import Dataset as TorchDataset\n",
    "import torch\n",
    "import torch.nn as nn\n",
    "import torch.nn.functional as F\n",
    "from torch.nn.utils import weight_norm\n",
    "import torchfunc\n",
    "import pytorch_lightning as pl\n",
    "from pytorch_lightning.callbacks import EarlyStopping\n",
    "\n",
    "from ipywidgets import interact, interactive, fixed\n",
    "from IPython.display import display\n",
    "\n",
    "pd.set_option(\"display.max_rows\", 100)\n",
    "pd.set_option(\"display.max_columns\", 50)\n",
    "\n",
    "from common_util import MODEL_DIR, RECON_DIR, JSON_SFX_LEN, DT_CAL_DAILY_FREQ, is_valid, pd_to_np, pairwise, df_midx_restack, compose, is_type, df_rows_in_year, list_all_eq, remove_dups_list, NestedDefaultDict, set_loglevel, search_df, chained_filter, get_variants, load_df, dump_df, load_json, gb_transpose, pd_common_index_rows, filter_cols_below, inner_join, outer_join, ser_shift, list_get_dict, window_iter, benchmark\n",
    "from common_util import pd_rows_key_in, df_add_midx_level, df_del_midx_level, pd_split_ternary_to_binary, np_value_counts, isnt, window_iter, all_eq, np_assert_identical_len_dim, pd_idx_rename, midx_get_level, pd_rows, midx_intersect, pd_get_midx_level, pd_common_idx_rows, midx_split, pd_midx_to_arr, window_iter, np_at_least_nd, np_is_ndim, identity_fn\n",
    "from model.common import DATASET_DIR, XG_PROCESS_DIR, XG_DATA_DIR, XG_DIR, PYTORCH_MODELS_DIR, TEST_RATIO, VAL_RATIO, EXPECTED_NUM_HOURS, default_dataset\n",
    "from model.common import PYTORCH_ACT_MAPPING, PYTORCH_OPT_MAPPING, PYTORCH_SCH_MAPPING, PYTORCH_LOSS_MAPPING\n",
    "from model.xg_util import xgload, get_xg_feature_dfs, get_xg_label_target_dfs\n",
    "from model.train_util import pd_to_np_tvt, temporal_preproc_3d, stride_preproc_3d, batchify, get_dataloader\n",
    "logging.basicConfig(stream=sys.stdout, level=logging.DEBUG)"
   ]
  },
  {
   "cell_type": "markdown",
   "metadata": {},
   "source": [
    "Prune the xg data down to the data of interest to use in further experiments."
   ]
  },
  {
   "cell_type": "markdown",
   "metadata": {},
   "source": [
    "## Load Data"
   ]
  },
  {
   "cell_type": "code",
   "execution_count": 2,
   "metadata": {},
   "outputs": [
    {
     "name": "stderr",
     "output_type": "stream",
     "text": [
      "/home/kev/miniconda3/lib/python3.7/site-packages/ipykernel/ipkernel.py:287: DeprecationWarning: `should_run_async` will not call `transform_cell` automatically in the future. Please pass the result to `transformed_cell` argument and any exception that happen during thetransform in `preprocessing_exc_tuple` in IPython 7.17 and above.\n",
      "  and should_run_async(code)\n"
     ]
    }
   ],
   "source": [
    "assets = ['sp_500', 'russell_2000', 'nasdaq_100', 'dow_jones']\n",
    "chosen_asset = assets[0]"
   ]
  },
  {
   "cell_type": "code",
   "execution_count": 3,
   "metadata": {},
   "outputs": [],
   "source": [
    "fd = get_xg_feature_dfs(chosen_asset)\n",
    "ld, td = get_xg_label_target_dfs(chosen_asset)"
   ]
  },
  {
   "cell_type": "code",
   "execution_count": 4,
   "metadata": {},
   "outputs": [
    {
     "name": "stderr",
     "output_type": "stream",
     "text": [
      "/home/kev/miniconda3/lib/python3.7/site-packages/ipykernel/ipkernel.py:287: DeprecationWarning: `should_run_async` will not call `transform_cell` automatically in the future. Please pass the result to `transformed_cell` argument and any exception that happen during thetransform in `preprocessing_exc_tuple` in IPython 7.17 and above.\n",
      "  and should_run_async(code)\n"
     ]
    }
   ],
   "source": [
    "d_all_common = ['dwrmx', 'dwrod', 'dwrpt', 'dwrzn', 'dffd']\n",
    "d_extra = ['dlogret', 'dohlca', 'ddiff', 'dc', 'dwrxmx']"
   ]
  },
  {
   "cell_type": "code",
   "execution_count": 5,
   "metadata": {},
   "outputs": [],
   "source": [
    "h_all_common = ['hdmx', 'hdod', 'hdpt', 'hdzn']\n",
    "h_extra = ['hdgau', 'hduni', 'hohlca']"
   ]
  },
  {
   "cell_type": "code",
   "execution_count": 6,
   "metadata": {},
   "outputs": [
    {
     "data": {
      "text/plain": [
       "(['hdmx', 'hdod', 'hdpt', 'hdzn'],\n",
       " ['dwrmx', 'dwrod', 'dwrpt', 'dwrzn', 'dffd'])"
      ]
     },
     "execution_count": 6,
     "metadata": {},
     "output_type": "execute_result"
    }
   ],
   "source": [
    "h_all_common, d_all_common"
   ]
  },
  {
   "cell_type": "markdown",
   "metadata": {},
   "source": [
    "## Select Data"
   ]
  },
  {
   "cell_type": "markdown",
   "metadata": {},
   "source": [
    "### Choose Features and Join"
   ]
  },
  {
   "cell_type": "code",
   "execution_count": 7,
   "metadata": {},
   "outputs": [],
   "source": [
    "## Print all the available features:\n",
    "# for k0, v0 in fd.items():\n",
    "#     print(k0)\n",
    "#     for k1,v1 in fd[k0].items():\n",
    "#         print('\\t' +k1)\n",
    "#         for k2, v2 in fd[k0][k1].items():\n",
    "#             print('\\t\\t' +k2)\n",
    "#             for k3, v3 in fd[k0][k1][k2].items():\n",
    "#                 print('\\t\\t\\t' +k3)"
   ]
  },
  {
   "cell_type": "code",
   "execution_count": 8,
   "metadata": {},
   "outputs": [],
   "source": [
    "#for ser_name in chosen_f.index.unique(level='id1'):\n",
    "#    print('\\t' +ser_name)\n",
    "#    ser_subset_df = chosen_f.xs(ser_name, level=1, drop_level=False)\n",
    "#    ser_subset_df.index = ser_subset_df.index.remove_unused_levels()\n",
    "#    display(pd_to_np(ser_subset_df))\n",
    "#    ser_subset_df.isnan()\n",
    "#    np.isnan(ser_subset_df.values).any()"
   ]
  },
  {
   "cell_type": "code",
   "execution_count": 9,
   "metadata": {},
   "outputs": [],
   "source": [
    "from xg_util import get_hardcoded_daily_dfs, get_hardcoded_hourly_dfs"
   ]
  },
  {
   "cell_type": "code",
   "execution_count": 10,
   "metadata": {},
   "outputs": [],
   "source": [
    "def df_filter_by_keywords(fdf, keywords):\n",
    "\tcols = [col for col in fdf.index.levels[1] if (any(keyword in col for keyword in keywords))]\n",
    "\treturn pd_rows_key_in(fdf, 'id1', cols)\n",
    "\n",
    "def get_hardcoded_daily_dfs(fd, src):\n",
    "\t\"\"\"\n",
    "\tReturn hardcoded daily freq feature dfs to use in experiments.\n",
    "\t\"\"\"\n",
    "\tfeature_dfs = []\n",
    "\n",
    "\t#if (src in ('pba', 'vol')):\n",
    "\t#\tfeature_dfs.append(fd['d'][src]['dlogret']['{src}_dlh_dlogret'.format(src=src)])\n",
    "\n",
    "\tif (src in ('pba', 'vol', 'buzz')):\n",
    "\t\tfor axe in ('dwrmx', 'dwrod', 'dwrpt', 'dwrzn', 'dffd'):\n",
    "\t\t#for axe in ('dwrmx', 'dwrod', 'dwrpt', 'dwrzn'):\n",
    "\t\t\tfor fdf in fd['d'][src][axe].values():\n",
    "\t\t\t\t#feature_dfs.append(df_filter_by_keywords(fdf, ('avgPrice', 'high', 'low')))\n",
    "\t\t\t\t#feature_dfs.append(df_filter_by_keywords(fdf, ('avgPrice', 'high', 'low', 'close')))\n",
    "\t\t\t\tfeature_dfs.append(fdf)\n",
    "\t\t\t\t#feature_dfs.append(df_filter_by_keywords(df_filter_by_keywords(fdf, ('avgPrice', 'high', 'low')), ('(5)', '(20)',)))\n",
    "\n",
    "\tif (src in ('nonbuzz',)):\n",
    "\t\tfor axe in ('dffd', 'dwrxmx'):\n",
    "\t\t\tfor fdf in fd['d'][src][axe].values():\n",
    "\t\t\t\tfeature_dfs.append(fdf)\n",
    "\n",
    "\t#return pd.concat(feature_dfs).sort_index(axis=0)\n",
    "\treturn pd.concat(feature_dfs)\n",
    "\n",
    "def get_hardcoded_hourly_dfs(fd, src):\n",
    "\t\"\"\"\n",
    "\tReturn hardcoded hourly freq feature dfs to use in experiments.\n",
    "\t\"\"\"\n",
    "\tfeature_dfs = []\n",
    "\n",
    "\tif (src in ('pba', 'vol', 'buzz')):\n",
    "\t\tfor axe in ('hdmx', 'hdod', 'hdpt', 'hdzn', 'hdgau', 'hduni'):\n",
    "\t\t\tfor fdf in fd['h'][src][axe].values():\n",
    "\t\t\t\t#feature_dfs.append(df_filter_by_keywords(fdf, ('avgPrice', 'high', 'low', 'close')))\n",
    "\t\t\t\tfeature_dfs.append(fdf)\n",
    "\n",
    "\treturn pd.concat(feature_dfs)"
   ]
  },
  {
   "cell_type": "code",
   "execution_count": 11,
   "metadata": {},
   "outputs": [],
   "source": [
    "d_pba = get_hardcoded_daily_dfs(fd, 'pba')\n",
    "d_vol = get_hardcoded_daily_dfs(fd, 'vol')\n",
    "d_buzz = get_hardcoded_daily_dfs(fd, 'buzz')\n",
    "d_nonbuzz = get_hardcoded_daily_dfs(fd, 'buzz')\n",
    "h_pba = get_hardcoded_hourly_dfs(fd, 'pba')\n",
    "h_vol = get_hardcoded_hourly_dfs(fd, 'vol')\n",
    "h_buzz = get_hardcoded_hourly_dfs(fd, 'buzz')"
   ]
  },
  {
   "cell_type": "code",
   "execution_count": 12,
   "metadata": {},
   "outputs": [],
   "source": [
    "# Returns (AR)\n",
    "chosen_f = fd['d']['pba']['dret']['pba_hlh_hdxret_dret']\n",
    "chosen_f = fd['d']['pba']['dret']['pba_hoc_hdxret_dret']\n",
    "#chosen_f = fd['d']['pba']['ddir']['pba_hoc_hdxret_ddir']"
   ]
  },
  {
   "cell_type": "code",
   "execution_count": 13,
   "metadata": {},
   "outputs": [],
   "source": [
    "# Daily Features\n",
    "chosen_f = d_pba\n",
    "chosen_f = fd['d']['pba']['ddir']['pba_hoc_hdxret_ddir']"
   ]
  },
  {
   "cell_type": "code",
   "execution_count": 14,
   "metadata": {},
   "outputs": [
    {
     "data": {
      "text/plain": [
       "{'ddiff': {'pba_dohlca_ddiff(1)':                                                     -1\n",
       "  id0        id1                                        \n",
       "  1996-01-03 pba_open_pba_dohlca_ddiff(1)       4.800000\n",
       "             pba_high_pba_dohlca_ddiff(1)       2.510000\n",
       "             pba_low_pba_dohlca_ddiff(1)        6.390000\n",
       "             pba_close_pba_dohlca_ddiff(1)      0.590000\n",
       "             pba_avgPrice_pba_dohlca_ddiff(1)   3.976738\n",
       "  ...                                                ...\n",
       "  2018-01-08 pba_open_pba_dohlca_ddiff(1)      11.340000\n",
       "             pba_high_pba_dohlca_ddiff(1)       5.060000\n",
       "             pba_low_pba_dohlca_ddiff(1)        9.680000\n",
       "             pba_close_pba_dohlca_ddiff(1)      4.560000\n",
       "             pba_avgPrice_pba_dohlca_ddiff(1)   9.365525\n",
       "  \n",
       "  [27550 rows x 1 columns]},\n",
       " 'ddir': {'pba_hlh_hdxret_ddir':                                         -1\n",
       "  id0        id1                            \n",
       "  1996-01-02 pba_lh_pba_hlh_hdxret_ddir  1.0\n",
       "  1996-01-03 pba_lh_pba_hlh_hdxret_ddir  1.0\n",
       "  1996-01-04 pba_lh_pba_hlh_hdxret_ddir -1.0\n",
       "  1996-01-05 pba_lh_pba_hlh_hdxret_ddir  1.0\n",
       "  1996-01-08 pba_lh_pba_hlh_hdxret_ddir  1.0\n",
       "  ...                                    ...\n",
       "  2018-01-02 pba_lh_pba_hlh_hdxret_ddir  1.0\n",
       "  2018-01-03 pba_lh_pba_hlh_hdxret_ddir  1.0\n",
       "  2018-01-04 pba_lh_pba_hlh_hdxret_ddir  1.0\n",
       "  2018-01-05 pba_lh_pba_hlh_hdxret_ddir  1.0\n",
       "  2018-01-08 pba_lh_pba_hlh_hdxret_ddir  1.0\n",
       "  \n",
       "  [5511 rows x 1 columns],\n",
       "  'pba_hoc_hdxret_ddir':                                         -1\n",
       "  id0        id1                            \n",
       "  1996-01-02 pba_oc_pba_hoc_hdxret_ddir  1.0\n",
       "  1996-01-03 pba_oc_pba_hoc_hdxret_ddir  1.0\n",
       "  1996-01-04 pba_oc_pba_hoc_hdxret_ddir -1.0\n",
       "  1996-01-05 pba_oc_pba_hoc_hdxret_ddir -1.0\n",
       "  1996-01-08 pba_oc_pba_hoc_hdxret_ddir  1.0\n",
       "  ...                                    ...\n",
       "  2018-01-02 pba_oc_pba_hoc_hdxret_ddir  1.0\n",
       "  2018-01-03 pba_oc_pba_hoc_hdxret_ddir  1.0\n",
       "  2018-01-04 pba_oc_pba_hoc_hdxret_ddir  1.0\n",
       "  2018-01-05 pba_oc_pba_hoc_hdxret_ddir  1.0\n",
       "  2018-01-08 pba_oc_pba_hoc_hdxret_ddir  1.0\n",
       "  \n",
       "  [5511 rows x 1 columns]},\n",
       " 'ddir1': {'pba_hlh_hdxret1(1.000000%)_ddir1_hdxret1(2.000000%)_hdxret1(3.000000%)_hdxret1(4.000000%)_hdxret1(5.000000%)_hdxret1(6.000000%)_hdxret1(7.000000%)_hdxret1(8.000000%)':                                                      -1\n",
       "  id0        id1                                         \n",
       "  1996-01-02 pba_lh_pba_hlh_hdxret1(1.000000%)_ddir1  1.0\n",
       "             pba_lh_pba_hlh_hdxret1(2.000000%)_ddir1  1.0\n",
       "             pba_lh_pba_hlh_hdxret1(3.000000%)_ddir1  0.0\n",
       "             pba_lh_pba_hlh_hdxret1(4.000000%)_ddir1  0.0\n",
       "             pba_lh_pba_hlh_hdxret1(5.000000%)_ddir1  0.0\n",
       "  ...                                                 ...\n",
       "  2018-01-08 pba_lh_pba_hlh_hdxret1(4.000000%)_ddir1  0.0\n",
       "             pba_lh_pba_hlh_hdxret1(5.000000%)_ddir1  0.0\n",
       "             pba_lh_pba_hlh_hdxret1(6.000000%)_ddir1  0.0\n",
       "             pba_lh_pba_hlh_hdxret1(7.000000%)_ddir1  0.0\n",
       "             pba_lh_pba_hlh_hdxret1(8.000000%)_ddir1  0.0\n",
       "  \n",
       "  [44088 rows x 1 columns],\n",
       "  'pba_hoc_hdxret1(1.000000%)_ddir1_hdxret1(2.000000%)_hdxret1(3.000000%)_hdxret1(4.000000%)_hdxret1(5.000000%)_hdxret1(6.000000%)_hdxret1(7.000000%)_hdxret1(8.000000%)':                                                      -1\n",
       "  id0        id1                                         \n",
       "  1996-01-02 pba_oc_pba_hoc_hdxret1(1.000000%)_ddir1  1.0\n",
       "             pba_oc_pba_hoc_hdxret1(2.000000%)_ddir1  0.0\n",
       "             pba_oc_pba_hoc_hdxret1(3.000000%)_ddir1  0.0\n",
       "             pba_oc_pba_hoc_hdxret1(4.000000%)_ddir1  0.0\n",
       "             pba_oc_pba_hoc_hdxret1(5.000000%)_ddir1  0.0\n",
       "  ...                                                 ...\n",
       "  2018-01-08 pba_oc_pba_hoc_hdxret1(4.000000%)_ddir1  0.0\n",
       "             pba_oc_pba_hoc_hdxret1(5.000000%)_ddir1  0.0\n",
       "             pba_oc_pba_hoc_hdxret1(6.000000%)_ddir1  0.0\n",
       "             pba_oc_pba_hoc_hdxret1(7.000000%)_ddir1  0.0\n",
       "             pba_oc_pba_hoc_hdxret1(8.000000%)_ddir1  0.0\n",
       "  \n",
       "  [44088 rows x 1 columns],\n",
       "  'pba_hlh_hdxret1(0.062500%)_ddir1_hdxret1(0.125000%)_hdxret1(0.250000%)_hdxret1(0.500000%)_hdxret1(1.000000%)_hdxret1(2.000000%)_hdxret1(4.000000%)_hdxret1(8.000000%)':                                                      -1\n",
       "  id0        id1                                         \n",
       "  1996-01-02 pba_lh_pba_hlh_hdxret1(0.062500%)_ddir1  1.0\n",
       "             pba_lh_pba_hlh_hdxret1(0.125000%)_ddir1  1.0\n",
       "             pba_lh_pba_hlh_hdxret1(0.250000%)_ddir1  1.0\n",
       "             pba_lh_pba_hlh_hdxret1(0.500000%)_ddir1  1.0\n",
       "             pba_lh_pba_hlh_hdxret1(1.000000%)_ddir1  1.0\n",
       "  ...                                                 ...\n",
       "  2018-01-08 pba_lh_pba_hlh_hdxret1(0.500000%)_ddir1  1.0\n",
       "             pba_lh_pba_hlh_hdxret1(1.000000%)_ddir1  0.0\n",
       "             pba_lh_pba_hlh_hdxret1(2.000000%)_ddir1  0.0\n",
       "             pba_lh_pba_hlh_hdxret1(4.000000%)_ddir1  0.0\n",
       "             pba_lh_pba_hlh_hdxret1(8.000000%)_ddir1  0.0\n",
       "  \n",
       "  [44088 rows x 1 columns],\n",
       "  'pba_hoc_hdxret1(0.062500%)_ddir1_hdxret1(0.125000%)_hdxret1(0.250000%)_hdxret1(0.500000%)_hdxret1(1.000000%)_hdxret1(2.000000%)_hdxret1(4.000000%)_hdxret1(8.000000%)':                                                      -1\n",
       "  id0        id1                                         \n",
       "  1996-01-02 pba_oc_pba_hoc_hdxret1(0.062500%)_ddir1  1.0\n",
       "             pba_oc_pba_hoc_hdxret1(0.125000%)_ddir1  1.0\n",
       "             pba_oc_pba_hoc_hdxret1(0.250000%)_ddir1  1.0\n",
       "             pba_oc_pba_hoc_hdxret1(0.500000%)_ddir1  1.0\n",
       "             pba_oc_pba_hoc_hdxret1(1.000000%)_ddir1  1.0\n",
       "  ...                                                 ...\n",
       "  2018-01-08 pba_oc_pba_hoc_hdxret1(0.500000%)_ddir1  0.0\n",
       "             pba_oc_pba_hoc_hdxret1(1.000000%)_ddir1  0.0\n",
       "             pba_oc_pba_hoc_hdxret1(2.000000%)_ddir1  0.0\n",
       "             pba_oc_pba_hoc_hdxret1(4.000000%)_ddir1  0.0\n",
       "             pba_oc_pba_hoc_hdxret1(8.000000%)_ddir1  0.0\n",
       "  \n",
       "  [44088 rows x 1 columns]},\n",
       " 'ddir2': {'pba_hlh_hdxret2(0.5*avg,1)_ddir2_hdxret2(1*avg,1)_hdxret2(2*avg,1)':                                                      -1\n",
       "  id0        id1                                         \n",
       "  1996-01-03 pba_lh_pba_hlh_hdxret2(0.5*avg,1)_ddir2  0.0\n",
       "             pba_lh_pba_hlh_hdxret2(1*avg,1)_ddir2    0.0\n",
       "             pba_lh_pba_hlh_hdxret2(2*avg,1)_ddir2    0.0\n",
       "  1996-01-04 pba_lh_pba_hlh_hdxret2(0.5*avg,1)_ddir2 -1.0\n",
       "             pba_lh_pba_hlh_hdxret2(1*avg,1)_ddir2   -1.0\n",
       "  ...                                                 ...\n",
       "  2018-01-05 pba_lh_pba_hlh_hdxret2(1*avg,1)_ddir2    1.0\n",
       "             pba_lh_pba_hlh_hdxret2(2*avg,1)_ddir2    0.0\n",
       "  2018-01-08 pba_lh_pba_hlh_hdxret2(0.5*avg,1)_ddir2  1.0\n",
       "             pba_lh_pba_hlh_hdxret2(1*avg,1)_ddir2    1.0\n",
       "             pba_lh_pba_hlh_hdxret2(2*avg,1)_ddir2    0.0\n",
       "  \n",
       "  [16530 rows x 1 columns],\n",
       "  'pba_hoc_hdxret2(0.5*avg,1)_ddir2_hdxret2(1*avg,1)_hdxret2(2*avg,1)':                                                      -1\n",
       "  id0        id1                                         \n",
       "  1996-01-03 pba_oc_pba_hoc_hdxret2(0.5*avg,1)_ddir2  0.0\n",
       "             pba_oc_pba_hoc_hdxret2(1*avg,1)_ddir2    0.0\n",
       "             pba_oc_pba_hoc_hdxret2(2*avg,1)_ddir2    0.0\n",
       "  1996-01-04 pba_oc_pba_hoc_hdxret2(0.5*avg,1)_ddir2 -1.0\n",
       "             pba_oc_pba_hoc_hdxret2(1*avg,1)_ddir2   -1.0\n",
       "  ...                                                 ...\n",
       "  2018-01-05 pba_oc_pba_hoc_hdxret2(1*avg,1)_ddir2    1.0\n",
       "             pba_oc_pba_hoc_hdxret2(2*avg,1)_ddir2    0.0\n",
       "  2018-01-08 pba_oc_pba_hoc_hdxret2(0.5*avg,1)_ddir2  1.0\n",
       "             pba_oc_pba_hoc_hdxret2(1*avg,1)_ddir2    1.0\n",
       "             pba_oc_pba_hoc_hdxret2(2*avg,1)_ddir2    0.0\n",
       "  \n",
       "  [16530 rows x 1 columns],\n",
       "  'pba_hlh_hdxret2(0.5*mad,1)_ddir2_hdxret2(1*mad,1)_hdxret2(2*mad,1)':                                                      -1\n",
       "  id0        id1                                         \n",
       "  1996-01-03 pba_lh_pba_hlh_hdxret2(0.5*mad,1)_ddir2  1.0\n",
       "             pba_lh_pba_hlh_hdxret2(1*mad,1)_ddir2    0.0\n",
       "             pba_lh_pba_hlh_hdxret2(2*mad,1)_ddir2    0.0\n",
       "  1996-01-04 pba_lh_pba_hlh_hdxret2(0.5*mad,1)_ddir2 -1.0\n",
       "             pba_lh_pba_hlh_hdxret2(1*mad,1)_ddir2   -1.0\n",
       "  ...                                                 ...\n",
       "  2018-01-05 pba_lh_pba_hlh_hdxret2(1*mad,1)_ddir2    1.0\n",
       "             pba_lh_pba_hlh_hdxret2(2*mad,1)_ddir2    1.0\n",
       "  2018-01-08 pba_lh_pba_hlh_hdxret2(0.5*mad,1)_ddir2  1.0\n",
       "             pba_lh_pba_hlh_hdxret2(1*mad,1)_ddir2    1.0\n",
       "             pba_lh_pba_hlh_hdxret2(2*mad,1)_ddir2    1.0\n",
       "  \n",
       "  [16530 rows x 1 columns],\n",
       "  'pba_hoc_hdxret2(0.5*mad,1)_ddir2_hdxret2(1*mad,1)_hdxret2(2*mad,1)':                                                      -1\n",
       "  id0        id1                                         \n",
       "  1996-01-03 pba_oc_pba_hoc_hdxret2(0.5*mad,1)_ddir2  1.0\n",
       "             pba_oc_pba_hoc_hdxret2(1*mad,1)_ddir2    0.0\n",
       "             pba_oc_pba_hoc_hdxret2(2*mad,1)_ddir2    0.0\n",
       "  1996-01-04 pba_oc_pba_hoc_hdxret2(0.5*mad,1)_ddir2 -1.0\n",
       "             pba_oc_pba_hoc_hdxret2(1*mad,1)_ddir2   -1.0\n",
       "  ...                                                 ...\n",
       "  2018-01-05 pba_oc_pba_hoc_hdxret2(1*mad,1)_ddir2    1.0\n",
       "             pba_oc_pba_hoc_hdxret2(2*mad,1)_ddir2    1.0\n",
       "  2018-01-08 pba_oc_pba_hoc_hdxret2(0.5*mad,1)_ddir2  1.0\n",
       "             pba_oc_pba_hoc_hdxret2(1*mad,1)_ddir2    1.0\n",
       "             pba_oc_pba_hoc_hdxret2(2*mad,1)_ddir2    0.0\n",
       "  \n",
       "  [16530 rows x 1 columns],\n",
       "  'pba_hlh_hdxret2(0.5*max,1)_ddir2_hdxret2(1*max,1)_hdxret2(2*max,1)':                                                      -1\n",
       "  id0        id1                                         \n",
       "  1996-01-03 pba_lh_pba_hlh_hdxret2(0.5*max,1)_ddir2  0.0\n",
       "             pba_lh_pba_hlh_hdxret2(1*max,1)_ddir2    0.0\n",
       "             pba_lh_pba_hlh_hdxret2(2*max,1)_ddir2    0.0\n",
       "  1996-01-04 pba_lh_pba_hlh_hdxret2(0.5*max,1)_ddir2 -1.0\n",
       "             pba_lh_pba_hlh_hdxret2(1*max,1)_ddir2   -1.0\n",
       "  ...                                                 ...\n",
       "  2018-01-05 pba_lh_pba_hlh_hdxret2(1*max,1)_ddir2    1.0\n",
       "             pba_lh_pba_hlh_hdxret2(2*max,1)_ddir2    0.0\n",
       "  2018-01-08 pba_lh_pba_hlh_hdxret2(0.5*max,1)_ddir2  1.0\n",
       "             pba_lh_pba_hlh_hdxret2(1*max,1)_ddir2    0.0\n",
       "             pba_lh_pba_hlh_hdxret2(2*max,1)_ddir2    0.0\n",
       "  \n",
       "  [16530 rows x 1 columns],\n",
       "  'pba_hoc_hdxret2(0.5*max,1)_ddir2_hdxret2(1*max,1)_hdxret2(2*max,1)':                                                      -1\n",
       "  id0        id1                                         \n",
       "  1996-01-03 pba_oc_pba_hoc_hdxret2(0.5*max,1)_ddir2  0.0\n",
       "             pba_oc_pba_hoc_hdxret2(1*max,1)_ddir2    0.0\n",
       "             pba_oc_pba_hoc_hdxret2(2*max,1)_ddir2    0.0\n",
       "  1996-01-04 pba_oc_pba_hoc_hdxret2(0.5*max,1)_ddir2 -1.0\n",
       "             pba_oc_pba_hoc_hdxret2(1*max,1)_ddir2   -1.0\n",
       "  ...                                                 ...\n",
       "  2018-01-05 pba_oc_pba_hoc_hdxret2(1*max,1)_ddir2    1.0\n",
       "             pba_oc_pba_hoc_hdxret2(2*max,1)_ddir2    0.0\n",
       "  2018-01-08 pba_oc_pba_hoc_hdxret2(0.5*max,1)_ddir2  0.0\n",
       "             pba_oc_pba_hoc_hdxret2(1*max,1)_ddir2    0.0\n",
       "             pba_oc_pba_hoc_hdxret2(2*max,1)_ddir2    0.0\n",
       "  \n",
       "  [16530 rows x 1 columns],\n",
       "  'pba_hlh_hdxret2(0.5*min,1)_ddir2_hdxret2(1*min,1)_hdxret2(2*min,1)':                                                      -1\n",
       "  id0        id1                                         \n",
       "  1996-01-03 pba_lh_pba_hlh_hdxret2(0.5*min,1)_ddir2  0.0\n",
       "             pba_lh_pba_hlh_hdxret2(1*min,1)_ddir2    0.0\n",
       "             pba_lh_pba_hlh_hdxret2(2*min,1)_ddir2    0.0\n",
       "  1996-01-04 pba_lh_pba_hlh_hdxret2(0.5*min,1)_ddir2 -1.0\n",
       "             pba_lh_pba_hlh_hdxret2(1*min,1)_ddir2   -1.0\n",
       "  ...                                                 ...\n",
       "  2018-01-05 pba_lh_pba_hlh_hdxret2(1*min,1)_ddir2    1.0\n",
       "             pba_lh_pba_hlh_hdxret2(2*min,1)_ddir2    1.0\n",
       "  2018-01-08 pba_lh_pba_hlh_hdxret2(0.5*min,1)_ddir2  1.0\n",
       "             pba_lh_pba_hlh_hdxret2(1*min,1)_ddir2    1.0\n",
       "             pba_lh_pba_hlh_hdxret2(2*min,1)_ddir2    1.0\n",
       "  \n",
       "  [16530 rows x 1 columns],\n",
       "  'pba_hoc_hdxret2(0.5*min,1)_ddir2_hdxret2(1*min,1)_hdxret2(2*min,1)':                                                      -1\n",
       "  id0        id1                                         \n",
       "  1996-01-03 pba_oc_pba_hoc_hdxret2(0.5*min,1)_ddir2  0.0\n",
       "             pba_oc_pba_hoc_hdxret2(1*min,1)_ddir2    0.0\n",
       "             pba_oc_pba_hoc_hdxret2(2*min,1)_ddir2    0.0\n",
       "  1996-01-04 pba_oc_pba_hoc_hdxret2(0.5*min,1)_ddir2 -1.0\n",
       "             pba_oc_pba_hoc_hdxret2(1*min,1)_ddir2   -1.0\n",
       "  ...                                                 ...\n",
       "  2018-01-05 pba_oc_pba_hoc_hdxret2(1*min,1)_ddir2    1.0\n",
       "             pba_oc_pba_hoc_hdxret2(2*min,1)_ddir2    1.0\n",
       "  2018-01-08 pba_oc_pba_hoc_hdxret2(0.5*min,1)_ddir2  1.0\n",
       "             pba_oc_pba_hoc_hdxret2(1*min,1)_ddir2    1.0\n",
       "             pba_oc_pba_hoc_hdxret2(2*min,1)_ddir2    1.0\n",
       "  \n",
       "  [16530 rows x 1 columns],\n",
       "  'pba_hlh_hdxret2(0.5*std,1)_ddir2_hdxret2(1*std,1)_hdxret2(2*std,1)':                                                      -1\n",
       "  id0        id1                                         \n",
       "  1996-01-03 pba_lh_pba_hlh_hdxret2(0.5*std,1)_ddir2  1.0\n",
       "             pba_lh_pba_hlh_hdxret2(1*std,1)_ddir2    0.0\n",
       "             pba_lh_pba_hlh_hdxret2(2*std,1)_ddir2    0.0\n",
       "  1996-01-04 pba_lh_pba_hlh_hdxret2(0.5*std,1)_ddir2 -1.0\n",
       "             pba_lh_pba_hlh_hdxret2(1*std,1)_ddir2   -1.0\n",
       "  ...                                                 ...\n",
       "  2018-01-05 pba_lh_pba_hlh_hdxret2(1*std,1)_ddir2    1.0\n",
       "             pba_lh_pba_hlh_hdxret2(2*std,1)_ddir2    1.0\n",
       "  2018-01-08 pba_lh_pba_hlh_hdxret2(0.5*std,1)_ddir2  1.0\n",
       "             pba_lh_pba_hlh_hdxret2(1*std,1)_ddir2    1.0\n",
       "             pba_lh_pba_hlh_hdxret2(2*std,1)_ddir2    1.0\n",
       "  \n",
       "  [16524 rows x 1 columns],\n",
       "  'pba_hoc_hdxret2(0.5*std,1)_ddir2_hdxret2(1*std,1)_hdxret2(2*std,1)':                                                      -1\n",
       "  id0        id1                                         \n",
       "  1996-01-03 pba_oc_pba_hoc_hdxret2(0.5*std,1)_ddir2  1.0\n",
       "             pba_oc_pba_hoc_hdxret2(1*std,1)_ddir2    0.0\n",
       "             pba_oc_pba_hoc_hdxret2(2*std,1)_ddir2    0.0\n",
       "  1996-01-04 pba_oc_pba_hoc_hdxret2(0.5*std,1)_ddir2 -1.0\n",
       "             pba_oc_pba_hoc_hdxret2(1*std,1)_ddir2   -1.0\n",
       "  ...                                                 ...\n",
       "  2018-01-05 pba_oc_pba_hoc_hdxret2(1*std,1)_ddir2    1.0\n",
       "             pba_oc_pba_hoc_hdxret2(2*std,1)_ddir2    1.0\n",
       "  2018-01-08 pba_oc_pba_hoc_hdxret2(0.5*std,1)_ddir2  1.0\n",
       "             pba_oc_pba_hoc_hdxret2(1*std,1)_ddir2    1.0\n",
       "             pba_oc_pba_hoc_hdxret2(2*std,1)_ddir2    0.0\n",
       "  \n",
       "  [16524 rows x 1 columns]},\n",
       " 'dffd': {'pba_dohlca_dffd(0.200000,0.010000)_dffd(0.400000,0.010000)_dffd(0.600000,0.010000)_dffd(0.800000,0.010000)':                                                                      -1\n",
       "  id0        id1                                                         \n",
       "  1996-01-09 pba_avgPrice_pba_dohlca_dffd(0.800000,0.010000)    32.678457\n",
       "             pba_close_pba_dohlca_dffd(0.800000,0.010000)       27.651665\n",
       "             pba_high_pba_dohlca_dffd(0.800000,0.010000)        37.021105\n",
       "             pba_low_pba_dohlca_dffd(0.800000,0.010000)         28.598677\n",
       "             pba_open_pba_dohlca_dffd(0.800000,0.010000)        37.931076\n",
       "  ...                                                                 ...\n",
       "  2018-01-08 pba_low_pba_dohlca_dffd(0.800000,0.010000)        174.084681\n",
       "             pba_open_pba_dohlca_dffd(0.200000,0.010000)      1488.788673\n",
       "             pba_open_pba_dohlca_dffd(0.400000,0.010000)       743.529665\n",
       "             pba_open_pba_dohlca_dffd(0.600000,0.010000)       367.483974\n",
       "             pba_open_pba_dohlca_dffd(0.800000,0.010000)       176.205766\n",
       "  \n",
       "  [110055 rows x 1 columns]},\n",
       " 'dlogret': {'pba_dlh_dlogret':                                          -1\n",
       "  id0        id1                             \n",
       "  1996-01-02 pba_lh_pba_dlh_dlogret  0.012270\n",
       "  1996-01-03 pba_lh_pba_dlh_dlogret  0.005938\n",
       "  1996-01-04 pba_lh_pba_dlh_dlogret  0.017006\n",
       "  1996-01-05 pba_lh_pba_dlh_dlogret  0.009238\n",
       "  1996-01-08 pba_lh_pba_dlh_dlogret  0.003190\n",
       "  ...                                     ...\n",
       "  2018-01-02 pba_lh_pba_dlh_dlogret  0.005031\n",
       "  2018-01-03 pba_lh_pba_dlh_dlogret  0.006134\n",
       "  2018-01-04 pba_lh_pba_dlh_dlogret  0.003752\n",
       "  2018-01-05 pba_lh_pba_dlh_dlogret  0.005677\n",
       "  2018-01-08 pba_lh_pba_dlh_dlogret  0.003977\n",
       "  \n",
       "  [5511 rows x 1 columns],\n",
       "  'pba_doc_dlogret':                                          -1\n",
       "  id0        id1                             \n",
       "  1996-01-02 pba_oc_pba_doc_dlogret  0.007763\n",
       "  1996-01-03 pba_oc_pba_doc_dlogret  0.000950\n",
       "  1996-01-04 pba_oc_pba_doc_dlogret -0.005843\n",
       "  1996-01-05 pba_oc_pba_doc_dlogret -0.001604\n",
       "  1996-01-08 pba_oc_pba_doc_dlogret  0.002834\n",
       "  ...                                     ...\n",
       "  2018-01-02 pba_oc_pba_doc_dlogret  0.004491\n",
       "  2018-01-03 pba_oc_pba_doc_dlogret  0.005622\n",
       "  2018-01-04 pba_oc_pba_doc_dlogret  0.001720\n",
       "  2018-01-05 pba_oc_pba_doc_dlogret  0.004318\n",
       "  2018-01-08 pba_oc_pba_doc_dlogret  0.001836\n",
       "  \n",
       "  [5511 rows x 1 columns]},\n",
       " 'dohlca': {'pba_dohlca':                                              -1\n",
       "  id0        id1                                 \n",
       "  1996-01-02 pba_open_pba_dohlca       615.930000\n",
       "             pba_high_pba_dohlca       620.740000\n",
       "             pba_low_pba_dohlca        613.170000\n",
       "             pba_close_pba_dohlca      620.730000\n",
       "             pba_avgPrice_pba_dohlca   617.947575\n",
       "  ...                                         ...\n",
       "  2018-01-08 pba_open_pba_dohlca      2742.670000\n",
       "             pba_high_pba_dohlca      2748.510000\n",
       "             pba_low_pba_dohlca       2737.600000\n",
       "             pba_close_pba_dohlca     2747.710000\n",
       "             pba_avgPrice_pba_dohlca  2744.389775\n",
       "  \n",
       "  [27555 rows x 1 columns]},\n",
       " 'dret': {'pba_hlh_hdxret_dret':                                              -1\n",
       "  id0        id1                                 \n",
       "  1996-01-02 pba_lh_pba_hlh_hdxret_dret  0.012346\n",
       "  1996-01-03 pba_lh_pba_hlh_hdxret_dret  0.001305\n",
       "  1996-01-04 pba_lh_pba_hlh_hdxret_dret -0.005442\n",
       "  1996-01-05 pba_lh_pba_hlh_hdxret_dret  0.004135\n",
       "  1996-01-08 pba_lh_pba_hlh_hdxret_dret  0.002838\n",
       "  ...                                         ...\n",
       "  2018-01-02 pba_lh_pba_hlh_hdxret_dret  0.005040\n",
       "  2018-01-03 pba_lh_pba_hlh_hdxret_dret  0.005671\n",
       "  2018-01-04 pba_lh_pba_hlh_hdxret_dret  0.001809\n",
       "  2018-01-05 pba_lh_pba_hlh_hdxret_dret  0.005583\n",
       "  2018-01-08 pba_lh_pba_hlh_hdxret_dret  0.003693\n",
       "  \n",
       "  [5511 rows x 1 columns],\n",
       "  'pba_hoc_hdxret_dret':                                              -1\n",
       "  id0        id1                                 \n",
       "  1996-01-02 pba_oc_pba_hoc_hdxret_dret  0.007793\n",
       "  1996-01-03 pba_oc_pba_hoc_hdxret_dret  0.000950\n",
       "  1996-01-04 pba_oc_pba_hoc_hdxret_dret -0.005826\n",
       "  1996-01-05 pba_oc_pba_hoc_hdxret_dret -0.001603\n",
       "  1996-01-08 pba_oc_pba_hoc_hdxret_dret  0.002838\n",
       "  ...                                         ...\n",
       "  2018-01-02 pba_oc_pba_hoc_hdxret_dret  0.004501\n",
       "  2018-01-03 pba_oc_pba_hoc_hdxret_dret  0.005638\n",
       "  2018-01-04 pba_oc_pba_hoc_hdxret_dret  0.001721\n",
       "  2018-01-05 pba_oc_pba_hoc_hdxret_dret  0.004328\n",
       "  2018-01-08 pba_oc_pba_hoc_hdxret_dret  0.001838\n",
       "  \n",
       "  [5511 rows x 1 columns]},\n",
       " 'dret1': {'pba_hlh_hdxret1(1.000000%)_dret1_hdxret1(2.000000%)_hdxret1(3.000000%)_hdxret1(4.000000%)_hdxret1(5.000000%)_hdxret1(6.000000%)_hdxret1(7.000000%)_hdxret1(8.000000%)':                                                           -1\n",
       "  id0        id1                                              \n",
       "  1996-01-02 pba_lh_pba_hlh_hdxret1(1.000000%)_dret1  0.012346\n",
       "             pba_lh_pba_hlh_hdxret1(2.000000%)_dret1  0.012346\n",
       "             pba_lh_pba_hlh_hdxret1(3.000000%)_dret1  0.000000\n",
       "             pba_lh_pba_hlh_hdxret1(4.000000%)_dret1  0.000000\n",
       "             pba_lh_pba_hlh_hdxret1(5.000000%)_dret1  0.000000\n",
       "  ...                                                      ...\n",
       "  2018-01-08 pba_lh_pba_hlh_hdxret1(4.000000%)_dret1  0.000000\n",
       "             pba_lh_pba_hlh_hdxret1(5.000000%)_dret1  0.000000\n",
       "             pba_lh_pba_hlh_hdxret1(6.000000%)_dret1  0.000000\n",
       "             pba_lh_pba_hlh_hdxret1(7.000000%)_dret1  0.000000\n",
       "             pba_lh_pba_hlh_hdxret1(8.000000%)_dret1  0.000000\n",
       "  \n",
       "  [44088 rows x 1 columns],\n",
       "  'pba_hoc_hdxret1(1.000000%)_dret1_hdxret1(2.000000%)_hdxret1(3.000000%)_hdxret1(4.000000%)_hdxret1(5.000000%)_hdxret1(6.000000%)_hdxret1(7.000000%)_hdxret1(8.000000%)':                                                           -1\n",
       "  id0        id1                                              \n",
       "  1996-01-02 pba_oc_pba_hoc_hdxret1(1.000000%)_dret1  0.007793\n",
       "             pba_oc_pba_hoc_hdxret1(2.000000%)_dret1  0.000000\n",
       "             pba_oc_pba_hoc_hdxret1(3.000000%)_dret1  0.000000\n",
       "             pba_oc_pba_hoc_hdxret1(4.000000%)_dret1  0.000000\n",
       "             pba_oc_pba_hoc_hdxret1(5.000000%)_dret1  0.000000\n",
       "  ...                                                      ...\n",
       "  2018-01-08 pba_oc_pba_hoc_hdxret1(4.000000%)_dret1  0.000000\n",
       "             pba_oc_pba_hoc_hdxret1(5.000000%)_dret1  0.000000\n",
       "             pba_oc_pba_hoc_hdxret1(6.000000%)_dret1  0.000000\n",
       "             pba_oc_pba_hoc_hdxret1(7.000000%)_dret1  0.000000\n",
       "             pba_oc_pba_hoc_hdxret1(8.000000%)_dret1  0.000000\n",
       "  \n",
       "  [44088 rows x 1 columns],\n",
       "  'pba_hlh_hdxret1(0.062500%)_dret1_hdxret1(0.125000%)_hdxret1(0.250000%)_hdxret1(0.500000%)_hdxret1(1.000000%)_hdxret1(2.000000%)_hdxret1(4.000000%)_hdxret1(8.000000%)':                                                           -1\n",
       "  id0        id1                                              \n",
       "  1996-01-02 pba_lh_pba_hlh_hdxret1(0.062500%)_dret1  0.012346\n",
       "             pba_lh_pba_hlh_hdxret1(0.125000%)_dret1  0.012346\n",
       "             pba_lh_pba_hlh_hdxret1(0.250000%)_dret1  0.012346\n",
       "             pba_lh_pba_hlh_hdxret1(0.500000%)_dret1  0.012346\n",
       "             pba_lh_pba_hlh_hdxret1(1.000000%)_dret1  0.012346\n",
       "  ...                                                      ...\n",
       "  2018-01-08 pba_lh_pba_hlh_hdxret1(0.500000%)_dret1  0.003693\n",
       "             pba_lh_pba_hlh_hdxret1(1.000000%)_dret1  0.000000\n",
       "             pba_lh_pba_hlh_hdxret1(2.000000%)_dret1  0.000000\n",
       "             pba_lh_pba_hlh_hdxret1(4.000000%)_dret1  0.000000\n",
       "             pba_lh_pba_hlh_hdxret1(8.000000%)_dret1  0.000000\n",
       "  \n",
       "  [44088 rows x 1 columns],\n",
       "  'pba_hoc_hdxret1(0.062500%)_dret1_hdxret1(0.125000%)_hdxret1(0.250000%)_hdxret1(0.500000%)_hdxret1(1.000000%)_hdxret1(2.000000%)_hdxret1(4.000000%)_hdxret1(8.000000%)':                                                           -1\n",
       "  id0        id1                                              \n",
       "  1996-01-02 pba_oc_pba_hoc_hdxret1(0.062500%)_dret1  0.007793\n",
       "             pba_oc_pba_hoc_hdxret1(0.125000%)_dret1  0.007793\n",
       "             pba_oc_pba_hoc_hdxret1(0.250000%)_dret1  0.007793\n",
       "             pba_oc_pba_hoc_hdxret1(0.500000%)_dret1  0.007793\n",
       "             pba_oc_pba_hoc_hdxret1(1.000000%)_dret1  0.007793\n",
       "  ...                                                      ...\n",
       "  2018-01-08 pba_oc_pba_hoc_hdxret1(0.500000%)_dret1  0.000000\n",
       "             pba_oc_pba_hoc_hdxret1(1.000000%)_dret1  0.000000\n",
       "             pba_oc_pba_hoc_hdxret1(2.000000%)_dret1  0.000000\n",
       "             pba_oc_pba_hoc_hdxret1(4.000000%)_dret1  0.000000\n",
       "             pba_oc_pba_hoc_hdxret1(8.000000%)_dret1  0.000000\n",
       "  \n",
       "  [44088 rows x 1 columns]},\n",
       " 'dret2': {'pba_hlh_hdxret2(0.5*avg,1)_dret2_hdxret2(1*avg,1)_hdxret2(2*avg,1)':                                                           -1\n",
       "  id0        id1                                              \n",
       "  1996-01-03 pba_lh_pba_hlh_hdxret2(0.5*avg,1)_dret2  0.000000\n",
       "             pba_lh_pba_hlh_hdxret2(1*avg,1)_dret2    0.000000\n",
       "             pba_lh_pba_hlh_hdxret2(2*avg,1)_dret2    0.000000\n",
       "  1996-01-04 pba_lh_pba_hlh_hdxret2(0.5*avg,1)_dret2 -0.005442\n",
       "             pba_lh_pba_hlh_hdxret2(1*avg,1)_dret2   -0.005442\n",
       "  ...                                                      ...\n",
       "  2018-01-05 pba_lh_pba_hlh_hdxret2(1*avg,1)_dret2    0.005583\n",
       "             pba_lh_pba_hlh_hdxret2(2*avg,1)_dret2    0.000000\n",
       "  2018-01-08 pba_lh_pba_hlh_hdxret2(0.5*avg,1)_dret2  0.003693\n",
       "             pba_lh_pba_hlh_hdxret2(1*avg,1)_dret2    0.003693\n",
       "             pba_lh_pba_hlh_hdxret2(2*avg,1)_dret2    0.000000\n",
       "  \n",
       "  [16530 rows x 1 columns],\n",
       "  'pba_hoc_hdxret2(0.5*avg,1)_dret2_hdxret2(1*avg,1)_hdxret2(2*avg,1)':                                                           -1\n",
       "  id0        id1                                              \n",
       "  1996-01-03 pba_oc_pba_hoc_hdxret2(0.5*avg,1)_dret2  0.000000\n",
       "             pba_oc_pba_hoc_hdxret2(1*avg,1)_dret2    0.000000\n",
       "             pba_oc_pba_hoc_hdxret2(2*avg,1)_dret2    0.000000\n",
       "  1996-01-04 pba_oc_pba_hoc_hdxret2(0.5*avg,1)_dret2 -0.005826\n",
       "             pba_oc_pba_hoc_hdxret2(1*avg,1)_dret2   -0.005826\n",
       "  ...                                                      ...\n",
       "  2018-01-05 pba_oc_pba_hoc_hdxret2(1*avg,1)_dret2    0.004328\n",
       "             pba_oc_pba_hoc_hdxret2(2*avg,1)_dret2    0.000000\n",
       "  2018-01-08 pba_oc_pba_hoc_hdxret2(0.5*avg,1)_dret2  0.001838\n",
       "             pba_oc_pba_hoc_hdxret2(1*avg,1)_dret2    0.001838\n",
       "             pba_oc_pba_hoc_hdxret2(2*avg,1)_dret2    0.000000\n",
       "  \n",
       "  [16530 rows x 1 columns],\n",
       "  'pba_hlh_hdxret2(0.5*mad,1)_dret2_hdxret2(1*mad,1)_hdxret2(2*mad,1)':                                                           -1\n",
       "  id0        id1                                              \n",
       "  1996-01-03 pba_lh_pba_hlh_hdxret2(0.5*mad,1)_dret2  0.001305\n",
       "             pba_lh_pba_hlh_hdxret2(1*mad,1)_dret2    0.000000\n",
       "             pba_lh_pba_hlh_hdxret2(2*mad,1)_dret2    0.000000\n",
       "  1996-01-04 pba_lh_pba_hlh_hdxret2(0.5*mad,1)_dret2 -0.005442\n",
       "             pba_lh_pba_hlh_hdxret2(1*mad,1)_dret2   -0.005442\n",
       "  ...                                                      ...\n",
       "  2018-01-05 pba_lh_pba_hlh_hdxret2(1*mad,1)_dret2    0.005583\n",
       "             pba_lh_pba_hlh_hdxret2(2*mad,1)_dret2    0.005583\n",
       "  2018-01-08 pba_lh_pba_hlh_hdxret2(0.5*mad,1)_dret2  0.003693\n",
       "             pba_lh_pba_hlh_hdxret2(1*mad,1)_dret2    0.003693\n",
       "             pba_lh_pba_hlh_hdxret2(2*mad,1)_dret2    0.003693\n",
       "  \n",
       "  [16530 rows x 1 columns],\n",
       "  'pba_hoc_hdxret2(0.5*mad,1)_dret2_hdxret2(1*mad,1)_hdxret2(2*mad,1)':                                                           -1\n",
       "  id0        id1                                              \n",
       "  1996-01-03 pba_oc_pba_hoc_hdxret2(0.5*mad,1)_dret2  0.000950\n",
       "             pba_oc_pba_hoc_hdxret2(1*mad,1)_dret2    0.000000\n",
       "             pba_oc_pba_hoc_hdxret2(2*mad,1)_dret2    0.000000\n",
       "  1996-01-04 pba_oc_pba_hoc_hdxret2(0.5*mad,1)_dret2 -0.005826\n",
       "             pba_oc_pba_hoc_hdxret2(1*mad,1)_dret2   -0.005826\n",
       "  ...                                                      ...\n",
       "  2018-01-05 pba_oc_pba_hoc_hdxret2(1*mad,1)_dret2    0.004328\n",
       "             pba_oc_pba_hoc_hdxret2(2*mad,1)_dret2    0.004328\n",
       "  2018-01-08 pba_oc_pba_hoc_hdxret2(0.5*mad,1)_dret2  0.001838\n",
       "             pba_oc_pba_hoc_hdxret2(1*mad,1)_dret2    0.001838\n",
       "             pba_oc_pba_hoc_hdxret2(2*mad,1)_dret2    0.000000\n",
       "  \n",
       "  [16530 rows x 1 columns],\n",
       "  'pba_hlh_hdxret2(0.5*max,1)_dret2_hdxret2(1*max,1)_hdxret2(2*max,1)':                                                           -1\n",
       "  id0        id1                                              \n",
       "  1996-01-03 pba_lh_pba_hlh_hdxret2(0.5*max,1)_dret2  0.000000\n",
       "             pba_lh_pba_hlh_hdxret2(1*max,1)_dret2    0.000000\n",
       "             pba_lh_pba_hlh_hdxret2(2*max,1)_dret2    0.000000\n",
       "  1996-01-04 pba_lh_pba_hlh_hdxret2(0.5*max,1)_dret2 -0.005442\n",
       "             pba_lh_pba_hlh_hdxret2(1*max,1)_dret2   -0.005442\n",
       "  ...                                                      ...\n",
       "  2018-01-05 pba_lh_pba_hlh_hdxret2(1*max,1)_dret2    0.005583\n",
       "             pba_lh_pba_hlh_hdxret2(2*max,1)_dret2    0.000000\n",
       "  2018-01-08 pba_lh_pba_hlh_hdxret2(0.5*max,1)_dret2  0.003693\n",
       "             pba_lh_pba_hlh_hdxret2(1*max,1)_dret2    0.000000\n",
       "             pba_lh_pba_hlh_hdxret2(2*max,1)_dret2    0.000000\n",
       "  \n",
       "  [16530 rows x 1 columns],\n",
       "  'pba_hoc_hdxret2(0.5*max,1)_dret2_hdxret2(1*max,1)_hdxret2(2*max,1)':                                                           -1\n",
       "  id0        id1                                              \n",
       "  1996-01-03 pba_oc_pba_hoc_hdxret2(0.5*max,1)_dret2  0.000000\n",
       "             pba_oc_pba_hoc_hdxret2(1*max,1)_dret2    0.000000\n",
       "             pba_oc_pba_hoc_hdxret2(2*max,1)_dret2    0.000000\n",
       "  1996-01-04 pba_oc_pba_hoc_hdxret2(0.5*max,1)_dret2 -0.005826\n",
       "             pba_oc_pba_hoc_hdxret2(1*max,1)_dret2   -0.005826\n",
       "  ...                                                      ...\n",
       "  2018-01-05 pba_oc_pba_hoc_hdxret2(1*max,1)_dret2    0.004328\n",
       "             pba_oc_pba_hoc_hdxret2(2*max,1)_dret2    0.000000\n",
       "  2018-01-08 pba_oc_pba_hoc_hdxret2(0.5*max,1)_dret2  0.000000\n",
       "             pba_oc_pba_hoc_hdxret2(1*max,1)_dret2    0.000000\n",
       "             pba_oc_pba_hoc_hdxret2(2*max,1)_dret2    0.000000\n",
       "  \n",
       "  [16530 rows x 1 columns],\n",
       "  'pba_hlh_hdxret2(0.5*min,1)_dret2_hdxret2(1*min,1)_hdxret2(2*min,1)':                                                           -1\n",
       "  id0        id1                                              \n",
       "  1996-01-03 pba_lh_pba_hlh_hdxret2(0.5*min,1)_dret2  0.000000\n",
       "             pba_lh_pba_hlh_hdxret2(1*min,1)_dret2    0.000000\n",
       "             pba_lh_pba_hlh_hdxret2(2*min,1)_dret2    0.000000\n",
       "  1996-01-04 pba_lh_pba_hlh_hdxret2(0.5*min,1)_dret2 -0.005442\n",
       "             pba_lh_pba_hlh_hdxret2(1*min,1)_dret2   -0.005442\n",
       "  ...                                                      ...\n",
       "  2018-01-05 pba_lh_pba_hlh_hdxret2(1*min,1)_dret2    0.005583\n",
       "             pba_lh_pba_hlh_hdxret2(2*min,1)_dret2    0.005583\n",
       "  2018-01-08 pba_lh_pba_hlh_hdxret2(0.5*min,1)_dret2  0.003693\n",
       "             pba_lh_pba_hlh_hdxret2(1*min,1)_dret2    0.003693\n",
       "             pba_lh_pba_hlh_hdxret2(2*min,1)_dret2    0.003693\n",
       "  \n",
       "  [16530 rows x 1 columns],\n",
       "  'pba_hoc_hdxret2(0.5*min,1)_dret2_hdxret2(1*min,1)_hdxret2(2*min,1)':                                                           -1\n",
       "  id0        id1                                              \n",
       "  1996-01-03 pba_oc_pba_hoc_hdxret2(0.5*min,1)_dret2  0.000000\n",
       "             pba_oc_pba_hoc_hdxret2(1*min,1)_dret2    0.000000\n",
       "             pba_oc_pba_hoc_hdxret2(2*min,1)_dret2    0.000000\n",
       "  1996-01-04 pba_oc_pba_hoc_hdxret2(0.5*min,1)_dret2 -0.005826\n",
       "             pba_oc_pba_hoc_hdxret2(1*min,1)_dret2   -0.005826\n",
       "  ...                                                      ...\n",
       "  2018-01-05 pba_oc_pba_hoc_hdxret2(1*min,1)_dret2    0.004328\n",
       "             pba_oc_pba_hoc_hdxret2(2*min,1)_dret2    0.004328\n",
       "  2018-01-08 pba_oc_pba_hoc_hdxret2(0.5*min,1)_dret2  0.001838\n",
       "             pba_oc_pba_hoc_hdxret2(1*min,1)_dret2    0.001838\n",
       "             pba_oc_pba_hoc_hdxret2(2*min,1)_dret2    0.001838\n",
       "  \n",
       "  [16530 rows x 1 columns],\n",
       "  'pba_hlh_hdxret2(0.5*std,1)_dret2_hdxret2(1*std,1)_hdxret2(2*std,1)':                                                           -1\n",
       "  id0        id1                                              \n",
       "  1996-01-03 pba_lh_pba_hlh_hdxret2(0.5*std,1)_dret2  0.001305\n",
       "             pba_lh_pba_hlh_hdxret2(1*std,1)_dret2    0.000000\n",
       "             pba_lh_pba_hlh_hdxret2(2*std,1)_dret2    0.000000\n",
       "  1996-01-04 pba_lh_pba_hlh_hdxret2(0.5*std,1)_dret2 -0.005442\n",
       "             pba_lh_pba_hlh_hdxret2(1*std,1)_dret2   -0.005442\n",
       "  ...                                                      ...\n",
       "  2018-01-05 pba_lh_pba_hlh_hdxret2(1*std,1)_dret2    0.005583\n",
       "             pba_lh_pba_hlh_hdxret2(2*std,1)_dret2    0.005583\n",
       "  2018-01-08 pba_lh_pba_hlh_hdxret2(0.5*std,1)_dret2  0.003693\n",
       "             pba_lh_pba_hlh_hdxret2(1*std,1)_dret2    0.003693\n",
       "             pba_lh_pba_hlh_hdxret2(2*std,1)_dret2    0.003693\n",
       "  \n",
       "  [16524 rows x 1 columns],\n",
       "  'pba_hoc_hdxret2(0.5*std,1)_dret2_hdxret2(1*std,1)_hdxret2(2*std,1)':                                                           -1\n",
       "  id0        id1                                              \n",
       "  1996-01-03 pba_oc_pba_hoc_hdxret2(0.5*std,1)_dret2  0.000950\n",
       "             pba_oc_pba_hoc_hdxret2(1*std,1)_dret2    0.000000\n",
       "             pba_oc_pba_hoc_hdxret2(2*std,1)_dret2    0.000000\n",
       "  1996-01-04 pba_oc_pba_hoc_hdxret2(0.5*std,1)_dret2 -0.005826\n",
       "             pba_oc_pba_hoc_hdxret2(1*std,1)_dret2   -0.005826\n",
       "  ...                                                      ...\n",
       "  2018-01-05 pba_oc_pba_hoc_hdxret2(1*std,1)_dret2    0.004328\n",
       "             pba_oc_pba_hoc_hdxret2(2*std,1)_dret2    0.004328\n",
       "  2018-01-08 pba_oc_pba_hoc_hdxret2(0.5*std,1)_dret2  0.001838\n",
       "             pba_oc_pba_hoc_hdxret2(1*std,1)_dret2    0.001838\n",
       "             pba_oc_pba_hoc_hdxret2(2*std,1)_dret2    0.000000\n",
       "  \n",
       "  [16524 rows x 1 columns]},\n",
       " 'dwrmx': {'pba_dohlca_dwrmx(-1)_dwrmx(20)_dwrmx(240)_dwrmx(5)':                                                 -1\n",
       "  id0        id1                                    \n",
       "  1996-01-03 pba_avgPrice_pba_dohlca_dwrmx(-1)   1.0\n",
       "             pba_avgPrice_pba_dohlca_dwrmx(20)   1.0\n",
       "             pba_avgPrice_pba_dohlca_dwrmx(240)  1.0\n",
       "             pba_avgPrice_pba_dohlca_dwrmx(5)    1.0\n",
       "             pba_close_pba_dohlca_dwrmx(-1)      1.0\n",
       "  ...                                            ...\n",
       "  2018-01-08 pba_low_pba_dohlca_dwrmx(5)         1.0\n",
       "             pba_open_pba_dohlca_dwrmx(-1)       1.0\n",
       "             pba_open_pba_dohlca_dwrmx(20)       1.0\n",
       "             pba_open_pba_dohlca_dwrmx(240)      1.0\n",
       "             pba_open_pba_dohlca_dwrmx(5)        1.0\n",
       "  \n",
       "  [110200 rows x 1 columns]},\n",
       " 'dwrod': {'pba_dohlca_dwrod(-1)_dwrod(20)_dwrod(240)_dwrod(5)':                                                 -1\n",
       "  id0        id1                                    \n",
       "  1996-01-02 pba_avgPrice_pba_dohlca_dwrod(-1)   1.0\n",
       "             pba_avgPrice_pba_dohlca_dwrod(20)   1.0\n",
       "             pba_avgPrice_pba_dohlca_dwrod(240)  1.0\n",
       "             pba_avgPrice_pba_dohlca_dwrod(5)    1.0\n",
       "             pba_close_pba_dohlca_dwrod(-1)      1.0\n",
       "  ...                                            ...\n",
       "  2018-01-08 pba_low_pba_dohlca_dwrod(5)         1.0\n",
       "             pba_open_pba_dohlca_dwrod(-1)       1.0\n",
       "             pba_open_pba_dohlca_dwrod(20)       1.0\n",
       "             pba_open_pba_dohlca_dwrod(240)      1.0\n",
       "             pba_open_pba_dohlca_dwrod(5)        1.0\n",
       "  \n",
       "  [110220 rows x 1 columns]},\n",
       " 'dwrpt': {'pba_dohlca_dwrpt(-1)_dwrpt(20)_dwrpt(240)_dwrpt(5)':                                                 -1\n",
       "  id0        id1                                    \n",
       "  1996-01-03 pba_avgPrice_pba_dohlca_dwrpt(-1)   1.0\n",
       "             pba_avgPrice_pba_dohlca_dwrpt(20)   1.0\n",
       "             pba_avgPrice_pba_dohlca_dwrpt(240)  1.0\n",
       "             pba_avgPrice_pba_dohlca_dwrpt(5)    1.0\n",
       "             pba_close_pba_dohlca_dwrpt(-1)      1.0\n",
       "  ...                                            ...\n",
       "  2018-01-08 pba_low_pba_dohlca_dwrpt(5)         1.0\n",
       "             pba_open_pba_dohlca_dwrpt(-1)       1.0\n",
       "             pba_open_pba_dohlca_dwrpt(20)       1.0\n",
       "             pba_open_pba_dohlca_dwrpt(240)      1.0\n",
       "             pba_open_pba_dohlca_dwrpt(5)        1.0\n",
       "  \n",
       "  [110200 rows x 1 columns]},\n",
       " 'dwrzn': {'pba_dohlca_dwrzn(-1)_dwrzn(20)_dwrzn(240)_dwrzn(5)':                                                      -1\n",
       "  id0        id1                                         \n",
       "  1996-01-03 pba_avgPrice_pba_dohlca_dwrzn(-1)   0.707107\n",
       "             pba_avgPrice_pba_dohlca_dwrzn(20)   0.707107\n",
       "             pba_avgPrice_pba_dohlca_dwrzn(240)  0.707107\n",
       "             pba_avgPrice_pba_dohlca_dwrzn(5)    0.707107\n",
       "             pba_close_pba_dohlca_dwrzn(-1)      0.707107\n",
       "  ...                                                 ...\n",
       "  2018-01-08 pba_low_pba_dohlca_dwrzn(5)         1.093030\n",
       "             pba_open_pba_dohlca_dwrzn(-1)       3.149010\n",
       "             pba_open_pba_dohlca_dwrzn(20)       2.361561\n",
       "             pba_open_pba_dohlca_dwrzn(240)      2.567163\n",
       "             pba_open_pba_dohlca_dwrzn(5)        1.149153\n",
       "  \n",
       "  [110200 rows x 1 columns]},\n",
       " 'dxfbcret1': {'pba_hlh_hdxcret1(1.000000%)_dxfbcret1_hdxcret1(2.000000%)_hdxcret1(3.000000%)_hdxcret1(4.000000%)_hdxcret1(5.000000%)_hdxcret1(6.000000%)_hdxcret1(7.000000%)_hdxcret1(8.000000%)':                                                             -1\n",
       "  id0        id1                                                \n",
       "  1996-01-02 pba_lh_pba_hlh_hdxcret1(1.000000%)_dxfbcret1  0.005\n",
       "             pba_lh_pba_hlh_hdxcret1(2.000000%)_dxfbcret1  0.010\n",
       "             pba_lh_pba_hlh_hdxcret1(3.000000%)_dxfbcret1  0.000\n",
       "             pba_lh_pba_hlh_hdxcret1(4.000000%)_dxfbcret1  0.000\n",
       "             pba_lh_pba_hlh_hdxcret1(5.000000%)_dxfbcret1  0.000\n",
       "  ...                                                        ...\n",
       "  2018-01-08 pba_lh_pba_hlh_hdxcret1(4.000000%)_dxfbcret1  0.000\n",
       "             pba_lh_pba_hlh_hdxcret1(5.000000%)_dxfbcret1  0.000\n",
       "             pba_lh_pba_hlh_hdxcret1(6.000000%)_dxfbcret1  0.000\n",
       "             pba_lh_pba_hlh_hdxcret1(7.000000%)_dxfbcret1  0.000\n",
       "             pba_lh_pba_hlh_hdxcret1(8.000000%)_dxfbcret1  0.000\n",
       "  \n",
       "  [44088 rows x 1 columns],\n",
       "  'pba_hoc_hdxcret1(1.000000%)_dxfbcret1_hdxcret1(2.000000%)_hdxcret1(3.000000%)_hdxcret1(4.000000%)_hdxcret1(5.000000%)_hdxcret1(6.000000%)_hdxcret1(7.000000%)_hdxcret1(8.000000%)':                                                             -1\n",
       "  id0        id1                                                \n",
       "  1996-01-02 pba_oc_pba_hoc_hdxcret1(1.000000%)_dxfbcret1  0.005\n",
       "             pba_oc_pba_hoc_hdxcret1(2.000000%)_dxfbcret1  0.000\n",
       "             pba_oc_pba_hoc_hdxcret1(3.000000%)_dxfbcret1  0.000\n",
       "             pba_oc_pba_hoc_hdxcret1(4.000000%)_dxfbcret1  0.000\n",
       "             pba_oc_pba_hoc_hdxcret1(5.000000%)_dxfbcret1  0.000\n",
       "  ...                                                        ...\n",
       "  2018-01-08 pba_oc_pba_hoc_hdxcret1(4.000000%)_dxfbcret1  0.000\n",
       "             pba_oc_pba_hoc_hdxcret1(5.000000%)_dxfbcret1  0.000\n",
       "             pba_oc_pba_hoc_hdxcret1(6.000000%)_dxfbcret1  0.000\n",
       "             pba_oc_pba_hoc_hdxcret1(7.000000%)_dxfbcret1  0.000\n",
       "             pba_oc_pba_hoc_hdxcret1(8.000000%)_dxfbcret1  0.000\n",
       "  \n",
       "  [44088 rows x 1 columns],\n",
       "  'pba_hlh_hdxcret1(0.062500%)_dxfbcret1_hdxcret1(0.125000%)_hdxcret1(0.250000%)_hdxcret1(0.500000%)_hdxcret1(1.000000%)_hdxcret1(2.000000%)_hdxcret1(4.000000%)_hdxcret1(8.000000%)':                                                                -1\n",
       "  id0        id1                                                   \n",
       "  1996-01-02 pba_lh_pba_hlh_hdxcret1(0.062500%)_dxfbcret1  0.000313\n",
       "             pba_lh_pba_hlh_hdxcret1(0.125000%)_dxfbcret1  0.000625\n",
       "             pba_lh_pba_hlh_hdxcret1(0.250000%)_dxfbcret1  0.001250\n",
       "             pba_lh_pba_hlh_hdxcret1(0.500000%)_dxfbcret1  0.002500\n",
       "             pba_lh_pba_hlh_hdxcret1(1.000000%)_dxfbcret1  0.005000\n",
       "  ...                                                           ...\n",
       "  2018-01-08 pba_lh_pba_hlh_hdxcret1(0.500000%)_dxfbcret1  0.002500\n",
       "             pba_lh_pba_hlh_hdxcret1(1.000000%)_dxfbcret1  0.000000\n",
       "             pba_lh_pba_hlh_hdxcret1(2.000000%)_dxfbcret1  0.000000\n",
       "             pba_lh_pba_hlh_hdxcret1(4.000000%)_dxfbcret1  0.000000\n",
       "             pba_lh_pba_hlh_hdxcret1(8.000000%)_dxfbcret1  0.000000\n",
       "  \n",
       "  [44088 rows x 1 columns],\n",
       "  'pba_hoc_hdxcret1(0.062500%)_dxfbcret1_hdxcret1(0.125000%)_hdxcret1(0.250000%)_hdxcret1(0.500000%)_hdxcret1(1.000000%)_hdxcret1(2.000000%)_hdxcret1(4.000000%)_hdxcret1(8.000000%)':                                                                -1\n",
       "  id0        id1                                                   \n",
       "  1996-01-02 pba_oc_pba_hoc_hdxcret1(0.062500%)_dxfbcret1 -0.000313\n",
       "             pba_oc_pba_hoc_hdxcret1(0.125000%)_dxfbcret1 -0.000625\n",
       "             pba_oc_pba_hoc_hdxcret1(0.250000%)_dxfbcret1 -0.001250\n",
       "             pba_oc_pba_hoc_hdxcret1(0.500000%)_dxfbcret1 -0.002500\n",
       "             pba_oc_pba_hoc_hdxcret1(1.000000%)_dxfbcret1  0.005000\n",
       "  ...                                                           ...\n",
       "  2018-01-08 pba_oc_pba_hoc_hdxcret1(0.500000%)_dxfbcret1  0.000000\n",
       "             pba_oc_pba_hoc_hdxcret1(1.000000%)_dxfbcret1  0.000000\n",
       "             pba_oc_pba_hoc_hdxcret1(2.000000%)_dxfbcret1  0.000000\n",
       "             pba_oc_pba_hoc_hdxcret1(4.000000%)_dxfbcret1  0.000000\n",
       "             pba_oc_pba_hoc_hdxcret1(8.000000%)_dxfbcret1  0.000000\n",
       "  \n",
       "  [44088 rows x 1 columns]},\n",
       " 'dxfbcret2': {'pba_hlh_hdxcret2(0.5*avg,1)_dxfbcret2_hdxcret2(1*avg,1)_hdxcret2(2*avg,1)':                                                                -1\n",
       "  id0        id1                                                   \n",
       "  1996-01-03 pba_lh_pba_hlh_hdxcret2(0.5*avg,1)_dxfbcret2  0.000000\n",
       "             pba_lh_pba_hlh_hdxcret2(1*avg,1)_dxfbcret2    0.000000\n",
       "             pba_lh_pba_hlh_hdxcret2(2*avg,1)_dxfbcret2    0.000000\n",
       "  1996-01-04 pba_lh_pba_hlh_hdxcret2(0.5*avg,1)_dxfbcret2  0.001587\n",
       "             pba_lh_pba_hlh_hdxcret2(1*avg,1)_dxfbcret2    0.003175\n",
       "  ...                                                           ...\n",
       "  2018-01-05 pba_lh_pba_hlh_hdxcret2(1*avg,1)_dxfbcret2    0.002876\n",
       "             pba_lh_pba_hlh_hdxcret2(2*avg,1)_dxfbcret2    0.000000\n",
       "  2018-01-08 pba_lh_pba_hlh_hdxcret2(0.5*avg,1)_dxfbcret2  0.001650\n",
       "             pba_lh_pba_hlh_hdxcret2(1*avg,1)_dxfbcret2    0.003301\n",
       "             pba_lh_pba_hlh_hdxcret2(2*avg,1)_dxfbcret2    0.000000\n",
       "  \n",
       "  [16530 rows x 1 columns],\n",
       "  'pba_hoc_hdxcret2(0.5*avg,1)_dxfbcret2_hdxcret2(1*avg,1)_hdxcret2(2*avg,1)':                                                                -1\n",
       "  id0        id1                                                   \n",
       "  1996-01-03 pba_oc_pba_hoc_hdxcret2(0.5*avg,1)_dxfbcret2  0.002212\n",
       "             pba_oc_pba_hoc_hdxcret2(1*avg,1)_dxfbcret2    0.000000\n",
       "             pba_oc_pba_hoc_hdxcret2(2*avg,1)_dxfbcret2    0.000000\n",
       "  1996-01-04 pba_oc_pba_hoc_hdxcret2(0.5*avg,1)_dxfbcret2  0.000935\n",
       "             pba_oc_pba_hoc_hdxcret2(1*avg,1)_dxfbcret2    0.001871\n",
       "  ...                                                           ...\n",
       "  2018-01-05 pba_oc_pba_hoc_hdxcret2(1*avg,1)_dxfbcret2    0.002268\n",
       "             pba_oc_pba_hoc_hdxcret2(2*avg,1)_dxfbcret2    0.000000\n",
       "  2018-01-08 pba_oc_pba_hoc_hdxcret2(0.5*avg,1)_dxfbcret2  0.000826\n",
       "             pba_oc_pba_hoc_hdxcret2(1*avg,1)_dxfbcret2    0.001653\n",
       "             pba_oc_pba_hoc_hdxcret2(2*avg,1)_dxfbcret2    0.000000\n",
       "  \n",
       "  [16530 rows x 1 columns],\n",
       "  'pba_hlh_hdxcret2(0.5*mad,1)_dxfbcret2_hdxcret2(1*mad,1)_hdxcret2(2*mad,1)':                                                                -1\n",
       "  id0        id1                                                   \n",
       "  1996-01-03 pba_lh_pba_hlh_hdxcret2(0.5*mad,1)_dxfbcret2  0.000788\n",
       "             pba_lh_pba_hlh_hdxcret2(1*mad,1)_dxfbcret2    0.001576\n",
       "             pba_lh_pba_hlh_hdxcret2(2*mad,1)_dxfbcret2    0.003152\n",
       "  1996-01-04 pba_lh_pba_hlh_hdxcret2(0.5*mad,1)_dxfbcret2  0.000286\n",
       "             pba_lh_pba_hlh_hdxcret2(1*mad,1)_dxfbcret2    0.000572\n",
       "  ...                                                           ...\n",
       "  2018-01-05 pba_lh_pba_hlh_hdxcret2(1*mad,1)_dxfbcret2    0.000352\n",
       "             pba_lh_pba_hlh_hdxcret2(2*mad,1)_dxfbcret2    0.000705\n",
       "  2018-01-08 pba_lh_pba_hlh_hdxcret2(0.5*mad,1)_dxfbcret2  0.000610\n",
       "             pba_lh_pba_hlh_hdxcret2(1*mad,1)_dxfbcret2    0.001221\n",
       "             pba_lh_pba_hlh_hdxcret2(2*mad,1)_dxfbcret2    0.002441\n",
       "  \n",
       "  [16530 rows x 1 columns],\n",
       "  'pba_hoc_hdxcret2(0.5*mad,1)_dxfbcret2_hdxcret2(1*mad,1)_hdxcret2(2*mad,1)':                                                                -1\n",
       "  id0        id1                                                   \n",
       "  1996-01-03 pba_oc_pba_hoc_hdxcret2(0.5*mad,1)_dxfbcret2  0.000701\n",
       "             pba_oc_pba_hoc_hdxcret2(1*mad,1)_dxfbcret2    0.001402\n",
       "             pba_oc_pba_hoc_hdxcret2(2*mad,1)_dxfbcret2    0.002805\n",
       "  1996-01-04 pba_oc_pba_hoc_hdxcret2(0.5*mad,1)_dxfbcret2  0.000406\n",
       "             pba_oc_pba_hoc_hdxcret2(1*mad,1)_dxfbcret2    0.000811\n",
       "  ...                                                           ...\n",
       "  2018-01-05 pba_oc_pba_hoc_hdxcret2(1*mad,1)_dxfbcret2    0.000442\n",
       "             pba_oc_pba_hoc_hdxcret2(2*mad,1)_dxfbcret2    0.000883\n",
       "  2018-01-08 pba_oc_pba_hoc_hdxcret2(0.5*mad,1)_dxfbcret2  0.000680\n",
       "             pba_oc_pba_hoc_hdxcret2(1*mad,1)_dxfbcret2    0.001359\n",
       "             pba_oc_pba_hoc_hdxcret2(2*mad,1)_dxfbcret2    0.000000\n",
       "  \n",
       "  [16530 rows x 1 columns],\n",
       "  'pba_hlh_hdxcret2(0.5*max,1)_dxfbcret2_hdxcret2(1*max,1)_hdxcret2(2*max,1)':                                                                -1\n",
       "  id0        id1                                                   \n",
       "  1996-01-03 pba_lh_pba_hlh_hdxcret2(0.5*max,1)_dxfbcret2  0.000000\n",
       "             pba_lh_pba_hlh_hdxcret2(1*max,1)_dxfbcret2    0.000000\n",
       "             pba_lh_pba_hlh_hdxcret2(2*max,1)_dxfbcret2    0.000000\n",
       "  1996-01-04 pba_lh_pba_hlh_hdxcret2(0.5*max,1)_dxfbcret2  0.002208\n",
       "             pba_lh_pba_hlh_hdxcret2(1*max,1)_dxfbcret2    0.004416\n",
       "  ...                                                           ...\n",
       "  2018-01-05 pba_lh_pba_hlh_hdxcret2(1*max,1)_dxfbcret2    0.003759\n",
       "             pba_lh_pba_hlh_hdxcret2(2*max,1)_dxfbcret2    0.000000\n",
       "  2018-01-08 pba_lh_pba_hlh_hdxcret2(0.5*max,1)_dxfbcret2  0.002846\n",
       "             pba_lh_pba_hlh_hdxcret2(1*max,1)_dxfbcret2    0.000000\n",
       "             pba_lh_pba_hlh_hdxcret2(2*max,1)_dxfbcret2    0.000000\n",
       "  \n",
       "  [16530 rows x 1 columns],\n",
       "  'pba_hoc_hdxcret2(0.5*max,1)_dxfbcret2_hdxcret2(1*max,1)_hdxcret2(2*max,1)':                                                                -1\n",
       "  id0        id1                                                   \n",
       "  1996-01-03 pba_oc_pba_hoc_hdxcret2(0.5*max,1)_dxfbcret2  0.000000\n",
       "             pba_oc_pba_hoc_hdxcret2(1*max,1)_dxfbcret2    0.000000\n",
       "             pba_oc_pba_hoc_hdxcret2(2*max,1)_dxfbcret2    0.000000\n",
       "  1996-01-04 pba_oc_pba_hoc_hdxcret2(0.5*max,1)_dxfbcret2  0.001490\n",
       "             pba_oc_pba_hoc_hdxcret2(1*max,1)_dxfbcret2    0.002980\n",
       "  ...                                                           ...\n",
       "  2018-01-05 pba_oc_pba_hoc_hdxcret2(1*max,1)_dxfbcret2    0.002791\n",
       "             pba_oc_pba_hoc_hdxcret2(2*max,1)_dxfbcret2    0.000000\n",
       "  2018-01-08 pba_oc_pba_hoc_hdxcret2(0.5*max,1)_dxfbcret2  0.000000\n",
       "             pba_oc_pba_hoc_hdxcret2(1*max,1)_dxfbcret2    0.000000\n",
       "             pba_oc_pba_hoc_hdxcret2(2*max,1)_dxfbcret2    0.000000\n",
       "  \n",
       "  [16530 rows x 1 columns],\n",
       "  'pba_hlh_hdxcret2(0.5*min,1)_dxfbcret2_hdxcret2(1*min,1)_hdxcret2(2*min,1)':                                                                -1\n",
       "  id0        id1                                                   \n",
       "  1996-01-03 pba_lh_pba_hlh_hdxcret2(0.5*min,1)_dxfbcret2  0.002251\n",
       "             pba_lh_pba_hlh_hdxcret2(1*min,1)_dxfbcret2    0.000000\n",
       "             pba_lh_pba_hlh_hdxcret2(2*min,1)_dxfbcret2    0.000000\n",
       "  1996-01-04 pba_lh_pba_hlh_hdxcret2(0.5*min,1)_dxfbcret2  0.000653\n",
       "             pba_lh_pba_hlh_hdxcret2(1*min,1)_dxfbcret2    0.001305\n",
       "  ...                                                           ...\n",
       "  2018-01-05 pba_lh_pba_hlh_hdxcret2(1*min,1)_dxfbcret2    0.001809\n",
       "             pba_lh_pba_hlh_hdxcret2(2*min,1)_dxfbcret2    0.003619\n",
       "  2018-01-08 pba_lh_pba_hlh_hdxcret2(0.5*min,1)_dxfbcret2  0.000893\n",
       "             pba_lh_pba_hlh_hdxcret2(1*min,1)_dxfbcret2    0.001785\n",
       "             pba_lh_pba_hlh_hdxcret2(2*min,1)_dxfbcret2    0.003570\n",
       "  \n",
       "  [16530 rows x 1 columns],\n",
       "  'pba_hoc_hdxcret2(0.5*min,1)_dxfbcret2_hdxcret2(1*min,1)_hdxcret2(2*min,1)':                                                                -1\n",
       "  id0        id1                                                   \n",
       "  1996-01-03 pba_oc_pba_hoc_hdxcret2(0.5*min,1)_dxfbcret2  0.001185\n",
       "             pba_oc_pba_hoc_hdxcret2(1*min,1)_dxfbcret2    0.002370\n",
       "             pba_oc_pba_hoc_hdxcret2(2*min,1)_dxfbcret2    0.000000\n",
       "  1996-01-04 pba_oc_pba_hoc_hdxcret2(0.5*min,1)_dxfbcret2  0.000137\n",
       "             pba_oc_pba_hoc_hdxcret2(1*min,1)_dxfbcret2    0.000274\n",
       "  ...                                                           ...\n",
       "  2018-01-05 pba_oc_pba_hoc_hdxcret2(1*min,1)_dxfbcret2    0.001629\n",
       "             pba_oc_pba_hoc_hdxcret2(2*min,1)_dxfbcret2    0.003258\n",
       "  2018-01-08 pba_oc_pba_hoc_hdxcret2(0.5*min,1)_dxfbcret2 -0.000044\n",
       "             pba_oc_pba_hoc_hdxcret2(1*min,1)_dxfbcret2   -0.000088\n",
       "             pba_oc_pba_hoc_hdxcret2(2*min,1)_dxfbcret2   -0.000176\n",
       "  \n",
       "  [16530 rows x 1 columns],\n",
       "  'pba_hlh_hdxcret2(0.5*std,1)_dxfbcret2_hdxcret2(1*std,1)_hdxcret2(2*std,1)':                                                                -1\n",
       "  id0        id1                                                   \n",
       "  1996-01-03 pba_lh_pba_hlh_hdxcret2(0.5*std,1)_dxfbcret2  0.001184\n",
       "             pba_lh_pba_hlh_hdxcret2(1*std,1)_dxfbcret2    0.002369\n",
       "             pba_lh_pba_hlh_hdxcret2(2*std,1)_dxfbcret2    0.000000\n",
       "  1996-01-04 pba_lh_pba_hlh_hdxcret2(0.5*std,1)_dxfbcret2  0.000461\n",
       "             pba_lh_pba_hlh_hdxcret2(1*std,1)_dxfbcret2    0.000922\n",
       "  ...                                                           ...\n",
       "  2018-01-05 pba_lh_pba_hlh_hdxcret2(1*std,1)_dxfbcret2    0.000559\n",
       "             pba_lh_pba_hlh_hdxcret2(2*std,1)_dxfbcret2    0.001119\n",
       "  2018-01-08 pba_lh_pba_hlh_hdxcret2(0.5*std,1)_dxfbcret2  0.000760\n",
       "             pba_lh_pba_hlh_hdxcret2(1*std,1)_dxfbcret2    0.001520\n",
       "             pba_lh_pba_hlh_hdxcret2(2*std,1)_dxfbcret2    0.003041\n",
       "  \n",
       "  [16524 rows x 1 columns],\n",
       "  'pba_hoc_hdxcret2(0.5*std,1)_dxfbcret2_hdxcret2(1*std,1)_hdxcret2(2*std,1)':                                                                -1\n",
       "  id0        id1                                                   \n",
       "  1996-01-03 pba_oc_pba_hoc_hdxcret2(0.5*std,1)_dxfbcret2  0.000929\n",
       "             pba_oc_pba_hoc_hdxcret2(1*std,1)_dxfbcret2    0.001858\n",
       "             pba_oc_pba_hoc_hdxcret2(2*std,1)_dxfbcret2    0.000000\n",
       "  1996-01-04 pba_oc_pba_hoc_hdxcret2(0.5*std,1)_dxfbcret2  0.000488\n",
       "             pba_oc_pba_hoc_hdxcret2(1*std,1)_dxfbcret2    0.000975\n",
       "  ...                                                           ...\n",
       "  2018-01-05 pba_oc_pba_hoc_hdxcret2(1*std,1)_dxfbcret2    0.000503\n",
       "             pba_oc_pba_hoc_hdxcret2(2*std,1)_dxfbcret2    0.001006\n",
       "  2018-01-08 pba_oc_pba_hoc_hdxcret2(0.5*std,1)_dxfbcret2  0.000863\n",
       "             pba_oc_pba_hoc_hdxcret2(1*std,1)_dxfbcret2    0.001726\n",
       "             pba_oc_pba_hoc_hdxcret2(2*std,1)_dxfbcret2    0.000000\n",
       "  \n",
       "  [16524 rows x 1 columns]},\n",
       " 'dxfbdir1': {'pba_hlh_hdxcret1(1.000000%)_dxfbdir1_hdxcret1(2.000000%)_hdxcret1(3.000000%)_hdxcret1(4.000000%)_hdxcret1(5.000000%)_hdxcret1(6.000000%)_hdxcret1(7.000000%)_hdxcret1(8.000000%)':                                                          -1\n",
       "  id0        id1                                             \n",
       "  1996-01-02 pba_lh_pba_hlh_hdxcret1(1.000000%)_dxfbdir1  1.0\n",
       "             pba_lh_pba_hlh_hdxcret1(2.000000%)_dxfbdir1  1.0\n",
       "             pba_lh_pba_hlh_hdxcret1(3.000000%)_dxfbdir1  0.0\n",
       "             pba_lh_pba_hlh_hdxcret1(4.000000%)_dxfbdir1  0.0\n",
       "             pba_lh_pba_hlh_hdxcret1(5.000000%)_dxfbdir1  0.0\n",
       "  ...                                                     ...\n",
       "  2018-01-08 pba_lh_pba_hlh_hdxcret1(4.000000%)_dxfbdir1  0.0\n",
       "             pba_lh_pba_hlh_hdxcret1(5.000000%)_dxfbdir1  0.0\n",
       "             pba_lh_pba_hlh_hdxcret1(6.000000%)_dxfbdir1  0.0\n",
       "             pba_lh_pba_hlh_hdxcret1(7.000000%)_dxfbdir1  0.0\n",
       "             pba_lh_pba_hlh_hdxcret1(8.000000%)_dxfbdir1  0.0\n",
       "  \n",
       "  [44088 rows x 1 columns],\n",
       "  'pba_hoc_hdxcret1(1.000000%)_dxfbdir1_hdxcret1(2.000000%)_hdxcret1(3.000000%)_hdxcret1(4.000000%)_hdxcret1(5.000000%)_hdxcret1(6.000000%)_hdxcret1(7.000000%)_hdxcret1(8.000000%)':                                                          -1\n",
       "  id0        id1                                             \n",
       "  1996-01-02 pba_oc_pba_hoc_hdxcret1(1.000000%)_dxfbdir1  1.0\n",
       "             pba_oc_pba_hoc_hdxcret1(2.000000%)_dxfbdir1  0.0\n",
       "             pba_oc_pba_hoc_hdxcret1(3.000000%)_dxfbdir1  0.0\n",
       "             pba_oc_pba_hoc_hdxcret1(4.000000%)_dxfbdir1  0.0\n",
       "             pba_oc_pba_hoc_hdxcret1(5.000000%)_dxfbdir1  0.0\n",
       "  ...                                                     ...\n",
       "  2018-01-08 pba_oc_pba_hoc_hdxcret1(4.000000%)_dxfbdir1  0.0\n",
       "             pba_oc_pba_hoc_hdxcret1(5.000000%)_dxfbdir1  0.0\n",
       "             pba_oc_pba_hoc_hdxcret1(6.000000%)_dxfbdir1  0.0\n",
       "             pba_oc_pba_hoc_hdxcret1(7.000000%)_dxfbdir1  0.0\n",
       "             pba_oc_pba_hoc_hdxcret1(8.000000%)_dxfbdir1  0.0\n",
       "  \n",
       "  [44088 rows x 1 columns],\n",
       "  'pba_hlh_hdxcret1(0.062500%)_dxfbdir1_hdxcret1(0.125000%)_hdxcret1(0.250000%)_hdxcret1(0.500000%)_hdxcret1(1.000000%)_hdxcret1(2.000000%)_hdxcret1(4.000000%)_hdxcret1(8.000000%)':                                                          -1\n",
       "  id0        id1                                             \n",
       "  1996-01-02 pba_lh_pba_hlh_hdxcret1(0.062500%)_dxfbdir1  1.0\n",
       "             pba_lh_pba_hlh_hdxcret1(0.125000%)_dxfbdir1  1.0\n",
       "             pba_lh_pba_hlh_hdxcret1(0.250000%)_dxfbdir1  1.0\n",
       "             pba_lh_pba_hlh_hdxcret1(0.500000%)_dxfbdir1  1.0\n",
       "             pba_lh_pba_hlh_hdxcret1(1.000000%)_dxfbdir1  1.0\n",
       "  ...                                                     ...\n",
       "  2018-01-08 pba_lh_pba_hlh_hdxcret1(0.500000%)_dxfbdir1  1.0\n",
       "             pba_lh_pba_hlh_hdxcret1(1.000000%)_dxfbdir1  0.0\n",
       "             pba_lh_pba_hlh_hdxcret1(2.000000%)_dxfbdir1  0.0\n",
       "             pba_lh_pba_hlh_hdxcret1(4.000000%)_dxfbdir1  0.0\n",
       "             pba_lh_pba_hlh_hdxcret1(8.000000%)_dxfbdir1  0.0\n",
       "  \n",
       "  [44088 rows x 1 columns],\n",
       "  'pba_hoc_hdxcret1(0.062500%)_dxfbdir1_hdxcret1(0.125000%)_hdxcret1(0.250000%)_hdxcret1(0.500000%)_hdxcret1(1.000000%)_hdxcret1(2.000000%)_hdxcret1(4.000000%)_hdxcret1(8.000000%)':                                                          -1\n",
       "  id0        id1                                             \n",
       "  1996-01-02 pba_oc_pba_hoc_hdxcret1(0.062500%)_dxfbdir1 -1.0\n",
       "             pba_oc_pba_hoc_hdxcret1(0.125000%)_dxfbdir1 -1.0\n",
       "             pba_oc_pba_hoc_hdxcret1(0.250000%)_dxfbdir1 -1.0\n",
       "             pba_oc_pba_hoc_hdxcret1(0.500000%)_dxfbdir1 -1.0\n",
       "             pba_oc_pba_hoc_hdxcret1(1.000000%)_dxfbdir1  1.0\n",
       "  ...                                                     ...\n",
       "  2018-01-08 pba_oc_pba_hoc_hdxcret1(0.500000%)_dxfbdir1  0.0\n",
       "             pba_oc_pba_hoc_hdxcret1(1.000000%)_dxfbdir1  0.0\n",
       "             pba_oc_pba_hoc_hdxcret1(2.000000%)_dxfbdir1  0.0\n",
       "             pba_oc_pba_hoc_hdxcret1(4.000000%)_dxfbdir1  0.0\n",
       "             pba_oc_pba_hoc_hdxcret1(8.000000%)_dxfbdir1  0.0\n",
       "  \n",
       "  [44088 rows x 1 columns]},\n",
       " 'dxfbdir2': {'pba_hlh_hdxcret2(0.5*avg,1)_dxfbdir2_hdxcret2(1*avg,1)_hdxcret2(2*avg,1)':                                                          -1\n",
       "  id0        id1                                             \n",
       "  1996-01-03 pba_lh_pba_hlh_hdxcret2(0.5*avg,1)_dxfbdir2  0.0\n",
       "             pba_lh_pba_hlh_hdxcret2(1*avg,1)_dxfbdir2    0.0\n",
       "             pba_lh_pba_hlh_hdxcret2(2*avg,1)_dxfbdir2    0.0\n",
       "  1996-01-04 pba_lh_pba_hlh_hdxcret2(0.5*avg,1)_dxfbdir2  1.0\n",
       "             pba_lh_pba_hlh_hdxcret2(1*avg,1)_dxfbdir2    1.0\n",
       "  ...                                                     ...\n",
       "  2018-01-05 pba_lh_pba_hlh_hdxcret2(1*avg,1)_dxfbdir2    1.0\n",
       "             pba_lh_pba_hlh_hdxcret2(2*avg,1)_dxfbdir2    0.0\n",
       "  2018-01-08 pba_lh_pba_hlh_hdxcret2(0.5*avg,1)_dxfbdir2  1.0\n",
       "             pba_lh_pba_hlh_hdxcret2(1*avg,1)_dxfbdir2    1.0\n",
       "             pba_lh_pba_hlh_hdxcret2(2*avg,1)_dxfbdir2    0.0\n",
       "  \n",
       "  [16530 rows x 1 columns],\n",
       "  'pba_hoc_hdxcret2(0.5*avg,1)_dxfbdir2_hdxcret2(1*avg,1)_hdxcret2(2*avg,1)':                                                          -1\n",
       "  id0        id1                                             \n",
       "  1996-01-03 pba_oc_pba_hoc_hdxcret2(0.5*avg,1)_dxfbdir2  1.0\n",
       "             pba_oc_pba_hoc_hdxcret2(1*avg,1)_dxfbdir2    0.0\n",
       "             pba_oc_pba_hoc_hdxcret2(2*avg,1)_dxfbdir2    0.0\n",
       "  1996-01-04 pba_oc_pba_hoc_hdxcret2(0.5*avg,1)_dxfbdir2  1.0\n",
       "             pba_oc_pba_hoc_hdxcret2(1*avg,1)_dxfbdir2    1.0\n",
       "  ...                                                     ...\n",
       "  2018-01-05 pba_oc_pba_hoc_hdxcret2(1*avg,1)_dxfbdir2    1.0\n",
       "             pba_oc_pba_hoc_hdxcret2(2*avg,1)_dxfbdir2    0.0\n",
       "  2018-01-08 pba_oc_pba_hoc_hdxcret2(0.5*avg,1)_dxfbdir2  1.0\n",
       "             pba_oc_pba_hoc_hdxcret2(1*avg,1)_dxfbdir2    1.0\n",
       "             pba_oc_pba_hoc_hdxcret2(2*avg,1)_dxfbdir2    0.0\n",
       "  \n",
       "  [16530 rows x 1 columns],\n",
       "  'pba_hlh_hdxcret2(0.5*mad,1)_dxfbdir2_hdxcret2(1*mad,1)_hdxcret2(2*mad,1)':                                                          -1\n",
       "  id0        id1                                             \n",
       "  1996-01-03 pba_lh_pba_hlh_hdxcret2(0.5*mad,1)_dxfbdir2  1.0\n",
       "             pba_lh_pba_hlh_hdxcret2(1*mad,1)_dxfbdir2    1.0\n",
       "             pba_lh_pba_hlh_hdxcret2(2*mad,1)_dxfbdir2    1.0\n",
       "  1996-01-04 pba_lh_pba_hlh_hdxcret2(0.5*mad,1)_dxfbdir2  1.0\n",
       "             pba_lh_pba_hlh_hdxcret2(1*mad,1)_dxfbdir2    1.0\n",
       "  ...                                                     ...\n",
       "  2018-01-05 pba_lh_pba_hlh_hdxcret2(1*mad,1)_dxfbdir2    1.0\n",
       "             pba_lh_pba_hlh_hdxcret2(2*mad,1)_dxfbdir2    1.0\n",
       "  2018-01-08 pba_lh_pba_hlh_hdxcret2(0.5*mad,1)_dxfbdir2  1.0\n",
       "             pba_lh_pba_hlh_hdxcret2(1*mad,1)_dxfbdir2    1.0\n",
       "             pba_lh_pba_hlh_hdxcret2(2*mad,1)_dxfbdir2    1.0\n",
       "  \n",
       "  [16530 rows x 1 columns],\n",
       "  'pba_hoc_hdxcret2(0.5*mad,1)_dxfbdir2_hdxcret2(1*mad,1)_hdxcret2(2*mad,1)':                                                          -1\n",
       "  id0        id1                                             \n",
       "  1996-01-03 pba_oc_pba_hoc_hdxcret2(0.5*mad,1)_dxfbdir2  1.0\n",
       "             pba_oc_pba_hoc_hdxcret2(1*mad,1)_dxfbdir2    1.0\n",
       "             pba_oc_pba_hoc_hdxcret2(2*mad,1)_dxfbdir2    1.0\n",
       "  1996-01-04 pba_oc_pba_hoc_hdxcret2(0.5*mad,1)_dxfbdir2  1.0\n",
       "             pba_oc_pba_hoc_hdxcret2(1*mad,1)_dxfbdir2    1.0\n",
       "  ...                                                     ...\n",
       "  2018-01-05 pba_oc_pba_hoc_hdxcret2(1*mad,1)_dxfbdir2    1.0\n",
       "             pba_oc_pba_hoc_hdxcret2(2*mad,1)_dxfbdir2    1.0\n",
       "  2018-01-08 pba_oc_pba_hoc_hdxcret2(0.5*mad,1)_dxfbdir2  1.0\n",
       "             pba_oc_pba_hoc_hdxcret2(1*mad,1)_dxfbdir2    1.0\n",
       "             pba_oc_pba_hoc_hdxcret2(2*mad,1)_dxfbdir2    0.0\n",
       "  \n",
       "  [16530 rows x 1 columns],\n",
       "  'pba_hlh_hdxcret2(0.5*max,1)_dxfbdir2_hdxcret2(1*max,1)_hdxcret2(2*max,1)':                                                          -1\n",
       "  id0        id1                                             \n",
       "  1996-01-03 pba_lh_pba_hlh_hdxcret2(0.5*max,1)_dxfbdir2  0.0\n",
       "             pba_lh_pba_hlh_hdxcret2(1*max,1)_dxfbdir2    0.0\n",
       "             pba_lh_pba_hlh_hdxcret2(2*max,1)_dxfbdir2    0.0\n",
       "  1996-01-04 pba_lh_pba_hlh_hdxcret2(0.5*max,1)_dxfbdir2  1.0\n",
       "             pba_lh_pba_hlh_hdxcret2(1*max,1)_dxfbdir2    1.0\n",
       "  ...                                                     ...\n",
       "  2018-01-05 pba_lh_pba_hlh_hdxcret2(1*max,1)_dxfbdir2    1.0\n",
       "             pba_lh_pba_hlh_hdxcret2(2*max,1)_dxfbdir2    0.0\n",
       "  2018-01-08 pba_lh_pba_hlh_hdxcret2(0.5*max,1)_dxfbdir2  1.0\n",
       "             pba_lh_pba_hlh_hdxcret2(1*max,1)_dxfbdir2    0.0\n",
       "             pba_lh_pba_hlh_hdxcret2(2*max,1)_dxfbdir2    0.0\n",
       "  \n",
       "  [16530 rows x 1 columns],\n",
       "  'pba_hoc_hdxcret2(0.5*max,1)_dxfbdir2_hdxcret2(1*max,1)_hdxcret2(2*max,1)':                                                          -1\n",
       "  id0        id1                                             \n",
       "  1996-01-03 pba_oc_pba_hoc_hdxcret2(0.5*max,1)_dxfbdir2  0.0\n",
       "             pba_oc_pba_hoc_hdxcret2(1*max,1)_dxfbdir2    0.0\n",
       "             pba_oc_pba_hoc_hdxcret2(2*max,1)_dxfbdir2    0.0\n",
       "  1996-01-04 pba_oc_pba_hoc_hdxcret2(0.5*max,1)_dxfbdir2  1.0\n",
       "             pba_oc_pba_hoc_hdxcret2(1*max,1)_dxfbdir2    1.0\n",
       "  ...                                                     ...\n",
       "  2018-01-05 pba_oc_pba_hoc_hdxcret2(1*max,1)_dxfbdir2    1.0\n",
       "             pba_oc_pba_hoc_hdxcret2(2*max,1)_dxfbdir2    0.0\n",
       "  2018-01-08 pba_oc_pba_hoc_hdxcret2(0.5*max,1)_dxfbdir2  0.0\n",
       "             pba_oc_pba_hoc_hdxcret2(1*max,1)_dxfbdir2    0.0\n",
       "             pba_oc_pba_hoc_hdxcret2(2*max,1)_dxfbdir2    0.0\n",
       "  \n",
       "  [16530 rows x 1 columns],\n",
       "  'pba_hlh_hdxcret2(0.5*min,1)_dxfbdir2_hdxcret2(1*min,1)_hdxcret2(2*min,1)':                                                          -1\n",
       "  id0        id1                                             \n",
       "  1996-01-03 pba_lh_pba_hlh_hdxcret2(0.5*min,1)_dxfbdir2  1.0\n",
       "             pba_lh_pba_hlh_hdxcret2(1*min,1)_dxfbdir2    0.0\n",
       "             pba_lh_pba_hlh_hdxcret2(2*min,1)_dxfbdir2    0.0\n",
       "  1996-01-04 pba_lh_pba_hlh_hdxcret2(0.5*min,1)_dxfbdir2  1.0\n",
       "             pba_lh_pba_hlh_hdxcret2(1*min,1)_dxfbdir2    1.0\n",
       "  ...                                                     ...\n",
       "  2018-01-05 pba_lh_pba_hlh_hdxcret2(1*min,1)_dxfbdir2    1.0\n",
       "             pba_lh_pba_hlh_hdxcret2(2*min,1)_dxfbdir2    1.0\n",
       "  2018-01-08 pba_lh_pba_hlh_hdxcret2(0.5*min,1)_dxfbdir2  1.0\n",
       "             pba_lh_pba_hlh_hdxcret2(1*min,1)_dxfbdir2    1.0\n",
       "             pba_lh_pba_hlh_hdxcret2(2*min,1)_dxfbdir2    1.0\n",
       "  \n",
       "  [16530 rows x 1 columns],\n",
       "  'pba_hoc_hdxcret2(0.5*min,1)_dxfbdir2_hdxcret2(1*min,1)_hdxcret2(2*min,1)':                                                          -1\n",
       "  id0        id1                                             \n",
       "  1996-01-03 pba_oc_pba_hoc_hdxcret2(0.5*min,1)_dxfbdir2  1.0\n",
       "             pba_oc_pba_hoc_hdxcret2(1*min,1)_dxfbdir2    1.0\n",
       "             pba_oc_pba_hoc_hdxcret2(2*min,1)_dxfbdir2    0.0\n",
       "  1996-01-04 pba_oc_pba_hoc_hdxcret2(0.5*min,1)_dxfbdir2  1.0\n",
       "             pba_oc_pba_hoc_hdxcret2(1*min,1)_dxfbdir2    1.0\n",
       "  ...                                                     ...\n",
       "  2018-01-05 pba_oc_pba_hoc_hdxcret2(1*min,1)_dxfbdir2    1.0\n",
       "             pba_oc_pba_hoc_hdxcret2(2*min,1)_dxfbdir2    1.0\n",
       "  2018-01-08 pba_oc_pba_hoc_hdxcret2(0.5*min,1)_dxfbdir2 -1.0\n",
       "             pba_oc_pba_hoc_hdxcret2(1*min,1)_dxfbdir2   -1.0\n",
       "             pba_oc_pba_hoc_hdxcret2(2*min,1)_dxfbdir2   -1.0\n",
       "  \n",
       "  [16530 rows x 1 columns],\n",
       "  'pba_hlh_hdxcret2(0.5*std,1)_dxfbdir2_hdxcret2(1*std,1)_hdxcret2(2*std,1)':                                                          -1\n",
       "  id0        id1                                             \n",
       "  1996-01-03 pba_lh_pba_hlh_hdxcret2(0.5*std,1)_dxfbdir2  1.0\n",
       "             pba_lh_pba_hlh_hdxcret2(1*std,1)_dxfbdir2    1.0\n",
       "             pba_lh_pba_hlh_hdxcret2(2*std,1)_dxfbdir2    0.0\n",
       "  1996-01-04 pba_lh_pba_hlh_hdxcret2(0.5*std,1)_dxfbdir2  1.0\n",
       "             pba_lh_pba_hlh_hdxcret2(1*std,1)_dxfbdir2    1.0\n",
       "  ...                                                     ...\n",
       "  2018-01-05 pba_lh_pba_hlh_hdxcret2(1*std,1)_dxfbdir2    1.0\n",
       "             pba_lh_pba_hlh_hdxcret2(2*std,1)_dxfbdir2    1.0\n",
       "  2018-01-08 pba_lh_pba_hlh_hdxcret2(0.5*std,1)_dxfbdir2  1.0\n",
       "             pba_lh_pba_hlh_hdxcret2(1*std,1)_dxfbdir2    1.0\n",
       "             pba_lh_pba_hlh_hdxcret2(2*std,1)_dxfbdir2    1.0\n",
       "  \n",
       "  [16524 rows x 1 columns],\n",
       "  'pba_hoc_hdxcret2(0.5*std,1)_dxfbdir2_hdxcret2(1*std,1)_hdxcret2(2*std,1)':                                                          -1\n",
       "  id0        id1                                             \n",
       "  1996-01-03 pba_oc_pba_hoc_hdxcret2(0.5*std,1)_dxfbdir2  1.0\n",
       "             pba_oc_pba_hoc_hdxcret2(1*std,1)_dxfbdir2    1.0\n",
       "             pba_oc_pba_hoc_hdxcret2(2*std,1)_dxfbdir2    0.0\n",
       "  1996-01-04 pba_oc_pba_hoc_hdxcret2(0.5*std,1)_dxfbdir2  1.0\n",
       "             pba_oc_pba_hoc_hdxcret2(1*std,1)_dxfbdir2    1.0\n",
       "  ...                                                     ...\n",
       "  2018-01-05 pba_oc_pba_hoc_hdxcret2(1*std,1)_dxfbdir2    1.0\n",
       "             pba_oc_pba_hoc_hdxcret2(2*std,1)_dxfbdir2    1.0\n",
       "  2018-01-08 pba_oc_pba_hoc_hdxcret2(0.5*std,1)_dxfbdir2  1.0\n",
       "             pba_oc_pba_hoc_hdxcret2(1*std,1)_dxfbdir2    1.0\n",
       "             pba_oc_pba_hoc_hdxcret2(2*std,1)_dxfbdir2    0.0\n",
       "  \n",
       "  [16524 rows x 1 columns]},\n",
       " 'dxfbval1': {'pba_hlh_hdxcret1(1.000000%)_dxfbval1_hdxcret1(2.000000%)_hdxcret1(3.000000%)_hdxcret1(4.000000%)_hdxcret1(5.000000%)_hdxcret1(6.000000%)_hdxcret1(7.000000%)_hdxcret1(8.000000%)':                                                               -1\n",
       "  id0        id1                                                  \n",
       "  1996-01-02 pba_lh_pba_hlh_hdxcret1(1.000000%)_dxfbval1  0.777778\n",
       "             pba_lh_pba_hlh_hdxcret1(2.000000%)_dxfbval1  0.222222\n",
       "             pba_lh_pba_hlh_hdxcret1(3.000000%)_dxfbval1  0.000000\n",
       "             pba_lh_pba_hlh_hdxcret1(4.000000%)_dxfbval1  0.000000\n",
       "             pba_lh_pba_hlh_hdxcret1(5.000000%)_dxfbval1  0.000000\n",
       "  ...                                                          ...\n",
       "  2018-01-08 pba_lh_pba_hlh_hdxcret1(4.000000%)_dxfbval1  0.000000\n",
       "             pba_lh_pba_hlh_hdxcret1(5.000000%)_dxfbval1  0.000000\n",
       "             pba_lh_pba_hlh_hdxcret1(6.000000%)_dxfbval1  0.000000\n",
       "             pba_lh_pba_hlh_hdxcret1(7.000000%)_dxfbval1  0.000000\n",
       "             pba_lh_pba_hlh_hdxcret1(8.000000%)_dxfbval1  0.000000\n",
       "  \n",
       "  [44088 rows x 1 columns],\n",
       "  'pba_hoc_hdxcret1(1.000000%)_dxfbval1_hdxcret1(2.000000%)_hdxcret1(3.000000%)_hdxcret1(4.000000%)_hdxcret1(5.000000%)_hdxcret1(6.000000%)_hdxcret1(7.000000%)_hdxcret1(8.000000%)':                                                               -1\n",
       "  id0        id1                                                  \n",
       "  1996-01-02 pba_oc_pba_hoc_hdxcret1(1.000000%)_dxfbval1  0.222222\n",
       "             pba_oc_pba_hoc_hdxcret1(2.000000%)_dxfbval1  0.000000\n",
       "             pba_oc_pba_hoc_hdxcret1(3.000000%)_dxfbval1  0.000000\n",
       "             pba_oc_pba_hoc_hdxcret1(4.000000%)_dxfbval1  0.000000\n",
       "             pba_oc_pba_hoc_hdxcret1(5.000000%)_dxfbval1  0.000000\n",
       "  ...                                                          ...\n",
       "  2018-01-08 pba_oc_pba_hoc_hdxcret1(4.000000%)_dxfbval1  0.000000\n",
       "             pba_oc_pba_hoc_hdxcret1(5.000000%)_dxfbval1  0.000000\n",
       "             pba_oc_pba_hoc_hdxcret1(6.000000%)_dxfbval1  0.000000\n",
       "             pba_oc_pba_hoc_hdxcret1(7.000000%)_dxfbval1  0.000000\n",
       "             pba_oc_pba_hoc_hdxcret1(8.000000%)_dxfbval1  0.000000\n",
       "  \n",
       "  [44088 rows x 1 columns],\n",
       "  'pba_hlh_hdxcret1(0.062500%)_dxfbval1_hdxcret1(0.125000%)_hdxcret1(0.250000%)_hdxcret1(0.500000%)_hdxcret1(1.000000%)_hdxcret1(2.000000%)_hdxcret1(4.000000%)_hdxcret1(8.000000%)':                                                               -1\n",
       "  id0        id1                                                  \n",
       "  1996-01-02 pba_lh_pba_hlh_hdxcret1(0.062500%)_dxfbval1  0.888889\n",
       "             pba_lh_pba_hlh_hdxcret1(0.125000%)_dxfbval1  0.888889\n",
       "             pba_lh_pba_hlh_hdxcret1(0.250000%)_dxfbval1  0.888889\n",
       "             pba_lh_pba_hlh_hdxcret1(0.500000%)_dxfbval1  0.888889\n",
       "             pba_lh_pba_hlh_hdxcret1(1.000000%)_dxfbval1  0.777778\n",
       "  ...                                                          ...\n",
       "  2018-01-08 pba_lh_pba_hlh_hdxcret1(0.500000%)_dxfbval1  0.444444\n",
       "             pba_lh_pba_hlh_hdxcret1(1.000000%)_dxfbval1  0.000000\n",
       "             pba_lh_pba_hlh_hdxcret1(2.000000%)_dxfbval1  0.000000\n",
       "             pba_lh_pba_hlh_hdxcret1(4.000000%)_dxfbval1  0.000000\n",
       "             pba_lh_pba_hlh_hdxcret1(8.000000%)_dxfbval1  0.000000\n",
       "  \n",
       "  [44088 rows x 1 columns],\n",
       "  'pba_hoc_hdxcret1(0.062500%)_dxfbval1_hdxcret1(0.125000%)_hdxcret1(0.250000%)_hdxcret1(0.500000%)_hdxcret1(1.000000%)_hdxcret1(2.000000%)_hdxcret1(4.000000%)_hdxcret1(8.000000%)':                                                               -1\n",
       "  id0        id1                                                  \n",
       "  1996-01-02 pba_oc_pba_hoc_hdxcret1(0.062500%)_dxfbval1  0.888889\n",
       "             pba_oc_pba_hoc_hdxcret1(0.125000%)_dxfbval1  0.888889\n",
       "             pba_oc_pba_hoc_hdxcret1(0.250000%)_dxfbval1  0.888889\n",
       "             pba_oc_pba_hoc_hdxcret1(0.500000%)_dxfbval1  0.888889\n",
       "             pba_oc_pba_hoc_hdxcret1(1.000000%)_dxfbval1  0.222222\n",
       "  ...                                                          ...\n",
       "  2018-01-08 pba_oc_pba_hoc_hdxcret1(0.500000%)_dxfbval1  0.000000\n",
       "             pba_oc_pba_hoc_hdxcret1(1.000000%)_dxfbval1  0.000000\n",
       "             pba_oc_pba_hoc_hdxcret1(2.000000%)_dxfbval1  0.000000\n",
       "             pba_oc_pba_hoc_hdxcret1(4.000000%)_dxfbval1  0.000000\n",
       "             pba_oc_pba_hoc_hdxcret1(8.000000%)_dxfbval1  0.000000\n",
       "  \n",
       "  [44088 rows x 1 columns]},\n",
       " 'dxfbval2': {'pba_hlh_hdxcret2(0.5*avg,1)_dxfbval2_hdxcret2(1*avg,1)_hdxcret2(2*avg,1)':                                                               -1\n",
       "  id0        id1                                                  \n",
       "  1996-01-03 pba_lh_pba_hlh_hdxcret2(0.5*avg,1)_dxfbval2  0.000000\n",
       "             pba_lh_pba_hlh_hdxcret2(1*avg,1)_dxfbval2    0.000000\n",
       "             pba_lh_pba_hlh_hdxcret2(2*avg,1)_dxfbval2    0.000000\n",
       "  1996-01-04 pba_lh_pba_hlh_hdxcret2(0.5*avg,1)_dxfbval2  0.888889\n",
       "             pba_lh_pba_hlh_hdxcret2(1*avg,1)_dxfbval2    0.888889\n",
       "  ...                                                          ...\n",
       "  2018-01-05 pba_lh_pba_hlh_hdxcret2(1*avg,1)_dxfbval2    0.333333\n",
       "             pba_lh_pba_hlh_hdxcret2(2*avg,1)_dxfbval2    0.000000\n",
       "  2018-01-08 pba_lh_pba_hlh_hdxcret2(0.5*avg,1)_dxfbval2  0.888889\n",
       "             pba_lh_pba_hlh_hdxcret2(1*avg,1)_dxfbval2    0.444444\n",
       "             pba_lh_pba_hlh_hdxcret2(2*avg,1)_dxfbval2    0.000000\n",
       "  \n",
       "  [16530 rows x 1 columns],\n",
       "  'pba_hoc_hdxcret2(0.5*avg,1)_dxfbval2_hdxcret2(1*avg,1)_hdxcret2(2*avg,1)':                                                               -1\n",
       "  id0        id1                                                  \n",
       "  1996-01-03 pba_oc_pba_hoc_hdxcret2(0.5*avg,1)_dxfbval2  0.888889\n",
       "             pba_oc_pba_hoc_hdxcret2(1*avg,1)_dxfbval2    0.000000\n",
       "             pba_oc_pba_hoc_hdxcret2(2*avg,1)_dxfbval2    0.000000\n",
       "  1996-01-04 pba_oc_pba_hoc_hdxcret2(0.5*avg,1)_dxfbval2  0.888889\n",
       "             pba_oc_pba_hoc_hdxcret2(1*avg,1)_dxfbval2    0.888889\n",
       "  ...                                                          ...\n",
       "  2018-01-05 pba_oc_pba_hoc_hdxcret2(1*avg,1)_dxfbval2    0.222222\n",
       "             pba_oc_pba_hoc_hdxcret2(2*avg,1)_dxfbval2    0.000000\n",
       "  2018-01-08 pba_oc_pba_hoc_hdxcret2(0.5*avg,1)_dxfbval2  0.444444\n",
       "             pba_oc_pba_hoc_hdxcret2(1*avg,1)_dxfbval2    0.333333\n",
       "             pba_oc_pba_hoc_hdxcret2(2*avg,1)_dxfbval2    0.000000\n",
       "  \n",
       "  [16530 rows x 1 columns],\n",
       "  'pba_hlh_hdxcret2(0.5*mad,1)_dxfbval2_hdxcret2(1*mad,1)_hdxcret2(2*mad,1)':                                                               -1\n",
       "  id0        id1                                                  \n",
       "  1996-01-03 pba_lh_pba_hlh_hdxcret2(0.5*mad,1)_dxfbval2  0.888889\n",
       "             pba_lh_pba_hlh_hdxcret2(1*mad,1)_dxfbval2    0.888889\n",
       "             pba_lh_pba_hlh_hdxcret2(2*mad,1)_dxfbval2    0.888889\n",
       "  1996-01-04 pba_lh_pba_hlh_hdxcret2(0.5*mad,1)_dxfbval2  0.888889\n",
       "             pba_lh_pba_hlh_hdxcret2(1*mad,1)_dxfbval2    0.888889\n",
       "  ...                                                          ...\n",
       "  2018-01-05 pba_lh_pba_hlh_hdxcret2(1*mad,1)_dxfbval2    0.888889\n",
       "             pba_lh_pba_hlh_hdxcret2(2*mad,1)_dxfbval2    0.888889\n",
       "  2018-01-08 pba_lh_pba_hlh_hdxcret2(0.5*mad,1)_dxfbval2  0.888889\n",
       "             pba_lh_pba_hlh_hdxcret2(1*mad,1)_dxfbval2    0.888889\n",
       "             pba_lh_pba_hlh_hdxcret2(2*mad,1)_dxfbval2    0.444444\n",
       "  \n",
       "  [16530 rows x 1 columns],\n",
       "  'pba_hoc_hdxcret2(0.5*mad,1)_dxfbval2_hdxcret2(1*mad,1)_hdxcret2(2*mad,1)':                                                               -1\n",
       "  id0        id1                                                  \n",
       "  1996-01-03 pba_oc_pba_hoc_hdxcret2(0.5*mad,1)_dxfbval2  0.888889\n",
       "             pba_oc_pba_hoc_hdxcret2(1*mad,1)_dxfbval2    0.888889\n",
       "             pba_oc_pba_hoc_hdxcret2(2*mad,1)_dxfbval2    0.888889\n",
       "  1996-01-04 pba_oc_pba_hoc_hdxcret2(0.5*mad,1)_dxfbval2  0.888889\n",
       "             pba_oc_pba_hoc_hdxcret2(1*mad,1)_dxfbval2    0.888889\n",
       "  ...                                                          ...\n",
       "  2018-01-05 pba_oc_pba_hoc_hdxcret2(1*mad,1)_dxfbval2    0.666667\n",
       "             pba_oc_pba_hoc_hdxcret2(2*mad,1)_dxfbval2    0.666667\n",
       "  2018-01-08 pba_oc_pba_hoc_hdxcret2(0.5*mad,1)_dxfbval2  0.444444\n",
       "             pba_oc_pba_hoc_hdxcret2(1*mad,1)_dxfbval2    0.444444\n",
       "             pba_oc_pba_hoc_hdxcret2(2*mad,1)_dxfbval2    0.000000\n",
       "  \n",
       "  [16530 rows x 1 columns],\n",
       "  'pba_hlh_hdxcret2(0.5*max,1)_dxfbval2_hdxcret2(1*max,1)_hdxcret2(2*max,1)':                                                               -1\n",
       "  id0        id1                                                  \n",
       "  1996-01-03 pba_lh_pba_hlh_hdxcret2(0.5*max,1)_dxfbval2  0.000000\n",
       "             pba_lh_pba_hlh_hdxcret2(1*max,1)_dxfbval2    0.000000\n",
       "             pba_lh_pba_hlh_hdxcret2(2*max,1)_dxfbval2    0.000000\n",
       "  1996-01-04 pba_lh_pba_hlh_hdxcret2(0.5*max,1)_dxfbval2  0.888889\n",
       "             pba_lh_pba_hlh_hdxcret2(1*max,1)_dxfbval2    0.888889\n",
       "  ...                                                          ...\n",
       "  2018-01-05 pba_lh_pba_hlh_hdxcret2(1*max,1)_dxfbval2    0.222222\n",
       "             pba_lh_pba_hlh_hdxcret2(2*max,1)_dxfbval2    0.000000\n",
       "  2018-01-08 pba_lh_pba_hlh_hdxcret2(0.5*max,1)_dxfbval2  0.444444\n",
       "             pba_lh_pba_hlh_hdxcret2(1*max,1)_dxfbval2    0.000000\n",
       "             pba_lh_pba_hlh_hdxcret2(2*max,1)_dxfbval2    0.000000\n",
       "  \n",
       "  [16530 rows x 1 columns],\n",
       "  'pba_hoc_hdxcret2(0.5*max,1)_dxfbval2_hdxcret2(1*max,1)_hdxcret2(2*max,1)':                                                               -1\n",
       "  id0        id1                                                  \n",
       "  1996-01-03 pba_oc_pba_hoc_hdxcret2(0.5*max,1)_dxfbval2  0.000000\n",
       "             pba_oc_pba_hoc_hdxcret2(1*max,1)_dxfbval2    0.000000\n",
       "             pba_oc_pba_hoc_hdxcret2(2*max,1)_dxfbval2    0.000000\n",
       "  1996-01-04 pba_oc_pba_hoc_hdxcret2(0.5*max,1)_dxfbval2  0.888889\n",
       "             pba_oc_pba_hoc_hdxcret2(1*max,1)_dxfbval2    0.888889\n",
       "  ...                                                          ...\n",
       "  2018-01-05 pba_oc_pba_hoc_hdxcret2(1*max,1)_dxfbval2    0.222222\n",
       "             pba_oc_pba_hoc_hdxcret2(2*max,1)_dxfbval2    0.000000\n",
       "  2018-01-08 pba_oc_pba_hoc_hdxcret2(0.5*max,1)_dxfbval2  0.000000\n",
       "             pba_oc_pba_hoc_hdxcret2(1*max,1)_dxfbval2    0.000000\n",
       "             pba_oc_pba_hoc_hdxcret2(2*max,1)_dxfbval2    0.000000\n",
       "  \n",
       "  [16530 rows x 1 columns],\n",
       "  'pba_hlh_hdxcret2(0.5*min,1)_dxfbval2_hdxcret2(1*min,1)_hdxcret2(2*min,1)':                                                               -1\n",
       "  id0        id1                                                  \n",
       "  1996-01-03 pba_lh_pba_hlh_hdxcret2(0.5*min,1)_dxfbval2  0.888889\n",
       "             pba_lh_pba_hlh_hdxcret2(1*min,1)_dxfbval2    0.000000\n",
       "             pba_lh_pba_hlh_hdxcret2(2*min,1)_dxfbval2    0.000000\n",
       "  1996-01-04 pba_lh_pba_hlh_hdxcret2(0.5*min,1)_dxfbval2  0.888889\n",
       "             pba_lh_pba_hlh_hdxcret2(1*min,1)_dxfbval2    0.888889\n",
       "  ...                                                          ...\n",
       "  2018-01-05 pba_lh_pba_hlh_hdxcret2(1*min,1)_dxfbval2    0.888889\n",
       "             pba_lh_pba_hlh_hdxcret2(2*min,1)_dxfbval2    0.222222\n",
       "  2018-01-08 pba_lh_pba_hlh_hdxcret2(0.5*min,1)_dxfbval2  0.888889\n",
       "             pba_lh_pba_hlh_hdxcret2(1*min,1)_dxfbval2    0.888889\n",
       "             pba_lh_pba_hlh_hdxcret2(2*min,1)_dxfbval2    0.444444\n",
       "  \n",
       "  [16530 rows x 1 columns],\n",
       "  'pba_hoc_hdxcret2(0.5*min,1)_dxfbval2_hdxcret2(1*min,1)_hdxcret2(2*min,1)':                                                               -1\n",
       "  id0        id1                                                  \n",
       "  1996-01-03 pba_oc_pba_hoc_hdxcret2(0.5*min,1)_dxfbval2  0.888889\n",
       "             pba_oc_pba_hoc_hdxcret2(1*min,1)_dxfbval2    0.888889\n",
       "             pba_oc_pba_hoc_hdxcret2(2*min,1)_dxfbval2    0.000000\n",
       "  1996-01-04 pba_oc_pba_hoc_hdxcret2(0.5*min,1)_dxfbval2  0.888889\n",
       "             pba_oc_pba_hoc_hdxcret2(1*min,1)_dxfbval2    0.888889\n",
       "  ...                                                          ...\n",
       "  2018-01-05 pba_oc_pba_hoc_hdxcret2(1*min,1)_dxfbval2    0.333333\n",
       "             pba_oc_pba_hoc_hdxcret2(2*min,1)_dxfbval2    0.222222\n",
       "  2018-01-08 pba_oc_pba_hoc_hdxcret2(0.5*min,1)_dxfbval2  0.888889\n",
       "             pba_oc_pba_hoc_hdxcret2(1*min,1)_dxfbval2    0.888889\n",
       "             pba_oc_pba_hoc_hdxcret2(2*min,1)_dxfbval2    0.888889\n",
       "  \n",
       "  [16530 rows x 1 columns],\n",
       "  'pba_hlh_hdxcret2(0.5*std,1)_dxfbval2_hdxcret2(1*std,1)_hdxcret2(2*std,1)':                                                               -1\n",
       "  id0        id1                                                  \n",
       "  1996-01-03 pba_lh_pba_hlh_hdxcret2(0.5*std,1)_dxfbval2  0.888889\n",
       "             pba_lh_pba_hlh_hdxcret2(1*std,1)_dxfbval2    0.888889\n",
       "             pba_lh_pba_hlh_hdxcret2(2*std,1)_dxfbval2    0.000000\n",
       "  1996-01-04 pba_lh_pba_hlh_hdxcret2(0.5*std,1)_dxfbval2  0.888889\n",
       "             pba_lh_pba_hlh_hdxcret2(1*std,1)_dxfbval2    0.888889\n",
       "  ...                                                          ...\n",
       "  2018-01-05 pba_lh_pba_hlh_hdxcret2(1*std,1)_dxfbval2    0.888889\n",
       "             pba_lh_pba_hlh_hdxcret2(2*std,1)_dxfbval2    0.888889\n",
       "  2018-01-08 pba_lh_pba_hlh_hdxcret2(0.5*std,1)_dxfbval2  0.888889\n",
       "             pba_lh_pba_hlh_hdxcret2(1*std,1)_dxfbval2    0.888889\n",
       "             pba_lh_pba_hlh_hdxcret2(2*std,1)_dxfbval2    0.444444\n",
       "  \n",
       "  [16524 rows x 1 columns],\n",
       "  'pba_hoc_hdxcret2(0.5*std,1)_dxfbval2_hdxcret2(1*std,1)_hdxcret2(2*std,1)':                                                               -1\n",
       "  id0        id1                                                  \n",
       "  1996-01-03 pba_oc_pba_hoc_hdxcret2(0.5*std,1)_dxfbval2  0.888889\n",
       "             pba_oc_pba_hoc_hdxcret2(1*std,1)_dxfbval2    0.888889\n",
       "             pba_oc_pba_hoc_hdxcret2(2*std,1)_dxfbval2    0.000000\n",
       "  1996-01-04 pba_oc_pba_hoc_hdxcret2(0.5*std,1)_dxfbval2  0.888889\n",
       "             pba_oc_pba_hoc_hdxcret2(1*std,1)_dxfbval2    0.888889\n",
       "  ...                                                          ...\n",
       "  2018-01-05 pba_oc_pba_hoc_hdxcret2(1*std,1)_dxfbval2    0.666667\n",
       "             pba_oc_pba_hoc_hdxcret2(2*std,1)_dxfbval2    0.444444\n",
       "  2018-01-08 pba_oc_pba_hoc_hdxcret2(0.5*std,1)_dxfbval2  0.444444\n",
       "             pba_oc_pba_hoc_hdxcret2(1*std,1)_dxfbval2    0.333333\n",
       "             pba_oc_pba_hoc_hdxcret2(2*std,1)_dxfbval2    0.000000\n",
       "  \n",
       "  [16524 rows x 1 columns]}}"
      ]
     },
     "execution_count": 14,
     "metadata": {},
     "output_type": "execute_result"
    }
   ],
   "source": [
    "fd['d']['pba']"
   ]
  },
  {
   "cell_type": "code",
   "execution_count": 15,
   "metadata": {},
   "outputs": [
    {
     "name": "stderr",
     "output_type": "stream",
     "text": [
      "/home/kev/miniconda3/lib/python3.7/site-packages/ipykernel/ipkernel.py:287: DeprecationWarning: `should_run_async` will not call `transform_cell` automatically in the future. Please pass the result to `transformed_cell` argument and any exception that happen during thetransform in `preprocessing_exc_tuple` in IPython 7.17 and above.\n",
      "  and should_run_async(code)\n"
     ]
    },
    {
     "data": {
      "text/html": [
       "<div>\n",
       "<style scoped>\n",
       "    .dataframe tbody tr th:only-of-type {\n",
       "        vertical-align: middle;\n",
       "    }\n",
       "\n",
       "    .dataframe tbody tr th {\n",
       "        vertical-align: top;\n",
       "    }\n",
       "\n",
       "    .dataframe thead tr th {\n",
       "        text-align: left;\n",
       "    }\n",
       "\n",
       "    .dataframe thead tr:last-of-type th {\n",
       "        text-align: right;\n",
       "    }\n",
       "</style>\n",
       "<table border=\"1\" class=\"dataframe\">\n",
       "  <thead>\n",
       "    <tr>\n",
       "      <th></th>\n",
       "      <th></th>\n",
       "      <th colspan=\"5\" halign=\"left\">-1</th>\n",
       "    </tr>\n",
       "    <tr>\n",
       "      <th></th>\n",
       "      <th>id1</th>\n",
       "      <th>pba_open_pba_dohlca</th>\n",
       "      <th>pba_high_pba_dohlca</th>\n",
       "      <th>pba_low_pba_dohlca</th>\n",
       "      <th>pba_close_pba_dohlca</th>\n",
       "      <th>pba_avgPrice_pba_dohlca</th>\n",
       "    </tr>\n",
       "    <tr>\n",
       "      <th></th>\n",
       "      <th>id1</th>\n",
       "      <th></th>\n",
       "      <th></th>\n",
       "      <th></th>\n",
       "      <th></th>\n",
       "      <th></th>\n",
       "    </tr>\n",
       "  </thead>\n",
       "  <tbody>\n",
       "    <tr>\n",
       "      <th rowspan=\"5\" valign=\"top\">-1</th>\n",
       "      <th>pba_open_pba_dohlca</th>\n",
       "      <td>1.000000</td>\n",
       "      <td>0.044413</td>\n",
       "      <td>0.176343</td>\n",
       "      <td>0.003364</td>\n",
       "      <td>0.481159</td>\n",
       "    </tr>\n",
       "    <tr>\n",
       "      <th>pba_high_pba_dohlca</th>\n",
       "      <td>0.044413</td>\n",
       "      <td>1.000000</td>\n",
       "      <td>0.013205</td>\n",
       "      <td>0.010959</td>\n",
       "      <td>0.065632</td>\n",
       "    </tr>\n",
       "    <tr>\n",
       "      <th>pba_low_pba_dohlca</th>\n",
       "      <td>0.176343</td>\n",
       "      <td>0.013205</td>\n",
       "      <td>1.000000</td>\n",
       "      <td>0.963043</td>\n",
       "      <td>0.273103</td>\n",
       "    </tr>\n",
       "    <tr>\n",
       "      <th>pba_close_pba_dohlca</th>\n",
       "      <td>0.003364</td>\n",
       "      <td>0.010959</td>\n",
       "      <td>0.963043</td>\n",
       "      <td>1.000000</td>\n",
       "      <td>0.244556</td>\n",
       "    </tr>\n",
       "    <tr>\n",
       "      <th>pba_avgPrice_pba_dohlca</th>\n",
       "      <td>0.481159</td>\n",
       "      <td>0.065632</td>\n",
       "      <td>0.273103</td>\n",
       "      <td>0.244556</td>\n",
       "      <td>1.000000</td>\n",
       "    </tr>\n",
       "  </tbody>\n",
       "</table>\n",
       "</div>"
      ],
      "text/plain": [
       "                                            -1                      \\\n",
       "id1                        pba_open_pba_dohlca pba_high_pba_dohlca   \n",
       "   id1                                                               \n",
       "-1 pba_open_pba_dohlca                1.000000            0.044413   \n",
       "   pba_high_pba_dohlca                0.044413            1.000000   \n",
       "   pba_low_pba_dohlca                 0.176343            0.013205   \n",
       "   pba_close_pba_dohlca               0.003364            0.010959   \n",
       "   pba_avgPrice_pba_dohlca            0.481159            0.065632   \n",
       "\n",
       "                                                                    \\\n",
       "id1                        pba_low_pba_dohlca pba_close_pba_dohlca   \n",
       "   id1                                                               \n",
       "-1 pba_open_pba_dohlca               0.176343             0.003364   \n",
       "   pba_high_pba_dohlca               0.013205             0.010959   \n",
       "   pba_low_pba_dohlca                1.000000             0.963043   \n",
       "   pba_close_pba_dohlca              0.963043             1.000000   \n",
       "   pba_avgPrice_pba_dohlca           0.273103             0.244556   \n",
       "\n",
       "                                                    \n",
       "id1                        pba_avgPrice_pba_dohlca  \n",
       "   id1                                              \n",
       "-1 pba_open_pba_dohlca                    0.481159  \n",
       "   pba_high_pba_dohlca                    0.065632  \n",
       "   pba_low_pba_dohlca                     0.273103  \n",
       "   pba_close_pba_dohlca                   0.244556  \n",
       "   pba_avgPrice_pba_dohlca                1.000000  "
      ]
     },
     "execution_count": 15,
     "metadata": {},
     "output_type": "execute_result"
    }
   ],
   "source": [
    "fd['d']['pba']['dohlca']['pba_dohlca'].unstack().pct_change().dropna().corr()"
   ]
  },
  {
   "cell_type": "code",
   "execution_count": 16,
   "metadata": {},
   "outputs": [
    {
     "name": "stderr",
     "output_type": "stream",
     "text": [
      "/home/kev/miniconda3/lib/python3.7/site-packages/ipykernel/ipkernel.py:287: DeprecationWarning: `should_run_async` will not call `transform_cell` automatically in the future. Please pass the result to `transformed_cell` argument and any exception that happen during thetransform in `preprocessing_exc_tuple` in IPython 7.17 and above.\n",
      "  and should_run_async(code)\n"
     ]
    },
    {
     "data": {
      "text/html": [
       "<div>\n",
       "<style scoped>\n",
       "    .dataframe tbody tr th:only-of-type {\n",
       "        vertical-align: middle;\n",
       "    }\n",
       "\n",
       "    .dataframe tbody tr th {\n",
       "        vertical-align: top;\n",
       "    }\n",
       "\n",
       "    .dataframe thead tr th {\n",
       "        text-align: left;\n",
       "    }\n",
       "\n",
       "    .dataframe thead tr:last-of-type th {\n",
       "        text-align: right;\n",
       "    }\n",
       "</style>\n",
       "<table border=\"1\" class=\"dataframe\">\n",
       "  <thead>\n",
       "    <tr>\n",
       "      <th></th>\n",
       "      <th></th>\n",
       "      <th colspan=\"5\" halign=\"left\">-1</th>\n",
       "    </tr>\n",
       "    <tr>\n",
       "      <th></th>\n",
       "      <th>id1</th>\n",
       "      <th>vol_open_vol_dohlca</th>\n",
       "      <th>vol_high_vol_dohlca</th>\n",
       "      <th>vol_low_vol_dohlca</th>\n",
       "      <th>vol_close_vol_dohlca</th>\n",
       "      <th>vol_avgPrice_vol_dohlca</th>\n",
       "    </tr>\n",
       "    <tr>\n",
       "      <th></th>\n",
       "      <th>id1</th>\n",
       "      <th></th>\n",
       "      <th></th>\n",
       "      <th></th>\n",
       "      <th></th>\n",
       "      <th></th>\n",
       "    </tr>\n",
       "  </thead>\n",
       "  <tbody>\n",
       "    <tr>\n",
       "      <th rowspan=\"5\" valign=\"top\">-1</th>\n",
       "      <th>vol_open_vol_dohlca</th>\n",
       "      <td>1.000000</td>\n",
       "      <td>0.483537</td>\n",
       "      <td>0.662008</td>\n",
       "      <td>0.129246</td>\n",
       "      <td>0.375900</td>\n",
       "    </tr>\n",
       "    <tr>\n",
       "      <th>vol_high_vol_dohlca</th>\n",
       "      <td>0.483537</td>\n",
       "      <td>1.000000</td>\n",
       "      <td>0.164855</td>\n",
       "      <td>0.414403</td>\n",
       "      <td>0.502796</td>\n",
       "    </tr>\n",
       "    <tr>\n",
       "      <th>vol_low_vol_dohlca</th>\n",
       "      <td>0.662008</td>\n",
       "      <td>0.164855</td>\n",
       "      <td>1.000000</td>\n",
       "      <td>0.308431</td>\n",
       "      <td>0.436877</td>\n",
       "    </tr>\n",
       "    <tr>\n",
       "      <th>vol_close_vol_dohlca</th>\n",
       "      <td>0.129246</td>\n",
       "      <td>0.414403</td>\n",
       "      <td>0.308431</td>\n",
       "      <td>1.000000</td>\n",
       "      <td>0.736014</td>\n",
       "    </tr>\n",
       "    <tr>\n",
       "      <th>vol_avgPrice_vol_dohlca</th>\n",
       "      <td>0.375900</td>\n",
       "      <td>0.502796</td>\n",
       "      <td>0.436877</td>\n",
       "      <td>0.736014</td>\n",
       "      <td>1.000000</td>\n",
       "    </tr>\n",
       "  </tbody>\n",
       "</table>\n",
       "</div>"
      ],
      "text/plain": [
       "                                            -1                      \\\n",
       "id1                        vol_open_vol_dohlca vol_high_vol_dohlca   \n",
       "   id1                                                               \n",
       "-1 vol_open_vol_dohlca                1.000000            0.483537   \n",
       "   vol_high_vol_dohlca                0.483537            1.000000   \n",
       "   vol_low_vol_dohlca                 0.662008            0.164855   \n",
       "   vol_close_vol_dohlca               0.129246            0.414403   \n",
       "   vol_avgPrice_vol_dohlca            0.375900            0.502796   \n",
       "\n",
       "                                                                    \\\n",
       "id1                        vol_low_vol_dohlca vol_close_vol_dohlca   \n",
       "   id1                                                               \n",
       "-1 vol_open_vol_dohlca               0.662008             0.129246   \n",
       "   vol_high_vol_dohlca               0.164855             0.414403   \n",
       "   vol_low_vol_dohlca                1.000000             0.308431   \n",
       "   vol_close_vol_dohlca              0.308431             1.000000   \n",
       "   vol_avgPrice_vol_dohlca           0.436877             0.736014   \n",
       "\n",
       "                                                    \n",
       "id1                        vol_avgPrice_vol_dohlca  \n",
       "   id1                                              \n",
       "-1 vol_open_vol_dohlca                    0.375900  \n",
       "   vol_high_vol_dohlca                    0.502796  \n",
       "   vol_low_vol_dohlca                     0.436877  \n",
       "   vol_close_vol_dohlca                   0.736014  \n",
       "   vol_avgPrice_vol_dohlca                1.000000  "
      ]
     },
     "execution_count": 16,
     "metadata": {},
     "output_type": "execute_result"
    }
   ],
   "source": [
    "fd['d']['vol']['dohlca']['vol_dohlca'].unstack().pct_change().dropna().corr()"
   ]
  },
  {
   "cell_type": "code",
   "execution_count": 17,
   "metadata": {},
   "outputs": [
    {
     "name": "stderr",
     "output_type": "stream",
     "text": [
      "/home/kev/miniconda3/lib/python3.7/site-packages/ipykernel/ipkernel.py:287: DeprecationWarning: `should_run_async` will not call `transform_cell` automatically in the future. Please pass the result to `transformed_cell` argument and any exception that happen during thetransform in `preprocessing_exc_tuple` in IPython 7.17 and above.\n",
      "  and should_run_async(code)\n"
     ]
    },
    {
     "data": {
      "text/plain": [
       "96"
      ]
     },
     "execution_count": 17,
     "metadata": {},
     "output_type": "execute_result"
    }
   ],
   "source": [
    "len(h_buzz.index.levels[1])"
   ]
  },
  {
   "cell_type": "code",
   "execution_count": 18,
   "metadata": {},
   "outputs": [],
   "source": [
    "# Hourly Features\n",
    "chosen_f = h_pba\n",
    "chosen_f = fd['h']['pba']['hdmx']['pba_hohlca_hdmx']"
   ]
  },
  {
   "cell_type": "code",
   "execution_count": 19,
   "metadata": {},
   "outputs": [],
   "source": [
    "# # Random 'Features':\n",
    "# chosen_f = pd.DataFrame(np.random.rand(len(chosen_f)), index=chosen_f.index).rename({chosen_f.index.levels[1][0]: 'rand'})"
   ]
  },
  {
   "cell_type": "markdown",
   "metadata": {},
   "source": [
    "### Choose Labels/Targets and Process"
   ]
  },
  {
   "cell_type": "code",
   "execution_count": 20,
   "metadata": {},
   "outputs": [],
   "source": [
    "# predict ddir(t)\n",
    "chosen_l = pd_split_ternary_to_binary(ld['hoc']['pba']['ddir'].replace(to_replace=-1, value=0))\n",
    "chosen_t = pd_split_ternary_to_binary(td['hoc']['pba']['dret'])"
   ]
  },
  {
   "cell_type": "code",
   "execution_count": 21,
   "metadata": {},
   "outputs": [],
   "source": [
    "# # predict thresholded direction: ddir1(t)\n",
    "# chosen_l_len = len(ld['hoc']['pba']['ddir1_log'].columns)\n",
    "# chosen_l = pd_split_ternary_to_binary(ld['hoc']['pba']['ddir1_log'])\n",
    "# chosen_l = chosen_l.sum(level=0)#+len(chosen_l.columns)\n",
    "# chosen_l = (chosen_l[chosen_l!=0] + chosen_l_len).fillna(0).astype(int)\n",
    "# chosen_l = df_add_midx_level(chosen_l, 'pba_hoc_hdxret1_ddir1', loc=1, name='id1')\n",
    "\n",
    "# chosen_t = pd_split_ternary_to_binary(td['hoc']['pba']['dret1_log']).abs().max(level=0)\n",
    "# chosen_t = df_add_midx_level(chosen_t, 'pba_hoc_hdxret1_dret1', loc=1, name='id1')\n",
    "# #chosen_l = chosen_l.sum(level=0)#+len(chosen_l.columns)\n",
    "# #chosen_l"
   ]
  },
  {
   "cell_type": "code",
   "execution_count": 22,
   "metadata": {},
   "outputs": [],
   "source": [
    "# # 'Predict' the present ddir(t-1), (sanity check)\n",
    "chosen_l = pd_split_ternary_to_binary(df_del_midx_level(fd['d']['pba']['ddir']['pba_hoc_hdxret_ddir'].rename(columns={-1:'pba_hoc_hdxret_ddir'}), loc=1).replace(to_replace=-1, value=0).astype(int))\n",
    "chosen_t = pd_split_ternary_to_binary(df_del_midx_level(fd['d']['pba']['dret']['pba_hoc_hdxret_dret'].rename(columns={-1:'pba_hoc_hdxret_dret'}), loc=1))"
   ]
  },
  {
   "cell_type": "markdown",
   "metadata": {},
   "source": [
    "### Get Common Indexed Rows (Intersect First Level of MultiIndex)"
   ]
  },
  {
   "cell_type": "code",
   "execution_count": 23,
   "metadata": {},
   "outputs": [],
   "source": [
    "year_interval = ('2009', '2018')\n",
    "common_idx = midx_intersect(pd_get_midx_level(chosen_f), pd_get_midx_level(chosen_l), pd_get_midx_level(chosen_t))\n",
    "common_idx = common_idx[(common_idx > year_interval[0]) & (common_idx < year_interval[1])]\n",
    "feature_df, label_df, target_df = map(compose(partial(pd_rows, idx=common_idx), df_midx_restack), [chosen_f, chosen_l, chosen_t])\n",
    "assert(all(feature_df.index.levels[0]==label_df.index.levels[0]))\n",
    "assert(all(feature_df.index.levels[0]==target_df.index.levels[0]))"
   ]
  },
  {
   "cell_type": "code",
   "execution_count": 24,
   "metadata": {},
   "outputs": [
    {
     "data": {
      "text/html": [
       "<div>\n",
       "<style scoped>\n",
       "    .dataframe tbody tr th:only-of-type {\n",
       "        vertical-align: middle;\n",
       "    }\n",
       "\n",
       "    .dataframe tbody tr th {\n",
       "        vertical-align: top;\n",
       "    }\n",
       "\n",
       "    .dataframe thead th {\n",
       "        text-align: right;\n",
       "    }\n",
       "</style>\n",
       "<table border=\"1\" class=\"dataframe\">\n",
       "  <thead>\n",
       "    <tr style=\"text-align: right;\">\n",
       "      <th></th>\n",
       "      <th></th>\n",
       "      <th>9</th>\n",
       "      <th>10</th>\n",
       "      <th>11</th>\n",
       "      <th>12</th>\n",
       "      <th>13</th>\n",
       "      <th>14</th>\n",
       "      <th>15</th>\n",
       "      <th>16</th>\n",
       "    </tr>\n",
       "    <tr>\n",
       "      <th>id0</th>\n",
       "      <th>id1</th>\n",
       "      <th></th>\n",
       "      <th></th>\n",
       "      <th></th>\n",
       "      <th></th>\n",
       "      <th></th>\n",
       "      <th></th>\n",
       "      <th></th>\n",
       "      <th></th>\n",
       "    </tr>\n",
       "  </thead>\n",
       "  <tbody>\n",
       "    <tr>\n",
       "      <th rowspan=\"5\" valign=\"top\">2009-01-02</th>\n",
       "      <th>pba_open_pba_hohlca_hdmx</th>\n",
       "      <td>-0.854887</td>\n",
       "      <td>-1.000000</td>\n",
       "      <td>0.006382</td>\n",
       "      <td>0.079610</td>\n",
       "      <td>0.261673</td>\n",
       "      <td>0.565334</td>\n",
       "      <td>0.846154</td>\n",
       "      <td>1.000000</td>\n",
       "    </tr>\n",
       "    <tr>\n",
       "      <th>pba_high_pba_hohlca_hdmx</th>\n",
       "      <td>-1.000000</td>\n",
       "      <td>-0.330963</td>\n",
       "      <td>-0.113402</td>\n",
       "      <td>0.058656</td>\n",
       "      <td>0.360114</td>\n",
       "      <td>0.596161</td>\n",
       "      <td>1.000000</td>\n",
       "      <td>0.791681</td>\n",
       "    </tr>\n",
       "    <tr>\n",
       "      <th>pba_low_pba_hohlca_hdmx</th>\n",
       "      <td>-1.000000</td>\n",
       "      <td>-0.948160</td>\n",
       "      <td>-0.062400</td>\n",
       "      <td>0.088000</td>\n",
       "      <td>0.295360</td>\n",
       "      <td>0.470080</td>\n",
       "      <td>0.853440</td>\n",
       "      <td>1.000000</td>\n",
       "    </tr>\n",
       "    <tr>\n",
       "      <th>pba_close_pba_hohlca_hdmx</th>\n",
       "      <td>-1.000000</td>\n",
       "      <td>-0.058166</td>\n",
       "      <td>0.020046</td>\n",
       "      <td>0.192902</td>\n",
       "      <td>0.493920</td>\n",
       "      <td>0.772593</td>\n",
       "      <td>0.912586</td>\n",
       "      <td>1.000000</td>\n",
       "    </tr>\n",
       "    <tr>\n",
       "      <th>pba_avgPrice_pba_hohlca_hdmx</th>\n",
       "      <td>-1.000000</td>\n",
       "      <td>-0.688267</td>\n",
       "      <td>-0.093641</td>\n",
       "      <td>0.065233</td>\n",
       "      <td>0.360852</td>\n",
       "      <td>0.580325</td>\n",
       "      <td>0.951078</td>\n",
       "      <td>1.000000</td>\n",
       "    </tr>\n",
       "    <tr>\n",
       "      <th>...</th>\n",
       "      <th>...</th>\n",
       "      <td>...</td>\n",
       "      <td>...</td>\n",
       "      <td>...</td>\n",
       "      <td>...</td>\n",
       "      <td>...</td>\n",
       "      <td>...</td>\n",
       "      <td>...</td>\n",
       "      <td>...</td>\n",
       "    </tr>\n",
       "    <tr>\n",
       "      <th rowspan=\"5\" valign=\"top\">2017-12-29</th>\n",
       "      <th>pba_open_pba_hohlca_hdmx</th>\n",
       "      <td>1.000000</td>\n",
       "      <td>0.816224</td>\n",
       "      <td>0.422828</td>\n",
       "      <td>0.507538</td>\n",
       "      <td>0.306533</td>\n",
       "      <td>0.007897</td>\n",
       "      <td>0.138550</td>\n",
       "      <td>-1.000000</td>\n",
       "    </tr>\n",
       "    <tr>\n",
       "      <th>pba_high_pba_hohlca_hdmx</th>\n",
       "      <td>1.000000</td>\n",
       "      <td>0.475309</td>\n",
       "      <td>0.314815</td>\n",
       "      <td>0.285185</td>\n",
       "      <td>0.124691</td>\n",
       "      <td>-0.077778</td>\n",
       "      <td>0.227160</td>\n",
       "      <td>-1.000000</td>\n",
       "    </tr>\n",
       "    <tr>\n",
       "      <th>pba_low_pba_hohlca_hdmx</th>\n",
       "      <td>1.000000</td>\n",
       "      <td>0.472727</td>\n",
       "      <td>0.460606</td>\n",
       "      <td>0.566667</td>\n",
       "      <td>0.175758</td>\n",
       "      <td>0.263636</td>\n",
       "      <td>-0.886364</td>\n",
       "      <td>-1.000000</td>\n",
       "    </tr>\n",
       "    <tr>\n",
       "      <th>pba_close_pba_hohlca_hdmx</th>\n",
       "      <td>1.000000</td>\n",
       "      <td>0.617978</td>\n",
       "      <td>0.702247</td>\n",
       "      <td>0.507022</td>\n",
       "      <td>0.210674</td>\n",
       "      <td>0.341292</td>\n",
       "      <td>-0.786517</td>\n",
       "      <td>-1.000000</td>\n",
       "    </tr>\n",
       "    <tr>\n",
       "      <th>pba_avgPrice_pba_hohlca_hdmx</th>\n",
       "      <td>1.000000</td>\n",
       "      <td>0.680039</td>\n",
       "      <td>0.451699</td>\n",
       "      <td>0.539091</td>\n",
       "      <td>0.321021</td>\n",
       "      <td>0.193217</td>\n",
       "      <td>0.165438</td>\n",
       "      <td>-1.000000</td>\n",
       "    </tr>\n",
       "  </tbody>\n",
       "</table>\n",
       "<p>11325 rows × 8 columns</p>\n",
       "</div>"
      ],
      "text/plain": [
       "                                               9         10        11  \\\n",
       "id0        id1                                                          \n",
       "2009-01-02 pba_open_pba_hohlca_hdmx     -0.854887 -1.000000  0.006382   \n",
       "           pba_high_pba_hohlca_hdmx     -1.000000 -0.330963 -0.113402   \n",
       "           pba_low_pba_hohlca_hdmx      -1.000000 -0.948160 -0.062400   \n",
       "           pba_close_pba_hohlca_hdmx    -1.000000 -0.058166  0.020046   \n",
       "           pba_avgPrice_pba_hohlca_hdmx -1.000000 -0.688267 -0.093641   \n",
       "...                                           ...       ...       ...   \n",
       "2017-12-29 pba_open_pba_hohlca_hdmx      1.000000  0.816224  0.422828   \n",
       "           pba_high_pba_hohlca_hdmx      1.000000  0.475309  0.314815   \n",
       "           pba_low_pba_hohlca_hdmx       1.000000  0.472727  0.460606   \n",
       "           pba_close_pba_hohlca_hdmx     1.000000  0.617978  0.702247   \n",
       "           pba_avgPrice_pba_hohlca_hdmx  1.000000  0.680039  0.451699   \n",
       "\n",
       "                                               12        13        14  \\\n",
       "id0        id1                                                          \n",
       "2009-01-02 pba_open_pba_hohlca_hdmx      0.079610  0.261673  0.565334   \n",
       "           pba_high_pba_hohlca_hdmx      0.058656  0.360114  0.596161   \n",
       "           pba_low_pba_hohlca_hdmx       0.088000  0.295360  0.470080   \n",
       "           pba_close_pba_hohlca_hdmx     0.192902  0.493920  0.772593   \n",
       "           pba_avgPrice_pba_hohlca_hdmx  0.065233  0.360852  0.580325   \n",
       "...                                           ...       ...       ...   \n",
       "2017-12-29 pba_open_pba_hohlca_hdmx      0.507538  0.306533  0.007897   \n",
       "           pba_high_pba_hohlca_hdmx      0.285185  0.124691 -0.077778   \n",
       "           pba_low_pba_hohlca_hdmx       0.566667  0.175758  0.263636   \n",
       "           pba_close_pba_hohlca_hdmx     0.507022  0.210674  0.341292   \n",
       "           pba_avgPrice_pba_hohlca_hdmx  0.539091  0.321021  0.193217   \n",
       "\n",
       "                                               15        16  \n",
       "id0        id1                                               \n",
       "2009-01-02 pba_open_pba_hohlca_hdmx      0.846154  1.000000  \n",
       "           pba_high_pba_hohlca_hdmx      1.000000  0.791681  \n",
       "           pba_low_pba_hohlca_hdmx       0.853440  1.000000  \n",
       "           pba_close_pba_hohlca_hdmx     0.912586  1.000000  \n",
       "           pba_avgPrice_pba_hohlca_hdmx  0.951078  1.000000  \n",
       "...                                           ...       ...  \n",
       "2017-12-29 pba_open_pba_hohlca_hdmx      0.138550 -1.000000  \n",
       "           pba_high_pba_hohlca_hdmx      0.227160 -1.000000  \n",
       "           pba_low_pba_hohlca_hdmx      -0.886364 -1.000000  \n",
       "           pba_close_pba_hohlca_hdmx    -0.786517 -1.000000  \n",
       "           pba_avgPrice_pba_hohlca_hdmx  0.165438 -1.000000  \n",
       "\n",
       "[11325 rows x 8 columns]"
      ]
     },
     "execution_count": 24,
     "metadata": {},
     "output_type": "execute_result"
    }
   ],
   "source": [
    "feature_df"
   ]
  },
  {
   "cell_type": "code",
   "execution_count": 25,
   "metadata": {},
   "outputs": [
    {
     "name": "stderr",
     "output_type": "stream",
     "text": [
      "/home/kev/miniconda3/lib/python3.7/site-packages/ipykernel/ipkernel.py:287: DeprecationWarning: `should_run_async` will not call `transform_cell` automatically in the future. Please pass the result to `transformed_cell` argument and any exception that happen during thetransform in `preprocessing_exc_tuple` in IPython 7.17 and above.\n",
      "  and should_run_async(code)\n"
     ]
    },
    {
     "data": {
      "text/html": [
       "<div>\n",
       "<style scoped>\n",
       "    .dataframe tbody tr th:only-of-type {\n",
       "        vertical-align: middle;\n",
       "    }\n",
       "\n",
       "    .dataframe tbody tr th {\n",
       "        vertical-align: top;\n",
       "    }\n",
       "\n",
       "    .dataframe thead th {\n",
       "        text-align: right;\n",
       "    }\n",
       "</style>\n",
       "<table border=\"1\" class=\"dataframe\">\n",
       "  <thead>\n",
       "    <tr style=\"text-align: right;\">\n",
       "      <th></th>\n",
       "      <th></th>\n",
       "      <th>neg</th>\n",
       "      <th>pos</th>\n",
       "    </tr>\n",
       "    <tr>\n",
       "      <th>id0</th>\n",
       "      <th>id1</th>\n",
       "      <th></th>\n",
       "      <th></th>\n",
       "    </tr>\n",
       "  </thead>\n",
       "  <tbody>\n",
       "    <tr>\n",
       "      <th>2009-01-02</th>\n",
       "      <th>pba_hoc_hdxret_ddir</th>\n",
       "      <td>0</td>\n",
       "      <td>1</td>\n",
       "    </tr>\n",
       "    <tr>\n",
       "      <th>2009-01-05</th>\n",
       "      <th>pba_hoc_hdxret_ddir</th>\n",
       "      <td>0</td>\n",
       "      <td>0</td>\n",
       "    </tr>\n",
       "    <tr>\n",
       "      <th>2009-01-06</th>\n",
       "      <th>pba_hoc_hdxret_ddir</th>\n",
       "      <td>0</td>\n",
       "      <td>1</td>\n",
       "    </tr>\n",
       "    <tr>\n",
       "      <th>2009-01-07</th>\n",
       "      <th>pba_hoc_hdxret_ddir</th>\n",
       "      <td>0</td>\n",
       "      <td>0</td>\n",
       "    </tr>\n",
       "    <tr>\n",
       "      <th>2009-01-08</th>\n",
       "      <th>pba_hoc_hdxret_ddir</th>\n",
       "      <td>0</td>\n",
       "      <td>1</td>\n",
       "    </tr>\n",
       "    <tr>\n",
       "      <th>...</th>\n",
       "      <th>...</th>\n",
       "      <td>...</td>\n",
       "      <td>...</td>\n",
       "    </tr>\n",
       "    <tr>\n",
       "      <th>2017-12-22</th>\n",
       "      <th>pba_hoc_hdxret_ddir</th>\n",
       "      <td>0</td>\n",
       "      <td>0</td>\n",
       "    </tr>\n",
       "    <tr>\n",
       "      <th>2017-12-26</th>\n",
       "      <th>pba_hoc_hdxret_ddir</th>\n",
       "      <td>0</td>\n",
       "      <td>1</td>\n",
       "    </tr>\n",
       "    <tr>\n",
       "      <th>2017-12-27</th>\n",
       "      <th>pba_hoc_hdxret_ddir</th>\n",
       "      <td>0</td>\n",
       "      <td>1</td>\n",
       "    </tr>\n",
       "    <tr>\n",
       "      <th>2017-12-28</th>\n",
       "      <th>pba_hoc_hdxret_ddir</th>\n",
       "      <td>0</td>\n",
       "      <td>1</td>\n",
       "    </tr>\n",
       "    <tr>\n",
       "      <th>2017-12-29</th>\n",
       "      <th>pba_hoc_hdxret_ddir</th>\n",
       "      <td>0</td>\n",
       "      <td>0</td>\n",
       "    </tr>\n",
       "  </tbody>\n",
       "</table>\n",
       "<p>2265 rows × 2 columns</p>\n",
       "</div>"
      ],
      "text/plain": [
       "                                neg  pos\n",
       "id0        id1                          \n",
       "2009-01-02 pba_hoc_hdxret_ddir    0    1\n",
       "2009-01-05 pba_hoc_hdxret_ddir    0    0\n",
       "2009-01-06 pba_hoc_hdxret_ddir    0    1\n",
       "2009-01-07 pba_hoc_hdxret_ddir    0    0\n",
       "2009-01-08 pba_hoc_hdxret_ddir    0    1\n",
       "...                             ...  ...\n",
       "2017-12-22 pba_hoc_hdxret_ddir    0    0\n",
       "2017-12-26 pba_hoc_hdxret_ddir    0    1\n",
       "2017-12-27 pba_hoc_hdxret_ddir    0    1\n",
       "2017-12-28 pba_hoc_hdxret_ddir    0    1\n",
       "2017-12-29 pba_hoc_hdxret_ddir    0    0\n",
       "\n",
       "[2265 rows x 2 columns]"
      ]
     },
     "execution_count": 25,
     "metadata": {},
     "output_type": "execute_result"
    }
   ],
   "source": [
    "label_df"
   ]
  },
  {
   "cell_type": "markdown",
   "metadata": {},
   "source": [
    "## Debug Data (Runtime Transforms)"
   ]
  },
  {
   "cell_type": "markdown",
   "metadata": {},
   "source": [
    "### Split into Train/Val/Test and Convert to Numpy Tensor"
   ]
  },
  {
   "cell_type": "code",
   "execution_count": 26,
   "metadata": {
    "scrolled": true
   },
   "outputs": [
    {
     "name": "stderr",
     "output_type": "stream",
     "text": [
      "/home/kev/miniconda3/lib/python3.7/site-packages/ipykernel/ipkernel.py:287: DeprecationWarning: `should_run_async` will not call `transform_cell` automatically in the future. Please pass the result to `transformed_cell` argument and any exception that happen during thetransform in `preprocessing_exc_tuple` in IPython 7.17 and above.\n",
      "  and should_run_async(code)\n"
     ]
    }
   ],
   "source": [
    "train_np, val_np, test_np = zip(*map(pd_to_np_tvt, (feature_df, label_df, target_df)))\n",
    "shapes = np.asarray(tuple(map(lambda tvt: tuple(map(np.shape, tvt)), (train_np, val_np, test_np))))\n",
    "assert all(np.array_equal(a[:, 1:], b[:, 1:]) for a, b in pairwise(shapes)), 'feature, label, target shapes must be identical across splits'\n",
    "assert all(len(np.unique(mat.T[0, :]))==1 for mat in shapes), 'first dimension (N) must be identical length in each split for all (feature, label, and target) tensors'"
   ]
  },
  {
   "cell_type": "markdown",
   "metadata": {},
   "source": [
    "### Runtime Preproc"
   ]
  },
  {
   "cell_type": "code",
   "execution_count": 27,
   "metadata": {},
   "outputs": [],
   "source": [
    "def __preproc__(data, m_params, overlap=True):\n",
    "    x, y, z = temporal_preproc_3d(data, window_size=m_params['window_size'], apply_idx=[0]) if (overlap) else stride_preproc_3d(data, window_size=m_params['window_size'])\n",
    "    if (m_params['loss'] in ('bce', 'bcel', 'ce', 'nll')):\n",
    "        y_new = np.sum(y, axis=(1, 2), keepdims=False)\t\t# Sum label matrices to scalar values\n",
    "        if (y.shape[1] > 1):\n",
    "            y_new += y.shape[1]\t\t\t\t\t\t\t\t# Shift to range [0, C-1]\n",
    "        if (m_params['loss'] in ('bce', 'bcel')):\n",
    "            y_new = np.expand_dims(y_new, axis=-1)\n",
    "        y = y_new\n",
    "    return (x, y, z)\n",
    "\n",
    "#@pl.data_loader\n",
    "def train_dataloader(params, flt):\n",
    "    logging.info('train_dataloader called')\n",
    "    return batchify(params, __preproc__(flt, params), False)\n",
    "\n",
    "#@pl.data_loader\n",
    "def val_dataloader(params, flt):\n",
    "    logging.info('val_dataloader called')\n",
    "    return batchify(params, __preproc__(flt, params), False)\n",
    "\n",
    "#@pl.data_loader\n",
    "def test_dataloader(params, flt):\n",
    "    logging.info('test_dataloader called')\n",
    "    return batchify(params, __preproc__(flt, params), False)"
   ]
  },
  {
   "cell_type": "code",
   "execution_count": 28,
   "metadata": {},
   "outputs": [],
   "source": [
    "params = {\n",
    "    'loss': 'ce',\n",
    "    'batch_size': 128,\n",
    "    'window_size': 20,\n",
    "    'feat_dim': None,\n",
    "    'feat_shuffle': False\n",
    "}"
   ]
  },
  {
   "cell_type": "markdown",
   "metadata": {},
   "source": [
    "### Overlapping Episodes:"
   ]
  },
  {
   "cell_type": "code",
   "execution_count": 29,
   "metadata": {},
   "outputs": [
    {
     "name": "stdout",
     "output_type": "stream",
     "text": [
      "((1359, 5, 8), (1359, 1, 2), (1359, 1, 2))\n",
      "((1340, 5, 160), (1340,), (1340, 1, 2))\n",
      "(array([0., 1.]), array([594, 746]))\n"
     ]
    }
   ],
   "source": [
    "train_ol_np = __preproc__(train_np, params)\n",
    "val_ol_np = __preproc__(val_np, params)\n",
    "test_ol_np = __preproc__(test_np, params)\n",
    "print(tuple(map(lambda tvt: tuple(map(np.shape, tvt)), (train_np, val_np, test_np)))[0])\n",
    "print(tuple(map(np.shape, train_ol_np)))\n",
    "print(np_value_counts(train_ol_np[1]))"
   ]
  },
  {
   "cell_type": "markdown",
   "metadata": {},
   "source": [
    "### Non-Overlapping Episodes:"
   ]
  },
  {
   "cell_type": "code",
   "execution_count": 30,
   "metadata": {},
   "outputs": [
    {
     "name": "stdout",
     "output_type": "stream",
     "text": [
      "((1359, 5, 8), (1359, 1, 2), (1359, 1, 2))\n",
      "((67, 5, 20, 8), (67, 2), (67, 1, 20, 2))\n"
     ]
    }
   ],
   "source": [
    "train_nol_np = __preproc__(train_np, params, False)\n",
    "val_nol_np = __preproc__(val_np, params, False)\n",
    "test_nol_np = __preproc__(test_np, params, False)\n",
    "print(tuple(map(lambda tvt: tuple(map(np.shape, tvt)), (train_np, val_np, test_np)))[0])\n",
    "print(tuple(map(np.shape, train_nol_np)))"
   ]
  },
  {
   "cell_type": "markdown",
   "metadata": {},
   "source": [
    "## Neural Process"
   ]
  },
  {
   "cell_type": "code",
   "execution_count": 31,
   "metadata": {},
   "outputs": [],
   "source": [
    "t_params = {\n",
    "\t'window_size': 20,\n",
    "\t'feat_dim': None,\n",
    "\t'train_shuffle': False,    \n",
    "\t'epochs': 50,\n",
    "\t'batch_size': 128,\n",
    "\t'batch_step_size': 64,\n",
    "\t'loss': 'clf',\n",
    "\t'opt': {\n",
    "\t\t'name': 'adam',\n",
    "\t\t'kwargs': {\n",
    "\t\t\t'lr': .001\n",
    "\t\t}\n",
    "\t},\n",
    "\t'sch': {\n",
    "#\t\t'name': 'rpl',\n",
    "#\t\t'kwargs': {\n",
    "#\t\t\t'mode': 'min',\n",
    "#\t\t\t'factor': 0.1,\n",
    "#\t\t\t'patience': 10,\n",
    "#\t\t\t'threshold': 0.0001,\n",
    "#\t\t\t'threshold_mode': 'rel',\n",
    "#\t\t\t'cooldown': 0,\n",
    "#\t\t\t'min_lr': 0\n",
    "#\t\t}\n",
    "\t},\n",
    "\t'num_workers': 0,\n",
    "\t'pin_memory': True\n",
    "}"
   ]
  },
  {
   "cell_type": "code",
   "execution_count": 32,
   "metadata": {},
   "outputs": [],
   "source": [
    "m_params = {\n",
    "    'out_dist_type': 'normal'\n",
    "}"
   ]
  },
  {
   "cell_type": "code",
   "execution_count": 33,
   "metadata": {},
   "outputs": [],
   "source": [
    "%autoreload 1\n",
    "%aimport model.np_util, model.pl_np, model.pl_generic"
   ]
  },
  {
   "cell_type": "code",
   "execution_count": 34,
   "metadata": {},
   "outputs": [
    {
     "name": "stderr",
     "output_type": "stream",
     "text": [
      "/home/kev/miniconda3/lib/python3.7/site-packages/ipykernel/ipkernel.py:287: DeprecationWarning: `should_run_async` will not call `transform_cell` automatically in the future. Please pass the result to `transformed_cell` argument and any exception that happen during thetransform in `preprocessing_exc_tuple` in IPython 7.17 and above.\n",
      "  and should_run_async(code)\n"
     ]
    }
   ],
   "source": [
    "from model.np_util import ConvANP\n",
    "from model.pl_np import NP"
   ]
  },
  {
   "cell_type": "code",
   "execution_count": 35,
   "metadata": {},
   "outputs": [
    {
     "data": {
      "text/plain": [
       "(1340, 1, 2)"
      ]
     },
     "execution_count": 35,
     "metadata": {},
     "output_type": "execute_result"
    }
   ],
   "source": [
    "train_ol_np[2].shape"
   ]
  },
  {
   "cell_type": "code",
   "execution_count": 36,
   "metadata": {},
   "outputs": [],
   "source": [
    "mdl = NP(ConvANP, m_params, t_params, (feature_df, label_df, target_df))"
   ]
  },
  {
   "cell_type": "code",
   "execution_count": 37,
   "metadata": {},
   "outputs": [
    {
     "name": "stderr",
     "output_type": "stream",
     "text": [
      "GPU available: True, used: True\n",
      "INFO:lightning:GPU available: True, used: True\n",
      "TPU available: False, using: 0 TPU cores\n",
      "INFO:lightning:TPU available: False, using: 0 TPU cores\n",
      "CUDA_VISIBLE_DEVICES: [0]\n",
      "INFO:lightning:CUDA_VISIBLE_DEVICES: [0]\n",
      "Using native 16bit precision.\n",
      "INFO:lightning:Using native 16bit precision.\n"
     ]
    }
   ],
   "source": [
    "escb = EarlyStopping(monitor='val_loss', min_delta=0.00, patience=30, verbose=False, mode='min')\n",
    "trainer = pl.Trainer(max_epochs=t_params['epochs'], auto_lr_find=False, gpus=1, amp_level='O1', precision=16)"
   ]
  },
  {
   "cell_type": "code",
   "execution_count": 38,
   "metadata": {},
   "outputs": [
    {
     "name": "stderr",
     "output_type": "stream",
     "text": [
      "/home/kev/miniconda3/lib/python3.7/site-packages/pytorch_lightning/utilities/distributed.py:25: RuntimeWarning: You have defined a `val_dataloader()` and have defined a `validation_step()`, you may also want to define `validation_epoch_end()` for accumulating stats.\n",
      "  warnings.warn(*args, **kwargs)\n",
      "/home/kev/miniconda3/lib/python3.7/site-packages/pytorch_lightning/utilities/distributed.py:25: RuntimeWarning: You have defined a `test_dataloader()` and have defined a `test_step()`, you may also want to define `test_epoch_end()` for accumulating stats.\n",
      "  warnings.warn(*args, **kwargs)\n",
      "\n",
      "  | Name  | Type    | Params\n",
      "----------------------------------\n",
      "0 | model | ConvANP | 1 M   \n",
      "INFO:lightning:\n",
      "  | Name  | Type    | Params\n",
      "----------------------------------\n",
      "0 | model | ConvANP | 1 M   \n",
      "/home/kev/miniconda3/lib/python3.7/site-packages/pytorch_lightning/utilities/distributed.py:25: UserWarning: The dataloader, val dataloader 0, does not have many workers which may be a bottleneck. Consider increasing the value of the `num_workers` argument` (try 12 which is the number of cpus on this machine) in the `DataLoader` init to improve performance.\n",
      "  warnings.warn(*args, **kwargs)\n"
     ]
    },
    {
     "data": {
      "application/vnd.jupyter.widget-view+json": {
       "model_id": "",
       "version_major": 2,
       "version_minor": 0
      },
      "text/plain": [
       "HBox(children=(FloatProgress(value=1.0, bar_style='info', description='Validation sanity check', layout=Layout…"
      ]
     },
     "metadata": {},
     "output_type": "display_data"
    },
    {
     "name": "stderr",
     "output_type": "stream",
     "text": [
      "/home/kev/miniconda3/lib/python3.7/site-packages/pytorch_lightning/utilities/distributed.py:25: DeprecationWarning: Method `validation_end` was deprecated in v0.7 and will be removed in v1.0. Use `validation_epoch_end` instead.\n",
      "  warnings.warn(*args, **kwargs)\n",
      "/home/kev/miniconda3/lib/python3.7/site-packages/pytorch_lightning/utilities/distributed.py:25: UserWarning: The dataloader, train dataloader, does not have many workers which may be a bottleneck. Consider increasing the value of the `num_workers` argument` (try 12 which is the number of cpus on this machine) in the `DataLoader` init to improve performance.\n",
      "  warnings.warn(*args, **kwargs)\n"
     ]
    },
    {
     "data": {
      "application/vnd.jupyter.widget-view+json": {
       "model_id": "fb8c8d466f824e87b2563eae5267e8ae",
       "version_major": 2,
       "version_minor": 0
      },
      "text/plain": [
       "HBox(children=(FloatProgress(value=1.0, bar_style='info', description='Training', layout=Layout(flex='2'), max…"
      ]
     },
     "metadata": {},
     "output_type": "display_data"
    },
    {
     "data": {
      "application/vnd.jupyter.widget-view+json": {
       "model_id": "",
       "version_major": 2,
       "version_minor": 0
      },
      "text/plain": [
       "HBox(children=(FloatProgress(value=1.0, bar_style='info', description='Validating', layout=Layout(flex='2'), m…"
      ]
     },
     "metadata": {},
     "output_type": "display_data"
    },
    {
     "data": {
      "application/vnd.jupyter.widget-view+json": {
       "model_id": "",
       "version_major": 2,
       "version_minor": 0
      },
      "text/plain": [
       "HBox(children=(FloatProgress(value=1.0, bar_style='info', description='Validating', layout=Layout(flex='2'), m…"
      ]
     },
     "metadata": {},
     "output_type": "display_data"
    },
    {
     "data": {
      "application/vnd.jupyter.widget-view+json": {
       "model_id": "",
       "version_major": 2,
       "version_minor": 0
      },
      "text/plain": [
       "HBox(children=(FloatProgress(value=1.0, bar_style='info', description='Validating', layout=Layout(flex='2'), m…"
      ]
     },
     "metadata": {},
     "output_type": "display_data"
    },
    {
     "data": {
      "application/vnd.jupyter.widget-view+json": {
       "model_id": "",
       "version_major": 2,
       "version_minor": 0
      },
      "text/plain": [
       "HBox(children=(FloatProgress(value=1.0, bar_style='info', description='Validating', layout=Layout(flex='2'), m…"
      ]
     },
     "metadata": {},
     "output_type": "display_data"
    },
    {
     "data": {
      "application/vnd.jupyter.widget-view+json": {
       "model_id": "",
       "version_major": 2,
       "version_minor": 0
      },
      "text/plain": [
       "HBox(children=(FloatProgress(value=1.0, bar_style='info', description='Validating', layout=Layout(flex='2'), m…"
      ]
     },
     "metadata": {},
     "output_type": "display_data"
    },
    {
     "data": {
      "application/vnd.jupyter.widget-view+json": {
       "model_id": "",
       "version_major": 2,
       "version_minor": 0
      },
      "text/plain": [
       "HBox(children=(FloatProgress(value=1.0, bar_style='info', description='Validating', layout=Layout(flex='2'), m…"
      ]
     },
     "metadata": {},
     "output_type": "display_data"
    },
    {
     "data": {
      "application/vnd.jupyter.widget-view+json": {
       "model_id": "",
       "version_major": 2,
       "version_minor": 0
      },
      "text/plain": [
       "HBox(children=(FloatProgress(value=1.0, bar_style='info', description='Validating', layout=Layout(flex='2'), m…"
      ]
     },
     "metadata": {},
     "output_type": "display_data"
    },
    {
     "data": {
      "application/vnd.jupyter.widget-view+json": {
       "model_id": "",
       "version_major": 2,
       "version_minor": 0
      },
      "text/plain": [
       "HBox(children=(FloatProgress(value=1.0, bar_style='info', description='Validating', layout=Layout(flex='2'), m…"
      ]
     },
     "metadata": {},
     "output_type": "display_data"
    },
    {
     "data": {
      "application/vnd.jupyter.widget-view+json": {
       "model_id": "",
       "version_major": 2,
       "version_minor": 0
      },
      "text/plain": [
       "HBox(children=(FloatProgress(value=1.0, bar_style='info', description='Validating', layout=Layout(flex='2'), m…"
      ]
     },
     "metadata": {},
     "output_type": "display_data"
    },
    {
     "data": {
      "application/vnd.jupyter.widget-view+json": {
       "model_id": "",
       "version_major": 2,
       "version_minor": 0
      },
      "text/plain": [
       "HBox(children=(FloatProgress(value=1.0, bar_style='info', description='Validating', layout=Layout(flex='2'), m…"
      ]
     },
     "metadata": {},
     "output_type": "display_data"
    },
    {
     "data": {
      "application/vnd.jupyter.widget-view+json": {
       "model_id": "",
       "version_major": 2,
       "version_minor": 0
      },
      "text/plain": [
       "HBox(children=(FloatProgress(value=1.0, bar_style='info', description='Validating', layout=Layout(flex='2'), m…"
      ]
     },
     "metadata": {},
     "output_type": "display_data"
    },
    {
     "data": {
      "application/vnd.jupyter.widget-view+json": {
       "model_id": "",
       "version_major": 2,
       "version_minor": 0
      },
      "text/plain": [
       "HBox(children=(FloatProgress(value=1.0, bar_style='info', description='Validating', layout=Layout(flex='2'), m…"
      ]
     },
     "metadata": {},
     "output_type": "display_data"
    },
    {
     "data": {
      "application/vnd.jupyter.widget-view+json": {
       "model_id": "",
       "version_major": 2,
       "version_minor": 0
      },
      "text/plain": [
       "HBox(children=(FloatProgress(value=1.0, bar_style='info', description='Validating', layout=Layout(flex='2'), m…"
      ]
     },
     "metadata": {},
     "output_type": "display_data"
    },
    {
     "data": {
      "application/vnd.jupyter.widget-view+json": {
       "model_id": "",
       "version_major": 2,
       "version_minor": 0
      },
      "text/plain": [
       "HBox(children=(FloatProgress(value=1.0, bar_style='info', description='Validating', layout=Layout(flex='2'), m…"
      ]
     },
     "metadata": {},
     "output_type": "display_data"
    },
    {
     "data": {
      "application/vnd.jupyter.widget-view+json": {
       "model_id": "",
       "version_major": 2,
       "version_minor": 0
      },
      "text/plain": [
       "HBox(children=(FloatProgress(value=1.0, bar_style='info', description='Validating', layout=Layout(flex='2'), m…"
      ]
     },
     "metadata": {},
     "output_type": "display_data"
    },
    {
     "data": {
      "application/vnd.jupyter.widget-view+json": {
       "model_id": "",
       "version_major": 2,
       "version_minor": 0
      },
      "text/plain": [
       "HBox(children=(FloatProgress(value=1.0, bar_style='info', description='Validating', layout=Layout(flex='2'), m…"
      ]
     },
     "metadata": {},
     "output_type": "display_data"
    },
    {
     "data": {
      "application/vnd.jupyter.widget-view+json": {
       "model_id": "",
       "version_major": 2,
       "version_minor": 0
      },
      "text/plain": [
       "HBox(children=(FloatProgress(value=1.0, bar_style='info', description='Validating', layout=Layout(flex='2'), m…"
      ]
     },
     "metadata": {},
     "output_type": "display_data"
    },
    {
     "data": {
      "application/vnd.jupyter.widget-view+json": {
       "model_id": "",
       "version_major": 2,
       "version_minor": 0
      },
      "text/plain": [
       "HBox(children=(FloatProgress(value=1.0, bar_style='info', description='Validating', layout=Layout(flex='2'), m…"
      ]
     },
     "metadata": {},
     "output_type": "display_data"
    },
    {
     "data": {
      "application/vnd.jupyter.widget-view+json": {
       "model_id": "",
       "version_major": 2,
       "version_minor": 0
      },
      "text/plain": [
       "HBox(children=(FloatProgress(value=1.0, bar_style='info', description='Validating', layout=Layout(flex='2'), m…"
      ]
     },
     "metadata": {},
     "output_type": "display_data"
    },
    {
     "data": {
      "application/vnd.jupyter.widget-view+json": {
       "model_id": "",
       "version_major": 2,
       "version_minor": 0
      },
      "text/plain": [
       "HBox(children=(FloatProgress(value=1.0, bar_style='info', description='Validating', layout=Layout(flex='2'), m…"
      ]
     },
     "metadata": {},
     "output_type": "display_data"
    },
    {
     "data": {
      "application/vnd.jupyter.widget-view+json": {
       "model_id": "",
       "version_major": 2,
       "version_minor": 0
      },
      "text/plain": [
       "HBox(children=(FloatProgress(value=1.0, bar_style='info', description='Validating', layout=Layout(flex='2'), m…"
      ]
     },
     "metadata": {},
     "output_type": "display_data"
    },
    {
     "data": {
      "application/vnd.jupyter.widget-view+json": {
       "model_id": "",
       "version_major": 2,
       "version_minor": 0
      },
      "text/plain": [
       "HBox(children=(FloatProgress(value=1.0, bar_style='info', description='Validating', layout=Layout(flex='2'), m…"
      ]
     },
     "metadata": {},
     "output_type": "display_data"
    },
    {
     "data": {
      "application/vnd.jupyter.widget-view+json": {
       "model_id": "",
       "version_major": 2,
       "version_minor": 0
      },
      "text/plain": [
       "HBox(children=(FloatProgress(value=1.0, bar_style='info', description='Validating', layout=Layout(flex='2'), m…"
      ]
     },
     "metadata": {},
     "output_type": "display_data"
    },
    {
     "data": {
      "application/vnd.jupyter.widget-view+json": {
       "model_id": "",
       "version_major": 2,
       "version_minor": 0
      },
      "text/plain": [
       "HBox(children=(FloatProgress(value=1.0, bar_style='info', description='Validating', layout=Layout(flex='2'), m…"
      ]
     },
     "metadata": {},
     "output_type": "display_data"
    },
    {
     "data": {
      "application/vnd.jupyter.widget-view+json": {
       "model_id": "",
       "version_major": 2,
       "version_minor": 0
      },
      "text/plain": [
       "HBox(children=(FloatProgress(value=1.0, bar_style='info', description='Validating', layout=Layout(flex='2'), m…"
      ]
     },
     "metadata": {},
     "output_type": "display_data"
    },
    {
     "data": {
      "application/vnd.jupyter.widget-view+json": {
       "model_id": "",
       "version_major": 2,
       "version_minor": 0
      },
      "text/plain": [
       "HBox(children=(FloatProgress(value=1.0, bar_style='info', description='Validating', layout=Layout(flex='2'), m…"
      ]
     },
     "metadata": {},
     "output_type": "display_data"
    },
    {
     "data": {
      "application/vnd.jupyter.widget-view+json": {
       "model_id": "",
       "version_major": 2,
       "version_minor": 0
      },
      "text/plain": [
       "HBox(children=(FloatProgress(value=1.0, bar_style='info', description='Validating', layout=Layout(flex='2'), m…"
      ]
     },
     "metadata": {},
     "output_type": "display_data"
    },
    {
     "data": {
      "application/vnd.jupyter.widget-view+json": {
       "model_id": "",
       "version_major": 2,
       "version_minor": 0
      },
      "text/plain": [
       "HBox(children=(FloatProgress(value=1.0, bar_style='info', description='Validating', layout=Layout(flex='2'), m…"
      ]
     },
     "metadata": {},
     "output_type": "display_data"
    },
    {
     "data": {
      "application/vnd.jupyter.widget-view+json": {
       "model_id": "",
       "version_major": 2,
       "version_minor": 0
      },
      "text/plain": [
       "HBox(children=(FloatProgress(value=1.0, bar_style='info', description='Validating', layout=Layout(flex='2'), m…"
      ]
     },
     "metadata": {},
     "output_type": "display_data"
    },
    {
     "data": {
      "application/vnd.jupyter.widget-view+json": {
       "model_id": "",
       "version_major": 2,
       "version_minor": 0
      },
      "text/plain": [
       "HBox(children=(FloatProgress(value=1.0, bar_style='info', description='Validating', layout=Layout(flex='2'), m…"
      ]
     },
     "metadata": {},
     "output_type": "display_data"
    },
    {
     "data": {
      "application/vnd.jupyter.widget-view+json": {
       "model_id": "",
       "version_major": 2,
       "version_minor": 0
      },
      "text/plain": [
       "HBox(children=(FloatProgress(value=1.0, bar_style='info', description='Validating', layout=Layout(flex='2'), m…"
      ]
     },
     "metadata": {},
     "output_type": "display_data"
    },
    {
     "data": {
      "application/vnd.jupyter.widget-view+json": {
       "model_id": "",
       "version_major": 2,
       "version_minor": 0
      },
      "text/plain": [
       "HBox(children=(FloatProgress(value=1.0, bar_style='info', description='Validating', layout=Layout(flex='2'), m…"
      ]
     },
     "metadata": {},
     "output_type": "display_data"
    },
    {
     "data": {
      "application/vnd.jupyter.widget-view+json": {
       "model_id": "",
       "version_major": 2,
       "version_minor": 0
      },
      "text/plain": [
       "HBox(children=(FloatProgress(value=1.0, bar_style='info', description='Validating', layout=Layout(flex='2'), m…"
      ]
     },
     "metadata": {},
     "output_type": "display_data"
    },
    {
     "name": "stdout",
     "output_type": "stream",
     "text": [
      "\n"
     ]
    },
    {
     "name": "stderr",
     "output_type": "stream",
     "text": [
      "/home/kev/miniconda3/lib/python3.7/site-packages/pytorch_lightning/utilities/distributed.py:25: UserWarning: Detected KeyboardInterrupt, attempting graceful shutdown...\n",
      "  warnings.warn(*args, **kwargs)\n"
     ]
    },
    {
     "data": {
      "text/plain": [
       "1"
      ]
     },
     "execution_count": 38,
     "metadata": {},
     "output_type": "execute_result"
    }
   ],
   "source": [
    "trainer.fit(mdl)"
   ]
  },
  {
   "cell_type": "code",
   "execution_count": 39,
   "metadata": {
    "scrolled": true
   },
   "outputs": [
    {
     "data": {
      "text/plain": [
       "NP(\n",
       "  (loss): CrossEntropyLoss()\n",
       "  (model): ConvANP(\n",
       "    (det_encoder): DetConvEncoder(\n",
       "      (target_transform): TemporalConvNet(\n",
       "        (convnet): Sequential(\n",
       "          (rb_0): ResidualBlock(\n",
       "            (net): Sequential(\n",
       "              (tl_0_0): TemporalLayer1d(\n",
       "                (layer): Sequential(\n",
       "                  (0): Conv1d(5, 128, kernel_size=(3,), stride=(1,), padding=(2,))\n",
       "                  (1): ELU(alpha=1.0)\n",
       "                  (2): Dropout(p=0.0, inplace=False)\n",
       "                )\n",
       "              )\n",
       "              (tl_0_1): TemporalLayer1d(\n",
       "                (layer): Sequential(\n",
       "                  (0): Conv1d(128, 128, kernel_size=(3,), stride=(1,), padding=(4,), dilation=(2,))\n",
       "                  (1): ELU(alpha=1.0)\n",
       "                  (2): Dropout(p=0.0, inplace=False)\n",
       "                )\n",
       "              )\n",
       "              (tl_0_2): TemporalLayer1d(\n",
       "                (layer): Sequential(\n",
       "                  (0): Conv1d(128, 128, kernel_size=(3,), stride=(1,), padding=(8,), dilation=(4,))\n",
       "                  (1): ELU(alpha=1.0)\n",
       "                  (2): Dropout(p=0.0, inplace=False)\n",
       "                )\n",
       "              )\n",
       "            )\n",
       "            (out_act): ReLU()\n",
       "            (downsample): Conv1d(5, 128, kernel_size=(1,), stride=(1,), padding=(7,))\n",
       "          )\n",
       "        )\n",
       "      )\n",
       "      (context_transform): TemporalConvNet(\n",
       "        (convnet): Sequential(\n",
       "          (rb_0): ResidualBlock(\n",
       "            (net): Sequential(\n",
       "              (tl_0_0): TemporalLayer1d(\n",
       "                (layer): Sequential(\n",
       "                  (0): Conv1d(5, 128, kernel_size=(3,), stride=(1,), padding=(2,))\n",
       "                  (1): ELU(alpha=1.0)\n",
       "                  (2): Dropout(p=0.0, inplace=False)\n",
       "                )\n",
       "              )\n",
       "              (tl_0_1): TemporalLayer1d(\n",
       "                (layer): Sequential(\n",
       "                  (0): Conv1d(128, 128, kernel_size=(3,), stride=(1,), padding=(4,), dilation=(2,))\n",
       "                  (1): ELU(alpha=1.0)\n",
       "                  (2): Dropout(p=0.0, inplace=False)\n",
       "                )\n",
       "              )\n",
       "              (tl_0_2): TemporalLayer1d(\n",
       "                (layer): Sequential(\n",
       "                  (0): Conv1d(128, 128, kernel_size=(3,), stride=(1,), padding=(8,), dilation=(4,))\n",
       "                  (1): ELU(alpha=1.0)\n",
       "                  (2): Dropout(p=0.0, inplace=False)\n",
       "                )\n",
       "              )\n",
       "            )\n",
       "            (out_act): ReLU()\n",
       "            (downsample): Conv1d(5, 128, kernel_size=(1,), stride=(1,), padding=(7,))\n",
       "          )\n",
       "        )\n",
       "      )\n",
       "      (input_encoder): TemporalConvNet(\n",
       "        (convnet): Sequential(\n",
       "          (rb_0): ResidualBlock(\n",
       "            (net): Sequential(\n",
       "              (tl_0_0): TemporalLayer1d(\n",
       "                (layer): Sequential(\n",
       "                  (0): Conv1d(6, 128, kernel_size=(3,), stride=(1,), padding=(2,))\n",
       "                  (1): ELU(alpha=1.0)\n",
       "                  (2): Dropout(p=0.0, inplace=False)\n",
       "                )\n",
       "              )\n",
       "              (tl_0_1): TemporalLayer1d(\n",
       "                (layer): Sequential(\n",
       "                  (0): Conv1d(128, 128, kernel_size=(3,), stride=(1,), padding=(4,), dilation=(2,))\n",
       "                  (1): ELU(alpha=1.0)\n",
       "                  (2): Dropout(p=0.0, inplace=False)\n",
       "                )\n",
       "              )\n",
       "              (tl_0_2): TemporalLayer1d(\n",
       "                (layer): Sequential(\n",
       "                  (0): Conv1d(128, 128, kernel_size=(3,), stride=(1,), padding=(8,), dilation=(4,))\n",
       "                  (1): ELU(alpha=1.0)\n",
       "                  (2): Dropout(p=0.0, inplace=False)\n",
       "                )\n",
       "              )\n",
       "            )\n",
       "            (out_act): ReLU()\n",
       "            (downsample): Conv1d(6, 128, kernel_size=(1,), stride=(1,), padding=(7,))\n",
       "          )\n",
       "        )\n",
       "      )\n",
       "      (sa_W): ModuleList(\n",
       "        (0): MultiheadAttention(\n",
       "          (out_proj): _LinearWithBias(in_features=128, out_features=128, bias=True)\n",
       "        )\n",
       "        (1): MultiheadAttention(\n",
       "          (out_proj): _LinearWithBias(in_features=128, out_features=128, bias=True)\n",
       "        )\n",
       "      )\n",
       "      (xa_W): ModuleList(\n",
       "        (0): MultiheadAttention(\n",
       "          (out_proj): _LinearWithBias(in_features=128, out_features=128, bias=True)\n",
       "        )\n",
       "        (1): MultiheadAttention(\n",
       "          (out_proj): _LinearWithBias(in_features=128, out_features=128, bias=True)\n",
       "        )\n",
       "      )\n",
       "    )\n",
       "    (lat_encoder): LatConvEncoder(\n",
       "      (input_encoder): TemporalConvNet(\n",
       "        (convnet): Sequential(\n",
       "          (rb_0): ResidualBlock(\n",
       "            (net): Sequential(\n",
       "              (tl_0_0): TemporalLayer1d(\n",
       "                (layer): Sequential(\n",
       "                  (0): Conv1d(6, 128, kernel_size=(3,), stride=(1,), padding=(2,))\n",
       "                  (1): ELU(alpha=1.0)\n",
       "                  (2): Dropout(p=0.0, inplace=False)\n",
       "                )\n",
       "              )\n",
       "              (tl_0_1): TemporalLayer1d(\n",
       "                (layer): Sequential(\n",
       "                  (0): Conv1d(128, 128, kernel_size=(3,), stride=(1,), padding=(4,), dilation=(2,))\n",
       "                  (1): ELU(alpha=1.0)\n",
       "                  (2): Dropout(p=0.0, inplace=False)\n",
       "                )\n",
       "              )\n",
       "              (tl_0_2): TemporalLayer1d(\n",
       "                (layer): Sequential(\n",
       "                  (0): Conv1d(128, 128, kernel_size=(3,), stride=(1,), padding=(8,), dilation=(4,))\n",
       "                  (1): ELU(alpha=1.0)\n",
       "                  (2): Dropout(p=0.0, inplace=False)\n",
       "                )\n",
       "              )\n",
       "            )\n",
       "            (out_act): ReLU()\n",
       "            (downsample): Conv1d(6, 128, kernel_size=(1,), stride=(1,), padding=(7,))\n",
       "          )\n",
       "        )\n",
       "      )\n",
       "      (sa_W): ModuleList(\n",
       "        (0): MultiheadAttention(\n",
       "          (out_proj): _LinearWithBias(in_features=128, out_features=128, bias=True)\n",
       "        )\n",
       "        (1): MultiheadAttention(\n",
       "          (out_proj): _LinearWithBias(in_features=128, out_features=128, bias=True)\n",
       "        )\n",
       "      )\n",
       "      (map_layer): Linear(in_features=128, out_features=128, bias=True)\n",
       "      (mean): Linear(in_features=128, out_features=256, bias=True)\n",
       "      (logvar): Linear(in_features=128, out_features=256, bias=True)\n",
       "      (sig): Sigmoid()\n",
       "    )\n",
       "    (decoder): ConvDecoder(\n",
       "      (target_transform): TemporalConvNet(\n",
       "        (convnet): Sequential(\n",
       "          (rb_0): ResidualBlock(\n",
       "            (net): Sequential(\n",
       "              (tl_0_0): TemporalLayer1d(\n",
       "                (layer): Sequential(\n",
       "                  (0): Conv1d(5, 128, kernel_size=(3,), stride=(1,), padding=(2,))\n",
       "                  (1): ELU(alpha=1.0)\n",
       "                  (2): Dropout(p=0.0, inplace=False)\n",
       "                )\n",
       "              )\n",
       "              (tl_0_1): TemporalLayer1d(\n",
       "                (layer): Sequential(\n",
       "                  (0): Conv1d(128, 128, kernel_size=(3,), stride=(1,), padding=(4,), dilation=(2,))\n",
       "                  (1): ELU(alpha=1.0)\n",
       "                  (2): Dropout(p=0.0, inplace=False)\n",
       "                )\n",
       "              )\n",
       "              (tl_0_2): TemporalLayer1d(\n",
       "                (layer): Sequential(\n",
       "                  (0): Conv1d(128, 128, kernel_size=(3,), stride=(1,), padding=(8,), dilation=(4,))\n",
       "                  (1): ELU(alpha=1.0)\n",
       "                  (2): Dropout(p=0.0, inplace=False)\n",
       "                )\n",
       "              )\n",
       "            )\n",
       "            (out_act): ReLU()\n",
       "            (downsample): Conv1d(5, 128, kernel_size=(1,), stride=(1,), padding=(7,))\n",
       "          )\n",
       "        )\n",
       "      )\n",
       "      (decoder): TemporalConvNet(\n",
       "        (convnet): Sequential(\n",
       "          (rb_0): ResidualBlock(\n",
       "            (net): Sequential(\n",
       "              (tl_0_0): TemporalLayer1d(\n",
       "                (layer): Sequential(\n",
       "                  (0): Conv1d(512, 128, kernel_size=(3,), stride=(1,), padding=(2,))\n",
       "                  (1): ELU(alpha=1.0)\n",
       "                  (2): Dropout(p=0.0, inplace=False)\n",
       "                )\n",
       "              )\n",
       "              (tl_0_1): TemporalLayer1d(\n",
       "                (layer): Sequential(\n",
       "                  (0): Conv1d(128, 128, kernel_size=(3,), stride=(1,), padding=(4,), dilation=(2,))\n",
       "                  (1): ELU(alpha=1.0)\n",
       "                  (2): Dropout(p=0.0, inplace=False)\n",
       "                )\n",
       "              )\n",
       "              (tl_0_2): TemporalLayer1d(\n",
       "                (layer): Sequential(\n",
       "                  (0): Conv1d(128, 128, kernel_size=(3,), stride=(1,), padding=(8,), dilation=(4,))\n",
       "                  (1): ELU(alpha=1.0)\n",
       "                  (2): Dropout(p=0.0, inplace=False)\n",
       "                )\n",
       "              )\n",
       "            )\n",
       "            (out_act): ReLU()\n",
       "            (downsample): Conv1d(512, 128, kernel_size=(1,), stride=(1,), padding=(7,))\n",
       "          )\n",
       "        )\n",
       "      )\n",
       "      (alpha): Linear(in_features=24064, out_features=1, bias=True)\n",
       "      (beta): Linear(in_features=24064, out_features=1, bias=True)\n",
       "      (softplus): Softplus(beta=1, threshold=20)\n",
       "    )\n",
       "    (mse): MSELoss()\n",
       "  )\n",
       ")"
      ]
     },
     "execution_count": 39,
     "metadata": {},
     "output_type": "execute_result"
    }
   ],
   "source": [
    "mdl"
   ]
  },
  {
   "cell_type": "code",
   "execution_count": null,
   "metadata": {},
   "outputs": [],
   "source": []
  },
  {
   "cell_type": "code",
   "execution_count": null,
   "metadata": {},
   "outputs": [],
   "source": []
  },
  {
   "cell_type": "code",
   "execution_count": null,
   "metadata": {},
   "outputs": [],
   "source": []
  },
  {
   "cell_type": "code",
   "execution_count": null,
   "metadata": {},
   "outputs": [],
   "source": [
    "torch.zeros(20, 10, 5).shape"
   ]
  },
  {
   "cell_type": "code",
   "execution_count": 29,
   "metadata": {},
   "outputs": [],
   "source": [
    "# deterministic encoder\n",
    "\n",
    "# latent encoder"
   ]
  },
  {
   "cell_type": "code",
   "execution_count": 52,
   "metadata": {},
   "outputs": [
    {
     "data": {
      "text/plain": [
       "(1340, 5, 160)"
      ]
     },
     "execution_count": 52,
     "metadata": {},
     "output_type": "execute_result"
    }
   ],
   "source": [
    "train_ol_np[0].shape"
   ]
  },
  {
   "cell_type": "code",
   "execution_count": 32,
   "metadata": {},
   "outputs": [],
   "source": [
    "from model.np_util import DetConvEncoder, LatConvEncoder, ConvDecoder, ConvANP"
   ]
  },
  {
   "cell_type": "code",
   "execution_count": 33,
   "metadata": {},
   "outputs": [],
   "source": [
    "d_encoder = DetConvEncoder(in_shape=(5, 160), embed_size=128, encoder_depth=3, encoder_kernel_size=3,\n",
    "                           encoder_dropout=.0, label_size=1, sa_depth=2, sa_heads=8, sa_dropout=0.0,\n",
    "                           xa_depth=2, xa_heads=8, xa_dropout=0.0)"
   ]
  },
  {
   "cell_type": "code",
   "execution_count": 34,
   "metadata": {},
   "outputs": [],
   "source": [
    "l_encoder = LatConvEncoder(in_shape=(5, 160), embed_size=128, encoder_depth=3, encoder_kernel_size=3,\n",
    "                           latent_size=256, label_size=1, sa_depth=2, sa_heads=8, sa_dropout=0.0,\n",
    "                           min_std=.01, use_lvar=False)"
   ]
  },
  {
   "cell_type": "code",
   "execution_count": 35,
   "metadata": {},
   "outputs": [],
   "source": [
    "dec = ConvDecoder(in_shape=(5, 160), embed_size=128, decoder_depth=3,\n",
    "                    decoder_kernel_size=3, decoder_dropout=0.0, label_size=1,\n",
    "                    encoder_embed_size=128, latent_size=256, min_std=.01, use_lvar=False)"
   ]
  },
  {
   "cell_type": "code",
   "execution_count": 36,
   "metadata": {},
   "outputs": [],
   "source": [
    "# X_c = torch.from_numpy(train_ol_np[0][0, 0, :])\n",
    "# y_c = torch.from_numpy(train_ol_np[1][[0]])\n",
    "# X_t = torch.from_numpy(train_ol_np[0][1, 0, :])\n",
    "params = {\n",
    "    'loss': 'ce',\n",
    "    'batch_size': 128,\n",
    "    'window_size': 20,\n",
    "    'feat_dim': None,\n",
    "    'feat_shuffle': False\n",
    "}\n",
    "train_dl = get_dataloader(data=train_np, loss=params['loss'],\n",
    "                          window_size=params['window_size'], window_overlap=True,\n",
    "                          feat_dim=params['feat_dim'], batch_size=params['batch_size'],\n",
    "                          shuffle=params['feat_shuffle'])"
   ]
  },
  {
   "cell_type": "code",
   "execution_count": 37,
   "metadata": {},
   "outputs": [],
   "source": [
    "for i, (x, y, z) in enumerate(train_dl):\n",
    "    batch_x = x\n",
    "    batch_y = y\n",
    "    batch_z = z\n",
    "    break"
   ]
  },
  {
   "cell_type": "code",
   "execution_count": 37,
   "metadata": {},
   "outputs": [],
   "source": [
    "for i, (x, y, z) in enumerate(train_dl):\n",
    "    if (i==0):\n",
    "        X_c = x\n",
    "        y_c = y\n",
    "    elif (i==1):\n",
    "        X_t = x\n",
    "        y_t = y\n",
    "        break"
   ]
  },
  {
   "cell_type": "code",
   "execution_count": 38,
   "metadata": {},
   "outputs": [
    {
     "name": "stdout",
     "output_type": "stream",
     "text": [
      "(5, 160) (128, 174)\n",
      "torch.Size([10, 128, 174])\n"
     ]
    }
   ],
   "source": [
    "rep = d_encoder.forward(X_c, y_c, X_t)\n",
    "print(d_encoder.in_shape, d_encoder.out_shape)\n",
    "print(rep.shape)"
   ]
  },
  {
   "cell_type": "code",
   "execution_count": 39,
   "metadata": {},
   "outputs": [
    {
     "name": "stdout",
     "output_type": "stream",
     "text": [
      "(5, 160) (256,)\n",
      "torch.Size([10, 256])\n"
     ]
    }
   ],
   "source": [
    "z_dist, z_logvar = l_encoder.forward(X_c, y_c)\n",
    "print(l_encoder.in_shape, l_encoder.out_shape)\n",
    "print(z_dist.rsample().shape)"
   ]
  },
  {
   "cell_type": "code",
   "execution_count": 40,
   "metadata": {},
   "outputs": [
    {
     "name": "stdout",
     "output_type": "stream",
     "text": [
      "(5, 160) (1,)\n",
      "torch.Size([10, 1])\n"
     ]
    }
   ],
   "source": [
    "out_dist = dec.forward(rep, z_dist.rsample(), X_t)\n",
    "print(dec.in_shape, dec.out_shape)\n",
    "print(out_dist.rsample().shape)"
   ]
  },
  {
   "cell_type": "code",
   "execution_count": 41,
   "metadata": {},
   "outputs": [],
   "source": [
    "cmdl = ConvANP((5, 160))"
   ]
  },
  {
   "cell_type": "code",
   "execution_count": 48,
   "metadata": {},
   "outputs": [
    {
     "data": {
      "text/plain": [
       "ConvANP(\n",
       "  (det_encoder): DetConvEncoder(\n",
       "    (target_transform): TemporalConvNet(\n",
       "      (convnet): Sequential(\n",
       "        (rb_0): ResidualBlock(\n",
       "          (net): Sequential(\n",
       "            (tl_0_0): TemporalLayer1d(\n",
       "              (layer): Sequential(\n",
       "                (0): Conv1d(5, 128, kernel_size=(3,), stride=(1,), padding=(2,))\n",
       "                (1): ELU(alpha=1.0)\n",
       "                (2): Dropout(p=0.0, inplace=False)\n",
       "              )\n",
       "            )\n",
       "            (tl_0_1): TemporalLayer1d(\n",
       "              (layer): Sequential(\n",
       "                (0): Conv1d(128, 128, kernel_size=(3,), stride=(1,), padding=(4,), dilation=(2,))\n",
       "                (1): ELU(alpha=1.0)\n",
       "                (2): Dropout(p=0.0, inplace=False)\n",
       "              )\n",
       "            )\n",
       "            (tl_0_2): TemporalLayer1d(\n",
       "              (layer): Sequential(\n",
       "                (0): Conv1d(128, 128, kernel_size=(3,), stride=(1,), padding=(8,), dilation=(4,))\n",
       "                (1): ELU(alpha=1.0)\n",
       "                (2): Dropout(p=0.0, inplace=False)\n",
       "              )\n",
       "            )\n",
       "          )\n",
       "          (out_act): ReLU()\n",
       "          (downsample): Conv1d(5, 128, kernel_size=(1,), stride=(1,), padding=(7,))\n",
       "        )\n",
       "      )\n",
       "    )\n",
       "    (context_transform): TemporalConvNet(\n",
       "      (convnet): Sequential(\n",
       "        (rb_0): ResidualBlock(\n",
       "          (net): Sequential(\n",
       "            (tl_0_0): TemporalLayer1d(\n",
       "              (layer): Sequential(\n",
       "                (0): Conv1d(5, 128, kernel_size=(3,), stride=(1,), padding=(2,))\n",
       "                (1): ELU(alpha=1.0)\n",
       "                (2): Dropout(p=0.0, inplace=False)\n",
       "              )\n",
       "            )\n",
       "            (tl_0_1): TemporalLayer1d(\n",
       "              (layer): Sequential(\n",
       "                (0): Conv1d(128, 128, kernel_size=(3,), stride=(1,), padding=(4,), dilation=(2,))\n",
       "                (1): ELU(alpha=1.0)\n",
       "                (2): Dropout(p=0.0, inplace=False)\n",
       "              )\n",
       "            )\n",
       "            (tl_0_2): TemporalLayer1d(\n",
       "              (layer): Sequential(\n",
       "                (0): Conv1d(128, 128, kernel_size=(3,), stride=(1,), padding=(8,), dilation=(4,))\n",
       "                (1): ELU(alpha=1.0)\n",
       "                (2): Dropout(p=0.0, inplace=False)\n",
       "              )\n",
       "            )\n",
       "          )\n",
       "          (out_act): ReLU()\n",
       "          (downsample): Conv1d(5, 128, kernel_size=(1,), stride=(1,), padding=(7,))\n",
       "        )\n",
       "      )\n",
       "    )\n",
       "    (input_encoder): TemporalConvNet(\n",
       "      (convnet): Sequential(\n",
       "        (rb_0): ResidualBlock(\n",
       "          (net): Sequential(\n",
       "            (tl_0_0): TemporalLayer1d(\n",
       "              (layer): Sequential(\n",
       "                (0): Conv1d(6, 128, kernel_size=(3,), stride=(1,), padding=(2,))\n",
       "                (1): ELU(alpha=1.0)\n",
       "                (2): Dropout(p=0.0, inplace=False)\n",
       "              )\n",
       "            )\n",
       "            (tl_0_1): TemporalLayer1d(\n",
       "              (layer): Sequential(\n",
       "                (0): Conv1d(128, 128, kernel_size=(3,), stride=(1,), padding=(4,), dilation=(2,))\n",
       "                (1): ELU(alpha=1.0)\n",
       "                (2): Dropout(p=0.0, inplace=False)\n",
       "              )\n",
       "            )\n",
       "            (tl_0_2): TemporalLayer1d(\n",
       "              (layer): Sequential(\n",
       "                (0): Conv1d(128, 128, kernel_size=(3,), stride=(1,), padding=(8,), dilation=(4,))\n",
       "                (1): ELU(alpha=1.0)\n",
       "                (2): Dropout(p=0.0, inplace=False)\n",
       "              )\n",
       "            )\n",
       "          )\n",
       "          (out_act): ReLU()\n",
       "          (downsample): Conv1d(6, 128, kernel_size=(1,), stride=(1,), padding=(7,))\n",
       "        )\n",
       "      )\n",
       "    )\n",
       "    (sa_W): ModuleList(\n",
       "      (0): MultiheadAttention(\n",
       "        (out_proj): Linear(in_features=128, out_features=128, bias=True)\n",
       "      )\n",
       "      (1): MultiheadAttention(\n",
       "        (out_proj): Linear(in_features=128, out_features=128, bias=True)\n",
       "      )\n",
       "    )\n",
       "    (xa_W): ModuleList(\n",
       "      (0): MultiheadAttention(\n",
       "        (out_proj): Linear(in_features=128, out_features=128, bias=True)\n",
       "      )\n",
       "      (1): MultiheadAttention(\n",
       "        (out_proj): Linear(in_features=128, out_features=128, bias=True)\n",
       "      )\n",
       "    )\n",
       "  )\n",
       "  (lat_encoder): LatConvEncoder(\n",
       "    (input_encoder): TemporalConvNet(\n",
       "      (convnet): Sequential(\n",
       "        (rb_0): ResidualBlock(\n",
       "          (net): Sequential(\n",
       "            (tl_0_0): TemporalLayer1d(\n",
       "              (layer): Sequential(\n",
       "                (0): Conv1d(6, 128, kernel_size=(3,), stride=(1,), padding=(2,))\n",
       "                (1): ELU(alpha=1.0)\n",
       "                (2): Dropout(p=0.0, inplace=False)\n",
       "              )\n",
       "            )\n",
       "            (tl_0_1): TemporalLayer1d(\n",
       "              (layer): Sequential(\n",
       "                (0): Conv1d(128, 128, kernel_size=(3,), stride=(1,), padding=(4,), dilation=(2,))\n",
       "                (1): ELU(alpha=1.0)\n",
       "                (2): Dropout(p=0.0, inplace=False)\n",
       "              )\n",
       "            )\n",
       "            (tl_0_2): TemporalLayer1d(\n",
       "              (layer): Sequential(\n",
       "                (0): Conv1d(128, 128, kernel_size=(3,), stride=(1,), padding=(8,), dilation=(4,))\n",
       "                (1): ELU(alpha=1.0)\n",
       "                (2): Dropout(p=0.0, inplace=False)\n",
       "              )\n",
       "            )\n",
       "          )\n",
       "          (out_act): ReLU()\n",
       "          (downsample): Conv1d(6, 128, kernel_size=(1,), stride=(1,), padding=(7,))\n",
       "        )\n",
       "      )\n",
       "    )\n",
       "    (sa_W): ModuleList(\n",
       "      (0): MultiheadAttention(\n",
       "        (out_proj): Linear(in_features=128, out_features=128, bias=True)\n",
       "      )\n",
       "      (1): MultiheadAttention(\n",
       "        (out_proj): Linear(in_features=128, out_features=128, bias=True)\n",
       "      )\n",
       "    )\n",
       "    (map_layer): Linear(in_features=128, out_features=128, bias=True)\n",
       "    (mean): Linear(in_features=128, out_features=256, bias=True)\n",
       "    (logvar): Linear(in_features=128, out_features=256, bias=True)\n",
       "    (sig): Sigmoid()\n",
       "  )\n",
       "  (decoder): ConvDecoder(\n",
       "    (target_transform): TemporalConvNet(\n",
       "      (convnet): Sequential(\n",
       "        (rb_0): ResidualBlock(\n",
       "          (net): Sequential(\n",
       "            (tl_0_0): TemporalLayer1d(\n",
       "              (layer): Sequential(\n",
       "                (0): Conv1d(5, 128, kernel_size=(3,), stride=(1,), padding=(2,))\n",
       "                (1): ELU(alpha=1.0)\n",
       "                (2): Dropout(p=0.0, inplace=False)\n",
       "              )\n",
       "            )\n",
       "            (tl_0_1): TemporalLayer1d(\n",
       "              (layer): Sequential(\n",
       "                (0): Conv1d(128, 128, kernel_size=(3,), stride=(1,), padding=(4,), dilation=(2,))\n",
       "                (1): ELU(alpha=1.0)\n",
       "                (2): Dropout(p=0.0, inplace=False)\n",
       "              )\n",
       "            )\n",
       "            (tl_0_2): TemporalLayer1d(\n",
       "              (layer): Sequential(\n",
       "                (0): Conv1d(128, 128, kernel_size=(3,), stride=(1,), padding=(8,), dilation=(4,))\n",
       "                (1): ELU(alpha=1.0)\n",
       "                (2): Dropout(p=0.0, inplace=False)\n",
       "              )\n",
       "            )\n",
       "          )\n",
       "          (out_act): ReLU()\n",
       "          (downsample): Conv1d(5, 128, kernel_size=(1,), stride=(1,), padding=(7,))\n",
       "        )\n",
       "      )\n",
       "    )\n",
       "    (decoder): TemporalConvNet(\n",
       "      (convnet): Sequential(\n",
       "        (rb_0): ResidualBlock(\n",
       "          (net): Sequential(\n",
       "            (tl_0_0): TemporalLayer1d(\n",
       "              (layer): Sequential(\n",
       "                (0): Conv1d(512, 128, kernel_size=(3,), stride=(1,), padding=(2,))\n",
       "                (1): ELU(alpha=1.0)\n",
       "                (2): Dropout(p=0.0, inplace=False)\n",
       "              )\n",
       "            )\n",
       "            (tl_0_1): TemporalLayer1d(\n",
       "              (layer): Sequential(\n",
       "                (0): Conv1d(128, 128, kernel_size=(3,), stride=(1,), padding=(4,), dilation=(2,))\n",
       "                (1): ELU(alpha=1.0)\n",
       "                (2): Dropout(p=0.0, inplace=False)\n",
       "              )\n",
       "            )\n",
       "            (tl_0_2): TemporalLayer1d(\n",
       "              (layer): Sequential(\n",
       "                (0): Conv1d(128, 128, kernel_size=(3,), stride=(1,), padding=(8,), dilation=(4,))\n",
       "                (1): ELU(alpha=1.0)\n",
       "                (2): Dropout(p=0.0, inplace=False)\n",
       "              )\n",
       "            )\n",
       "          )\n",
       "          (out_act): ReLU()\n",
       "          (downsample): Conv1d(512, 128, kernel_size=(1,), stride=(1,), padding=(7,))\n",
       "        )\n",
       "      )\n",
       "    )\n",
       "    (alpha): Linear(in_features=24064, out_features=1, bias=True)\n",
       "    (beta): Linear(in_features=24064, out_features=1, bias=True)\n",
       "  )\n",
       "  (mse): MSELoss()\n",
       ")"
      ]
     },
     "execution_count": 48,
     "metadata": {},
     "output_type": "execute_result"
    }
   ],
   "source": [
    "cmdl"
   ]
  },
  {
   "cell_type": "code",
   "execution_count": 43,
   "metadata": {},
   "outputs": [],
   "source": [
    "prior_dist, post_dist, out_dist = cmdl.forward(X_c, y_c, X_t, y_t)"
   ]
  },
  {
   "cell_type": "code",
   "execution_count": 44,
   "metadata": {},
   "outputs": [],
   "source": [
    "training = False\n",
    "use_lvar = False\n",
    "context_in_target = False\n",
    "context_x, context_y, target_x, target_y = X_c, y_c, X_t, y_t"
   ]
  },
  {
   "cell_type": "code",
   "execution_count": 45,
   "metadata": {},
   "outputs": [],
   "source": [
    "y_pred, loss = cmdl.sample(prior_dist, post_dist, out_dist, target_y)"
   ]
  },
  {
   "cell_type": "code",
   "execution_count": null,
   "metadata": {},
   "outputs": [],
   "source": []
  },
  {
   "cell_type": "code",
   "execution_count": null,
   "metadata": {},
   "outputs": [],
   "source": []
  },
  {
   "cell_type": "code",
   "execution_count": null,
   "metadata": {},
   "outputs": [],
   "source": []
  },
  {
   "cell_type": "code",
   "execution_count": null,
   "metadata": {},
   "outputs": [],
   "source": []
  },
  {
   "cell_type": "code",
   "execution_count": null,
   "metadata": {},
   "outputs": [],
   "source": []
  },
  {
   "cell_type": "code",
   "execution_count": 104,
   "metadata": {},
   "outputs": [],
   "source": [
    "dmdl = DeterministicEncoder(7, 5, use_self_attn=True)"
   ]
  },
  {
   "cell_type": "code",
   "execution_count": 105,
   "metadata": {},
   "outputs": [
    {
     "ename": "RuntimeError",
     "evalue": "Tensors must have same number of dimensions: got 3 and 1",
     "output_type": "error",
     "traceback": [
      "\u001b[0;31m---------------------------------------------------------------------------\u001b[0m",
      "\u001b[0;31mRuntimeError\u001b[0m                              Traceback (most recent call last)",
      "\u001b[0;32m<ipython-input-105-dfc6b00fb4b4>\u001b[0m in \u001b[0;36m<module>\u001b[0;34m\u001b[0m\n\u001b[1;32m      2\u001b[0m \u001b[0mcy\u001b[0m \u001b[0;34m=\u001b[0m \u001b[0mtorch\u001b[0m\u001b[0;34m.\u001b[0m\u001b[0mrand\u001b[0m\u001b[0;34m(\u001b[0m\u001b[0;36m10\u001b[0m\u001b[0;34m,\u001b[0m\u001b[0;34m)\u001b[0m\u001b[0;34m\u001b[0m\u001b[0;34m\u001b[0m\u001b[0m\n\u001b[1;32m      3\u001b[0m \u001b[0mtx\u001b[0m \u001b[0;34m=\u001b[0m \u001b[0mtorch\u001b[0m\u001b[0;34m.\u001b[0m\u001b[0mrand\u001b[0m\u001b[0;34m(\u001b[0m\u001b[0;36m10\u001b[0m\u001b[0;34m,\u001b[0m \u001b[0;36m7\u001b[0m\u001b[0;34m,\u001b[0m \u001b[0;36m5\u001b[0m\u001b[0;34m)\u001b[0m\u001b[0;34m\u001b[0m\u001b[0;34m\u001b[0m\u001b[0m\n\u001b[0;32m----> 4\u001b[0;31m \u001b[0mdmdl\u001b[0m\u001b[0;34m.\u001b[0m\u001b[0mforward\u001b[0m\u001b[0;34m(\u001b[0m\u001b[0mcx\u001b[0m\u001b[0;34m,\u001b[0m \u001b[0mcy\u001b[0m\u001b[0;34m,\u001b[0m \u001b[0mtx\u001b[0m\u001b[0;34m)\u001b[0m\u001b[0;34m\u001b[0m\u001b[0;34m\u001b[0m\u001b[0m\n\u001b[0m",
      "\u001b[0;32m<ipython-input-103-650b1436f336>\u001b[0m in \u001b[0;36mforward\u001b[0;34m(self, context_x, context_y, target_x)\u001b[0m\n\u001b[1;32m    240\u001b[0m     \u001b[0;32mdef\u001b[0m \u001b[0mforward\u001b[0m\u001b[0;34m(\u001b[0m\u001b[0mself\u001b[0m\u001b[0;34m,\u001b[0m \u001b[0mcontext_x\u001b[0m\u001b[0;34m,\u001b[0m \u001b[0mcontext_y\u001b[0m\u001b[0;34m,\u001b[0m \u001b[0mtarget_x\u001b[0m\u001b[0;34m)\u001b[0m\u001b[0;34m:\u001b[0m\u001b[0;34m\u001b[0m\u001b[0;34m\u001b[0m\u001b[0m\n\u001b[1;32m    241\u001b[0m         \u001b[0;31m# Concatenate x and y along the filter axes\u001b[0m\u001b[0;34m\u001b[0m\u001b[0;34m\u001b[0m\u001b[0;34m\u001b[0m\u001b[0m\n\u001b[0;32m--> 242\u001b[0;31m         \u001b[0md_encoder_input\u001b[0m \u001b[0;34m=\u001b[0m \u001b[0mtorch\u001b[0m\u001b[0;34m.\u001b[0m\u001b[0mcat\u001b[0m\u001b[0;34m(\u001b[0m\u001b[0;34m[\u001b[0m\u001b[0mcontext_x\u001b[0m\u001b[0;34m,\u001b[0m \u001b[0mcontext_y\u001b[0m\u001b[0;34m]\u001b[0m\u001b[0;34m,\u001b[0m \u001b[0mdim\u001b[0m\u001b[0;34m=\u001b[0m\u001b[0;34m-\u001b[0m\u001b[0;36m1\u001b[0m\u001b[0;34m)\u001b[0m\u001b[0;34m\u001b[0m\u001b[0;34m\u001b[0m\u001b[0m\n\u001b[0m\u001b[1;32m    243\u001b[0m \u001b[0;34m\u001b[0m\u001b[0m\n\u001b[1;32m    244\u001b[0m         \u001b[0;31m# Pass final axis through MLP\u001b[0m\u001b[0;34m\u001b[0m\u001b[0;34m\u001b[0m\u001b[0;34m\u001b[0m\u001b[0m\n",
      "\u001b[0;31mRuntimeError\u001b[0m: Tensors must have same number of dimensions: got 3 and 1"
     ]
    }
   ],
   "source": [
    "cx = torch.rand(10, 7, 5)\n",
    "cy = torch.rand(10,)\n",
    "tx = torch.rand(10, 7, 5)\n",
    "dmdl.forward(cx, cy, tx)"
   ]
  },
  {
   "cell_type": "code",
   "execution_count": 87,
   "metadata": {},
   "outputs": [],
   "source": [
    "mdl = LatentEncoder(4+1)"
   ]
  },
  {
   "cell_type": "code",
   "execution_count": 85,
   "metadata": {},
   "outputs": [
    {
     "name": "stdout",
     "output_type": "stream",
     "text": [
      "torch.Size([10, 32])\n"
     ]
    }
   ],
   "source": [
    "d, lv = mdl.forward(torch.rand(10,5,4), torch.rand(10,5,1))\n",
    "z = d.rsample()\n",
    "print(z.shape)"
   ]
  },
  {
   "cell_type": "code",
   "execution_count": 86,
   "metadata": {},
   "outputs": [
    {
     "name": "stdout",
     "output_type": "stream",
     "text": [
      "torch.Size([10, 1, 32])\n",
      "tensor([[[-3.2352e-01, -1.1393e+00, -1.4866e-01, -7.2126e-01, -1.0296e+00,\n",
      "           1.3941e-01, -5.0069e-03,  3.0221e-02,  3.1430e-01, -6.2683e-01,\n",
      "          -3.0374e-01,  3.3186e-01, -3.7847e-01, -4.5033e-01, -7.5644e-01,\n",
      "          -2.5020e-01,  8.4438e-01, -5.2810e-01,  5.3774e-01, -3.2465e-01,\n",
      "           6.8816e-01, -7.6092e-01,  3.0775e-01,  1.2021e-01, -1.1108e-01,\n",
      "           1.0471e-01, -6.5850e-01,  7.8725e-01,  4.4444e-01,  4.4447e-02,\n",
      "          -2.5699e-01, -9.7003e-01]],\n",
      "\n",
      "        [[ 9.0349e-01, -6.4716e-02, -3.4623e-01,  2.9461e-01,  5.5019e-01,\n",
      "          -5.3019e-01,  8.5027e-01, -3.5723e-01,  3.5999e-01,  3.7843e-01,\n",
      "           8.0824e-01,  6.3133e-01, -5.7981e-01,  7.8850e-01, -1.3937e-01,\n",
      "          -3.7323e-03, -2.6944e-01, -4.4656e-01,  8.4098e-02, -4.6628e-01,\n",
      "          -2.7654e-01,  2.9140e-01, -2.1933e-01, -8.2534e-01, -9.4757e-02,\n",
      "          -7.9857e-01, -6.5182e-02, -6.5836e-02, -3.8676e-01,  2.0640e-01,\n",
      "          -7.9728e-02, -4.3786e-01]],\n",
      "\n",
      "        [[ 4.9323e-01, -1.3067e-01,  9.1716e-01, -2.4173e-01,  2.6314e-01,\n",
      "           6.2146e-01,  4.5131e-02, -4.2049e-01, -3.2324e-01,  9.3000e-02,\n",
      "          -4.7536e-01, -1.1290e-01, -7.9486e-02,  4.7653e-01,  1.2229e+00,\n",
      "           7.4163e-03, -4.6577e-01,  8.6062e-01, -2.7701e-01, -6.4339e-01,\n",
      "           3.8491e-01,  8.4003e-01, -3.2812e-01, -3.1213e-01,  5.3404e-01,\n",
      "          -3.8955e-01,  1.7799e-01,  3.8481e-01,  4.4015e-01,  8.2434e-03,\n",
      "           3.8171e-01, -5.2772e-01]],\n",
      "\n",
      "        [[ 7.4729e-02,  2.7262e-01,  1.7334e-01, -7.5342e-02,  1.7234e-01,\n",
      "          -3.5609e-01,  3.7383e-01,  4.0543e-01, -9.9032e-02,  5.3686e-01,\n",
      "           3.7816e-01,  4.5824e-01,  1.4594e-01, -1.9368e-01,  1.2037e-01,\n",
      "           8.5740e-01,  6.9500e-01,  1.8492e-01, -9.4331e-01, -1.6548e-01,\n",
      "           5.5708e-01,  7.1335e-01, -2.6515e-01,  4.2650e-01,  2.1361e-01,\n",
      "          -7.5977e-01,  3.8769e-01,  3.6235e-01,  3.9509e-02,  5.5476e-02,\n",
      "           4.6688e-01, -6.7940e-02]],\n",
      "\n",
      "        [[ 4.9748e-01, -1.5838e-01,  7.1859e-02,  1.8064e-01,  6.3753e-01,\n",
      "           2.2821e-01,  6.5701e-02, -9.6855e-01,  9.0924e-01, -2.4185e-01,\n",
      "          -2.5956e-01,  2.3638e-01, -1.3676e+00,  1.2192e-01, -3.3998e-01,\n",
      "           1.7021e-01, -9.8465e-01,  5.7597e-01, -3.0849e-02, -3.4536e-01,\n",
      "           4.4119e-02,  4.2241e-01, -3.6137e-01, -3.4459e-01, -1.3666e+00,\n",
      "          -3.4387e-01,  3.0825e-01,  6.1093e-01, -3.7324e-02, -3.3001e-01,\n",
      "          -3.9316e-02,  9.5699e-01]],\n",
      "\n",
      "        [[-3.5644e-01, -3.1459e-01, -3.9019e-02, -1.0654e-01,  1.0176e-02,\n",
      "           1.7286e-01, -4.2422e-01, -1.7721e-01,  3.7980e-01,  4.6847e-01,\n",
      "           3.2581e-01,  2.3038e-01, -1.1611e+00,  2.7722e-01,  9.1726e-02,\n",
      "           5.0158e-01,  1.5124e-01, -1.5581e-01,  5.2371e-01, -1.3004e+00,\n",
      "           7.4938e-01, -9.4562e-02, -1.0232e+00, -1.0419e-01,  8.7364e-01,\n",
      "          -7.7160e-01,  2.2152e-02,  7.0082e-01, -7.1795e-01, -1.0292e-02,\n",
      "           1.0095e-01, -4.9866e-01]],\n",
      "\n",
      "        [[ 5.2356e-01, -1.1411e+00,  4.6737e-01,  5.8495e-02, -3.2273e-02,\n",
      "           1.9902e-01,  4.0126e-01, -3.1770e-01,  8.7080e-01, -5.0846e-01,\n",
      "           1.4461e-01,  6.4009e-01, -1.4035e+00,  1.5529e-02, -3.9667e-01,\n",
      "          -1.7535e-02,  1.5092e+00, -3.3463e-01,  5.9991e-01, -5.7633e-01,\n",
      "           5.1405e-01, -1.3623e-01,  2.2241e-01, -4.5058e-01,  3.9544e-02,\n",
      "          -6.9955e-01,  5.0022e-01,  3.3551e-01,  5.0865e-01, -9.3266e-01,\n",
      "          -5.2283e-01,  3.0310e-01]],\n",
      "\n",
      "        [[ 1.3212e-01, -1.3559e-01,  5.2729e-01, -2.6667e-01, -4.9374e-01,\n",
      "           1.4449e+00, -3.0950e-01, -5.8748e-01, -2.8663e-02, -1.5409e-02,\n",
      "           9.4192e-01,  1.4990e-01, -5.6069e-01, -1.9940e-01,  8.5341e-01,\n",
      "           7.3342e-01, -9.3389e-02,  2.1982e-01,  4.1887e-02,  2.3838e-01,\n",
      "          -2.6287e-02, -1.6443e-01,  4.2820e-01,  4.2463e-02,  3.5591e-04,\n",
      "          -1.1736e+00, -6.4243e-01, -7.9411e-01, -6.3116e-01,  5.4205e-01,\n",
      "           4.4899e-01,  1.0972e-01]],\n",
      "\n",
      "        [[ 5.9474e-02,  1.0252e+00,  5.8037e-01, -2.6535e-01,  4.9418e-01,\n",
      "           2.5605e-01,  6.9254e-01, -1.3519e+00,  1.0391e+00, -6.7884e-01,\n",
      "          -6.4329e-01,  1.2044e-01, -2.3445e-01, -1.3041e-01, -1.2821e-01,\n",
      "           2.5293e-01,  3.7638e-01, -4.5612e-01,  2.9978e-01, -8.0305e-01,\n",
      "          -2.5348e-01,  3.0420e-01, -1.2644e+00, -1.4436e-01,  2.3229e-01,\n",
      "           2.0606e-01, -2.8131e-01,  9.0978e-02, -2.6522e-02,  5.2110e-01,\n",
      "          -5.5189e-02, -5.6493e-01]],\n",
      "\n",
      "        [[ 3.7304e-01, -5.7792e-01,  1.4335e+00, -1.2628e+00, -1.1671e-01,\n",
      "           6.2221e-01, -5.3280e-02,  1.1174e-01,  1.5640e-01, -7.9206e-01,\n",
      "          -6.4024e-01,  2.5291e-01,  1.0245e-01, -4.6386e-01,  3.2164e-01,\n",
      "          -9.0946e-01,  4.8961e-01, -6.7919e-03, -2.3858e-01, -4.5779e-01,\n",
      "           6.1655e-02,  1.1874e-01,  1.3032e-01, -8.8736e-02, -4.7319e-01,\n",
      "          -9.4414e-02, -5.2514e-01,  3.4317e-01,  4.9425e-01, -7.1092e-01,\n",
      "          -6.1093e-01,  4.9785e-01]]], grad_fn=<UnsqueezeBackward0>)\n",
      "torch.Size([10, 5, 32])\n",
      "tensor([[[-0.3235, -1.1393, -0.1487,  ...,  0.0444, -0.2570, -0.9700],\n",
      "         [-0.3235, -1.1393, -0.1487,  ...,  0.0444, -0.2570, -0.9700],\n",
      "         [-0.3235, -1.1393, -0.1487,  ...,  0.0444, -0.2570, -0.9700],\n",
      "         [-0.3235, -1.1393, -0.1487,  ...,  0.0444, -0.2570, -0.9700],\n",
      "         [-0.3235, -1.1393, -0.1487,  ...,  0.0444, -0.2570, -0.9700]],\n",
      "\n",
      "        [[ 0.9035, -0.0647, -0.3462,  ...,  0.2064, -0.0797, -0.4379],\n",
      "         [ 0.9035, -0.0647, -0.3462,  ...,  0.2064, -0.0797, -0.4379],\n",
      "         [ 0.9035, -0.0647, -0.3462,  ...,  0.2064, -0.0797, -0.4379],\n",
      "         [ 0.9035, -0.0647, -0.3462,  ...,  0.2064, -0.0797, -0.4379],\n",
      "         [ 0.9035, -0.0647, -0.3462,  ...,  0.2064, -0.0797, -0.4379]],\n",
      "\n",
      "        [[ 0.4932, -0.1307,  0.9172,  ...,  0.0082,  0.3817, -0.5277],\n",
      "         [ 0.4932, -0.1307,  0.9172,  ...,  0.0082,  0.3817, -0.5277],\n",
      "         [ 0.4932, -0.1307,  0.9172,  ...,  0.0082,  0.3817, -0.5277],\n",
      "         [ 0.4932, -0.1307,  0.9172,  ...,  0.0082,  0.3817, -0.5277],\n",
      "         [ 0.4932, -0.1307,  0.9172,  ...,  0.0082,  0.3817, -0.5277]],\n",
      "\n",
      "        ...,\n",
      "\n",
      "        [[ 0.1321, -0.1356,  0.5273,  ...,  0.5420,  0.4490,  0.1097],\n",
      "         [ 0.1321, -0.1356,  0.5273,  ...,  0.5420,  0.4490,  0.1097],\n",
      "         [ 0.1321, -0.1356,  0.5273,  ...,  0.5420,  0.4490,  0.1097],\n",
      "         [ 0.1321, -0.1356,  0.5273,  ...,  0.5420,  0.4490,  0.1097],\n",
      "         [ 0.1321, -0.1356,  0.5273,  ...,  0.5420,  0.4490,  0.1097]],\n",
      "\n",
      "        [[ 0.0595,  1.0252,  0.5804,  ...,  0.5211, -0.0552, -0.5649],\n",
      "         [ 0.0595,  1.0252,  0.5804,  ...,  0.5211, -0.0552, -0.5649],\n",
      "         [ 0.0595,  1.0252,  0.5804,  ...,  0.5211, -0.0552, -0.5649],\n",
      "         [ 0.0595,  1.0252,  0.5804,  ...,  0.5211, -0.0552, -0.5649],\n",
      "         [ 0.0595,  1.0252,  0.5804,  ...,  0.5211, -0.0552, -0.5649]],\n",
      "\n",
      "        [[ 0.3730, -0.5779,  1.4335,  ..., -0.7109, -0.6109,  0.4978],\n",
      "         [ 0.3730, -0.5779,  1.4335,  ..., -0.7109, -0.6109,  0.4978],\n",
      "         [ 0.3730, -0.5779,  1.4335,  ..., -0.7109, -0.6109,  0.4978],\n",
      "         [ 0.3730, -0.5779,  1.4335,  ..., -0.7109, -0.6109,  0.4978],\n",
      "         [ 0.3730, -0.5779,  1.4335,  ..., -0.7109, -0.6109,  0.4978]]],\n",
      "       grad_fn=<RepeatBackward>)\n"
     ]
    }
   ],
   "source": [
    "z_unsq = z.unsqueeze(1)\n",
    "print(z_unsq.shape)\n",
    "print(z_unsq)\n",
    "z_ = z_unsq.repeat(1, torch.rand(10,5,4).size(1), 1)\n",
    "print(z_.shape)\n",
    "print(z_)"
   ]
  },
  {
   "cell_type": "code",
   "execution_count": 78,
   "metadata": {},
   "outputs": [
    {
     "ename": "NameError",
     "evalue": "name 'target_x' is not defined",
     "output_type": "error",
     "traceback": [
      "\u001b[0;31m---------------------------------------------------------------------------\u001b[0m",
      "\u001b[0;31mNameError\u001b[0m                                 Traceback (most recent call last)",
      "\u001b[0;32m<ipython-input-78-0c12a731b64b>\u001b[0m in \u001b[0;36m<module>\u001b[0;34m\u001b[0m\n\u001b[0;32m----> 1\u001b[0;31m \u001b[0mz\u001b[0m \u001b[0;34m=\u001b[0m \u001b[0mz\u001b[0m\u001b[0;34m.\u001b[0m\u001b[0munsqueeze\u001b[0m\u001b[0;34m(\u001b[0m\u001b[0;36m1\u001b[0m\u001b[0;34m)\u001b[0m\u001b[0;34m.\u001b[0m\u001b[0mrepeat\u001b[0m\u001b[0;34m(\u001b[0m\u001b[0;36m1\u001b[0m\u001b[0;34m,\u001b[0m \u001b[0mtarget_x\u001b[0m\u001b[0;34m.\u001b[0m\u001b[0msize\u001b[0m\u001b[0;34m(\u001b[0m\u001b[0;36m1\u001b[0m\u001b[0;34m)\u001b[0m\u001b[0;34m,\u001b[0m \u001b[0;36m1\u001b[0m\u001b[0;34m)\u001b[0m\u001b[0;34m\u001b[0m\u001b[0;34m\u001b[0m\u001b[0m\n\u001b[0m",
      "\u001b[0;31mNameError\u001b[0m: name 'target_x' is not defined"
     ]
    }
   ],
   "source": [
    "z = z.unsqueeze(1).repeat(1, .size(1), 1)"
   ]
  },
  {
   "cell_type": "code",
   "execution_count": null,
   "metadata": {},
   "outputs": [],
   "source": []
  },
  {
   "cell_type": "code",
   "execution_count": null,
   "metadata": {},
   "outputs": [],
   "source": []
  },
  {
   "cell_type": "code",
   "execution_count": 52,
   "metadata": {},
   "outputs": [
    {
     "name": "stdout",
     "output_type": "stream",
     "text": [
      "torch.Size([10, 128, 174])\n"
     ]
    }
   ],
   "source": [
    "from model.model_util import TemporalConvNet\n",
    "\n",
    "tcn_ = TemporalConvNet((5, 160),\n",
    "    block_channels=[[128 for _ in range(3)]],\n",
    "    pad_type='full', kernel_sizes=[3],\n",
    "    global_dropout=0.0, no_dropout=None)\n",
    "x_tcn_out = tcn_.forward(X_t)\n",
    "print(x_tcn_out.shape)"
   ]
  },
  {
   "cell_type": "code",
   "execution_count": 53,
   "metadata": {},
   "outputs": [
    {
     "name": "stdout",
     "output_type": "stream",
     "text": [
      "X_t torch.Size([10, 5, 160])\n",
      "x_ torch.Size([10, 128, 174]) \n",
      "\n",
      "rep torch.Size([10, 128, 350]) z_mean torch.Size([10, 128, 1])\n",
      "z_ torch.Size([10, 128, 351]) \n",
      "\n",
      "z_ torch.Size([10, 128, 351]) x_ torch.Size([10, 128, 174])\n",
      "rep torch.Size([10, 128, 525]) \n",
      "\n"
     ]
    }
   ],
   "source": [
    "print('X_t', X_t.shape)\n",
    "x_ = tcn_.forward(X_t)\n",
    "print('x_', x_.shape, '\\n')\n",
    "\n",
    "print('rep', rep.shape, 'z_mean', z_mean.unsqueeze(2).shape)\n",
    "z_ = torch.cat([rep, z_mean.unsqueeze(2)], dim=2)\n",
    "print('z_', z_.shape, '\\n')\n",
    "      \n",
    "print('z_', z_.shape, 'x_', x_.shape)\n",
    "rep = torch.cat([z_, x_], dim=2)\n",
    "print('rep', rep.shape, '\\n')"
   ]
  },
  {
   "cell_type": "code",
   "execution_count": 54,
   "metadata": {},
   "outputs": [
    {
     "name": "stdout",
     "output_type": "stream",
     "text": [
      "rep torch.Size([10, 128, 525])\n",
      "torch.Size([10, 128, 539])\n"
     ]
    }
   ],
   "source": [
    "decoder_ = TemporalConvNet((128, 342),\n",
    "    block_channels=[[128 for _ in range(3)]],\n",
    "    pad_type='full', kernel_sizes=[3],\n",
    "    global_dropout=0.0, no_dropout=None)\n",
    "print('rep', rep.shape)\n",
    "print(decoder_.forward(rep).shape)"
   ]
  },
  {
   "cell_type": "code",
   "execution_count": null,
   "metadata": {},
   "outputs": [],
   "source": []
  },
  {
   "cell_type": "code",
   "execution_count": null,
   "metadata": {},
   "outputs": [],
   "source": []
  },
  {
   "cell_type": "code",
   "execution_count": null,
   "metadata": {},
   "outputs": [],
   "source": []
  },
  {
   "cell_type": "code",
   "execution_count": null,
   "metadata": {},
   "outputs": [],
   "source": []
  },
  {
   "cell_type": "code",
   "execution_count": null,
   "metadata": {},
   "outputs": [],
   "source": []
  },
  {
   "cell_type": "code",
   "execution_count": null,
   "metadata": {},
   "outputs": [],
   "source": []
  }
 ],
 "metadata": {
  "kernelspec": {
   "display_name": "Python 3",
   "language": "python",
   "name": "python3"
  },
  "language_info": {
   "codemirror_mode": {
    "name": "ipython",
    "version": 3
   },
   "file_extension": ".py",
   "mimetype": "text/x-python",
   "name": "python",
   "nbconvert_exporter": "python",
   "pygments_lexer": "ipython3",
   "version": "3.8.2"
  }
 },
 "nbformat": 4,
 "nbformat_minor": 2
}
