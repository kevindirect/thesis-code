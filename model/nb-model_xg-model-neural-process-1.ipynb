{
 "cells": [
  {
   "cell_type": "markdown",
   "metadata": {},
   "source": [
    "# nb-model_xg-model-neural-process-1"
   ]
  },
  {
   "cell_type": "code",
   "execution_count": 1,
   "metadata": {},
   "outputs": [
    {
     "name": "stderr",
     "output_type": "stream",
     "text": [
      "CRITICAL:root:script location: /home/kev/crunch/model/nb-model_xg-model-neural-process-1.ipynb\n",
      "CRITICAL:root:using project dir: /home/kev/crunch/\n"
     ]
    }
   ],
   "source": [
    "import sys\n",
    "import os\n",
    "from os import sep\n",
    "from os.path import dirname, realpath\n",
    "from pathlib import Path\n",
    "from functools import partial\n",
    "import logging\n",
    "\n",
    "def get_cwd(fname, subdir, crunch_dir=realpath(Path.home()) +sep +'crunch' +sep):\n",
    "    \"\"\"\n",
    "    Convenience function to make a directory string for the current file based on inputs.\n",
    "    Jupyter Notebook in Anaconda invokes the Python interpreter in Anaconda's subdirectory\n",
    "    which is why changing sys.argv[0] is necessary. In the future a better way to do this\n",
    "    should be preferred..\n",
    "    \"\"\"\n",
    "    return crunch_dir +subdir +fname\n",
    "\n",
    "def fix_path(cwd):\n",
    "    \"\"\"\n",
    "    Convenience function to fix argv and python path so that jupyter notebook can run the same as\n",
    "    any script in crunch.\n",
    "    \"\"\"\n",
    "    sys.argv[0] = cwd\n",
    "    module_path = os.path.abspath(os.path.join('..'))\n",
    "    if module_path not in sys.path:\n",
    "        sys.path.append(module_path)\n",
    "\n",
    "fname = 'nb-model_xg-model-neural-process-1.ipynb'\n",
    "dir_name = 'model'\n",
    "fix_path(get_cwd(fname, dir_name +sep))\n",
    "\n",
    "import numpy as np\n",
    "import pandas as pd\n",
    "import matplotlib.pyplot as plt\n",
    "import torch\n",
    "import pytorch_lightning as pl\n",
    "from pytorch_lightning.callbacks.early_stopping import EarlyStopping\n",
    "from pytorch_lightning import loggers as pl_loggers\n",
    "\n",
    "from ipywidgets import interact, interactive, fixed\n",
    "from IPython.display import display\n",
    "\n",
    "pd.set_option(\"display.max_rows\", 100)\n",
    "pd.set_option(\"display.max_columns\", 50)\n",
    "\n",
    "from common_util import MODEL_DIR, is_valid, isnt, compose, pd_split_ternary_to_binary, df_del_midx_level, midx_intersect, pd_get_midx_level, pd_rows, df_midx_restack\n",
    "from model.common import DATASET_DIR, XG_PROCESS_DIR, XG_DATA_DIR, XG_DIR, PYTORCH_MODELS_DIR, TEST_RATIO, VAL_RATIO, EXPECTED_NUM_HOURS, default_dataset\n",
    "from model.xg_util import get_xg_feature_dfs, get_xg_label_target_dfs, get_hardcoded_daily_dfs, get_hardcoded_hourly_dfs\n",
    "from model.np_util import AttentiveNP, StackedTCN\n",
    "from model.pl_generic import GenericModel\n",
    "from model.pl_np import NP\n",
    "logging.basicConfig(stream=sys.stdout, level=logging.DEBUG)\n",
    "\n",
    "%autoreload 1\n",
    "%aimport model.np_util, model.pl_np, model.pl_generic, model.metrics_util, model.model_util"
   ]
  },
  {
   "cell_type": "markdown",
   "metadata": {},
   "source": [
    "Prune the xg data down to the data of interest to use in further experiments."
   ]
  },
  {
   "cell_type": "markdown",
   "metadata": {},
   "source": [
    "## Load Data"
   ]
  },
  {
   "cell_type": "code",
   "execution_count": 2,
   "metadata": {},
   "outputs": [],
   "source": [
    "assets = ['sp_500', 'russell_2000', 'nasdaq_100', 'dow_jones']\n",
    "chosen_asset = assets[0]\n",
    "\n",
    "fd = get_xg_feature_dfs(chosen_asset)\n",
    "ld, td = get_xg_label_target_dfs(chosen_asset)\n",
    "\n",
    "# daily data axefiles\n",
    "d_all_common = ['dwrmx', 'dwrod', 'dwrpt', 'dwrzn', 'dffd']\n",
    "d_extra = ['dlogret', 'dohlca', 'ddiff', 'dc', 'dwrxmx']\n",
    "\n",
    "# hourly data axefiles\n",
    "h_all_common = ['hdmx', 'hdod', 'hdpt', 'hdzn']\n",
    "h_extra = ['hdgau', 'hduni', 'hohlca']"
   ]
  },
  {
   "cell_type": "markdown",
   "metadata": {},
   "source": [
    "## Select Data"
   ]
  },
  {
   "cell_type": "code",
   "execution_count": 3,
   "metadata": {},
   "outputs": [],
   "source": [
    "d_pba = get_hardcoded_daily_dfs(fd, 'pba')\n",
    "d_vol = get_hardcoded_daily_dfs(fd, 'vol')\n",
    "d_buzz = get_hardcoded_daily_dfs(fd, 'buzz')\n",
    "d_nonbuzz = get_hardcoded_daily_dfs(fd, 'buzz')\n",
    "h_pba = get_hardcoded_hourly_dfs(fd, 'pba')\n",
    "h_vol = get_hardcoded_hourly_dfs(fd, 'vol')\n",
    "h_buzz = get_hardcoded_hourly_dfs(fd, 'buzz')"
   ]
  },
  {
   "cell_type": "code",
   "execution_count": 4,
   "metadata": {},
   "outputs": [],
   "source": [
    "# Returns (AR)\n",
    "chosen_f = fd['d']['pba']['dret']['pba_hlh_hdxret_dret']\n",
    "chosen_f = fd['d']['pba']['dret']['pba_hoc_hdxret_dret']\n",
    "#chosen_f = fd['d']['pba']['ddir']['pba_hoc_hdxret_ddir']"
   ]
  },
  {
   "cell_type": "code",
   "execution_count": 5,
   "metadata": {},
   "outputs": [],
   "source": [
    "# Daily Features\n",
    "# chosen_f = d_pba\n",
    "chosen_f = fd['d']['pba']['ddir']['pba_hoc_hdxret_ddir']"
   ]
  },
  {
   "cell_type": "code",
   "execution_count": 6,
   "metadata": {},
   "outputs": [],
   "source": [
    "# fd['d']['pba']\n",
    "# fd['d']['pba']['dohlca']['pba_dohlca'].unstack().pct_change().dropna().corr()\n",
    "# fd['d']['vol']['dohlca']['vol_dohlca'].unstack().pct_change().dropna().corr()"
   ]
  },
  {
   "cell_type": "code",
   "execution_count": 7,
   "metadata": {},
   "outputs": [],
   "source": [
    "# Hourly Features\n",
    "chosen_f = h_pba\n",
    "chosen_f = fd['h']['pba']['hdmx']['pba_hohlca_hdmx']\n",
    "\n",
    "# # Random 'Features':\n",
    "# chosen_f = pd.DataFrame(np.random.rand(len(chosen_f)), index=chosen_f.index).rename({chosen_f.index.levels[1][0]:"
   ]
  },
  {
   "cell_type": "markdown",
   "metadata": {},
   "source": [
    "### Choose Labels/Targets and Process"
   ]
  },
  {
   "cell_type": "code",
   "execution_count": 8,
   "metadata": {},
   "outputs": [],
   "source": [
    "# predict ddir(t)\n",
    "chosen_l = pd_split_ternary_to_binary(ld['hoc']['pba']['ddir'].replace(to_replace=-1, value=0))\n",
    "chosen_t = pd_split_ternary_to_binary(td['hoc']['pba']['dret'])"
   ]
  },
  {
   "cell_type": "code",
   "execution_count": 9,
   "metadata": {},
   "outputs": [],
   "source": [
    "# # predict thresholded direction: ddir1(t)\n",
    "# chosen_l_len = len(ld['hoc']['pba']['ddir1_log'].columns)\n",
    "# chosen_l = pd_split_ternary_to_binary(ld['hoc']['pba']['ddir1_log'])\n",
    "# chosen_l = chosen_l.sum(level=0)#+len(chosen_l.columns)\n",
    "# chosen_l = (chosen_l[chosen_l!=0] + chosen_l_len).fillna(0).astype(int)\n",
    "# chosen_l = df_add_midx_level(chosen_l, 'pba_hoc_hdxret1_ddir1', loc=1, name='id1')\n",
    "\n",
    "# chosen_t = pd_split_ternary_to_binary(td['hoc']['pba']['dret1_log']).abs().max(level=0)\n",
    "# chosen_t = df_add_midx_level(chosen_t, 'pba_hoc_hdxret1_dret1', loc=1, name='id1')\n",
    "# #chosen_l = chosen_l.sum(level=0)#+len(chosen_l.columns)\n",
    "# #chosen_l"
   ]
  },
  {
   "cell_type": "code",
   "execution_count": 10,
   "metadata": {},
   "outputs": [],
   "source": [
    "# 'Predict' the present ddir(t-1), (sanity check)\n",
    "#chosen_l = pd_split_ternary_to_binary(df_del_midx_level(fd['d']['pba']['ddir']['pba_hoc_hdxret_ddir'].rename(columns={-1:'pba_hoc_hdxret_ddir'}), loc=1).replace(to_replace=-1, value=0).astype(int))\n",
    "#chosen_t = pd_split_ternary_to_binary(df_del_midx_level(fd['d']['pba']['dret']['pba_hoc_hdxret_dret'].rename(columns={-1:'pba_hoc_hdxret_dret'}), loc=1))"
   ]
  },
  {
   "cell_type": "markdown",
   "metadata": {},
   "source": [
    "### Get Common Indexed Rows (Intersect First Level of MultiIndex)"
   ]
  },
  {
   "cell_type": "code",
   "execution_count": 11,
   "metadata": {},
   "outputs": [],
   "source": [
    "year_interval = ('2009', '2018')\n",
    "common_idx = midx_intersect(pd_get_midx_level(chosen_f), pd_get_midx_level(chosen_l), pd_get_midx_level(chosen_t))\n",
    "common_idx = common_idx[(common_idx > year_interval[0]) & (common_idx < year_interval[1])]\n",
    "feature_df, label_df, target_df = map(compose(partial(pd_rows, idx=common_idx), df_midx_restack), [chosen_f, chosen_l, chosen_t])\n",
    "assert(all(feature_df.index.levels[0]==label_df.index.levels[0]))\n",
    "assert(all(feature_df.index.levels[0]==target_df.index.levels[0]))"
   ]
  },
  {
   "cell_type": "markdown",
   "metadata": {},
   "source": [
    "## Neural Process"
   ]
  },
  {
   "cell_type": "code",
   "execution_count": 18,
   "metadata": {},
   "outputs": [],
   "source": [
    "# m_params, t_params = StackedTCN.suggest_params(add_ob=True), GenericModel.suggest_params()\n",
    "# mdl = GenericModel(StackedTCN, m_params, t_params, (feature_df, label_df, target_df))"
   ]
  },
  {
   "cell_type": "code",
   "execution_count": 14,
   "metadata": {},
   "outputs": [
    {
     "name": "stderr",
     "output_type": "stream",
     "text": [
      "GPU available: True, used: True\n",
      "INFO:lightning:GPU available: True, used: True\n",
      "TPU available: False, using: 0 TPU cores\n",
      "INFO:lightning:TPU available: False, using: 0 TPU cores\n",
      "CUDA_VISIBLE_DEVICES: [0]\n",
      "INFO:lightning:CUDA_VISIBLE_DEVICES: [0]\n",
      "Using native 16bit precision.\n",
      "INFO:lightning:Using native 16bit precision.\n"
     ]
    }
   ],
   "source": [
    "m_params, t_params = AttentiveNP.suggest_params(), NP.suggest_params()\n",
    "t_params['epochs'] = 15\n",
    "mdl = NP(AttentiveNP, m_params, t_params, (feature_df, label_df, target_df))\n",
    "escb = EarlyStopping(monitor='val_loss', min_delta=0.00, patience=30, verbose=False, mode='min')\n",
    "tb_logger = pl_loggers.TensorBoardLogger('lightning_logs', name='tb')\n",
    "csv_logger = pl_loggers.csv_logs.CSVLogger('lightning_logs', name='csv')\n",
    "trainer = pl.Trainer(max_epochs=t_params['epochs'], logger=[tb_logger, csv_logger],\n",
    "\t\tval_percent_check=.5, weights_summary='top',\n",
    "\t\tgradient_clip_val=0., track_grad_norm=2, auto_lr_find=False, \n",
    "\t\tdefault_root_dir='lightning_logs',\n",
    "\t\tgpus=-1 if(torch.cuda.is_available()) else None,\n",
    "\t\tamp_level='O1', precision=16)"
   ]
  },
  {
   "cell_type": "code",
   "execution_count": 15,
   "metadata": {},
   "outputs": [
    {
     "data": {
      "text/plain": [
       "NP(\n",
       "  (ret_fn): SimulatedReturn()\n",
       "  (model): AttentiveNP(\n",
       "    (det_encoder): DetEncoder(\n",
       "      (input_encoder): StackedTCN(\n",
       "        (model): Sequential(\n",
       "          (rb_0): ResidualBlock(\n",
       "            (net): Sequential(\n",
       "              (tl_0_0): TemporalLayer1d(\n",
       "                (layer): Sequential(\n",
       "                  (0): Conv1d(6, 128, kernel_size=(3,), stride=(1,), padding=(2,))\n",
       "                  (1): ELU(alpha=1.0)\n",
       "                  (2): Dropout(p=0.0, inplace=False)\n",
       "                )\n",
       "              )\n",
       "              (tl_0_1): TemporalLayer1d(\n",
       "                (layer): Sequential(\n",
       "                  (0): Conv1d(128, 128, kernel_size=(3,), stride=(1,), padding=(4,), dilation=(2,))\n",
       "                  (1): ELU(alpha=1.0)\n",
       "                  (2): Dropout(p=0.5, inplace=False)\n",
       "                )\n",
       "              )\n",
       "              (tl_0_2): TemporalLayer1d(\n",
       "                (layer): Sequential(\n",
       "                  (0): Conv1d(128, 128, kernel_size=(3,), stride=(1,), padding=(8,), dilation=(4,))\n",
       "                  (1): ELU(alpha=1.0)\n",
       "                  (2): Dropout(p=0.0, inplace=False)\n",
       "                )\n",
       "              )\n",
       "            )\n",
       "            (out_act): ReLU()\n",
       "            (downsample): Conv1d(6, 128, kernel_size=(1,), stride=(1,), padding=(7,))\n",
       "          )\n",
       "        )\n",
       "      )\n",
       "      (target_transform): StackedTCN(\n",
       "        (model): Sequential(\n",
       "          (rb_0): ResidualBlock(\n",
       "            (net): Sequential(\n",
       "              (tl_0_0): TemporalLayer1d(\n",
       "                (layer): Sequential(\n",
       "                  (0): Conv1d(5, 128, kernel_size=(3,), stride=(1,), padding=(2,))\n",
       "                  (1): ELU(alpha=1.0)\n",
       "                  (2): Dropout(p=0.0, inplace=False)\n",
       "                )\n",
       "              )\n",
       "              (tl_0_1): TemporalLayer1d(\n",
       "                (layer): Sequential(\n",
       "                  (0): Conv1d(128, 128, kernel_size=(3,), stride=(1,), padding=(4,), dilation=(2,))\n",
       "                  (1): ELU(alpha=1.0)\n",
       "                  (2): Dropout(p=0.5, inplace=False)\n",
       "                )\n",
       "              )\n",
       "              (tl_0_2): TemporalLayer1d(\n",
       "                (layer): Sequential(\n",
       "                  (0): Conv1d(128, 128, kernel_size=(3,), stride=(1,), padding=(8,), dilation=(4,))\n",
       "                  (1): ELU(alpha=1.0)\n",
       "                  (2): Dropout(p=0.0, inplace=False)\n",
       "                )\n",
       "              )\n",
       "            )\n",
       "            (out_act): ReLU()\n",
       "            (downsample): Conv1d(5, 128, kernel_size=(1,), stride=(1,), padding=(7,))\n",
       "          )\n",
       "        )\n",
       "      )\n",
       "      (context_transform): StackedTCN(\n",
       "        (model): Sequential(\n",
       "          (rb_0): ResidualBlock(\n",
       "            (net): Sequential(\n",
       "              (tl_0_0): TemporalLayer1d(\n",
       "                (layer): Sequential(\n",
       "                  (0): Conv1d(5, 128, kernel_size=(3,), stride=(1,), padding=(2,))\n",
       "                  (1): ELU(alpha=1.0)\n",
       "                  (2): Dropout(p=0.0, inplace=False)\n",
       "                )\n",
       "              )\n",
       "              (tl_0_1): TemporalLayer1d(\n",
       "                (layer): Sequential(\n",
       "                  (0): Conv1d(128, 128, kernel_size=(3,), stride=(1,), padding=(4,), dilation=(2,))\n",
       "                  (1): ELU(alpha=1.0)\n",
       "                  (2): Dropout(p=0.5, inplace=False)\n",
       "                )\n",
       "              )\n",
       "              (tl_0_2): TemporalLayer1d(\n",
       "                (layer): Sequential(\n",
       "                  (0): Conv1d(128, 128, kernel_size=(3,), stride=(1,), padding=(8,), dilation=(4,))\n",
       "                  (1): ELU(alpha=1.0)\n",
       "                  (2): Dropout(p=0.0, inplace=False)\n",
       "                )\n",
       "              )\n",
       "            )\n",
       "            (out_act): ReLU()\n",
       "            (downsample): Conv1d(5, 128, kernel_size=(1,), stride=(1,), padding=(7,))\n",
       "          )\n",
       "        )\n",
       "      )\n",
       "      (sa_W): ModuleList(\n",
       "        (0): MultiheadAttention(\n",
       "          (out_proj): _LinearWithBias(in_features=128, out_features=128, bias=True)\n",
       "        )\n",
       "        (1): MultiheadAttention(\n",
       "          (out_proj): _LinearWithBias(in_features=128, out_features=128, bias=True)\n",
       "        )\n",
       "      )\n",
       "      (xa_W): ModuleList(\n",
       "        (0): MultiheadAttention(\n",
       "          (out_proj): _LinearWithBias(in_features=128, out_features=128, bias=True)\n",
       "        )\n",
       "        (1): MultiheadAttention(\n",
       "          (out_proj): _LinearWithBias(in_features=128, out_features=128, bias=True)\n",
       "        )\n",
       "      )\n",
       "    )\n",
       "    (lat_encoder): LatEncoder(\n",
       "      (input_encoder): StackedTCN(\n",
       "        (model): Sequential(\n",
       "          (rb_0): ResidualBlock(\n",
       "            (net): Sequential(\n",
       "              (tl_0_0): TemporalLayer1d(\n",
       "                (layer): Sequential(\n",
       "                  (0): Conv1d(6, 128, kernel_size=(3,), stride=(1,), padding=(2,))\n",
       "                  (1): ELU(alpha=1.0)\n",
       "                  (2): Dropout(p=0.0, inplace=False)\n",
       "                )\n",
       "              )\n",
       "              (tl_0_1): TemporalLayer1d(\n",
       "                (layer): Sequential(\n",
       "                  (0): Conv1d(128, 128, kernel_size=(3,), stride=(1,), padding=(4,), dilation=(2,))\n",
       "                  (1): ELU(alpha=1.0)\n",
       "                  (2): Dropout(p=0.5, inplace=False)\n",
       "                )\n",
       "              )\n",
       "              (tl_0_2): TemporalLayer1d(\n",
       "                (layer): Sequential(\n",
       "                  (0): Conv1d(128, 128, kernel_size=(3,), stride=(1,), padding=(8,), dilation=(4,))\n",
       "                  (1): ELU(alpha=1.0)\n",
       "                  (2): Dropout(p=0.0, inplace=False)\n",
       "                )\n",
       "              )\n",
       "            )\n",
       "            (out_act): ReLU()\n",
       "            (downsample): Conv1d(6, 128, kernel_size=(1,), stride=(1,), padding=(7,))\n",
       "          )\n",
       "        )\n",
       "      )\n",
       "      (sa_W): ModuleList(\n",
       "        (0): MultiheadAttention(\n",
       "          (out_proj): _LinearWithBias(in_features=128, out_features=128, bias=True)\n",
       "        )\n",
       "        (1): MultiheadAttention(\n",
       "          (out_proj): _LinearWithBias(in_features=128, out_features=128, bias=True)\n",
       "        )\n",
       "      )\n",
       "      (map_layer): Linear(in_features=128, out_features=128, bias=True)\n",
       "      (alpha): Linear(in_features=128, out_features=256, bias=True)\n",
       "      (beta): Linear(in_features=128, out_features=256, bias=True)\n",
       "      (sig): Sigmoid()\n",
       "    )\n",
       "    (decoder): Decoder(\n",
       "      (target_transform): StackedTCN(\n",
       "        (model): Sequential(\n",
       "          (rb_0): ResidualBlock(\n",
       "            (net): Sequential(\n",
       "              (tl_0_0): TemporalLayer1d(\n",
       "                (layer): Sequential(\n",
       "                  (0): Conv1d(5, 128, kernel_size=(3,), stride=(1,), padding=(2,))\n",
       "                  (1): ELU(alpha=1.0)\n",
       "                  (2): Dropout(p=0.0, inplace=False)\n",
       "                )\n",
       "              )\n",
       "              (tl_0_1): TemporalLayer1d(\n",
       "                (layer): Sequential(\n",
       "                  (0): Conv1d(128, 128, kernel_size=(3,), stride=(1,), padding=(4,), dilation=(2,))\n",
       "                  (1): ELU(alpha=1.0)\n",
       "                  (2): Dropout(p=0.5, inplace=False)\n",
       "                )\n",
       "              )\n",
       "              (tl_0_2): TemporalLayer1d(\n",
       "                (layer): Sequential(\n",
       "                  (0): Conv1d(128, 128, kernel_size=(3,), stride=(1,), padding=(8,), dilation=(4,))\n",
       "                  (1): ELU(alpha=1.0)\n",
       "                  (2): Dropout(p=0.0, inplace=False)\n",
       "                )\n",
       "              )\n",
       "            )\n",
       "            (out_act): ReLU()\n",
       "            (downsample): Conv1d(5, 128, kernel_size=(1,), stride=(1,), padding=(7,))\n",
       "          )\n",
       "        )\n",
       "      )\n",
       "      (decoder): StackedTCN(\n",
       "        (model): Sequential(\n",
       "          (rb_0): ResidualBlock(\n",
       "            (net): Sequential(\n",
       "              (tl_0_0): TemporalLayer1d(\n",
       "                (layer): Sequential(\n",
       "                  (0): Conv1d(512, 128, kernel_size=(3,), stride=(1,), padding=(2,))\n",
       "                  (1): ELU(alpha=1.0)\n",
       "                  (2): Dropout(p=0.0, inplace=False)\n",
       "                )\n",
       "              )\n",
       "              (tl_0_1): TemporalLayer1d(\n",
       "                (layer): Sequential(\n",
       "                  (0): Conv1d(128, 128, kernel_size=(3,), stride=(1,), padding=(4,), dilation=(2,))\n",
       "                  (1): ELU(alpha=1.0)\n",
       "                  (2): Dropout(p=0.5, inplace=False)\n",
       "                )\n",
       "              )\n",
       "              (tl_0_2): TemporalLayer1d(\n",
       "                (layer): Sequential(\n",
       "                  (0): Conv1d(128, 128, kernel_size=(3,), stride=(1,), padding=(8,), dilation=(4,))\n",
       "                  (1): ELU(alpha=1.0)\n",
       "                  (2): Dropout(p=0.0, inplace=False)\n",
       "                )\n",
       "              )\n",
       "            )\n",
       "            (out_act): ReLU()\n",
       "            (downsample): Conv1d(512, 128, kernel_size=(1,), stride=(1,), padding=(7,))\n",
       "          )\n",
       "        )\n",
       "      )\n",
       "      (alpha): Linear(in_features=24064, out_features=1, bias=True)\n",
       "      (clamp): Sigmoid()\n",
       "    )\n",
       "    (bce): BCEWithLogitsLoss()\n",
       "    (mae): L1Loss()\n",
       "    (mse): MSELoss()\n",
       "  )\n",
       ")"
      ]
     },
     "execution_count": 15,
     "metadata": {},
     "output_type": "execute_result"
    }
   ],
   "source": [
    "mdl"
   ]
  },
  {
   "cell_type": "code",
   "execution_count": 13,
   "metadata": {},
   "outputs": [
    {
     "name": "stderr",
     "output_type": "stream",
     "text": [
      "/home/kev/miniconda3/lib/python3.8/site-packages/pytorch_lightning/utilities/distributed.py:37: UserWarning: Could not log computational graph since the `model.example_input_array` attribute is not set or `input_array` was not given\n",
      "  warnings.warn(*args, **kwargs)\n",
      "\n",
      "  | Name   | Type            | Params\n",
      "-------------------------------------------\n",
      "0 | model  | AttentiveNP     | 1 M   \n",
      "1 | ret_fn | SimulatedReturn | 0     \n",
      "INFO:lightning:\n",
      "  | Name   | Type            | Params\n",
      "-------------------------------------------\n",
      "0 | model  | AttentiveNP     | 1 M   \n",
      "1 | ret_fn | SimulatedReturn | 0     \n",
      "/home/kev/miniconda3/lib/python3.8/site-packages/pytorch_lightning/utilities/distributed.py:37: UserWarning: The dataloader, val dataloader 0, does not have many workers which may be a bottleneck. Consider increasing the value of the `num_workers` argument` (try 12 which is the number of cpus on this machine) in the `DataLoader` init to improve performance.\n",
      "  warnings.warn(*args, **kwargs)\n"
     ]
    },
    {
     "data": {
      "application/vnd.jupyter.widget-view+json": {
       "model_id": "",
       "version_major": 2,
       "version_minor": 0
      },
      "text/plain": [
       "HBox(children=(FloatProgress(value=1.0, bar_style='info', description='Validation sanity check', layout=Layout…"
      ]
     },
     "metadata": {},
     "output_type": "display_data"
    },
    {
     "name": "stderr",
     "output_type": "stream",
     "text": [
      "/home/kev/miniconda3/lib/python3.8/site-packages/pytorch_lightning/utilities/distributed.py:37: UserWarning: The dataloader, train dataloader, does not have many workers which may be a bottleneck. Consider increasing the value of the `num_workers` argument` (try 12 which is the number of cpus on this machine) in the `DataLoader` init to improve performance.\n",
      "  warnings.warn(*args, **kwargs)\n"
     ]
    },
    {
     "data": {
      "application/vnd.jupyter.widget-view+json": {
       "model_id": "3fd074c8e9374a3a86aac7289bcc1758",
       "version_major": 2,
       "version_minor": 0
      },
      "text/plain": [
       "HBox(children=(FloatProgress(value=1.0, bar_style='info', description='Training', layout=Layout(flex='2'), max…"
      ]
     },
     "metadata": {},
     "output_type": "display_data"
    },
    {
     "data": {
      "application/vnd.jupyter.widget-view+json": {
       "model_id": "",
       "version_major": 2,
       "version_minor": 0
      },
      "text/plain": [
       "HBox(children=(FloatProgress(value=1.0, bar_style='info', description='Validating', layout=Layout(flex='2'), m…"
      ]
     },
     "metadata": {},
     "output_type": "display_data"
    },
    {
     "data": {
      "application/vnd.jupyter.widget-view+json": {
       "model_id": "",
       "version_major": 2,
       "version_minor": 0
      },
      "text/plain": [
       "HBox(children=(FloatProgress(value=1.0, bar_style='info', description='Validating', layout=Layout(flex='2'), m…"
      ]
     },
     "metadata": {},
     "output_type": "display_data"
    },
    {
     "data": {
      "application/vnd.jupyter.widget-view+json": {
       "model_id": "",
       "version_major": 2,
       "version_minor": 0
      },
      "text/plain": [
       "HBox(children=(FloatProgress(value=1.0, bar_style='info', description='Validating', layout=Layout(flex='2'), m…"
      ]
     },
     "metadata": {},
     "output_type": "display_data"
    },
    {
     "data": {
      "application/vnd.jupyter.widget-view+json": {
       "model_id": "",
       "version_major": 2,
       "version_minor": 0
      },
      "text/plain": [
       "HBox(children=(FloatProgress(value=1.0, bar_style='info', description='Validating', layout=Layout(flex='2'), m…"
      ]
     },
     "metadata": {},
     "output_type": "display_data"
    },
    {
     "data": {
      "application/vnd.jupyter.widget-view+json": {
       "model_id": "",
       "version_major": 2,
       "version_minor": 0
      },
      "text/plain": [
       "HBox(children=(FloatProgress(value=1.0, bar_style='info', description='Validating', layout=Layout(flex='2'), m…"
      ]
     },
     "metadata": {},
     "output_type": "display_data"
    },
    {
     "data": {
      "application/vnd.jupyter.widget-view+json": {
       "model_id": "",
       "version_major": 2,
       "version_minor": 0
      },
      "text/plain": [
       "HBox(children=(FloatProgress(value=1.0, bar_style='info', description='Validating', layout=Layout(flex='2'), m…"
      ]
     },
     "metadata": {},
     "output_type": "display_data"
    },
    {
     "data": {
      "application/vnd.jupyter.widget-view+json": {
       "model_id": "",
       "version_major": 2,
       "version_minor": 0
      },
      "text/plain": [
       "HBox(children=(FloatProgress(value=1.0, bar_style='info', description='Validating', layout=Layout(flex='2'), m…"
      ]
     },
     "metadata": {},
     "output_type": "display_data"
    },
    {
     "data": {
      "application/vnd.jupyter.widget-view+json": {
       "model_id": "",
       "version_major": 2,
       "version_minor": 0
      },
      "text/plain": [
       "HBox(children=(FloatProgress(value=1.0, bar_style='info', description='Validating', layout=Layout(flex='2'), m…"
      ]
     },
     "metadata": {},
     "output_type": "display_data"
    },
    {
     "data": {
      "application/vnd.jupyter.widget-view+json": {
       "model_id": "",
       "version_major": 2,
       "version_minor": 0
      },
      "text/plain": [
       "HBox(children=(FloatProgress(value=1.0, bar_style='info', description='Validating', layout=Layout(flex='2'), m…"
      ]
     },
     "metadata": {},
     "output_type": "display_data"
    },
    {
     "data": {
      "application/vnd.jupyter.widget-view+json": {
       "model_id": "",
       "version_major": 2,
       "version_minor": 0
      },
      "text/plain": [
       "HBox(children=(FloatProgress(value=1.0, bar_style='info', description='Validating', layout=Layout(flex='2'), m…"
      ]
     },
     "metadata": {},
     "output_type": "display_data"
    },
    {
     "data": {
      "application/vnd.jupyter.widget-view+json": {
       "model_id": "",
       "version_major": 2,
       "version_minor": 0
      },
      "text/plain": [
       "HBox(children=(FloatProgress(value=1.0, bar_style='info', description='Validating', layout=Layout(flex='2'), m…"
      ]
     },
     "metadata": {},
     "output_type": "display_data"
    },
    {
     "data": {
      "application/vnd.jupyter.widget-view+json": {
       "model_id": "",
       "version_major": 2,
       "version_minor": 0
      },
      "text/plain": [
       "HBox(children=(FloatProgress(value=1.0, bar_style='info', description='Validating', layout=Layout(flex='2'), m…"
      ]
     },
     "metadata": {},
     "output_type": "display_data"
    },
    {
     "data": {
      "application/vnd.jupyter.widget-view+json": {
       "model_id": "",
       "version_major": 2,
       "version_minor": 0
      },
      "text/plain": [
       "HBox(children=(FloatProgress(value=1.0, bar_style='info', description='Validating', layout=Layout(flex='2'), m…"
      ]
     },
     "metadata": {},
     "output_type": "display_data"
    },
    {
     "data": {
      "application/vnd.jupyter.widget-view+json": {
       "model_id": "",
       "version_major": 2,
       "version_minor": 0
      },
      "text/plain": [
       "HBox(children=(FloatProgress(value=1.0, bar_style='info', description='Validating', layout=Layout(flex='2'), m…"
      ]
     },
     "metadata": {},
     "output_type": "display_data"
    },
    {
     "data": {
      "application/vnd.jupyter.widget-view+json": {
       "model_id": "",
       "version_major": 2,
       "version_minor": 0
      },
      "text/plain": [
       "HBox(children=(FloatProgress(value=1.0, bar_style='info', description='Validating', layout=Layout(flex='2'), m…"
      ]
     },
     "metadata": {},
     "output_type": "display_data"
    },
    {
     "name": "stderr",
     "output_type": "stream",
     "text": [
      "Saving latest checkpoint..\n",
      "INFO:lightning:Saving latest checkpoint..\n"
     ]
    },
    {
     "name": "stdout",
     "output_type": "stream",
     "text": [
      "\n"
     ]
    },
    {
     "data": {
      "text/plain": [
       "1"
      ]
     },
     "execution_count": 13,
     "metadata": {},
     "output_type": "execute_result"
    }
   ],
   "source": [
    "trainer.fit(mdl)"
   ]
  },
  {
   "cell_type": "code",
   "execution_count": null,
   "metadata": {
    "scrolled": true
   },
   "outputs": [],
   "source": [
    "def init_random_seed(seed):\n",
    "    # https://pytorch.org/docs/stable/notes/randomness.html\n",
    "    np.random.seed(seed)\n",
    "    torch.random.manual_seed(seed)\n",
    "    torch.backends.cudnn.deterministic = True\n",
    "    torch.backends.cudnn.benchmark = False"
   ]
  },
  {
   "cell_type": "code",
   "execution_count": null,
   "metadata": {},
   "outputs": [],
   "source": []
  },
  {
   "cell_type": "code",
   "execution_count": null,
   "metadata": {},
   "outputs": [],
   "source": []
  },
  {
   "cell_type": "code",
   "execution_count": null,
   "metadata": {},
   "outputs": [],
   "source": []
  },
  {
   "cell_type": "code",
   "execution_count": 44,
   "metadata": {},
   "outputs": [],
   "source": [
    "alpha = torch.tensor([[0.7178],\n",
    "        [0.9132],\n",
    "        [0.8583],\n",
    "        [0.8679],\n",
    "        [0.8830],\n",
    "        [0.6960],\n",
    "        [0.7145],\n",
    "        [0.7236],\n",
    "        [0.7256],\n",
    "        [0.8372],\n",
    "        [0.8938],\n",
    "        [0.7015],\n",
    "        [0.7416],\n",
    "        [0.7968],\n",
    "        [0.8381],\n",
    "        [0.7227],\n",
    "        [0.6914],\n",
    "        [0.7258],\n",
    "        [0.8054],\n",
    "        [0.8606],\n",
    "        [0.7868],\n",
    "        [0.7187],\n",
    "        [0.7623],\n",
    "        [0.7986],\n",
    "        [0.7057],\n",
    "        [0.8149],\n",
    "        [0.7915],\n",
    "        [0.6627],\n",
    "        [1.0297],\n",
    "        [0.6368],\n",
    "        [0.6907],\n",
    "        [0.6212],\n",
    "        [0.5667],\n",
    "        [0.8088],\n",
    "        [0.7017],\n",
    "        [0.5996],\n",
    "        [0.7835],\n",
    "        [0.5984],\n",
    "        [0.6511],\n",
    "        [0.6205],\n",
    "        [0.8320],\n",
    "        [0.6591],\n",
    "        [0.6522],\n",
    "        [0.5667],\n",
    "        [0.6661],\n",
    "        [0.7151],\n",
    "        [0.6168],\n",
    "        [0.7309],\n",
    "        [0.6816],\n",
    "        [0.6333],\n",
    "        [0.8586],\n",
    "        [0.8077],\n",
    "        [0.7237],\n",
    "        [0.8427],\n",
    "        [0.6740],\n",
    "        [0.7795],\n",
    "        [0.8889],\n",
    "        [0.6303],\n",
    "        [0.5875],\n",
    "        [0.7972],\n",
    "        [0.7637],\n",
    "        [0.7919],\n",
    "        [0.7291],\n",
    "        [0.7476]], device='cuda:0')\n",
    "\n",
    "beta = torch.tensor([[1.0344],\n",
    "        [0.5334],\n",
    "        [0.4402],\n",
    "        [0.6664],\n",
    "        [0.6958],\n",
    "        [0.7333],\n",
    "        [1.0591],\n",
    "        [0.6792],\n",
    "        [1.0880],\n",
    "        [0.8903],\n",
    "        [0.6510],\n",
    "        [0.7187],\n",
    "        [0.6258],\n",
    "        [0.7643],\n",
    "        [0.6647],\n",
    "        [1.0063],\n",
    "        [0.6665],\n",
    "        [0.6710],\n",
    "        [0.6315],\n",
    "        [0.6970],\n",
    "        [0.6960],\n",
    "        [0.8488],\n",
    "        [0.8547],\n",
    "        [0.6118],\n",
    "        [0.7652],\n",
    "        [0.6054],\n",
    "        [0.6840],\n",
    "        [0.7666],\n",
    "        [0.8978],\n",
    "        [0.5133],\n",
    "        [0.9799],\n",
    "        [0.8981],\n",
    "        [0.6387],\n",
    "        [0.6454],\n",
    "        [0.6947],\n",
    "        [0.9924],\n",
    "        [0.7703],\n",
    "        [0.8720],\n",
    "        [0.8859],\n",
    "        [0.7997],\n",
    "        [0.9635],\n",
    "        [0.5297],\n",
    "        [1.0919],\n",
    "        [0.8375],\n",
    "        [0.6416],\n",
    "        [0.7111],\n",
    "        [0.9431],\n",
    "        [0.8264],\n",
    "        [0.4814],\n",
    "        [0.7436],\n",
    "        [0.7247],\n",
    "        [0.6305],\n",
    "        [0.8898],\n",
    "        [0.8594],\n",
    "        [0.7563],\n",
    "        [0.7000],\n",
    "        [0.8499],\n",
    "        [0.8457],\n",
    "        [0.6647],\n",
    "        [0.5826],\n",
    "        [0.7324],\n",
    "        [0.6652],\n",
    "        [0.8827],\n",
    "        [0.7915]], device='cuda:0')\n",
    "\n",
    "target_y = torch.tensor([0, 1, 0, 0, 0, 1, 1, 0, 0, 1, 0, 0, 0, 1, 0, 1, 1, 1, 1, 0, 1, 1, 0, 1,\n",
    "        0, 1, 1, 0, 0, 1, 1, 0, 1, 1, 1, 1, 1, 1, 1, 0, 1, 1, 1, 0, 1, 0, 0, 1,\n",
    "        1, 0, 1, 0, 1, 0, 1, 0, 0, 0, 1, 1, 1, 1, 1, 0], device='cuda:0')\n",
    "\n",
    "y_pred = torch.tensor([[0.4097],\n",
    "        [0.6313],\n",
    "        [0.6610],\n",
    "        [0.5657],\n",
    "        [0.5593],\n",
    "        [0.4869],\n",
    "        [0.4029],\n",
    "        [0.5158],\n",
    "        [0.4001],\n",
    "        [0.4846],\n",
    "        [0.5786],\n",
    "        [0.4939],\n",
    "        [0.5424],\n",
    "        [0.5104],\n",
    "        [0.5577],\n",
    "        [0.4180],\n",
    "        [0.5092],\n",
    "        [0.5196],\n",
    "        [0.5605],\n",
    "        [0.5525],\n",
    "        [0.5306],\n",
    "        [0.4585],\n",
    "        [0.4715],\n",
    "        [0.5662],\n",
    "        [0.4798],\n",
    "        [0.5737],\n",
    "        [0.5364],\n",
    "        [0.4636],\n",
    "        [0.5342],\n",
    "        [0.5537],\n",
    "        [0.4135],\n",
    "        [0.4089],\n",
    "        [0.4701],\n",
    "        [0.5562],\n",
    "        [0.5025],\n",
    "        [0.3766],\n",
    "        [0.5042],\n",
    "        [0.4070],\n",
    "        [0.4236],\n",
    "        [0.4369],\n",
    "        [0.4634],\n",
    "        [0.5544],\n",
    "        [0.3739],\n",
    "        [0.4036],\n",
    "        [0.5094],\n",
    "        [0.5014],\n",
    "        [0.3954],\n",
    "        [0.4694],\n",
    "        [0.5861],\n",
    "        [0.4599],\n",
    "        [0.5423],\n",
    "        [0.5616],\n",
    "        [0.4485],\n",
    "        [0.4951],\n",
    "        [0.4712],\n",
    "        [0.5268],\n",
    "        [0.5112],\n",
    "        [0.4270],\n",
    "        [0.4692],\n",
    "        [0.5778],\n",
    "        [0.5105],\n",
    "        [0.5435],\n",
    "        [0.4524],\n",
    "        [0.4858]], device='cuda:0')"
   ]
  },
  {
   "cell_type": "code",
   "execution_count": 19,
   "metadata": {},
   "outputs": [],
   "source": [
    "d = torch.distributions.Beta(alpha, beta)"
   ]
  },
  {
   "cell_type": "code",
   "execution_count": 265,
   "metadata": {},
   "outputs": [
    {
     "data": {
      "text/plain": [
       "[<matplotlib.lines.Line2D at 0x7f8d402de290>]"
      ]
     },
     "execution_count": 265,
     "metadata": {},
     "output_type": "execute_result"
    },
    {
     "data": {
      "image/png": "[encoded data removed]",
      "text/plain": [
       "<Figure size 432x288 with 1 Axes>"
      ]
     },
     "metadata": {
      "needs_background": "light"
     },
     "output_type": "display_data"
    }
   ],
   "source": [
    "x_val = torch.arange(0.0, 1.05, 0.05, device='cuda:0')\n",
    "plt.plot(x_val.cpu(), d.log_prob(x_val)[0].exp().cpu())"
   ]
  },
  {
   "cell_type": "code",
   "execution_count": 66,
   "metadata": {},
   "outputs": [
    {
     "data": {
      "text/plain": [
       "tensor(2.0499)"
      ]
     },
     "execution_count": 66,
     "metadata": {},
     "output_type": "execute_result"
    }
   ],
   "source": [
    "torch.distributions.Normal(0, 1).sample()"
   ]
  },
  {
   "cell_type": "code",
   "execution_count": 44,
   "metadata": {},
   "outputs": [
    {
     "data": {
      "text/plain": [
       "tensor(-0.7645)"
      ]
     },
     "execution_count": 44,
     "metadata": {},
     "output_type": "execute_result"
    }
   ],
   "source": [
    "torch.distributions.Bernoulli(probs=.9).log_prob(.7)"
   ]
  },
  {
   "cell_type": "code",
   "execution_count": 43,
   "metadata": {},
   "outputs": [
    {
     "data": {
      "text/plain": [
       "[<matplotlib.lines.Line2D at 0x7f6bfc2a12d0>]"
      ]
     },
     "execution_count": 43,
     "metadata": {},
     "output_type": "execute_result"
    },
    {
     "data": {
      "image/png": "[encoded data removed]",
      "text/plain": [
       "<Figure size 432x288 with 1 Axes>"
      ]
     },
     "metadata": {
      "needs_background": "light"
     },
     "output_type": "display_data"
    }
   ],
   "source": [
    "dist = torch.distributions.Bernoulli(probs=torch.arange(0.0, 1.05, 0.05, device='cpu'))\n",
    "x_val = torch.arange(0.0, 1.05, 0.05, device='cpu')\n",
    "plt.plot(x_val.cpu(), dist.log_prob(x_val).exp().cpu())"
   ]
  },
  {
   "cell_type": "code",
   "execution_count": 44,
   "metadata": {},
   "outputs": [
    {
     "name": "stderr",
     "output_type": "stream",
     "text": [
      "/home/kev/miniconda3/lib/python3.7/site-packages/ipykernel/ipkernel.py:287: DeprecationWarning: `should_run_async` will not call `transform_cell` automatically in the future. Please pass the result to `transformed_cell` argument and any exception that happen during thetransform in `preprocessing_exc_tuple` in IPython 7.17 and above.\n",
      "  and should_run_async(code)\n"
     ]
    },
    {
     "data": {
      "text/plain": [
       "tensor([0., 0., 0., 0., 0., 0., 0., 1., 0., 0., 1., 1., 1., 0., 1., 1., 1., 1.,\n",
       "        1., 1., 1.])"
      ]
     },
     "execution_count": 44,
     "metadata": {},
     "output_type": "execute_result"
    }
   ],
   "source": [
    "dist.sample()"
   ]
  },
  {
   "cell_type": "code",
   "execution_count": 40,
   "metadata": {},
   "outputs": [
    {
     "data": {
      "text/plain": [
       "tensor(7.0111e-05)"
      ]
     },
     "execution_count": 40,
     "metadata": {},
     "output_type": "execute_result"
    }
   ],
   "source": [
    "dist.log_prob(.4).exp()"
   ]
  },
  {
   "cell_type": "code",
   "execution_count": null,
   "metadata": {},
   "outputs": [],
   "source": []
  }
 ],
 "metadata": {
  "kernelspec": {
   "display_name": "Python 3",
   "language": "python",
   "name": "python3"
  },
  "language_info": {
   "codemirror_mode": {
    "name": "ipython",
    "version": 3
   },
   "file_extension": ".py",
   "mimetype": "text/x-python",
   "name": "python",
   "nbconvert_exporter": "python",
   "pygments_lexer": "ipython3",
   "version": "3.8.2"
  }
 },
 "nbformat": 4,
 "nbformat_minor": 2
}
