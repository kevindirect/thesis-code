{
 "cells": [
  {
   "cell_type": "markdown",
   "metadata": {},
   "source": [
    "# nb-model_ret"
   ]
  },
  {
   "cell_type": "code",
   "execution_count": 1,
   "metadata": {},
   "outputs": [
    {
     "name": "stderr",
     "output_type": "stream",
     "text": [
      "CRITICAL:root:script location: /home/kev/crunch/model/nb-model_ret.ipynb\n",
      "CRITICAL:root:using project dir: /home/kev/crunch/\n"
     ]
    }
   ],
   "source": [
    "import sys\n",
    "import os\n",
    "from os import sep\n",
    "from os.path import dirname, realpath, exists\n",
    "from pathlib import Path\n",
    "from functools import partial\n",
    "import random\n",
    "import logging\n",
    "\n",
    "def get_cwd(fname, subdir, crunch_dir=realpath(Path.home()) +sep +'crunch' +sep):\n",
    "    \"\"\"\n",
    "    Convenience function to make a directory string for the current file based on inputs.\n",
    "    Jupyter Notebook in Anaconda invokes the Python interpreter in Anaconda's subdirectory\n",
    "    which is why changing sys.argv[0] is necessary. In the future a better way to do this\n",
    "    should be preferred..\n",
    "    \"\"\"\n",
    "    return crunch_dir +subdir +fname\n",
    "\n",
    "def fix_path(cwd):\n",
    "    \"\"\"\n",
    "    Convenience function to fix argv and python path so that jupyter notebook can run the same as\n",
    "    any script in crunch.\n",
    "    \"\"\"\n",
    "    sys.argv[0] = cwd\n",
    "    module_path = os.path.abspath(os.path.join('..'))\n",
    "    if module_path not in sys.path:\n",
    "        sys.path.append(module_path)\n",
    "\n",
    "fname = 'nb-model_ret.ipynb'\n",
    "dir_name = 'model'\n",
    "fix_path(get_cwd(fname, dir_name +sep))\n",
    "\n",
    "import numpy as np\n",
    "import pandas as pd\n",
    "import matplotlib.pyplot as plt\n",
    "import torch\n",
    "import pytorch_lightning as pl\n",
    "from pytorch_lightning.callbacks.early_stopping import EarlyStopping\n",
    "from pytorch_lightning import loggers as pl_loggers\n",
    "from verification.batch_norm import BatchNormVerificationCallback\n",
    "from verification.batch_gradient import BatchGradientVerificationCallback\n",
    "\n",
    "from ipywidgets import interact, interactive, fixed\n",
    "from IPython.display import display\n",
    "\n",
    "pd.set_option(\"display.max_rows\", 100)\n",
    "pd.set_option(\"display.max_columns\", 50)\n",
    "\n",
    "from common_util import MODEL_DIR, load_json, dump_json, rectify_json, load_df, str_now, makedir_if_not_exists, is_valid, isnt, compose, pd_split_ternary_to_binary, df_del_midx_level, midx_intersect, pd_get_midx_level, pd_rows, df_midx_restack\n",
    "from common_util import NestedDefaultDict\n",
    "from model.common import EXP_LOG_DIR, EXP_PARAMS_DIR, ASSETS, DATASET_DIR, XG_PROCESS_DIR, XG_DATA_DIR, XG_DIR, PYTORCH_MODELS_DIR, TRAIN_RATIO, EXPECTED_NUM_HOURS\n",
    "from model.pl_xgdm import XGDataModule\n",
    "from model.pl_np import NPModel\n",
    "from model.np_util2 import AttentiveNP\n",
    "from recon.viz import *\n",
    "logging.basicConfig(stream=sys.stdout, level=logging.DEBUG)"
   ]
  },
  {
   "cell_type": "markdown",
   "metadata": {},
   "source": [
    "Prune the xg data down to the data of interest to use in further experiments."
   ]
  },
  {
   "cell_type": "code",
   "execution_count": 135,
   "metadata": {
    "scrolled": true
   },
   "outputs": [
    {
     "name": "stdout",
     "output_type": "stream",
     "text": [
      "cuda status: ✓\n"
     ]
    }
   ],
   "source": [
    "model_name = 'anp'\n",
    "asset_name = ASSETS[3]\n",
    "dsubs = 'h'\n",
    "fdata_name = f'h_pba_{dsubs}' # hpomzug\n",
    "ldata_name = 'ddir'\n",
    "loss_type = 'clf-ce'\n",
    "model_type = loss_type.split('-')[0]\n",
    "\n",
    "# monitor = 'val_f1.0' if (model_type == 'clf') else 'val_mae'\n",
    "monitor = 'val_accuracy' if (model_type == 'clf') else 'val_mae'\n",
    "num_classes = 2 if (model_type == 'clf') else None\n",
    "\n",
    "optimize_dir = {\n",
    "    'val_loss': 'minimize',\n",
    "    'val_mae': 'minimize',\n",
    "    'val_mse': 'minimize'\n",
    "}.get(monitor, 'maximize')\n",
    "\n",
    "pl_model_fn, pt_model_fn = NPModel, AttentiveNP\n",
    "model_name = f'{model_type}_{pl_model_fn.__name__}_{pt_model_fn.__name__}'\n",
    "logging.getLogger(\"lightning\").setLevel(logging.ERROR)\n",
    "print('cuda status: {}'.format('✓' if (torch.cuda.is_available()) else '🞩'))"
   ]
  },
  {
   "cell_type": "markdown",
   "metadata": {},
   "source": [
    "## 4 Assets X {CNP, LNP, NP, X}"
   ]
  },
  {
   "cell_type": "code",
   "execution_count": 136,
   "metadata": {},
   "outputs": [],
   "source": [
    "t_params = {\n",
    "\t\"window_size\": 10,\n",
    "\t\"feat_dim\": None,\n",
    "\t\"train_shuffle\": False,\n",
    "\t\"epochs\": 40,\n",
    "\t\"batch_size\": 256,\n",
    "\t\"batch_step_size\": 128,\n",
    "\t\"train_resample\": None,\n",
    "\t\"train_target_overlap\": 0,\n",
    "\t\"train_sample_context_size\": False,\n",
    "\t\"context_size\": 128,\n",
    "\t\"target_size\": 128,\n",
    "\t\"loss\": \"clf-ce\",\n",
    "\t\"class_weights\": None,\n",
    "\t\"sample_out\": False,\n",
    "\t\"opt\": {\n",
    "\t\t\"name\": \"adam\",\n",
    "\t\t\"kwargs\": {\n",
    "\t\t\t\"lr\": 0.0005\n",
    "\t\t}\n",
    "\t},\n",
    "\t\"num_workers\": 0,\n",
    "\t\"pin_memory\": True\n",
    "}"
   ]
  },
  {
   "cell_type": "code",
   "execution_count": 137,
   "metadata": {},
   "outputs": [],
   "source": [
    "fret=None\n",
    "dm = XGDataModule(t_params, asset_name, fdata_name, ldata_name, interval=(2007, 2018), fret=None,\n",
    "                  overwrite_cache=False)\n",
    "dm.prepare_data()\n",
    "dm.setup()\n",
    "\n",
    "#mdl = pl_model_fn(pt_model_fn, m_params, t_params, dm.fobs)"
   ]
  },
  {
   "cell_type": "code",
   "execution_count": 138,
   "metadata": {},
   "outputs": [],
   "source": [
    "ret_train = dm.raw['train'][2].sum(axis=-1).squeeze()\n",
    "ret_train_neg_ = dm.raw['train'][2][:, :, 0].squeeze()\n",
    "ret_train_neg = ret_train_neg_[ret_train_neg_ < 0]\n",
    "ret_train_pos_ = dm.raw['train'][2][:, :, 1].squeeze()\n",
    "ret_train_pos = ret_train_pos_[ret_train_pos_ > 0]"
   ]
  },
  {
   "cell_type": "code",
   "execution_count": 139,
   "metadata": {},
   "outputs": [
    {
     "data": {
      "text/plain": [
       "0.000701532926726367"
      ]
     },
     "execution_count": 139,
     "metadata": {},
     "output_type": "execute_result"
    }
   ],
   "source": [
    "np.quantile(ret_train, .5)"
   ]
  },
  {
   "cell_type": "code",
   "execution_count": 108,
   "metadata": {},
   "outputs": [
    {
     "data": {
      "text/plain": [
       "0.001040450384445002"
      ]
     },
     "execution_count": 108,
     "metadata": {},
     "output_type": "execute_result"
    }
   ],
   "source": [
    "np.quantile(ret_train_pos, .1)"
   ]
  },
  {
   "cell_type": "code",
   "execution_count": 58,
   "metadata": {},
   "outputs": [
    {
     "data": {
      "text/plain": [
       "-0.0009683850754771406"
      ]
     },
     "execution_count": 58,
     "metadata": {},
     "output_type": "execute_result"
    }
   ],
   "source": [
    "np.quantile(ret_train_neg, .9)"
   ]
  },
  {
   "cell_type": "code",
   "execution_count": 57,
   "metadata": {},
   "outputs": [
    {
     "data": {
      "text/plain": [
       "<BarContainer object of 50 artists>"
      ]
     },
     "execution_count": 57,
     "metadata": {},
     "output_type": "execute_result"
    },
    {
     "data": {
      "image/png": "[encoded data removed]",
      "text/plain": [
       "<Figure size 432x288 with 1 Axes>"
      ]
     },
     "metadata": {
      "needs_background": "light"
     },
     "output_type": "display_data"
    }
   ],
   "source": [
    "plt.hist(ret_train_pos, bins=50)[2]"
   ]
  },
  {
   "cell_type": "code",
   "execution_count": 56,
   "metadata": {},
   "outputs": [
    {
     "data": {
      "text/plain": [
       "<BarContainer object of 50 artists>"
      ]
     },
     "execution_count": 56,
     "metadata": {},
     "output_type": "execute_result"
    },
    {
     "data": {
      "image/png": "[encoded data removed]",
      "text/plain": [
       "<Figure size 432x288 with 1 Axes>"
      ]
     },
     "metadata": {
      "needs_background": "light"
     },
     "output_type": "display_data"
    }
   ],
   "source": [
    "plt.hist(ret_train_neg, bins=50)[2]"
   ]
  },
  {
   "cell_type": "code",
   "execution_count": 12,
   "metadata": {},
   "outputs": [],
   "source": [
    "#t_params"
   ]
  },
  {
   "cell_type": "code",
   "execution_count": 35,
   "metadata": {},
   "outputs": [],
   "source": [
    "#mdl"
   ]
  },
  {
   "cell_type": "code",
   "execution_count": null,
   "metadata": {},
   "outputs": [],
   "source": []
  },
  {
   "cell_type": "code",
   "execution_count": null,
   "metadata": {},
   "outputs": [],
   "source": []
  }
 ],
 "metadata": {
  "@webio": {
   "lastCommId": null,
   "lastKernelId": null
  },
  "kernelspec": {
   "display_name": "Python 3 (ipykernel)",
   "language": "python",
   "name": "python3"
  },
  "language_info": {
   "codemirror_mode": {
    "name": "ipython",
    "version": 3
   },
   "file_extension": ".py",
   "mimetype": "text/x-python",
   "name": "python",
   "nbconvert_exporter": "python",
   "pygments_lexer": "ipython3",
   "version": "3.8.2"
  }
 },
 "nbformat": 4,
 "nbformat_minor": 2
}
