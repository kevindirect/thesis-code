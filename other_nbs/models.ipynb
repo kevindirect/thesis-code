{
 "cells": [
  {
   "cell_type": "code",
   "execution_count": 4,
   "metadata": {
    "collapsed": false
   },
   "outputs": [],
   "source": [
    "%matplotlib inline\n",
    "import datetime\n",
    "import pandas as pd\n",
    "import numpy as np\n",
    "import scipy as sc\n",
    "from altair import *\n",
    "import matplotlib.pyplot as plt\n",
    "from ipywidgets import interact, interactive, fixed\n",
    "from IPython.display import display\n",
    "# from keras.models import Sequential\n",
    "# from keras.layers import Dense\n",
    "from sklearn.linear_model import Ridge"
   ]
  },
  {
   "cell_type": "code",
   "execution_count": 3,
   "metadata": {
    "collapsed": false
   },
   "outputs": [
    {
     "name": "stdout",
     "output_type": "stream",
     "text": [
      "   Unnamed: 0        Date  N_buzz  N_conflict  N_consumptionVolume  \\\n",
      "0           0  2000-01-01   201.1    0.004973             0.004973   \n",
      "1           1  2000-01-02   132.7    0.000000             0.004973   \n",
      "2           2  2000-01-03   381.2   -0.028856             0.004973   \n",
      "3           3  2000-01-04  1078.8   -0.054690            -0.001854   \n",
      "4           4  2000-01-05  1363.6   -0.020534            -0.002933   \n",
      "\n",
      "   N_emotionVsFact    N_fear   N_gloom     N_joy  N_longShort     ...       \\\n",
      "0         0.129164  0.002486  0.024863       NaN          NaN     ...        \n",
      "1         0.141485  0.007536  0.033911  0.030143          NaN     ...        \n",
      "2         0.098898  0.007536  0.019675  0.030143     0.000000     ...        \n",
      "3         0.129357  0.012050  0.021320  0.030143    -0.012977     ...        \n",
      "4         0.146836  0.015400  0.042901  0.000733     0.003300     ...        \n",
      "\n",
      "   X_Prev. Day Open Interest   X_Settle  X_Volume  X_dailydir  X_dailypct  \\\n",
      "0                        NaN        NaN       NaN         NaN         NaN   \n",
      "1                        NaN        NaN       NaN         NaN         NaN   \n",
      "2                        NaN        NaN       NaN         NaN         NaN   \n",
      "3                   124650.0  92.634276   74788.0        -1.0   -0.001953   \n",
      "4                   123257.0  90.313887   70944.0        -1.0   -0.025049   \n",
      "\n",
      "   Y_day  Z_dailydir  Z_dailypct  Y_year  Z_dailydir2  \n",
      "0      5         NaN         NaN    2000          NaN  \n",
      "1      6         NaN         NaN    2000          NaN  \n",
      "2      0         NaN         NaN    2000          NaN  \n",
      "3      1        -1.0   -0.025049    2000         -2.0  \n",
      "4      2        -1.0   -0.005219    2000         -1.0  \n",
      "\n",
      "[5 rows x 67 columns]\n"
     ]
    }
   ],
   "source": [
    "cldir = './data/CL/'\n",
    "rutdir = './data/RUT/'\n",
    "gldir = './data/GLD/'\n",
    "src = cldir\n",
    "\n",
    "data = pd.read_csv(src + '/1_merged/in_sampleFF.csv')\n",
    "\n",
    "labelName = 'Z_dailydir'\n",
    "label_list = ['Z_dailydir2', 'Z_dailydir']\n",
    "pricestats=['Date', 'Z_dailypct']\n",
    "sent_list = tuple(sorted([col for col in data.columns if ((col[0]=='N' or col[0]=='S') and 'buzz' not in col)]))\n",
    "full_list = sent_list + ('Z_dailypct',)\n",
    "print(data.head(5))"
   ]
  },
  {
   "cell_type": "markdown",
   "metadata": {
    "collapsed": true
   },
   "source": [
    "TODO: build a ensemble classifier of all the sentiments. At first, each classifer should be something basic (akin to a linear regressor). They should vote to produce an answer. Test the accuracy, precision, and recall of the ensemble classifier"
   ]
  },
  {
   "cell_type": "code",
   "execution_count": null,
   "metadata": {
    "collapsed": true
   },
   "outputs": [],
   "source": []
  }
 ],
 "metadata": {
  "anaconda-cloud": {},
  "kernelspec": {
   "display_name": "Python [Root]",
   "language": "python",
   "name": "Python [Root]"
  },
  "language_info": {
   "codemirror_mode": {
    "name": "ipython",
    "version": 3
   },
   "file_extension": ".py",
   "mimetype": "text/x-python",
   "name": "python",
   "nbconvert_exporter": "python",
   "pygments_lexer": "ipython3",
   "version": "3.5.2"
  }
 },
 "nbformat": 4,
 "nbformat_minor": 0
}
