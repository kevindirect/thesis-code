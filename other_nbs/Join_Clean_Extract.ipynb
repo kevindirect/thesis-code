{
 "cells": [
  {
   "cell_type": "code",
   "execution_count": 1,
   "metadata": {
    "collapsed": true
   },
   "outputs": [],
   "source": [
    "import pandas as pd\n",
    "import numpy as np\n",
    "import datetime\n",
    "pd.set_option('display.max_columns', 50)"
   ]
  },
  {
   "cell_type": "code",
   "execution_count": 2,
   "metadata": {
    "collapsed": true
   },
   "outputs": [],
   "source": [
    "asset_name = 'SPX'\n",
    "vol_name = 'VIX'\n",
    "asset_price = pd.read_csv('./raw/price/' +asset_name +'.csv')\n",
    "asset_vol = pd.read_csv('./raw/vol/' +vol_name +'.csv')"
   ]
  },
  {
   "cell_type": "code",
   "execution_count": 3,
   "metadata": {
    "collapsed": true
   },
   "outputs": [],
   "source": [
    "# Returns a dataframe with empty and unchanging columns removed\n",
    "def drop_unchanging(df):\n",
    "    #remove fully empty columns\n",
    "    no_empty = df.dropna(axis=1, how='all')\n",
    "    #Drop all columns that only have one non-empty value\n",
    "    to_drop = [col for col in no_empty.columns if ((no_empty[col].dtype == np.float64 or\n",
    "               no_empty[col].dtype == np.int64) and sum(~np.isnan(no_empty[col].unique())) < 2)]\n",
    "    return no_empty.drop(to_drop, axis=1) #remove columns with unchanging values"
   ]
  },
  {
   "cell_type": "markdown",
   "metadata": {},
   "source": [
    "## Joining Data Together"
   ]
  },
  {
   "cell_type": "markdown",
   "metadata": {},
   "source": [
    "### Hourly Price Data Cleaning"
   ]
  },
  {
   "cell_type": "markdown",
   "metadata": {},
   "source": [
    "Note the TRMI is recorded in the GMT timezone. The hourly TRMI is a time series containing every hour for each day. The price data here is also recorded in GMT (adding the offset to the time converts back to market hours). Because the price data can only be over market hours, there will be empty cells.\n",
    "\n",
    "Here we simplify some of the Russell 2000 data fields:"
   ]
  },
  {
   "cell_type": "code",
   "execution_count": 4,
   "metadata": {},
   "outputs": [
    {
     "data": {
      "text/html": [
       "<div>\n",
       "<style>\n",
       "    .dataframe thead tr:only-child th {\n",
       "        text-align: right;\n",
       "    }\n",
       "\n",
       "    .dataframe thead th {\n",
       "        text-align: left;\n",
       "    }\n",
       "\n",
       "    .dataframe tbody tr th {\n",
       "        vertical-align: top;\n",
       "    }\n",
       "</style>\n",
       "<table border=\"1\" class=\"dataframe\">\n",
       "  <thead>\n",
       "    <tr style=\"text-align: right;\">\n",
       "      <th></th>\n",
       "      <th>date</th>\n",
       "      <th>hour</th>\n",
       "      <th>gmt_offset</th>\n",
       "      <th>Open</th>\n",
       "      <th>High</th>\n",
       "      <th>Low</th>\n",
       "      <th>Last</th>\n",
       "      <th>Volume</th>\n",
       "      <th>Ave. Price</th>\n",
       "      <th>No. Trades</th>\n",
       "      <th>Open Bid</th>\n",
       "      <th>High Bid</th>\n",
       "      <th>Low Bid</th>\n",
       "      <th>Close Bid</th>\n",
       "      <th>No. Bids</th>\n",
       "      <th>Open Ask</th>\n",
       "      <th>High Ask</th>\n",
       "      <th>Low Ask</th>\n",
       "      <th>Close Ask</th>\n",
       "      <th>No. Asks</th>\n",
       "    </tr>\n",
       "    <tr>\n",
       "      <th>id</th>\n",
       "      <th></th>\n",
       "      <th></th>\n",
       "      <th></th>\n",
       "      <th></th>\n",
       "      <th></th>\n",
       "      <th></th>\n",
       "      <th></th>\n",
       "      <th></th>\n",
       "      <th></th>\n",
       "      <th></th>\n",
       "      <th></th>\n",
       "      <th></th>\n",
       "      <th></th>\n",
       "      <th></th>\n",
       "      <th></th>\n",
       "      <th></th>\n",
       "      <th></th>\n",
       "      <th></th>\n",
       "      <th></th>\n",
       "      <th></th>\n",
       "    </tr>\n",
       "  </thead>\n",
       "  <tbody>\n",
       "    <tr>\n",
       "      <th>1998-01-02T10:00</th>\n",
       "      <td>1998-01-02</td>\n",
       "      <td>10</td>\n",
       "      <td>-6</td>\n",
       "      <td>NaN</td>\n",
       "      <td>NaN</td>\n",
       "      <td>NaN</td>\n",
       "      <td>NaN</td>\n",
       "      <td>NaN</td>\n",
       "      <td>NaN</td>\n",
       "      <td>NaN</td>\n",
       "      <td>0.0</td>\n",
       "      <td>0.0</td>\n",
       "      <td>0.0</td>\n",
       "      <td>0.0</td>\n",
       "      <td>1</td>\n",
       "      <td>0.0</td>\n",
       "      <td>0.0</td>\n",
       "      <td>0.0</td>\n",
       "      <td>0.0</td>\n",
       "      <td>1</td>\n",
       "    </tr>\n",
       "    <tr>\n",
       "      <th>1998-01-02T14:00</th>\n",
       "      <td>1998-01-02</td>\n",
       "      <td>14</td>\n",
       "      <td>-6</td>\n",
       "      <td>970.43</td>\n",
       "      <td>974.02</td>\n",
       "      <td>970.43</td>\n",
       "      <td>970.82</td>\n",
       "      <td>0.0</td>\n",
       "      <td>972.2026</td>\n",
       "      <td>121.0</td>\n",
       "      <td>0.0</td>\n",
       "      <td>0.0</td>\n",
       "      <td>0.0</td>\n",
       "      <td>0.0</td>\n",
       "      <td>0</td>\n",
       "      <td>0.0</td>\n",
       "      <td>0.0</td>\n",
       "      <td>0.0</td>\n",
       "      <td>0.0</td>\n",
       "      <td>0</td>\n",
       "    </tr>\n",
       "    <tr>\n",
       "      <th>1998-01-02T15:00</th>\n",
       "      <td>1998-01-02</td>\n",
       "      <td>15</td>\n",
       "      <td>-6</td>\n",
       "      <td>970.72</td>\n",
       "      <td>970.72</td>\n",
       "      <td>965.97</td>\n",
       "      <td>969.55</td>\n",
       "      <td>0.0</td>\n",
       "      <td>968.2946</td>\n",
       "      <td>237.0</td>\n",
       "      <td>0.0</td>\n",
       "      <td>0.0</td>\n",
       "      <td>0.0</td>\n",
       "      <td>0.0</td>\n",
       "      <td>0</td>\n",
       "      <td>0.0</td>\n",
       "      <td>0.0</td>\n",
       "      <td>0.0</td>\n",
       "      <td>0.0</td>\n",
       "      <td>0</td>\n",
       "    </tr>\n",
       "    <tr>\n",
       "      <th>1998-01-02T16:00</th>\n",
       "      <td>1998-01-02</td>\n",
       "      <td>16</td>\n",
       "      <td>-6</td>\n",
       "      <td>969.63</td>\n",
       "      <td>970.82</td>\n",
       "      <td>968.92</td>\n",
       "      <td>968.97</td>\n",
       "      <td>0.0</td>\n",
       "      <td>969.6750</td>\n",
       "      <td>240.0</td>\n",
       "      <td>0.0</td>\n",
       "      <td>0.0</td>\n",
       "      <td>0.0</td>\n",
       "      <td>0.0</td>\n",
       "      <td>0</td>\n",
       "      <td>0.0</td>\n",
       "      <td>0.0</td>\n",
       "      <td>0.0</td>\n",
       "      <td>0.0</td>\n",
       "      <td>0</td>\n",
       "    </tr>\n",
       "    <tr>\n",
       "      <th>1998-01-02T17:00</th>\n",
       "      <td>1998-01-02</td>\n",
       "      <td>17</td>\n",
       "      <td>-6</td>\n",
       "      <td>969.00</td>\n",
       "      <td>971.26</td>\n",
       "      <td>969.00</td>\n",
       "      <td>971.12</td>\n",
       "      <td>0.0</td>\n",
       "      <td>970.5000</td>\n",
       "      <td>240.0</td>\n",
       "      <td>0.0</td>\n",
       "      <td>0.0</td>\n",
       "      <td>0.0</td>\n",
       "      <td>0.0</td>\n",
       "      <td>0</td>\n",
       "      <td>0.0</td>\n",
       "      <td>0.0</td>\n",
       "      <td>0.0</td>\n",
       "      <td>0.0</td>\n",
       "      <td>0</td>\n",
       "    </tr>\n",
       "  </tbody>\n",
       "</table>\n",
       "</div>"
      ],
      "text/plain": [
       "                        date  hour  gmt_offset    Open    High     Low  \\\n",
       "id                                                                       \n",
       "1998-01-02T10:00  1998-01-02    10          -6     NaN     NaN     NaN   \n",
       "1998-01-02T14:00  1998-01-02    14          -6  970.43  974.02  970.43   \n",
       "1998-01-02T15:00  1998-01-02    15          -6  970.72  970.72  965.97   \n",
       "1998-01-02T16:00  1998-01-02    16          -6  969.63  970.82  968.92   \n",
       "1998-01-02T17:00  1998-01-02    17          -6  969.00  971.26  969.00   \n",
       "\n",
       "                    Last  Volume  Ave. Price  No. Trades  Open Bid  High Bid  \\\n",
       "id                                                                             \n",
       "1998-01-02T10:00     NaN     NaN         NaN         NaN       0.0       0.0   \n",
       "1998-01-02T14:00  970.82     0.0    972.2026       121.0       0.0       0.0   \n",
       "1998-01-02T15:00  969.55     0.0    968.2946       237.0       0.0       0.0   \n",
       "1998-01-02T16:00  968.97     0.0    969.6750       240.0       0.0       0.0   \n",
       "1998-01-02T17:00  971.12     0.0    970.5000       240.0       0.0       0.0   \n",
       "\n",
       "                  Low Bid  Close Bid  No. Bids  Open Ask  High Ask  Low Ask  \\\n",
       "id                                                                            \n",
       "1998-01-02T10:00      0.0        0.0         1       0.0       0.0      0.0   \n",
       "1998-01-02T14:00      0.0        0.0         0       0.0       0.0      0.0   \n",
       "1998-01-02T15:00      0.0        0.0         0       0.0       0.0      0.0   \n",
       "1998-01-02T16:00      0.0        0.0         0       0.0       0.0      0.0   \n",
       "1998-01-02T17:00      0.0        0.0         0       0.0       0.0      0.0   \n",
       "\n",
       "                  Close Ask  No. Asks  \n",
       "id                                     \n",
       "1998-01-02T10:00        0.0         1  \n",
       "1998-01-02T14:00        0.0         0  \n",
       "1998-01-02T15:00        0.0         0  \n",
       "1998-01-02T16:00        0.0         0  \n",
       "1998-01-02T17:00        0.0         0  "
      ]
     },
     "execution_count": 4,
     "metadata": {},
     "output_type": "execute_result"
    }
   ],
   "source": [
    "#Remove asset id column, type column, and unchanging columns:\n",
    "new_price = drop_unchanging(asset_price.drop(['#RIC', 'Type'], 1))\n",
    "\n",
    "mon_str_to_num = {'JAN': '01', 'FEB': '02', 'MAR': '03', 'APR': '04', 'MAY': '05', 'JUN': '06',\n",
    "                  'JUL': '07', 'AUG': '08', 'SEP': '09', 'OCT': '10', 'NOV': '11', 'DEC': '12'}\n",
    "\n",
    "#Convert to all numeric date and reverse to match TRMI format\n",
    "date_col = asset_price['Date[G]'].map(lambda w: (w[7:] + '-' + mon_str_to_num[w[3:6]] + '-' + w[:2]))\n",
    "hour_col = asset_price['Time[G]'].map(lambda w: int(w[:2]))\n",
    "date_hour_col = date_col.map(str) + 'T' + hour_col.map(lambda h: str(h).zfill(2)) + ':00'\n",
    "\n",
    "new_price.insert(0, 'id', date_hour_col)\n",
    "new_price.insert(1, 'date', date_col)\n",
    "new_price.insert(2, 'hour', hour_col)\n",
    "new_price.insert(3, 'gmt_offset', asset_price['GMT Offset'])\n",
    "new_price = new_price.drop(['Date[G]', 'Time[G]', 'GMT Offset'], 1) #Drop redundant date/time columns\n",
    "new_price.set_index('id', drop=True, inplace=True)\n",
    "\n",
    "new_price.head()"
   ]
  },
  {
   "cell_type": "markdown",
   "metadata": {},
   "source": [
    "### Hourly Volatility Data Cleaning"
   ]
  },
  {
   "cell_type": "code",
   "execution_count": 5,
   "metadata": {},
   "outputs": [
    {
     "data": {
      "text/html": [
       "<div>\n",
       "<style>\n",
       "    .dataframe thead tr:only-child th {\n",
       "        text-align: right;\n",
       "    }\n",
       "\n",
       "    .dataframe thead th {\n",
       "        text-align: left;\n",
       "    }\n",
       "\n",
       "    .dataframe tbody tr th {\n",
       "        vertical-align: top;\n",
       "    }\n",
       "</style>\n",
       "<table border=\"1\" class=\"dataframe\">\n",
       "  <thead>\n",
       "    <tr style=\"text-align: right;\">\n",
       "      <th></th>\n",
       "      <th>date</th>\n",
       "      <th>hour</th>\n",
       "      <th>Open</th>\n",
       "      <th>High</th>\n",
       "      <th>Low</th>\n",
       "      <th>Last</th>\n",
       "      <th>Ave. Price</th>\n",
       "      <th>No. Trades</th>\n",
       "      <th>No. Bids</th>\n",
       "      <th>No. Asks</th>\n",
       "    </tr>\n",
       "    <tr>\n",
       "      <th>id</th>\n",
       "      <th></th>\n",
       "      <th></th>\n",
       "      <th></th>\n",
       "      <th></th>\n",
       "      <th></th>\n",
       "      <th></th>\n",
       "      <th></th>\n",
       "      <th></th>\n",
       "      <th></th>\n",
       "      <th></th>\n",
       "    </tr>\n",
       "  </thead>\n",
       "  <tbody>\n",
       "    <tr>\n",
       "      <th>1998-01-02T10:00</th>\n",
       "      <td>1998-01-02</td>\n",
       "      <td>10</td>\n",
       "      <td>NaN</td>\n",
       "      <td>NaN</td>\n",
       "      <td>NaN</td>\n",
       "      <td>NaN</td>\n",
       "      <td>NaN</td>\n",
       "      <td>NaN</td>\n",
       "      <td>1</td>\n",
       "      <td>1</td>\n",
       "    </tr>\n",
       "    <tr>\n",
       "      <th>1998-01-02T15:00</th>\n",
       "      <td>1998-01-02</td>\n",
       "      <td>15</td>\n",
       "      <td>25.80</td>\n",
       "      <td>26.47</td>\n",
       "      <td>25.28</td>\n",
       "      <td>25.48</td>\n",
       "      <td>25.8066</td>\n",
       "      <td>59.0</td>\n",
       "      <td>0</td>\n",
       "      <td>0</td>\n",
       "    </tr>\n",
       "    <tr>\n",
       "      <th>1998-01-02T16:00</th>\n",
       "      <td>1998-01-02</td>\n",
       "      <td>16</td>\n",
       "      <td>25.33</td>\n",
       "      <td>25.66</td>\n",
       "      <td>25.10</td>\n",
       "      <td>25.63</td>\n",
       "      <td>25.3995</td>\n",
       "      <td>60.0</td>\n",
       "      <td>0</td>\n",
       "      <td>0</td>\n",
       "    </tr>\n",
       "    <tr>\n",
       "      <th>1998-01-02T17:00</th>\n",
       "      <td>1998-01-02</td>\n",
       "      <td>17</td>\n",
       "      <td>25.63</td>\n",
       "      <td>25.66</td>\n",
       "      <td>25.04</td>\n",
       "      <td>25.15</td>\n",
       "      <td>25.3143</td>\n",
       "      <td>60.0</td>\n",
       "      <td>0</td>\n",
       "      <td>0</td>\n",
       "    </tr>\n",
       "    <tr>\n",
       "      <th>1998-01-02T18:00</th>\n",
       "      <td>1998-01-02</td>\n",
       "      <td>18</td>\n",
       "      <td>25.18</td>\n",
       "      <td>25.49</td>\n",
       "      <td>24.85</td>\n",
       "      <td>25.30</td>\n",
       "      <td>25.1930</td>\n",
       "      <td>60.0</td>\n",
       "      <td>0</td>\n",
       "      <td>0</td>\n",
       "    </tr>\n",
       "  </tbody>\n",
       "</table>\n",
       "</div>"
      ],
      "text/plain": [
       "                        date  hour   Open   High    Low   Last  Ave. Price  \\\n",
       "id                                                                           \n",
       "1998-01-02T10:00  1998-01-02    10    NaN    NaN    NaN    NaN         NaN   \n",
       "1998-01-02T15:00  1998-01-02    15  25.80  26.47  25.28  25.48     25.8066   \n",
       "1998-01-02T16:00  1998-01-02    16  25.33  25.66  25.10  25.63     25.3995   \n",
       "1998-01-02T17:00  1998-01-02    17  25.63  25.66  25.04  25.15     25.3143   \n",
       "1998-01-02T18:00  1998-01-02    18  25.18  25.49  24.85  25.30     25.1930   \n",
       "\n",
       "                  No. Trades  No. Bids  No. Asks  \n",
       "id                                                \n",
       "1998-01-02T10:00         NaN         1         1  \n",
       "1998-01-02T15:00        59.0         0         0  \n",
       "1998-01-02T16:00        60.0         0         0  \n",
       "1998-01-02T17:00        60.0         0         0  \n",
       "1998-01-02T18:00        60.0         0         0  "
      ]
     },
     "execution_count": 5,
     "metadata": {},
     "output_type": "execute_result"
    }
   ],
   "source": [
    "#Remove asset id column, type column, and unchanging columns:\n",
    "new_vol = drop_unchanging(asset_vol.drop(['#RIC', 'Type'], 1))\n",
    "\n",
    "mon_str_to_num = {'JAN': '01', 'FEB': '02', 'MAR': '03', 'APR': '04', 'MAY': '05', 'JUN': '06',\n",
    "                  'JUL': '07', 'AUG': '08', 'SEP': '09', 'OCT': '10', 'NOV': '11', 'DEC': '12'}\n",
    "\n",
    "#Convert to all numeric date and reverse to match TRMI format\n",
    "date_col = new_vol['Date[G]'].map(lambda w: (w[7:] + '-' + mon_str_to_num[w[3:6]] + '-' + w[:2]))\n",
    "hour_col = new_vol['Time[G]'].map(lambda w: int(w[:2]))\n",
    "date_hour_col = date_col.map(str) + 'T' + hour_col.map(lambda h: str(h).zfill(2)) + ':00'\n",
    "\n",
    "new_vol.insert(0, 'id', date_hour_col)\n",
    "new_vol.insert(1, 'date', date_col)\n",
    "new_vol.insert(2, 'hour', hour_col)\n",
    "\n",
    "#Don't add gmt_offset, because we want to use the gmt offset associated with the pricing data\n",
    "#(ie we want to use eastern time, not central time)\n",
    "#new_r2k_volatility.insert(3, 'gmt_offset', r2k_price['GMT Offset'])\n",
    "new_vol = new_vol.drop(['Date[G]', 'Time[G]', 'GMT Offset'], 1) #Drop redundant date/time columns\n",
    "new_vol.set_index('id', drop=True, inplace=True)\n",
    "\n",
    "new_vol.head()"
   ]
  },
  {
   "cell_type": "markdown",
   "metadata": {},
   "source": [
    "###  Join Volatility Data"
   ]
  },
  {
   "cell_type": "code",
   "execution_count": 6,
   "metadata": {
    "collapsed": true
   },
   "outputs": [],
   "source": [
    "price_vol = new_price.merge(new_vol, how='left', on=['date', 'hour'],\n",
    "                                                 left_index=True, right_index=True, suffixes=('', '_' +vol_name))"
   ]
  },
  {
   "cell_type": "code",
   "execution_count": 7,
   "metadata": {},
   "outputs": [
    {
     "data": {
      "text/html": [
       "<div>\n",
       "<style>\n",
       "    .dataframe thead tr:only-child th {\n",
       "        text-align: right;\n",
       "    }\n",
       "\n",
       "    .dataframe thead th {\n",
       "        text-align: left;\n",
       "    }\n",
       "\n",
       "    .dataframe tbody tr th {\n",
       "        vertical-align: top;\n",
       "    }\n",
       "</style>\n",
       "<table border=\"1\" class=\"dataframe\">\n",
       "  <thead>\n",
       "    <tr style=\"text-align: right;\">\n",
       "      <th></th>\n",
       "      <th>date</th>\n",
       "      <th>hour</th>\n",
       "      <th>gmt_offset</th>\n",
       "      <th>Open</th>\n",
       "      <th>High</th>\n",
       "      <th>Low</th>\n",
       "      <th>Last</th>\n",
       "      <th>Volume</th>\n",
       "      <th>Ave. Price</th>\n",
       "      <th>No. Trades</th>\n",
       "      <th>Open Bid</th>\n",
       "      <th>High Bid</th>\n",
       "      <th>Low Bid</th>\n",
       "      <th>Close Bid</th>\n",
       "      <th>No. Bids</th>\n",
       "      <th>Open Ask</th>\n",
       "      <th>High Ask</th>\n",
       "      <th>Low Ask</th>\n",
       "      <th>Close Ask</th>\n",
       "      <th>No. Asks</th>\n",
       "      <th>Open_VIX</th>\n",
       "      <th>High_VIX</th>\n",
       "      <th>Low_VIX</th>\n",
       "      <th>Last_VIX</th>\n",
       "      <th>Ave. Price_VIX</th>\n",
       "      <th>No. Trades_VIX</th>\n",
       "      <th>No. Bids_VIX</th>\n",
       "      <th>No. Asks_VIX</th>\n",
       "    </tr>\n",
       "    <tr>\n",
       "      <th>id</th>\n",
       "      <th></th>\n",
       "      <th></th>\n",
       "      <th></th>\n",
       "      <th></th>\n",
       "      <th></th>\n",
       "      <th></th>\n",
       "      <th></th>\n",
       "      <th></th>\n",
       "      <th></th>\n",
       "      <th></th>\n",
       "      <th></th>\n",
       "      <th></th>\n",
       "      <th></th>\n",
       "      <th></th>\n",
       "      <th></th>\n",
       "      <th></th>\n",
       "      <th></th>\n",
       "      <th></th>\n",
       "      <th></th>\n",
       "      <th></th>\n",
       "      <th></th>\n",
       "      <th></th>\n",
       "      <th></th>\n",
       "      <th></th>\n",
       "      <th></th>\n",
       "      <th></th>\n",
       "      <th></th>\n",
       "      <th></th>\n",
       "    </tr>\n",
       "  </thead>\n",
       "  <tbody>\n",
       "    <tr>\n",
       "      <th>1998-01-02T10:00</th>\n",
       "      <td>1998-01-02</td>\n",
       "      <td>10</td>\n",
       "      <td>-6</td>\n",
       "      <td>NaN</td>\n",
       "      <td>NaN</td>\n",
       "      <td>NaN</td>\n",
       "      <td>NaN</td>\n",
       "      <td>NaN</td>\n",
       "      <td>NaN</td>\n",
       "      <td>NaN</td>\n",
       "      <td>0.0</td>\n",
       "      <td>0.0</td>\n",
       "      <td>0.0</td>\n",
       "      <td>0.0</td>\n",
       "      <td>1</td>\n",
       "      <td>0.0</td>\n",
       "      <td>0.0</td>\n",
       "      <td>0.0</td>\n",
       "      <td>0.0</td>\n",
       "      <td>1</td>\n",
       "      <td>NaN</td>\n",
       "      <td>NaN</td>\n",
       "      <td>NaN</td>\n",
       "      <td>NaN</td>\n",
       "      <td>NaN</td>\n",
       "      <td>NaN</td>\n",
       "      <td>1.0</td>\n",
       "      <td>1.0</td>\n",
       "    </tr>\n",
       "    <tr>\n",
       "      <th>1998-01-02T14:00</th>\n",
       "      <td>1998-01-02</td>\n",
       "      <td>14</td>\n",
       "      <td>-6</td>\n",
       "      <td>970.43</td>\n",
       "      <td>974.02</td>\n",
       "      <td>970.43</td>\n",
       "      <td>970.82</td>\n",
       "      <td>0.0</td>\n",
       "      <td>972.2026</td>\n",
       "      <td>121.0</td>\n",
       "      <td>0.0</td>\n",
       "      <td>0.0</td>\n",
       "      <td>0.0</td>\n",
       "      <td>0.0</td>\n",
       "      <td>0</td>\n",
       "      <td>0.0</td>\n",
       "      <td>0.0</td>\n",
       "      <td>0.0</td>\n",
       "      <td>0.0</td>\n",
       "      <td>0</td>\n",
       "      <td>NaN</td>\n",
       "      <td>NaN</td>\n",
       "      <td>NaN</td>\n",
       "      <td>NaN</td>\n",
       "      <td>NaN</td>\n",
       "      <td>NaN</td>\n",
       "      <td>NaN</td>\n",
       "      <td>NaN</td>\n",
       "    </tr>\n",
       "    <tr>\n",
       "      <th>1998-01-02T15:00</th>\n",
       "      <td>1998-01-02</td>\n",
       "      <td>15</td>\n",
       "      <td>-6</td>\n",
       "      <td>970.72</td>\n",
       "      <td>970.72</td>\n",
       "      <td>965.97</td>\n",
       "      <td>969.55</td>\n",
       "      <td>0.0</td>\n",
       "      <td>968.2946</td>\n",
       "      <td>237.0</td>\n",
       "      <td>0.0</td>\n",
       "      <td>0.0</td>\n",
       "      <td>0.0</td>\n",
       "      <td>0.0</td>\n",
       "      <td>0</td>\n",
       "      <td>0.0</td>\n",
       "      <td>0.0</td>\n",
       "      <td>0.0</td>\n",
       "      <td>0.0</td>\n",
       "      <td>0</td>\n",
       "      <td>25.80</td>\n",
       "      <td>26.47</td>\n",
       "      <td>25.28</td>\n",
       "      <td>25.48</td>\n",
       "      <td>25.8066</td>\n",
       "      <td>59.0</td>\n",
       "      <td>0.0</td>\n",
       "      <td>0.0</td>\n",
       "    </tr>\n",
       "    <tr>\n",
       "      <th>1998-01-02T16:00</th>\n",
       "      <td>1998-01-02</td>\n",
       "      <td>16</td>\n",
       "      <td>-6</td>\n",
       "      <td>969.63</td>\n",
       "      <td>970.82</td>\n",
       "      <td>968.92</td>\n",
       "      <td>968.97</td>\n",
       "      <td>0.0</td>\n",
       "      <td>969.6750</td>\n",
       "      <td>240.0</td>\n",
       "      <td>0.0</td>\n",
       "      <td>0.0</td>\n",
       "      <td>0.0</td>\n",
       "      <td>0.0</td>\n",
       "      <td>0</td>\n",
       "      <td>0.0</td>\n",
       "      <td>0.0</td>\n",
       "      <td>0.0</td>\n",
       "      <td>0.0</td>\n",
       "      <td>0</td>\n",
       "      <td>25.33</td>\n",
       "      <td>25.66</td>\n",
       "      <td>25.10</td>\n",
       "      <td>25.63</td>\n",
       "      <td>25.3995</td>\n",
       "      <td>60.0</td>\n",
       "      <td>0.0</td>\n",
       "      <td>0.0</td>\n",
       "    </tr>\n",
       "    <tr>\n",
       "      <th>1998-01-02T17:00</th>\n",
       "      <td>1998-01-02</td>\n",
       "      <td>17</td>\n",
       "      <td>-6</td>\n",
       "      <td>969.00</td>\n",
       "      <td>971.26</td>\n",
       "      <td>969.00</td>\n",
       "      <td>971.12</td>\n",
       "      <td>0.0</td>\n",
       "      <td>970.5000</td>\n",
       "      <td>240.0</td>\n",
       "      <td>0.0</td>\n",
       "      <td>0.0</td>\n",
       "      <td>0.0</td>\n",
       "      <td>0.0</td>\n",
       "      <td>0</td>\n",
       "      <td>0.0</td>\n",
       "      <td>0.0</td>\n",
       "      <td>0.0</td>\n",
       "      <td>0.0</td>\n",
       "      <td>0</td>\n",
       "      <td>25.63</td>\n",
       "      <td>25.66</td>\n",
       "      <td>25.04</td>\n",
       "      <td>25.15</td>\n",
       "      <td>25.3143</td>\n",
       "      <td>60.0</td>\n",
       "      <td>0.0</td>\n",
       "      <td>0.0</td>\n",
       "    </tr>\n",
       "  </tbody>\n",
       "</table>\n",
       "</div>"
      ],
      "text/plain": [
       "                        date  hour  gmt_offset    Open    High     Low  \\\n",
       "id                                                                       \n",
       "1998-01-02T10:00  1998-01-02    10          -6     NaN     NaN     NaN   \n",
       "1998-01-02T14:00  1998-01-02    14          -6  970.43  974.02  970.43   \n",
       "1998-01-02T15:00  1998-01-02    15          -6  970.72  970.72  965.97   \n",
       "1998-01-02T16:00  1998-01-02    16          -6  969.63  970.82  968.92   \n",
       "1998-01-02T17:00  1998-01-02    17          -6  969.00  971.26  969.00   \n",
       "\n",
       "                    Last  Volume  Ave. Price  No. Trades  Open Bid  High Bid  \\\n",
       "id                                                                             \n",
       "1998-01-02T10:00     NaN     NaN         NaN         NaN       0.0       0.0   \n",
       "1998-01-02T14:00  970.82     0.0    972.2026       121.0       0.0       0.0   \n",
       "1998-01-02T15:00  969.55     0.0    968.2946       237.0       0.0       0.0   \n",
       "1998-01-02T16:00  968.97     0.0    969.6750       240.0       0.0       0.0   \n",
       "1998-01-02T17:00  971.12     0.0    970.5000       240.0       0.0       0.0   \n",
       "\n",
       "                  Low Bid  Close Bid  No. Bids  Open Ask  High Ask  Low Ask  \\\n",
       "id                                                                            \n",
       "1998-01-02T10:00      0.0        0.0         1       0.0       0.0      0.0   \n",
       "1998-01-02T14:00      0.0        0.0         0       0.0       0.0      0.0   \n",
       "1998-01-02T15:00      0.0        0.0         0       0.0       0.0      0.0   \n",
       "1998-01-02T16:00      0.0        0.0         0       0.0       0.0      0.0   \n",
       "1998-01-02T17:00      0.0        0.0         0       0.0       0.0      0.0   \n",
       "\n",
       "                  Close Ask  No. Asks  Open_VIX  High_VIX  Low_VIX  Last_VIX  \\\n",
       "id                                                                             \n",
       "1998-01-02T10:00        0.0         1       NaN       NaN      NaN       NaN   \n",
       "1998-01-02T14:00        0.0         0       NaN       NaN      NaN       NaN   \n",
       "1998-01-02T15:00        0.0         0     25.80     26.47    25.28     25.48   \n",
       "1998-01-02T16:00        0.0         0     25.33     25.66    25.10     25.63   \n",
       "1998-01-02T17:00        0.0         0     25.63     25.66    25.04     25.15   \n",
       "\n",
       "                  Ave. Price_VIX  No. Trades_VIX  No. Bids_VIX  No. Asks_VIX  \n",
       "id                                                                            \n",
       "1998-01-02T10:00             NaN             NaN           1.0           1.0  \n",
       "1998-01-02T14:00             NaN             NaN           NaN           NaN  \n",
       "1998-01-02T15:00         25.8066            59.0           0.0           0.0  \n",
       "1998-01-02T16:00         25.3995            60.0           0.0           0.0  \n",
       "1998-01-02T17:00         25.3143            60.0           0.0           0.0  "
      ]
     },
     "execution_count": 7,
     "metadata": {},
     "output_type": "execute_result"
    }
   ],
   "source": [
    "price_vol.head()"
   ]
  },
  {
   "cell_type": "markdown",
   "metadata": {},
   "source": [
    "## Add Day of Week, Day, Month, Year"
   ]
  },
  {
   "cell_type": "code",
   "execution_count": 8,
   "metadata": {},
   "outputs": [
    {
     "data": {
      "text/html": [
       "<div>\n",
       "<style>\n",
       "    .dataframe thead tr:only-child th {\n",
       "        text-align: right;\n",
       "    }\n",
       "\n",
       "    .dataframe thead th {\n",
       "        text-align: left;\n",
       "    }\n",
       "\n",
       "    .dataframe tbody tr th {\n",
       "        vertical-align: top;\n",
       "    }\n",
       "</style>\n",
       "<table border=\"1\" class=\"dataframe\">\n",
       "  <thead>\n",
       "    <tr style=\"text-align: right;\">\n",
       "      <th></th>\n",
       "      <th>date</th>\n",
       "      <th>hour</th>\n",
       "      <th>gmt_offset</th>\n",
       "      <th>dow</th>\n",
       "      <th>day</th>\n",
       "      <th>month</th>\n",
       "      <th>year</th>\n",
       "      <th>Open</th>\n",
       "      <th>High</th>\n",
       "      <th>Low</th>\n",
       "      <th>Last</th>\n",
       "      <th>Volume</th>\n",
       "      <th>Ave. Price</th>\n",
       "      <th>No. Trades</th>\n",
       "      <th>Open Bid</th>\n",
       "      <th>High Bid</th>\n",
       "      <th>Low Bid</th>\n",
       "      <th>Close Bid</th>\n",
       "      <th>No. Bids</th>\n",
       "      <th>Open Ask</th>\n",
       "      <th>High Ask</th>\n",
       "      <th>Low Ask</th>\n",
       "      <th>Close Ask</th>\n",
       "      <th>No. Asks</th>\n",
       "      <th>Open_VIX</th>\n",
       "      <th>High_VIX</th>\n",
       "      <th>Low_VIX</th>\n",
       "      <th>Last_VIX</th>\n",
       "      <th>Ave. Price_VIX</th>\n",
       "      <th>No. Trades_VIX</th>\n",
       "      <th>No. Bids_VIX</th>\n",
       "      <th>No. Asks_VIX</th>\n",
       "    </tr>\n",
       "    <tr>\n",
       "      <th>id</th>\n",
       "      <th></th>\n",
       "      <th></th>\n",
       "      <th></th>\n",
       "      <th></th>\n",
       "      <th></th>\n",
       "      <th></th>\n",
       "      <th></th>\n",
       "      <th></th>\n",
       "      <th></th>\n",
       "      <th></th>\n",
       "      <th></th>\n",
       "      <th></th>\n",
       "      <th></th>\n",
       "      <th></th>\n",
       "      <th></th>\n",
       "      <th></th>\n",
       "      <th></th>\n",
       "      <th></th>\n",
       "      <th></th>\n",
       "      <th></th>\n",
       "      <th></th>\n",
       "      <th></th>\n",
       "      <th></th>\n",
       "      <th></th>\n",
       "      <th></th>\n",
       "      <th></th>\n",
       "      <th></th>\n",
       "      <th></th>\n",
       "      <th></th>\n",
       "      <th></th>\n",
       "      <th></th>\n",
       "      <th></th>\n",
       "    </tr>\n",
       "  </thead>\n",
       "  <tbody>\n",
       "    <tr>\n",
       "      <th>1998-01-02T10:00</th>\n",
       "      <td>1998-01-02</td>\n",
       "      <td>10</td>\n",
       "      <td>-6</td>\n",
       "      <td>4</td>\n",
       "      <td>2</td>\n",
       "      <td>1</td>\n",
       "      <td>1998</td>\n",
       "      <td>NaN</td>\n",
       "      <td>NaN</td>\n",
       "      <td>NaN</td>\n",
       "      <td>NaN</td>\n",
       "      <td>NaN</td>\n",
       "      <td>NaN</td>\n",
       "      <td>NaN</td>\n",
       "      <td>0.0</td>\n",
       "      <td>0.0</td>\n",
       "      <td>0.0</td>\n",
       "      <td>0.0</td>\n",
       "      <td>1</td>\n",
       "      <td>0.0</td>\n",
       "      <td>0.0</td>\n",
       "      <td>0.0</td>\n",
       "      <td>0.0</td>\n",
       "      <td>1</td>\n",
       "      <td>NaN</td>\n",
       "      <td>NaN</td>\n",
       "      <td>NaN</td>\n",
       "      <td>NaN</td>\n",
       "      <td>NaN</td>\n",
       "      <td>NaN</td>\n",
       "      <td>1.0</td>\n",
       "      <td>1.0</td>\n",
       "    </tr>\n",
       "    <tr>\n",
       "      <th>1998-01-02T14:00</th>\n",
       "      <td>1998-01-02</td>\n",
       "      <td>14</td>\n",
       "      <td>-6</td>\n",
       "      <td>4</td>\n",
       "      <td>2</td>\n",
       "      <td>1</td>\n",
       "      <td>1998</td>\n",
       "      <td>970.43</td>\n",
       "      <td>974.02</td>\n",
       "      <td>970.43</td>\n",
       "      <td>970.82</td>\n",
       "      <td>0.0</td>\n",
       "      <td>972.2026</td>\n",
       "      <td>121.0</td>\n",
       "      <td>0.0</td>\n",
       "      <td>0.0</td>\n",
       "      <td>0.0</td>\n",
       "      <td>0.0</td>\n",
       "      <td>0</td>\n",
       "      <td>0.0</td>\n",
       "      <td>0.0</td>\n",
       "      <td>0.0</td>\n",
       "      <td>0.0</td>\n",
       "      <td>0</td>\n",
       "      <td>NaN</td>\n",
       "      <td>NaN</td>\n",
       "      <td>NaN</td>\n",
       "      <td>NaN</td>\n",
       "      <td>NaN</td>\n",
       "      <td>NaN</td>\n",
       "      <td>NaN</td>\n",
       "      <td>NaN</td>\n",
       "    </tr>\n",
       "    <tr>\n",
       "      <th>1998-01-02T15:00</th>\n",
       "      <td>1998-01-02</td>\n",
       "      <td>15</td>\n",
       "      <td>-6</td>\n",
       "      <td>4</td>\n",
       "      <td>2</td>\n",
       "      <td>1</td>\n",
       "      <td>1998</td>\n",
       "      <td>970.72</td>\n",
       "      <td>970.72</td>\n",
       "      <td>965.97</td>\n",
       "      <td>969.55</td>\n",
       "      <td>0.0</td>\n",
       "      <td>968.2946</td>\n",
       "      <td>237.0</td>\n",
       "      <td>0.0</td>\n",
       "      <td>0.0</td>\n",
       "      <td>0.0</td>\n",
       "      <td>0.0</td>\n",
       "      <td>0</td>\n",
       "      <td>0.0</td>\n",
       "      <td>0.0</td>\n",
       "      <td>0.0</td>\n",
       "      <td>0.0</td>\n",
       "      <td>0</td>\n",
       "      <td>25.80</td>\n",
       "      <td>26.47</td>\n",
       "      <td>25.28</td>\n",
       "      <td>25.48</td>\n",
       "      <td>25.8066</td>\n",
       "      <td>59.0</td>\n",
       "      <td>0.0</td>\n",
       "      <td>0.0</td>\n",
       "    </tr>\n",
       "    <tr>\n",
       "      <th>1998-01-02T16:00</th>\n",
       "      <td>1998-01-02</td>\n",
       "      <td>16</td>\n",
       "      <td>-6</td>\n",
       "      <td>4</td>\n",
       "      <td>2</td>\n",
       "      <td>1</td>\n",
       "      <td>1998</td>\n",
       "      <td>969.63</td>\n",
       "      <td>970.82</td>\n",
       "      <td>968.92</td>\n",
       "      <td>968.97</td>\n",
       "      <td>0.0</td>\n",
       "      <td>969.6750</td>\n",
       "      <td>240.0</td>\n",
       "      <td>0.0</td>\n",
       "      <td>0.0</td>\n",
       "      <td>0.0</td>\n",
       "      <td>0.0</td>\n",
       "      <td>0</td>\n",
       "      <td>0.0</td>\n",
       "      <td>0.0</td>\n",
       "      <td>0.0</td>\n",
       "      <td>0.0</td>\n",
       "      <td>0</td>\n",
       "      <td>25.33</td>\n",
       "      <td>25.66</td>\n",
       "      <td>25.10</td>\n",
       "      <td>25.63</td>\n",
       "      <td>25.3995</td>\n",
       "      <td>60.0</td>\n",
       "      <td>0.0</td>\n",
       "      <td>0.0</td>\n",
       "    </tr>\n",
       "    <tr>\n",
       "      <th>1998-01-02T17:00</th>\n",
       "      <td>1998-01-02</td>\n",
       "      <td>17</td>\n",
       "      <td>-6</td>\n",
       "      <td>4</td>\n",
       "      <td>2</td>\n",
       "      <td>1</td>\n",
       "      <td>1998</td>\n",
       "      <td>969.00</td>\n",
       "      <td>971.26</td>\n",
       "      <td>969.00</td>\n",
       "      <td>971.12</td>\n",
       "      <td>0.0</td>\n",
       "      <td>970.5000</td>\n",
       "      <td>240.0</td>\n",
       "      <td>0.0</td>\n",
       "      <td>0.0</td>\n",
       "      <td>0.0</td>\n",
       "      <td>0.0</td>\n",
       "      <td>0</td>\n",
       "      <td>0.0</td>\n",
       "      <td>0.0</td>\n",
       "      <td>0.0</td>\n",
       "      <td>0.0</td>\n",
       "      <td>0</td>\n",
       "      <td>25.63</td>\n",
       "      <td>25.66</td>\n",
       "      <td>25.04</td>\n",
       "      <td>25.15</td>\n",
       "      <td>25.3143</td>\n",
       "      <td>60.0</td>\n",
       "      <td>0.0</td>\n",
       "      <td>0.0</td>\n",
       "    </tr>\n",
       "  </tbody>\n",
       "</table>\n",
       "</div>"
      ],
      "text/plain": [
       "                        date  hour  gmt_offset  dow  day  month  year    Open  \\\n",
       "id                                                                              \n",
       "1998-01-02T10:00  1998-01-02    10          -6    4    2      1  1998     NaN   \n",
       "1998-01-02T14:00  1998-01-02    14          -6    4    2      1  1998  970.43   \n",
       "1998-01-02T15:00  1998-01-02    15          -6    4    2      1  1998  970.72   \n",
       "1998-01-02T16:00  1998-01-02    16          -6    4    2      1  1998  969.63   \n",
       "1998-01-02T17:00  1998-01-02    17          -6    4    2      1  1998  969.00   \n",
       "\n",
       "                    High     Low    Last  Volume  Ave. Price  No. Trades  \\\n",
       "id                                                                         \n",
       "1998-01-02T10:00     NaN     NaN     NaN     NaN         NaN         NaN   \n",
       "1998-01-02T14:00  974.02  970.43  970.82     0.0    972.2026       121.0   \n",
       "1998-01-02T15:00  970.72  965.97  969.55     0.0    968.2946       237.0   \n",
       "1998-01-02T16:00  970.82  968.92  968.97     0.0    969.6750       240.0   \n",
       "1998-01-02T17:00  971.26  969.00  971.12     0.0    970.5000       240.0   \n",
       "\n",
       "                  Open Bid  High Bid  Low Bid  Close Bid  No. Bids  Open Ask  \\\n",
       "id                                                                             \n",
       "1998-01-02T10:00       0.0       0.0      0.0        0.0         1       0.0   \n",
       "1998-01-02T14:00       0.0       0.0      0.0        0.0         0       0.0   \n",
       "1998-01-02T15:00       0.0       0.0      0.0        0.0         0       0.0   \n",
       "1998-01-02T16:00       0.0       0.0      0.0        0.0         0       0.0   \n",
       "1998-01-02T17:00       0.0       0.0      0.0        0.0         0       0.0   \n",
       "\n",
       "                  High Ask  Low Ask  Close Ask  No. Asks  Open_VIX  High_VIX  \\\n",
       "id                                                                             \n",
       "1998-01-02T10:00       0.0      0.0        0.0         1       NaN       NaN   \n",
       "1998-01-02T14:00       0.0      0.0        0.0         0       NaN       NaN   \n",
       "1998-01-02T15:00       0.0      0.0        0.0         0     25.80     26.47   \n",
       "1998-01-02T16:00       0.0      0.0        0.0         0     25.33     25.66   \n",
       "1998-01-02T17:00       0.0      0.0        0.0         0     25.63     25.66   \n",
       "\n",
       "                  Low_VIX  Last_VIX  Ave. Price_VIX  No. Trades_VIX  \\\n",
       "id                                                                    \n",
       "1998-01-02T10:00      NaN       NaN             NaN             NaN   \n",
       "1998-01-02T14:00      NaN       NaN             NaN             NaN   \n",
       "1998-01-02T15:00    25.28     25.48         25.8066            59.0   \n",
       "1998-01-02T16:00    25.10     25.63         25.3995            60.0   \n",
       "1998-01-02T17:00    25.04     25.15         25.3143            60.0   \n",
       "\n",
       "                  No. Bids_VIX  No. Asks_VIX  \n",
       "id                                            \n",
       "1998-01-02T10:00           1.0           1.0  \n",
       "1998-01-02T14:00           NaN           NaN  \n",
       "1998-01-02T15:00           0.0           0.0  \n",
       "1998-01-02T16:00           0.0           0.0  \n",
       "1998-01-02T17:00           0.0           0.0  "
      ]
     },
     "execution_count": 8,
     "metadata": {},
     "output_type": "execute_result"
    }
   ],
   "source": [
    "year_col = price_vol['date'].map(lambda w: int(w[:4]))\n",
    "month_col = price_vol['date'].map(lambda w: int(w[5:7]))\n",
    "day_col = price_vol['date'].map(lambda w: int(w[8:10]))\n",
    "dow_col = price_vol['date'].map(lambda w: datetime.datetime.strptime(w, '%Y-%m-%d').weekday())\n",
    "\n",
    "price_vol.insert(3, 'dow', dow_col)\n",
    "price_vol.insert(4, 'day', day_col)\n",
    "price_vol.insert(5, 'month', month_col)\n",
    "price_vol.insert(6, 'year', year_col)\n",
    "\n",
    "price_vol.head()"
   ]
  },
  {
   "cell_type": "markdown",
   "metadata": {},
   "source": [
    "## Add Bid Ask Spreads"
   ]
  },
  {
   "cell_type": "code",
   "execution_count": 9,
   "metadata": {
    "collapsed": true
   },
   "outputs": [],
   "source": [
    "price_vol.insert(23, 'Open_BA_Spread', price_vol['Open Ask'] - price_vol['Open Bid'])\n",
    "price_vol.insert(24, 'Max_BA_Spread', price_vol['High Ask'] - price_vol['Low Bid'])\n",
    "price_vol.insert(25, 'Min_BA_Spread', price_vol['Low Ask'] - price_vol['High Bid'])\n",
    "price_vol.insert(26, 'Close_BA_Spread', price_vol['Close Ask'] - price_vol['Close Bid'])"
   ]
  },
  {
   "cell_type": "markdown",
   "metadata": {},
   "source": [
    "## Add Targets/Labels"
   ]
  },
  {
   "cell_type": "markdown",
   "metadata": {},
   "source": [
    "### Regression Targets"
   ]
  },
  {
   "cell_type": "code",
   "execution_count": 10,
   "metadata": {
    "collapsed": true
   },
   "outputs": [],
   "source": [
    "price_vol['gross_return'] = price_vol['Last'] / price_vol['Open']\n",
    "price_vol['net_return'] = price_vol['gross_return'] - 1\n",
    "price_vol['log_return'] = np.log(price_vol['gross_return'].astype('float64'))"
   ]
  },
  {
   "cell_type": "markdown",
   "metadata": {},
   "source": [
    "### Classification Labels"
   ]
  },
  {
   "cell_type": "code",
   "execution_count": 11,
   "metadata": {},
   "outputs": [
    {
     "name": "stderr",
     "output_type": "stream",
     "text": [
      "C:\\Program Files\\Anaconda3\\lib\\site-packages\\ipykernel\\__main__.py:1: RuntimeWarning: invalid value encountered in sign\n",
      "  if __name__ == '__main__':\n"
     ]
    }
   ],
   "source": [
    "price_vol['price_dir'] = np.sign(price_vol['net_return'])\n",
    "price_vol['long_bias_price_dir'] = price_vol['price_dir'].replace(to_replace=0.0, value=1.0) # replace sw label with up label"
   ]
  },
  {
   "cell_type": "code",
   "execution_count": 12,
   "metadata": {
    "collapsed": true
   },
   "outputs": [],
   "source": [
    "#price_vol_chopped[price_vol_chopped['price_dir'].shift(1)==0]['price_dir'].value_counts()"
   ]
  },
  {
   "cell_type": "markdown",
   "metadata": {},
   "source": [
    "## Dropping Rows and Columns"
   ]
  },
  {
   "cell_type": "markdown",
   "metadata": {},
   "source": [
    "### Drop Premarket and Postmarket Hours"
   ]
  },
  {
   "cell_type": "markdown",
   "metadata": {},
   "source": [
    "Most of the data is over nontrading hours (or pre/post market hours). This data needs to be dropped. Additionally, dropping the last hour (which is post market) may improve performance. Here we see most of the time premarket and postmarket trading shows no change or trading at all:"
   ]
  },
  {
   "cell_type": "code",
   "execution_count": 13,
   "metadata": {},
   "outputs": [
    {
     "name": "stdout",
     "output_type": "stream",
     "text": [
      "Before 8AM:\n"
     ]
    },
    {
     "data": {
      "text/plain": [
       "1.0    2\n",
       "0.0    1\n",
       "Name: price_dir, dtype: int64"
      ]
     },
     "execution_count": 13,
     "metadata": {},
     "output_type": "execute_result"
    }
   ],
   "source": [
    "print('Before 8AM:')\n",
    "price_vol[(price_vol['hour'] + price_vol['gmt_offset']) < 8]['price_dir'].value_counts()"
   ]
  },
  {
   "cell_type": "code",
   "execution_count": 14,
   "metadata": {},
   "outputs": [
    {
     "name": "stdout",
     "output_type": "stream",
     "text": [
      "After 3PM:\n"
     ]
    },
    {
     "data": {
      "text/plain": [
       " 0.0    874\n",
       "-1.0     14\n",
       " 1.0     10\n",
       "Name: price_dir, dtype: int64"
      ]
     },
     "execution_count": 14,
     "metadata": {},
     "output_type": "execute_result"
    }
   ],
   "source": [
    "print('After 3PM:')\n",
    "price_vol[(price_vol['hour'] + price_vol['gmt_offset']) > 15]['price_dir'].value_counts()"
   ]
  },
  {
   "cell_type": "code",
   "execution_count": 15,
   "metadata": {
    "collapsed": true
   },
   "outputs": [],
   "source": [
    "price_vol_chopped = price_vol.copy()\n",
    "price_vol_chopped = price_vol_chopped[(price_vol_chopped['hour'] + price_vol_chopped['gmt_offset']) > 7]  # Drop premarket\n",
    "price_vol_chopped = price_vol_chopped[(price_vol_chopped['hour'] + price_vol_chopped['gmt_offset']) < 16] # Drop postmarket"
   ]
  },
  {
   "cell_type": "markdown",
   "metadata": {},
   "source": [
    "### Drop all Other Nontrading Periods"
   ]
  },
  {
   "cell_type": "markdown",
   "metadata": {},
   "source": [
    "Drop weekends, holidays, early close trading days, etc:"
   ]
  },
  {
   "cell_type": "code",
   "execution_count": 16,
   "metadata": {
    "collapsed": true
   },
   "outputs": [],
   "source": [
    "price_vol_chopped.dropna(axis=0, how='any', subset=['Open', 'High', 'Low', 'Last'], inplace=True)"
   ]
  },
  {
   "cell_type": "markdown",
   "metadata": {},
   "source": [
    "### Drop Unneeded Columns"
   ]
  },
  {
   "cell_type": "code",
   "execution_count": 17,
   "metadata": {
    "collapsed": true
   },
   "outputs": [],
   "source": [
    "price_vol_chopped.drop('Volume', axis=1, inplace=True)\n",
    "price_vol_chopped.drop('No. Bids', axis=1, inplace=True)\n",
    "price_vol_chopped.drop('No. Asks', axis=1, inplace=True)\n",
    "price_vol_chopped.drop('No. Bids_' + vol_name, axis=1, inplace=True)\n",
    "price_vol_chopped.drop('No. Asks_' + vol_name, axis=1, inplace=True)"
   ]
  },
  {
   "cell_type": "code",
   "execution_count": 18,
   "metadata": {},
   "outputs": [
    {
     "data": {
      "text/plain": [
       "Index(['date', 'hour', 'gmt_offset', 'dow', 'day', 'month', 'year', 'Open',\n",
       "       'High', 'Low', 'Last', 'Ave. Price', 'No. Trades', 'Open Bid',\n",
       "       'High Bid', 'Low Bid', 'Close Bid', 'Open Ask', 'High Ask', 'Low Ask',\n",
       "       'Close Ask', 'Open_BA_Spread', 'Max_BA_Spread', 'Min_BA_Spread',\n",
       "       'Close_BA_Spread', 'Open_VIX', 'High_VIX', 'Low_VIX', 'Last_VIX',\n",
       "       'Ave. Price_VIX', 'No. Trades_VIX', 'gross_return', 'net_return',\n",
       "       'log_return', 'price_dir', 'long_bias_price_dir'],\n",
       "      dtype='object')"
      ]
     },
     "execution_count": 18,
     "metadata": {},
     "output_type": "execute_result"
    }
   ],
   "source": [
    "price_vol_chopped.columns"
   ]
  },
  {
   "cell_type": "markdown",
   "metadata": {},
   "source": [
    "## Front Fill Volatility Data"
   ]
  },
  {
   "cell_type": "markdown",
   "metadata": {},
   "source": [
    "Replace zeros with nans first:"
   ]
  },
  {
   "cell_type": "code",
   "execution_count": 19,
   "metadata": {
    "collapsed": true
   },
   "outputs": [],
   "source": [
    "price_vol_chopped['Open_VIX'].replace(to_replace=0.0, value=np.nan, inplace=True)\n",
    "price_vol_chopped['High_VIX'].replace(to_replace=0.0, value=np.nan, inplace=True)\n",
    "price_vol_chopped['Low_VIX'].replace(to_replace=0.0, value=np.nan, inplace=True)\n",
    "price_vol_chopped['Last_VIX'].replace(to_replace=0.0, value=np.nan, inplace=True)\n",
    "price_vol_chopped['Ave. Price_VIX'].replace(to_replace=0.0, value=np.nan, inplace=True)\n",
    "price_vol_chopped['No. Trades_VIX'].replace(to_replace=0.0, value=np.nan, inplace=True)"
   ]
  },
  {
   "cell_type": "markdown",
   "metadata": {},
   "source": [
    "Replace all nans with padded / frontfilled values"
   ]
  },
  {
   "cell_type": "code",
   "execution_count": 20,
   "metadata": {
    "collapsed": true
   },
   "outputs": [],
   "source": [
    "price_vol_chopped['Open_VIX'].fillna(method='ffill', inplace=True)\n",
    "price_vol_chopped['High_VIX'].fillna(method='ffill', inplace=True)\n",
    "price_vol_chopped['Low_VIX'].fillna(method='ffill', inplace=True)\n",
    "price_vol_chopped['Last_VIX'].fillna(method='ffill', inplace=True)\n",
    "price_vol_chopped['Ave. Price_VIX'].fillna(method='ffill', inplace=True)\n",
    "price_vol_chopped['No. Trades_VIX'].fillna(method='ffill', inplace=True)"
   ]
  },
  {
   "cell_type": "code",
   "execution_count": 21,
   "metadata": {
    "collapsed": true
   },
   "outputs": [],
   "source": [
    "assert(price_vol_chopped[price_vol_chopped['Open_VIX'] == 0.0]['Open_VIX'].empty)"
   ]
  },
  {
   "cell_type": "markdown",
   "metadata": {},
   "source": [
    "## Save Cleaned Data to File"
   ]
  },
  {
   "cell_type": "code",
   "execution_count": 22,
   "metadata": {
    "collapsed": true
   },
   "outputs": [],
   "source": [
    "price_vol_chopped.to_csv('./proc/' +asset_name +'-proc' +'.csv')"
   ]
  },
  {
   "cell_type": "code",
   "execution_count": 23,
   "metadata": {},
   "outputs": [
    {
     "data": {
      "text/plain": [
       "124"
      ]
     },
     "execution_count": 23,
     "metadata": {},
     "output_type": "execute_result"
    }
   ],
   "source": [
    "len(price_vol_chopped[price_vol_chopped['price_dir']==0.0])"
   ]
  },
  {
   "cell_type": "markdown",
   "metadata": {},
   "source": [
    "## Feature Extaction"
   ]
  },
  {
   "cell_type": "markdown",
   "metadata": {},
   "source": [
    "At this point we have the raw materials to transform our data into features more amenable to machine learning. We will transform the chosen time series into multiple moving averages. We'll also remove the gmt_offset column and add the is_dst feature column."
   ]
  },
  {
   "cell_type": "code",
   "execution_count": 24,
   "metadata": {
    "collapsed": true
   },
   "outputs": [],
   "source": [
    "feature_matrix = price_vol_chopped[['date', 'hour', 'gmt_offset', 'dow', 'day', 'month',  'Open', 'Open_BA_Spread', 'Open_VIX']]\n",
    "dst_offset = max(list(feature_matrix['gmt_offset'].unique()))\n",
    "is_dst = feature_matrix['gmt_offset'].map(lambda offset: (offset == dst_offset) * 1)\n",
    "feature_matrix.insert(2, 'is_dst', is_dst)\n",
    "feature_matrix = feature_matrix.drop('gmt_offset', axis=1)"
   ]
  },
  {
   "cell_type": "code",
   "execution_count": 25,
   "metadata": {
    "collapsed": true
   },
   "outputs": [],
   "source": [
    "# Open based series do not need to be shifted forward (we have access to them at decision time)\n",
    "ma_features = ['Open', 'Open_BA_Spread', 'Open_VIX']\n",
    "\n",
    "# These need to be shifted because we don't have them at decision time\n",
    "ma_shift_features = ['High', 'Low', 'Last', 'Ave. Price', 'No. Trades', 'Max_BA_Spread', 'Min_BA_Spread', 'Close_BA_Spread',\n",
    "                     'High_VIX', 'Low_VIX', 'Last_VIX', 'Ave. Price_VIX', 'No. Trades_VIX', 'net_return', 'log_return',\n",
    "                     'price_dir']\n",
    "\n",
    "for ma_period in [2, 4, 8, 16, 40, 80, 160, 240]:\n",
    "    sfx = '_' +str(ma_period) +'h_MA'\n",
    "    ma = price_vol_chopped[ma_features].rolling(window=ma_period, min_periods=1, win_type='boxcar').mean().add_suffix(sfx)\n",
    "    ma_shift = price_vol_chopped[ma_shift_features].rolling(window=ma_period, min_periods=1, win_type='boxcar').mean().shift(1).add_suffix(sfx)\n",
    "\n",
    "    feature_matrix = feature_matrix.merge(ma, how='left', left_index=True, right_index=True)\n",
    "    feature_matrix = feature_matrix.merge(ma_shift, how='left', left_index=True, right_index=True)"
   ]
  },
  {
   "cell_type": "markdown",
   "metadata": {},
   "source": [
    "### Add Label Data"
   ]
  },
  {
   "cell_type": "code",
   "execution_count": 26,
   "metadata": {
    "collapsed": true
   },
   "outputs": [],
   "source": [
    "feature_matrix = feature_matrix.merge(price_vol_chopped[['net_return', 'log_return', 'price_dir', 'long_bias_price_dir']],\n",
    "                                      how='left', left_index=True, right_index=True)"
   ]
  },
  {
   "cell_type": "markdown",
   "metadata": {},
   "source": [
    "### Drop Data Before 8/2/1999"
   ]
  },
  {
   "cell_type": "markdown",
   "metadata": {},
   "source": [
    "Bid/Ask data is not available before 7/2/1999 (at least for the S&P 500). We have to drop all rows a month from when we have this data because our longest moving average period is 240 hours (one month):"
   ]
  },
  {
   "cell_type": "code",
   "execution_count": 27,
   "metadata": {
    "collapsed": true
   },
   "outputs": [],
   "source": [
    "feature_matrix = feature_matrix[feature_matrix['date'] > '1999-08-01']"
   ]
  },
  {
   "cell_type": "markdown",
   "metadata": {},
   "source": [
    "## Save Final Feature Matrix to File"
   ]
  },
  {
   "cell_type": "code",
   "execution_count": 28,
   "metadata": {
    "collapsed": true
   },
   "outputs": [],
   "source": [
    "feature_matrix.to_csv('./feat/' +asset_name +'-feat' +'.csv')"
   ]
  },
  {
   "cell_type": "code",
   "execution_count": null,
   "metadata": {
    "collapsed": true
   },
   "outputs": [],
   "source": []
  }
 ],
 "metadata": {
  "anaconda-cloud": {},
  "kernelspec": {
   "display_name": "Python 3",
   "language": "python",
   "name": "python3"
  },
  "language_info": {
   "codemirror_mode": {
    "name": "ipython",
    "version": 3
   },
   "file_extension": ".py",
   "mimetype": "text/x-python",
   "name": "python",
   "nbconvert_exporter": "python",
   "pygments_lexer": "ipython3",
   "version": "3.6.3"
  }
 },
 "nbformat": 4,
 "nbformat_minor": 1
}
