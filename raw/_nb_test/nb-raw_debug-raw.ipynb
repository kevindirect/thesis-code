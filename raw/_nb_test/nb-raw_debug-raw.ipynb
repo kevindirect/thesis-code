{
 "cells": [
  {
   "cell_type": "code",
   "execution_count": 1,
   "metadata": {},
   "outputs": [
    {
     "name": "stderr",
     "output_type": "stream",
     "text": [
      "CRITICAL:root:script location: /home/kev/crunch/mutate/pattern_eda.ipynb\n",
      "CRITICAL:root:using project dir: /home/kev/crunch/\n"
     ]
    }
   ],
   "source": [
    "import sys\n",
    "import os\n",
    "from os import sep\n",
    "from os.path import dirname, realpath\n",
    "from pathlib import Path\n",
    "from itertools import product\n",
    "import logging\n",
    "\n",
    "def get_cwd(fname, subdir, crunch_dir=realpath(Path.home()) +sep +'crunch' +sep):\n",
    "    \"\"\"\n",
    "    Convenience function to make a directory string for the current file based on inputs.\n",
    "    Jupyter Notebook in Anaconda invokes the Python interpreter in Anaconda's subdirectory\n",
    "    which sis why changing sys.argv[0] is necessary. In the future a better way to do this\n",
    "    should be preferred..\n",
    "    \"\"\"\n",
    "    return crunch_dir +subdir +fname\n",
    "\n",
    "def fix_path(cwd):\n",
    "    \"\"\"\n",
    "    Convenience function to fix argv and python path so that jupyter notebook can run the same as\n",
    "    any script in crunch.\n",
    "    \"\"\"\n",
    "    sys.argv[0] = cwd\n",
    "    module_path = os.path.abspath(os.path.join('..'))\n",
    "    if module_path not in sys.path:\n",
    "        sys.path.append(module_path)\n",
    "\n",
    "fix_path(get_cwd('pattern_eda.ipynb', 'mutate' +sep))\n",
    "\n",
    "import numpy as np\n",
    "import pandas as pd\n",
    "import matplotlib.pyplot as plt\n",
    "from numba import jit, vectorize, float64, uint\n",
    "# from tslearn.preprocessing import TimeSeriesScalerMeanVariance\n",
    "# from tslearn.piecewise import PiecewiseAggregateApproximation\n",
    "# from tslearn.piecewise import SymbolicAggregateApproximation, OneD_SymbolicAggregateApproximation\n",
    "from scipy.stats import zscore\n",
    "from sortedcontainers import SortedList, SortedSet \n",
    "\n",
    "from ipywidgets import interact, interactive, fixed\n",
    "from IPython.display import display\n",
    "\n",
    "pd.set_option(\"display.max_rows\", 200)\n",
    "pd.set_option('display.max_columns', 50)\n",
    "\n",
    "from common_util import RAW_DIR, DT_HOURLY_FREQ, DT_CAL_DAILY_FREQ, DT_BIZ_DAILY_FREQ, df_rows_in_year, get_custom_biz_freq, get_custom_biz_freq_df, query_df, search_df, chained_filter, benchmark\n",
    "from common_util import MUTATE_DIR, load_df, load_json, outer_join, left_join, count_nn_df, count_nz_df, count_nn_nz_df, pairwise, cust_count, list_get_dict, get_time_mask\n",
    "from data.data_api import DataAPI\n",
    "from raw.common import default_row_masksfile\n",
    "from recon.viz import *\n",
    "DataAPI.__init__()\n",
    "logging.basicConfig(stream=sys.stdout, level=logging.DEBUG)"
   ]
  },
  {
   "cell_type": "markdown",
   "metadata": {},
   "source": [
    "## Load Data"
   ]
  },
  {
   "cell_type": "markdown",
   "metadata": {},
   "source": [
    "### RAW"
   ]
  },
  {
   "cell_type": "code",
   "execution_count": 2,
   "metadata": {},
   "outputs": [
    {
     "name": "stderr",
     "output_type": "stream",
     "text": [
      "/home/kev/miniconda3/lib/python3.7/site-packages/pyarrow/pandas_compat.py:708: FutureWarning: .labels was deprecated in version 0.24.0. Use .codes instead.\n",
      "  labels = getattr(columns, 'labels', None) or [\n",
      "/home/kev/miniconda3/lib/python3.7/site-packages/pyarrow/pandas_compat.py:735: FutureWarning: the 'labels' keyword is deprecated, use 'codes' instead\n",
      "  return pd.MultiIndex(levels=new_levels, labels=labels, names=columns.names)\n",
      "/home/kev/miniconda3/lib/python3.7/site-packages/pyarrow/pandas_compat.py:752: FutureWarning: .labels was deprecated in version 0.24.0. Use .codes instead.\n",
      "  labels, = index.labels\n"
     ]
    }
   ],
   "source": [
    "VOL_DIR = RAW_DIR +'vol/'\n",
    "PRICE_DIR = RAW_DIR +'price/'\n",
    "\n",
    "SPX = load_df(PRICE_DIR +'SPX.parquet')\n",
    "RUT = load_df(PRICE_DIR +'RUT.parquet')\n",
    "NDX = load_df(PRICE_DIR +'NDX.parquet')\n",
    "DJI = load_df(PRICE_DIR +'DJI.parquet')\n",
    "VIX = load_df(VOL_DIR +'VIX.parquet')\n",
    "RVX = load_df(VOL_DIR +'RVX.parquet')\n",
    "VXN = load_df(VOL_DIR +'VXN.parquet')\n",
    "DVX = load_df(VOL_DIR +'VXD.parquet')"
   ]
  },
  {
   "cell_type": "code",
   "execution_count": 3,
   "metadata": {},
   "outputs": [],
   "source": [
    "pba = {\n",
    "    'sp_500': SPX,\n",
    "    'russell_2000': RUT,\n",
    "    'dow_jones': DJI,\n",
    "    'nasdaq_100': NDX,    \n",
    "}\n",
    "vol = {\n",
    "    'sp_500': VIX,\n",
    "    'russell_2000': RVX,\n",
    "    'dow_jones': DVX,\n",
    "    'nasdaq_100': VXN,    \n",
    "}"
   ]
  },
  {
   "cell_type": "code",
   "execution_count": 4,
   "metadata": {},
   "outputs": [
    {
     "data": {
      "text/plain": [
       "id\n",
       "1996-01-02 14:00   -6\n",
       "1996-01-02 15:00   -6\n",
       "1996-01-02 16:00   -6\n",
       "1996-01-02 17:00   -6\n",
       "1996-01-02 18:00   -6\n",
       "                   ..\n",
       "2018-01-08 17:00   -6\n",
       "2018-01-08 18:00   -6\n",
       "2018-01-08 19:00   -6\n",
       "2018-01-08 20:00   -6\n",
       "2018-01-08 21:00   -6\n",
       "Name: pba_gmtOffset, Length: 44804, dtype: int64"
      ]
     },
     "execution_count": 4,
     "metadata": {},
     "output_type": "execute_result"
    }
   ],
   "source": [
    "pba['sp_500']['pba_gmtOffset']"
   ]
  },
  {
   "cell_type": "code",
   "execution_count": 5,
   "metadata": {},
   "outputs": [
    {
     "data": {
      "text/plain": [
       "id\n",
       "1996-01-02 14:00   -6\n",
       "1996-01-02 15:00   -6\n",
       "1996-01-02 16:00   -6\n",
       "1996-01-02 17:00   -6\n",
       "1996-01-02 18:00   -6\n",
       "                   ..\n",
       "2018-01-08 17:00   -5\n",
       "2018-01-08 18:00   -5\n",
       "2018-01-08 19:00   -5\n",
       "2018-01-08 20:00   -5\n",
       "2018-01-08 21:00   -5\n",
       "Name: pba_gmtOffset, Length: 46054, dtype: int64"
      ]
     },
     "execution_count": 5,
     "metadata": {},
     "output_type": "execute_result"
    }
   ],
   "source": [
    "pba['russell_2000']['pba_gmtOffset']"
   ]
  },
  {
   "cell_type": "code",
   "execution_count": 6,
   "metadata": {},
   "outputs": [
    {
     "data": {
      "text/plain": [
       "id\n",
       "1996-01-02 14:00   -5\n",
       "1996-01-02 15:00   -5\n",
       "1996-01-02 16:00   -5\n",
       "1996-01-02 17:00   -5\n",
       "1996-01-02 18:00   -5\n",
       "                   ..\n",
       "2018-01-08 17:00   -5\n",
       "2018-01-08 18:00   -5\n",
       "2018-01-08 19:00   -5\n",
       "2018-01-08 20:00   -5\n",
       "2018-01-08 21:00   -5\n",
       "Name: pba_gmtOffset, Length: 45095, dtype: int64"
      ]
     },
     "execution_count": 6,
     "metadata": {},
     "output_type": "execute_result"
    }
   ],
   "source": [
    "pba['dow_jones']['pba_gmtOffset']"
   ]
  },
  {
   "cell_type": "code",
   "execution_count": 7,
   "metadata": {},
   "outputs": [
    {
     "data": {
      "text/plain": [
       "id\n",
       "1996-01-02 14:00   -5\n",
       "1996-01-02 15:00   -5\n",
       "1996-01-02 16:00   -5\n",
       "1996-01-02 17:00   -5\n",
       "1996-01-02 18:00   -5\n",
       "                   ..\n",
       "2018-01-08 18:00   -5\n",
       "2018-01-08 19:00   -5\n",
       "2018-01-08 20:00   -5\n",
       "2018-01-08 21:00   -5\n",
       "2018-01-08 22:00   -5\n",
       "Name: pba_gmtOffset, Length: 48000, dtype: int64"
      ]
     },
     "execution_count": 7,
     "metadata": {},
     "output_type": "execute_result"
    }
   ],
   "source": [
    "pba['nasdaq_100']['pba_gmtOffset']"
   ]
  },
  {
   "cell_type": "code",
   "execution_count": 8,
   "metadata": {},
   "outputs": [],
   "source": [
    "def get_local_dti(dti, dest_tz='US/Eastern'):\n",
    "    conv_dti = dti.tz_convert(dest_tz)\n",
    "    return conv_dti"
   ]
  },
  {
   "cell_type": "code",
   "execution_count": 9,
   "metadata": {},
   "outputs": [
    {
     "ename": "NameError",
     "evalue": "name 'root_dfs' is not defined",
     "output_type": "error",
     "traceback": [
      "\u001b[0;31m---------------------------------------------------------------------------\u001b[0m",
      "\u001b[0;31mNameError\u001b[0m                                 Traceback (most recent call last)",
      "\u001b[0;32m<ipython-input-9-3687279c4f62>\u001b[0m in \u001b[0;36m<module>\u001b[0;34m\u001b[0m\n\u001b[1;32m      1\u001b[0m \u001b[0mass\u001b[0m \u001b[0;34m=\u001b[0m \u001b[0;34m'nasdaq_100'\u001b[0m\u001b[0;34m\u001b[0m\u001b[0;34m\u001b[0m\u001b[0m\n\u001b[0;32m----> 2\u001b[0;31m \u001b[0mex\u001b[0m \u001b[0;34m=\u001b[0m \u001b[0mdf_rows_in_year\u001b[0m\u001b[0;34m(\u001b[0m\u001b[0mroot_dfs\u001b[0m\u001b[0;34m[\u001b[0m\u001b[0;34m[\u001b[0m\u001b[0mass\u001b[0m\u001b[0;34m,\u001b[0m \u001b[0;34m'root'\u001b[0m\u001b[0;34m,\u001b[0m \u001b[0;34m'root_split_ohlca'\u001b[0m\u001b[0;34m,\u001b[0m \u001b[0;34m'join'\u001b[0m\u001b[0;34m,\u001b[0m \u001b[0;34m'pba'\u001b[0m\u001b[0;34m]\u001b[0m\u001b[0;34m]\u001b[0m\u001b[0;34m)\u001b[0m\u001b[0;34m.\u001b[0m\u001b[0mdropna\u001b[0m\u001b[0;34m(\u001b[0m\u001b[0mhow\u001b[0m\u001b[0;34m=\u001b[0m\u001b[0;34m'all'\u001b[0m\u001b[0;34m)\u001b[0m\u001b[0;34m\u001b[0m\u001b[0;34m\u001b[0m\u001b[0m\n\u001b[0m\u001b[1;32m      3\u001b[0m \u001b[0morig\u001b[0m \u001b[0;34m=\u001b[0m \u001b[0mex\u001b[0m\u001b[0;34m.\u001b[0m\u001b[0mindex\u001b[0m\u001b[0;34m\u001b[0m\u001b[0;34m\u001b[0m\u001b[0m\n\u001b[1;32m      4\u001b[0m \u001b[0mlocal\u001b[0m \u001b[0;34m=\u001b[0m \u001b[0mget_local_dti\u001b[0m\u001b[0;34m(\u001b[0m\u001b[0mex\u001b[0m\u001b[0;34m.\u001b[0m\u001b[0mindex\u001b[0m\u001b[0;34m)\u001b[0m\u001b[0;34m\u001b[0m\u001b[0;34m\u001b[0m\u001b[0m\n\u001b[1;32m      5\u001b[0m \u001b[0mdisplay\u001b[0m\u001b[0;34m(\u001b[0m\u001b[0morig\u001b[0m\u001b[0;34m)\u001b[0m\u001b[0;34m\u001b[0m\u001b[0;34m\u001b[0m\u001b[0m\n",
      "\u001b[0;31mNameError\u001b[0m: name 'root_dfs' is not defined"
     ]
    }
   ],
   "source": [
    "ass = 'nasdaq_100'\n",
    "ex = df_rows_in_year(root_dfs[[ass, 'root', 'root_split_ohlca', 'join', 'pba']]).dropna(how='all')\n",
    "orig = ex.index\n",
    "local = get_local_dti(ex.index)\n",
    "display(orig)\n",
    "display(local)"
   ]
  },
  {
   "cell_type": "markdown",
   "metadata": {},
   "source": [
    "### ROOT"
   ]
  },
  {
   "cell_type": "code",
   "execution_count": 10,
   "metadata": {},
   "outputs": [
    {
     "name": "stderr",
     "output_type": "stream",
     "text": [
      "/home/kev/miniconda3/lib/python3.7/site-packages/pyarrow/pandas_compat.py:708: FutureWarning: .labels was deprecated in version 0.24.0. Use .codes instead.\n",
      "  labels = getattr(columns, 'labels', None) or [\n",
      "/home/kev/miniconda3/lib/python3.7/site-packages/pyarrow/pandas_compat.py:735: FutureWarning: the 'labels' keyword is deprecated, use 'codes' instead\n",
      "  return pd.MultiIndex(levels=new_levels, labels=labels, names=columns.names)\n",
      "/home/kev/miniconda3/lib/python3.7/site-packages/pyarrow/pandas_compat.py:752: FutureWarning: .labels was deprecated in version 0.24.0. Use .codes instead.\n",
      "  labels, = index.labels\n"
     ]
    }
   ],
   "source": [
    "root_rcs, root_dfs = DataAPI.axe_load(['root', 'root_split_ohlca'])\n",
    "hrm_rcs, hrm_dfs = DataAPI.axe_load(['hrm', 'hrm'], lazy=False)"
   ]
  },
  {
   "cell_type": "markdown",
   "metadata": {},
   "source": [
    "## VIEW"
   ]
  },
  {
   "cell_type": "code",
   "execution_count": 13,
   "metadata": {},
   "outputs": [],
   "source": [
    "day = '2009-01-02'\n",
    "dayl = ('{} 00:00'.format(day), '{} 23:00'.format(day))\n",
    "ass = 'nasdaq_100'\n",
    "raw_pba = pba[ass]\n",
    "raw_vol = vol[ass]"
   ]
  },
  {
   "cell_type": "code",
   "execution_count": 15,
   "metadata": {},
   "outputs": [
    {
     "data": {
      "text/html": [
       "<div>\n",
       "<style scoped>\n",
       "    .dataframe tbody tr th:only-of-type {\n",
       "        vertical-align: middle;\n",
       "    }\n",
       "\n",
       "    .dataframe tbody tr th {\n",
       "        vertical-align: top;\n",
       "    }\n",
       "\n",
       "    .dataframe thead th {\n",
       "        text-align: right;\n",
       "    }\n",
       "</style>\n",
       "<table border=\"1\" class=\"dataframe\">\n",
       "  <thead>\n",
       "    <tr style=\"text-align: right;\">\n",
       "      <th></th>\n",
       "      <th>pba_gmtOffset</th>\n",
       "      <th>pba_open</th>\n",
       "      <th>pba_high</th>\n",
       "      <th>pba_low</th>\n",
       "      <th>pba_close</th>\n",
       "      <th>pba_volume</th>\n",
       "      <th>pba_avgPrice</th>\n",
       "      <th>pba_numTrades</th>\n",
       "    </tr>\n",
       "    <tr>\n",
       "      <th>id</th>\n",
       "      <th></th>\n",
       "      <th></th>\n",
       "      <th></th>\n",
       "      <th></th>\n",
       "      <th></th>\n",
       "      <th></th>\n",
       "      <th></th>\n",
       "      <th></th>\n",
       "    </tr>\n",
       "  </thead>\n",
       "  <tbody>\n",
       "    <tr>\n",
       "      <td>2009-01-02 14:00</td>\n",
       "      <td>-5</td>\n",
       "      <td>1212.74</td>\n",
       "      <td>1216.37</td>\n",
       "      <td>1209.11</td>\n",
       "      <td>1212.33</td>\n",
       "      <td>21176743.0</td>\n",
       "      <td>1213.0478</td>\n",
       "      <td>238.0</td>\n",
       "    </tr>\n",
       "    <tr>\n",
       "      <td>2009-01-02 15:00</td>\n",
       "      <td>-5</td>\n",
       "      <td>1212.28</td>\n",
       "      <td>1235.19</td>\n",
       "      <td>1211.26</td>\n",
       "      <td>1234.67</td>\n",
       "      <td>52785444.0</td>\n",
       "      <td>1223.1257</td>\n",
       "      <td>480.0</td>\n",
       "    </tr>\n",
       "    <tr>\n",
       "      <td>2009-01-02 16:00</td>\n",
       "      <td>-5</td>\n",
       "      <td>1234.32</td>\n",
       "      <td>1238.97</td>\n",
       "      <td>1231.04</td>\n",
       "      <td>1237.50</td>\n",
       "      <td>78312080.0</td>\n",
       "      <td>1235.3515</td>\n",
       "      <td>479.0</td>\n",
       "    </tr>\n",
       "    <tr>\n",
       "      <td>2009-01-02 17:00</td>\n",
       "      <td>-5</td>\n",
       "      <td>1237.50</td>\n",
       "      <td>1246.66</td>\n",
       "      <td>1236.43</td>\n",
       "      <td>1244.09</td>\n",
       "      <td>99656952.0</td>\n",
       "      <td>1241.2140</td>\n",
       "      <td>479.0</td>\n",
       "    </tr>\n",
       "    <tr>\n",
       "      <td>2009-01-02 18:00</td>\n",
       "      <td>-5</td>\n",
       "      <td>1244.19</td>\n",
       "      <td>1252.06</td>\n",
       "      <td>1243.47</td>\n",
       "      <td>1249.79</td>\n",
       "      <td>120485908.0</td>\n",
       "      <td>1247.8010</td>\n",
       "      <td>480.0</td>\n",
       "    </tr>\n",
       "    <tr>\n",
       "      <td>2009-01-02 19:00</td>\n",
       "      <td>-5</td>\n",
       "      <td>1249.89</td>\n",
       "      <td>1257.75</td>\n",
       "      <td>1247.29</td>\n",
       "      <td>1255.47</td>\n",
       "      <td>149263332.0</td>\n",
       "      <td>1252.7755</td>\n",
       "      <td>478.0</td>\n",
       "    </tr>\n",
       "    <tr>\n",
       "      <td>2009-01-02 20:00</td>\n",
       "      <td>-5</td>\n",
       "      <td>1255.58</td>\n",
       "      <td>1266.44</td>\n",
       "      <td>1255.58</td>\n",
       "      <td>1261.18</td>\n",
       "      <td>213983391.0</td>\n",
       "      <td>1259.6859</td>\n",
       "      <td>480.0</td>\n",
       "    </tr>\n",
       "    <tr>\n",
       "      <td>2009-01-02 21:00</td>\n",
       "      <td>-5</td>\n",
       "      <td>1263.70</td>\n",
       "      <td>1263.70</td>\n",
       "      <td>1263.70</td>\n",
       "      <td>1263.70</td>\n",
       "      <td>248546028.0</td>\n",
       "      <td>1263.7000</td>\n",
       "      <td>478.0</td>\n",
       "    </tr>\n",
       "  </tbody>\n",
       "</table>\n",
       "</div>"
      ],
      "text/plain": [
       "                  pba_gmtOffset  pba_open  pba_high  pba_low  pba_close  \\\n",
       "id                                                                        \n",
       "2009-01-02 14:00             -5   1212.74   1216.37  1209.11    1212.33   \n",
       "2009-01-02 15:00             -5   1212.28   1235.19  1211.26    1234.67   \n",
       "2009-01-02 16:00             -5   1234.32   1238.97  1231.04    1237.50   \n",
       "2009-01-02 17:00             -5   1237.50   1246.66  1236.43    1244.09   \n",
       "2009-01-02 18:00             -5   1244.19   1252.06  1243.47    1249.79   \n",
       "2009-01-02 19:00             -5   1249.89   1257.75  1247.29    1255.47   \n",
       "2009-01-02 20:00             -5   1255.58   1266.44  1255.58    1261.18   \n",
       "2009-01-02 21:00             -5   1263.70   1263.70  1263.70    1263.70   \n",
       "\n",
       "                   pba_volume  pba_avgPrice  pba_numTrades  \n",
       "id                                                          \n",
       "2009-01-02 14:00   21176743.0     1213.0478          238.0  \n",
       "2009-01-02 15:00   52785444.0     1223.1257          480.0  \n",
       "2009-01-02 16:00   78312080.0     1235.3515          479.0  \n",
       "2009-01-02 17:00   99656952.0     1241.2140          479.0  \n",
       "2009-01-02 18:00  120485908.0     1247.8010          480.0  \n",
       "2009-01-02 19:00  149263332.0     1252.7755          478.0  \n",
       "2009-01-02 20:00  213983391.0     1259.6859          480.0  \n",
       "2009-01-02 21:00  248546028.0     1263.7000          478.0  "
      ]
     },
     "execution_count": 15,
     "metadata": {},
     "output_type": "execute_result"
    }
   ],
   "source": [
    "raw_pba.loc[dayl[0]: dayl[1]].dropna()"
   ]
  },
  {
   "cell_type": "code",
   "execution_count": 16,
   "metadata": {},
   "outputs": [
    {
     "data": {
      "text/html": [
       "<div>\n",
       "<style scoped>\n",
       "    .dataframe tbody tr th:only-of-type {\n",
       "        vertical-align: middle;\n",
       "    }\n",
       "\n",
       "    .dataframe tbody tr th {\n",
       "        vertical-align: top;\n",
       "    }\n",
       "\n",
       "    .dataframe thead th {\n",
       "        text-align: right;\n",
       "    }\n",
       "</style>\n",
       "<table border=\"1\" class=\"dataframe\">\n",
       "  <thead>\n",
       "    <tr style=\"text-align: right;\">\n",
       "      <th></th>\n",
       "      <th>pba_open</th>\n",
       "      <th>pba_high</th>\n",
       "      <th>pba_low</th>\n",
       "      <th>pba_close</th>\n",
       "      <th>pba_avgPrice</th>\n",
       "    </tr>\n",
       "    <tr>\n",
       "      <th>id</th>\n",
       "      <th></th>\n",
       "      <th></th>\n",
       "      <th></th>\n",
       "      <th></th>\n",
       "      <th></th>\n",
       "    </tr>\n",
       "  </thead>\n",
       "  <tbody>\n",
       "    <tr>\n",
       "      <td>2009-01-02 14:00:00+00:00</td>\n",
       "      <td>1212.74</td>\n",
       "      <td>1216.37</td>\n",
       "      <td>1209.11</td>\n",
       "      <td>1212.33</td>\n",
       "      <td>1213.0478</td>\n",
       "    </tr>\n",
       "    <tr>\n",
       "      <td>2009-01-02 15:00:00+00:00</td>\n",
       "      <td>1212.28</td>\n",
       "      <td>1235.19</td>\n",
       "      <td>1211.26</td>\n",
       "      <td>1234.67</td>\n",
       "      <td>1223.1257</td>\n",
       "    </tr>\n",
       "    <tr>\n",
       "      <td>2009-01-02 16:00:00+00:00</td>\n",
       "      <td>1234.32</td>\n",
       "      <td>1238.97</td>\n",
       "      <td>1231.04</td>\n",
       "      <td>1237.50</td>\n",
       "      <td>1235.3515</td>\n",
       "    </tr>\n",
       "    <tr>\n",
       "      <td>2009-01-02 17:00:00+00:00</td>\n",
       "      <td>1237.50</td>\n",
       "      <td>1246.66</td>\n",
       "      <td>1236.43</td>\n",
       "      <td>1244.09</td>\n",
       "      <td>1241.2140</td>\n",
       "    </tr>\n",
       "    <tr>\n",
       "      <td>2009-01-02 18:00:00+00:00</td>\n",
       "      <td>1244.19</td>\n",
       "      <td>1252.06</td>\n",
       "      <td>1243.47</td>\n",
       "      <td>1249.79</td>\n",
       "      <td>1247.8010</td>\n",
       "    </tr>\n",
       "    <tr>\n",
       "      <td>2009-01-02 19:00:00+00:00</td>\n",
       "      <td>1249.89</td>\n",
       "      <td>1257.75</td>\n",
       "      <td>1247.29</td>\n",
       "      <td>1255.47</td>\n",
       "      <td>1252.7755</td>\n",
       "    </tr>\n",
       "    <tr>\n",
       "      <td>2009-01-02 20:00:00+00:00</td>\n",
       "      <td>1255.58</td>\n",
       "      <td>1266.44</td>\n",
       "      <td>1255.58</td>\n",
       "      <td>1261.18</td>\n",
       "      <td>1259.6859</td>\n",
       "    </tr>\n",
       "  </tbody>\n",
       "</table>\n",
       "</div>"
      ],
      "text/plain": [
       "                           pba_open  pba_high  pba_low  pba_close  \\\n",
       "id                                                                  \n",
       "2009-01-02 14:00:00+00:00   1212.74   1216.37  1209.11    1212.33   \n",
       "2009-01-02 15:00:00+00:00   1212.28   1235.19  1211.26    1234.67   \n",
       "2009-01-02 16:00:00+00:00   1234.32   1238.97  1231.04    1237.50   \n",
       "2009-01-02 17:00:00+00:00   1237.50   1246.66  1236.43    1244.09   \n",
       "2009-01-02 18:00:00+00:00   1244.19   1252.06  1243.47    1249.79   \n",
       "2009-01-02 19:00:00+00:00   1249.89   1257.75  1247.29    1255.47   \n",
       "2009-01-02 20:00:00+00:00   1255.58   1266.44  1255.58    1261.18   \n",
       "\n",
       "                           pba_avgPrice  \n",
       "id                                       \n",
       "2009-01-02 14:00:00+00:00     1213.0478  \n",
       "2009-01-02 15:00:00+00:00     1223.1257  \n",
       "2009-01-02 16:00:00+00:00     1235.3515  \n",
       "2009-01-02 17:00:00+00:00     1241.2140  \n",
       "2009-01-02 18:00:00+00:00     1247.8010  \n",
       "2009-01-02 19:00:00+00:00     1252.7755  \n",
       "2009-01-02 20:00:00+00:00     1259.6859  "
      ]
     },
     "execution_count": 16,
     "metadata": {},
     "output_type": "execute_result"
    }
   ],
   "source": [
    "root_dfs[[ass, 'root', 'root_split_ohlca', 'join', 'pba']].loc[dayl[0]: dayl[1]].dropna()"
   ]
  },
  {
   "cell_type": "code",
   "execution_count": 27,
   "metadata": {},
   "outputs": [
    {
     "data": {
      "text/html": [
       "<div>\n",
       "<style scoped>\n",
       "    .dataframe tbody tr th:only-of-type {\n",
       "        vertical-align: middle;\n",
       "    }\n",
       "\n",
       "    .dataframe tbody tr th {\n",
       "        vertical-align: top;\n",
       "    }\n",
       "\n",
       "    .dataframe thead th {\n",
       "        text-align: right;\n",
       "    }\n",
       "</style>\n",
       "<table border=\"1\" class=\"dataframe\">\n",
       "  <thead>\n",
       "    <tr style=\"text-align: right;\">\n",
       "      <th></th>\n",
       "      <th>times</th>\n",
       "    </tr>\n",
       "    <tr>\n",
       "      <th>id</th>\n",
       "      <th></th>\n",
       "    </tr>\n",
       "  </thead>\n",
       "  <tbody>\n",
       "    <tr>\n",
       "      <td>2009-01-02 14:00:00+00:00</td>\n",
       "      <td>2009-01-02 09:00:00+00:00</td>\n",
       "    </tr>\n",
       "    <tr>\n",
       "      <td>2009-01-02 15:00:00+00:00</td>\n",
       "      <td>2009-01-02 10:00:00+00:00</td>\n",
       "    </tr>\n",
       "    <tr>\n",
       "      <td>2009-01-02 16:00:00+00:00</td>\n",
       "      <td>2009-01-02 11:00:00+00:00</td>\n",
       "    </tr>\n",
       "    <tr>\n",
       "      <td>2009-01-02 17:00:00+00:00</td>\n",
       "      <td>2009-01-02 12:00:00+00:00</td>\n",
       "    </tr>\n",
       "    <tr>\n",
       "      <td>2009-01-02 18:00:00+00:00</td>\n",
       "      <td>2009-01-02 13:00:00+00:00</td>\n",
       "    </tr>\n",
       "    <tr>\n",
       "      <td>2009-01-02 19:00:00+00:00</td>\n",
       "      <td>2009-01-02 14:00:00+00:00</td>\n",
       "    </tr>\n",
       "    <tr>\n",
       "      <td>2009-01-02 20:00:00+00:00</td>\n",
       "      <td>2009-01-02 15:00:00+00:00</td>\n",
       "    </tr>\n",
       "    <tr>\n",
       "      <td>2009-01-02 21:00:00+00:00</td>\n",
       "      <td>2009-01-02 16:00:00+00:00</td>\n",
       "    </tr>\n",
       "  </tbody>\n",
       "</table>\n",
       "</div>"
      ],
      "text/plain": [
       "                                              times\n",
       "id                                                 \n",
       "2009-01-02 14:00:00+00:00 2009-01-02 09:00:00+00:00\n",
       "2009-01-02 15:00:00+00:00 2009-01-02 10:00:00+00:00\n",
       "2009-01-02 16:00:00+00:00 2009-01-02 11:00:00+00:00\n",
       "2009-01-02 17:00:00+00:00 2009-01-02 12:00:00+00:00\n",
       "2009-01-02 18:00:00+00:00 2009-01-02 13:00:00+00:00\n",
       "2009-01-02 19:00:00+00:00 2009-01-02 14:00:00+00:00\n",
       "2009-01-02 20:00:00+00:00 2009-01-02 15:00:00+00:00\n",
       "2009-01-02 21:00:00+00:00 2009-01-02 16:00:00+00:00"
      ]
     },
     "execution_count": 27,
     "metadata": {},
     "output_type": "execute_result"
    }
   ],
   "source": [
    "hrm_dfs[[ass, 'hrm', 'hrm', 'pba', 'pba']].loc[dayl[0]: dayl[1]].dropna()"
   ]
  },
  {
   "cell_type": "code",
   "execution_count": null,
   "metadata": {},
   "outputs": [],
   "source": []
  }
 ],
 "metadata": {
  "kernelspec": {
   "display_name": "Python 3",
   "language": "python",
   "name": "python3"
  },
  "language_info": {
   "codemirror_mode": {
    "name": "ipython",
    "version": 3
   },
   "file_extension": ".py",
   "mimetype": "text/x-python",
   "name": "python",
   "nbconvert_exporter": "python",
   "pygments_lexer": "ipython3",
   "version": "3.7.4"
  }
 },
 "nbformat": 4,
 "nbformat_minor": 2
}
