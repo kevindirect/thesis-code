{
 "cells": [
  {
   "cell_type": "code",
   "execution_count": 1,
   "metadata": {},
   "outputs": [
    {
     "name": "stderr",
     "output_type": "stream",
     "text": [
      "CRITICAL:root:script location: /home/kev/crunch/mutate/pattern_eda.ipynb\n",
      "CRITICAL:root:using project dir: /home/kev/crunch/\n"
     ]
    }
   ],
   "source": [
    "import sys\n",
    "import os\n",
    "from os import sep\n",
    "from os.path import dirname, realpath\n",
    "from pathlib import Path\n",
    "from itertools import product\n",
    "import logging\n",
    "\n",
    "def get_cwd(fname, subdir, crunch_dir=realpath(Path.home()) +sep +'crunch' +sep):\n",
    "    \"\"\"\n",
    "    Convenience function to make a directory string for the current file based on inputs.\n",
    "    Jupyter Notebook in Anaconda invokes the Python interpreter in Anaconda's subdirectory\n",
    "    which sis why changing sys.argv[0] is necessary. In the future a better way to do this\n",
    "    should be preferred..\n",
    "    \"\"\"\n",
    "    return crunch_dir +subdir +fname\n",
    "\n",
    "def fix_path(cwd):\n",
    "    \"\"\"\n",
    "    Convenience function to fix argv and python path so that jupyter notebook can run the same as\n",
    "    any script in crunch.\n",
    "    \"\"\"\n",
    "    sys.argv[0] = cwd\n",
    "    module_path = os.path.abspath(os.path.join('..'))\n",
    "    if module_path not in sys.path:\n",
    "        sys.path.append(module_path)\n",
    "\n",
    "fix_path(get_cwd('pattern_eda.ipynb', 'mutate' +sep))\n",
    "\n",
    "import numpy as np\n",
    "import pandas as pd\n",
    "import matplotlib.pyplot as plt\n",
    "from numba import jit, vectorize, float64, uint\n",
    "# from tslearn.preprocessing import TimeSeriesScalerMeanVariance\n",
    "# from tslearn.piecewise import PiecewiseAggregateApproximation\n",
    "# from tslearn.piecewise import SymbolicAggregateApproximation, OneD_SymbolicAggregateApproximation\n",
    "from scipy.stats import zscore\n",
    "from sortedcontainers import SortedList, SortedSet \n",
    "\n",
    "from ipywidgets import interact, interactive, fixed\n",
    "from IPython.display import display\n",
    "\n",
    "pd.set_option(\"display.max_rows\", 200)\n",
    "pd.set_option('display.max_columns', 50)\n",
    "\n",
    "from common_util import RAW_DIR, DT_HOURLY_FREQ, DT_CAL_DAILY_FREQ, DT_BIZ_DAILY_FREQ, get_custom_biz_freq, get_custom_biz_freq_df, query_df, search_df, chained_filter, benchmark\n",
    "from common_util import MUTATE_DIR, load_df, load_json, outer_join, left_join, count_nn_df, count_nz_df, count_nn_nz_df, pairwise, cust_count, list_get_dict, get_time_mask\n",
    "from data.data_api import DataAPI\n",
    "from raw.common import default_row_masksfile\n",
    "from recon.viz import *\n",
    "DataAPI.__init__()\n",
    "logging.basicConfig(stream=sys.stdout, level=logging.DEBUG)"
   ]
  },
  {
   "cell_type": "markdown",
   "metadata": {},
   "source": [
    "## Load Data"
   ]
  },
  {
   "cell_type": "markdown",
   "metadata": {},
   "source": [
    "### RAW"
   ]
  },
  {
   "cell_type": "code",
   "execution_count": 15,
   "metadata": {},
   "outputs": [
    {
     "name": "stderr",
     "output_type": "stream",
     "text": [
      "/home/kev/miniconda3/lib/python3.7/site-packages/pyarrow/pandas_compat.py:708: FutureWarning: .labels was deprecated in version 0.24.0. Use .codes instead.\n",
      "  labels = getattr(columns, 'labels', None) or [\n",
      "/home/kev/miniconda3/lib/python3.7/site-packages/pyarrow/pandas_compat.py:735: FutureWarning: the 'labels' keyword is deprecated, use 'codes' instead\n",
      "  return pd.MultiIndex(levels=new_levels, labels=labels, names=columns.names)\n",
      "/home/kev/miniconda3/lib/python3.7/site-packages/pyarrow/pandas_compat.py:752: FutureWarning: .labels was deprecated in version 0.24.0. Use .codes instead.\n",
      "  labels, = index.labels\n"
     ]
    }
   ],
   "source": [
    "VOL_DIR = RAW_DIR +'vol/'\n",
    "PRICE_DIR = RAW_DIR +'price/'\n",
    "\n",
    "SPX = load_df(PRICE_DIR +'SPX.parquet')\n",
    "RUT = load_df(PRICE_DIR +'RUT.parquet')\n",
    "NDX = load_df(PRICE_DIR +'NDX.parquet')\n",
    "DJI = load_df(PRICE_DIR +'DJI.parquet')\n",
    "VIX = load_df(VOL_DIR +'VIX.parquet')\n",
    "RVX = load_df(VOL_DIR +'RVX.parquet')\n",
    "VXN = load_df(VOL_DIR +'VXN.parquet')\n",
    "DVX = load_df(VOL_DIR +'VXD.parquet')"
   ]
  },
  {
   "cell_type": "code",
   "execution_count": 16,
   "metadata": {},
   "outputs": [],
   "source": [
    "pba = {\n",
    "    'sp_500': SPX,\n",
    "    'russell_2000': RUT,\n",
    "    'dow_jones': DJI,\n",
    "    'nasdaq_100': NDX,    \n",
    "}\n",
    "vol = {\n",
    "    'sp_500': VIX,\n",
    "    'russell_2000': RVX,\n",
    "    'dow_jones': DVX,\n",
    "    'nasdaq_100': VXN,    \n",
    "}"
   ]
  },
  {
   "cell_type": "markdown",
   "metadata": {},
   "source": [
    "### ROOT"
   ]
  },
  {
   "cell_type": "code",
   "execution_count": 3,
   "metadata": {},
   "outputs": [],
   "source": [
    "root_rcs, root_dfs = DataAPI.axe_load(['root', 'root_split_ohlca'])\n",
    "hrm_rcs, hrm_dfs = DataAPI.axe_load(['hrm', 'hrm'], lazy=False)"
   ]
  },
  {
   "cell_type": "markdown",
   "metadata": {},
   "source": [
    "## VIEW"
   ]
  },
  {
   "cell_type": "code",
   "execution_count": 66,
   "metadata": {},
   "outputs": [],
   "source": [
    "day = '2010-04-24'\n",
    "dayl = ('{} 00:00'.format(day), '{} 23:00'.format(day))\n",
    "ass = 'dow_jones'\n",
    "raw_pba = pba[ass]\n",
    "raw_vol = vol[ass]"
   ]
  },
  {
   "cell_type": "code",
   "execution_count": 67,
   "metadata": {},
   "outputs": [
    {
     "data": {
      "text/html": [
       "<div>\n",
       "<style scoped>\n",
       "    .dataframe tbody tr th:only-of-type {\n",
       "        vertical-align: middle;\n",
       "    }\n",
       "\n",
       "    .dataframe tbody tr th {\n",
       "        vertical-align: top;\n",
       "    }\n",
       "\n",
       "    .dataframe thead th {\n",
       "        text-align: right;\n",
       "    }\n",
       "</style>\n",
       "<table border=\"1\" class=\"dataframe\">\n",
       "  <thead>\n",
       "    <tr style=\"text-align: right;\">\n",
       "      <th></th>\n",
       "      <th>pba_gmtOffset</th>\n",
       "      <th>pba_open</th>\n",
       "      <th>pba_high</th>\n",
       "      <th>pba_low</th>\n",
       "      <th>pba_close</th>\n",
       "      <th>pba_volume</th>\n",
       "      <th>pba_avgPrice</th>\n",
       "      <th>pba_numTrades</th>\n",
       "      <th>pba_openBid</th>\n",
       "      <th>pba_highBid</th>\n",
       "      <th>pba_lowBid</th>\n",
       "      <th>pba_closeBid</th>\n",
       "      <th>pba_numBids</th>\n",
       "      <th>pba_openAsk</th>\n",
       "      <th>pba_highAsk</th>\n",
       "      <th>pba_lowAsk</th>\n",
       "      <th>pba_closeAsk</th>\n",
       "      <th>pba_numAsks</th>\n",
       "    </tr>\n",
       "    <tr>\n",
       "      <th>id</th>\n",
       "      <th></th>\n",
       "      <th></th>\n",
       "      <th></th>\n",
       "      <th></th>\n",
       "      <th></th>\n",
       "      <th></th>\n",
       "      <th></th>\n",
       "      <th></th>\n",
       "      <th></th>\n",
       "      <th></th>\n",
       "      <th></th>\n",
       "      <th></th>\n",
       "      <th></th>\n",
       "      <th></th>\n",
       "      <th></th>\n",
       "      <th></th>\n",
       "      <th></th>\n",
       "      <th></th>\n",
       "    </tr>\n",
       "  </thead>\n",
       "  <tbody>\n",
       "    <tr>\n",
       "      <td>2010-04-24 18:00</td>\n",
       "      <td>-4</td>\n",
       "      <td>11145.33</td>\n",
       "      <td>11146.01</td>\n",
       "      <td>11144.87</td>\n",
       "      <td>11144.95</td>\n",
       "      <td>63066612.0</td>\n",
       "      <td>11145.4560</td>\n",
       "      <td>10.0</td>\n",
       "      <td>0.0</td>\n",
       "      <td>0.0</td>\n",
       "      <td>0.0</td>\n",
       "      <td>0.0</td>\n",
       "      <td>0</td>\n",
       "      <td>0.0</td>\n",
       "      <td>0.0</td>\n",
       "      <td>0.0</td>\n",
       "      <td>0.0</td>\n",
       "      <td>0</td>\n",
       "    </tr>\n",
       "    <tr>\n",
       "      <td>2010-04-24 19:00</td>\n",
       "      <td>-4</td>\n",
       "      <td>11145.03</td>\n",
       "      <td>11146.84</td>\n",
       "      <td>11141.93</td>\n",
       "      <td>11145.10</td>\n",
       "      <td>63793084.0</td>\n",
       "      <td>11143.9832</td>\n",
       "      <td>53.0</td>\n",
       "      <td>0.0</td>\n",
       "      <td>0.0</td>\n",
       "      <td>0.0</td>\n",
       "      <td>0.0</td>\n",
       "      <td>0</td>\n",
       "      <td>0.0</td>\n",
       "      <td>0.0</td>\n",
       "      <td>0.0</td>\n",
       "      <td>0.0</td>\n",
       "      <td>0</td>\n",
       "    </tr>\n",
       "  </tbody>\n",
       "</table>\n",
       "</div>"
      ],
      "text/plain": [
       "                  pba_gmtOffset  pba_open  pba_high   pba_low  pba_close  \\\n",
       "id                                                                         \n",
       "2010-04-24 18:00             -4  11145.33  11146.01  11144.87   11144.95   \n",
       "2010-04-24 19:00             -4  11145.03  11146.84  11141.93   11145.10   \n",
       "\n",
       "                  pba_volume  pba_avgPrice  pba_numTrades  pba_openBid  \\\n",
       "id                                                                       \n",
       "2010-04-24 18:00  63066612.0    11145.4560           10.0          0.0   \n",
       "2010-04-24 19:00  63793084.0    11143.9832           53.0          0.0   \n",
       "\n",
       "                  pba_highBid  pba_lowBid  pba_closeBid  pba_numBids  \\\n",
       "id                                                                     \n",
       "2010-04-24 18:00          0.0         0.0           0.0            0   \n",
       "2010-04-24 19:00          0.0         0.0           0.0            0   \n",
       "\n",
       "                  pba_openAsk  pba_highAsk  pba_lowAsk  pba_closeAsk  \\\n",
       "id                                                                     \n",
       "2010-04-24 18:00          0.0          0.0         0.0           0.0   \n",
       "2010-04-24 19:00          0.0          0.0         0.0           0.0   \n",
       "\n",
       "                  pba_numAsks  \n",
       "id                             \n",
       "2010-04-24 18:00            0  \n",
       "2010-04-24 19:00            0  "
      ]
     },
     "execution_count": 67,
     "metadata": {},
     "output_type": "execute_result"
    }
   ],
   "source": [
    "raw_pba.loc[dayl[0]: dayl[1]].dropna()"
   ]
  },
  {
   "cell_type": "code",
   "execution_count": 68,
   "metadata": {},
   "outputs": [
    {
     "data": {
      "text/html": [
       "<div>\n",
       "<style scoped>\n",
       "    .dataframe tbody tr th:only-of-type {\n",
       "        vertical-align: middle;\n",
       "    }\n",
       "\n",
       "    .dataframe tbody tr th {\n",
       "        vertical-align: top;\n",
       "    }\n",
       "\n",
       "    .dataframe thead th {\n",
       "        text-align: right;\n",
       "    }\n",
       "</style>\n",
       "<table border=\"1\" class=\"dataframe\">\n",
       "  <thead>\n",
       "    <tr style=\"text-align: right;\">\n",
       "      <th></th>\n",
       "      <th>pba_open</th>\n",
       "      <th>pba_high</th>\n",
       "      <th>pba_low</th>\n",
       "      <th>pba_close</th>\n",
       "      <th>pba_avgPrice</th>\n",
       "    </tr>\n",
       "    <tr>\n",
       "      <th>id</th>\n",
       "      <th></th>\n",
       "      <th></th>\n",
       "      <th></th>\n",
       "      <th></th>\n",
       "      <th></th>\n",
       "    </tr>\n",
       "  </thead>\n",
       "  <tbody>\n",
       "    <tr>\n",
       "      <td>2010-04-24 18:00:00+00:00</td>\n",
       "      <td>11145.33</td>\n",
       "      <td>11146.01</td>\n",
       "      <td>11144.87</td>\n",
       "      <td>11144.95</td>\n",
       "      <td>11145.4560</td>\n",
       "    </tr>\n",
       "    <tr>\n",
       "      <td>2010-04-24 19:00:00+00:00</td>\n",
       "      <td>11145.03</td>\n",
       "      <td>11146.84</td>\n",
       "      <td>11141.93</td>\n",
       "      <td>11145.10</td>\n",
       "      <td>11143.9832</td>\n",
       "    </tr>\n",
       "  </tbody>\n",
       "</table>\n",
       "</div>"
      ],
      "text/plain": [
       "                           pba_open  pba_high   pba_low  pba_close  \\\n",
       "id                                                                   \n",
       "2010-04-24 18:00:00+00:00  11145.33  11146.01  11144.87   11144.95   \n",
       "2010-04-24 19:00:00+00:00  11145.03  11146.84  11141.93   11145.10   \n",
       "\n",
       "                           pba_avgPrice  \n",
       "id                                       \n",
       "2010-04-24 18:00:00+00:00    11145.4560  \n",
       "2010-04-24 19:00:00+00:00    11143.9832  "
      ]
     },
     "execution_count": 68,
     "metadata": {},
     "output_type": "execute_result"
    }
   ],
   "source": [
    "root_dfs[[ass, 'root', 'root_split_ohlca', 'join', 'pba']].loc[dayl[0]: dayl[1]].dropna()"
   ]
  },
  {
   "cell_type": "code",
   "execution_count": 69,
   "metadata": {},
   "outputs": [
    {
     "data": {
      "text/html": [
       "<div>\n",
       "<style scoped>\n",
       "    .dataframe tbody tr th:only-of-type {\n",
       "        vertical-align: middle;\n",
       "    }\n",
       "\n",
       "    .dataframe tbody tr th {\n",
       "        vertical-align: top;\n",
       "    }\n",
       "\n",
       "    .dataframe thead th {\n",
       "        text-align: right;\n",
       "    }\n",
       "</style>\n",
       "<table border=\"1\" class=\"dataframe\">\n",
       "  <thead>\n",
       "    <tr style=\"text-align: right;\">\n",
       "      <th></th>\n",
       "      <th>times</th>\n",
       "    </tr>\n",
       "    <tr>\n",
       "      <th>id</th>\n",
       "      <th></th>\n",
       "    </tr>\n",
       "  </thead>\n",
       "  <tbody>\n",
       "    <tr>\n",
       "      <td>2010-04-24 18:00:00+00:00</td>\n",
       "      <td>2010-04-24 14:00:00+00:00</td>\n",
       "    </tr>\n",
       "    <tr>\n",
       "      <td>2010-04-24 19:00:00+00:00</td>\n",
       "      <td>2010-04-24 15:00:00+00:00</td>\n",
       "    </tr>\n",
       "  </tbody>\n",
       "</table>\n",
       "</div>"
      ],
      "text/plain": [
       "                                              times\n",
       "id                                                 \n",
       "2010-04-24 18:00:00+00:00 2010-04-24 14:00:00+00:00\n",
       "2010-04-24 19:00:00+00:00 2010-04-24 15:00:00+00:00"
      ]
     },
     "execution_count": 69,
     "metadata": {},
     "output_type": "execute_result"
    }
   ],
   "source": [
    "hrm_dfs[[ass, 'hrm', 'hrm', 'pba', 'pba']].loc[dayl[0]: dayl[1]].dropna()"
   ]
  },
  {
   "cell_type": "code",
   "execution_count": null,
   "metadata": {},
   "outputs": [],
   "source": []
  }
 ],
 "metadata": {
  "kernelspec": {
   "display_name": "Python 3",
   "language": "python",
   "name": "python3"
  },
  "language_info": {
   "codemirror_mode": {
    "name": "ipython",
    "version": 3
   },
   "file_extension": ".py",
   "mimetype": "text/x-python",
   "name": "python",
   "nbconvert_exporter": "python",
   "pygments_lexer": "ipython3",
   "version": "3.7.4"
  }
 },
 "nbformat": 4,
 "nbformat_minor": 2
}
